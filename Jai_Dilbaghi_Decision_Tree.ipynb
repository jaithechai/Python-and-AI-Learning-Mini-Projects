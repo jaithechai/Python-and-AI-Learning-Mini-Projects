{
  "nbformat": 4,
  "nbformat_minor": 0,
  "metadata": {
    "colab": {
      "provenance": []
    },
    "kernelspec": {
      "name": "python3",
      "display_name": "Python 3"
    },
    "language_info": {
      "name": "python"
    }
  },
  "cells": [
    {
      "cell_type": "markdown",
      "source": [
        "# Decision Trees\n",
        "\n",
        "Decision Tree is a supervised ML technique that builds a tree starting at the root by finding the best split at each step along the way.\n",
        "\n",
        "At each step we want to minimize the impurity of the dataset. Impurity refers to the degree of mixing of various classes. Entropy and Gini Index are two commonly used impurity metrics."
      ],
      "metadata": {
        "id": "gz7FdcLd3XrL"
      }
    },
    {
      "cell_type": "code",
      "execution_count": null,
      "metadata": {
        "id": "0ouozzd82qnc"
      },
      "outputs": [],
      "source": [
        "#Import scikit-learn dataset library\n",
        "from sklearn import datasets\n",
        "\n",
        "#Load dataset\n",
        "cancer = datasets.load_breast_cancer(as_frame=True)"
      ]
    },
    {
      "cell_type": "code",
      "source": [
        "df = cancer.frame"
      ],
      "metadata": {
        "id": "WuQU25gR9grU"
      },
      "execution_count": null,
      "outputs": []
    },
    {
      "cell_type": "code",
      "source": [
        "df.head()"
      ],
      "metadata": {
        "colab": {
          "base_uri": "https://localhost:8080/",
          "height": 290
        },
        "id": "3mJcDd3pXqeX",
        "outputId": "a5667be1-be3a-45c5-a3da-0da4922ccb83"
      },
      "execution_count": null,
      "outputs": [
        {
          "output_type": "execute_result",
          "data": {
            "text/plain": [
              "   mean radius  mean texture  mean perimeter  mean area  mean smoothness  \\\n",
              "0        17.99         10.38          122.80     1001.0          0.11840   \n",
              "1        20.57         17.77          132.90     1326.0          0.08474   \n",
              "2        19.69         21.25          130.00     1203.0          0.10960   \n",
              "3        11.42         20.38           77.58      386.1          0.14250   \n",
              "4        20.29         14.34          135.10     1297.0          0.10030   \n",
              "\n",
              "   mean compactness  mean concavity  mean concave points  mean symmetry  \\\n",
              "0           0.27760          0.3001              0.14710         0.2419   \n",
              "1           0.07864          0.0869              0.07017         0.1812   \n",
              "2           0.15990          0.1974              0.12790         0.2069   \n",
              "3           0.28390          0.2414              0.10520         0.2597   \n",
              "4           0.13280          0.1980              0.10430         0.1809   \n",
              "\n",
              "   mean fractal dimension  ...  worst texture  worst perimeter  worst area  \\\n",
              "0                 0.07871  ...          17.33           184.60      2019.0   \n",
              "1                 0.05667  ...          23.41           158.80      1956.0   \n",
              "2                 0.05999  ...          25.53           152.50      1709.0   \n",
              "3                 0.09744  ...          26.50            98.87       567.7   \n",
              "4                 0.05883  ...          16.67           152.20      1575.0   \n",
              "\n",
              "   worst smoothness  worst compactness  worst concavity  worst concave points  \\\n",
              "0            0.1622             0.6656           0.7119                0.2654   \n",
              "1            0.1238             0.1866           0.2416                0.1860   \n",
              "2            0.1444             0.4245           0.4504                0.2430   \n",
              "3            0.2098             0.8663           0.6869                0.2575   \n",
              "4            0.1374             0.2050           0.4000                0.1625   \n",
              "\n",
              "   worst symmetry  worst fractal dimension  target  \n",
              "0          0.4601                  0.11890       0  \n",
              "1          0.2750                  0.08902       0  \n",
              "2          0.3613                  0.08758       0  \n",
              "3          0.6638                  0.17300       0  \n",
              "4          0.2364                  0.07678       0  \n",
              "\n",
              "[5 rows x 31 columns]"
            ],
            "text/html": [
              "\n",
              "  <div id=\"df-416ee718-e996-4a73-b1f1-24ef3d1a1532\" class=\"colab-df-container\">\n",
              "    <div>\n",
              "<style scoped>\n",
              "    .dataframe tbody tr th:only-of-type {\n",
              "        vertical-align: middle;\n",
              "    }\n",
              "\n",
              "    .dataframe tbody tr th {\n",
              "        vertical-align: top;\n",
              "    }\n",
              "\n",
              "    .dataframe thead th {\n",
              "        text-align: right;\n",
              "    }\n",
              "</style>\n",
              "<table border=\"1\" class=\"dataframe\">\n",
              "  <thead>\n",
              "    <tr style=\"text-align: right;\">\n",
              "      <th></th>\n",
              "      <th>mean radius</th>\n",
              "      <th>mean texture</th>\n",
              "      <th>mean perimeter</th>\n",
              "      <th>mean area</th>\n",
              "      <th>mean smoothness</th>\n",
              "      <th>mean compactness</th>\n",
              "      <th>mean concavity</th>\n",
              "      <th>mean concave points</th>\n",
              "      <th>mean symmetry</th>\n",
              "      <th>mean fractal dimension</th>\n",
              "      <th>...</th>\n",
              "      <th>worst texture</th>\n",
              "      <th>worst perimeter</th>\n",
              "      <th>worst area</th>\n",
              "      <th>worst smoothness</th>\n",
              "      <th>worst compactness</th>\n",
              "      <th>worst concavity</th>\n",
              "      <th>worst concave points</th>\n",
              "      <th>worst symmetry</th>\n",
              "      <th>worst fractal dimension</th>\n",
              "      <th>target</th>\n",
              "    </tr>\n",
              "  </thead>\n",
              "  <tbody>\n",
              "    <tr>\n",
              "      <th>0</th>\n",
              "      <td>17.99</td>\n",
              "      <td>10.38</td>\n",
              "      <td>122.80</td>\n",
              "      <td>1001.0</td>\n",
              "      <td>0.11840</td>\n",
              "      <td>0.27760</td>\n",
              "      <td>0.3001</td>\n",
              "      <td>0.14710</td>\n",
              "      <td>0.2419</td>\n",
              "      <td>0.07871</td>\n",
              "      <td>...</td>\n",
              "      <td>17.33</td>\n",
              "      <td>184.60</td>\n",
              "      <td>2019.0</td>\n",
              "      <td>0.1622</td>\n",
              "      <td>0.6656</td>\n",
              "      <td>0.7119</td>\n",
              "      <td>0.2654</td>\n",
              "      <td>0.4601</td>\n",
              "      <td>0.11890</td>\n",
              "      <td>0</td>\n",
              "    </tr>\n",
              "    <tr>\n",
              "      <th>1</th>\n",
              "      <td>20.57</td>\n",
              "      <td>17.77</td>\n",
              "      <td>132.90</td>\n",
              "      <td>1326.0</td>\n",
              "      <td>0.08474</td>\n",
              "      <td>0.07864</td>\n",
              "      <td>0.0869</td>\n",
              "      <td>0.07017</td>\n",
              "      <td>0.1812</td>\n",
              "      <td>0.05667</td>\n",
              "      <td>...</td>\n",
              "      <td>23.41</td>\n",
              "      <td>158.80</td>\n",
              "      <td>1956.0</td>\n",
              "      <td>0.1238</td>\n",
              "      <td>0.1866</td>\n",
              "      <td>0.2416</td>\n",
              "      <td>0.1860</td>\n",
              "      <td>0.2750</td>\n",
              "      <td>0.08902</td>\n",
              "      <td>0</td>\n",
              "    </tr>\n",
              "    <tr>\n",
              "      <th>2</th>\n",
              "      <td>19.69</td>\n",
              "      <td>21.25</td>\n",
              "      <td>130.00</td>\n",
              "      <td>1203.0</td>\n",
              "      <td>0.10960</td>\n",
              "      <td>0.15990</td>\n",
              "      <td>0.1974</td>\n",
              "      <td>0.12790</td>\n",
              "      <td>0.2069</td>\n",
              "      <td>0.05999</td>\n",
              "      <td>...</td>\n",
              "      <td>25.53</td>\n",
              "      <td>152.50</td>\n",
              "      <td>1709.0</td>\n",
              "      <td>0.1444</td>\n",
              "      <td>0.4245</td>\n",
              "      <td>0.4504</td>\n",
              "      <td>0.2430</td>\n",
              "      <td>0.3613</td>\n",
              "      <td>0.08758</td>\n",
              "      <td>0</td>\n",
              "    </tr>\n",
              "    <tr>\n",
              "      <th>3</th>\n",
              "      <td>11.42</td>\n",
              "      <td>20.38</td>\n",
              "      <td>77.58</td>\n",
              "      <td>386.1</td>\n",
              "      <td>0.14250</td>\n",
              "      <td>0.28390</td>\n",
              "      <td>0.2414</td>\n",
              "      <td>0.10520</td>\n",
              "      <td>0.2597</td>\n",
              "      <td>0.09744</td>\n",
              "      <td>...</td>\n",
              "      <td>26.50</td>\n",
              "      <td>98.87</td>\n",
              "      <td>567.7</td>\n",
              "      <td>0.2098</td>\n",
              "      <td>0.8663</td>\n",
              "      <td>0.6869</td>\n",
              "      <td>0.2575</td>\n",
              "      <td>0.6638</td>\n",
              "      <td>0.17300</td>\n",
              "      <td>0</td>\n",
              "    </tr>\n",
              "    <tr>\n",
              "      <th>4</th>\n",
              "      <td>20.29</td>\n",
              "      <td>14.34</td>\n",
              "      <td>135.10</td>\n",
              "      <td>1297.0</td>\n",
              "      <td>0.10030</td>\n",
              "      <td>0.13280</td>\n",
              "      <td>0.1980</td>\n",
              "      <td>0.10430</td>\n",
              "      <td>0.1809</td>\n",
              "      <td>0.05883</td>\n",
              "      <td>...</td>\n",
              "      <td>16.67</td>\n",
              "      <td>152.20</td>\n",
              "      <td>1575.0</td>\n",
              "      <td>0.1374</td>\n",
              "      <td>0.2050</td>\n",
              "      <td>0.4000</td>\n",
              "      <td>0.1625</td>\n",
              "      <td>0.2364</td>\n",
              "      <td>0.07678</td>\n",
              "      <td>0</td>\n",
              "    </tr>\n",
              "  </tbody>\n",
              "</table>\n",
              "<p>5 rows × 31 columns</p>\n",
              "</div>\n",
              "    <div class=\"colab-df-buttons\">\n",
              "\n",
              "  <div class=\"colab-df-container\">\n",
              "    <button class=\"colab-df-convert\" onclick=\"convertToInteractive('df-416ee718-e996-4a73-b1f1-24ef3d1a1532')\"\n",
              "            title=\"Convert this dataframe to an interactive table.\"\n",
              "            style=\"display:none;\">\n",
              "\n",
              "  <svg xmlns=\"http://www.w3.org/2000/svg\" height=\"24px\" viewBox=\"0 -960 960 960\">\n",
              "    <path d=\"M120-120v-720h720v720H120Zm60-500h600v-160H180v160Zm220 220h160v-160H400v160Zm0 220h160v-160H400v160ZM180-400h160v-160H180v160Zm440 0h160v-160H620v160ZM180-180h160v-160H180v160Zm440 0h160v-160H620v160Z\"/>\n",
              "  </svg>\n",
              "    </button>\n",
              "\n",
              "  <style>\n",
              "    .colab-df-container {\n",
              "      display:flex;\n",
              "      gap: 12px;\n",
              "    }\n",
              "\n",
              "    .colab-df-convert {\n",
              "      background-color: #E8F0FE;\n",
              "      border: none;\n",
              "      border-radius: 50%;\n",
              "      cursor: pointer;\n",
              "      display: none;\n",
              "      fill: #1967D2;\n",
              "      height: 32px;\n",
              "      padding: 0 0 0 0;\n",
              "      width: 32px;\n",
              "    }\n",
              "\n",
              "    .colab-df-convert:hover {\n",
              "      background-color: #E2EBFA;\n",
              "      box-shadow: 0px 1px 2px rgba(60, 64, 67, 0.3), 0px 1px 3px 1px rgba(60, 64, 67, 0.15);\n",
              "      fill: #174EA6;\n",
              "    }\n",
              "\n",
              "    .colab-df-buttons div {\n",
              "      margin-bottom: 4px;\n",
              "    }\n",
              "\n",
              "    [theme=dark] .colab-df-convert {\n",
              "      background-color: #3B4455;\n",
              "      fill: #D2E3FC;\n",
              "    }\n",
              "\n",
              "    [theme=dark] .colab-df-convert:hover {\n",
              "      background-color: #434B5C;\n",
              "      box-shadow: 0px 1px 3px 1px rgba(0, 0, 0, 0.15);\n",
              "      filter: drop-shadow(0px 1px 2px rgba(0, 0, 0, 0.3));\n",
              "      fill: #FFFFFF;\n",
              "    }\n",
              "  </style>\n",
              "\n",
              "    <script>\n",
              "      const buttonEl =\n",
              "        document.querySelector('#df-416ee718-e996-4a73-b1f1-24ef3d1a1532 button.colab-df-convert');\n",
              "      buttonEl.style.display =\n",
              "        google.colab.kernel.accessAllowed ? 'block' : 'none';\n",
              "\n",
              "      async function convertToInteractive(key) {\n",
              "        const element = document.querySelector('#df-416ee718-e996-4a73-b1f1-24ef3d1a1532');\n",
              "        const dataTable =\n",
              "          await google.colab.kernel.invokeFunction('convertToInteractive',\n",
              "                                                    [key], {});\n",
              "        if (!dataTable) return;\n",
              "\n",
              "        const docLinkHtml = 'Like what you see? Visit the ' +\n",
              "          '<a target=\"_blank\" href=https://colab.research.google.com/notebooks/data_table.ipynb>data table notebook</a>'\n",
              "          + ' to learn more about interactive tables.';\n",
              "        element.innerHTML = '';\n",
              "        dataTable['output_type'] = 'display_data';\n",
              "        await google.colab.output.renderOutput(dataTable, element);\n",
              "        const docLink = document.createElement('div');\n",
              "        docLink.innerHTML = docLinkHtml;\n",
              "        element.appendChild(docLink);\n",
              "      }\n",
              "    </script>\n",
              "  </div>\n",
              "\n",
              "\n",
              "<div id=\"df-9551ce92-80d8-4cb7-9d1d-20f5c791d4bc\">\n",
              "  <button class=\"colab-df-quickchart\" onclick=\"quickchart('df-9551ce92-80d8-4cb7-9d1d-20f5c791d4bc')\"\n",
              "            title=\"Suggest charts\"\n",
              "            style=\"display:none;\">\n",
              "\n",
              "<svg xmlns=\"http://www.w3.org/2000/svg\" height=\"24px\"viewBox=\"0 0 24 24\"\n",
              "     width=\"24px\">\n",
              "    <g>\n",
              "        <path d=\"M19 3H5c-1.1 0-2 .9-2 2v14c0 1.1.9 2 2 2h14c1.1 0 2-.9 2-2V5c0-1.1-.9-2-2-2zM9 17H7v-7h2v7zm4 0h-2V7h2v10zm4 0h-2v-4h2v4z\"/>\n",
              "    </g>\n",
              "</svg>\n",
              "  </button>\n",
              "\n",
              "<style>\n",
              "  .colab-df-quickchart {\n",
              "      --bg-color: #E8F0FE;\n",
              "      --fill-color: #1967D2;\n",
              "      --hover-bg-color: #E2EBFA;\n",
              "      --hover-fill-color: #174EA6;\n",
              "      --disabled-fill-color: #AAA;\n",
              "      --disabled-bg-color: #DDD;\n",
              "  }\n",
              "\n",
              "  [theme=dark] .colab-df-quickchart {\n",
              "      --bg-color: #3B4455;\n",
              "      --fill-color: #D2E3FC;\n",
              "      --hover-bg-color: #434B5C;\n",
              "      --hover-fill-color: #FFFFFF;\n",
              "      --disabled-bg-color: #3B4455;\n",
              "      --disabled-fill-color: #666;\n",
              "  }\n",
              "\n",
              "  .colab-df-quickchart {\n",
              "    background-color: var(--bg-color);\n",
              "    border: none;\n",
              "    border-radius: 50%;\n",
              "    cursor: pointer;\n",
              "    display: none;\n",
              "    fill: var(--fill-color);\n",
              "    height: 32px;\n",
              "    padding: 0;\n",
              "    width: 32px;\n",
              "  }\n",
              "\n",
              "  .colab-df-quickchart:hover {\n",
              "    background-color: var(--hover-bg-color);\n",
              "    box-shadow: 0 1px 2px rgba(60, 64, 67, 0.3), 0 1px 3px 1px rgba(60, 64, 67, 0.15);\n",
              "    fill: var(--button-hover-fill-color);\n",
              "  }\n",
              "\n",
              "  .colab-df-quickchart-complete:disabled,\n",
              "  .colab-df-quickchart-complete:disabled:hover {\n",
              "    background-color: var(--disabled-bg-color);\n",
              "    fill: var(--disabled-fill-color);\n",
              "    box-shadow: none;\n",
              "  }\n",
              "\n",
              "  .colab-df-spinner {\n",
              "    border: 2px solid var(--fill-color);\n",
              "    border-color: transparent;\n",
              "    border-bottom-color: var(--fill-color);\n",
              "    animation:\n",
              "      spin 1s steps(1) infinite;\n",
              "  }\n",
              "\n",
              "  @keyframes spin {\n",
              "    0% {\n",
              "      border-color: transparent;\n",
              "      border-bottom-color: var(--fill-color);\n",
              "      border-left-color: var(--fill-color);\n",
              "    }\n",
              "    20% {\n",
              "      border-color: transparent;\n",
              "      border-left-color: var(--fill-color);\n",
              "      border-top-color: var(--fill-color);\n",
              "    }\n",
              "    30% {\n",
              "      border-color: transparent;\n",
              "      border-left-color: var(--fill-color);\n",
              "      border-top-color: var(--fill-color);\n",
              "      border-right-color: var(--fill-color);\n",
              "    }\n",
              "    40% {\n",
              "      border-color: transparent;\n",
              "      border-right-color: var(--fill-color);\n",
              "      border-top-color: var(--fill-color);\n",
              "    }\n",
              "    60% {\n",
              "      border-color: transparent;\n",
              "      border-right-color: var(--fill-color);\n",
              "    }\n",
              "    80% {\n",
              "      border-color: transparent;\n",
              "      border-right-color: var(--fill-color);\n",
              "      border-bottom-color: var(--fill-color);\n",
              "    }\n",
              "    90% {\n",
              "      border-color: transparent;\n",
              "      border-bottom-color: var(--fill-color);\n",
              "    }\n",
              "  }\n",
              "</style>\n",
              "\n",
              "  <script>\n",
              "    async function quickchart(key) {\n",
              "      const quickchartButtonEl =\n",
              "        document.querySelector('#' + key + ' button');\n",
              "      quickchartButtonEl.disabled = true;  // To prevent multiple clicks.\n",
              "      quickchartButtonEl.classList.add('colab-df-spinner');\n",
              "      try {\n",
              "        const charts = await google.colab.kernel.invokeFunction(\n",
              "            'suggestCharts', [key], {});\n",
              "      } catch (error) {\n",
              "        console.error('Error during call to suggestCharts:', error);\n",
              "      }\n",
              "      quickchartButtonEl.classList.remove('colab-df-spinner');\n",
              "      quickchartButtonEl.classList.add('colab-df-quickchart-complete');\n",
              "    }\n",
              "    (() => {\n",
              "      let quickchartButtonEl =\n",
              "        document.querySelector('#df-9551ce92-80d8-4cb7-9d1d-20f5c791d4bc button');\n",
              "      quickchartButtonEl.style.display =\n",
              "        google.colab.kernel.accessAllowed ? 'block' : 'none';\n",
              "    })();\n",
              "  </script>\n",
              "</div>\n",
              "\n",
              "    </div>\n",
              "  </div>\n"
            ],
            "application/vnd.google.colaboratory.intrinsic+json": {
              "type": "dataframe",
              "variable_name": "df"
            }
          },
          "metadata": {},
          "execution_count": 17
        }
      ]
    },
    {
      "cell_type": "code",
      "source": [
        "df['target'].value_counts()"
      ],
      "metadata": {
        "colab": {
          "base_uri": "https://localhost:8080/"
        },
        "id": "Z6J7-8b3X73g",
        "outputId": "8ea49230-3a97-429f-f3a8-d34acb0de5eb"
      },
      "execution_count": null,
      "outputs": [
        {
          "output_type": "execute_result",
          "data": {
            "text/plain": [
              "target\n",
              "1    357\n",
              "0    212\n",
              "Name: count, dtype: int64"
            ]
          },
          "metadata": {},
          "execution_count": 18
        }
      ]
    },
    {
      "cell_type": "code",
      "source": [
        "X = df.drop('target', axis=1)\n",
        "y = df['target']"
      ],
      "metadata": {
        "id": "LjZCrUvP9PJX"
      },
      "execution_count": null,
      "outputs": []
    },
    {
      "cell_type": "code",
      "source": [
        "from sklearn.model_selection import train_test_split\n",
        "X_train, X_test, y_train, y_test = train_test_split(X, y, test_size=0.2, random_state=42)"
      ],
      "metadata": {
        "id": "4yyTBTFc9hXh"
      },
      "execution_count": null,
      "outputs": []
    },
    {
      "cell_type": "code",
      "source": [
        "from sklearn.tree import DecisionTreeClassifier\n",
        "# Create Decision Tree classifer object\n",
        "clf = DecisionTreeClassifier()\n",
        "\n",
        "# Train Decision Tree Classifer\n",
        "clf = clf.fit(X_train,y_train)\n",
        "\n",
        "#Predict the response for test dataset\n",
        "y_pred = clf.predict(X_test)"
      ],
      "metadata": {
        "id": "egCbtz-V9k00"
      },
      "execution_count": null,
      "outputs": []
    },
    {
      "cell_type": "code",
      "source": [
        "y_pred"
      ],
      "metadata": {
        "colab": {
          "base_uri": "https://localhost:8080/"
        },
        "id": "Dp0YCBp09pzu",
        "outputId": "a51ac2f2-17e5-4c91-df0e-eacc360acb51"
      },
      "execution_count": null,
      "outputs": [
        {
          "output_type": "execute_result",
          "data": {
            "text/plain": [
              "array([1, 0, 0, 1, 1, 0, 0, 0, 0, 1, 1, 0, 1, 0, 1, 0, 1, 1, 1, 0, 1, 1,\n",
              "       0, 1, 1, 1, 1, 1, 1, 0, 1, 1, 1, 1, 1, 1, 0, 1, 0, 1, 1, 0, 1, 1,\n",
              "       1, 1, 0, 1, 1, 1, 0, 0, 1, 1, 1, 1, 1, 0, 0, 1, 1, 0, 0, 1, 1, 1,\n",
              "       0, 0, 1, 1, 0, 0, 1, 0, 1, 1, 1, 1, 1, 1, 0, 1, 1, 0, 0, 0, 0, 0,\n",
              "       1, 1, 1, 1, 1, 1, 1, 1, 0, 0, 1, 0, 0, 1, 0, 0, 1, 1, 1, 0, 0, 1,\n",
              "       0, 1, 1, 0])"
            ]
          },
          "metadata": {},
          "execution_count": 22
        }
      ]
    },
    {
      "cell_type": "code",
      "source": [
        "y_test"
      ],
      "metadata": {
        "colab": {
          "base_uri": "https://localhost:8080/"
        },
        "id": "kTswOVDs9rdo",
        "outputId": "5601b4f2-8874-4e7b-d839-5032e65a95ca"
      },
      "execution_count": null,
      "outputs": [
        {
          "output_type": "execute_result",
          "data": {
            "text/plain": [
              "204    1\n",
              "70     0\n",
              "131    0\n",
              "431    1\n",
              "540    1\n",
              "      ..\n",
              "486    1\n",
              "75     0\n",
              "249    1\n",
              "238    1\n",
              "265    0\n",
              "Name: target, Length: 114, dtype: int64"
            ]
          },
          "metadata": {},
          "execution_count": 23
        }
      ]
    },
    {
      "cell_type": "code",
      "source": [
        "from sklearn.metrics import confusion_matrix, classification_report\n",
        "print(classification_report(y_test, y_pred))\n",
        "confusion_matrix(y_test, y_pred)"
      ],
      "metadata": {
        "colab": {
          "base_uri": "https://localhost:8080/"
        },
        "id": "HJPWfC4U9tBV",
        "outputId": "1ca21c25-c4e5-46b4-af75-d5961e8d2905"
      },
      "execution_count": null,
      "outputs": [
        {
          "output_type": "stream",
          "name": "stdout",
          "text": [
            "              precision    recall  f1-score   support\n",
            "\n",
            "           0       0.93      0.93      0.93        43\n",
            "           1       0.96      0.96      0.96        71\n",
            "\n",
            "    accuracy                           0.95       114\n",
            "   macro avg       0.94      0.94      0.94       114\n",
            "weighted avg       0.95      0.95      0.95       114\n",
            "\n"
          ]
        },
        {
          "output_type": "execute_result",
          "data": {
            "text/plain": [
              "array([[40,  3],\n",
              "       [ 3, 68]])"
            ]
          },
          "metadata": {},
          "execution_count": 24
        }
      ]
    },
    {
      "cell_type": "code",
      "source": [
        "!pip install graphviz"
      ],
      "metadata": {
        "colab": {
          "base_uri": "https://localhost:8080/"
        },
        "id": "M5DsXkYU9xwz",
        "outputId": "0baa306d-5143-4d3b-977d-073d8df8645e"
      },
      "execution_count": null,
      "outputs": [
        {
          "output_type": "stream",
          "name": "stdout",
          "text": [
            "Requirement already satisfied: graphviz in /usr/local/lib/python3.10/dist-packages (0.20.3)\n"
          ]
        }
      ]
    },
    {
      "cell_type": "code",
      "source": [
        "classes = y.unique()"
      ],
      "metadata": {
        "id": "ryGwms7R-AkT"
      },
      "execution_count": null,
      "outputs": []
    },
    {
      "cell_type": "code",
      "source": [
        "import graphviz\n",
        "from sklearn import tree\n",
        "dot_data = tree.export_graphviz(clf, out_file=None,\n",
        "                     feature_names = X.columns,class_names=['0','1'],\n",
        "                     filled=True, rounded=True,\n",
        "                     special_characters=True)\n",
        "graph = graphviz.Source(dot_data)\n",
        "graph"
      ],
      "metadata": {
        "colab": {
          "base_uri": "https://localhost:8080/",
          "height": 1000
        },
        "id": "GgPEIGYI-EYX",
        "outputId": "620498e0-58da-4dbd-9c48-80517ffd85f4"
      },
      "execution_count": null,
      "outputs": [
        {
          "output_type": "execute_result",
          "data": {
            "image/svg+xml": "<?xml version=\"1.0\" encoding=\"UTF-8\" standalone=\"no\"?>\n<!DOCTYPE svg PUBLIC \"-//W3C//DTD SVG 1.1//EN\"\n \"http://www.w3.org/Graphics/SVG/1.1/DTD/svg11.dtd\">\n<!-- Generated by graphviz version 2.43.0 (0)\n -->\n<!-- Title: Tree Pages: 1 -->\n<svg width=\"1507pt\" height=\"909pt\"\n viewBox=\"0.00 0.00 1507.00 909.00\" xmlns=\"http://www.w3.org/2000/svg\" xmlns:xlink=\"http://www.w3.org/1999/xlink\">\n<g id=\"graph0\" class=\"graph\" transform=\"scale(1 1) rotate(0) translate(4 905)\">\n<title>Tree</title>\n<polygon fill=\"white\" stroke=\"transparent\" points=\"-4,4 -4,-905 1503,-905 1503,4 -4,4\"/>\n<!-- 0 -->\n<g id=\"node1\" class=\"node\">\n<title>0</title>\n<path fill=\"#aed7f4\" stroke=\"black\" d=\"M1054.5,-901C1054.5,-901 884.5,-901 884.5,-901 878.5,-901 872.5,-895 872.5,-889 872.5,-889 872.5,-830 872.5,-830 872.5,-824 878.5,-818 884.5,-818 884.5,-818 1054.5,-818 1054.5,-818 1060.5,-818 1066.5,-824 1066.5,-830 1066.5,-830 1066.5,-889 1066.5,-889 1066.5,-895 1060.5,-901 1054.5,-901\"/>\n<text text-anchor=\"start\" x=\"880.5\" y=\"-885.8\" font-family=\"Helvetica,sans-Serif\" font-size=\"14.00\">mean concave points ≤ 0.051</text>\n<text text-anchor=\"start\" x=\"934\" y=\"-870.8\" font-family=\"Helvetica,sans-Serif\" font-size=\"14.00\">gini = 0.467</text>\n<text text-anchor=\"start\" x=\"924.5\" y=\"-855.8\" font-family=\"Helvetica,sans-Serif\" font-size=\"14.00\">samples = 455</text>\n<text text-anchor=\"start\" x=\"915\" y=\"-840.8\" font-family=\"Helvetica,sans-Serif\" font-size=\"14.00\">value = [169, 286]</text>\n<text text-anchor=\"start\" x=\"942\" y=\"-825.8\" font-family=\"Helvetica,sans-Serif\" font-size=\"14.00\">class = 1</text>\n</g>\n<!-- 1 -->\n<g id=\"node2\" class=\"node\">\n<title>1</title>\n<path fill=\"#45a3e7\" stroke=\"black\" d=\"M856.5,-782C856.5,-782 742.5,-782 742.5,-782 736.5,-782 730.5,-776 730.5,-770 730.5,-770 730.5,-711 730.5,-711 730.5,-705 736.5,-699 742.5,-699 742.5,-699 856.5,-699 856.5,-699 862.5,-699 868.5,-705 868.5,-711 868.5,-711 868.5,-770 868.5,-770 868.5,-776 862.5,-782 856.5,-782\"/>\n<text text-anchor=\"start\" x=\"738.5\" y=\"-766.8\" font-family=\"Helvetica,sans-Serif\" font-size=\"14.00\">worst radius ≤ 16.83</text>\n<text text-anchor=\"start\" x=\"764\" y=\"-751.8\" font-family=\"Helvetica,sans-Serif\" font-size=\"14.00\">gini = 0.107</text>\n<text text-anchor=\"start\" x=\"754.5\" y=\"-736.8\" font-family=\"Helvetica,sans-Serif\" font-size=\"14.00\">samples = 282</text>\n<text text-anchor=\"start\" x=\"749\" y=\"-721.8\" font-family=\"Helvetica,sans-Serif\" font-size=\"14.00\">value = [16, 266]</text>\n<text text-anchor=\"start\" x=\"772\" y=\"-706.8\" font-family=\"Helvetica,sans-Serif\" font-size=\"14.00\">class = 1</text>\n</g>\n<!-- 0&#45;&gt;1 -->\n<g id=\"edge1\" class=\"edge\">\n<title>0&#45;&gt;1</title>\n<path fill=\"none\" stroke=\"black\" d=\"M910.52,-817.91C896.41,-808.2 881.24,-797.76 866.79,-787.81\"/>\n<polygon fill=\"black\" stroke=\"black\" points=\"868.6,-784.81 858.38,-782.02 864.63,-790.57 868.6,-784.81\"/>\n<text text-anchor=\"middle\" x=\"862.92\" y=\"-802.91\" font-family=\"Helvetica,sans-Serif\" font-size=\"14.00\">True</text>\n</g>\n<!-- 22 -->\n<g id=\"node23\" class=\"node\">\n<title>22</title>\n<path fill=\"#e89153\" stroke=\"black\" d=\"M1178,-782C1178,-782 1011,-782 1011,-782 1005,-782 999,-776 999,-770 999,-770 999,-711 999,-711 999,-705 1005,-699 1011,-699 1011,-699 1178,-699 1178,-699 1184,-699 1190,-705 1190,-711 1190,-711 1190,-770 1190,-770 1190,-776 1184,-782 1178,-782\"/>\n<text text-anchor=\"start\" x=\"1007\" y=\"-766.8\" font-family=\"Helvetica,sans-Serif\" font-size=\"14.00\">worst concave points ≤ 0.147</text>\n<text text-anchor=\"start\" x=\"1059\" y=\"-751.8\" font-family=\"Helvetica,sans-Serif\" font-size=\"14.00\">gini = 0.204</text>\n<text text-anchor=\"start\" x=\"1049.5\" y=\"-736.8\" font-family=\"Helvetica,sans-Serif\" font-size=\"14.00\">samples = 173</text>\n<text text-anchor=\"start\" x=\"1044\" y=\"-721.8\" font-family=\"Helvetica,sans-Serif\" font-size=\"14.00\">value = [153, 20]</text>\n<text text-anchor=\"start\" x=\"1067\" y=\"-706.8\" font-family=\"Helvetica,sans-Serif\" font-size=\"14.00\">class = 0</text>\n</g>\n<!-- 0&#45;&gt;22 -->\n<g id=\"edge22\" class=\"edge\">\n<title>0&#45;&gt;22</title>\n<path fill=\"none\" stroke=\"black\" d=\"M1012.87,-817.91C1022.85,-808.56 1033.56,-798.54 1043.83,-788.93\"/>\n<polygon fill=\"black\" stroke=\"black\" points=\"1046.3,-791.41 1051.21,-782.02 1041.52,-786.3 1046.3,-791.41\"/>\n<text text-anchor=\"middle\" x=\"1050.38\" y=\"-803.31\" font-family=\"Helvetica,sans-Serif\" font-size=\"14.00\">False</text>\n</g>\n<!-- 2 -->\n<g id=\"node3\" class=\"node\">\n<title>2</title>\n<path fill=\"#3d9fe6\" stroke=\"black\" d=\"M611,-663C611,-663 518,-663 518,-663 512,-663 506,-657 506,-651 506,-651 506,-592 506,-592 506,-586 512,-580 518,-580 518,-580 611,-580 611,-580 617,-580 623,-586 623,-592 623,-592 623,-651 623,-651 623,-657 617,-663 611,-663\"/>\n<text text-anchor=\"start\" x=\"514\" y=\"-647.8\" font-family=\"Helvetica,sans-Serif\" font-size=\"14.00\">area error ≤ 48.7</text>\n<text text-anchor=\"start\" x=\"529\" y=\"-632.8\" font-family=\"Helvetica,sans-Serif\" font-size=\"14.00\">gini = 0.037</text>\n<text text-anchor=\"start\" x=\"519.5\" y=\"-617.8\" font-family=\"Helvetica,sans-Serif\" font-size=\"14.00\">samples = 263</text>\n<text text-anchor=\"start\" x=\"517.5\" y=\"-602.8\" font-family=\"Helvetica,sans-Serif\" font-size=\"14.00\">value = [5, 258]</text>\n<text text-anchor=\"start\" x=\"537\" y=\"-587.8\" font-family=\"Helvetica,sans-Serif\" font-size=\"14.00\">class = 1</text>\n</g>\n<!-- 1&#45;&gt;2 -->\n<g id=\"edge2\" class=\"edge\">\n<title>1&#45;&gt;2</title>\n<path fill=\"none\" stroke=\"black\" d=\"M730.26,-705.03C699.47,-689.7 663.32,-671.7 632.65,-656.43\"/>\n<polygon fill=\"black\" stroke=\"black\" points=\"633.83,-653.11 623.32,-651.78 630.71,-659.37 633.83,-653.11\"/>\n</g>\n<!-- 17 -->\n<g id=\"node18\" class=\"node\">\n<title>17</title>\n<path fill=\"#f8ddc9\" stroke=\"black\" d=\"M859,-663C859,-663 740,-663 740,-663 734,-663 728,-657 728,-651 728,-651 728,-592 728,-592 728,-586 734,-580 740,-580 740,-580 859,-580 859,-580 865,-580 871,-586 871,-592 871,-592 871,-651 871,-651 871,-657 865,-663 859,-663\"/>\n<text text-anchor=\"start\" x=\"736\" y=\"-647.8\" font-family=\"Helvetica,sans-Serif\" font-size=\"14.00\">worst texture ≤ 19.91</text>\n<text text-anchor=\"start\" x=\"764\" y=\"-632.8\" font-family=\"Helvetica,sans-Serif\" font-size=\"14.00\">gini = 0.488</text>\n<text text-anchor=\"start\" x=\"758.5\" y=\"-617.8\" font-family=\"Helvetica,sans-Serif\" font-size=\"14.00\">samples = 19</text>\n<text text-anchor=\"start\" x=\"756.5\" y=\"-602.8\" font-family=\"Helvetica,sans-Serif\" font-size=\"14.00\">value = [11, 8]</text>\n<text text-anchor=\"start\" x=\"772\" y=\"-587.8\" font-family=\"Helvetica,sans-Serif\" font-size=\"14.00\">class = 0</text>\n</g>\n<!-- 1&#45;&gt;17 -->\n<g id=\"edge17\" class=\"edge\">\n<title>1&#45;&gt;17</title>\n<path fill=\"none\" stroke=\"black\" d=\"M799.5,-698.91C799.5,-690.65 799.5,-681.86 799.5,-673.3\"/>\n<polygon fill=\"black\" stroke=\"black\" points=\"803,-673.02 799.5,-663.02 796,-673.02 803,-673.02\"/>\n</g>\n<!-- 3 -->\n<g id=\"node4\" class=\"node\">\n<title>3</title>\n<path fill=\"#3b9ee5\" stroke=\"black\" d=\"M443,-544C443,-544 292,-544 292,-544 286,-544 280,-538 280,-532 280,-532 280,-473 280,-473 280,-467 286,-461 292,-461 292,-461 443,-461 443,-461 449,-461 455,-467 455,-473 455,-473 455,-532 455,-532 455,-538 449,-544 443,-544\"/>\n<text text-anchor=\"start\" x=\"288\" y=\"-528.8\" font-family=\"Helvetica,sans-Serif\" font-size=\"14.00\">worst smoothness ≤ 0.178</text>\n<text text-anchor=\"start\" x=\"332\" y=\"-513.8\" font-family=\"Helvetica,sans-Serif\" font-size=\"14.00\">gini = 0.023</text>\n<text text-anchor=\"start\" x=\"322.5\" y=\"-498.8\" font-family=\"Helvetica,sans-Serif\" font-size=\"14.00\">samples = 260</text>\n<text text-anchor=\"start\" x=\"320.5\" y=\"-483.8\" font-family=\"Helvetica,sans-Serif\" font-size=\"14.00\">value = [3, 257]</text>\n<text text-anchor=\"start\" x=\"340\" y=\"-468.8\" font-family=\"Helvetica,sans-Serif\" font-size=\"14.00\">class = 1</text>\n</g>\n<!-- 2&#45;&gt;3 -->\n<g id=\"edge3\" class=\"edge\">\n<title>2&#45;&gt;3</title>\n<path fill=\"none\" stroke=\"black\" d=\"M505.93,-585.71C486.67,-574.28 464.97,-561.39 444.56,-549.27\"/>\n<polygon fill=\"black\" stroke=\"black\" points=\"446.29,-546.22 435.9,-544.12 442.71,-552.24 446.29,-546.22\"/>\n</g>\n<!-- 14 -->\n<g id=\"node15\" class=\"node\">\n<title>14</title>\n<path fill=\"#f2c09c\" stroke=\"black\" d=\"M643.5,-544C643.5,-544 485.5,-544 485.5,-544 479.5,-544 473.5,-538 473.5,-532 473.5,-532 473.5,-473 473.5,-473 473.5,-467 479.5,-461 485.5,-461 485.5,-461 643.5,-461 643.5,-461 649.5,-461 655.5,-467 655.5,-473 655.5,-473 655.5,-532 655.5,-532 655.5,-538 649.5,-544 643.5,-544\"/>\n<text text-anchor=\"start\" x=\"481.5\" y=\"-528.8\" font-family=\"Helvetica,sans-Serif\" font-size=\"14.00\">worst compactness ≤ 0.085</text>\n<text text-anchor=\"start\" x=\"529\" y=\"-513.8\" font-family=\"Helvetica,sans-Serif\" font-size=\"14.00\">gini = 0.444</text>\n<text text-anchor=\"start\" x=\"527\" y=\"-498.8\" font-family=\"Helvetica,sans-Serif\" font-size=\"14.00\">samples = 3</text>\n<text text-anchor=\"start\" x=\"525\" y=\"-483.8\" font-family=\"Helvetica,sans-Serif\" font-size=\"14.00\">value = [2, 1]</text>\n<text text-anchor=\"start\" x=\"537\" y=\"-468.8\" font-family=\"Helvetica,sans-Serif\" font-size=\"14.00\">class = 0</text>\n</g>\n<!-- 2&#45;&gt;14 -->\n<g id=\"edge14\" class=\"edge\">\n<title>2&#45;&gt;14</title>\n<path fill=\"none\" stroke=\"black\" d=\"M564.5,-579.91C564.5,-571.65 564.5,-562.86 564.5,-554.3\"/>\n<polygon fill=\"black\" stroke=\"black\" points=\"568,-554.02 564.5,-544.02 561,-554.02 568,-554.02\"/>\n</g>\n<!-- 4 -->\n<g id=\"node5\" class=\"node\">\n<title>4</title>\n<path fill=\"#3b9ee5\" stroke=\"black\" d=\"M311,-425C311,-425 164,-425 164,-425 158,-425 152,-419 152,-413 152,-413 152,-354 152,-354 152,-348 158,-342 164,-342 164,-342 311,-342 311,-342 317,-342 323,-348 323,-354 323,-354 323,-413 323,-413 323,-419 317,-425 311,-425\"/>\n<text text-anchor=\"start\" x=\"160\" y=\"-409.8\" font-family=\"Helvetica,sans-Serif\" font-size=\"14.00\">smoothness error ≤ 0.003</text>\n<text text-anchor=\"start\" x=\"202\" y=\"-394.8\" font-family=\"Helvetica,sans-Serif\" font-size=\"14.00\">gini = 0.015</text>\n<text text-anchor=\"start\" x=\"192.5\" y=\"-379.8\" font-family=\"Helvetica,sans-Serif\" font-size=\"14.00\">samples = 259</text>\n<text text-anchor=\"start\" x=\"190.5\" y=\"-364.8\" font-family=\"Helvetica,sans-Serif\" font-size=\"14.00\">value = [2, 257]</text>\n<text text-anchor=\"start\" x=\"210\" y=\"-349.8\" font-family=\"Helvetica,sans-Serif\" font-size=\"14.00\">class = 1</text>\n</g>\n<!-- 3&#45;&gt;4 -->\n<g id=\"edge4\" class=\"edge\">\n<title>3&#45;&gt;4</title>\n<path fill=\"none\" stroke=\"black\" d=\"M322.4,-460.91C312.01,-451.56 300.88,-441.54 290.2,-431.93\"/>\n<polygon fill=\"black\" stroke=\"black\" points=\"292.3,-429.11 282.52,-425.02 287.61,-434.31 292.3,-429.11\"/>\n</g>\n<!-- 13 -->\n<g id=\"node14\" class=\"node\">\n<title>13</title>\n<path fill=\"#e58139\" stroke=\"black\" d=\"M424,-417.5C424,-417.5 353,-417.5 353,-417.5 347,-417.5 341,-411.5 341,-405.5 341,-405.5 341,-361.5 341,-361.5 341,-355.5 347,-349.5 353,-349.5 353,-349.5 424,-349.5 424,-349.5 430,-349.5 436,-355.5 436,-361.5 436,-361.5 436,-405.5 436,-405.5 436,-411.5 430,-417.5 424,-417.5\"/>\n<text text-anchor=\"start\" x=\"360.5\" y=\"-402.3\" font-family=\"Helvetica,sans-Serif\" font-size=\"14.00\">gini = 0.0</text>\n<text text-anchor=\"start\" x=\"351\" y=\"-387.3\" font-family=\"Helvetica,sans-Serif\" font-size=\"14.00\">samples = 1</text>\n<text text-anchor=\"start\" x=\"349\" y=\"-372.3\" font-family=\"Helvetica,sans-Serif\" font-size=\"14.00\">value = [1, 0]</text>\n<text text-anchor=\"start\" x=\"361\" y=\"-357.3\" font-family=\"Helvetica,sans-Serif\" font-size=\"14.00\">class = 0</text>\n</g>\n<!-- 3&#45;&gt;13 -->\n<g id=\"edge13\" class=\"edge\">\n<title>3&#45;&gt;13</title>\n<path fill=\"none\" stroke=\"black\" d=\"M374.79,-460.91C376.71,-450.2 378.79,-438.62 380.73,-427.78\"/>\n<polygon fill=\"black\" stroke=\"black\" points=\"384.23,-428.13 382.55,-417.67 377.34,-426.89 384.23,-428.13\"/>\n</g>\n<!-- 5 -->\n<g id=\"node6\" class=\"node\">\n<title>5</title>\n<path fill=\"#5aade9\" stroke=\"black\" d=\"M230.5,-306C230.5,-306 54.5,-306 54.5,-306 48.5,-306 42.5,-300 42.5,-294 42.5,-294 42.5,-235 42.5,-235 42.5,-229 48.5,-223 54.5,-223 54.5,-223 230.5,-223 230.5,-223 236.5,-223 242.5,-229 242.5,-235 242.5,-235 242.5,-294 242.5,-294 242.5,-300 236.5,-306 230.5,-306\"/>\n<text text-anchor=\"start\" x=\"50.5\" y=\"-290.8\" font-family=\"Helvetica,sans-Serif\" font-size=\"14.00\">fractal dimension error ≤ 0.001</text>\n<text text-anchor=\"start\" x=\"107\" y=\"-275.8\" font-family=\"Helvetica,sans-Serif\" font-size=\"14.00\">gini = 0.245</text>\n<text text-anchor=\"start\" x=\"105\" y=\"-260.8\" font-family=\"Helvetica,sans-Serif\" font-size=\"14.00\">samples = 7</text>\n<text text-anchor=\"start\" x=\"103\" y=\"-245.8\" font-family=\"Helvetica,sans-Serif\" font-size=\"14.00\">value = [1, 6]</text>\n<text text-anchor=\"start\" x=\"115\" y=\"-230.8\" font-family=\"Helvetica,sans-Serif\" font-size=\"14.00\">class = 1</text>\n</g>\n<!-- 4&#45;&gt;5 -->\n<g id=\"edge5\" class=\"edge\">\n<title>4&#45;&gt;5</title>\n<path fill=\"none\" stroke=\"black\" d=\"M204.54,-341.91C197.25,-332.92 189.44,-323.32 181.92,-314.05\"/>\n<polygon fill=\"black\" stroke=\"black\" points=\"184.42,-311.58 175.4,-306.02 178.99,-315.99 184.42,-311.58\"/>\n</g>\n<!-- 8 -->\n<g id=\"node9\" class=\"node\">\n<title>8</title>\n<path fill=\"#3a9de5\" stroke=\"black\" d=\"M392,-306C392,-306 273,-306 273,-306 267,-306 261,-300 261,-294 261,-294 261,-235 261,-235 261,-229 267,-223 273,-223 273,-223 392,-223 392,-223 398,-223 404,-229 404,-235 404,-235 404,-294 404,-294 404,-300 398,-306 392,-306\"/>\n<text text-anchor=\"start\" x=\"269\" y=\"-290.8\" font-family=\"Helvetica,sans-Serif\" font-size=\"14.00\">worst texture ≤ 33.35</text>\n<text text-anchor=\"start\" x=\"297\" y=\"-275.8\" font-family=\"Helvetica,sans-Serif\" font-size=\"14.00\">gini = 0.008</text>\n<text text-anchor=\"start\" x=\"287.5\" y=\"-260.8\" font-family=\"Helvetica,sans-Serif\" font-size=\"14.00\">samples = 252</text>\n<text text-anchor=\"start\" x=\"285.5\" y=\"-245.8\" font-family=\"Helvetica,sans-Serif\" font-size=\"14.00\">value = [1, 251]</text>\n<text text-anchor=\"start\" x=\"305\" y=\"-230.8\" font-family=\"Helvetica,sans-Serif\" font-size=\"14.00\">class = 1</text>\n</g>\n<!-- 4&#45;&gt;8 -->\n<g id=\"edge8\" class=\"edge\">\n<title>4&#45;&gt;8</title>\n<path fill=\"none\" stroke=\"black\" d=\"M270.46,-341.91C277.75,-332.92 285.56,-323.32 293.08,-314.05\"/>\n<polygon fill=\"black\" stroke=\"black\" points=\"296.01,-315.99 299.6,-306.02 290.58,-311.58 296.01,-315.99\"/>\n</g>\n<!-- 6 -->\n<g id=\"node7\" class=\"node\">\n<title>6</title>\n<path fill=\"#e58139\" stroke=\"black\" d=\"M83,-179.5C83,-179.5 12,-179.5 12,-179.5 6,-179.5 0,-173.5 0,-167.5 0,-167.5 0,-123.5 0,-123.5 0,-117.5 6,-111.5 12,-111.5 12,-111.5 83,-111.5 83,-111.5 89,-111.5 95,-117.5 95,-123.5 95,-123.5 95,-167.5 95,-167.5 95,-173.5 89,-179.5 83,-179.5\"/>\n<text text-anchor=\"start\" x=\"19.5\" y=\"-164.3\" font-family=\"Helvetica,sans-Serif\" font-size=\"14.00\">gini = 0.0</text>\n<text text-anchor=\"start\" x=\"10\" y=\"-149.3\" font-family=\"Helvetica,sans-Serif\" font-size=\"14.00\">samples = 1</text>\n<text text-anchor=\"start\" x=\"8\" y=\"-134.3\" font-family=\"Helvetica,sans-Serif\" font-size=\"14.00\">value = [1, 0]</text>\n<text text-anchor=\"start\" x=\"20\" y=\"-119.3\" font-family=\"Helvetica,sans-Serif\" font-size=\"14.00\">class = 0</text>\n</g>\n<!-- 5&#45;&gt;6 -->\n<g id=\"edge6\" class=\"edge\">\n<title>5&#45;&gt;6</title>\n<path fill=\"none\" stroke=\"black\" d=\"M109.54,-222.91C100.22,-211.43 90.08,-198.94 80.74,-187.44\"/>\n<polygon fill=\"black\" stroke=\"black\" points=\"83.45,-185.22 74.43,-179.67 78.02,-189.64 83.45,-185.22\"/>\n</g>\n<!-- 7 -->\n<g id=\"node8\" class=\"node\">\n<title>7</title>\n<path fill=\"#399de5\" stroke=\"black\" d=\"M196,-179.5C196,-179.5 125,-179.5 125,-179.5 119,-179.5 113,-173.5 113,-167.5 113,-167.5 113,-123.5 113,-123.5 113,-117.5 119,-111.5 125,-111.5 125,-111.5 196,-111.5 196,-111.5 202,-111.5 208,-117.5 208,-123.5 208,-123.5 208,-167.5 208,-167.5 208,-173.5 202,-179.5 196,-179.5\"/>\n<text text-anchor=\"start\" x=\"132.5\" y=\"-164.3\" font-family=\"Helvetica,sans-Serif\" font-size=\"14.00\">gini = 0.0</text>\n<text text-anchor=\"start\" x=\"123\" y=\"-149.3\" font-family=\"Helvetica,sans-Serif\" font-size=\"14.00\">samples = 6</text>\n<text text-anchor=\"start\" x=\"121\" y=\"-134.3\" font-family=\"Helvetica,sans-Serif\" font-size=\"14.00\">value = [0, 6]</text>\n<text text-anchor=\"start\" x=\"133\" y=\"-119.3\" font-family=\"Helvetica,sans-Serif\" font-size=\"14.00\">class = 1</text>\n</g>\n<!-- 5&#45;&gt;7 -->\n<g id=\"edge7\" class=\"edge\">\n<title>5&#45;&gt;7</title>\n<path fill=\"none\" stroke=\"black\" d=\"M148.75,-222.91C150.39,-212.2 152.17,-200.62 153.84,-189.78\"/>\n<polygon fill=\"black\" stroke=\"black\" points=\"157.34,-190.08 155.4,-179.67 150.42,-189.02 157.34,-190.08\"/>\n</g>\n<!-- 9 -->\n<g id=\"node10\" class=\"node\">\n<title>9</title>\n<path fill=\"#399de5\" stroke=\"black\" d=\"M358.5,-179.5C358.5,-179.5 272.5,-179.5 272.5,-179.5 266.5,-179.5 260.5,-173.5 260.5,-167.5 260.5,-167.5 260.5,-123.5 260.5,-123.5 260.5,-117.5 266.5,-111.5 272.5,-111.5 272.5,-111.5 358.5,-111.5 358.5,-111.5 364.5,-111.5 370.5,-117.5 370.5,-123.5 370.5,-123.5 370.5,-167.5 370.5,-167.5 370.5,-173.5 364.5,-179.5 358.5,-179.5\"/>\n<text text-anchor=\"start\" x=\"287.5\" y=\"-164.3\" font-family=\"Helvetica,sans-Serif\" font-size=\"14.00\">gini = 0.0</text>\n<text text-anchor=\"start\" x=\"270.5\" y=\"-149.3\" font-family=\"Helvetica,sans-Serif\" font-size=\"14.00\">samples = 237</text>\n<text text-anchor=\"start\" x=\"268.5\" y=\"-134.3\" font-family=\"Helvetica,sans-Serif\" font-size=\"14.00\">value = [0, 237]</text>\n<text text-anchor=\"start\" x=\"288\" y=\"-119.3\" font-family=\"Helvetica,sans-Serif\" font-size=\"14.00\">class = 1</text>\n</g>\n<!-- 8&#45;&gt;9 -->\n<g id=\"edge9\" class=\"edge\">\n<title>8&#45;&gt;9</title>\n<path fill=\"none\" stroke=\"black\" d=\"M326.6,-222.91C325.05,-212.2 323.36,-200.62 321.79,-189.78\"/>\n<polygon fill=\"black\" stroke=\"black\" points=\"325.22,-189.06 320.32,-179.67 318.29,-190.07 325.22,-189.06\"/>\n</g>\n<!-- 10 -->\n<g id=\"node11\" class=\"node\">\n<title>10</title>\n<path fill=\"#47a4e7\" stroke=\"black\" d=\"M520,-187C520,-187 401,-187 401,-187 395,-187 389,-181 389,-175 389,-175 389,-116 389,-116 389,-110 395,-104 401,-104 401,-104 520,-104 520,-104 526,-104 532,-110 532,-116 532,-116 532,-175 532,-175 532,-181 526,-187 520,-187\"/>\n<text text-anchor=\"start\" x=\"397\" y=\"-171.8\" font-family=\"Helvetica,sans-Serif\" font-size=\"14.00\">worst texture ≤ 33.56</text>\n<text text-anchor=\"start\" x=\"425\" y=\"-156.8\" font-family=\"Helvetica,sans-Serif\" font-size=\"14.00\">gini = 0.124</text>\n<text text-anchor=\"start\" x=\"419.5\" y=\"-141.8\" font-family=\"Helvetica,sans-Serif\" font-size=\"14.00\">samples = 15</text>\n<text text-anchor=\"start\" x=\"417.5\" y=\"-126.8\" font-family=\"Helvetica,sans-Serif\" font-size=\"14.00\">value = [1, 14]</text>\n<text text-anchor=\"start\" x=\"433\" y=\"-111.8\" font-family=\"Helvetica,sans-Serif\" font-size=\"14.00\">class = 1</text>\n</g>\n<!-- 8&#45;&gt;10 -->\n<g id=\"edge10\" class=\"edge\">\n<title>8&#45;&gt;10</title>\n<path fill=\"none\" stroke=\"black\" d=\"M376.91,-222.91C387.14,-213.56 398.1,-203.54 408.61,-193.93\"/>\n<polygon fill=\"black\" stroke=\"black\" points=\"411.15,-196.35 416.17,-187.02 406.43,-191.18 411.15,-196.35\"/>\n</g>\n<!-- 11 -->\n<g id=\"node12\" class=\"node\">\n<title>11</title>\n<path fill=\"#e58139\" stroke=\"black\" d=\"M437,-68C437,-68 366,-68 366,-68 360,-68 354,-62 354,-56 354,-56 354,-12 354,-12 354,-6 360,0 366,0 366,0 437,0 437,0 443,0 449,-6 449,-12 449,-12 449,-56 449,-56 449,-62 443,-68 437,-68\"/>\n<text text-anchor=\"start\" x=\"373.5\" y=\"-52.8\" font-family=\"Helvetica,sans-Serif\" font-size=\"14.00\">gini = 0.0</text>\n<text text-anchor=\"start\" x=\"364\" y=\"-37.8\" font-family=\"Helvetica,sans-Serif\" font-size=\"14.00\">samples = 1</text>\n<text text-anchor=\"start\" x=\"362\" y=\"-22.8\" font-family=\"Helvetica,sans-Serif\" font-size=\"14.00\">value = [1, 0]</text>\n<text text-anchor=\"start\" x=\"374\" y=\"-7.8\" font-family=\"Helvetica,sans-Serif\" font-size=\"14.00\">class = 0</text>\n</g>\n<!-- 10&#45;&gt;11 -->\n<g id=\"edge11\" class=\"edge\">\n<title>10&#45;&gt;11</title>\n<path fill=\"none\" stroke=\"black\" d=\"M438.53,-103.73C433.86,-95.06 428.92,-85.9 424.23,-77.18\"/>\n<polygon fill=\"black\" stroke=\"black\" points=\"427.27,-75.44 419.44,-68.3 421.1,-78.76 427.27,-75.44\"/>\n</g>\n<!-- 12 -->\n<g id=\"node13\" class=\"node\">\n<title>12</title>\n<path fill=\"#399de5\" stroke=\"black\" d=\"M557.5,-68C557.5,-68 479.5,-68 479.5,-68 473.5,-68 467.5,-62 467.5,-56 467.5,-56 467.5,-12 467.5,-12 467.5,-6 473.5,0 479.5,0 479.5,0 557.5,0 557.5,0 563.5,0 569.5,-6 569.5,-12 569.5,-12 569.5,-56 569.5,-56 569.5,-62 563.5,-68 557.5,-68\"/>\n<text text-anchor=\"start\" x=\"490.5\" y=\"-52.8\" font-family=\"Helvetica,sans-Serif\" font-size=\"14.00\">gini = 0.0</text>\n<text text-anchor=\"start\" x=\"477.5\" y=\"-37.8\" font-family=\"Helvetica,sans-Serif\" font-size=\"14.00\">samples = 14</text>\n<text text-anchor=\"start\" x=\"475.5\" y=\"-22.8\" font-family=\"Helvetica,sans-Serif\" font-size=\"14.00\">value = [0, 14]</text>\n<text text-anchor=\"start\" x=\"491\" y=\"-7.8\" font-family=\"Helvetica,sans-Serif\" font-size=\"14.00\">class = 1</text>\n</g>\n<!-- 10&#45;&gt;12 -->\n<g id=\"edge12\" class=\"edge\">\n<title>10&#45;&gt;12</title>\n<path fill=\"none\" stroke=\"black\" d=\"M482.1,-103.73C486.69,-95.06 491.54,-85.9 496.16,-77.18\"/>\n<polygon fill=\"black\" stroke=\"black\" points=\"499.27,-78.77 500.86,-68.3 493.09,-75.5 499.27,-78.77\"/>\n</g>\n<!-- 15 -->\n<g id=\"node16\" class=\"node\">\n<title>15</title>\n<path fill=\"#e58139\" stroke=\"black\" d=\"M579,-417.5C579,-417.5 508,-417.5 508,-417.5 502,-417.5 496,-411.5 496,-405.5 496,-405.5 496,-361.5 496,-361.5 496,-355.5 502,-349.5 508,-349.5 508,-349.5 579,-349.5 579,-349.5 585,-349.5 591,-355.5 591,-361.5 591,-361.5 591,-405.5 591,-405.5 591,-411.5 585,-417.5 579,-417.5\"/>\n<text text-anchor=\"start\" x=\"515.5\" y=\"-402.3\" font-family=\"Helvetica,sans-Serif\" font-size=\"14.00\">gini = 0.0</text>\n<text text-anchor=\"start\" x=\"506\" y=\"-387.3\" font-family=\"Helvetica,sans-Serif\" font-size=\"14.00\">samples = 2</text>\n<text text-anchor=\"start\" x=\"504\" y=\"-372.3\" font-family=\"Helvetica,sans-Serif\" font-size=\"14.00\">value = [2, 0]</text>\n<text text-anchor=\"start\" x=\"516\" y=\"-357.3\" font-family=\"Helvetica,sans-Serif\" font-size=\"14.00\">class = 0</text>\n</g>\n<!-- 14&#45;&gt;15 -->\n<g id=\"edge15\" class=\"edge\">\n<title>14&#45;&gt;15</title>\n<path fill=\"none\" stroke=\"black\" d=\"M557.21,-460.91C555.29,-450.2 553.21,-438.62 551.27,-427.78\"/>\n<polygon fill=\"black\" stroke=\"black\" points=\"554.66,-426.89 549.45,-417.67 547.77,-428.13 554.66,-426.89\"/>\n</g>\n<!-- 16 -->\n<g id=\"node17\" class=\"node\">\n<title>16</title>\n<path fill=\"#399de5\" stroke=\"black\" d=\"M692,-417.5C692,-417.5 621,-417.5 621,-417.5 615,-417.5 609,-411.5 609,-405.5 609,-405.5 609,-361.5 609,-361.5 609,-355.5 615,-349.5 621,-349.5 621,-349.5 692,-349.5 692,-349.5 698,-349.5 704,-355.5 704,-361.5 704,-361.5 704,-405.5 704,-405.5 704,-411.5 698,-417.5 692,-417.5\"/>\n<text text-anchor=\"start\" x=\"628.5\" y=\"-402.3\" font-family=\"Helvetica,sans-Serif\" font-size=\"14.00\">gini = 0.0</text>\n<text text-anchor=\"start\" x=\"619\" y=\"-387.3\" font-family=\"Helvetica,sans-Serif\" font-size=\"14.00\">samples = 1</text>\n<text text-anchor=\"start\" x=\"617\" y=\"-372.3\" font-family=\"Helvetica,sans-Serif\" font-size=\"14.00\">value = [0, 1]</text>\n<text text-anchor=\"start\" x=\"629\" y=\"-357.3\" font-family=\"Helvetica,sans-Serif\" font-size=\"14.00\">class = 1</text>\n</g>\n<!-- 14&#45;&gt;16 -->\n<g id=\"edge16\" class=\"edge\">\n<title>14&#45;&gt;16</title>\n<path fill=\"none\" stroke=\"black\" d=\"M596.42,-460.91C605.36,-449.54 615.08,-437.18 624.05,-425.77\"/>\n<polygon fill=\"black\" stroke=\"black\" points=\"626.99,-427.69 630.42,-417.67 621.49,-423.36 626.99,-427.69\"/>\n</g>\n<!-- 18 -->\n<g id=\"node19\" class=\"node\">\n<title>18</title>\n<path fill=\"#399de5\" stroke=\"black\" d=\"M757,-536.5C757,-536.5 686,-536.5 686,-536.5 680,-536.5 674,-530.5 674,-524.5 674,-524.5 674,-480.5 674,-480.5 674,-474.5 680,-468.5 686,-468.5 686,-468.5 757,-468.5 757,-468.5 763,-468.5 769,-474.5 769,-480.5 769,-480.5 769,-524.5 769,-524.5 769,-530.5 763,-536.5 757,-536.5\"/>\n<text text-anchor=\"start\" x=\"693.5\" y=\"-521.3\" font-family=\"Helvetica,sans-Serif\" font-size=\"14.00\">gini = 0.0</text>\n<text text-anchor=\"start\" x=\"684\" y=\"-506.3\" font-family=\"Helvetica,sans-Serif\" font-size=\"14.00\">samples = 6</text>\n<text text-anchor=\"start\" x=\"682\" y=\"-491.3\" font-family=\"Helvetica,sans-Serif\" font-size=\"14.00\">value = [0, 6]</text>\n<text text-anchor=\"start\" x=\"694\" y=\"-476.3\" font-family=\"Helvetica,sans-Serif\" font-size=\"14.00\">class = 1</text>\n</g>\n<!-- 17&#45;&gt;18 -->\n<g id=\"edge18\" class=\"edge\">\n<title>17&#45;&gt;18</title>\n<path fill=\"none\" stroke=\"black\" d=\"M772.44,-579.91C764.93,-568.65 756.78,-556.42 749.24,-545.11\"/>\n<polygon fill=\"black\" stroke=\"black\" points=\"752.07,-543.05 743.61,-536.67 746.25,-546.93 752.07,-543.05\"/>\n</g>\n<!-- 19 -->\n<g id=\"node20\" class=\"node\">\n<title>19</title>\n<path fill=\"#ea985d\" stroke=\"black\" d=\"M955.5,-544C955.5,-544 799.5,-544 799.5,-544 793.5,-544 787.5,-538 787.5,-532 787.5,-532 787.5,-473 787.5,-473 787.5,-467 793.5,-461 799.5,-461 799.5,-461 955.5,-461 955.5,-461 961.5,-461 967.5,-467 967.5,-473 967.5,-473 967.5,-532 967.5,-532 967.5,-538 961.5,-544 955.5,-544\"/>\n<text text-anchor=\"start\" x=\"795.5\" y=\"-528.8\" font-family=\"Helvetica,sans-Serif\" font-size=\"14.00\">concave points error ≤ 0.01</text>\n<text text-anchor=\"start\" x=\"845.5\" y=\"-513.8\" font-family=\"Helvetica,sans-Serif\" font-size=\"14.00\">gini = 0.26</text>\n<text text-anchor=\"start\" x=\"836.5\" y=\"-498.8\" font-family=\"Helvetica,sans-Serif\" font-size=\"14.00\">samples = 13</text>\n<text text-anchor=\"start\" x=\"834.5\" y=\"-483.8\" font-family=\"Helvetica,sans-Serif\" font-size=\"14.00\">value = [11, 2]</text>\n<text text-anchor=\"start\" x=\"850\" y=\"-468.8\" font-family=\"Helvetica,sans-Serif\" font-size=\"14.00\">class = 0</text>\n</g>\n<!-- 17&#45;&gt;19 -->\n<g id=\"edge19\" class=\"edge\">\n<title>17&#45;&gt;19</title>\n<path fill=\"none\" stroke=\"black\" d=\"M826.56,-579.91C832.43,-571.1 838.7,-561.7 844.76,-552.61\"/>\n<polygon fill=\"black\" stroke=\"black\" points=\"847.85,-554.28 850.49,-544.02 842.03,-550.4 847.85,-554.28\"/>\n</g>\n<!-- 20 -->\n<g id=\"node21\" class=\"node\">\n<title>20</title>\n<path fill=\"#e58139\" stroke=\"black\" d=\"M831.5,-417.5C831.5,-417.5 753.5,-417.5 753.5,-417.5 747.5,-417.5 741.5,-411.5 741.5,-405.5 741.5,-405.5 741.5,-361.5 741.5,-361.5 741.5,-355.5 747.5,-349.5 753.5,-349.5 753.5,-349.5 831.5,-349.5 831.5,-349.5 837.5,-349.5 843.5,-355.5 843.5,-361.5 843.5,-361.5 843.5,-405.5 843.5,-405.5 843.5,-411.5 837.5,-417.5 831.5,-417.5\"/>\n<text text-anchor=\"start\" x=\"764.5\" y=\"-402.3\" font-family=\"Helvetica,sans-Serif\" font-size=\"14.00\">gini = 0.0</text>\n<text text-anchor=\"start\" x=\"751.5\" y=\"-387.3\" font-family=\"Helvetica,sans-Serif\" font-size=\"14.00\">samples = 11</text>\n<text text-anchor=\"start\" x=\"749.5\" y=\"-372.3\" font-family=\"Helvetica,sans-Serif\" font-size=\"14.00\">value = [11, 0]</text>\n<text text-anchor=\"start\" x=\"765\" y=\"-357.3\" font-family=\"Helvetica,sans-Serif\" font-size=\"14.00\">class = 0</text>\n</g>\n<!-- 19&#45;&gt;20 -->\n<g id=\"edge20\" class=\"edge\">\n<title>19&#45;&gt;20</title>\n<path fill=\"none\" stroke=\"black\" d=\"M848.01,-460.91C839.75,-449.54 830.77,-437.18 822.49,-425.77\"/>\n<polygon fill=\"black\" stroke=\"black\" points=\"825.3,-423.7 816.6,-417.67 819.64,-427.81 825.3,-423.7\"/>\n</g>\n<!-- 21 -->\n<g id=\"node22\" class=\"node\">\n<title>21</title>\n<path fill=\"#399de5\" stroke=\"black\" d=\"M945,-417.5C945,-417.5 874,-417.5 874,-417.5 868,-417.5 862,-411.5 862,-405.5 862,-405.5 862,-361.5 862,-361.5 862,-355.5 868,-349.5 874,-349.5 874,-349.5 945,-349.5 945,-349.5 951,-349.5 957,-355.5 957,-361.5 957,-361.5 957,-405.5 957,-405.5 957,-411.5 951,-417.5 945,-417.5\"/>\n<text text-anchor=\"start\" x=\"881.5\" y=\"-402.3\" font-family=\"Helvetica,sans-Serif\" font-size=\"14.00\">gini = 0.0</text>\n<text text-anchor=\"start\" x=\"872\" y=\"-387.3\" font-family=\"Helvetica,sans-Serif\" font-size=\"14.00\">samples = 2</text>\n<text text-anchor=\"start\" x=\"870\" y=\"-372.3\" font-family=\"Helvetica,sans-Serif\" font-size=\"14.00\">value = [0, 2]</text>\n<text text-anchor=\"start\" x=\"882\" y=\"-357.3\" font-family=\"Helvetica,sans-Serif\" font-size=\"14.00\">class = 1</text>\n</g>\n<!-- 19&#45;&gt;21 -->\n<g id=\"edge21\" class=\"edge\">\n<title>19&#45;&gt;21</title>\n<path fill=\"none\" stroke=\"black\" d=\"M888.6,-460.91C891.56,-450.09 894.76,-438.38 897.76,-427.44\"/>\n<polygon fill=\"black\" stroke=\"black\" points=\"901.17,-428.24 900.43,-417.67 894.41,-426.39 901.17,-428.24\"/>\n</g>\n<!-- 23 -->\n<g id=\"node24\" class=\"node\">\n<title>23</title>\n<path fill=\"#f4fafe\" stroke=\"black\" d=\"M1166,-663C1166,-663 1023,-663 1023,-663 1017,-663 1011,-657 1011,-651 1011,-651 1011,-592 1011,-592 1011,-586 1017,-580 1023,-580 1023,-580 1166,-580 1166,-580 1172,-580 1178,-586 1178,-592 1178,-592 1178,-651 1178,-651 1178,-657 1172,-663 1166,-663\"/>\n<text text-anchor=\"start\" x=\"1019\" y=\"-647.8\" font-family=\"Helvetica,sans-Serif\" font-size=\"14.00\">worst perimeter ≤ 115.25</text>\n<text text-anchor=\"start\" x=\"1066.5\" y=\"-632.8\" font-family=\"Helvetica,sans-Serif\" font-size=\"14.00\">gini = 0.5</text>\n<text text-anchor=\"start\" x=\"1053.5\" y=\"-617.8\" font-family=\"Helvetica,sans-Serif\" font-size=\"14.00\">samples = 35</text>\n<text text-anchor=\"start\" x=\"1047.5\" y=\"-602.8\" font-family=\"Helvetica,sans-Serif\" font-size=\"14.00\">value = [17, 18]</text>\n<text text-anchor=\"start\" x=\"1067\" y=\"-587.8\" font-family=\"Helvetica,sans-Serif\" font-size=\"14.00\">class = 1</text>\n</g>\n<!-- 22&#45;&gt;23 -->\n<g id=\"edge23\" class=\"edge\">\n<title>22&#45;&gt;23</title>\n<path fill=\"none\" stroke=\"black\" d=\"M1094.5,-698.91C1094.5,-690.65 1094.5,-681.86 1094.5,-673.3\"/>\n<polygon fill=\"black\" stroke=\"black\" points=\"1098,-673.02 1094.5,-663.02 1091,-673.02 1098,-673.02\"/>\n</g>\n<!-- 28 -->\n<g id=\"node29\" class=\"node\">\n<title>28</title>\n<path fill=\"#e5833c\" stroke=\"black\" d=\"M1418.5,-663C1418.5,-663 1242.5,-663 1242.5,-663 1236.5,-663 1230.5,-657 1230.5,-651 1230.5,-651 1230.5,-592 1230.5,-592 1230.5,-586 1236.5,-580 1242.5,-580 1242.5,-580 1418.5,-580 1418.5,-580 1424.5,-580 1430.5,-586 1430.5,-592 1430.5,-592 1430.5,-651 1430.5,-651 1430.5,-657 1424.5,-663 1418.5,-663\"/>\n<text text-anchor=\"start\" x=\"1238.5\" y=\"-647.8\" font-family=\"Helvetica,sans-Serif\" font-size=\"14.00\">fractal dimension error ≤ 0.013</text>\n<text text-anchor=\"start\" x=\"1295\" y=\"-632.8\" font-family=\"Helvetica,sans-Serif\" font-size=\"14.00\">gini = 0.029</text>\n<text text-anchor=\"start\" x=\"1285.5\" y=\"-617.8\" font-family=\"Helvetica,sans-Serif\" font-size=\"14.00\">samples = 138</text>\n<text text-anchor=\"start\" x=\"1283.5\" y=\"-602.8\" font-family=\"Helvetica,sans-Serif\" font-size=\"14.00\">value = [136, 2]</text>\n<text text-anchor=\"start\" x=\"1303\" y=\"-587.8\" font-family=\"Helvetica,sans-Serif\" font-size=\"14.00\">class = 0</text>\n</g>\n<!-- 22&#45;&gt;28 -->\n<g id=\"edge28\" class=\"edge\">\n<title>22&#45;&gt;28</title>\n<path fill=\"none\" stroke=\"black\" d=\"M1176.38,-698.91C1196.79,-688.79 1218.8,-677.88 1239.61,-667.56\"/>\n<polygon fill=\"black\" stroke=\"black\" points=\"1241.36,-670.6 1248.77,-663.02 1238.25,-664.33 1241.36,-670.6\"/>\n</g>\n<!-- 24 -->\n<g id=\"node25\" class=\"node\">\n<title>24</title>\n<path fill=\"#65b3eb\" stroke=\"black\" d=\"M1125.5,-544C1125.5,-544 997.5,-544 997.5,-544 991.5,-544 985.5,-538 985.5,-532 985.5,-532 985.5,-473 985.5,-473 985.5,-467 991.5,-461 997.5,-461 997.5,-461 1125.5,-461 1125.5,-461 1131.5,-461 1137.5,-467 1137.5,-473 1137.5,-473 1137.5,-532 1137.5,-532 1137.5,-538 1131.5,-544 1125.5,-544\"/>\n<text text-anchor=\"start\" x=\"993.5\" y=\"-528.8\" font-family=\"Helvetica,sans-Serif\" font-size=\"14.00\">mean texture ≤ 21.055</text>\n<text text-anchor=\"start\" x=\"1026\" y=\"-513.8\" font-family=\"Helvetica,sans-Serif\" font-size=\"14.00\">gini = 0.298</text>\n<text text-anchor=\"start\" x=\"1020.5\" y=\"-498.8\" font-family=\"Helvetica,sans-Serif\" font-size=\"14.00\">samples = 22</text>\n<text text-anchor=\"start\" x=\"1018.5\" y=\"-483.8\" font-family=\"Helvetica,sans-Serif\" font-size=\"14.00\">value = [4, 18]</text>\n<text text-anchor=\"start\" x=\"1034\" y=\"-468.8\" font-family=\"Helvetica,sans-Serif\" font-size=\"14.00\">class = 1</text>\n</g>\n<!-- 23&#45;&gt;24 -->\n<g id=\"edge24\" class=\"edge\">\n<title>23&#45;&gt;24</title>\n<path fill=\"none\" stroke=\"black\" d=\"M1083.05,-579.91C1080.67,-571.47 1078.13,-562.48 1075.67,-553.74\"/>\n<polygon fill=\"black\" stroke=\"black\" points=\"1079.01,-552.7 1072.93,-544.02 1072.28,-554.6 1079.01,-552.7\"/>\n</g>\n<!-- 27 -->\n<g id=\"node28\" class=\"node\">\n<title>27</title>\n<path fill=\"#e58139\" stroke=\"black\" d=\"M1245.5,-536.5C1245.5,-536.5 1167.5,-536.5 1167.5,-536.5 1161.5,-536.5 1155.5,-530.5 1155.5,-524.5 1155.5,-524.5 1155.5,-480.5 1155.5,-480.5 1155.5,-474.5 1161.5,-468.5 1167.5,-468.5 1167.5,-468.5 1245.5,-468.5 1245.5,-468.5 1251.5,-468.5 1257.5,-474.5 1257.5,-480.5 1257.5,-480.5 1257.5,-524.5 1257.5,-524.5 1257.5,-530.5 1251.5,-536.5 1245.5,-536.5\"/>\n<text text-anchor=\"start\" x=\"1178.5\" y=\"-521.3\" font-family=\"Helvetica,sans-Serif\" font-size=\"14.00\">gini = 0.0</text>\n<text text-anchor=\"start\" x=\"1165.5\" y=\"-506.3\" font-family=\"Helvetica,sans-Serif\" font-size=\"14.00\">samples = 13</text>\n<text text-anchor=\"start\" x=\"1163.5\" y=\"-491.3\" font-family=\"Helvetica,sans-Serif\" font-size=\"14.00\">value = [13, 0]</text>\n<text text-anchor=\"start\" x=\"1179\" y=\"-476.3\" font-family=\"Helvetica,sans-Serif\" font-size=\"14.00\">class = 0</text>\n</g>\n<!-- 23&#45;&gt;27 -->\n<g id=\"edge27\" class=\"edge\">\n<title>23&#45;&gt;27</title>\n<path fill=\"none\" stroke=\"black\" d=\"M1133.36,-579.91C1144.45,-568.32 1156.53,-555.7 1167.62,-544.11\"/>\n<polygon fill=\"black\" stroke=\"black\" points=\"1170.36,-546.31 1174.75,-536.67 1165.31,-541.47 1170.36,-546.31\"/>\n</g>\n<!-- 25 -->\n<g id=\"node26\" class=\"node\">\n<title>25</title>\n<path fill=\"#399de5\" stroke=\"black\" d=\"M1081.5,-417.5C1081.5,-417.5 1003.5,-417.5 1003.5,-417.5 997.5,-417.5 991.5,-411.5 991.5,-405.5 991.5,-405.5 991.5,-361.5 991.5,-361.5 991.5,-355.5 997.5,-349.5 1003.5,-349.5 1003.5,-349.5 1081.5,-349.5 1081.5,-349.5 1087.5,-349.5 1093.5,-355.5 1093.5,-361.5 1093.5,-361.5 1093.5,-405.5 1093.5,-405.5 1093.5,-411.5 1087.5,-417.5 1081.5,-417.5\"/>\n<text text-anchor=\"start\" x=\"1014.5\" y=\"-402.3\" font-family=\"Helvetica,sans-Serif\" font-size=\"14.00\">gini = 0.0</text>\n<text text-anchor=\"start\" x=\"1001.5\" y=\"-387.3\" font-family=\"Helvetica,sans-Serif\" font-size=\"14.00\">samples = 18</text>\n<text text-anchor=\"start\" x=\"999.5\" y=\"-372.3\" font-family=\"Helvetica,sans-Serif\" font-size=\"14.00\">value = [0, 18]</text>\n<text text-anchor=\"start\" x=\"1015\" y=\"-357.3\" font-family=\"Helvetica,sans-Serif\" font-size=\"14.00\">class = 1</text>\n</g>\n<!-- 24&#45;&gt;25 -->\n<g id=\"edge25\" class=\"edge\">\n<title>24&#45;&gt;25</title>\n<path fill=\"none\" stroke=\"black\" d=\"M1054.91,-460.91C1053.17,-450.2 1051.29,-438.62 1049.53,-427.78\"/>\n<polygon fill=\"black\" stroke=\"black\" points=\"1052.94,-426.98 1047.89,-417.67 1046.03,-428.1 1052.94,-426.98\"/>\n</g>\n<!-- 26 -->\n<g id=\"node27\" class=\"node\">\n<title>26</title>\n<path fill=\"#e58139\" stroke=\"black\" d=\"M1195,-417.5C1195,-417.5 1124,-417.5 1124,-417.5 1118,-417.5 1112,-411.5 1112,-405.5 1112,-405.5 1112,-361.5 1112,-361.5 1112,-355.5 1118,-349.5 1124,-349.5 1124,-349.5 1195,-349.5 1195,-349.5 1201,-349.5 1207,-355.5 1207,-361.5 1207,-361.5 1207,-405.5 1207,-405.5 1207,-411.5 1201,-417.5 1195,-417.5\"/>\n<text text-anchor=\"start\" x=\"1131.5\" y=\"-402.3\" font-family=\"Helvetica,sans-Serif\" font-size=\"14.00\">gini = 0.0</text>\n<text text-anchor=\"start\" x=\"1122\" y=\"-387.3\" font-family=\"Helvetica,sans-Serif\" font-size=\"14.00\">samples = 4</text>\n<text text-anchor=\"start\" x=\"1120\" y=\"-372.3\" font-family=\"Helvetica,sans-Serif\" font-size=\"14.00\">value = [4, 0]</text>\n<text text-anchor=\"start\" x=\"1132\" y=\"-357.3\" font-family=\"Helvetica,sans-Serif\" font-size=\"14.00\">class = 0</text>\n</g>\n<!-- 24&#45;&gt;26 -->\n<g id=\"edge26\" class=\"edge\">\n<title>24&#45;&gt;26</title>\n<path fill=\"none\" stroke=\"black\" d=\"M1095.5,-460.91C1105.11,-449.43 1115.58,-436.94 1125.21,-425.44\"/>\n<polygon fill=\"black\" stroke=\"black\" points=\"1127.98,-427.58 1131.72,-417.67 1122.61,-423.09 1127.98,-427.58\"/>\n</g>\n<!-- 29 -->\n<g id=\"node30\" class=\"node\">\n<title>29</title>\n<path fill=\"#e58139\" stroke=\"black\" d=\"M1373.5,-536.5C1373.5,-536.5 1287.5,-536.5 1287.5,-536.5 1281.5,-536.5 1275.5,-530.5 1275.5,-524.5 1275.5,-524.5 1275.5,-480.5 1275.5,-480.5 1275.5,-474.5 1281.5,-468.5 1287.5,-468.5 1287.5,-468.5 1373.5,-468.5 1373.5,-468.5 1379.5,-468.5 1385.5,-474.5 1385.5,-480.5 1385.5,-480.5 1385.5,-524.5 1385.5,-524.5 1385.5,-530.5 1379.5,-536.5 1373.5,-536.5\"/>\n<text text-anchor=\"start\" x=\"1302.5\" y=\"-521.3\" font-family=\"Helvetica,sans-Serif\" font-size=\"14.00\">gini = 0.0</text>\n<text text-anchor=\"start\" x=\"1285.5\" y=\"-506.3\" font-family=\"Helvetica,sans-Serif\" font-size=\"14.00\">samples = 136</text>\n<text text-anchor=\"start\" x=\"1283.5\" y=\"-491.3\" font-family=\"Helvetica,sans-Serif\" font-size=\"14.00\">value = [136, 0]</text>\n<text text-anchor=\"start\" x=\"1303\" y=\"-476.3\" font-family=\"Helvetica,sans-Serif\" font-size=\"14.00\">class = 0</text>\n</g>\n<!-- 28&#45;&gt;29 -->\n<g id=\"edge29\" class=\"edge\">\n<title>28&#45;&gt;29</title>\n<path fill=\"none\" stroke=\"black\" d=\"M1330.5,-579.91C1330.5,-569.2 1330.5,-557.62 1330.5,-546.78\"/>\n<polygon fill=\"black\" stroke=\"black\" points=\"1334,-546.67 1330.5,-536.67 1327,-546.67 1334,-546.67\"/>\n</g>\n<!-- 30 -->\n<g id=\"node31\" class=\"node\">\n<title>30</title>\n<path fill=\"#399de5\" stroke=\"black\" d=\"M1487,-536.5C1487,-536.5 1416,-536.5 1416,-536.5 1410,-536.5 1404,-530.5 1404,-524.5 1404,-524.5 1404,-480.5 1404,-480.5 1404,-474.5 1410,-468.5 1416,-468.5 1416,-468.5 1487,-468.5 1487,-468.5 1493,-468.5 1499,-474.5 1499,-480.5 1499,-480.5 1499,-524.5 1499,-524.5 1499,-530.5 1493,-536.5 1487,-536.5\"/>\n<text text-anchor=\"start\" x=\"1423.5\" y=\"-521.3\" font-family=\"Helvetica,sans-Serif\" font-size=\"14.00\">gini = 0.0</text>\n<text text-anchor=\"start\" x=\"1414\" y=\"-506.3\" font-family=\"Helvetica,sans-Serif\" font-size=\"14.00\">samples = 2</text>\n<text text-anchor=\"start\" x=\"1412\" y=\"-491.3\" font-family=\"Helvetica,sans-Serif\" font-size=\"14.00\">value = [0, 2]</text>\n<text text-anchor=\"start\" x=\"1424\" y=\"-476.3\" font-family=\"Helvetica,sans-Serif\" font-size=\"14.00\">class = 1</text>\n</g>\n<!-- 28&#45;&gt;30 -->\n<g id=\"edge30\" class=\"edge\">\n<title>28&#45;&gt;30</title>\n<path fill=\"none\" stroke=\"black\" d=\"M1372.48,-579.91C1384.58,-568.21 1397.77,-555.46 1409.84,-543.78\"/>\n<polygon fill=\"black\" stroke=\"black\" points=\"1412.44,-546.13 1417.2,-536.67 1407.58,-541.1 1412.44,-546.13\"/>\n</g>\n</g>\n</svg>\n",
            "text/plain": [
              "<graphviz.sources.Source at 0x7c71e30160b0>"
            ]
          },
          "metadata": {},
          "execution_count": 27
        }
      ]
    },
    {
      "cell_type": "markdown",
      "source": [
        "Now try setting the max_depth of the tree and see if it gives you better or worse performance.\n",
        "\n",
        "Next, try to apply a decision tree on Pima Indian Diabetes dataset."
      ],
      "metadata": {
        "id": "P5Db_t3PDqX1"
      }
    },
    {
      "cell_type": "code",
      "source": [],
      "metadata": {
        "id": "K5oQ83byaPIO"
      },
      "execution_count": null,
      "outputs": []
    }
  ]
}