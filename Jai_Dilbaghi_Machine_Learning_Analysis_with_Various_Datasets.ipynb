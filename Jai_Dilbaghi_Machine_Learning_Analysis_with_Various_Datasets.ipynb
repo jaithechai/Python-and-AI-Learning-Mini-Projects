{
  "nbformat": 4,
  "nbformat_minor": 0,
  "metadata": {
    "colab": {
      "provenance": []
    },
    "kernelspec": {
      "name": "python3",
      "display_name": "Python 3"
    },
    "language_info": {
      "name": "python"
    }
  },
  "cells": [
    {
      "cell_type": "markdown",
      "source": [
        "# Machine Learning Analysis with Various Datasets\n",
        "\n",
        "This notebook demonstrates the application of various machine learning models, including linear regression, logistic regression, support vector machines, and decision trees, across different datasets: California housing, diabetes, and Titanic survival. Each section includes data preprocessing, model training, evaluation, and visualizations.\n",
        "\n",
        "## Datasets Used\n",
        "\n",
        "1. **California Housing Dataset**\n",
        "   - Predicts median house values based on various features.\n",
        "   \n",
        "2. **Pima Indian Diabetes Dataset**\n",
        "   - Classifies whether a patient has diabetes based on medical attributes.\n",
        "   \n",
        "3. **Titanic Survival Dataset**\n",
        "   - Predicts survival based on passenger characteristics.\n",
        "\n",
        "## Contents\n",
        "\n",
        "### 1. California Housing Dataset\n",
        "- **Loading and Preprocessing:**\n",
        "  - Load the dataset from a public URL.\n",
        "  - Drop rows with missing values.\n",
        "  - Separate features and target variable.\n",
        "  - Standardize feature values.\n",
        "  \n",
        "- **Model Training:**\n",
        "  - Train a Linear Regression model.\n",
        "  - Evaluate using Mean Absolute Error (MAE) and R-squared (R²).\n",
        "  \n",
        "- **Stochastic Gradient Descent (SGD):**\n",
        "  - Train an SGDRegressor and evaluate performance.\n",
        "\n",
        "### 2. Pima Indian Diabetes Dataset\n",
        "- **Loading and Preprocessing:**\n",
        "  - Load the diabetes dataset.\n",
        "  - Separate features and target variable.\n",
        "  - Split into training and testing sets.\n",
        "  \n",
        "- **Logistic Regression:**\n",
        "  - Train a Logistic Regression model.\n",
        "  - Evaluate model performance using accuracy, confusion matrix, and classification report.\n",
        "\n",
        "### 3. Titanic Survival Dataset\n",
        "- **Loading and Preprocessing:**\n",
        "  - Load the Titanic dataset and drop rows with missing values.\n",
        "  - Separate relevant features and target variable.\n",
        "  \n",
        "- **Logistic Regression:**\n",
        "  - Train another Logistic Regression model on the Titanic dataset.\n",
        "  - Evaluate using a classification report.\n",
        "  \n",
        "- **Support Vector Machine (SVM):**\n",
        "  - Train an SVM model and evaluate performance.\n",
        "  \n",
        "- **Visualizations:**\n",
        "  - Create a scatter plot to visualize the relationship between age and fare, colored by survival status.\n",
        "\n",
        "### 4. Comparative Analysis of Classification Models\n",
        "- **Diabetes Dataset (Repeated Analysis):**\n",
        "  - Train and evaluate both SVC and Logistic Regression models on the diabetes dataset.\n",
        "  - Compare their classification reports.\n",
        "  \n",
        "- **Decision Tree Classifier:**\n",
        "  - Train a Decision Tree Classifier on the diabetes dataset.\n",
        "  - Visualize the decision tree using Graphviz.\n",
        "\n",
        "## Dependencies\n",
        "\n",
        "- `pandas`\n",
        "- `numpy`\n",
        "- `scikit-learn`\n",
        "- `seaborn`\n",
        "- `graphviz`\n",
        "\n",
        "## Usage\n",
        "\n",
        "- Run each section of the notebook to execute the analyses sequentially.\n",
        "- Modify any parameters or models as needed to explore different outcomes.\n",
        "\n",
        "## Notes\n",
        "\n",
        "- Ensure that you have internet access to load datasets from the provided URLs.\n",
        "- The notebook includes various metrics to assess model performance, facilitating a comprehensive understanding of the effectiveness of each approach.\n"
      ],
      "metadata": {
        "id": "3eLbcJEZZuwO"
      }
    },
    {
      "cell_type": "code",
      "execution_count": null,
      "metadata": {
        "id": "-WNTUYMGnFk-"
      },
      "outputs": [],
      "source": [
        "from sklearn.datasets import fetch_california_housing"
      ]
    },
    {
      "cell_type": "code",
      "source": [
        "import pandas as pd\n",
        "df = pd.read_csv(\"https://raw.githubusercontent.com/a-nagar/datasets/main/california_housing.csv\")"
      ],
      "metadata": {
        "id": "lfR4arvCnqRf"
      },
      "execution_count": null,
      "outputs": []
    },
    {
      "cell_type": "code",
      "source": [
        "df.head()"
      ],
      "metadata": {
        "colab": {
          "base_uri": "https://localhost:8080/",
          "height": 206
        },
        "id": "QWKILQYpo5M8",
        "outputId": "1136bbe9-53e8-4da8-f6ec-403c5b501f60"
      },
      "execution_count": null,
      "outputs": [
        {
          "output_type": "execute_result",
          "data": {
            "text/plain": [
              "   longitude  latitude  housing_median_age  total_rooms  total_bedrooms  \\\n",
              "0    -122.23     37.88                  41          880           129.0   \n",
              "1    -122.22     37.86                  21         7099          1106.0   \n",
              "2    -122.24     37.85                  52         1467           190.0   \n",
              "3    -122.25     37.85                  52         1274           235.0   \n",
              "4    -122.25     37.85                  52         1627           280.0   \n",
              "\n",
              "   population  households  median_income  median_house_value  \n",
              "0         322         126         8.3252              452600  \n",
              "1        2401        1138         8.3014              358500  \n",
              "2         496         177         7.2574              352100  \n",
              "3         558         219         5.6431              341300  \n",
              "4         565         259         3.8462              342200  "
            ],
            "text/html": [
              "\n",
              "  <div id=\"df-0302c2ae-fcab-43d1-85b2-43b0390a7e96\" class=\"colab-df-container\">\n",
              "    <div>\n",
              "<style scoped>\n",
              "    .dataframe tbody tr th:only-of-type {\n",
              "        vertical-align: middle;\n",
              "    }\n",
              "\n",
              "    .dataframe tbody tr th {\n",
              "        vertical-align: top;\n",
              "    }\n",
              "\n",
              "    .dataframe thead th {\n",
              "        text-align: right;\n",
              "    }\n",
              "</style>\n",
              "<table border=\"1\" class=\"dataframe\">\n",
              "  <thead>\n",
              "    <tr style=\"text-align: right;\">\n",
              "      <th></th>\n",
              "      <th>longitude</th>\n",
              "      <th>latitude</th>\n",
              "      <th>housing_median_age</th>\n",
              "      <th>total_rooms</th>\n",
              "      <th>total_bedrooms</th>\n",
              "      <th>population</th>\n",
              "      <th>households</th>\n",
              "      <th>median_income</th>\n",
              "      <th>median_house_value</th>\n",
              "    </tr>\n",
              "  </thead>\n",
              "  <tbody>\n",
              "    <tr>\n",
              "      <th>0</th>\n",
              "      <td>-122.23</td>\n",
              "      <td>37.88</td>\n",
              "      <td>41</td>\n",
              "      <td>880</td>\n",
              "      <td>129.0</td>\n",
              "      <td>322</td>\n",
              "      <td>126</td>\n",
              "      <td>8.3252</td>\n",
              "      <td>452600</td>\n",
              "    </tr>\n",
              "    <tr>\n",
              "      <th>1</th>\n",
              "      <td>-122.22</td>\n",
              "      <td>37.86</td>\n",
              "      <td>21</td>\n",
              "      <td>7099</td>\n",
              "      <td>1106.0</td>\n",
              "      <td>2401</td>\n",
              "      <td>1138</td>\n",
              "      <td>8.3014</td>\n",
              "      <td>358500</td>\n",
              "    </tr>\n",
              "    <tr>\n",
              "      <th>2</th>\n",
              "      <td>-122.24</td>\n",
              "      <td>37.85</td>\n",
              "      <td>52</td>\n",
              "      <td>1467</td>\n",
              "      <td>190.0</td>\n",
              "      <td>496</td>\n",
              "      <td>177</td>\n",
              "      <td>7.2574</td>\n",
              "      <td>352100</td>\n",
              "    </tr>\n",
              "    <tr>\n",
              "      <th>3</th>\n",
              "      <td>-122.25</td>\n",
              "      <td>37.85</td>\n",
              "      <td>52</td>\n",
              "      <td>1274</td>\n",
              "      <td>235.0</td>\n",
              "      <td>558</td>\n",
              "      <td>219</td>\n",
              "      <td>5.6431</td>\n",
              "      <td>341300</td>\n",
              "    </tr>\n",
              "    <tr>\n",
              "      <th>4</th>\n",
              "      <td>-122.25</td>\n",
              "      <td>37.85</td>\n",
              "      <td>52</td>\n",
              "      <td>1627</td>\n",
              "      <td>280.0</td>\n",
              "      <td>565</td>\n",
              "      <td>259</td>\n",
              "      <td>3.8462</td>\n",
              "      <td>342200</td>\n",
              "    </tr>\n",
              "  </tbody>\n",
              "</table>\n",
              "</div>\n",
              "    <div class=\"colab-df-buttons\">\n",
              "\n",
              "  <div class=\"colab-df-container\">\n",
              "    <button class=\"colab-df-convert\" onclick=\"convertToInteractive('df-0302c2ae-fcab-43d1-85b2-43b0390a7e96')\"\n",
              "            title=\"Convert this dataframe to an interactive table.\"\n",
              "            style=\"display:none;\">\n",
              "\n",
              "  <svg xmlns=\"http://www.w3.org/2000/svg\" height=\"24px\" viewBox=\"0 -960 960 960\">\n",
              "    <path d=\"M120-120v-720h720v720H120Zm60-500h600v-160H180v160Zm220 220h160v-160H400v160Zm0 220h160v-160H400v160ZM180-400h160v-160H180v160Zm440 0h160v-160H620v160ZM180-180h160v-160H180v160Zm440 0h160v-160H620v160Z\"/>\n",
              "  </svg>\n",
              "    </button>\n",
              "\n",
              "  <style>\n",
              "    .colab-df-container {\n",
              "      display:flex;\n",
              "      gap: 12px;\n",
              "    }\n",
              "\n",
              "    .colab-df-convert {\n",
              "      background-color: #E8F0FE;\n",
              "      border: none;\n",
              "      border-radius: 50%;\n",
              "      cursor: pointer;\n",
              "      display: none;\n",
              "      fill: #1967D2;\n",
              "      height: 32px;\n",
              "      padding: 0 0 0 0;\n",
              "      width: 32px;\n",
              "    }\n",
              "\n",
              "    .colab-df-convert:hover {\n",
              "      background-color: #E2EBFA;\n",
              "      box-shadow: 0px 1px 2px rgba(60, 64, 67, 0.3), 0px 1px 3px 1px rgba(60, 64, 67, 0.15);\n",
              "      fill: #174EA6;\n",
              "    }\n",
              "\n",
              "    .colab-df-buttons div {\n",
              "      margin-bottom: 4px;\n",
              "    }\n",
              "\n",
              "    [theme=dark] .colab-df-convert {\n",
              "      background-color: #3B4455;\n",
              "      fill: #D2E3FC;\n",
              "    }\n",
              "\n",
              "    [theme=dark] .colab-df-convert:hover {\n",
              "      background-color: #434B5C;\n",
              "      box-shadow: 0px 1px 3px 1px rgba(0, 0, 0, 0.15);\n",
              "      filter: drop-shadow(0px 1px 2px rgba(0, 0, 0, 0.3));\n",
              "      fill: #FFFFFF;\n",
              "    }\n",
              "  </style>\n",
              "\n",
              "    <script>\n",
              "      const buttonEl =\n",
              "        document.querySelector('#df-0302c2ae-fcab-43d1-85b2-43b0390a7e96 button.colab-df-convert');\n",
              "      buttonEl.style.display =\n",
              "        google.colab.kernel.accessAllowed ? 'block' : 'none';\n",
              "\n",
              "      async function convertToInteractive(key) {\n",
              "        const element = document.querySelector('#df-0302c2ae-fcab-43d1-85b2-43b0390a7e96');\n",
              "        const dataTable =\n",
              "          await google.colab.kernel.invokeFunction('convertToInteractive',\n",
              "                                                    [key], {});\n",
              "        if (!dataTable) return;\n",
              "\n",
              "        const docLinkHtml = 'Like what you see? Visit the ' +\n",
              "          '<a target=\"_blank\" href=https://colab.research.google.com/notebooks/data_table.ipynb>data table notebook</a>'\n",
              "          + ' to learn more about interactive tables.';\n",
              "        element.innerHTML = '';\n",
              "        dataTable['output_type'] = 'display_data';\n",
              "        await google.colab.output.renderOutput(dataTable, element);\n",
              "        const docLink = document.createElement('div');\n",
              "        docLink.innerHTML = docLinkHtml;\n",
              "        element.appendChild(docLink);\n",
              "      }\n",
              "    </script>\n",
              "  </div>\n",
              "\n",
              "\n",
              "<div id=\"df-e7799f63-d42d-4d7a-aa89-1ddbb04e6f50\">\n",
              "  <button class=\"colab-df-quickchart\" onclick=\"quickchart('df-e7799f63-d42d-4d7a-aa89-1ddbb04e6f50')\"\n",
              "            title=\"Suggest charts\"\n",
              "            style=\"display:none;\">\n",
              "\n",
              "<svg xmlns=\"http://www.w3.org/2000/svg\" height=\"24px\"viewBox=\"0 0 24 24\"\n",
              "     width=\"24px\">\n",
              "    <g>\n",
              "        <path d=\"M19 3H5c-1.1 0-2 .9-2 2v14c0 1.1.9 2 2 2h14c1.1 0 2-.9 2-2V5c0-1.1-.9-2-2-2zM9 17H7v-7h2v7zm4 0h-2V7h2v10zm4 0h-2v-4h2v4z\"/>\n",
              "    </g>\n",
              "</svg>\n",
              "  </button>\n",
              "\n",
              "<style>\n",
              "  .colab-df-quickchart {\n",
              "      --bg-color: #E8F0FE;\n",
              "      --fill-color: #1967D2;\n",
              "      --hover-bg-color: #E2EBFA;\n",
              "      --hover-fill-color: #174EA6;\n",
              "      --disabled-fill-color: #AAA;\n",
              "      --disabled-bg-color: #DDD;\n",
              "  }\n",
              "\n",
              "  [theme=dark] .colab-df-quickchart {\n",
              "      --bg-color: #3B4455;\n",
              "      --fill-color: #D2E3FC;\n",
              "      --hover-bg-color: #434B5C;\n",
              "      --hover-fill-color: #FFFFFF;\n",
              "      --disabled-bg-color: #3B4455;\n",
              "      --disabled-fill-color: #666;\n",
              "  }\n",
              "\n",
              "  .colab-df-quickchart {\n",
              "    background-color: var(--bg-color);\n",
              "    border: none;\n",
              "    border-radius: 50%;\n",
              "    cursor: pointer;\n",
              "    display: none;\n",
              "    fill: var(--fill-color);\n",
              "    height: 32px;\n",
              "    padding: 0;\n",
              "    width: 32px;\n",
              "  }\n",
              "\n",
              "  .colab-df-quickchart:hover {\n",
              "    background-color: var(--hover-bg-color);\n",
              "    box-shadow: 0 1px 2px rgba(60, 64, 67, 0.3), 0 1px 3px 1px rgba(60, 64, 67, 0.15);\n",
              "    fill: var(--button-hover-fill-color);\n",
              "  }\n",
              "\n",
              "  .colab-df-quickchart-complete:disabled,\n",
              "  .colab-df-quickchart-complete:disabled:hover {\n",
              "    background-color: var(--disabled-bg-color);\n",
              "    fill: var(--disabled-fill-color);\n",
              "    box-shadow: none;\n",
              "  }\n",
              "\n",
              "  .colab-df-spinner {\n",
              "    border: 2px solid var(--fill-color);\n",
              "    border-color: transparent;\n",
              "    border-bottom-color: var(--fill-color);\n",
              "    animation:\n",
              "      spin 1s steps(1) infinite;\n",
              "  }\n",
              "\n",
              "  @keyframes spin {\n",
              "    0% {\n",
              "      border-color: transparent;\n",
              "      border-bottom-color: var(--fill-color);\n",
              "      border-left-color: var(--fill-color);\n",
              "    }\n",
              "    20% {\n",
              "      border-color: transparent;\n",
              "      border-left-color: var(--fill-color);\n",
              "      border-top-color: var(--fill-color);\n",
              "    }\n",
              "    30% {\n",
              "      border-color: transparent;\n",
              "      border-left-color: var(--fill-color);\n",
              "      border-top-color: var(--fill-color);\n",
              "      border-right-color: var(--fill-color);\n",
              "    }\n",
              "    40% {\n",
              "      border-color: transparent;\n",
              "      border-right-color: var(--fill-color);\n",
              "      border-top-color: var(--fill-color);\n",
              "    }\n",
              "    60% {\n",
              "      border-color: transparent;\n",
              "      border-right-color: var(--fill-color);\n",
              "    }\n",
              "    80% {\n",
              "      border-color: transparent;\n",
              "      border-right-color: var(--fill-color);\n",
              "      border-bottom-color: var(--fill-color);\n",
              "    }\n",
              "    90% {\n",
              "      border-color: transparent;\n",
              "      border-bottom-color: var(--fill-color);\n",
              "    }\n",
              "  }\n",
              "</style>\n",
              "\n",
              "  <script>\n",
              "    async function quickchart(key) {\n",
              "      const quickchartButtonEl =\n",
              "        document.querySelector('#' + key + ' button');\n",
              "      quickchartButtonEl.disabled = true;  // To prevent multiple clicks.\n",
              "      quickchartButtonEl.classList.add('colab-df-spinner');\n",
              "      try {\n",
              "        const charts = await google.colab.kernel.invokeFunction(\n",
              "            'suggestCharts', [key], {});\n",
              "      } catch (error) {\n",
              "        console.error('Error during call to suggestCharts:', error);\n",
              "      }\n",
              "      quickchartButtonEl.classList.remove('colab-df-spinner');\n",
              "      quickchartButtonEl.classList.add('colab-df-quickchart-complete');\n",
              "    }\n",
              "    (() => {\n",
              "      let quickchartButtonEl =\n",
              "        document.querySelector('#df-e7799f63-d42d-4d7a-aa89-1ddbb04e6f50 button');\n",
              "      quickchartButtonEl.style.display =\n",
              "        google.colab.kernel.accessAllowed ? 'block' : 'none';\n",
              "    })();\n",
              "  </script>\n",
              "</div>\n",
              "\n",
              "    </div>\n",
              "  </div>\n"
            ],
            "application/vnd.google.colaboratory.intrinsic+json": {
              "type": "dataframe",
              "variable_name": "df",
              "summary": "{\n  \"name\": \"df\",\n  \"rows\": 20640,\n  \"fields\": [\n    {\n      \"column\": \"longitude\",\n      \"properties\": {\n        \"dtype\": \"number\",\n        \"std\": 2.0035317235025882,\n        \"min\": -124.35,\n        \"max\": -114.31,\n        \"num_unique_values\": 844,\n        \"samples\": [\n          -118.63,\n          -119.86,\n          -121.26\n        ],\n        \"semantic_type\": \"\",\n        \"description\": \"\"\n      }\n    },\n    {\n      \"column\": \"latitude\",\n      \"properties\": {\n        \"dtype\": \"number\",\n        \"std\": 2.1359523974571153,\n        \"min\": 32.54,\n        \"max\": 41.95,\n        \"num_unique_values\": 862,\n        \"samples\": [\n          33.7,\n          34.41,\n          38.24\n        ],\n        \"semantic_type\": \"\",\n        \"description\": \"\"\n      }\n    },\n    {\n      \"column\": \"housing_median_age\",\n      \"properties\": {\n        \"dtype\": \"number\",\n        \"std\": 12,\n        \"min\": 1,\n        \"max\": 52,\n        \"num_unique_values\": 52,\n        \"samples\": [\n          35,\n          25,\n          7\n        ],\n        \"semantic_type\": \"\",\n        \"description\": \"\"\n      }\n    },\n    {\n      \"column\": \"total_rooms\",\n      \"properties\": {\n        \"dtype\": \"number\",\n        \"std\": 2181,\n        \"min\": 2,\n        \"max\": 39320,\n        \"num_unique_values\": 5926,\n        \"samples\": [\n          699,\n          1544,\n          3966\n        ],\n        \"semantic_type\": \"\",\n        \"description\": \"\"\n      }\n    },\n    {\n      \"column\": \"total_bedrooms\",\n      \"properties\": {\n        \"dtype\": \"number\",\n        \"std\": 421.3850700740323,\n        \"min\": 1.0,\n        \"max\": 6445.0,\n        \"num_unique_values\": 1923,\n        \"samples\": [\n          1538.0,\n          1298.0,\n          1578.0\n        ],\n        \"semantic_type\": \"\",\n        \"description\": \"\"\n      }\n    },\n    {\n      \"column\": \"population\",\n      \"properties\": {\n        \"dtype\": \"number\",\n        \"std\": 1132,\n        \"min\": 3,\n        \"max\": 35682,\n        \"num_unique_values\": 3888,\n        \"samples\": [\n          4169,\n          636,\n          3367\n        ],\n        \"semantic_type\": \"\",\n        \"description\": \"\"\n      }\n    },\n    {\n      \"column\": \"households\",\n      \"properties\": {\n        \"dtype\": \"number\",\n        \"std\": 382,\n        \"min\": 1,\n        \"max\": 6082,\n        \"num_unique_values\": 1815,\n        \"samples\": [\n          21,\n          750,\n          1447\n        ],\n        \"semantic_type\": \"\",\n        \"description\": \"\"\n      }\n    },\n    {\n      \"column\": \"median_income\",\n      \"properties\": {\n        \"dtype\": \"number\",\n        \"std\": 1.8998217179452688,\n        \"min\": 0.4999,\n        \"max\": 15.0001,\n        \"num_unique_values\": 12928,\n        \"samples\": [\n          5.0286,\n          2.0433,\n          6.1228\n        ],\n        \"semantic_type\": \"\",\n        \"description\": \"\"\n      }\n    },\n    {\n      \"column\": \"median_house_value\",\n      \"properties\": {\n        \"dtype\": \"number\",\n        \"std\": 115395,\n        \"min\": 14999,\n        \"max\": 500001,\n        \"num_unique_values\": 3842,\n        \"samples\": [\n          194300,\n          379000,\n          230100\n        ],\n        \"semantic_type\": \"\",\n        \"description\": \"\"\n      }\n    }\n  ]\n}"
            }
          },
          "metadata": {},
          "execution_count": 5
        }
      ]
    },
    {
      "cell_type": "code",
      "source": [
        "df.dropna(inplace=True)"
      ],
      "metadata": {
        "id": "HsUIw6LTp0Jj"
      },
      "execution_count": null,
      "outputs": []
    },
    {
      "cell_type": "code",
      "source": [
        "X = df.drop(\"median_house_value\", axis=1)\n",
        "y = df[\"median_house_value\"]"
      ],
      "metadata": {
        "id": "gAcJd6VdoOvG"
      },
      "execution_count": null,
      "outputs": []
    },
    {
      "cell_type": "code",
      "source": [
        "from sklearn.preprocessing import StandardScaler\n",
        "scaler = StandardScaler()\n",
        "X = pd.DataFrame(scaler.fit_transform(X))\n"
      ],
      "metadata": {
        "id": "bW7wSIKBrvyt"
      },
      "execution_count": null,
      "outputs": []
    },
    {
      "cell_type": "code",
      "source": [
        "from sklearn.model_selection import train_test_split\n",
        "X_train, X_test, y_train, y_test = train_test_split(X, y, test_size=0.2, random_state=42)"
      ],
      "metadata": {
        "id": "dezLrmYLo3cq"
      },
      "execution_count": null,
      "outputs": []
    },
    {
      "cell_type": "code",
      "source": [
        "# Let's use calculus\n",
        "from sklearn.linear_model import LinearRegression\n",
        "model = LinearRegression()\n",
        "model.fit(X_train, y_train)"
      ],
      "metadata": {
        "colab": {
          "base_uri": "https://localhost:8080/",
          "height": 74
        },
        "id": "3ezi-QBTpKuA",
        "outputId": "70e0d175-86a3-4f40-c655-e9e24e77609b"
      },
      "execution_count": null,
      "outputs": [
        {
          "output_type": "execute_result",
          "data": {
            "text/plain": [
              "LinearRegression()"
            ],
            "text/html": [
              "<style>#sk-container-id-1 {color: black;background-color: white;}#sk-container-id-1 pre{padding: 0;}#sk-container-id-1 div.sk-toggleable {background-color: white;}#sk-container-id-1 label.sk-toggleable__label {cursor: pointer;display: block;width: 100%;margin-bottom: 0;padding: 0.3em;box-sizing: border-box;text-align: center;}#sk-container-id-1 label.sk-toggleable__label-arrow:before {content: \"▸\";float: left;margin-right: 0.25em;color: #696969;}#sk-container-id-1 label.sk-toggleable__label-arrow:hover:before {color: black;}#sk-container-id-1 div.sk-estimator:hover label.sk-toggleable__label-arrow:before {color: black;}#sk-container-id-1 div.sk-toggleable__content {max-height: 0;max-width: 0;overflow: hidden;text-align: left;background-color: #f0f8ff;}#sk-container-id-1 div.sk-toggleable__content pre {margin: 0.2em;color: black;border-radius: 0.25em;background-color: #f0f8ff;}#sk-container-id-1 input.sk-toggleable__control:checked~div.sk-toggleable__content {max-height: 200px;max-width: 100%;overflow: auto;}#sk-container-id-1 input.sk-toggleable__control:checked~label.sk-toggleable__label-arrow:before {content: \"▾\";}#sk-container-id-1 div.sk-estimator input.sk-toggleable__control:checked~label.sk-toggleable__label {background-color: #d4ebff;}#sk-container-id-1 div.sk-label input.sk-toggleable__control:checked~label.sk-toggleable__label {background-color: #d4ebff;}#sk-container-id-1 input.sk-hidden--visually {border: 0;clip: rect(1px 1px 1px 1px);clip: rect(1px, 1px, 1px, 1px);height: 1px;margin: -1px;overflow: hidden;padding: 0;position: absolute;width: 1px;}#sk-container-id-1 div.sk-estimator {font-family: monospace;background-color: #f0f8ff;border: 1px dotted black;border-radius: 0.25em;box-sizing: border-box;margin-bottom: 0.5em;}#sk-container-id-1 div.sk-estimator:hover {background-color: #d4ebff;}#sk-container-id-1 div.sk-parallel-item::after {content: \"\";width: 100%;border-bottom: 1px solid gray;flex-grow: 1;}#sk-container-id-1 div.sk-label:hover label.sk-toggleable__label {background-color: #d4ebff;}#sk-container-id-1 div.sk-serial::before {content: \"\";position: absolute;border-left: 1px solid gray;box-sizing: border-box;top: 0;bottom: 0;left: 50%;z-index: 0;}#sk-container-id-1 div.sk-serial {display: flex;flex-direction: column;align-items: center;background-color: white;padding-right: 0.2em;padding-left: 0.2em;position: relative;}#sk-container-id-1 div.sk-item {position: relative;z-index: 1;}#sk-container-id-1 div.sk-parallel {display: flex;align-items: stretch;justify-content: center;background-color: white;position: relative;}#sk-container-id-1 div.sk-item::before, #sk-container-id-1 div.sk-parallel-item::before {content: \"\";position: absolute;border-left: 1px solid gray;box-sizing: border-box;top: 0;bottom: 0;left: 50%;z-index: -1;}#sk-container-id-1 div.sk-parallel-item {display: flex;flex-direction: column;z-index: 1;position: relative;background-color: white;}#sk-container-id-1 div.sk-parallel-item:first-child::after {align-self: flex-end;width: 50%;}#sk-container-id-1 div.sk-parallel-item:last-child::after {align-self: flex-start;width: 50%;}#sk-container-id-1 div.sk-parallel-item:only-child::after {width: 0;}#sk-container-id-1 div.sk-dashed-wrapped {border: 1px dashed gray;margin: 0 0.4em 0.5em 0.4em;box-sizing: border-box;padding-bottom: 0.4em;background-color: white;}#sk-container-id-1 div.sk-label label {font-family: monospace;font-weight: bold;display: inline-block;line-height: 1.2em;}#sk-container-id-1 div.sk-label-container {text-align: center;}#sk-container-id-1 div.sk-container {/* jupyter's `normalize.less` sets `[hidden] { display: none; }` but bootstrap.min.css set `[hidden] { display: none !important; }` so we also need the `!important` here to be able to override the default hidden behavior on the sphinx rendered scikit-learn.org. See: https://github.com/scikit-learn/scikit-learn/issues/21755 */display: inline-block !important;position: relative;}#sk-container-id-1 div.sk-text-repr-fallback {display: none;}</style><div id=\"sk-container-id-1\" class=\"sk-top-container\"><div class=\"sk-text-repr-fallback\"><pre>LinearRegression()</pre><b>In a Jupyter environment, please rerun this cell to show the HTML representation or trust the notebook. <br />On GitHub, the HTML representation is unable to render, please try loading this page with nbviewer.org.</b></div><div class=\"sk-container\" hidden><div class=\"sk-item\"><div class=\"sk-estimator sk-toggleable\"><input class=\"sk-toggleable__control sk-hidden--visually\" id=\"sk-estimator-id-1\" type=\"checkbox\" checked><label for=\"sk-estimator-id-1\" class=\"sk-toggleable__label sk-toggleable__label-arrow\">LinearRegression</label><div class=\"sk-toggleable__content\"><pre>LinearRegression()</pre></div></div></div></div></div>"
            ]
          },
          "metadata": {},
          "execution_count": 10
        }
      ]
    },
    {
      "cell_type": "code",
      "source": [
        "y_pred_calculus = model.predict(X_test)"
      ],
      "metadata": {
        "id": "W7mijLB0pbBF"
      },
      "execution_count": null,
      "outputs": []
    },
    {
      "cell_type": "code",
      "source": [
        "y_pred_calculus"
      ],
      "metadata": {
        "colab": {
          "base_uri": "https://localhost:8080/"
        },
        "id": "Y7uJ5AMsptGN",
        "outputId": "cc0ef307-e663-4733-ab3f-3613f42fecfa"
      },
      "execution_count": null,
      "outputs": [
        {
          "output_type": "execute_result",
          "data": {
            "text/plain": [
              "array([197058.03752153, 157508.79088918, 202099.26270387, ...,\n",
              "       131098.67538845, 155468.78077784, 166363.59962368])"
            ]
          },
          "metadata": {},
          "execution_count": 12
        }
      ]
    },
    {
      "cell_type": "code",
      "source": [
        "from sklearn.metrics import mean_absolute_error, mean_squared_error\n",
        "mean_absolute_error(y_test, y_pred_calculus)"
      ],
      "metadata": {
        "colab": {
          "base_uri": "https://localhost:8080/"
        },
        "id": "TaJtElD8qeU9",
        "outputId": "1a8d5588-17b9-43a5-b12e-011c900b43ee"
      },
      "execution_count": null,
      "outputs": [
        {
          "output_type": "execute_result",
          "data": {
            "text/plain": [
              "51372.67217050054"
            ]
          },
          "metadata": {},
          "execution_count": 13
        }
      ]
    },
    {
      "cell_type": "code",
      "source": [
        "from sklearn.metrics import r2_score\n",
        "r2_score(y_test, y_pred_calculus)"
      ],
      "metadata": {
        "colab": {
          "base_uri": "https://localhost:8080/"
        },
        "id": "NRxwuNl0p8UB",
        "outputId": "29fb613e-fcbb-478a-d540-83e305b9de7c"
      },
      "execution_count": null,
      "outputs": [
        {
          "output_type": "execute_result",
          "data": {
            "text/plain": [
              "0.6400865688993737"
            ]
          },
          "metadata": {},
          "execution_count": 14
        }
      ]
    },
    {
      "cell_type": "code",
      "source": [
        "from sklearn.linear_model import SGDRegressor\n",
        "model = SGDRegressor()\n",
        "model.fit(X_train, y_train)"
      ],
      "metadata": {
        "colab": {
          "base_uri": "https://localhost:8080/",
          "height": 74
        },
        "id": "rejKhRh5qxMZ",
        "outputId": "155ee4d5-524b-40dc-ec77-db0ba9184e83"
      },
      "execution_count": null,
      "outputs": [
        {
          "output_type": "execute_result",
          "data": {
            "text/plain": [
              "SGDRegressor()"
            ],
            "text/html": [
              "<style>#sk-container-id-2 {color: black;background-color: white;}#sk-container-id-2 pre{padding: 0;}#sk-container-id-2 div.sk-toggleable {background-color: white;}#sk-container-id-2 label.sk-toggleable__label {cursor: pointer;display: block;width: 100%;margin-bottom: 0;padding: 0.3em;box-sizing: border-box;text-align: center;}#sk-container-id-2 label.sk-toggleable__label-arrow:before {content: \"▸\";float: left;margin-right: 0.25em;color: #696969;}#sk-container-id-2 label.sk-toggleable__label-arrow:hover:before {color: black;}#sk-container-id-2 div.sk-estimator:hover label.sk-toggleable__label-arrow:before {color: black;}#sk-container-id-2 div.sk-toggleable__content {max-height: 0;max-width: 0;overflow: hidden;text-align: left;background-color: #f0f8ff;}#sk-container-id-2 div.sk-toggleable__content pre {margin: 0.2em;color: black;border-radius: 0.25em;background-color: #f0f8ff;}#sk-container-id-2 input.sk-toggleable__control:checked~div.sk-toggleable__content {max-height: 200px;max-width: 100%;overflow: auto;}#sk-container-id-2 input.sk-toggleable__control:checked~label.sk-toggleable__label-arrow:before {content: \"▾\";}#sk-container-id-2 div.sk-estimator input.sk-toggleable__control:checked~label.sk-toggleable__label {background-color: #d4ebff;}#sk-container-id-2 div.sk-label input.sk-toggleable__control:checked~label.sk-toggleable__label {background-color: #d4ebff;}#sk-container-id-2 input.sk-hidden--visually {border: 0;clip: rect(1px 1px 1px 1px);clip: rect(1px, 1px, 1px, 1px);height: 1px;margin: -1px;overflow: hidden;padding: 0;position: absolute;width: 1px;}#sk-container-id-2 div.sk-estimator {font-family: monospace;background-color: #f0f8ff;border: 1px dotted black;border-radius: 0.25em;box-sizing: border-box;margin-bottom: 0.5em;}#sk-container-id-2 div.sk-estimator:hover {background-color: #d4ebff;}#sk-container-id-2 div.sk-parallel-item::after {content: \"\";width: 100%;border-bottom: 1px solid gray;flex-grow: 1;}#sk-container-id-2 div.sk-label:hover label.sk-toggleable__label {background-color: #d4ebff;}#sk-container-id-2 div.sk-serial::before {content: \"\";position: absolute;border-left: 1px solid gray;box-sizing: border-box;top: 0;bottom: 0;left: 50%;z-index: 0;}#sk-container-id-2 div.sk-serial {display: flex;flex-direction: column;align-items: center;background-color: white;padding-right: 0.2em;padding-left: 0.2em;position: relative;}#sk-container-id-2 div.sk-item {position: relative;z-index: 1;}#sk-container-id-2 div.sk-parallel {display: flex;align-items: stretch;justify-content: center;background-color: white;position: relative;}#sk-container-id-2 div.sk-item::before, #sk-container-id-2 div.sk-parallel-item::before {content: \"\";position: absolute;border-left: 1px solid gray;box-sizing: border-box;top: 0;bottom: 0;left: 50%;z-index: -1;}#sk-container-id-2 div.sk-parallel-item {display: flex;flex-direction: column;z-index: 1;position: relative;background-color: white;}#sk-container-id-2 div.sk-parallel-item:first-child::after {align-self: flex-end;width: 50%;}#sk-container-id-2 div.sk-parallel-item:last-child::after {align-self: flex-start;width: 50%;}#sk-container-id-2 div.sk-parallel-item:only-child::after {width: 0;}#sk-container-id-2 div.sk-dashed-wrapped {border: 1px dashed gray;margin: 0 0.4em 0.5em 0.4em;box-sizing: border-box;padding-bottom: 0.4em;background-color: white;}#sk-container-id-2 div.sk-label label {font-family: monospace;font-weight: bold;display: inline-block;line-height: 1.2em;}#sk-container-id-2 div.sk-label-container {text-align: center;}#sk-container-id-2 div.sk-container {/* jupyter's `normalize.less` sets `[hidden] { display: none; }` but bootstrap.min.css set `[hidden] { display: none !important; }` so we also need the `!important` here to be able to override the default hidden behavior on the sphinx rendered scikit-learn.org. See: https://github.com/scikit-learn/scikit-learn/issues/21755 */display: inline-block !important;position: relative;}#sk-container-id-2 div.sk-text-repr-fallback {display: none;}</style><div id=\"sk-container-id-2\" class=\"sk-top-container\"><div class=\"sk-text-repr-fallback\"><pre>SGDRegressor()</pre><b>In a Jupyter environment, please rerun this cell to show the HTML representation or trust the notebook. <br />On GitHub, the HTML representation is unable to render, please try loading this page with nbviewer.org.</b></div><div class=\"sk-container\" hidden><div class=\"sk-item\"><div class=\"sk-estimator sk-toggleable\"><input class=\"sk-toggleable__control sk-hidden--visually\" id=\"sk-estimator-id-2\" type=\"checkbox\" checked><label for=\"sk-estimator-id-2\" class=\"sk-toggleable__label sk-toggleable__label-arrow\">SGDRegressor</label><div class=\"sk-toggleable__content\"><pre>SGDRegressor()</pre></div></div></div></div></div>"
            ]
          },
          "metadata": {},
          "execution_count": 15
        }
      ]
    },
    {
      "cell_type": "code",
      "source": [
        "y_pred_sgd = model.predict(X_test)"
      ],
      "metadata": {
        "id": "yxIxMb3orJ8w"
      },
      "execution_count": null,
      "outputs": []
    },
    {
      "cell_type": "code",
      "source": [
        "mean_absolute_error(y_test, y_pred_sgd)"
      ],
      "metadata": {
        "colab": {
          "base_uri": "https://localhost:8080/"
        },
        "id": "wZJmrf7RrPjk",
        "outputId": "9324cb02-157d-4df2-9f54-e548006acd4c"
      },
      "execution_count": null,
      "outputs": [
        {
          "output_type": "execute_result",
          "data": {
            "text/plain": [
              "51528.037779995844"
            ]
          },
          "metadata": {},
          "execution_count": 17
        }
      ]
    },
    {
      "cell_type": "code",
      "source": [
        "r2_score(y_test, y_pred_sgd)"
      ],
      "metadata": {
        "colab": {
          "base_uri": "https://localhost:8080/"
        },
        "id": "2dayNVCWrRcc",
        "outputId": "194608b3-7594-4a2f-9172-758c92fd9425"
      },
      "execution_count": null,
      "outputs": [
        {
          "output_type": "execute_result",
          "data": {
            "text/plain": [
              "0.6395295232375571"
            ]
          },
          "metadata": {},
          "execution_count": 18
        }
      ]
    },
    {
      "cell_type": "code",
      "source": [
        "diabetes = pd.read_csv(\"https://raw.githubusercontent.com/a-nagar/datasets/main/pima_indian_diabetes.csv\")"
      ],
      "metadata": {
        "id": "PYYfH0ymrbDH"
      },
      "execution_count": null,
      "outputs": []
    },
    {
      "cell_type": "code",
      "source": [
        "diabetes.head()"
      ],
      "metadata": {
        "colab": {
          "base_uri": "https://localhost:8080/",
          "height": 206
        },
        "id": "j98ePby3v82d",
        "outputId": "ec44a1ff-98c4-4933-8582-3bc04877a897"
      },
      "execution_count": null,
      "outputs": [
        {
          "output_type": "execute_result",
          "data": {
            "text/plain": [
              "   Pregnancies  Glucose  BloodPressure  SkinThickness  Insulin   BMI  \\\n",
              "0            6      148             72             35        0  33.6   \n",
              "1            1       85             66             29        0  26.6   \n",
              "2            8      183             64              0        0  23.3   \n",
              "3            1       89             66             23       94  28.1   \n",
              "4            0      137             40             35      168  43.1   \n",
              "\n",
              "   DiabetesPedigreeFunction  Age  Outcome  \n",
              "0                     0.627   50        1  \n",
              "1                     0.351   31        0  \n",
              "2                     0.672   32        1  \n",
              "3                     0.167   21        0  \n",
              "4                     2.288   33        1  "
            ],
            "text/html": [
              "\n",
              "  <div id=\"df-04774e5e-be20-410f-a6b3-5f11ab920438\" class=\"colab-df-container\">\n",
              "    <div>\n",
              "<style scoped>\n",
              "    .dataframe tbody tr th:only-of-type {\n",
              "        vertical-align: middle;\n",
              "    }\n",
              "\n",
              "    .dataframe tbody tr th {\n",
              "        vertical-align: top;\n",
              "    }\n",
              "\n",
              "    .dataframe thead th {\n",
              "        text-align: right;\n",
              "    }\n",
              "</style>\n",
              "<table border=\"1\" class=\"dataframe\">\n",
              "  <thead>\n",
              "    <tr style=\"text-align: right;\">\n",
              "      <th></th>\n",
              "      <th>Pregnancies</th>\n",
              "      <th>Glucose</th>\n",
              "      <th>BloodPressure</th>\n",
              "      <th>SkinThickness</th>\n",
              "      <th>Insulin</th>\n",
              "      <th>BMI</th>\n",
              "      <th>DiabetesPedigreeFunction</th>\n",
              "      <th>Age</th>\n",
              "      <th>Outcome</th>\n",
              "    </tr>\n",
              "  </thead>\n",
              "  <tbody>\n",
              "    <tr>\n",
              "      <th>0</th>\n",
              "      <td>6</td>\n",
              "      <td>148</td>\n",
              "      <td>72</td>\n",
              "      <td>35</td>\n",
              "      <td>0</td>\n",
              "      <td>33.6</td>\n",
              "      <td>0.627</td>\n",
              "      <td>50</td>\n",
              "      <td>1</td>\n",
              "    </tr>\n",
              "    <tr>\n",
              "      <th>1</th>\n",
              "      <td>1</td>\n",
              "      <td>85</td>\n",
              "      <td>66</td>\n",
              "      <td>29</td>\n",
              "      <td>0</td>\n",
              "      <td>26.6</td>\n",
              "      <td>0.351</td>\n",
              "      <td>31</td>\n",
              "      <td>0</td>\n",
              "    </tr>\n",
              "    <tr>\n",
              "      <th>2</th>\n",
              "      <td>8</td>\n",
              "      <td>183</td>\n",
              "      <td>64</td>\n",
              "      <td>0</td>\n",
              "      <td>0</td>\n",
              "      <td>23.3</td>\n",
              "      <td>0.672</td>\n",
              "      <td>32</td>\n",
              "      <td>1</td>\n",
              "    </tr>\n",
              "    <tr>\n",
              "      <th>3</th>\n",
              "      <td>1</td>\n",
              "      <td>89</td>\n",
              "      <td>66</td>\n",
              "      <td>23</td>\n",
              "      <td>94</td>\n",
              "      <td>28.1</td>\n",
              "      <td>0.167</td>\n",
              "      <td>21</td>\n",
              "      <td>0</td>\n",
              "    </tr>\n",
              "    <tr>\n",
              "      <th>4</th>\n",
              "      <td>0</td>\n",
              "      <td>137</td>\n",
              "      <td>40</td>\n",
              "      <td>35</td>\n",
              "      <td>168</td>\n",
              "      <td>43.1</td>\n",
              "      <td>2.288</td>\n",
              "      <td>33</td>\n",
              "      <td>1</td>\n",
              "    </tr>\n",
              "  </tbody>\n",
              "</table>\n",
              "</div>\n",
              "    <div class=\"colab-df-buttons\">\n",
              "\n",
              "  <div class=\"colab-df-container\">\n",
              "    <button class=\"colab-df-convert\" onclick=\"convertToInteractive('df-04774e5e-be20-410f-a6b3-5f11ab920438')\"\n",
              "            title=\"Convert this dataframe to an interactive table.\"\n",
              "            style=\"display:none;\">\n",
              "\n",
              "  <svg xmlns=\"http://www.w3.org/2000/svg\" height=\"24px\" viewBox=\"0 -960 960 960\">\n",
              "    <path d=\"M120-120v-720h720v720H120Zm60-500h600v-160H180v160Zm220 220h160v-160H400v160Zm0 220h160v-160H400v160ZM180-400h160v-160H180v160Zm440 0h160v-160H620v160ZM180-180h160v-160H180v160Zm440 0h160v-160H620v160Z\"/>\n",
              "  </svg>\n",
              "    </button>\n",
              "\n",
              "  <style>\n",
              "    .colab-df-container {\n",
              "      display:flex;\n",
              "      gap: 12px;\n",
              "    }\n",
              "\n",
              "    .colab-df-convert {\n",
              "      background-color: #E8F0FE;\n",
              "      border: none;\n",
              "      border-radius: 50%;\n",
              "      cursor: pointer;\n",
              "      display: none;\n",
              "      fill: #1967D2;\n",
              "      height: 32px;\n",
              "      padding: 0 0 0 0;\n",
              "      width: 32px;\n",
              "    }\n",
              "\n",
              "    .colab-df-convert:hover {\n",
              "      background-color: #E2EBFA;\n",
              "      box-shadow: 0px 1px 2px rgba(60, 64, 67, 0.3), 0px 1px 3px 1px rgba(60, 64, 67, 0.15);\n",
              "      fill: #174EA6;\n",
              "    }\n",
              "\n",
              "    .colab-df-buttons div {\n",
              "      margin-bottom: 4px;\n",
              "    }\n",
              "\n",
              "    [theme=dark] .colab-df-convert {\n",
              "      background-color: #3B4455;\n",
              "      fill: #D2E3FC;\n",
              "    }\n",
              "\n",
              "    [theme=dark] .colab-df-convert:hover {\n",
              "      background-color: #434B5C;\n",
              "      box-shadow: 0px 1px 3px 1px rgba(0, 0, 0, 0.15);\n",
              "      filter: drop-shadow(0px 1px 2px rgba(0, 0, 0, 0.3));\n",
              "      fill: #FFFFFF;\n",
              "    }\n",
              "  </style>\n",
              "\n",
              "    <script>\n",
              "      const buttonEl =\n",
              "        document.querySelector('#df-04774e5e-be20-410f-a6b3-5f11ab920438 button.colab-df-convert');\n",
              "      buttonEl.style.display =\n",
              "        google.colab.kernel.accessAllowed ? 'block' : 'none';\n",
              "\n",
              "      async function convertToInteractive(key) {\n",
              "        const element = document.querySelector('#df-04774e5e-be20-410f-a6b3-5f11ab920438');\n",
              "        const dataTable =\n",
              "          await google.colab.kernel.invokeFunction('convertToInteractive',\n",
              "                                                    [key], {});\n",
              "        if (!dataTable) return;\n",
              "\n",
              "        const docLinkHtml = 'Like what you see? Visit the ' +\n",
              "          '<a target=\"_blank\" href=https://colab.research.google.com/notebooks/data_table.ipynb>data table notebook</a>'\n",
              "          + ' to learn more about interactive tables.';\n",
              "        element.innerHTML = '';\n",
              "        dataTable['output_type'] = 'display_data';\n",
              "        await google.colab.output.renderOutput(dataTable, element);\n",
              "        const docLink = document.createElement('div');\n",
              "        docLink.innerHTML = docLinkHtml;\n",
              "        element.appendChild(docLink);\n",
              "      }\n",
              "    </script>\n",
              "  </div>\n",
              "\n",
              "\n",
              "<div id=\"df-80ca42e5-9404-43a5-95ce-1d602452bb2f\">\n",
              "  <button class=\"colab-df-quickchart\" onclick=\"quickchart('df-80ca42e5-9404-43a5-95ce-1d602452bb2f')\"\n",
              "            title=\"Suggest charts\"\n",
              "            style=\"display:none;\">\n",
              "\n",
              "<svg xmlns=\"http://www.w3.org/2000/svg\" height=\"24px\"viewBox=\"0 0 24 24\"\n",
              "     width=\"24px\">\n",
              "    <g>\n",
              "        <path d=\"M19 3H5c-1.1 0-2 .9-2 2v14c0 1.1.9 2 2 2h14c1.1 0 2-.9 2-2V5c0-1.1-.9-2-2-2zM9 17H7v-7h2v7zm4 0h-2V7h2v10zm4 0h-2v-4h2v4z\"/>\n",
              "    </g>\n",
              "</svg>\n",
              "  </button>\n",
              "\n",
              "<style>\n",
              "  .colab-df-quickchart {\n",
              "      --bg-color: #E8F0FE;\n",
              "      --fill-color: #1967D2;\n",
              "      --hover-bg-color: #E2EBFA;\n",
              "      --hover-fill-color: #174EA6;\n",
              "      --disabled-fill-color: #AAA;\n",
              "      --disabled-bg-color: #DDD;\n",
              "  }\n",
              "\n",
              "  [theme=dark] .colab-df-quickchart {\n",
              "      --bg-color: #3B4455;\n",
              "      --fill-color: #D2E3FC;\n",
              "      --hover-bg-color: #434B5C;\n",
              "      --hover-fill-color: #FFFFFF;\n",
              "      --disabled-bg-color: #3B4455;\n",
              "      --disabled-fill-color: #666;\n",
              "  }\n",
              "\n",
              "  .colab-df-quickchart {\n",
              "    background-color: var(--bg-color);\n",
              "    border: none;\n",
              "    border-radius: 50%;\n",
              "    cursor: pointer;\n",
              "    display: none;\n",
              "    fill: var(--fill-color);\n",
              "    height: 32px;\n",
              "    padding: 0;\n",
              "    width: 32px;\n",
              "  }\n",
              "\n",
              "  .colab-df-quickchart:hover {\n",
              "    background-color: var(--hover-bg-color);\n",
              "    box-shadow: 0 1px 2px rgba(60, 64, 67, 0.3), 0 1px 3px 1px rgba(60, 64, 67, 0.15);\n",
              "    fill: var(--button-hover-fill-color);\n",
              "  }\n",
              "\n",
              "  .colab-df-quickchart-complete:disabled,\n",
              "  .colab-df-quickchart-complete:disabled:hover {\n",
              "    background-color: var(--disabled-bg-color);\n",
              "    fill: var(--disabled-fill-color);\n",
              "    box-shadow: none;\n",
              "  }\n",
              "\n",
              "  .colab-df-spinner {\n",
              "    border: 2px solid var(--fill-color);\n",
              "    border-color: transparent;\n",
              "    border-bottom-color: var(--fill-color);\n",
              "    animation:\n",
              "      spin 1s steps(1) infinite;\n",
              "  }\n",
              "\n",
              "  @keyframes spin {\n",
              "    0% {\n",
              "      border-color: transparent;\n",
              "      border-bottom-color: var(--fill-color);\n",
              "      border-left-color: var(--fill-color);\n",
              "    }\n",
              "    20% {\n",
              "      border-color: transparent;\n",
              "      border-left-color: var(--fill-color);\n",
              "      border-top-color: var(--fill-color);\n",
              "    }\n",
              "    30% {\n",
              "      border-color: transparent;\n",
              "      border-left-color: var(--fill-color);\n",
              "      border-top-color: var(--fill-color);\n",
              "      border-right-color: var(--fill-color);\n",
              "    }\n",
              "    40% {\n",
              "      border-color: transparent;\n",
              "      border-right-color: var(--fill-color);\n",
              "      border-top-color: var(--fill-color);\n",
              "    }\n",
              "    60% {\n",
              "      border-color: transparent;\n",
              "      border-right-color: var(--fill-color);\n",
              "    }\n",
              "    80% {\n",
              "      border-color: transparent;\n",
              "      border-right-color: var(--fill-color);\n",
              "      border-bottom-color: var(--fill-color);\n",
              "    }\n",
              "    90% {\n",
              "      border-color: transparent;\n",
              "      border-bottom-color: var(--fill-color);\n",
              "    }\n",
              "  }\n",
              "</style>\n",
              "\n",
              "  <script>\n",
              "    async function quickchart(key) {\n",
              "      const quickchartButtonEl =\n",
              "        document.querySelector('#' + key + ' button');\n",
              "      quickchartButtonEl.disabled = true;  // To prevent multiple clicks.\n",
              "      quickchartButtonEl.classList.add('colab-df-spinner');\n",
              "      try {\n",
              "        const charts = await google.colab.kernel.invokeFunction(\n",
              "            'suggestCharts', [key], {});\n",
              "      } catch (error) {\n",
              "        console.error('Error during call to suggestCharts:', error);\n",
              "      }\n",
              "      quickchartButtonEl.classList.remove('colab-df-spinner');\n",
              "      quickchartButtonEl.classList.add('colab-df-quickchart-complete');\n",
              "    }\n",
              "    (() => {\n",
              "      let quickchartButtonEl =\n",
              "        document.querySelector('#df-80ca42e5-9404-43a5-95ce-1d602452bb2f button');\n",
              "      quickchartButtonEl.style.display =\n",
              "        google.colab.kernel.accessAllowed ? 'block' : 'none';\n",
              "    })();\n",
              "  </script>\n",
              "</div>\n",
              "\n",
              "    </div>\n",
              "  </div>\n"
            ],
            "application/vnd.google.colaboratory.intrinsic+json": {
              "type": "dataframe",
              "variable_name": "diabetes",
              "summary": "{\n  \"name\": \"diabetes\",\n  \"rows\": 768,\n  \"fields\": [\n    {\n      \"column\": \"Pregnancies\",\n      \"properties\": {\n        \"dtype\": \"number\",\n        \"std\": 3,\n        \"min\": 0,\n        \"max\": 17,\n        \"num_unique_values\": 17,\n        \"samples\": [\n          6,\n          1,\n          3\n        ],\n        \"semantic_type\": \"\",\n        \"description\": \"\"\n      }\n    },\n    {\n      \"column\": \"Glucose\",\n      \"properties\": {\n        \"dtype\": \"number\",\n        \"std\": 31,\n        \"min\": 0,\n        \"max\": 199,\n        \"num_unique_values\": 136,\n        \"samples\": [\n          151,\n          101,\n          112\n        ],\n        \"semantic_type\": \"\",\n        \"description\": \"\"\n      }\n    },\n    {\n      \"column\": \"BloodPressure\",\n      \"properties\": {\n        \"dtype\": \"number\",\n        \"std\": 19,\n        \"min\": 0,\n        \"max\": 122,\n        \"num_unique_values\": 47,\n        \"samples\": [\n          86,\n          46,\n          85\n        ],\n        \"semantic_type\": \"\",\n        \"description\": \"\"\n      }\n    },\n    {\n      \"column\": \"SkinThickness\",\n      \"properties\": {\n        \"dtype\": \"number\",\n        \"std\": 15,\n        \"min\": 0,\n        \"max\": 99,\n        \"num_unique_values\": 51,\n        \"samples\": [\n          7,\n          12,\n          48\n        ],\n        \"semantic_type\": \"\",\n        \"description\": \"\"\n      }\n    },\n    {\n      \"column\": \"Insulin\",\n      \"properties\": {\n        \"dtype\": \"number\",\n        \"std\": 115,\n        \"min\": 0,\n        \"max\": 846,\n        \"num_unique_values\": 186,\n        \"samples\": [\n          52,\n          41,\n          183\n        ],\n        \"semantic_type\": \"\",\n        \"description\": \"\"\n      }\n    },\n    {\n      \"column\": \"BMI\",\n      \"properties\": {\n        \"dtype\": \"number\",\n        \"std\": 7.884160320375446,\n        \"min\": 0.0,\n        \"max\": 67.1,\n        \"num_unique_values\": 248,\n        \"samples\": [\n          19.9,\n          31.0,\n          38.1\n        ],\n        \"semantic_type\": \"\",\n        \"description\": \"\"\n      }\n    },\n    {\n      \"column\": \"DiabetesPedigreeFunction\",\n      \"properties\": {\n        \"dtype\": \"number\",\n        \"std\": 0.3313285950127749,\n        \"min\": 0.078,\n        \"max\": 2.42,\n        \"num_unique_values\": 517,\n        \"samples\": [\n          1.731,\n          0.426,\n          0.138\n        ],\n        \"semantic_type\": \"\",\n        \"description\": \"\"\n      }\n    },\n    {\n      \"column\": \"Age\",\n      \"properties\": {\n        \"dtype\": \"number\",\n        \"std\": 11,\n        \"min\": 21,\n        \"max\": 81,\n        \"num_unique_values\": 52,\n        \"samples\": [\n          60,\n          47,\n          72\n        ],\n        \"semantic_type\": \"\",\n        \"description\": \"\"\n      }\n    },\n    {\n      \"column\": \"Outcome\",\n      \"properties\": {\n        \"dtype\": \"number\",\n        \"std\": 0,\n        \"min\": 0,\n        \"max\": 1,\n        \"num_unique_values\": 2,\n        \"samples\": [\n          0,\n          1\n        ],\n        \"semantic_type\": \"\",\n        \"description\": \"\"\n      }\n    }\n  ]\n}"
            }
          },
          "metadata": {},
          "execution_count": 20
        }
      ]
    },
    {
      "cell_type": "code",
      "source": [
        "diabetes.shape"
      ],
      "metadata": {
        "colab": {
          "base_uri": "https://localhost:8080/"
        },
        "id": "S4lyn83YwBEk",
        "outputId": "58fe52f1-6389-4297-d4da-a90da5223b4c"
      },
      "execution_count": null,
      "outputs": [
        {
          "output_type": "execute_result",
          "data": {
            "text/plain": [
              "(768, 9)"
            ]
          },
          "metadata": {},
          "execution_count": 21
        }
      ]
    },
    {
      "cell_type": "code",
      "source": [
        "diabetes['Outcome'].value_counts()"
      ],
      "metadata": {
        "colab": {
          "base_uri": "https://localhost:8080/"
        },
        "id": "XLG5POHEwOLJ",
        "outputId": "95945b07-e420-4097-8989-e66143316624"
      },
      "execution_count": null,
      "outputs": [
        {
          "output_type": "execute_result",
          "data": {
            "text/plain": [
              "Outcome\n",
              "0    500\n",
              "1    268\n",
              "Name: count, dtype: int64"
            ]
          },
          "metadata": {},
          "execution_count": 22
        }
      ]
    },
    {
      "cell_type": "code",
      "source": [
        "X = diabetes.drop(\"Outcome\", axis=1)\n",
        "y = diabetes[\"Outcome\"]"
      ],
      "metadata": {
        "id": "cOCCSfRtGY7H"
      },
      "execution_count": null,
      "outputs": []
    },
    {
      "cell_type": "code",
      "source": [
        "X_train, X_test, y_train, y_test = train_test_split(X, y, test_size=0.2, random_state=42)"
      ],
      "metadata": {
        "id": "_t9z58pRGrpc"
      },
      "execution_count": null,
      "outputs": []
    },
    {
      "cell_type": "code",
      "source": [
        "from sklearn.linear_model import LogisticRegression\n",
        "model = LogisticRegression(max_iter=5000)\n",
        "model.fit(X_train, y_train)"
      ],
      "metadata": {
        "colab": {
          "base_uri": "https://localhost:8080/",
          "height": 74
        },
        "id": "H1i9dfLRGvND",
        "outputId": "b5ea0d76-00e6-42bf-a079-eb3c5015bece"
      },
      "execution_count": null,
      "outputs": [
        {
          "output_type": "execute_result",
          "data": {
            "text/plain": [
              "LogisticRegression(max_iter=5000)"
            ],
            "text/html": [
              "<style>#sk-container-id-3 {color: black;background-color: white;}#sk-container-id-3 pre{padding: 0;}#sk-container-id-3 div.sk-toggleable {background-color: white;}#sk-container-id-3 label.sk-toggleable__label {cursor: pointer;display: block;width: 100%;margin-bottom: 0;padding: 0.3em;box-sizing: border-box;text-align: center;}#sk-container-id-3 label.sk-toggleable__label-arrow:before {content: \"▸\";float: left;margin-right: 0.25em;color: #696969;}#sk-container-id-3 label.sk-toggleable__label-arrow:hover:before {color: black;}#sk-container-id-3 div.sk-estimator:hover label.sk-toggleable__label-arrow:before {color: black;}#sk-container-id-3 div.sk-toggleable__content {max-height: 0;max-width: 0;overflow: hidden;text-align: left;background-color: #f0f8ff;}#sk-container-id-3 div.sk-toggleable__content pre {margin: 0.2em;color: black;border-radius: 0.25em;background-color: #f0f8ff;}#sk-container-id-3 input.sk-toggleable__control:checked~div.sk-toggleable__content {max-height: 200px;max-width: 100%;overflow: auto;}#sk-container-id-3 input.sk-toggleable__control:checked~label.sk-toggleable__label-arrow:before {content: \"▾\";}#sk-container-id-3 div.sk-estimator input.sk-toggleable__control:checked~label.sk-toggleable__label {background-color: #d4ebff;}#sk-container-id-3 div.sk-label input.sk-toggleable__control:checked~label.sk-toggleable__label {background-color: #d4ebff;}#sk-container-id-3 input.sk-hidden--visually {border: 0;clip: rect(1px 1px 1px 1px);clip: rect(1px, 1px, 1px, 1px);height: 1px;margin: -1px;overflow: hidden;padding: 0;position: absolute;width: 1px;}#sk-container-id-3 div.sk-estimator {font-family: monospace;background-color: #f0f8ff;border: 1px dotted black;border-radius: 0.25em;box-sizing: border-box;margin-bottom: 0.5em;}#sk-container-id-3 div.sk-estimator:hover {background-color: #d4ebff;}#sk-container-id-3 div.sk-parallel-item::after {content: \"\";width: 100%;border-bottom: 1px solid gray;flex-grow: 1;}#sk-container-id-3 div.sk-label:hover label.sk-toggleable__label {background-color: #d4ebff;}#sk-container-id-3 div.sk-serial::before {content: \"\";position: absolute;border-left: 1px solid gray;box-sizing: border-box;top: 0;bottom: 0;left: 50%;z-index: 0;}#sk-container-id-3 div.sk-serial {display: flex;flex-direction: column;align-items: center;background-color: white;padding-right: 0.2em;padding-left: 0.2em;position: relative;}#sk-container-id-3 div.sk-item {position: relative;z-index: 1;}#sk-container-id-3 div.sk-parallel {display: flex;align-items: stretch;justify-content: center;background-color: white;position: relative;}#sk-container-id-3 div.sk-item::before, #sk-container-id-3 div.sk-parallel-item::before {content: \"\";position: absolute;border-left: 1px solid gray;box-sizing: border-box;top: 0;bottom: 0;left: 50%;z-index: -1;}#sk-container-id-3 div.sk-parallel-item {display: flex;flex-direction: column;z-index: 1;position: relative;background-color: white;}#sk-container-id-3 div.sk-parallel-item:first-child::after {align-self: flex-end;width: 50%;}#sk-container-id-3 div.sk-parallel-item:last-child::after {align-self: flex-start;width: 50%;}#sk-container-id-3 div.sk-parallel-item:only-child::after {width: 0;}#sk-container-id-3 div.sk-dashed-wrapped {border: 1px dashed gray;margin: 0 0.4em 0.5em 0.4em;box-sizing: border-box;padding-bottom: 0.4em;background-color: white;}#sk-container-id-3 div.sk-label label {font-family: monospace;font-weight: bold;display: inline-block;line-height: 1.2em;}#sk-container-id-3 div.sk-label-container {text-align: center;}#sk-container-id-3 div.sk-container {/* jupyter's `normalize.less` sets `[hidden] { display: none; }` but bootstrap.min.css set `[hidden] { display: none !important; }` so we also need the `!important` here to be able to override the default hidden behavior on the sphinx rendered scikit-learn.org. See: https://github.com/scikit-learn/scikit-learn/issues/21755 */display: inline-block !important;position: relative;}#sk-container-id-3 div.sk-text-repr-fallback {display: none;}</style><div id=\"sk-container-id-3\" class=\"sk-top-container\"><div class=\"sk-text-repr-fallback\"><pre>LogisticRegression(max_iter=5000)</pre><b>In a Jupyter environment, please rerun this cell to show the HTML representation or trust the notebook. <br />On GitHub, the HTML representation is unable to render, please try loading this page with nbviewer.org.</b></div><div class=\"sk-container\" hidden><div class=\"sk-item\"><div class=\"sk-estimator sk-toggleable\"><input class=\"sk-toggleable__control sk-hidden--visually\" id=\"sk-estimator-id-3\" type=\"checkbox\" checked><label for=\"sk-estimator-id-3\" class=\"sk-toggleable__label sk-toggleable__label-arrow\">LogisticRegression</label><div class=\"sk-toggleable__content\"><pre>LogisticRegression(max_iter=5000)</pre></div></div></div></div></div>"
            ]
          },
          "metadata": {},
          "execution_count": 25
        }
      ]
    },
    {
      "cell_type": "code",
      "source": [
        "model.coef_"
      ],
      "metadata": {
        "colab": {
          "base_uri": "https://localhost:8080/"
        },
        "id": "iVhlrzCEG8hC",
        "outputId": "d84030bf-d178-4aa2-9532-90ef0831d047"
      },
      "execution_count": null,
      "outputs": [
        {
          "output_type": "execute_result",
          "data": {
            "text/plain": [
              "array([[ 0.06454373,  0.03409222, -0.01387313,  0.00328315, -0.00180345,\n",
              "         0.10261653,  0.62730352,  0.03706176]])"
            ]
          },
          "metadata": {},
          "execution_count": 26
        }
      ]
    },
    {
      "cell_type": "code",
      "source": [
        "X.columns"
      ],
      "metadata": {
        "colab": {
          "base_uri": "https://localhost:8080/"
        },
        "id": "IeaQlo0cHOBK",
        "outputId": "972a0286-c60c-4cd4-dccc-eb7fb6e88943"
      },
      "execution_count": null,
      "outputs": [
        {
          "output_type": "execute_result",
          "data": {
            "text/plain": [
              "Index(['Pregnancies', 'Glucose', 'BloodPressure', 'SkinThickness', 'Insulin',\n",
              "       'BMI', 'DiabetesPedigreeFunction', 'Age'],\n",
              "      dtype='object')"
            ]
          },
          "metadata": {},
          "execution_count": 27
        }
      ]
    },
    {
      "cell_type": "code",
      "source": [
        "model.intercept_"
      ],
      "metadata": {
        "colab": {
          "base_uri": "https://localhost:8080/"
        },
        "id": "g3bCBk-VHQ3x",
        "outputId": "c4542da3-e192-43c9-8028-d5e762b16074"
      },
      "execution_count": null,
      "outputs": [
        {
          "output_type": "execute_result",
          "data": {
            "text/plain": [
              "array([-9.0068449])"
            ]
          },
          "metadata": {},
          "execution_count": 28
        }
      ]
    },
    {
      "cell_type": "code",
      "source": [
        "y_pred = model.predict(X_test)"
      ],
      "metadata": {
        "id": "NxuuQK6VHk4p"
      },
      "execution_count": null,
      "outputs": []
    },
    {
      "cell_type": "code",
      "source": [
        "from sklearn.metrics import accuracy_score\n",
        "accuracy_score(y_test, y_pred)"
      ],
      "metadata": {
        "colab": {
          "base_uri": "https://localhost:8080/"
        },
        "id": "mBQRn8kaHtDq",
        "outputId": "0236d42f-1045-4ee6-ccf8-e65dbc0689c2"
      },
      "execution_count": null,
      "outputs": [
        {
          "output_type": "execute_result",
          "data": {
            "text/plain": [
              "0.7467532467532467"
            ]
          },
          "metadata": {},
          "execution_count": 30
        }
      ]
    },
    {
      "cell_type": "code",
      "source": [
        "from sklearn.metrics import confusion_matrix, classification_report\n",
        "print(classification_report(y_test, y_pred))"
      ],
      "metadata": {
        "colab": {
          "base_uri": "https://localhost:8080/"
        },
        "id": "c8WLeKJ_Hugu",
        "outputId": "d7dda906-a384-423b-d0b8-3937746b2fc3"
      },
      "execution_count": null,
      "outputs": [
        {
          "output_type": "stream",
          "name": "stdout",
          "text": [
            "              precision    recall  f1-score   support\n",
            "\n",
            "           0       0.81      0.79      0.80        99\n",
            "           1       0.64      0.67      0.65        55\n",
            "\n",
            "    accuracy                           0.75       154\n",
            "   macro avg       0.73      0.73      0.73       154\n",
            "weighted avg       0.75      0.75      0.75       154\n",
            "\n"
          ]
        }
      ]
    },
    {
      "cell_type": "code",
      "source": [
        "titanic = pd.read_csv(\"https://raw.githubusercontent.com/a-nagar/datasets/main/titanic.csv\")"
      ],
      "metadata": {
        "id": "HXQ6Heu2HyGw"
      },
      "execution_count": null,
      "outputs": []
    },
    {
      "cell_type": "code",
      "source": [
        "titanic.head()"
      ],
      "metadata": {
        "colab": {
          "base_uri": "https://localhost:8080/",
          "height": 206
        },
        "id": "8Mx09pt7KsqT",
        "outputId": "e82250f1-505d-4fb0-85b4-38f56cedb556"
      },
      "execution_count": null,
      "outputs": [
        {
          "output_type": "execute_result",
          "data": {
            "text/plain": [
              "   PassengerId  Survived  Pclass  \\\n",
              "0            1         0       3   \n",
              "1            2         1       1   \n",
              "2            3         1       3   \n",
              "3            4         1       1   \n",
              "4            5         0       3   \n",
              "\n",
              "                                                Name     Sex   Age  SibSp  \\\n",
              "0                            Braund, Mr. Owen Harris    male  22.0      1   \n",
              "1  Cumings, Mrs. John Bradley (Florence Briggs Th...  female  38.0      1   \n",
              "2                             Heikkinen, Miss. Laina  female  26.0      0   \n",
              "3       Futrelle, Mrs. Jacques Heath (Lily May Peel)  female  35.0      1   \n",
              "4                           Allen, Mr. William Henry    male  35.0      0   \n",
              "\n",
              "   Parch            Ticket     Fare Cabin Embarked  \n",
              "0      0         A/5 21171   7.2500   NaN        S  \n",
              "1      0          PC 17599  71.2833   C85        C  \n",
              "2      0  STON/O2. 3101282   7.9250   NaN        S  \n",
              "3      0            113803  53.1000  C123        S  \n",
              "4      0            373450   8.0500   NaN        S  "
            ],
            "text/html": [
              "\n",
              "  <div id=\"df-c6670aaf-f578-4fb8-bdb6-cf9b5994c96f\" class=\"colab-df-container\">\n",
              "    <div>\n",
              "<style scoped>\n",
              "    .dataframe tbody tr th:only-of-type {\n",
              "        vertical-align: middle;\n",
              "    }\n",
              "\n",
              "    .dataframe tbody tr th {\n",
              "        vertical-align: top;\n",
              "    }\n",
              "\n",
              "    .dataframe thead th {\n",
              "        text-align: right;\n",
              "    }\n",
              "</style>\n",
              "<table border=\"1\" class=\"dataframe\">\n",
              "  <thead>\n",
              "    <tr style=\"text-align: right;\">\n",
              "      <th></th>\n",
              "      <th>PassengerId</th>\n",
              "      <th>Survived</th>\n",
              "      <th>Pclass</th>\n",
              "      <th>Name</th>\n",
              "      <th>Sex</th>\n",
              "      <th>Age</th>\n",
              "      <th>SibSp</th>\n",
              "      <th>Parch</th>\n",
              "      <th>Ticket</th>\n",
              "      <th>Fare</th>\n",
              "      <th>Cabin</th>\n",
              "      <th>Embarked</th>\n",
              "    </tr>\n",
              "  </thead>\n",
              "  <tbody>\n",
              "    <tr>\n",
              "      <th>0</th>\n",
              "      <td>1</td>\n",
              "      <td>0</td>\n",
              "      <td>3</td>\n",
              "      <td>Braund, Mr. Owen Harris</td>\n",
              "      <td>male</td>\n",
              "      <td>22.0</td>\n",
              "      <td>1</td>\n",
              "      <td>0</td>\n",
              "      <td>A/5 21171</td>\n",
              "      <td>7.2500</td>\n",
              "      <td>NaN</td>\n",
              "      <td>S</td>\n",
              "    </tr>\n",
              "    <tr>\n",
              "      <th>1</th>\n",
              "      <td>2</td>\n",
              "      <td>1</td>\n",
              "      <td>1</td>\n",
              "      <td>Cumings, Mrs. John Bradley (Florence Briggs Th...</td>\n",
              "      <td>female</td>\n",
              "      <td>38.0</td>\n",
              "      <td>1</td>\n",
              "      <td>0</td>\n",
              "      <td>PC 17599</td>\n",
              "      <td>71.2833</td>\n",
              "      <td>C85</td>\n",
              "      <td>C</td>\n",
              "    </tr>\n",
              "    <tr>\n",
              "      <th>2</th>\n",
              "      <td>3</td>\n",
              "      <td>1</td>\n",
              "      <td>3</td>\n",
              "      <td>Heikkinen, Miss. Laina</td>\n",
              "      <td>female</td>\n",
              "      <td>26.0</td>\n",
              "      <td>0</td>\n",
              "      <td>0</td>\n",
              "      <td>STON/O2. 3101282</td>\n",
              "      <td>7.9250</td>\n",
              "      <td>NaN</td>\n",
              "      <td>S</td>\n",
              "    </tr>\n",
              "    <tr>\n",
              "      <th>3</th>\n",
              "      <td>4</td>\n",
              "      <td>1</td>\n",
              "      <td>1</td>\n",
              "      <td>Futrelle, Mrs. Jacques Heath (Lily May Peel)</td>\n",
              "      <td>female</td>\n",
              "      <td>35.0</td>\n",
              "      <td>1</td>\n",
              "      <td>0</td>\n",
              "      <td>113803</td>\n",
              "      <td>53.1000</td>\n",
              "      <td>C123</td>\n",
              "      <td>S</td>\n",
              "    </tr>\n",
              "    <tr>\n",
              "      <th>4</th>\n",
              "      <td>5</td>\n",
              "      <td>0</td>\n",
              "      <td>3</td>\n",
              "      <td>Allen, Mr. William Henry</td>\n",
              "      <td>male</td>\n",
              "      <td>35.0</td>\n",
              "      <td>0</td>\n",
              "      <td>0</td>\n",
              "      <td>373450</td>\n",
              "      <td>8.0500</td>\n",
              "      <td>NaN</td>\n",
              "      <td>S</td>\n",
              "    </tr>\n",
              "  </tbody>\n",
              "</table>\n",
              "</div>\n",
              "    <div class=\"colab-df-buttons\">\n",
              "\n",
              "  <div class=\"colab-df-container\">\n",
              "    <button class=\"colab-df-convert\" onclick=\"convertToInteractive('df-c6670aaf-f578-4fb8-bdb6-cf9b5994c96f')\"\n",
              "            title=\"Convert this dataframe to an interactive table.\"\n",
              "            style=\"display:none;\">\n",
              "\n",
              "  <svg xmlns=\"http://www.w3.org/2000/svg\" height=\"24px\" viewBox=\"0 -960 960 960\">\n",
              "    <path d=\"M120-120v-720h720v720H120Zm60-500h600v-160H180v160Zm220 220h160v-160H400v160Zm0 220h160v-160H400v160ZM180-400h160v-160H180v160Zm440 0h160v-160H620v160ZM180-180h160v-160H180v160Zm440 0h160v-160H620v160Z\"/>\n",
              "  </svg>\n",
              "    </button>\n",
              "\n",
              "  <style>\n",
              "    .colab-df-container {\n",
              "      display:flex;\n",
              "      gap: 12px;\n",
              "    }\n",
              "\n",
              "    .colab-df-convert {\n",
              "      background-color: #E8F0FE;\n",
              "      border: none;\n",
              "      border-radius: 50%;\n",
              "      cursor: pointer;\n",
              "      display: none;\n",
              "      fill: #1967D2;\n",
              "      height: 32px;\n",
              "      padding: 0 0 0 0;\n",
              "      width: 32px;\n",
              "    }\n",
              "\n",
              "    .colab-df-convert:hover {\n",
              "      background-color: #E2EBFA;\n",
              "      box-shadow: 0px 1px 2px rgba(60, 64, 67, 0.3), 0px 1px 3px 1px rgba(60, 64, 67, 0.15);\n",
              "      fill: #174EA6;\n",
              "    }\n",
              "\n",
              "    .colab-df-buttons div {\n",
              "      margin-bottom: 4px;\n",
              "    }\n",
              "\n",
              "    [theme=dark] .colab-df-convert {\n",
              "      background-color: #3B4455;\n",
              "      fill: #D2E3FC;\n",
              "    }\n",
              "\n",
              "    [theme=dark] .colab-df-convert:hover {\n",
              "      background-color: #434B5C;\n",
              "      box-shadow: 0px 1px 3px 1px rgba(0, 0, 0, 0.15);\n",
              "      filter: drop-shadow(0px 1px 2px rgba(0, 0, 0, 0.3));\n",
              "      fill: #FFFFFF;\n",
              "    }\n",
              "  </style>\n",
              "\n",
              "    <script>\n",
              "      const buttonEl =\n",
              "        document.querySelector('#df-c6670aaf-f578-4fb8-bdb6-cf9b5994c96f button.colab-df-convert');\n",
              "      buttonEl.style.display =\n",
              "        google.colab.kernel.accessAllowed ? 'block' : 'none';\n",
              "\n",
              "      async function convertToInteractive(key) {\n",
              "        const element = document.querySelector('#df-c6670aaf-f578-4fb8-bdb6-cf9b5994c96f');\n",
              "        const dataTable =\n",
              "          await google.colab.kernel.invokeFunction('convertToInteractive',\n",
              "                                                    [key], {});\n",
              "        if (!dataTable) return;\n",
              "\n",
              "        const docLinkHtml = 'Like what you see? Visit the ' +\n",
              "          '<a target=\"_blank\" href=https://colab.research.google.com/notebooks/data_table.ipynb>data table notebook</a>'\n",
              "          + ' to learn more about interactive tables.';\n",
              "        element.innerHTML = '';\n",
              "        dataTable['output_type'] = 'display_data';\n",
              "        await google.colab.output.renderOutput(dataTable, element);\n",
              "        const docLink = document.createElement('div');\n",
              "        docLink.innerHTML = docLinkHtml;\n",
              "        element.appendChild(docLink);\n",
              "      }\n",
              "    </script>\n",
              "  </div>\n",
              "\n",
              "\n",
              "<div id=\"df-dfe03c83-1804-485e-838d-c9c32d9079ec\">\n",
              "  <button class=\"colab-df-quickchart\" onclick=\"quickchart('df-dfe03c83-1804-485e-838d-c9c32d9079ec')\"\n",
              "            title=\"Suggest charts\"\n",
              "            style=\"display:none;\">\n",
              "\n",
              "<svg xmlns=\"http://www.w3.org/2000/svg\" height=\"24px\"viewBox=\"0 0 24 24\"\n",
              "     width=\"24px\">\n",
              "    <g>\n",
              "        <path d=\"M19 3H5c-1.1 0-2 .9-2 2v14c0 1.1.9 2 2 2h14c1.1 0 2-.9 2-2V5c0-1.1-.9-2-2-2zM9 17H7v-7h2v7zm4 0h-2V7h2v10zm4 0h-2v-4h2v4z\"/>\n",
              "    </g>\n",
              "</svg>\n",
              "  </button>\n",
              "\n",
              "<style>\n",
              "  .colab-df-quickchart {\n",
              "      --bg-color: #E8F0FE;\n",
              "      --fill-color: #1967D2;\n",
              "      --hover-bg-color: #E2EBFA;\n",
              "      --hover-fill-color: #174EA6;\n",
              "      --disabled-fill-color: #AAA;\n",
              "      --disabled-bg-color: #DDD;\n",
              "  }\n",
              "\n",
              "  [theme=dark] .colab-df-quickchart {\n",
              "      --bg-color: #3B4455;\n",
              "      --fill-color: #D2E3FC;\n",
              "      --hover-bg-color: #434B5C;\n",
              "      --hover-fill-color: #FFFFFF;\n",
              "      --disabled-bg-color: #3B4455;\n",
              "      --disabled-fill-color: #666;\n",
              "  }\n",
              "\n",
              "  .colab-df-quickchart {\n",
              "    background-color: var(--bg-color);\n",
              "    border: none;\n",
              "    border-radius: 50%;\n",
              "    cursor: pointer;\n",
              "    display: none;\n",
              "    fill: var(--fill-color);\n",
              "    height: 32px;\n",
              "    padding: 0;\n",
              "    width: 32px;\n",
              "  }\n",
              "\n",
              "  .colab-df-quickchart:hover {\n",
              "    background-color: var(--hover-bg-color);\n",
              "    box-shadow: 0 1px 2px rgba(60, 64, 67, 0.3), 0 1px 3px 1px rgba(60, 64, 67, 0.15);\n",
              "    fill: var(--button-hover-fill-color);\n",
              "  }\n",
              "\n",
              "  .colab-df-quickchart-complete:disabled,\n",
              "  .colab-df-quickchart-complete:disabled:hover {\n",
              "    background-color: var(--disabled-bg-color);\n",
              "    fill: var(--disabled-fill-color);\n",
              "    box-shadow: none;\n",
              "  }\n",
              "\n",
              "  .colab-df-spinner {\n",
              "    border: 2px solid var(--fill-color);\n",
              "    border-color: transparent;\n",
              "    border-bottom-color: var(--fill-color);\n",
              "    animation:\n",
              "      spin 1s steps(1) infinite;\n",
              "  }\n",
              "\n",
              "  @keyframes spin {\n",
              "    0% {\n",
              "      border-color: transparent;\n",
              "      border-bottom-color: var(--fill-color);\n",
              "      border-left-color: var(--fill-color);\n",
              "    }\n",
              "    20% {\n",
              "      border-color: transparent;\n",
              "      border-left-color: var(--fill-color);\n",
              "      border-top-color: var(--fill-color);\n",
              "    }\n",
              "    30% {\n",
              "      border-color: transparent;\n",
              "      border-left-color: var(--fill-color);\n",
              "      border-top-color: var(--fill-color);\n",
              "      border-right-color: var(--fill-color);\n",
              "    }\n",
              "    40% {\n",
              "      border-color: transparent;\n",
              "      border-right-color: var(--fill-color);\n",
              "      border-top-color: var(--fill-color);\n",
              "    }\n",
              "    60% {\n",
              "      border-color: transparent;\n",
              "      border-right-color: var(--fill-color);\n",
              "    }\n",
              "    80% {\n",
              "      border-color: transparent;\n",
              "      border-right-color: var(--fill-color);\n",
              "      border-bottom-color: var(--fill-color);\n",
              "    }\n",
              "    90% {\n",
              "      border-color: transparent;\n",
              "      border-bottom-color: var(--fill-color);\n",
              "    }\n",
              "  }\n",
              "</style>\n",
              "\n",
              "  <script>\n",
              "    async function quickchart(key) {\n",
              "      const quickchartButtonEl =\n",
              "        document.querySelector('#' + key + ' button');\n",
              "      quickchartButtonEl.disabled = true;  // To prevent multiple clicks.\n",
              "      quickchartButtonEl.classList.add('colab-df-spinner');\n",
              "      try {\n",
              "        const charts = await google.colab.kernel.invokeFunction(\n",
              "            'suggestCharts', [key], {});\n",
              "      } catch (error) {\n",
              "        console.error('Error during call to suggestCharts:', error);\n",
              "      }\n",
              "      quickchartButtonEl.classList.remove('colab-df-spinner');\n",
              "      quickchartButtonEl.classList.add('colab-df-quickchart-complete');\n",
              "    }\n",
              "    (() => {\n",
              "      let quickchartButtonEl =\n",
              "        document.querySelector('#df-dfe03c83-1804-485e-838d-c9c32d9079ec button');\n",
              "      quickchartButtonEl.style.display =\n",
              "        google.colab.kernel.accessAllowed ? 'block' : 'none';\n",
              "    })();\n",
              "  </script>\n",
              "</div>\n",
              "\n",
              "    </div>\n",
              "  </div>\n"
            ],
            "application/vnd.google.colaboratory.intrinsic+json": {
              "type": "dataframe",
              "variable_name": "titanic",
              "summary": "{\n  \"name\": \"titanic\",\n  \"rows\": 891,\n  \"fields\": [\n    {\n      \"column\": \"PassengerId\",\n      \"properties\": {\n        \"dtype\": \"number\",\n        \"std\": 257,\n        \"min\": 1,\n        \"max\": 891,\n        \"num_unique_values\": 891,\n        \"samples\": [\n          710,\n          440,\n          841\n        ],\n        \"semantic_type\": \"\",\n        \"description\": \"\"\n      }\n    },\n    {\n      \"column\": \"Survived\",\n      \"properties\": {\n        \"dtype\": \"number\",\n        \"std\": 0,\n        \"min\": 0,\n        \"max\": 1,\n        \"num_unique_values\": 2,\n        \"samples\": [\n          1,\n          0\n        ],\n        \"semantic_type\": \"\",\n        \"description\": \"\"\n      }\n    },\n    {\n      \"column\": \"Pclass\",\n      \"properties\": {\n        \"dtype\": \"number\",\n        \"std\": 0,\n        \"min\": 1,\n        \"max\": 3,\n        \"num_unique_values\": 3,\n        \"samples\": [\n          3,\n          1\n        ],\n        \"semantic_type\": \"\",\n        \"description\": \"\"\n      }\n    },\n    {\n      \"column\": \"Name\",\n      \"properties\": {\n        \"dtype\": \"string\",\n        \"num_unique_values\": 891,\n        \"samples\": [\n          \"Moubarek, Master. Halim Gonios (\\\"William George\\\")\",\n          \"Kvillner, Mr. Johan Henrik Johannesson\"\n        ],\n        \"semantic_type\": \"\",\n        \"description\": \"\"\n      }\n    },\n    {\n      \"column\": \"Sex\",\n      \"properties\": {\n        \"dtype\": \"category\",\n        \"num_unique_values\": 2,\n        \"samples\": [\n          \"female\",\n          \"male\"\n        ],\n        \"semantic_type\": \"\",\n        \"description\": \"\"\n      }\n    },\n    {\n      \"column\": \"Age\",\n      \"properties\": {\n        \"dtype\": \"number\",\n        \"std\": 14.526497332334042,\n        \"min\": 0.42,\n        \"max\": 80.0,\n        \"num_unique_values\": 88,\n        \"samples\": [\n          0.75,\n          22.0\n        ],\n        \"semantic_type\": \"\",\n        \"description\": \"\"\n      }\n    },\n    {\n      \"column\": \"SibSp\",\n      \"properties\": {\n        \"dtype\": \"number\",\n        \"std\": 1,\n        \"min\": 0,\n        \"max\": 8,\n        \"num_unique_values\": 7,\n        \"samples\": [\n          1,\n          0\n        ],\n        \"semantic_type\": \"\",\n        \"description\": \"\"\n      }\n    },\n    {\n      \"column\": \"Parch\",\n      \"properties\": {\n        \"dtype\": \"number\",\n        \"std\": 0,\n        \"min\": 0,\n        \"max\": 6,\n        \"num_unique_values\": 7,\n        \"samples\": [\n          0,\n          1\n        ],\n        \"semantic_type\": \"\",\n        \"description\": \"\"\n      }\n    },\n    {\n      \"column\": \"Ticket\",\n      \"properties\": {\n        \"dtype\": \"string\",\n        \"num_unique_values\": 681,\n        \"samples\": [\n          \"11774\",\n          \"248740\"\n        ],\n        \"semantic_type\": \"\",\n        \"description\": \"\"\n      }\n    },\n    {\n      \"column\": \"Fare\",\n      \"properties\": {\n        \"dtype\": \"number\",\n        \"std\": 49.6934285971809,\n        \"min\": 0.0,\n        \"max\": 512.3292,\n        \"num_unique_values\": 248,\n        \"samples\": [\n          11.2417,\n          51.8625\n        ],\n        \"semantic_type\": \"\",\n        \"description\": \"\"\n      }\n    },\n    {\n      \"column\": \"Cabin\",\n      \"properties\": {\n        \"dtype\": \"category\",\n        \"num_unique_values\": 147,\n        \"samples\": [\n          \"D45\",\n          \"B49\"\n        ],\n        \"semantic_type\": \"\",\n        \"description\": \"\"\n      }\n    },\n    {\n      \"column\": \"Embarked\",\n      \"properties\": {\n        \"dtype\": \"category\",\n        \"num_unique_values\": 3,\n        \"samples\": [\n          \"S\",\n          \"C\"\n        ],\n        \"semantic_type\": \"\",\n        \"description\": \"\"\n      }\n    }\n  ]\n}"
            }
          },
          "metadata": {},
          "execution_count": 33
        }
      ]
    },
    {
      "cell_type": "code",
      "source": [
        "titanic.dropna(inplace=True)"
      ],
      "metadata": {
        "id": "N_nPpM_-LIu7"
      },
      "execution_count": null,
      "outputs": []
    },
    {
      "cell_type": "code",
      "source": [],
      "metadata": {
        "id": "5tcHy2xURqMa"
      },
      "execution_count": null,
      "outputs": []
    },
    {
      "cell_type": "code",
      "source": [
        "titanic[\"Survived\"].value_counts()"
      ],
      "metadata": {
        "colab": {
          "base_uri": "https://localhost:8080/"
        },
        "id": "qRy45C0eL9Br",
        "outputId": "b08c1a0f-8409-409a-eaab-a3f41638db67"
      },
      "execution_count": null,
      "outputs": [
        {
          "output_type": "execute_result",
          "data": {
            "text/plain": [
              "Survived\n",
              "1    123\n",
              "0     60\n",
              "Name: count, dtype: int64"
            ]
          },
          "metadata": {},
          "execution_count": 35
        }
      ]
    },
    {
      "cell_type": "code",
      "source": [
        "X = titanic[[\"Pclass\", \"Age\", \"SibSp\", \"Parch\", \"Fare\"]]\n",
        "y = titanic[\"Survived\"]"
      ],
      "metadata": {
        "id": "KUCT3K9_KuVt"
      },
      "execution_count": null,
      "outputs": []
    },
    {
      "cell_type": "code",
      "source": [
        "X.head()"
      ],
      "metadata": {
        "colab": {
          "base_uri": "https://localhost:8080/",
          "height": 206
        },
        "id": "nBE_G_6ELBGK",
        "outputId": "c6d42d21-f231-485a-9d75-9a41a7d39ed7"
      },
      "execution_count": null,
      "outputs": [
        {
          "output_type": "execute_result",
          "data": {
            "text/plain": [
              "    Pclass   Age  SibSp  Parch     Fare\n",
              "1        1  38.0      1      0  71.2833\n",
              "3        1  35.0      1      0  53.1000\n",
              "6        1  54.0      0      0  51.8625\n",
              "10       3   4.0      1      1  16.7000\n",
              "11       1  58.0      0      0  26.5500"
            ],
            "text/html": [
              "\n",
              "  <div id=\"df-54964050-8509-4cc8-aefe-7aad7e001acf\" class=\"colab-df-container\">\n",
              "    <div>\n",
              "<style scoped>\n",
              "    .dataframe tbody tr th:only-of-type {\n",
              "        vertical-align: middle;\n",
              "    }\n",
              "\n",
              "    .dataframe tbody tr th {\n",
              "        vertical-align: top;\n",
              "    }\n",
              "\n",
              "    .dataframe thead th {\n",
              "        text-align: right;\n",
              "    }\n",
              "</style>\n",
              "<table border=\"1\" class=\"dataframe\">\n",
              "  <thead>\n",
              "    <tr style=\"text-align: right;\">\n",
              "      <th></th>\n",
              "      <th>Pclass</th>\n",
              "      <th>Age</th>\n",
              "      <th>SibSp</th>\n",
              "      <th>Parch</th>\n",
              "      <th>Fare</th>\n",
              "    </tr>\n",
              "  </thead>\n",
              "  <tbody>\n",
              "    <tr>\n",
              "      <th>1</th>\n",
              "      <td>1</td>\n",
              "      <td>38.0</td>\n",
              "      <td>1</td>\n",
              "      <td>0</td>\n",
              "      <td>71.2833</td>\n",
              "    </tr>\n",
              "    <tr>\n",
              "      <th>3</th>\n",
              "      <td>1</td>\n",
              "      <td>35.0</td>\n",
              "      <td>1</td>\n",
              "      <td>0</td>\n",
              "      <td>53.1000</td>\n",
              "    </tr>\n",
              "    <tr>\n",
              "      <th>6</th>\n",
              "      <td>1</td>\n",
              "      <td>54.0</td>\n",
              "      <td>0</td>\n",
              "      <td>0</td>\n",
              "      <td>51.8625</td>\n",
              "    </tr>\n",
              "    <tr>\n",
              "      <th>10</th>\n",
              "      <td>3</td>\n",
              "      <td>4.0</td>\n",
              "      <td>1</td>\n",
              "      <td>1</td>\n",
              "      <td>16.7000</td>\n",
              "    </tr>\n",
              "    <tr>\n",
              "      <th>11</th>\n",
              "      <td>1</td>\n",
              "      <td>58.0</td>\n",
              "      <td>0</td>\n",
              "      <td>0</td>\n",
              "      <td>26.5500</td>\n",
              "    </tr>\n",
              "  </tbody>\n",
              "</table>\n",
              "</div>\n",
              "    <div class=\"colab-df-buttons\">\n",
              "\n",
              "  <div class=\"colab-df-container\">\n",
              "    <button class=\"colab-df-convert\" onclick=\"convertToInteractive('df-54964050-8509-4cc8-aefe-7aad7e001acf')\"\n",
              "            title=\"Convert this dataframe to an interactive table.\"\n",
              "            style=\"display:none;\">\n",
              "\n",
              "  <svg xmlns=\"http://www.w3.org/2000/svg\" height=\"24px\" viewBox=\"0 -960 960 960\">\n",
              "    <path d=\"M120-120v-720h720v720H120Zm60-500h600v-160H180v160Zm220 220h160v-160H400v160Zm0 220h160v-160H400v160ZM180-400h160v-160H180v160Zm440 0h160v-160H620v160ZM180-180h160v-160H180v160Zm440 0h160v-160H620v160Z\"/>\n",
              "  </svg>\n",
              "    </button>\n",
              "\n",
              "  <style>\n",
              "    .colab-df-container {\n",
              "      display:flex;\n",
              "      gap: 12px;\n",
              "    }\n",
              "\n",
              "    .colab-df-convert {\n",
              "      background-color: #E8F0FE;\n",
              "      border: none;\n",
              "      border-radius: 50%;\n",
              "      cursor: pointer;\n",
              "      display: none;\n",
              "      fill: #1967D2;\n",
              "      height: 32px;\n",
              "      padding: 0 0 0 0;\n",
              "      width: 32px;\n",
              "    }\n",
              "\n",
              "    .colab-df-convert:hover {\n",
              "      background-color: #E2EBFA;\n",
              "      box-shadow: 0px 1px 2px rgba(60, 64, 67, 0.3), 0px 1px 3px 1px rgba(60, 64, 67, 0.15);\n",
              "      fill: #174EA6;\n",
              "    }\n",
              "\n",
              "    .colab-df-buttons div {\n",
              "      margin-bottom: 4px;\n",
              "    }\n",
              "\n",
              "    [theme=dark] .colab-df-convert {\n",
              "      background-color: #3B4455;\n",
              "      fill: #D2E3FC;\n",
              "    }\n",
              "\n",
              "    [theme=dark] .colab-df-convert:hover {\n",
              "      background-color: #434B5C;\n",
              "      box-shadow: 0px 1px 3px 1px rgba(0, 0, 0, 0.15);\n",
              "      filter: drop-shadow(0px 1px 2px rgba(0, 0, 0, 0.3));\n",
              "      fill: #FFFFFF;\n",
              "    }\n",
              "  </style>\n",
              "\n",
              "    <script>\n",
              "      const buttonEl =\n",
              "        document.querySelector('#df-54964050-8509-4cc8-aefe-7aad7e001acf button.colab-df-convert');\n",
              "      buttonEl.style.display =\n",
              "        google.colab.kernel.accessAllowed ? 'block' : 'none';\n",
              "\n",
              "      async function convertToInteractive(key) {\n",
              "        const element = document.querySelector('#df-54964050-8509-4cc8-aefe-7aad7e001acf');\n",
              "        const dataTable =\n",
              "          await google.colab.kernel.invokeFunction('convertToInteractive',\n",
              "                                                    [key], {});\n",
              "        if (!dataTable) return;\n",
              "\n",
              "        const docLinkHtml = 'Like what you see? Visit the ' +\n",
              "          '<a target=\"_blank\" href=https://colab.research.google.com/notebooks/data_table.ipynb>data table notebook</a>'\n",
              "          + ' to learn more about interactive tables.';\n",
              "        element.innerHTML = '';\n",
              "        dataTable['output_type'] = 'display_data';\n",
              "        await google.colab.output.renderOutput(dataTable, element);\n",
              "        const docLink = document.createElement('div');\n",
              "        docLink.innerHTML = docLinkHtml;\n",
              "        element.appendChild(docLink);\n",
              "      }\n",
              "    </script>\n",
              "  </div>\n",
              "\n",
              "\n",
              "<div id=\"df-aacd950c-4285-4c6a-989b-aca55677d400\">\n",
              "  <button class=\"colab-df-quickchart\" onclick=\"quickchart('df-aacd950c-4285-4c6a-989b-aca55677d400')\"\n",
              "            title=\"Suggest charts\"\n",
              "            style=\"display:none;\">\n",
              "\n",
              "<svg xmlns=\"http://www.w3.org/2000/svg\" height=\"24px\"viewBox=\"0 0 24 24\"\n",
              "     width=\"24px\">\n",
              "    <g>\n",
              "        <path d=\"M19 3H5c-1.1 0-2 .9-2 2v14c0 1.1.9 2 2 2h14c1.1 0 2-.9 2-2V5c0-1.1-.9-2-2-2zM9 17H7v-7h2v7zm4 0h-2V7h2v10zm4 0h-2v-4h2v4z\"/>\n",
              "    </g>\n",
              "</svg>\n",
              "  </button>\n",
              "\n",
              "<style>\n",
              "  .colab-df-quickchart {\n",
              "      --bg-color: #E8F0FE;\n",
              "      --fill-color: #1967D2;\n",
              "      --hover-bg-color: #E2EBFA;\n",
              "      --hover-fill-color: #174EA6;\n",
              "      --disabled-fill-color: #AAA;\n",
              "      --disabled-bg-color: #DDD;\n",
              "  }\n",
              "\n",
              "  [theme=dark] .colab-df-quickchart {\n",
              "      --bg-color: #3B4455;\n",
              "      --fill-color: #D2E3FC;\n",
              "      --hover-bg-color: #434B5C;\n",
              "      --hover-fill-color: #FFFFFF;\n",
              "      --disabled-bg-color: #3B4455;\n",
              "      --disabled-fill-color: #666;\n",
              "  }\n",
              "\n",
              "  .colab-df-quickchart {\n",
              "    background-color: var(--bg-color);\n",
              "    border: none;\n",
              "    border-radius: 50%;\n",
              "    cursor: pointer;\n",
              "    display: none;\n",
              "    fill: var(--fill-color);\n",
              "    height: 32px;\n",
              "    padding: 0;\n",
              "    width: 32px;\n",
              "  }\n",
              "\n",
              "  .colab-df-quickchart:hover {\n",
              "    background-color: var(--hover-bg-color);\n",
              "    box-shadow: 0 1px 2px rgba(60, 64, 67, 0.3), 0 1px 3px 1px rgba(60, 64, 67, 0.15);\n",
              "    fill: var(--button-hover-fill-color);\n",
              "  }\n",
              "\n",
              "  .colab-df-quickchart-complete:disabled,\n",
              "  .colab-df-quickchart-complete:disabled:hover {\n",
              "    background-color: var(--disabled-bg-color);\n",
              "    fill: var(--disabled-fill-color);\n",
              "    box-shadow: none;\n",
              "  }\n",
              "\n",
              "  .colab-df-spinner {\n",
              "    border: 2px solid var(--fill-color);\n",
              "    border-color: transparent;\n",
              "    border-bottom-color: var(--fill-color);\n",
              "    animation:\n",
              "      spin 1s steps(1) infinite;\n",
              "  }\n",
              "\n",
              "  @keyframes spin {\n",
              "    0% {\n",
              "      border-color: transparent;\n",
              "      border-bottom-color: var(--fill-color);\n",
              "      border-left-color: var(--fill-color);\n",
              "    }\n",
              "    20% {\n",
              "      border-color: transparent;\n",
              "      border-left-color: var(--fill-color);\n",
              "      border-top-color: var(--fill-color);\n",
              "    }\n",
              "    30% {\n",
              "      border-color: transparent;\n",
              "      border-left-color: var(--fill-color);\n",
              "      border-top-color: var(--fill-color);\n",
              "      border-right-color: var(--fill-color);\n",
              "    }\n",
              "    40% {\n",
              "      border-color: transparent;\n",
              "      border-right-color: var(--fill-color);\n",
              "      border-top-color: var(--fill-color);\n",
              "    }\n",
              "    60% {\n",
              "      border-color: transparent;\n",
              "      border-right-color: var(--fill-color);\n",
              "    }\n",
              "    80% {\n",
              "      border-color: transparent;\n",
              "      border-right-color: var(--fill-color);\n",
              "      border-bottom-color: var(--fill-color);\n",
              "    }\n",
              "    90% {\n",
              "      border-color: transparent;\n",
              "      border-bottom-color: var(--fill-color);\n",
              "    }\n",
              "  }\n",
              "</style>\n",
              "\n",
              "  <script>\n",
              "    async function quickchart(key) {\n",
              "      const quickchartButtonEl =\n",
              "        document.querySelector('#' + key + ' button');\n",
              "      quickchartButtonEl.disabled = true;  // To prevent multiple clicks.\n",
              "      quickchartButtonEl.classList.add('colab-df-spinner');\n",
              "      try {\n",
              "        const charts = await google.colab.kernel.invokeFunction(\n",
              "            'suggestCharts', [key], {});\n",
              "      } catch (error) {\n",
              "        console.error('Error during call to suggestCharts:', error);\n",
              "      }\n",
              "      quickchartButtonEl.classList.remove('colab-df-spinner');\n",
              "      quickchartButtonEl.classList.add('colab-df-quickchart-complete');\n",
              "    }\n",
              "    (() => {\n",
              "      let quickchartButtonEl =\n",
              "        document.querySelector('#df-aacd950c-4285-4c6a-989b-aca55677d400 button');\n",
              "      quickchartButtonEl.style.display =\n",
              "        google.colab.kernel.accessAllowed ? 'block' : 'none';\n",
              "    })();\n",
              "  </script>\n",
              "</div>\n",
              "\n",
              "    </div>\n",
              "  </div>\n"
            ],
            "application/vnd.google.colaboratory.intrinsic+json": {
              "type": "dataframe",
              "variable_name": "X",
              "summary": "{\n  \"name\": \"X\",\n  \"rows\": 183,\n  \"fields\": [\n    {\n      \"column\": \"Pclass\",\n      \"properties\": {\n        \"dtype\": \"number\",\n        \"std\": 0,\n        \"min\": 1,\n        \"max\": 3,\n        \"num_unique_values\": 3,\n        \"samples\": [\n          1,\n          3,\n          2\n        ],\n        \"semantic_type\": \"\",\n        \"description\": \"\"\n      }\n    },\n    {\n      \"column\": \"Age\",\n      \"properties\": {\n        \"dtype\": \"number\",\n        \"std\": 15.643865966849717,\n        \"min\": 0.92,\n        \"max\": 80.0,\n        \"num_unique_values\": 63,\n        \"samples\": [\n          11.0,\n          6.0,\n          38.0\n        ],\n        \"semantic_type\": \"\",\n        \"description\": \"\"\n      }\n    },\n    {\n      \"column\": \"SibSp\",\n      \"properties\": {\n        \"dtype\": \"number\",\n        \"std\": 0,\n        \"min\": 0,\n        \"max\": 3,\n        \"num_unique_values\": 4,\n        \"samples\": [\n          0,\n          2,\n          1\n        ],\n        \"semantic_type\": \"\",\n        \"description\": \"\"\n      }\n    },\n    {\n      \"column\": \"Parch\",\n      \"properties\": {\n        \"dtype\": \"number\",\n        \"std\": 0,\n        \"min\": 0,\n        \"max\": 4,\n        \"num_unique_values\": 4,\n        \"samples\": [\n          1,\n          4,\n          0\n        ],\n        \"semantic_type\": \"\",\n        \"description\": \"\"\n      }\n    },\n    {\n      \"column\": \"Fare\",\n      \"properties\": {\n        \"dtype\": \"number\",\n        \"std\": 76.3478427004057,\n        \"min\": 0.0,\n        \"max\": 512.3292,\n        \"num_unique_values\": 93,\n        \"samples\": [\n          29.7,\n          66.6,\n          69.3\n        ],\n        \"semantic_type\": \"\",\n        \"description\": \"\"\n      }\n    }\n  ]\n}"
            }
          },
          "metadata": {},
          "execution_count": 37
        }
      ]
    },
    {
      "cell_type": "code",
      "source": [
        "X_train, X_test, y_train, y_test = train_test_split(X, y, test_size=0.2, random_state=42)"
      ],
      "metadata": {
        "id": "l7dzkFcDLDOn"
      },
      "execution_count": null,
      "outputs": []
    },
    {
      "cell_type": "code",
      "source": [
        "from sklearn.linear_model import LogisticRegression\n",
        "model = LogisticRegression(max_iter=5000)\n",
        "model.fit(X_train, y_train)"
      ],
      "metadata": {
        "colab": {
          "base_uri": "https://localhost:8080/",
          "height": 74
        },
        "id": "wLe1IJKjLUa7",
        "outputId": "4973aaa9-620e-4a43-f960-c6c82ffdbfc3"
      },
      "execution_count": null,
      "outputs": [
        {
          "output_type": "execute_result",
          "data": {
            "text/plain": [
              "LogisticRegression(max_iter=5000)"
            ],
            "text/html": [
              "<style>#sk-container-id-4 {color: black;background-color: white;}#sk-container-id-4 pre{padding: 0;}#sk-container-id-4 div.sk-toggleable {background-color: white;}#sk-container-id-4 label.sk-toggleable__label {cursor: pointer;display: block;width: 100%;margin-bottom: 0;padding: 0.3em;box-sizing: border-box;text-align: center;}#sk-container-id-4 label.sk-toggleable__label-arrow:before {content: \"▸\";float: left;margin-right: 0.25em;color: #696969;}#sk-container-id-4 label.sk-toggleable__label-arrow:hover:before {color: black;}#sk-container-id-4 div.sk-estimator:hover label.sk-toggleable__label-arrow:before {color: black;}#sk-container-id-4 div.sk-toggleable__content {max-height: 0;max-width: 0;overflow: hidden;text-align: left;background-color: #f0f8ff;}#sk-container-id-4 div.sk-toggleable__content pre {margin: 0.2em;color: black;border-radius: 0.25em;background-color: #f0f8ff;}#sk-container-id-4 input.sk-toggleable__control:checked~div.sk-toggleable__content {max-height: 200px;max-width: 100%;overflow: auto;}#sk-container-id-4 input.sk-toggleable__control:checked~label.sk-toggleable__label-arrow:before {content: \"▾\";}#sk-container-id-4 div.sk-estimator input.sk-toggleable__control:checked~label.sk-toggleable__label {background-color: #d4ebff;}#sk-container-id-4 div.sk-label input.sk-toggleable__control:checked~label.sk-toggleable__label {background-color: #d4ebff;}#sk-container-id-4 input.sk-hidden--visually {border: 0;clip: rect(1px 1px 1px 1px);clip: rect(1px, 1px, 1px, 1px);height: 1px;margin: -1px;overflow: hidden;padding: 0;position: absolute;width: 1px;}#sk-container-id-4 div.sk-estimator {font-family: monospace;background-color: #f0f8ff;border: 1px dotted black;border-radius: 0.25em;box-sizing: border-box;margin-bottom: 0.5em;}#sk-container-id-4 div.sk-estimator:hover {background-color: #d4ebff;}#sk-container-id-4 div.sk-parallel-item::after {content: \"\";width: 100%;border-bottom: 1px solid gray;flex-grow: 1;}#sk-container-id-4 div.sk-label:hover label.sk-toggleable__label {background-color: #d4ebff;}#sk-container-id-4 div.sk-serial::before {content: \"\";position: absolute;border-left: 1px solid gray;box-sizing: border-box;top: 0;bottom: 0;left: 50%;z-index: 0;}#sk-container-id-4 div.sk-serial {display: flex;flex-direction: column;align-items: center;background-color: white;padding-right: 0.2em;padding-left: 0.2em;position: relative;}#sk-container-id-4 div.sk-item {position: relative;z-index: 1;}#sk-container-id-4 div.sk-parallel {display: flex;align-items: stretch;justify-content: center;background-color: white;position: relative;}#sk-container-id-4 div.sk-item::before, #sk-container-id-4 div.sk-parallel-item::before {content: \"\";position: absolute;border-left: 1px solid gray;box-sizing: border-box;top: 0;bottom: 0;left: 50%;z-index: -1;}#sk-container-id-4 div.sk-parallel-item {display: flex;flex-direction: column;z-index: 1;position: relative;background-color: white;}#sk-container-id-4 div.sk-parallel-item:first-child::after {align-self: flex-end;width: 50%;}#sk-container-id-4 div.sk-parallel-item:last-child::after {align-self: flex-start;width: 50%;}#sk-container-id-4 div.sk-parallel-item:only-child::after {width: 0;}#sk-container-id-4 div.sk-dashed-wrapped {border: 1px dashed gray;margin: 0 0.4em 0.5em 0.4em;box-sizing: border-box;padding-bottom: 0.4em;background-color: white;}#sk-container-id-4 div.sk-label label {font-family: monospace;font-weight: bold;display: inline-block;line-height: 1.2em;}#sk-container-id-4 div.sk-label-container {text-align: center;}#sk-container-id-4 div.sk-container {/* jupyter's `normalize.less` sets `[hidden] { display: none; }` but bootstrap.min.css set `[hidden] { display: none !important; }` so we also need the `!important` here to be able to override the default hidden behavior on the sphinx rendered scikit-learn.org. See: https://github.com/scikit-learn/scikit-learn/issues/21755 */display: inline-block !important;position: relative;}#sk-container-id-4 div.sk-text-repr-fallback {display: none;}</style><div id=\"sk-container-id-4\" class=\"sk-top-container\"><div class=\"sk-text-repr-fallback\"><pre>LogisticRegression(max_iter=5000)</pre><b>In a Jupyter environment, please rerun this cell to show the HTML representation or trust the notebook. <br />On GitHub, the HTML representation is unable to render, please try loading this page with nbviewer.org.</b></div><div class=\"sk-container\" hidden><div class=\"sk-item\"><div class=\"sk-estimator sk-toggleable\"><input class=\"sk-toggleable__control sk-hidden--visually\" id=\"sk-estimator-id-4\" type=\"checkbox\" checked><label for=\"sk-estimator-id-4\" class=\"sk-toggleable__label sk-toggleable__label-arrow\">LogisticRegression</label><div class=\"sk-toggleable__content\"><pre>LogisticRegression(max_iter=5000)</pre></div></div></div></div></div>"
            ]
          },
          "metadata": {},
          "execution_count": 39
        }
      ]
    },
    {
      "cell_type": "code",
      "source": [
        "model.coef_"
      ],
      "metadata": {
        "colab": {
          "base_uri": "https://localhost:8080/"
        },
        "id": "tUbJTC8VMFhb",
        "outputId": "0dce6360-54a7-49ce-fa4a-819e79b4316e"
      },
      "execution_count": null,
      "outputs": [
        {
          "output_type": "execute_result",
          "data": {
            "text/plain": [
              "array([[-0.2661273 , -0.03186082, -0.0531654 , -0.31242441,  0.00590506]])"
            ]
          },
          "metadata": {},
          "execution_count": 40
        }
      ]
    },
    {
      "cell_type": "code",
      "source": [
        "X.columns"
      ],
      "metadata": {
        "colab": {
          "base_uri": "https://localhost:8080/"
        },
        "id": "WlJ6GuftMICc",
        "outputId": "c48d5d32-c0c9-4f87-8935-004e226e5624"
      },
      "execution_count": null,
      "outputs": [
        {
          "output_type": "execute_result",
          "data": {
            "text/plain": [
              "Index(['Pclass', 'Age', 'SibSp', 'Parch', 'Fare'], dtype='object')"
            ]
          },
          "metadata": {},
          "execution_count": 41
        }
      ]
    },
    {
      "cell_type": "code",
      "source": [
        "y_pred = model.predict(X_test)"
      ],
      "metadata": {
        "id": "zujE2U5mLYmZ"
      },
      "execution_count": null,
      "outputs": []
    },
    {
      "cell_type": "code",
      "source": [
        "print(classification_report(y_test, y_pred))"
      ],
      "metadata": {
        "colab": {
          "base_uri": "https://localhost:8080/"
        },
        "id": "VTfx4-FkLiG_",
        "outputId": "34b074f6-1681-4ae8-f157-475f972fa034"
      },
      "execution_count": null,
      "outputs": [
        {
          "output_type": "stream",
          "name": "stdout",
          "text": [
            "              precision    recall  f1-score   support\n",
            "\n",
            "           0       1.00      0.21      0.35        14\n",
            "           1       0.68      1.00      0.81        23\n",
            "\n",
            "    accuracy                           0.70        37\n",
            "   macro avg       0.84      0.61      0.58        37\n",
            "weighted avg       0.80      0.70      0.64        37\n",
            "\n"
          ]
        }
      ]
    },
    {
      "cell_type": "code",
      "source": [
        "import seaborn as sns\n",
        "sns.scatterplot(x=\"Age\", y=\"Fare\", hue=\"Survived\", data=titanic)"
      ],
      "metadata": {
        "colab": {
          "base_uri": "https://localhost:8080/",
          "height": 467
        },
        "id": "hqdzIoodLj6l",
        "outputId": "b7e1a11d-2e8e-403a-8e27-5da727b2dfae"
      },
      "execution_count": null,
      "outputs": [
        {
          "output_type": "execute_result",
          "data": {
            "text/plain": [
              "<Axes: xlabel='Age', ylabel='Fare'>"
            ]
          },
          "metadata": {},
          "execution_count": 44
        },
        {
          "output_type": "display_data",
          "data": {
            "text/plain": [
              "<Figure size 640x480 with 1 Axes>"
            ],
            "image/png": "[encoded data removed]"
          },
          "metadata": {}
        }
      ]
    },
    {
      "cell_type": "code",
      "source": [
        "from sklearn.svm import SVC\n",
        "model = SVC(kernel=\"poly\", degree=11)\n",
        "model.fit(X_train, y_train)"
      ],
      "metadata": {
        "colab": {
          "base_uri": "https://localhost:8080/",
          "height": 74
        },
        "id": "1dMbVMAnMo2L",
        "outputId": "37cf3789-0840-4973-fe1b-6ea833ada1de"
      },
      "execution_count": null,
      "outputs": [
        {
          "output_type": "execute_result",
          "data": {
            "text/plain": [
              "SVC(degree=11, kernel='poly')"
            ],
            "text/html": [
              "<style>#sk-container-id-5 {color: black;background-color: white;}#sk-container-id-5 pre{padding: 0;}#sk-container-id-5 div.sk-toggleable {background-color: white;}#sk-container-id-5 label.sk-toggleable__label {cursor: pointer;display: block;width: 100%;margin-bottom: 0;padding: 0.3em;box-sizing: border-box;text-align: center;}#sk-container-id-5 label.sk-toggleable__label-arrow:before {content: \"▸\";float: left;margin-right: 0.25em;color: #696969;}#sk-container-id-5 label.sk-toggleable__label-arrow:hover:before {color: black;}#sk-container-id-5 div.sk-estimator:hover label.sk-toggleable__label-arrow:before {color: black;}#sk-container-id-5 div.sk-toggleable__content {max-height: 0;max-width: 0;overflow: hidden;text-align: left;background-color: #f0f8ff;}#sk-container-id-5 div.sk-toggleable__content pre {margin: 0.2em;color: black;border-radius: 0.25em;background-color: #f0f8ff;}#sk-container-id-5 input.sk-toggleable__control:checked~div.sk-toggleable__content {max-height: 200px;max-width: 100%;overflow: auto;}#sk-container-id-5 input.sk-toggleable__control:checked~label.sk-toggleable__label-arrow:before {content: \"▾\";}#sk-container-id-5 div.sk-estimator input.sk-toggleable__control:checked~label.sk-toggleable__label {background-color: #d4ebff;}#sk-container-id-5 div.sk-label input.sk-toggleable__control:checked~label.sk-toggleable__label {background-color: #d4ebff;}#sk-container-id-5 input.sk-hidden--visually {border: 0;clip: rect(1px 1px 1px 1px);clip: rect(1px, 1px, 1px, 1px);height: 1px;margin: -1px;overflow: hidden;padding: 0;position: absolute;width: 1px;}#sk-container-id-5 div.sk-estimator {font-family: monospace;background-color: #f0f8ff;border: 1px dotted black;border-radius: 0.25em;box-sizing: border-box;margin-bottom: 0.5em;}#sk-container-id-5 div.sk-estimator:hover {background-color: #d4ebff;}#sk-container-id-5 div.sk-parallel-item::after {content: \"\";width: 100%;border-bottom: 1px solid gray;flex-grow: 1;}#sk-container-id-5 div.sk-label:hover label.sk-toggleable__label {background-color: #d4ebff;}#sk-container-id-5 div.sk-serial::before {content: \"\";position: absolute;border-left: 1px solid gray;box-sizing: border-box;top: 0;bottom: 0;left: 50%;z-index: 0;}#sk-container-id-5 div.sk-serial {display: flex;flex-direction: column;align-items: center;background-color: white;padding-right: 0.2em;padding-left: 0.2em;position: relative;}#sk-container-id-5 div.sk-item {position: relative;z-index: 1;}#sk-container-id-5 div.sk-parallel {display: flex;align-items: stretch;justify-content: center;background-color: white;position: relative;}#sk-container-id-5 div.sk-item::before, #sk-container-id-5 div.sk-parallel-item::before {content: \"\";position: absolute;border-left: 1px solid gray;box-sizing: border-box;top: 0;bottom: 0;left: 50%;z-index: -1;}#sk-container-id-5 div.sk-parallel-item {display: flex;flex-direction: column;z-index: 1;position: relative;background-color: white;}#sk-container-id-5 div.sk-parallel-item:first-child::after {align-self: flex-end;width: 50%;}#sk-container-id-5 div.sk-parallel-item:last-child::after {align-self: flex-start;width: 50%;}#sk-container-id-5 div.sk-parallel-item:only-child::after {width: 0;}#sk-container-id-5 div.sk-dashed-wrapped {border: 1px dashed gray;margin: 0 0.4em 0.5em 0.4em;box-sizing: border-box;padding-bottom: 0.4em;background-color: white;}#sk-container-id-5 div.sk-label label {font-family: monospace;font-weight: bold;display: inline-block;line-height: 1.2em;}#sk-container-id-5 div.sk-label-container {text-align: center;}#sk-container-id-5 div.sk-container {/* jupyter's `normalize.less` sets `[hidden] { display: none; }` but bootstrap.min.css set `[hidden] { display: none !important; }` so we also need the `!important` here to be able to override the default hidden behavior on the sphinx rendered scikit-learn.org. See: https://github.com/scikit-learn/scikit-learn/issues/21755 */display: inline-block !important;position: relative;}#sk-container-id-5 div.sk-text-repr-fallback {display: none;}</style><div id=\"sk-container-id-5\" class=\"sk-top-container\"><div class=\"sk-text-repr-fallback\"><pre>SVC(degree=11, kernel=&#x27;poly&#x27;)</pre><b>In a Jupyter environment, please rerun this cell to show the HTML representation or trust the notebook. <br />On GitHub, the HTML representation is unable to render, please try loading this page with nbviewer.org.</b></div><div class=\"sk-container\" hidden><div class=\"sk-item\"><div class=\"sk-estimator sk-toggleable\"><input class=\"sk-toggleable__control sk-hidden--visually\" id=\"sk-estimator-id-5\" type=\"checkbox\" checked><label for=\"sk-estimator-id-5\" class=\"sk-toggleable__label sk-toggleable__label-arrow\">SVC</label><div class=\"sk-toggleable__content\"><pre>SVC(degree=11, kernel=&#x27;poly&#x27;)</pre></div></div></div></div></div>"
            ]
          },
          "metadata": {},
          "execution_count": 45
        }
      ]
    },
    {
      "cell_type": "code",
      "source": [
        "y_svm = model.predict(X_test)"
      ],
      "metadata": {
        "id": "VrIxW-TxQtVp"
      },
      "execution_count": null,
      "outputs": []
    },
    {
      "cell_type": "code",
      "source": [
        "accuracy_score(y_test, y_svm)"
      ],
      "metadata": {
        "colab": {
          "base_uri": "https://localhost:8080/"
        },
        "id": "vs8arkMDQxiS",
        "outputId": "2a0d00ce-97ca-4bf9-ff07-3594c807a5eb"
      },
      "execution_count": null,
      "outputs": [
        {
          "output_type": "execute_result",
          "data": {
            "text/plain": [
              "0.5675675675675675"
            ]
          },
          "metadata": {},
          "execution_count": 47
        }
      ]
    },
    {
      "cell_type": "code",
      "source": [
        "accuracy_score(y_test, y_pred)"
      ],
      "metadata": {
        "colab": {
          "base_uri": "https://localhost:8080/"
        },
        "id": "05IShVHBQz2r",
        "outputId": "c849760a-cabe-488c-d57f-84ee997e5853"
      },
      "execution_count": null,
      "outputs": [
        {
          "output_type": "execute_result",
          "data": {
            "text/plain": [
              "0.7027027027027027"
            ]
          },
          "metadata": {},
          "execution_count": 48
        }
      ]
    },
    {
      "cell_type": "markdown",
      "source": [],
      "metadata": {
        "id": "c1EDn1hlRI5Z"
      }
    },
    {
      "cell_type": "code",
      "source": [
        "print(classification_report(y_test, y_svm))"
      ],
      "metadata": {
        "colab": {
          "base_uri": "https://localhost:8080/"
        },
        "id": "d9VicPkmQ7Xm",
        "outputId": "17793841-f0d8-41e3-deec-9e36a3801c14"
      },
      "execution_count": null,
      "outputs": [
        {
          "output_type": "stream",
          "name": "stdout",
          "text": [
            "              precision    recall  f1-score   support\n",
            "\n",
            "           0       0.00      0.00      0.00        14\n",
            "           1       0.60      0.91      0.72        23\n",
            "\n",
            "    accuracy                           0.57        37\n",
            "   macro avg       0.30      0.46      0.36        37\n",
            "weighted avg       0.37      0.57      0.45        37\n",
            "\n"
          ]
        }
      ]
    },
    {
      "cell_type": "code",
      "source": [
        "diabetes.head()"
      ],
      "metadata": {
        "colab": {
          "base_uri": "https://localhost:8080/",
          "height": 206
        },
        "id": "wpuVjFV8RHRI",
        "outputId": "3474f955-680a-4220-823e-be1009c84c88"
      },
      "execution_count": null,
      "outputs": [
        {
          "output_type": "execute_result",
          "data": {
            "text/plain": [
              "   Pregnancies  Glucose  BloodPressure  SkinThickness  Insulin   BMI  \\\n",
              "0            6      148             72             35        0  33.6   \n",
              "1            1       85             66             29        0  26.6   \n",
              "2            8      183             64              0        0  23.3   \n",
              "3            1       89             66             23       94  28.1   \n",
              "4            0      137             40             35      168  43.1   \n",
              "\n",
              "   DiabetesPedigreeFunction  Age  Outcome  \n",
              "0                     0.627   50        1  \n",
              "1                     0.351   31        0  \n",
              "2                     0.672   32        1  \n",
              "3                     0.167   21        0  \n",
              "4                     2.288   33        1  "
            ],
            "text/html": [
              "\n",
              "  <div id=\"df-06cf79a4-9d3e-489b-b664-58f2641bedc9\" class=\"colab-df-container\">\n",
              "    <div>\n",
              "<style scoped>\n",
              "    .dataframe tbody tr th:only-of-type {\n",
              "        vertical-align: middle;\n",
              "    }\n",
              "\n",
              "    .dataframe tbody tr th {\n",
              "        vertical-align: top;\n",
              "    }\n",
              "\n",
              "    .dataframe thead th {\n",
              "        text-align: right;\n",
              "    }\n",
              "</style>\n",
              "<table border=\"1\" class=\"dataframe\">\n",
              "  <thead>\n",
              "    <tr style=\"text-align: right;\">\n",
              "      <th></th>\n",
              "      <th>Pregnancies</th>\n",
              "      <th>Glucose</th>\n",
              "      <th>BloodPressure</th>\n",
              "      <th>SkinThickness</th>\n",
              "      <th>Insulin</th>\n",
              "      <th>BMI</th>\n",
              "      <th>DiabetesPedigreeFunction</th>\n",
              "      <th>Age</th>\n",
              "      <th>Outcome</th>\n",
              "    </tr>\n",
              "  </thead>\n",
              "  <tbody>\n",
              "    <tr>\n",
              "      <th>0</th>\n",
              "      <td>6</td>\n",
              "      <td>148</td>\n",
              "      <td>72</td>\n",
              "      <td>35</td>\n",
              "      <td>0</td>\n",
              "      <td>33.6</td>\n",
              "      <td>0.627</td>\n",
              "      <td>50</td>\n",
              "      <td>1</td>\n",
              "    </tr>\n",
              "    <tr>\n",
              "      <th>1</th>\n",
              "      <td>1</td>\n",
              "      <td>85</td>\n",
              "      <td>66</td>\n",
              "      <td>29</td>\n",
              "      <td>0</td>\n",
              "      <td>26.6</td>\n",
              "      <td>0.351</td>\n",
              "      <td>31</td>\n",
              "      <td>0</td>\n",
              "    </tr>\n",
              "    <tr>\n",
              "      <th>2</th>\n",
              "      <td>8</td>\n",
              "      <td>183</td>\n",
              "      <td>64</td>\n",
              "      <td>0</td>\n",
              "      <td>0</td>\n",
              "      <td>23.3</td>\n",
              "      <td>0.672</td>\n",
              "      <td>32</td>\n",
              "      <td>1</td>\n",
              "    </tr>\n",
              "    <tr>\n",
              "      <th>3</th>\n",
              "      <td>1</td>\n",
              "      <td>89</td>\n",
              "      <td>66</td>\n",
              "      <td>23</td>\n",
              "      <td>94</td>\n",
              "      <td>28.1</td>\n",
              "      <td>0.167</td>\n",
              "      <td>21</td>\n",
              "      <td>0</td>\n",
              "    </tr>\n",
              "    <tr>\n",
              "      <th>4</th>\n",
              "      <td>0</td>\n",
              "      <td>137</td>\n",
              "      <td>40</td>\n",
              "      <td>35</td>\n",
              "      <td>168</td>\n",
              "      <td>43.1</td>\n",
              "      <td>2.288</td>\n",
              "      <td>33</td>\n",
              "      <td>1</td>\n",
              "    </tr>\n",
              "  </tbody>\n",
              "</table>\n",
              "</div>\n",
              "    <div class=\"colab-df-buttons\">\n",
              "\n",
              "  <div class=\"colab-df-container\">\n",
              "    <button class=\"colab-df-convert\" onclick=\"convertToInteractive('df-06cf79a4-9d3e-489b-b664-58f2641bedc9')\"\n",
              "            title=\"Convert this dataframe to an interactive table.\"\n",
              "            style=\"display:none;\">\n",
              "\n",
              "  <svg xmlns=\"http://www.w3.org/2000/svg\" height=\"24px\" viewBox=\"0 -960 960 960\">\n",
              "    <path d=\"M120-120v-720h720v720H120Zm60-500h600v-160H180v160Zm220 220h160v-160H400v160Zm0 220h160v-160H400v160ZM180-400h160v-160H180v160Zm440 0h160v-160H620v160ZM180-180h160v-160H180v160Zm440 0h160v-160H620v160Z\"/>\n",
              "  </svg>\n",
              "    </button>\n",
              "\n",
              "  <style>\n",
              "    .colab-df-container {\n",
              "      display:flex;\n",
              "      gap: 12px;\n",
              "    }\n",
              "\n",
              "    .colab-df-convert {\n",
              "      background-color: #E8F0FE;\n",
              "      border: none;\n",
              "      border-radius: 50%;\n",
              "      cursor: pointer;\n",
              "      display: none;\n",
              "      fill: #1967D2;\n",
              "      height: 32px;\n",
              "      padding: 0 0 0 0;\n",
              "      width: 32px;\n",
              "    }\n",
              "\n",
              "    .colab-df-convert:hover {\n",
              "      background-color: #E2EBFA;\n",
              "      box-shadow: 0px 1px 2px rgba(60, 64, 67, 0.3), 0px 1px 3px 1px rgba(60, 64, 67, 0.15);\n",
              "      fill: #174EA6;\n",
              "    }\n",
              "\n",
              "    .colab-df-buttons div {\n",
              "      margin-bottom: 4px;\n",
              "    }\n",
              "\n",
              "    [theme=dark] .colab-df-convert {\n",
              "      background-color: #3B4455;\n",
              "      fill: #D2E3FC;\n",
              "    }\n",
              "\n",
              "    [theme=dark] .colab-df-convert:hover {\n",
              "      background-color: #434B5C;\n",
              "      box-shadow: 0px 1px 3px 1px rgba(0, 0, 0, 0.15);\n",
              "      filter: drop-shadow(0px 1px 2px rgba(0, 0, 0, 0.3));\n",
              "      fill: #FFFFFF;\n",
              "    }\n",
              "  </style>\n",
              "\n",
              "    <script>\n",
              "      const buttonEl =\n",
              "        document.querySelector('#df-06cf79a4-9d3e-489b-b664-58f2641bedc9 button.colab-df-convert');\n",
              "      buttonEl.style.display =\n",
              "        google.colab.kernel.accessAllowed ? 'block' : 'none';\n",
              "\n",
              "      async function convertToInteractive(key) {\n",
              "        const element = document.querySelector('#df-06cf79a4-9d3e-489b-b664-58f2641bedc9');\n",
              "        const dataTable =\n",
              "          await google.colab.kernel.invokeFunction('convertToInteractive',\n",
              "                                                    [key], {});\n",
              "        if (!dataTable) return;\n",
              "\n",
              "        const docLinkHtml = 'Like what you see? Visit the ' +\n",
              "          '<a target=\"_blank\" href=https://colab.research.google.com/notebooks/data_table.ipynb>data table notebook</a>'\n",
              "          + ' to learn more about interactive tables.';\n",
              "        element.innerHTML = '';\n",
              "        dataTable['output_type'] = 'display_data';\n",
              "        await google.colab.output.renderOutput(dataTable, element);\n",
              "        const docLink = document.createElement('div');\n",
              "        docLink.innerHTML = docLinkHtml;\n",
              "        element.appendChild(docLink);\n",
              "      }\n",
              "    </script>\n",
              "  </div>\n",
              "\n",
              "\n",
              "<div id=\"df-c03b2199-b943-48b6-9688-489d4e62be0e\">\n",
              "  <button class=\"colab-df-quickchart\" onclick=\"quickchart('df-c03b2199-b943-48b6-9688-489d4e62be0e')\"\n",
              "            title=\"Suggest charts\"\n",
              "            style=\"display:none;\">\n",
              "\n",
              "<svg xmlns=\"http://www.w3.org/2000/svg\" height=\"24px\"viewBox=\"0 0 24 24\"\n",
              "     width=\"24px\">\n",
              "    <g>\n",
              "        <path d=\"M19 3H5c-1.1 0-2 .9-2 2v14c0 1.1.9 2 2 2h14c1.1 0 2-.9 2-2V5c0-1.1-.9-2-2-2zM9 17H7v-7h2v7zm4 0h-2V7h2v10zm4 0h-2v-4h2v4z\"/>\n",
              "    </g>\n",
              "</svg>\n",
              "  </button>\n",
              "\n",
              "<style>\n",
              "  .colab-df-quickchart {\n",
              "      --bg-color: #E8F0FE;\n",
              "      --fill-color: #1967D2;\n",
              "      --hover-bg-color: #E2EBFA;\n",
              "      --hover-fill-color: #174EA6;\n",
              "      --disabled-fill-color: #AAA;\n",
              "      --disabled-bg-color: #DDD;\n",
              "  }\n",
              "\n",
              "  [theme=dark] .colab-df-quickchart {\n",
              "      --bg-color: #3B4455;\n",
              "      --fill-color: #D2E3FC;\n",
              "      --hover-bg-color: #434B5C;\n",
              "      --hover-fill-color: #FFFFFF;\n",
              "      --disabled-bg-color: #3B4455;\n",
              "      --disabled-fill-color: #666;\n",
              "  }\n",
              "\n",
              "  .colab-df-quickchart {\n",
              "    background-color: var(--bg-color);\n",
              "    border: none;\n",
              "    border-radius: 50%;\n",
              "    cursor: pointer;\n",
              "    display: none;\n",
              "    fill: var(--fill-color);\n",
              "    height: 32px;\n",
              "    padding: 0;\n",
              "    width: 32px;\n",
              "  }\n",
              "\n",
              "  .colab-df-quickchart:hover {\n",
              "    background-color: var(--hover-bg-color);\n",
              "    box-shadow: 0 1px 2px rgba(60, 64, 67, 0.3), 0 1px 3px 1px rgba(60, 64, 67, 0.15);\n",
              "    fill: var(--button-hover-fill-color);\n",
              "  }\n",
              "\n",
              "  .colab-df-quickchart-complete:disabled,\n",
              "  .colab-df-quickchart-complete:disabled:hover {\n",
              "    background-color: var(--disabled-bg-color);\n",
              "    fill: var(--disabled-fill-color);\n",
              "    box-shadow: none;\n",
              "  }\n",
              "\n",
              "  .colab-df-spinner {\n",
              "    border: 2px solid var(--fill-color);\n",
              "    border-color: transparent;\n",
              "    border-bottom-color: var(--fill-color);\n",
              "    animation:\n",
              "      spin 1s steps(1) infinite;\n",
              "  }\n",
              "\n",
              "  @keyframes spin {\n",
              "    0% {\n",
              "      border-color: transparent;\n",
              "      border-bottom-color: var(--fill-color);\n",
              "      border-left-color: var(--fill-color);\n",
              "    }\n",
              "    20% {\n",
              "      border-color: transparent;\n",
              "      border-left-color: var(--fill-color);\n",
              "      border-top-color: var(--fill-color);\n",
              "    }\n",
              "    30% {\n",
              "      border-color: transparent;\n",
              "      border-left-color: var(--fill-color);\n",
              "      border-top-color: var(--fill-color);\n",
              "      border-right-color: var(--fill-color);\n",
              "    }\n",
              "    40% {\n",
              "      border-color: transparent;\n",
              "      border-right-color: var(--fill-color);\n",
              "      border-top-color: var(--fill-color);\n",
              "    }\n",
              "    60% {\n",
              "      border-color: transparent;\n",
              "      border-right-color: var(--fill-color);\n",
              "    }\n",
              "    80% {\n",
              "      border-color: transparent;\n",
              "      border-right-color: var(--fill-color);\n",
              "      border-bottom-color: var(--fill-color);\n",
              "    }\n",
              "    90% {\n",
              "      border-color: transparent;\n",
              "      border-bottom-color: var(--fill-color);\n",
              "    }\n",
              "  }\n",
              "</style>\n",
              "\n",
              "  <script>\n",
              "    async function quickchart(key) {\n",
              "      const quickchartButtonEl =\n",
              "        document.querySelector('#' + key + ' button');\n",
              "      quickchartButtonEl.disabled = true;  // To prevent multiple clicks.\n",
              "      quickchartButtonEl.classList.add('colab-df-spinner');\n",
              "      try {\n",
              "        const charts = await google.colab.kernel.invokeFunction(\n",
              "            'suggestCharts', [key], {});\n",
              "      } catch (error) {\n",
              "        console.error('Error during call to suggestCharts:', error);\n",
              "      }\n",
              "      quickchartButtonEl.classList.remove('colab-df-spinner');\n",
              "      quickchartButtonEl.classList.add('colab-df-quickchart-complete');\n",
              "    }\n",
              "    (() => {\n",
              "      let quickchartButtonEl =\n",
              "        document.querySelector('#df-c03b2199-b943-48b6-9688-489d4e62be0e button');\n",
              "      quickchartButtonEl.style.display =\n",
              "        google.colab.kernel.accessAllowed ? 'block' : 'none';\n",
              "    })();\n",
              "  </script>\n",
              "</div>\n",
              "\n",
              "    </div>\n",
              "  </div>\n"
            ],
            "application/vnd.google.colaboratory.intrinsic+json": {
              "type": "dataframe",
              "variable_name": "diabetes",
              "summary": "{\n  \"name\": \"diabetes\",\n  \"rows\": 768,\n  \"fields\": [\n    {\n      \"column\": \"Pregnancies\",\n      \"properties\": {\n        \"dtype\": \"number\",\n        \"std\": 3,\n        \"min\": 0,\n        \"max\": 17,\n        \"num_unique_values\": 17,\n        \"samples\": [\n          6,\n          1,\n          3\n        ],\n        \"semantic_type\": \"\",\n        \"description\": \"\"\n      }\n    },\n    {\n      \"column\": \"Glucose\",\n      \"properties\": {\n        \"dtype\": \"number\",\n        \"std\": 31,\n        \"min\": 0,\n        \"max\": 199,\n        \"num_unique_values\": 136,\n        \"samples\": [\n          151,\n          101,\n          112\n        ],\n        \"semantic_type\": \"\",\n        \"description\": \"\"\n      }\n    },\n    {\n      \"column\": \"BloodPressure\",\n      \"properties\": {\n        \"dtype\": \"number\",\n        \"std\": 19,\n        \"min\": 0,\n        \"max\": 122,\n        \"num_unique_values\": 47,\n        \"samples\": [\n          86,\n          46,\n          85\n        ],\n        \"semantic_type\": \"\",\n        \"description\": \"\"\n      }\n    },\n    {\n      \"column\": \"SkinThickness\",\n      \"properties\": {\n        \"dtype\": \"number\",\n        \"std\": 15,\n        \"min\": 0,\n        \"max\": 99,\n        \"num_unique_values\": 51,\n        \"samples\": [\n          7,\n          12,\n          48\n        ],\n        \"semantic_type\": \"\",\n        \"description\": \"\"\n      }\n    },\n    {\n      \"column\": \"Insulin\",\n      \"properties\": {\n        \"dtype\": \"number\",\n        \"std\": 115,\n        \"min\": 0,\n        \"max\": 846,\n        \"num_unique_values\": 186,\n        \"samples\": [\n          52,\n          41,\n          183\n        ],\n        \"semantic_type\": \"\",\n        \"description\": \"\"\n      }\n    },\n    {\n      \"column\": \"BMI\",\n      \"properties\": {\n        \"dtype\": \"number\",\n        \"std\": 7.884160320375446,\n        \"min\": 0.0,\n        \"max\": 67.1,\n        \"num_unique_values\": 248,\n        \"samples\": [\n          19.9,\n          31.0,\n          38.1\n        ],\n        \"semantic_type\": \"\",\n        \"description\": \"\"\n      }\n    },\n    {\n      \"column\": \"DiabetesPedigreeFunction\",\n      \"properties\": {\n        \"dtype\": \"number\",\n        \"std\": 0.3313285950127749,\n        \"min\": 0.078,\n        \"max\": 2.42,\n        \"num_unique_values\": 517,\n        \"samples\": [\n          1.731,\n          0.426,\n          0.138\n        ],\n        \"semantic_type\": \"\",\n        \"description\": \"\"\n      }\n    },\n    {\n      \"column\": \"Age\",\n      \"properties\": {\n        \"dtype\": \"number\",\n        \"std\": 11,\n        \"min\": 21,\n        \"max\": 81,\n        \"num_unique_values\": 52,\n        \"samples\": [\n          60,\n          47,\n          72\n        ],\n        \"semantic_type\": \"\",\n        \"description\": \"\"\n      }\n    },\n    {\n      \"column\": \"Outcome\",\n      \"properties\": {\n        \"dtype\": \"number\",\n        \"std\": 0,\n        \"min\": 0,\n        \"max\": 1,\n        \"num_unique_values\": 2,\n        \"samples\": [\n          0,\n          1\n        ],\n        \"semantic_type\": \"\",\n        \"description\": \"\"\n      }\n    }\n  ]\n}"
            }
          },
          "metadata": {},
          "execution_count": 50
        }
      ]
    },
    {
      "cell_type": "code",
      "source": [
        "X = diabetes.drop(\"Outcome\", axis=1)\n",
        "y = diabetes[\"Outcome\"]"
      ],
      "metadata": {
        "id": "jxKcCfS3R8Aj"
      },
      "execution_count": null,
      "outputs": []
    },
    {
      "cell_type": "code",
      "source": [
        "X_train, X_test, y_train, y_test = train_test_split(X, y, test_size=0.2, random_state=42)"
      ],
      "metadata": {
        "id": "Y303Y2JpR8l2"
      },
      "execution_count": null,
      "outputs": []
    },
    {
      "cell_type": "code",
      "source": [
        "from sklearn.svm import SVC\n",
        "model = SVC()\n",
        "model.fit(X_train, y_train)"
      ],
      "metadata": {
        "colab": {
          "base_uri": "https://localhost:8080/",
          "height": 74
        },
        "id": "MrT62dXhR-Gw",
        "outputId": "17a5876c-833a-4e88-8d56-b53604bf8a81"
      },
      "execution_count": null,
      "outputs": [
        {
          "output_type": "execute_result",
          "data": {
            "text/plain": [
              "SVC()"
            ],
            "text/html": [
              "<style>#sk-container-id-6 {color: black;background-color: white;}#sk-container-id-6 pre{padding: 0;}#sk-container-id-6 div.sk-toggleable {background-color: white;}#sk-container-id-6 label.sk-toggleable__label {cursor: pointer;display: block;width: 100%;margin-bottom: 0;padding: 0.3em;box-sizing: border-box;text-align: center;}#sk-container-id-6 label.sk-toggleable__label-arrow:before {content: \"▸\";float: left;margin-right: 0.25em;color: #696969;}#sk-container-id-6 label.sk-toggleable__label-arrow:hover:before {color: black;}#sk-container-id-6 div.sk-estimator:hover label.sk-toggleable__label-arrow:before {color: black;}#sk-container-id-6 div.sk-toggleable__content {max-height: 0;max-width: 0;overflow: hidden;text-align: left;background-color: #f0f8ff;}#sk-container-id-6 div.sk-toggleable__content pre {margin: 0.2em;color: black;border-radius: 0.25em;background-color: #f0f8ff;}#sk-container-id-6 input.sk-toggleable__control:checked~div.sk-toggleable__content {max-height: 200px;max-width: 100%;overflow: auto;}#sk-container-id-6 input.sk-toggleable__control:checked~label.sk-toggleable__label-arrow:before {content: \"▾\";}#sk-container-id-6 div.sk-estimator input.sk-toggleable__control:checked~label.sk-toggleable__label {background-color: #d4ebff;}#sk-container-id-6 div.sk-label input.sk-toggleable__control:checked~label.sk-toggleable__label {background-color: #d4ebff;}#sk-container-id-6 input.sk-hidden--visually {border: 0;clip: rect(1px 1px 1px 1px);clip: rect(1px, 1px, 1px, 1px);height: 1px;margin: -1px;overflow: hidden;padding: 0;position: absolute;width: 1px;}#sk-container-id-6 div.sk-estimator {font-family: monospace;background-color: #f0f8ff;border: 1px dotted black;border-radius: 0.25em;box-sizing: border-box;margin-bottom: 0.5em;}#sk-container-id-6 div.sk-estimator:hover {background-color: #d4ebff;}#sk-container-id-6 div.sk-parallel-item::after {content: \"\";width: 100%;border-bottom: 1px solid gray;flex-grow: 1;}#sk-container-id-6 div.sk-label:hover label.sk-toggleable__label {background-color: #d4ebff;}#sk-container-id-6 div.sk-serial::before {content: \"\";position: absolute;border-left: 1px solid gray;box-sizing: border-box;top: 0;bottom: 0;left: 50%;z-index: 0;}#sk-container-id-6 div.sk-serial {display: flex;flex-direction: column;align-items: center;background-color: white;padding-right: 0.2em;padding-left: 0.2em;position: relative;}#sk-container-id-6 div.sk-item {position: relative;z-index: 1;}#sk-container-id-6 div.sk-parallel {display: flex;align-items: stretch;justify-content: center;background-color: white;position: relative;}#sk-container-id-6 div.sk-item::before, #sk-container-id-6 div.sk-parallel-item::before {content: \"\";position: absolute;border-left: 1px solid gray;box-sizing: border-box;top: 0;bottom: 0;left: 50%;z-index: -1;}#sk-container-id-6 div.sk-parallel-item {display: flex;flex-direction: column;z-index: 1;position: relative;background-color: white;}#sk-container-id-6 div.sk-parallel-item:first-child::after {align-self: flex-end;width: 50%;}#sk-container-id-6 div.sk-parallel-item:last-child::after {align-self: flex-start;width: 50%;}#sk-container-id-6 div.sk-parallel-item:only-child::after {width: 0;}#sk-container-id-6 div.sk-dashed-wrapped {border: 1px dashed gray;margin: 0 0.4em 0.5em 0.4em;box-sizing: border-box;padding-bottom: 0.4em;background-color: white;}#sk-container-id-6 div.sk-label label {font-family: monospace;font-weight: bold;display: inline-block;line-height: 1.2em;}#sk-container-id-6 div.sk-label-container {text-align: center;}#sk-container-id-6 div.sk-container {/* jupyter's `normalize.less` sets `[hidden] { display: none; }` but bootstrap.min.css set `[hidden] { display: none !important; }` so we also need the `!important` here to be able to override the default hidden behavior on the sphinx rendered scikit-learn.org. See: https://github.com/scikit-learn/scikit-learn/issues/21755 */display: inline-block !important;position: relative;}#sk-container-id-6 div.sk-text-repr-fallback {display: none;}</style><div id=\"sk-container-id-6\" class=\"sk-top-container\"><div class=\"sk-text-repr-fallback\"><pre>SVC()</pre><b>In a Jupyter environment, please rerun this cell to show the HTML representation or trust the notebook. <br />On GitHub, the HTML representation is unable to render, please try loading this page with nbviewer.org.</b></div><div class=\"sk-container\" hidden><div class=\"sk-item\"><div class=\"sk-estimator sk-toggleable\"><input class=\"sk-toggleable__control sk-hidden--visually\" id=\"sk-estimator-id-6\" type=\"checkbox\" checked><label for=\"sk-estimator-id-6\" class=\"sk-toggleable__label sk-toggleable__label-arrow\">SVC</label><div class=\"sk-toggleable__content\"><pre>SVC()</pre></div></div></div></div></div>"
            ]
          },
          "metadata": {},
          "execution_count": 53
        }
      ]
    },
    {
      "cell_type": "code",
      "source": [
        "y_svm = model.predict(X_test)"
      ],
      "metadata": {
        "id": "NsFeGxE2SEKG"
      },
      "execution_count": null,
      "outputs": []
    },
    {
      "cell_type": "code",
      "source": [
        "accuracy_score(y_test, y_svm)"
      ],
      "metadata": {
        "colab": {
          "base_uri": "https://localhost:8080/"
        },
        "id": "a0bmoI9hSGhE",
        "outputId": "71f3d15f-0fd6-4402-8d19-2d0c16569b01"
      },
      "execution_count": null,
      "outputs": [
        {
          "output_type": "execute_result",
          "data": {
            "text/plain": [
              "0.7662337662337663"
            ]
          },
          "metadata": {},
          "execution_count": 55
        }
      ]
    },
    {
      "cell_type": "code",
      "source": [
        "from sklearn.linear_model import LogisticRegression\n",
        "model_lr = LogisticRegression(max_iter=5000)\n",
        "model_lr.fit(X_train, y_train)"
      ],
      "metadata": {
        "colab": {
          "base_uri": "https://localhost:8080/",
          "height": 74
        },
        "id": "lK2bAff0SHuT",
        "outputId": "58a53f92-aca1-47d7-9566-10af49f756a9"
      },
      "execution_count": null,
      "outputs": [
        {
          "output_type": "execute_result",
          "data": {
            "text/plain": [
              "LogisticRegression(max_iter=5000)"
            ],
            "text/html": [
              "<style>#sk-container-id-7 {color: black;background-color: white;}#sk-container-id-7 pre{padding: 0;}#sk-container-id-7 div.sk-toggleable {background-color: white;}#sk-container-id-7 label.sk-toggleable__label {cursor: pointer;display: block;width: 100%;margin-bottom: 0;padding: 0.3em;box-sizing: border-box;text-align: center;}#sk-container-id-7 label.sk-toggleable__label-arrow:before {content: \"▸\";float: left;margin-right: 0.25em;color: #696969;}#sk-container-id-7 label.sk-toggleable__label-arrow:hover:before {color: black;}#sk-container-id-7 div.sk-estimator:hover label.sk-toggleable__label-arrow:before {color: black;}#sk-container-id-7 div.sk-toggleable__content {max-height: 0;max-width: 0;overflow: hidden;text-align: left;background-color: #f0f8ff;}#sk-container-id-7 div.sk-toggleable__content pre {margin: 0.2em;color: black;border-radius: 0.25em;background-color: #f0f8ff;}#sk-container-id-7 input.sk-toggleable__control:checked~div.sk-toggleable__content {max-height: 200px;max-width: 100%;overflow: auto;}#sk-container-id-7 input.sk-toggleable__control:checked~label.sk-toggleable__label-arrow:before {content: \"▾\";}#sk-container-id-7 div.sk-estimator input.sk-toggleable__control:checked~label.sk-toggleable__label {background-color: #d4ebff;}#sk-container-id-7 div.sk-label input.sk-toggleable__control:checked~label.sk-toggleable__label {background-color: #d4ebff;}#sk-container-id-7 input.sk-hidden--visually {border: 0;clip: rect(1px 1px 1px 1px);clip: rect(1px, 1px, 1px, 1px);height: 1px;margin: -1px;overflow: hidden;padding: 0;position: absolute;width: 1px;}#sk-container-id-7 div.sk-estimator {font-family: monospace;background-color: #f0f8ff;border: 1px dotted black;border-radius: 0.25em;box-sizing: border-box;margin-bottom: 0.5em;}#sk-container-id-7 div.sk-estimator:hover {background-color: #d4ebff;}#sk-container-id-7 div.sk-parallel-item::after {content: \"\";width: 100%;border-bottom: 1px solid gray;flex-grow: 1;}#sk-container-id-7 div.sk-label:hover label.sk-toggleable__label {background-color: #d4ebff;}#sk-container-id-7 div.sk-serial::before {content: \"\";position: absolute;border-left: 1px solid gray;box-sizing: border-box;top: 0;bottom: 0;left: 50%;z-index: 0;}#sk-container-id-7 div.sk-serial {display: flex;flex-direction: column;align-items: center;background-color: white;padding-right: 0.2em;padding-left: 0.2em;position: relative;}#sk-container-id-7 div.sk-item {position: relative;z-index: 1;}#sk-container-id-7 div.sk-parallel {display: flex;align-items: stretch;justify-content: center;background-color: white;position: relative;}#sk-container-id-7 div.sk-item::before, #sk-container-id-7 div.sk-parallel-item::before {content: \"\";position: absolute;border-left: 1px solid gray;box-sizing: border-box;top: 0;bottom: 0;left: 50%;z-index: -1;}#sk-container-id-7 div.sk-parallel-item {display: flex;flex-direction: column;z-index: 1;position: relative;background-color: white;}#sk-container-id-7 div.sk-parallel-item:first-child::after {align-self: flex-end;width: 50%;}#sk-container-id-7 div.sk-parallel-item:last-child::after {align-self: flex-start;width: 50%;}#sk-container-id-7 div.sk-parallel-item:only-child::after {width: 0;}#sk-container-id-7 div.sk-dashed-wrapped {border: 1px dashed gray;margin: 0 0.4em 0.5em 0.4em;box-sizing: border-box;padding-bottom: 0.4em;background-color: white;}#sk-container-id-7 div.sk-label label {font-family: monospace;font-weight: bold;display: inline-block;line-height: 1.2em;}#sk-container-id-7 div.sk-label-container {text-align: center;}#sk-container-id-7 div.sk-container {/* jupyter's `normalize.less` sets `[hidden] { display: none; }` but bootstrap.min.css set `[hidden] { display: none !important; }` so we also need the `!important` here to be able to override the default hidden behavior on the sphinx rendered scikit-learn.org. See: https://github.com/scikit-learn/scikit-learn/issues/21755 */display: inline-block !important;position: relative;}#sk-container-id-7 div.sk-text-repr-fallback {display: none;}</style><div id=\"sk-container-id-7\" class=\"sk-top-container\"><div class=\"sk-text-repr-fallback\"><pre>LogisticRegression(max_iter=5000)</pre><b>In a Jupyter environment, please rerun this cell to show the HTML representation or trust the notebook. <br />On GitHub, the HTML representation is unable to render, please try loading this page with nbviewer.org.</b></div><div class=\"sk-container\" hidden><div class=\"sk-item\"><div class=\"sk-estimator sk-toggleable\"><input class=\"sk-toggleable__control sk-hidden--visually\" id=\"sk-estimator-id-7\" type=\"checkbox\" checked><label for=\"sk-estimator-id-7\" class=\"sk-toggleable__label sk-toggleable__label-arrow\">LogisticRegression</label><div class=\"sk-toggleable__content\"><pre>LogisticRegression(max_iter=5000)</pre></div></div></div></div></div>"
            ]
          },
          "metadata": {},
          "execution_count": 56
        }
      ]
    },
    {
      "cell_type": "code",
      "source": [
        "y_lr = model_lr.predict(X_test)"
      ],
      "metadata": {
        "id": "lSpfytlnSRZc"
      },
      "execution_count": null,
      "outputs": []
    },
    {
      "cell_type": "code",
      "source": [
        "accuracy_score(y_test, y_lr)"
      ],
      "metadata": {
        "colab": {
          "base_uri": "https://localhost:8080/"
        },
        "id": "zbHH0stjSVgz",
        "outputId": "02ca76fa-de5e-4df1-e7b1-026c0607069f"
      },
      "execution_count": null,
      "outputs": [
        {
          "output_type": "execute_result",
          "data": {
            "text/plain": [
              "0.7467532467532467"
            ]
          },
          "metadata": {},
          "execution_count": 58
        }
      ]
    },
    {
      "cell_type": "code",
      "source": [
        "print(classification_report(y_test, y_svm))"
      ],
      "metadata": {
        "colab": {
          "base_uri": "https://localhost:8080/"
        },
        "id": "p6RwmR6SSWiJ",
        "outputId": "5d0bdd29-141b-45c6-f5fb-08b3c4440d7c"
      },
      "execution_count": null,
      "outputs": [
        {
          "output_type": "stream",
          "name": "stdout",
          "text": [
            "              precision    recall  f1-score   support\n",
            "\n",
            "           0       0.78      0.88      0.83        99\n",
            "           1       0.72      0.56      0.63        55\n",
            "\n",
            "    accuracy                           0.77       154\n",
            "   macro avg       0.75      0.72      0.73       154\n",
            "weighted avg       0.76      0.77      0.76       154\n",
            "\n"
          ]
        }
      ]
    },
    {
      "cell_type": "code",
      "source": [
        "print(classification_report(y_test, y_lr))"
      ],
      "metadata": {
        "colab": {
          "base_uri": "https://localhost:8080/"
        },
        "id": "9BloS_iRSd0O",
        "outputId": "00a95c3d-db5b-4358-af3d-71104ffef432"
      },
      "execution_count": null,
      "outputs": [
        {
          "output_type": "stream",
          "name": "stdout",
          "text": [
            "              precision    recall  f1-score   support\n",
            "\n",
            "           0       0.81      0.79      0.80        99\n",
            "           1       0.64      0.67      0.65        55\n",
            "\n",
            "    accuracy                           0.75       154\n",
            "   macro avg       0.73      0.73      0.73       154\n",
            "weighted avg       0.75      0.75      0.75       154\n",
            "\n"
          ]
        }
      ]
    },
    {
      "cell_type": "code",
      "source": [
        "from sklearn.tree import DecisionTreeClassifier\n",
        "model = DecisionTreeClassifier()\n",
        "model.fit(X_train, y_train)"
      ],
      "metadata": {
        "id": "N533DX0JSnW2",
        "colab": {
          "base_uri": "https://localhost:8080/",
          "height": 74
        },
        "outputId": "5afdd911-b2e3-4deb-f6b9-b31f8793d719"
      },
      "execution_count": null,
      "outputs": [
        {
          "output_type": "execute_result",
          "data": {
            "text/plain": [
              "DecisionTreeClassifier()"
            ],
            "text/html": [
              "<style>#sk-container-id-8 {color: black;background-color: white;}#sk-container-id-8 pre{padding: 0;}#sk-container-id-8 div.sk-toggleable {background-color: white;}#sk-container-id-8 label.sk-toggleable__label {cursor: pointer;display: block;width: 100%;margin-bottom: 0;padding: 0.3em;box-sizing: border-box;text-align: center;}#sk-container-id-8 label.sk-toggleable__label-arrow:before {content: \"▸\";float: left;margin-right: 0.25em;color: #696969;}#sk-container-id-8 label.sk-toggleable__label-arrow:hover:before {color: black;}#sk-container-id-8 div.sk-estimator:hover label.sk-toggleable__label-arrow:before {color: black;}#sk-container-id-8 div.sk-toggleable__content {max-height: 0;max-width: 0;overflow: hidden;text-align: left;background-color: #f0f8ff;}#sk-container-id-8 div.sk-toggleable__content pre {margin: 0.2em;color: black;border-radius: 0.25em;background-color: #f0f8ff;}#sk-container-id-8 input.sk-toggleable__control:checked~div.sk-toggleable__content {max-height: 200px;max-width: 100%;overflow: auto;}#sk-container-id-8 input.sk-toggleable__control:checked~label.sk-toggleable__label-arrow:before {content: \"▾\";}#sk-container-id-8 div.sk-estimator input.sk-toggleable__control:checked~label.sk-toggleable__label {background-color: #d4ebff;}#sk-container-id-8 div.sk-label input.sk-toggleable__control:checked~label.sk-toggleable__label {background-color: #d4ebff;}#sk-container-id-8 input.sk-hidden--visually {border: 0;clip: rect(1px 1px 1px 1px);clip: rect(1px, 1px, 1px, 1px);height: 1px;margin: -1px;overflow: hidden;padding: 0;position: absolute;width: 1px;}#sk-container-id-8 div.sk-estimator {font-family: monospace;background-color: #f0f8ff;border: 1px dotted black;border-radius: 0.25em;box-sizing: border-box;margin-bottom: 0.5em;}#sk-container-id-8 div.sk-estimator:hover {background-color: #d4ebff;}#sk-container-id-8 div.sk-parallel-item::after {content: \"\";width: 100%;border-bottom: 1px solid gray;flex-grow: 1;}#sk-container-id-8 div.sk-label:hover label.sk-toggleable__label {background-color: #d4ebff;}#sk-container-id-8 div.sk-serial::before {content: \"\";position: absolute;border-left: 1px solid gray;box-sizing: border-box;top: 0;bottom: 0;left: 50%;z-index: 0;}#sk-container-id-8 div.sk-serial {display: flex;flex-direction: column;align-items: center;background-color: white;padding-right: 0.2em;padding-left: 0.2em;position: relative;}#sk-container-id-8 div.sk-item {position: relative;z-index: 1;}#sk-container-id-8 div.sk-parallel {display: flex;align-items: stretch;justify-content: center;background-color: white;position: relative;}#sk-container-id-8 div.sk-item::before, #sk-container-id-8 div.sk-parallel-item::before {content: \"\";position: absolute;border-left: 1px solid gray;box-sizing: border-box;top: 0;bottom: 0;left: 50%;z-index: -1;}#sk-container-id-8 div.sk-parallel-item {display: flex;flex-direction: column;z-index: 1;position: relative;background-color: white;}#sk-container-id-8 div.sk-parallel-item:first-child::after {align-self: flex-end;width: 50%;}#sk-container-id-8 div.sk-parallel-item:last-child::after {align-self: flex-start;width: 50%;}#sk-container-id-8 div.sk-parallel-item:only-child::after {width: 0;}#sk-container-id-8 div.sk-dashed-wrapped {border: 1px dashed gray;margin: 0 0.4em 0.5em 0.4em;box-sizing: border-box;padding-bottom: 0.4em;background-color: white;}#sk-container-id-8 div.sk-label label {font-family: monospace;font-weight: bold;display: inline-block;line-height: 1.2em;}#sk-container-id-8 div.sk-label-container {text-align: center;}#sk-container-id-8 div.sk-container {/* jupyter's `normalize.less` sets `[hidden] { display: none; }` but bootstrap.min.css set `[hidden] { display: none !important; }` so we also need the `!important` here to be able to override the default hidden behavior on the sphinx rendered scikit-learn.org. See: https://github.com/scikit-learn/scikit-learn/issues/21755 */display: inline-block !important;position: relative;}#sk-container-id-8 div.sk-text-repr-fallback {display: none;}</style><div id=\"sk-container-id-8\" class=\"sk-top-container\"><div class=\"sk-text-repr-fallback\"><pre>DecisionTreeClassifier()</pre><b>In a Jupyter environment, please rerun this cell to show the HTML representation or trust the notebook. <br />On GitHub, the HTML representation is unable to render, please try loading this page with nbviewer.org.</b></div><div class=\"sk-container\" hidden><div class=\"sk-item\"><div class=\"sk-estimator sk-toggleable\"><input class=\"sk-toggleable__control sk-hidden--visually\" id=\"sk-estimator-id-8\" type=\"checkbox\" checked><label for=\"sk-estimator-id-8\" class=\"sk-toggleable__label sk-toggleable__label-arrow\">DecisionTreeClassifier</label><div class=\"sk-toggleable__content\"><pre>DecisionTreeClassifier()</pre></div></div></div></div></div>"
            ]
          },
          "metadata": {},
          "execution_count": 61
        }
      ]
    },
    {
      "cell_type": "code",
      "source": [
        "y_dt = model.predict(X_test)"
      ],
      "metadata": {
        "id": "Rj8jkRWub3Sr"
      },
      "execution_count": null,
      "outputs": []
    },
    {
      "cell_type": "code",
      "source": [
        "print(classification_report(y_test, y_dt))"
      ],
      "metadata": {
        "colab": {
          "base_uri": "https://localhost:8080/"
        },
        "id": "lkZWjycCb73a",
        "outputId": "a231b56a-0a2f-40de-f55b-c1c137860d4d"
      },
      "execution_count": null,
      "outputs": [
        {
          "output_type": "stream",
          "name": "stdout",
          "text": [
            "              precision    recall  f1-score   support\n",
            "\n",
            "           0       0.84      0.77      0.80        99\n",
            "           1       0.63      0.73      0.68        55\n",
            "\n",
            "    accuracy                           0.75       154\n",
            "   macro avg       0.74      0.75      0.74       154\n",
            "weighted avg       0.76      0.75      0.76       154\n",
            "\n"
          ]
        }
      ]
    },
    {
      "cell_type": "code",
      "source": [
        "import graphviz\n",
        "from sklearn import tree\n",
        "dot_data = tree.export_graphviz(model, out_file=None,\n",
        "                     feature_names = X.columns,class_names=['0','1'],\n",
        "                     filled=True, rounded=True,\n",
        "                     special_characters=True)\n",
        "graph = graphviz.Source(dot_data)\n",
        "graph"
      ],
      "metadata": {
        "colab": {
          "base_uri": "https://localhost:8080/",
          "height": 1000
        },
        "id": "kBBwPwuPb70u",
        "outputId": "b194a71d-d385-460b-e611-7dce12c7a779"
      },
      "execution_count": null,
      "outputs": [
        {
          "output_type": "execute_result",
          "data": {
            "image/svg+xml": "<?xml version=\"1.0\" encoding=\"UTF-8\" standalone=\"no\"?>\n<!DOCTYPE svg PUBLIC \"-//W3C//DTD SVG 1.1//EN\"\n \"http://www.w3.org/Graphics/SVG/1.1/DTD/svg11.dtd\">\n<!-- Generated by graphviz version 2.43.0 (0)\n -->\n<!-- Title: Tree Pages: 1 -->\n<svg width=\"5320pt\" height=\"1623pt\"\n viewBox=\"0.00 0.00 5320.00 1623.00\" xmlns=\"http://www.w3.org/2000/svg\" xmlns:xlink=\"http://www.w3.org/1999/xlink\">\n<g id=\"graph0\" class=\"graph\" transform=\"scale(1 1) rotate(0) translate(4 1619)\">\n<title>Tree</title>\n<polygon fill=\"white\" stroke=\"transparent\" points=\"-4,4 -4,-1619 5316,-1619 5316,4 -4,4\"/>\n<!-- 0 -->\n<g id=\"node1\" class=\"node\">\n<title>0</title>\n<path fill=\"#f3c4a2\" stroke=\"black\" d=\"M2332,-1615C2332,-1615 2231,-1615 2231,-1615 2225,-1615 2219,-1609 2219,-1603 2219,-1603 2219,-1544 2219,-1544 2219,-1538 2225,-1532 2231,-1532 2231,-1532 2332,-1532 2332,-1532 2338,-1532 2344,-1538 2344,-1544 2344,-1544 2344,-1603 2344,-1603 2344,-1609 2338,-1615 2332,-1615\"/>\n<text text-anchor=\"start\" x=\"2231.5\" y=\"-1599.8\" font-family=\"Helvetica,sans-Serif\" font-size=\"14.00\">Glucose ≤ 127.5</text>\n<text text-anchor=\"start\" x=\"2246\" y=\"-1584.8\" font-family=\"Helvetica,sans-Serif\" font-size=\"14.00\">gini = 0.453</text>\n<text text-anchor=\"start\" x=\"2236.5\" y=\"-1569.8\" font-family=\"Helvetica,sans-Serif\" font-size=\"14.00\">samples = 614</text>\n<text text-anchor=\"start\" x=\"2227\" y=\"-1554.8\" font-family=\"Helvetica,sans-Serif\" font-size=\"14.00\">value = [401, 213]</text>\n<text text-anchor=\"start\" x=\"2254\" y=\"-1539.8\" font-family=\"Helvetica,sans-Serif\" font-size=\"14.00\">class = 0</text>\n</g>\n<!-- 1 -->\n<g id=\"node2\" class=\"node\">\n<title>1</title>\n<path fill=\"#eb9f69\" stroke=\"black\" d=\"M1502,-1496C1502,-1496 1409,-1496 1409,-1496 1403,-1496 1397,-1490 1397,-1484 1397,-1484 1397,-1425 1397,-1425 1397,-1419 1403,-1413 1409,-1413 1409,-1413 1502,-1413 1502,-1413 1508,-1413 1514,-1419 1514,-1425 1514,-1425 1514,-1484 1514,-1484 1514,-1490 1508,-1496 1502,-1496\"/>\n<text text-anchor=\"start\" x=\"1422.5\" y=\"-1480.8\" font-family=\"Helvetica,sans-Serif\" font-size=\"14.00\">Age ≤ 28.5</text>\n<text text-anchor=\"start\" x=\"1420\" y=\"-1465.8\" font-family=\"Helvetica,sans-Serif\" font-size=\"14.00\">gini = 0.314</text>\n<text text-anchor=\"start\" x=\"1410.5\" y=\"-1450.8\" font-family=\"Helvetica,sans-Serif\" font-size=\"14.00\">samples = 390</text>\n<text text-anchor=\"start\" x=\"1405\" y=\"-1435.8\" font-family=\"Helvetica,sans-Serif\" font-size=\"14.00\">value = [314, 76]</text>\n<text text-anchor=\"start\" x=\"1428\" y=\"-1420.8\" font-family=\"Helvetica,sans-Serif\" font-size=\"14.00\">class = 0</text>\n</g>\n<!-- 0&#45;&gt;1 -->\n<g id=\"edge1\" class=\"edge\">\n<title>0&#45;&gt;1</title>\n<path fill=\"none\" stroke=\"black\" d=\"M2218.74,-1563.61C2067.14,-1542.14 1681.93,-1487.57 1524.32,-1465.25\"/>\n<polygon fill=\"black\" stroke=\"black\" points=\"1524.66,-1461.76 1514.27,-1463.82 1523.68,-1468.69 1524.66,-1461.76\"/>\n<text text-anchor=\"middle\" x=\"1529.29\" y=\"-1480.11\" font-family=\"Helvetica,sans-Serif\" font-size=\"14.00\">True</text>\n</g>\n<!-- 106 -->\n<g id=\"node107\" class=\"node\">\n<title>106</title>\n<path fill=\"#b7dbf6\" stroke=\"black\" d=\"M3407,-1496C3407,-1496 3314,-1496 3314,-1496 3308,-1496 3302,-1490 3302,-1484 3302,-1484 3302,-1425 3302,-1425 3302,-1419 3308,-1413 3314,-1413 3314,-1413 3407,-1413 3407,-1413 3413,-1413 3419,-1419 3419,-1425 3419,-1425 3419,-1484 3419,-1484 3419,-1490 3413,-1496 3407,-1496\"/>\n<text text-anchor=\"start\" x=\"3323.5\" y=\"-1480.8\" font-family=\"Helvetica,sans-Serif\" font-size=\"14.00\">BMI ≤ 29.95</text>\n<text text-anchor=\"start\" x=\"3325\" y=\"-1465.8\" font-family=\"Helvetica,sans-Serif\" font-size=\"14.00\">gini = 0.475</text>\n<text text-anchor=\"start\" x=\"3315.5\" y=\"-1450.8\" font-family=\"Helvetica,sans-Serif\" font-size=\"14.00\">samples = 224</text>\n<text text-anchor=\"start\" x=\"3310\" y=\"-1435.8\" font-family=\"Helvetica,sans-Serif\" font-size=\"14.00\">value = [87, 137]</text>\n<text text-anchor=\"start\" x=\"3333\" y=\"-1420.8\" font-family=\"Helvetica,sans-Serif\" font-size=\"14.00\">class = 1</text>\n</g>\n<!-- 0&#45;&gt;106 -->\n<g id=\"edge106\" class=\"edge\">\n<title>0&#45;&gt;106</title>\n<path fill=\"none\" stroke=\"black\" d=\"M2344.18,-1565.7C2532.96,-1545.23 3095.26,-1484.26 3291.78,-1462.95\"/>\n<polygon fill=\"black\" stroke=\"black\" points=\"3292.41,-1466.4 3301.97,-1461.85 3291.66,-1459.44 3292.41,-1466.4\"/>\n<text text-anchor=\"middle\" x=\"3286.31\" y=\"-1477.63\" font-family=\"Helvetica,sans-Serif\" font-size=\"14.00\">False</text>\n</g>\n<!-- 2 -->\n<g id=\"node3\" class=\"node\">\n<title>2</title>\n<path fill=\"#e78c49\" stroke=\"black\" d=\"M662,-1377C662,-1377 569,-1377 569,-1377 563,-1377 557,-1371 557,-1365 557,-1365 557,-1306 557,-1306 557,-1300 563,-1294 569,-1294 569,-1294 662,-1294 662,-1294 668,-1294 674,-1300 674,-1306 674,-1306 674,-1365 674,-1365 674,-1371 668,-1377 662,-1377\"/>\n<text text-anchor=\"start\" x=\"578.5\" y=\"-1361.8\" font-family=\"Helvetica,sans-Serif\" font-size=\"14.00\">BMI ≤ 30.95</text>\n<text text-anchor=\"start\" x=\"580\" y=\"-1346.8\" font-family=\"Helvetica,sans-Serif\" font-size=\"14.00\">gini = 0.142</text>\n<text text-anchor=\"start\" x=\"570.5\" y=\"-1331.8\" font-family=\"Helvetica,sans-Serif\" font-size=\"14.00\">samples = 221</text>\n<text text-anchor=\"start\" x=\"565\" y=\"-1316.8\" font-family=\"Helvetica,sans-Serif\" font-size=\"14.00\">value = [204, 17]</text>\n<text text-anchor=\"start\" x=\"588\" y=\"-1301.8\" font-family=\"Helvetica,sans-Serif\" font-size=\"14.00\">class = 0</text>\n</g>\n<!-- 1&#45;&gt;2 -->\n<g id=\"edge2\" class=\"edge\">\n<title>1&#45;&gt;2</title>\n<path fill=\"none\" stroke=\"black\" d=\"M1396.77,-1445.32C1245.95,-1424.31 845.59,-1368.55 684.28,-1346.08\"/>\n<polygon fill=\"black\" stroke=\"black\" points=\"684.39,-1342.56 674.01,-1344.65 683.43,-1349.5 684.39,-1342.56\"/>\n</g>\n<!-- 43 -->\n<g id=\"node44\" class=\"node\">\n<title>43</title>\n<path fill=\"#f3c5a3\" stroke=\"black\" d=\"M1502,-1377C1502,-1377 1409,-1377 1409,-1377 1403,-1377 1397,-1371 1397,-1365 1397,-1365 1397,-1306 1397,-1306 1397,-1300 1403,-1294 1409,-1294 1409,-1294 1502,-1294 1502,-1294 1508,-1294 1514,-1300 1514,-1306 1514,-1306 1514,-1365 1514,-1365 1514,-1371 1508,-1377 1502,-1377\"/>\n<text text-anchor=\"start\" x=\"1418.5\" y=\"-1361.8\" font-family=\"Helvetica,sans-Serif\" font-size=\"14.00\">BMI ≤ 26.35</text>\n<text text-anchor=\"start\" x=\"1420\" y=\"-1346.8\" font-family=\"Helvetica,sans-Serif\" font-size=\"14.00\">gini = 0.454</text>\n<text text-anchor=\"start\" x=\"1410.5\" y=\"-1331.8\" font-family=\"Helvetica,sans-Serif\" font-size=\"14.00\">samples = 169</text>\n<text text-anchor=\"start\" x=\"1405\" y=\"-1316.8\" font-family=\"Helvetica,sans-Serif\" font-size=\"14.00\">value = [110, 59]</text>\n<text text-anchor=\"start\" x=\"1428\" y=\"-1301.8\" font-family=\"Helvetica,sans-Serif\" font-size=\"14.00\">class = 0</text>\n</g>\n<!-- 1&#45;&gt;43 -->\n<g id=\"edge43\" class=\"edge\">\n<title>1&#45;&gt;43</title>\n<path fill=\"none\" stroke=\"black\" d=\"M1455.5,-1412.91C1455.5,-1404.65 1455.5,-1395.86 1455.5,-1387.3\"/>\n<polygon fill=\"black\" stroke=\"black\" points=\"1459,-1387.02 1455.5,-1377.02 1452,-1387.02 1459,-1387.02\"/>\n</g>\n<!-- 3 -->\n<g id=\"node4\" class=\"node\">\n<title>3</title>\n<path fill=\"#e5823b\" stroke=\"black\" d=\"M426.5,-1258C426.5,-1258 226.5,-1258 226.5,-1258 220.5,-1258 214.5,-1252 214.5,-1246 214.5,-1246 214.5,-1187 214.5,-1187 214.5,-1181 220.5,-1175 226.5,-1175 226.5,-1175 426.5,-1175 426.5,-1175 432.5,-1175 438.5,-1181 438.5,-1187 438.5,-1187 438.5,-1246 438.5,-1246 438.5,-1252 432.5,-1258 426.5,-1258\"/>\n<text text-anchor=\"start\" x=\"222.5\" y=\"-1242.8\" font-family=\"Helvetica,sans-Serif\" font-size=\"14.00\">DiabetesPedigreeFunction ≤ 0.672</text>\n<text text-anchor=\"start\" x=\"291\" y=\"-1227.8\" font-family=\"Helvetica,sans-Serif\" font-size=\"14.00\">gini = 0.016</text>\n<text text-anchor=\"start\" x=\"281.5\" y=\"-1212.8\" font-family=\"Helvetica,sans-Serif\" font-size=\"14.00\">samples = 124</text>\n<text text-anchor=\"start\" x=\"279.5\" y=\"-1197.8\" font-family=\"Helvetica,sans-Serif\" font-size=\"14.00\">value = [123, 1]</text>\n<text text-anchor=\"start\" x=\"299\" y=\"-1182.8\" font-family=\"Helvetica,sans-Serif\" font-size=\"14.00\">class = 0</text>\n</g>\n<!-- 2&#45;&gt;3 -->\n<g id=\"edge3\" class=\"edge\">\n<title>2&#45;&gt;3</title>\n<path fill=\"none\" stroke=\"black\" d=\"M556.67,-1310.68C522.07,-1296.67 477.2,-1278.51 436.29,-1261.95\"/>\n<polygon fill=\"black\" stroke=\"black\" points=\"437.39,-1258.62 426.81,-1258.11 434.76,-1265.11 437.39,-1258.62\"/>\n</g>\n<!-- 8 -->\n<g id=\"node9\" class=\"node\">\n<title>8</title>\n<path fill=\"#ea9a60\" stroke=\"black\" d=\"M676.5,-1258C676.5,-1258 554.5,-1258 554.5,-1258 548.5,-1258 542.5,-1252 542.5,-1246 542.5,-1246 542.5,-1187 542.5,-1187 542.5,-1181 548.5,-1175 554.5,-1175 554.5,-1175 676.5,-1175 676.5,-1175 682.5,-1175 688.5,-1181 688.5,-1187 688.5,-1187 688.5,-1246 688.5,-1246 688.5,-1252 682.5,-1258 676.5,-1258\"/>\n<text text-anchor=\"start\" x=\"550.5\" y=\"-1242.8\" font-family=\"Helvetica,sans-Serif\" font-size=\"14.00\">BloodPressure ≤ 37.0</text>\n<text text-anchor=\"start\" x=\"580\" y=\"-1227.8\" font-family=\"Helvetica,sans-Serif\" font-size=\"14.00\">gini = 0.275</text>\n<text text-anchor=\"start\" x=\"574.5\" y=\"-1212.8\" font-family=\"Helvetica,sans-Serif\" font-size=\"14.00\">samples = 97</text>\n<text text-anchor=\"start\" x=\"568.5\" y=\"-1197.8\" font-family=\"Helvetica,sans-Serif\" font-size=\"14.00\">value = [81, 16]</text>\n<text text-anchor=\"start\" x=\"588\" y=\"-1182.8\" font-family=\"Helvetica,sans-Serif\" font-size=\"14.00\">class = 0</text>\n</g>\n<!-- 2&#45;&gt;8 -->\n<g id=\"edge8\" class=\"edge\">\n<title>2&#45;&gt;8</title>\n<path fill=\"none\" stroke=\"black\" d=\"M615.5,-1293.91C615.5,-1285.65 615.5,-1276.86 615.5,-1268.3\"/>\n<polygon fill=\"black\" stroke=\"black\" points=\"619,-1268.02 615.5,-1258.02 612,-1268.02 619,-1268.02\"/>\n</g>\n<!-- 4 -->\n<g id=\"node5\" class=\"node\">\n<title>4</title>\n<path fill=\"#e58139\" stroke=\"black\" d=\"M184.5,-1131.5C184.5,-1131.5 98.5,-1131.5 98.5,-1131.5 92.5,-1131.5 86.5,-1125.5 86.5,-1119.5 86.5,-1119.5 86.5,-1075.5 86.5,-1075.5 86.5,-1069.5 92.5,-1063.5 98.5,-1063.5 98.5,-1063.5 184.5,-1063.5 184.5,-1063.5 190.5,-1063.5 196.5,-1069.5 196.5,-1075.5 196.5,-1075.5 196.5,-1119.5 196.5,-1119.5 196.5,-1125.5 190.5,-1131.5 184.5,-1131.5\"/>\n<text text-anchor=\"start\" x=\"113.5\" y=\"-1116.3\" font-family=\"Helvetica,sans-Serif\" font-size=\"14.00\">gini = 0.0</text>\n<text text-anchor=\"start\" x=\"96.5\" y=\"-1101.3\" font-family=\"Helvetica,sans-Serif\" font-size=\"14.00\">samples = 108</text>\n<text text-anchor=\"start\" x=\"94.5\" y=\"-1086.3\" font-family=\"Helvetica,sans-Serif\" font-size=\"14.00\">value = [108, 0]</text>\n<text text-anchor=\"start\" x=\"114\" y=\"-1071.3\" font-family=\"Helvetica,sans-Serif\" font-size=\"14.00\">class = 0</text>\n</g>\n<!-- 3&#45;&gt;4 -->\n<g id=\"edge4\" class=\"edge\">\n<title>3&#45;&gt;4</title>\n<path fill=\"none\" stroke=\"black\" d=\"M262.13,-1174.81C243.83,-1163.24 223.88,-1150.62 205.5,-1139 204.56,-1138.4 203.6,-1137.8 202.64,-1137.19\"/>\n<polygon fill=\"black\" stroke=\"black\" points=\"204.21,-1134.04 193.89,-1131.66 200.47,-1139.96 204.21,-1134.04\"/>\n</g>\n<!-- 5 -->\n<g id=\"node6\" class=\"node\">\n<title>5</title>\n<path fill=\"#e78946\" stroke=\"black\" d=\"M426.5,-1139C426.5,-1139 226.5,-1139 226.5,-1139 220.5,-1139 214.5,-1133 214.5,-1127 214.5,-1127 214.5,-1068 214.5,-1068 214.5,-1062 220.5,-1056 226.5,-1056 226.5,-1056 426.5,-1056 426.5,-1056 432.5,-1056 438.5,-1062 438.5,-1068 438.5,-1068 438.5,-1127 438.5,-1127 438.5,-1133 432.5,-1139 426.5,-1139\"/>\n<text text-anchor=\"start\" x=\"222.5\" y=\"-1123.8\" font-family=\"Helvetica,sans-Serif\" font-size=\"14.00\">DiabetesPedigreeFunction ≤ 0.686</text>\n<text text-anchor=\"start\" x=\"291\" y=\"-1108.8\" font-family=\"Helvetica,sans-Serif\" font-size=\"14.00\">gini = 0.117</text>\n<text text-anchor=\"start\" x=\"285.5\" y=\"-1093.8\" font-family=\"Helvetica,sans-Serif\" font-size=\"14.00\">samples = 16</text>\n<text text-anchor=\"start\" x=\"283.5\" y=\"-1078.8\" font-family=\"Helvetica,sans-Serif\" font-size=\"14.00\">value = [15, 1]</text>\n<text text-anchor=\"start\" x=\"299\" y=\"-1063.8\" font-family=\"Helvetica,sans-Serif\" font-size=\"14.00\">class = 0</text>\n</g>\n<!-- 3&#45;&gt;5 -->\n<g id=\"edge5\" class=\"edge\">\n<title>3&#45;&gt;5</title>\n<path fill=\"none\" stroke=\"black\" d=\"M326.5,-1174.91C326.5,-1166.65 326.5,-1157.86 326.5,-1149.3\"/>\n<polygon fill=\"black\" stroke=\"black\" points=\"330,-1149.02 326.5,-1139.02 323,-1149.02 330,-1149.02\"/>\n</g>\n<!-- 6 -->\n<g id=\"node7\" class=\"node\">\n<title>6</title>\n<path fill=\"#399de5\" stroke=\"black\" d=\"M245,-1012.5C245,-1012.5 174,-1012.5 174,-1012.5 168,-1012.5 162,-1006.5 162,-1000.5 162,-1000.5 162,-956.5 162,-956.5 162,-950.5 168,-944.5 174,-944.5 174,-944.5 245,-944.5 245,-944.5 251,-944.5 257,-950.5 257,-956.5 257,-956.5 257,-1000.5 257,-1000.5 257,-1006.5 251,-1012.5 245,-1012.5\"/>\n<text text-anchor=\"start\" x=\"181.5\" y=\"-997.3\" font-family=\"Helvetica,sans-Serif\" font-size=\"14.00\">gini = 0.0</text>\n<text text-anchor=\"start\" x=\"172\" y=\"-982.3\" font-family=\"Helvetica,sans-Serif\" font-size=\"14.00\">samples = 1</text>\n<text text-anchor=\"start\" x=\"170\" y=\"-967.3\" font-family=\"Helvetica,sans-Serif\" font-size=\"14.00\">value = [0, 1]</text>\n<text text-anchor=\"start\" x=\"182\" y=\"-952.3\" font-family=\"Helvetica,sans-Serif\" font-size=\"14.00\">class = 1</text>\n</g>\n<!-- 5&#45;&gt;6 -->\n<g id=\"edge6\" class=\"edge\">\n<title>5&#45;&gt;6</title>\n<path fill=\"none\" stroke=\"black\" d=\"M285.91,-1055.91C274.21,-1044.21 261.46,-1031.46 249.78,-1019.78\"/>\n<polygon fill=\"black\" stroke=\"black\" points=\"252.21,-1017.26 242.67,-1012.67 247.26,-1022.21 252.21,-1017.26\"/>\n</g>\n<!-- 7 -->\n<g id=\"node8\" class=\"node\">\n<title>7</title>\n<path fill=\"#e58139\" stroke=\"black\" d=\"M365.5,-1012.5C365.5,-1012.5 287.5,-1012.5 287.5,-1012.5 281.5,-1012.5 275.5,-1006.5 275.5,-1000.5 275.5,-1000.5 275.5,-956.5 275.5,-956.5 275.5,-950.5 281.5,-944.5 287.5,-944.5 287.5,-944.5 365.5,-944.5 365.5,-944.5 371.5,-944.5 377.5,-950.5 377.5,-956.5 377.5,-956.5 377.5,-1000.5 377.5,-1000.5 377.5,-1006.5 371.5,-1012.5 365.5,-1012.5\"/>\n<text text-anchor=\"start\" x=\"298.5\" y=\"-997.3\" font-family=\"Helvetica,sans-Serif\" font-size=\"14.00\">gini = 0.0</text>\n<text text-anchor=\"start\" x=\"285.5\" y=\"-982.3\" font-family=\"Helvetica,sans-Serif\" font-size=\"14.00\">samples = 15</text>\n<text text-anchor=\"start\" x=\"283.5\" y=\"-967.3\" font-family=\"Helvetica,sans-Serif\" font-size=\"14.00\">value = [15, 0]</text>\n<text text-anchor=\"start\" x=\"299\" y=\"-952.3\" font-family=\"Helvetica,sans-Serif\" font-size=\"14.00\">class = 0</text>\n</g>\n<!-- 5&#45;&gt;7 -->\n<g id=\"edge7\" class=\"edge\">\n<title>5&#45;&gt;7</title>\n<path fill=\"none\" stroke=\"black\" d=\"M326.5,-1055.91C326.5,-1045.2 326.5,-1033.62 326.5,-1022.78\"/>\n<polygon fill=\"black\" stroke=\"black\" points=\"330,-1022.67 326.5,-1012.67 323,-1022.67 330,-1022.67\"/>\n</g>\n<!-- 9 -->\n<g id=\"node10\" class=\"node\">\n<title>9</title>\n<path fill=\"#399de5\" stroke=\"black\" d=\"M559,-1131.5C559,-1131.5 488,-1131.5 488,-1131.5 482,-1131.5 476,-1125.5 476,-1119.5 476,-1119.5 476,-1075.5 476,-1075.5 476,-1069.5 482,-1063.5 488,-1063.5 488,-1063.5 559,-1063.5 559,-1063.5 565,-1063.5 571,-1069.5 571,-1075.5 571,-1075.5 571,-1119.5 571,-1119.5 571,-1125.5 565,-1131.5 559,-1131.5\"/>\n<text text-anchor=\"start\" x=\"495.5\" y=\"-1116.3\" font-family=\"Helvetica,sans-Serif\" font-size=\"14.00\">gini = 0.0</text>\n<text text-anchor=\"start\" x=\"486\" y=\"-1101.3\" font-family=\"Helvetica,sans-Serif\" font-size=\"14.00\">samples = 2</text>\n<text text-anchor=\"start\" x=\"484\" y=\"-1086.3\" font-family=\"Helvetica,sans-Serif\" font-size=\"14.00\">value = [0, 2]</text>\n<text text-anchor=\"start\" x=\"496\" y=\"-1071.3\" font-family=\"Helvetica,sans-Serif\" font-size=\"14.00\">class = 1</text>\n</g>\n<!-- 8&#45;&gt;9 -->\n<g id=\"edge9\" class=\"edge\">\n<title>8&#45;&gt;9</title>\n<path fill=\"none\" stroke=\"black\" d=\"M583.58,-1174.91C574.64,-1163.54 564.92,-1151.18 555.95,-1139.77\"/>\n<polygon fill=\"black\" stroke=\"black\" points=\"558.51,-1137.36 549.58,-1131.67 553.01,-1141.69 558.51,-1137.36\"/>\n</g>\n<!-- 10 -->\n<g id=\"node11\" class=\"node\">\n<title>10</title>\n<path fill=\"#e9975b\" stroke=\"black\" d=\"M801.5,-1139C801.5,-1139 601.5,-1139 601.5,-1139 595.5,-1139 589.5,-1133 589.5,-1127 589.5,-1127 589.5,-1068 589.5,-1068 589.5,-1062 595.5,-1056 601.5,-1056 601.5,-1056 801.5,-1056 801.5,-1056 807.5,-1056 813.5,-1062 813.5,-1068 813.5,-1068 813.5,-1127 813.5,-1127 813.5,-1133 807.5,-1139 801.5,-1139\"/>\n<text text-anchor=\"start\" x=\"597.5\" y=\"-1123.8\" font-family=\"Helvetica,sans-Serif\" font-size=\"14.00\">DiabetesPedigreeFunction ≤ 0.501</text>\n<text text-anchor=\"start\" x=\"666\" y=\"-1108.8\" font-family=\"Helvetica,sans-Serif\" font-size=\"14.00\">gini = 0.251</text>\n<text text-anchor=\"start\" x=\"660.5\" y=\"-1093.8\" font-family=\"Helvetica,sans-Serif\" font-size=\"14.00\">samples = 95</text>\n<text text-anchor=\"start\" x=\"654.5\" y=\"-1078.8\" font-family=\"Helvetica,sans-Serif\" font-size=\"14.00\">value = [81, 14]</text>\n<text text-anchor=\"start\" x=\"674\" y=\"-1063.8\" font-family=\"Helvetica,sans-Serif\" font-size=\"14.00\">class = 0</text>\n</g>\n<!-- 8&#45;&gt;10 -->\n<g id=\"edge10\" class=\"edge\">\n<title>8&#45;&gt;10</title>\n<path fill=\"none\" stroke=\"black\" d=\"M645.34,-1174.91C651.87,-1166.01 658.86,-1156.51 665.61,-1147.33\"/>\n<polygon fill=\"black\" stroke=\"black\" points=\"668.61,-1149.15 671.72,-1139.02 662.97,-1145.01 668.61,-1149.15\"/>\n</g>\n<!-- 11 -->\n<g id=\"node12\" class=\"node\">\n<title>11</title>\n<path fill=\"#e78c4b\" stroke=\"black\" d=\"M521,-1020C521,-1020 408,-1020 408,-1020 402,-1020 396,-1014 396,-1008 396,-1008 396,-949 396,-949 396,-943 402,-937 408,-937 408,-937 521,-937 521,-937 527,-937 533,-943 533,-949 533,-949 533,-1008 533,-1008 533,-1014 527,-1020 521,-1020\"/>\n<text text-anchor=\"start\" x=\"404\" y=\"-1004.8\" font-family=\"Helvetica,sans-Serif\" font-size=\"14.00\">SkinThickness ≤ 8.5</text>\n<text text-anchor=\"start\" x=\"432.5\" y=\"-989.8\" font-family=\"Helvetica,sans-Serif\" font-size=\"14.00\">gini = 0.15</text>\n<text text-anchor=\"start\" x=\"423.5\" y=\"-974.8\" font-family=\"Helvetica,sans-Serif\" font-size=\"14.00\">samples = 61</text>\n<text text-anchor=\"start\" x=\"421.5\" y=\"-959.8\" font-family=\"Helvetica,sans-Serif\" font-size=\"14.00\">value = [56, 5]</text>\n<text text-anchor=\"start\" x=\"437\" y=\"-944.8\" font-family=\"Helvetica,sans-Serif\" font-size=\"14.00\">class = 0</text>\n</g>\n<!-- 10&#45;&gt;11 -->\n<g id=\"edge11\" class=\"edge\">\n<title>10&#45;&gt;11</title>\n<path fill=\"none\" stroke=\"black\" d=\"M619.27,-1055.91C594.27,-1043.56 566.88,-1030.04 542.18,-1017.85\"/>\n<polygon fill=\"black\" stroke=\"black\" points=\"543.73,-1014.71 533.22,-1013.42 540.63,-1020.99 543.73,-1014.71\"/>\n</g>\n<!-- 24 -->\n<g id=\"node25\" class=\"node\">\n<title>24</title>\n<path fill=\"#eeae80\" stroke=\"black\" d=\"M839.5,-1020C839.5,-1020 639.5,-1020 639.5,-1020 633.5,-1020 627.5,-1014 627.5,-1008 627.5,-1008 627.5,-949 627.5,-949 627.5,-943 633.5,-937 639.5,-937 639.5,-937 839.5,-937 839.5,-937 845.5,-937 851.5,-943 851.5,-949 851.5,-949 851.5,-1008 851.5,-1008 851.5,-1014 845.5,-1020 839.5,-1020\"/>\n<text text-anchor=\"start\" x=\"635.5\" y=\"-1004.8\" font-family=\"Helvetica,sans-Serif\" font-size=\"14.00\">DiabetesPedigreeFunction ≤ 0.544</text>\n<text text-anchor=\"start\" x=\"704\" y=\"-989.8\" font-family=\"Helvetica,sans-Serif\" font-size=\"14.00\">gini = 0.389</text>\n<text text-anchor=\"start\" x=\"698.5\" y=\"-974.8\" font-family=\"Helvetica,sans-Serif\" font-size=\"14.00\">samples = 34</text>\n<text text-anchor=\"start\" x=\"696.5\" y=\"-959.8\" font-family=\"Helvetica,sans-Serif\" font-size=\"14.00\">value = [25, 9]</text>\n<text text-anchor=\"start\" x=\"712\" y=\"-944.8\" font-family=\"Helvetica,sans-Serif\" font-size=\"14.00\">class = 0</text>\n</g>\n<!-- 10&#45;&gt;24 -->\n<g id=\"edge24\" class=\"edge\">\n<title>10&#45;&gt;24</title>\n<path fill=\"none\" stroke=\"black\" d=\"M714.68,-1055.91C717.43,-1047.47 720.34,-1038.48 723.18,-1029.74\"/>\n<polygon fill=\"black\" stroke=\"black\" points=\"726.58,-1030.61 726.34,-1020.02 719.92,-1028.45 726.58,-1030.61\"/>\n</g>\n<!-- 12 -->\n<g id=\"node13\" class=\"node\">\n<title>12</title>\n<path fill=\"#f8e0ce\" stroke=\"black\" d=\"M206.5,-901C206.5,-901 114.5,-901 114.5,-901 108.5,-901 102.5,-895 102.5,-889 102.5,-889 102.5,-830 102.5,-830 102.5,-824 108.5,-818 114.5,-818 114.5,-818 206.5,-818 206.5,-818 212.5,-818 218.5,-824 218.5,-830 218.5,-830 218.5,-889 218.5,-889 218.5,-895 212.5,-901 206.5,-901\"/>\n<text text-anchor=\"start\" x=\"110.5\" y=\"-885.8\" font-family=\"Helvetica,sans-Serif\" font-size=\"14.00\">Glucose ≤ 109.5</text>\n<text text-anchor=\"start\" x=\"128.5\" y=\"-870.8\" font-family=\"Helvetica,sans-Serif\" font-size=\"14.00\">gini = 0.49</text>\n<text text-anchor=\"start\" x=\"123\" y=\"-855.8\" font-family=\"Helvetica,sans-Serif\" font-size=\"14.00\">samples = 7</text>\n<text text-anchor=\"start\" x=\"121\" y=\"-840.8\" font-family=\"Helvetica,sans-Serif\" font-size=\"14.00\">value = [4, 3]</text>\n<text text-anchor=\"start\" x=\"133\" y=\"-825.8\" font-family=\"Helvetica,sans-Serif\" font-size=\"14.00\">class = 0</text>\n</g>\n<!-- 11&#45;&gt;12 -->\n<g id=\"edge12\" class=\"edge\">\n<title>11&#45;&gt;12</title>\n<path fill=\"none\" stroke=\"black\" d=\"M395.87,-941.14C392.72,-939.7 389.59,-938.32 386.5,-937 334.49,-914.85 273.69,-894.57 228.27,-880.47\"/>\n<polygon fill=\"black\" stroke=\"black\" points=\"229.12,-877.06 218.53,-877.46 227.05,-883.75 229.12,-877.06\"/>\n</g>\n<!-- 17 -->\n<g id=\"node18\" class=\"node\">\n<title>17</title>\n<path fill=\"#e68641\" stroke=\"black\" d=\"M493.5,-901C493.5,-901 415.5,-901 415.5,-901 409.5,-901 403.5,-895 403.5,-889 403.5,-889 403.5,-830 403.5,-830 403.5,-824 409.5,-818 415.5,-818 415.5,-818 493.5,-818 493.5,-818 499.5,-818 505.5,-824 505.5,-830 505.5,-830 505.5,-889 505.5,-889 505.5,-895 499.5,-901 493.5,-901\"/>\n<text text-anchor=\"start\" x=\"421\" y=\"-885.8\" font-family=\"Helvetica,sans-Serif\" font-size=\"14.00\">BMI ≤ 31.1</text>\n<text text-anchor=\"start\" x=\"419\" y=\"-870.8\" font-family=\"Helvetica,sans-Serif\" font-size=\"14.00\">gini = 0.071</text>\n<text text-anchor=\"start\" x=\"413.5\" y=\"-855.8\" font-family=\"Helvetica,sans-Serif\" font-size=\"14.00\">samples = 54</text>\n<text text-anchor=\"start\" x=\"411.5\" y=\"-840.8\" font-family=\"Helvetica,sans-Serif\" font-size=\"14.00\">value = [52, 2]</text>\n<text text-anchor=\"start\" x=\"427\" y=\"-825.8\" font-family=\"Helvetica,sans-Serif\" font-size=\"14.00\">class = 0</text>\n</g>\n<!-- 11&#45;&gt;17 -->\n<g id=\"edge17\" class=\"edge\">\n<title>11&#45;&gt;17</title>\n<path fill=\"none\" stroke=\"black\" d=\"M461.03,-936.91C460.32,-928.56 459.56,-919.67 458.82,-911.02\"/>\n<polygon fill=\"black\" stroke=\"black\" points=\"462.3,-910.69 457.96,-901.02 455.33,-911.28 462.3,-910.69\"/>\n</g>\n<!-- 13 -->\n<g id=\"node14\" class=\"node\">\n<title>13</title>\n<path fill=\"#e58139\" stroke=\"black\" d=\"M83,-774.5C83,-774.5 12,-774.5 12,-774.5 6,-774.5 0,-768.5 0,-762.5 0,-762.5 0,-718.5 0,-718.5 0,-712.5 6,-706.5 12,-706.5 12,-706.5 83,-706.5 83,-706.5 89,-706.5 95,-712.5 95,-718.5 95,-718.5 95,-762.5 95,-762.5 95,-768.5 89,-774.5 83,-774.5\"/>\n<text text-anchor=\"start\" x=\"19.5\" y=\"-759.3\" font-family=\"Helvetica,sans-Serif\" font-size=\"14.00\">gini = 0.0</text>\n<text text-anchor=\"start\" x=\"10\" y=\"-744.3\" font-family=\"Helvetica,sans-Serif\" font-size=\"14.00\">samples = 3</text>\n<text text-anchor=\"start\" x=\"8\" y=\"-729.3\" font-family=\"Helvetica,sans-Serif\" font-size=\"14.00\">value = [3, 0]</text>\n<text text-anchor=\"start\" x=\"20\" y=\"-714.3\" font-family=\"Helvetica,sans-Serif\" font-size=\"14.00\">class = 0</text>\n</g>\n<!-- 12&#45;&gt;13 -->\n<g id=\"edge13\" class=\"edge\">\n<title>12&#45;&gt;13</title>\n<path fill=\"none\" stroke=\"black\" d=\"M121.3,-817.91C110.11,-806.32 97.91,-793.7 86.72,-782.11\"/>\n<polygon fill=\"black\" stroke=\"black\" points=\"89,-779.43 79.53,-774.67 83.96,-784.29 89,-779.43\"/>\n</g>\n<!-- 14 -->\n<g id=\"node15\" class=\"node\">\n<title>14</title>\n<path fill=\"#7bbeee\" stroke=\"black\" d=\"M196,-782C196,-782 125,-782 125,-782 119,-782 113,-776 113,-770 113,-770 113,-711 113,-711 113,-705 119,-699 125,-699 125,-699 196,-699 196,-699 202,-699 208,-705 208,-711 208,-711 208,-770 208,-770 208,-776 202,-782 196,-782\"/>\n<text text-anchor=\"start\" x=\"123.5\" y=\"-766.8\" font-family=\"Helvetica,sans-Serif\" font-size=\"14.00\">BMI ≤ 32.45</text>\n<text text-anchor=\"start\" x=\"125\" y=\"-751.8\" font-family=\"Helvetica,sans-Serif\" font-size=\"14.00\">gini = 0.375</text>\n<text text-anchor=\"start\" x=\"123\" y=\"-736.8\" font-family=\"Helvetica,sans-Serif\" font-size=\"14.00\">samples = 4</text>\n<text text-anchor=\"start\" x=\"121\" y=\"-721.8\" font-family=\"Helvetica,sans-Serif\" font-size=\"14.00\">value = [1, 3]</text>\n<text text-anchor=\"start\" x=\"133\" y=\"-706.8\" font-family=\"Helvetica,sans-Serif\" font-size=\"14.00\">class = 1</text>\n</g>\n<!-- 12&#45;&gt;14 -->\n<g id=\"edge14\" class=\"edge\">\n<title>12&#45;&gt;14</title>\n<path fill=\"none\" stroke=\"black\" d=\"M160.5,-817.91C160.5,-809.65 160.5,-800.86 160.5,-792.3\"/>\n<polygon fill=\"black\" stroke=\"black\" points=\"164,-792.02 160.5,-782.02 157,-792.02 164,-792.02\"/>\n</g>\n<!-- 15 -->\n<g id=\"node16\" class=\"node\">\n<title>15</title>\n<path fill=\"#e58139\" stroke=\"black\" d=\"M83,-655.5C83,-655.5 12,-655.5 12,-655.5 6,-655.5 0,-649.5 0,-643.5 0,-643.5 0,-599.5 0,-599.5 0,-593.5 6,-587.5 12,-587.5 12,-587.5 83,-587.5 83,-587.5 89,-587.5 95,-593.5 95,-599.5 95,-599.5 95,-643.5 95,-643.5 95,-649.5 89,-655.5 83,-655.5\"/>\n<text text-anchor=\"start\" x=\"19.5\" y=\"-640.3\" font-family=\"Helvetica,sans-Serif\" font-size=\"14.00\">gini = 0.0</text>\n<text text-anchor=\"start\" x=\"10\" y=\"-625.3\" font-family=\"Helvetica,sans-Serif\" font-size=\"14.00\">samples = 1</text>\n<text text-anchor=\"start\" x=\"8\" y=\"-610.3\" font-family=\"Helvetica,sans-Serif\" font-size=\"14.00\">value = [1, 0]</text>\n<text text-anchor=\"start\" x=\"20\" y=\"-595.3\" font-family=\"Helvetica,sans-Serif\" font-size=\"14.00\">class = 0</text>\n</g>\n<!-- 14&#45;&gt;15 -->\n<g id=\"edge15\" class=\"edge\">\n<title>14&#45;&gt;15</title>\n<path fill=\"none\" stroke=\"black\" d=\"M121.3,-698.91C110.11,-687.32 97.91,-674.7 86.72,-663.11\"/>\n<polygon fill=\"black\" stroke=\"black\" points=\"89,-660.43 79.53,-655.67 83.96,-665.29 89,-660.43\"/>\n</g>\n<!-- 16 -->\n<g id=\"node17\" class=\"node\">\n<title>16</title>\n<path fill=\"#399de5\" stroke=\"black\" d=\"M196,-655.5C196,-655.5 125,-655.5 125,-655.5 119,-655.5 113,-649.5 113,-643.5 113,-643.5 113,-599.5 113,-599.5 113,-593.5 119,-587.5 125,-587.5 125,-587.5 196,-587.5 196,-587.5 202,-587.5 208,-593.5 208,-599.5 208,-599.5 208,-643.5 208,-643.5 208,-649.5 202,-655.5 196,-655.5\"/>\n<text text-anchor=\"start\" x=\"132.5\" y=\"-640.3\" font-family=\"Helvetica,sans-Serif\" font-size=\"14.00\">gini = 0.0</text>\n<text text-anchor=\"start\" x=\"123\" y=\"-625.3\" font-family=\"Helvetica,sans-Serif\" font-size=\"14.00\">samples = 3</text>\n<text text-anchor=\"start\" x=\"121\" y=\"-610.3\" font-family=\"Helvetica,sans-Serif\" font-size=\"14.00\">value = [0, 3]</text>\n<text text-anchor=\"start\" x=\"133\" y=\"-595.3\" font-family=\"Helvetica,sans-Serif\" font-size=\"14.00\">class = 1</text>\n</g>\n<!-- 14&#45;&gt;16 -->\n<g id=\"edge16\" class=\"edge\">\n<title>14&#45;&gt;16</title>\n<path fill=\"none\" stroke=\"black\" d=\"M160.5,-698.91C160.5,-688.2 160.5,-676.62 160.5,-665.78\"/>\n<polygon fill=\"black\" stroke=\"black\" points=\"164,-665.67 160.5,-655.67 157,-665.67 164,-665.67\"/>\n</g>\n<!-- 18 -->\n<g id=\"node19\" class=\"node\">\n<title>18</title>\n<path fill=\"#399de5\" stroke=\"black\" d=\"M373,-774.5C373,-774.5 302,-774.5 302,-774.5 296,-774.5 290,-768.5 290,-762.5 290,-762.5 290,-718.5 290,-718.5 290,-712.5 296,-706.5 302,-706.5 302,-706.5 373,-706.5 373,-706.5 379,-706.5 385,-712.5 385,-718.5 385,-718.5 385,-762.5 385,-762.5 385,-768.5 379,-774.5 373,-774.5\"/>\n<text text-anchor=\"start\" x=\"309.5\" y=\"-759.3\" font-family=\"Helvetica,sans-Serif\" font-size=\"14.00\">gini = 0.0</text>\n<text text-anchor=\"start\" x=\"300\" y=\"-744.3\" font-family=\"Helvetica,sans-Serif\" font-size=\"14.00\">samples = 1</text>\n<text text-anchor=\"start\" x=\"298\" y=\"-729.3\" font-family=\"Helvetica,sans-Serif\" font-size=\"14.00\">value = [0, 1]</text>\n<text text-anchor=\"start\" x=\"310\" y=\"-714.3\" font-family=\"Helvetica,sans-Serif\" font-size=\"14.00\">class = 1</text>\n</g>\n<!-- 17&#45;&gt;18 -->\n<g id=\"edge18\" class=\"edge\">\n<title>17&#45;&gt;18</title>\n<path fill=\"none\" stroke=\"black\" d=\"M413.91,-817.91C402.21,-806.21 389.46,-793.46 377.78,-781.78\"/>\n<polygon fill=\"black\" stroke=\"black\" points=\"380.21,-779.26 370.67,-774.67 375.26,-784.21 380.21,-779.26\"/>\n</g>\n<!-- 19 -->\n<g id=\"node20\" class=\"node\">\n<title>19</title>\n<path fill=\"#e6833d\" stroke=\"black\" d=\"M493.5,-782C493.5,-782 415.5,-782 415.5,-782 409.5,-782 403.5,-776 403.5,-770 403.5,-770 403.5,-711 403.5,-711 403.5,-705 409.5,-699 415.5,-699 415.5,-699 493.5,-699 493.5,-699 499.5,-699 505.5,-705 505.5,-711 505.5,-711 505.5,-770 505.5,-770 505.5,-776 499.5,-782 493.5,-782\"/>\n<text text-anchor=\"start\" x=\"421\" y=\"-766.8\" font-family=\"Helvetica,sans-Serif\" font-size=\"14.00\">BMI ≤ 31.8</text>\n<text text-anchor=\"start\" x=\"419\" y=\"-751.8\" font-family=\"Helvetica,sans-Serif\" font-size=\"14.00\">gini = 0.037</text>\n<text text-anchor=\"start\" x=\"413.5\" y=\"-736.8\" font-family=\"Helvetica,sans-Serif\" font-size=\"14.00\">samples = 53</text>\n<text text-anchor=\"start\" x=\"411.5\" y=\"-721.8\" font-family=\"Helvetica,sans-Serif\" font-size=\"14.00\">value = [52, 1]</text>\n<text text-anchor=\"start\" x=\"427\" y=\"-706.8\" font-family=\"Helvetica,sans-Serif\" font-size=\"14.00\">class = 0</text>\n</g>\n<!-- 17&#45;&gt;19 -->\n<g id=\"edge19\" class=\"edge\">\n<title>17&#45;&gt;19</title>\n<path fill=\"none\" stroke=\"black\" d=\"M454.5,-817.91C454.5,-809.65 454.5,-800.86 454.5,-792.3\"/>\n<polygon fill=\"black\" stroke=\"black\" points=\"458,-792.02 454.5,-782.02 451,-792.02 458,-792.02\"/>\n</g>\n<!-- 20 -->\n<g id=\"node21\" class=\"node\">\n<title>20</title>\n<path fill=\"#f2c09c\" stroke=\"black\" d=\"M438.5,-663C438.5,-663 238.5,-663 238.5,-663 232.5,-663 226.5,-657 226.5,-651 226.5,-651 226.5,-592 226.5,-592 226.5,-586 232.5,-580 238.5,-580 238.5,-580 438.5,-580 438.5,-580 444.5,-580 450.5,-586 450.5,-592 450.5,-592 450.5,-651 450.5,-651 450.5,-657 444.5,-663 438.5,-663\"/>\n<text text-anchor=\"start\" x=\"234.5\" y=\"-647.8\" font-family=\"Helvetica,sans-Serif\" font-size=\"14.00\">DiabetesPedigreeFunction ≤ 0.194</text>\n<text text-anchor=\"start\" x=\"303\" y=\"-632.8\" font-family=\"Helvetica,sans-Serif\" font-size=\"14.00\">gini = 0.444</text>\n<text text-anchor=\"start\" x=\"301\" y=\"-617.8\" font-family=\"Helvetica,sans-Serif\" font-size=\"14.00\">samples = 3</text>\n<text text-anchor=\"start\" x=\"299\" y=\"-602.8\" font-family=\"Helvetica,sans-Serif\" font-size=\"14.00\">value = [2, 1]</text>\n<text text-anchor=\"start\" x=\"311\" y=\"-587.8\" font-family=\"Helvetica,sans-Serif\" font-size=\"14.00\">class = 0</text>\n</g>\n<!-- 19&#45;&gt;20 -->\n<g id=\"edge20\" class=\"edge\">\n<title>19&#45;&gt;20</title>\n<path fill=\"none\" stroke=\"black\" d=\"M414.25,-698.91C405.08,-689.65 395.24,-679.73 385.8,-670.21\"/>\n<polygon fill=\"black\" stroke=\"black\" points=\"388.2,-667.66 378.67,-663.02 383.23,-672.59 388.2,-667.66\"/>\n</g>\n<!-- 23 -->\n<g id=\"node24\" class=\"node\">\n<title>23</title>\n<path fill=\"#e58139\" stroke=\"black\" d=\"M558.5,-655.5C558.5,-655.5 480.5,-655.5 480.5,-655.5 474.5,-655.5 468.5,-649.5 468.5,-643.5 468.5,-643.5 468.5,-599.5 468.5,-599.5 468.5,-593.5 474.5,-587.5 480.5,-587.5 480.5,-587.5 558.5,-587.5 558.5,-587.5 564.5,-587.5 570.5,-593.5 570.5,-599.5 570.5,-599.5 570.5,-643.5 570.5,-643.5 570.5,-649.5 564.5,-655.5 558.5,-655.5\"/>\n<text text-anchor=\"start\" x=\"491.5\" y=\"-640.3\" font-family=\"Helvetica,sans-Serif\" font-size=\"14.00\">gini = 0.0</text>\n<text text-anchor=\"start\" x=\"478.5\" y=\"-625.3\" font-family=\"Helvetica,sans-Serif\" font-size=\"14.00\">samples = 50</text>\n<text text-anchor=\"start\" x=\"476.5\" y=\"-610.3\" font-family=\"Helvetica,sans-Serif\" font-size=\"14.00\">value = [50, 0]</text>\n<text text-anchor=\"start\" x=\"492\" y=\"-595.3\" font-family=\"Helvetica,sans-Serif\" font-size=\"14.00\">class = 0</text>\n</g>\n<!-- 19&#45;&gt;23 -->\n<g id=\"edge23\" class=\"edge\">\n<title>19&#45;&gt;23</title>\n<path fill=\"none\" stroke=\"black\" d=\"M477.05,-698.91C483.24,-687.76 489.97,-675.66 496.2,-664.44\"/>\n<polygon fill=\"black\" stroke=\"black\" points=\"499.28,-666.11 501.07,-655.67 493.16,-662.71 499.28,-666.11\"/>\n</g>\n<!-- 21 -->\n<g id=\"node22\" class=\"node\">\n<title>21</title>\n<path fill=\"#e58139\" stroke=\"black\" d=\"M317,-536.5C317,-536.5 246,-536.5 246,-536.5 240,-536.5 234,-530.5 234,-524.5 234,-524.5 234,-480.5 234,-480.5 234,-474.5 240,-468.5 246,-468.5 246,-468.5 317,-468.5 317,-468.5 323,-468.5 329,-474.5 329,-480.5 329,-480.5 329,-524.5 329,-524.5 329,-530.5 323,-536.5 317,-536.5\"/>\n<text text-anchor=\"start\" x=\"253.5\" y=\"-521.3\" font-family=\"Helvetica,sans-Serif\" font-size=\"14.00\">gini = 0.0</text>\n<text text-anchor=\"start\" x=\"244\" y=\"-506.3\" font-family=\"Helvetica,sans-Serif\" font-size=\"14.00\">samples = 2</text>\n<text text-anchor=\"start\" x=\"242\" y=\"-491.3\" font-family=\"Helvetica,sans-Serif\" font-size=\"14.00\">value = [2, 0]</text>\n<text text-anchor=\"start\" x=\"254\" y=\"-476.3\" font-family=\"Helvetica,sans-Serif\" font-size=\"14.00\">class = 0</text>\n</g>\n<!-- 20&#45;&gt;21 -->\n<g id=\"edge21\" class=\"edge\">\n<title>20&#45;&gt;21</title>\n<path fill=\"none\" stroke=\"black\" d=\"M318.72,-579.91C313.35,-568.87 307.51,-556.9 302.09,-545.77\"/>\n<polygon fill=\"black\" stroke=\"black\" points=\"305.18,-544.12 297.66,-536.67 298.89,-547.19 305.18,-544.12\"/>\n</g>\n<!-- 22 -->\n<g id=\"node23\" class=\"node\">\n<title>22</title>\n<path fill=\"#399de5\" stroke=\"black\" d=\"M430,-536.5C430,-536.5 359,-536.5 359,-536.5 353,-536.5 347,-530.5 347,-524.5 347,-524.5 347,-480.5 347,-480.5 347,-474.5 353,-468.5 359,-468.5 359,-468.5 430,-468.5 430,-468.5 436,-468.5 442,-474.5 442,-480.5 442,-480.5 442,-524.5 442,-524.5 442,-530.5 436,-536.5 430,-536.5\"/>\n<text text-anchor=\"start\" x=\"366.5\" y=\"-521.3\" font-family=\"Helvetica,sans-Serif\" font-size=\"14.00\">gini = 0.0</text>\n<text text-anchor=\"start\" x=\"357\" y=\"-506.3\" font-family=\"Helvetica,sans-Serif\" font-size=\"14.00\">samples = 1</text>\n<text text-anchor=\"start\" x=\"355\" y=\"-491.3\" font-family=\"Helvetica,sans-Serif\" font-size=\"14.00\">value = [0, 1]</text>\n<text text-anchor=\"start\" x=\"367\" y=\"-476.3\" font-family=\"Helvetica,sans-Serif\" font-size=\"14.00\">class = 1</text>\n</g>\n<!-- 20&#45;&gt;22 -->\n<g id=\"edge22\" class=\"edge\">\n<title>20&#45;&gt;22</title>\n<path fill=\"none\" stroke=\"black\" d=\"M357.93,-579.91C363.21,-568.87 368.94,-556.9 374.27,-545.77\"/>\n<polygon fill=\"black\" stroke=\"black\" points=\"377.46,-547.2 378.63,-536.67 371.15,-544.18 377.46,-547.2\"/>\n</g>\n<!-- 25 -->\n<g id=\"node26\" class=\"node\">\n<title>25</title>\n<path fill=\"#9ccef2\" stroke=\"black\" d=\"M775,-901C775,-901 704,-901 704,-901 698,-901 692,-895 692,-889 692,-889 692,-830 692,-830 692,-824 698,-818 704,-818 704,-818 775,-818 775,-818 781,-818 787,-824 787,-830 787,-830 787,-889 787,-889 787,-895 781,-901 775,-901\"/>\n<text text-anchor=\"start\" x=\"706\" y=\"-885.8\" font-family=\"Helvetica,sans-Serif\" font-size=\"14.00\">BMI ≤ 36.5</text>\n<text text-anchor=\"start\" x=\"704\" y=\"-870.8\" font-family=\"Helvetica,sans-Serif\" font-size=\"14.00\">gini = 0.444</text>\n<text text-anchor=\"start\" x=\"702\" y=\"-855.8\" font-family=\"Helvetica,sans-Serif\" font-size=\"14.00\">samples = 6</text>\n<text text-anchor=\"start\" x=\"700\" y=\"-840.8\" font-family=\"Helvetica,sans-Serif\" font-size=\"14.00\">value = [2, 4]</text>\n<text text-anchor=\"start\" x=\"712\" y=\"-825.8\" font-family=\"Helvetica,sans-Serif\" font-size=\"14.00\">class = 1</text>\n</g>\n<!-- 24&#45;&gt;25 -->\n<g id=\"edge25\" class=\"edge\">\n<title>24&#45;&gt;25</title>\n<path fill=\"none\" stroke=\"black\" d=\"M739.5,-936.91C739.5,-928.65 739.5,-919.86 739.5,-911.3\"/>\n<polygon fill=\"black\" stroke=\"black\" points=\"743,-911.02 739.5,-901.02 736,-911.02 743,-911.02\"/>\n</g>\n<!-- 30 -->\n<g id=\"node31\" class=\"node\">\n<title>30</title>\n<path fill=\"#eb9c64\" stroke=\"black\" d=\"M1028.5,-901C1028.5,-901 906.5,-901 906.5,-901 900.5,-901 894.5,-895 894.5,-889 894.5,-889 894.5,-830 894.5,-830 894.5,-824 900.5,-818 906.5,-818 906.5,-818 1028.5,-818 1028.5,-818 1034.5,-818 1040.5,-824 1040.5,-830 1040.5,-830 1040.5,-889 1040.5,-889 1040.5,-895 1034.5,-901 1028.5,-901\"/>\n<text text-anchor=\"start\" x=\"902.5\" y=\"-885.8\" font-family=\"Helvetica,sans-Serif\" font-size=\"14.00\">BloodPressure ≤ 67.0</text>\n<text text-anchor=\"start\" x=\"932\" y=\"-870.8\" font-family=\"Helvetica,sans-Serif\" font-size=\"14.00\">gini = 0.293</text>\n<text text-anchor=\"start\" x=\"926.5\" y=\"-855.8\" font-family=\"Helvetica,sans-Serif\" font-size=\"14.00\">samples = 28</text>\n<text text-anchor=\"start\" x=\"924.5\" y=\"-840.8\" font-family=\"Helvetica,sans-Serif\" font-size=\"14.00\">value = [23, 5]</text>\n<text text-anchor=\"start\" x=\"940\" y=\"-825.8\" font-family=\"Helvetica,sans-Serif\" font-size=\"14.00\">class = 0</text>\n</g>\n<!-- 24&#45;&gt;30 -->\n<g id=\"edge30\" class=\"edge\">\n<title>24&#45;&gt;30</title>\n<path fill=\"none\" stroke=\"black\" d=\"M818.6,-936.91C840.1,-925.88 863.43,-913.91 885.1,-902.79\"/>\n<polygon fill=\"black\" stroke=\"black\" points=\"886.98,-905.76 894.28,-898.08 883.78,-899.53 886.98,-905.76\"/>\n</g>\n<!-- 26 -->\n<g id=\"node27\" class=\"node\">\n<title>26</title>\n<path fill=\"#399de5\" stroke=\"black\" d=\"M607,-774.5C607,-774.5 536,-774.5 536,-774.5 530,-774.5 524,-768.5 524,-762.5 524,-762.5 524,-718.5 524,-718.5 524,-712.5 530,-706.5 536,-706.5 536,-706.5 607,-706.5 607,-706.5 613,-706.5 619,-712.5 619,-718.5 619,-718.5 619,-762.5 619,-762.5 619,-768.5 613,-774.5 607,-774.5\"/>\n<text text-anchor=\"start\" x=\"543.5\" y=\"-759.3\" font-family=\"Helvetica,sans-Serif\" font-size=\"14.00\">gini = 0.0</text>\n<text text-anchor=\"start\" x=\"534\" y=\"-744.3\" font-family=\"Helvetica,sans-Serif\" font-size=\"14.00\">samples = 3</text>\n<text text-anchor=\"start\" x=\"532\" y=\"-729.3\" font-family=\"Helvetica,sans-Serif\" font-size=\"14.00\">value = [0, 3]</text>\n<text text-anchor=\"start\" x=\"544\" y=\"-714.3\" font-family=\"Helvetica,sans-Serif\" font-size=\"14.00\">class = 1</text>\n</g>\n<!-- 25&#45;&gt;26 -->\n<g id=\"edge26\" class=\"edge\">\n<title>25&#45;&gt;26</title>\n<path fill=\"none\" stroke=\"black\" d=\"M691.86,-825.89C672.2,-812.37 649.21,-796.49 628.5,-782 627.87,-781.56 627.23,-781.11 626.59,-780.66\"/>\n<polygon fill=\"black\" stroke=\"black\" points=\"628.32,-777.6 618.12,-774.71 624.29,-783.32 628.32,-777.6\"/>\n</g>\n<!-- 27 -->\n<g id=\"node28\" class=\"node\">\n<title>27</title>\n<path fill=\"#f2c09c\" stroke=\"black\" d=\"M849.5,-782C849.5,-782 649.5,-782 649.5,-782 643.5,-782 637.5,-776 637.5,-770 637.5,-770 637.5,-711 637.5,-711 637.5,-705 643.5,-699 649.5,-699 649.5,-699 849.5,-699 849.5,-699 855.5,-699 861.5,-705 861.5,-711 861.5,-711 861.5,-770 861.5,-770 861.5,-776 855.5,-782 849.5,-782\"/>\n<text text-anchor=\"start\" x=\"645.5\" y=\"-766.8\" font-family=\"Helvetica,sans-Serif\" font-size=\"14.00\">DiabetesPedigreeFunction ≤ 0.505</text>\n<text text-anchor=\"start\" x=\"714\" y=\"-751.8\" font-family=\"Helvetica,sans-Serif\" font-size=\"14.00\">gini = 0.444</text>\n<text text-anchor=\"start\" x=\"712\" y=\"-736.8\" font-family=\"Helvetica,sans-Serif\" font-size=\"14.00\">samples = 3</text>\n<text text-anchor=\"start\" x=\"710\" y=\"-721.8\" font-family=\"Helvetica,sans-Serif\" font-size=\"14.00\">value = [2, 1]</text>\n<text text-anchor=\"start\" x=\"722\" y=\"-706.8\" font-family=\"Helvetica,sans-Serif\" font-size=\"14.00\">class = 0</text>\n</g>\n<!-- 25&#45;&gt;27 -->\n<g id=\"edge27\" class=\"edge\">\n<title>25&#45;&gt;27</title>\n<path fill=\"none\" stroke=\"black\" d=\"M742.97,-817.91C743.68,-809.56 744.44,-800.67 745.18,-792.02\"/>\n<polygon fill=\"black\" stroke=\"black\" points=\"748.67,-792.28 746.04,-782.02 741.7,-791.69 748.67,-792.28\"/>\n</g>\n<!-- 28 -->\n<g id=\"node29\" class=\"node\">\n<title>28</title>\n<path fill=\"#399de5\" stroke=\"black\" d=\"M672,-655.5C672,-655.5 601,-655.5 601,-655.5 595,-655.5 589,-649.5 589,-643.5 589,-643.5 589,-599.5 589,-599.5 589,-593.5 595,-587.5 601,-587.5 601,-587.5 672,-587.5 672,-587.5 678,-587.5 684,-593.5 684,-599.5 684,-599.5 684,-643.5 684,-643.5 684,-649.5 678,-655.5 672,-655.5\"/>\n<text text-anchor=\"start\" x=\"608.5\" y=\"-640.3\" font-family=\"Helvetica,sans-Serif\" font-size=\"14.00\">gini = 0.0</text>\n<text text-anchor=\"start\" x=\"599\" y=\"-625.3\" font-family=\"Helvetica,sans-Serif\" font-size=\"14.00\">samples = 1</text>\n<text text-anchor=\"start\" x=\"597\" y=\"-610.3\" font-family=\"Helvetica,sans-Serif\" font-size=\"14.00\">value = [0, 1]</text>\n<text text-anchor=\"start\" x=\"609\" y=\"-595.3\" font-family=\"Helvetica,sans-Serif\" font-size=\"14.00\">class = 1</text>\n</g>\n<!-- 27&#45;&gt;28 -->\n<g id=\"edge28\" class=\"edge\">\n<title>27&#45;&gt;28</title>\n<path fill=\"none\" stroke=\"black\" d=\"M710.3,-698.91C699.11,-687.32 686.91,-674.7 675.72,-663.11\"/>\n<polygon fill=\"black\" stroke=\"black\" points=\"678,-660.43 668.53,-655.67 672.96,-665.29 678,-660.43\"/>\n</g>\n<!-- 29 -->\n<g id=\"node30\" class=\"node\">\n<title>29</title>\n<path fill=\"#e58139\" stroke=\"black\" d=\"M785,-655.5C785,-655.5 714,-655.5 714,-655.5 708,-655.5 702,-649.5 702,-643.5 702,-643.5 702,-599.5 702,-599.5 702,-593.5 708,-587.5 714,-587.5 714,-587.5 785,-587.5 785,-587.5 791,-587.5 797,-593.5 797,-599.5 797,-599.5 797,-643.5 797,-643.5 797,-649.5 791,-655.5 785,-655.5\"/>\n<text text-anchor=\"start\" x=\"721.5\" y=\"-640.3\" font-family=\"Helvetica,sans-Serif\" font-size=\"14.00\">gini = 0.0</text>\n<text text-anchor=\"start\" x=\"712\" y=\"-625.3\" font-family=\"Helvetica,sans-Serif\" font-size=\"14.00\">samples = 2</text>\n<text text-anchor=\"start\" x=\"710\" y=\"-610.3\" font-family=\"Helvetica,sans-Serif\" font-size=\"14.00\">value = [2, 0]</text>\n<text text-anchor=\"start\" x=\"722\" y=\"-595.3\" font-family=\"Helvetica,sans-Serif\" font-size=\"14.00\">class = 0</text>\n</g>\n<!-- 27&#45;&gt;29 -->\n<g id=\"edge29\" class=\"edge\">\n<title>27&#45;&gt;29</title>\n<path fill=\"none\" stroke=\"black\" d=\"M749.5,-698.91C749.5,-688.2 749.5,-676.62 749.5,-665.78\"/>\n<polygon fill=\"black\" stroke=\"black\" points=\"753,-665.67 749.5,-655.67 746,-665.67 753,-665.67\"/>\n</g>\n<!-- 31 -->\n<g id=\"node32\" class=\"node\">\n<title>31</title>\n<path fill=\"#f6d5bd\" stroke=\"black\" d=\"M1009.5,-782C1009.5,-782 925.5,-782 925.5,-782 919.5,-782 913.5,-776 913.5,-770 913.5,-770 913.5,-711 913.5,-711 913.5,-705 919.5,-699 925.5,-699 925.5,-699 1009.5,-699 1009.5,-699 1015.5,-699 1021.5,-705 1021.5,-711 1021.5,-711 1021.5,-770 1021.5,-770 1021.5,-776 1015.5,-782 1009.5,-782\"/>\n<text text-anchor=\"start\" x=\"921.5\" y=\"-766.8\" font-family=\"Helvetica,sans-Serif\" font-size=\"14.00\">Glucose ≤ 89.0</text>\n<text text-anchor=\"start\" x=\"935.5\" y=\"-751.8\" font-family=\"Helvetica,sans-Serif\" font-size=\"14.00\">gini = 0.48</text>\n<text text-anchor=\"start\" x=\"926.5\" y=\"-736.8\" font-family=\"Helvetica,sans-Serif\" font-size=\"14.00\">samples = 10</text>\n<text text-anchor=\"start\" x=\"928\" y=\"-721.8\" font-family=\"Helvetica,sans-Serif\" font-size=\"14.00\">value = [6, 4]</text>\n<text text-anchor=\"start\" x=\"940\" y=\"-706.8\" font-family=\"Helvetica,sans-Serif\" font-size=\"14.00\">class = 0</text>\n</g>\n<!-- 30&#45;&gt;31 -->\n<g id=\"edge31\" class=\"edge\">\n<title>30&#45;&gt;31</title>\n<path fill=\"none\" stroke=\"black\" d=\"M967.5,-817.91C967.5,-809.65 967.5,-800.86 967.5,-792.3\"/>\n<polygon fill=\"black\" stroke=\"black\" points=\"971,-792.02 967.5,-782.02 964,-792.02 971,-792.02\"/>\n</g>\n<!-- 38 -->\n<g id=\"node39\" class=\"node\">\n<title>38</title>\n<path fill=\"#e78845\" stroke=\"black\" d=\"M1195.5,-782C1195.5,-782 1117.5,-782 1117.5,-782 1111.5,-782 1105.5,-776 1105.5,-770 1105.5,-770 1105.5,-711 1105.5,-711 1105.5,-705 1111.5,-699 1117.5,-699 1117.5,-699 1195.5,-699 1195.5,-699 1201.5,-699 1207.5,-705 1207.5,-711 1207.5,-711 1207.5,-770 1207.5,-770 1207.5,-776 1201.5,-782 1195.5,-782\"/>\n<text text-anchor=\"start\" x=\"1123.5\" y=\"-766.8\" font-family=\"Helvetica,sans-Serif\" font-size=\"14.00\">Age ≤ 21.5</text>\n<text text-anchor=\"start\" x=\"1121\" y=\"-751.8\" font-family=\"Helvetica,sans-Serif\" font-size=\"14.00\">gini = 0.105</text>\n<text text-anchor=\"start\" x=\"1115.5\" y=\"-736.8\" font-family=\"Helvetica,sans-Serif\" font-size=\"14.00\">samples = 18</text>\n<text text-anchor=\"start\" x=\"1113.5\" y=\"-721.8\" font-family=\"Helvetica,sans-Serif\" font-size=\"14.00\">value = [17, 1]</text>\n<text text-anchor=\"start\" x=\"1129\" y=\"-706.8\" font-family=\"Helvetica,sans-Serif\" font-size=\"14.00\">class = 0</text>\n</g>\n<!-- 30&#45;&gt;38 -->\n<g id=\"edge38\" class=\"edge\">\n<title>30&#45;&gt;38</title>\n<path fill=\"none\" stroke=\"black\" d=\"M1033.07,-817.91C1053.78,-805.09 1076.54,-791 1096.82,-778.44\"/>\n<polygon fill=\"black\" stroke=\"black\" points=\"1098.68,-781.41 1105.34,-773.17 1095,-775.46 1098.68,-781.41\"/>\n</g>\n<!-- 32 -->\n<g id=\"node33\" class=\"node\">\n<title>32</title>\n<path fill=\"#e58139\" stroke=\"black\" d=\"M898,-655.5C898,-655.5 827,-655.5 827,-655.5 821,-655.5 815,-649.5 815,-643.5 815,-643.5 815,-599.5 815,-599.5 815,-593.5 821,-587.5 827,-587.5 827,-587.5 898,-587.5 898,-587.5 904,-587.5 910,-593.5 910,-599.5 910,-599.5 910,-643.5 910,-643.5 910,-649.5 904,-655.5 898,-655.5\"/>\n<text text-anchor=\"start\" x=\"834.5\" y=\"-640.3\" font-family=\"Helvetica,sans-Serif\" font-size=\"14.00\">gini = 0.0</text>\n<text text-anchor=\"start\" x=\"825\" y=\"-625.3\" font-family=\"Helvetica,sans-Serif\" font-size=\"14.00\">samples = 4</text>\n<text text-anchor=\"start\" x=\"823\" y=\"-610.3\" font-family=\"Helvetica,sans-Serif\" font-size=\"14.00\">value = [4, 0]</text>\n<text text-anchor=\"start\" x=\"835\" y=\"-595.3\" font-family=\"Helvetica,sans-Serif\" font-size=\"14.00\">class = 0</text>\n</g>\n<!-- 31&#45;&gt;32 -->\n<g id=\"edge32\" class=\"edge\">\n<title>31&#45;&gt;32</title>\n<path fill=\"none\" stroke=\"black\" d=\"M931.07,-698.91C920.67,-687.32 909.34,-674.7 898.95,-663.11\"/>\n<polygon fill=\"black\" stroke=\"black\" points=\"901.55,-660.77 892.27,-655.67 896.34,-665.45 901.55,-660.77\"/>\n</g>\n<!-- 33 -->\n<g id=\"node34\" class=\"node\">\n<title>33</title>\n<path fill=\"#9ccef2\" stroke=\"black\" d=\"M1061,-663C1061,-663 940,-663 940,-663 934,-663 928,-657 928,-651 928,-651 928,-592 928,-592 928,-586 934,-580 940,-580 940,-580 1061,-580 1061,-580 1067,-580 1073,-586 1073,-592 1073,-592 1073,-651 1073,-651 1073,-657 1067,-663 1061,-663\"/>\n<text text-anchor=\"start\" x=\"936\" y=\"-647.8\" font-family=\"Helvetica,sans-Serif\" font-size=\"14.00\">SkinThickness ≤ 34.0</text>\n<text text-anchor=\"start\" x=\"965\" y=\"-632.8\" font-family=\"Helvetica,sans-Serif\" font-size=\"14.00\">gini = 0.444</text>\n<text text-anchor=\"start\" x=\"963\" y=\"-617.8\" font-family=\"Helvetica,sans-Serif\" font-size=\"14.00\">samples = 6</text>\n<text text-anchor=\"start\" x=\"961\" y=\"-602.8\" font-family=\"Helvetica,sans-Serif\" font-size=\"14.00\">value = [2, 4]</text>\n<text text-anchor=\"start\" x=\"973\" y=\"-587.8\" font-family=\"Helvetica,sans-Serif\" font-size=\"14.00\">class = 1</text>\n</g>\n<!-- 31&#45;&gt;33 -->\n<g id=\"edge33\" class=\"edge\">\n<title>31&#45;&gt;33</title>\n<path fill=\"none\" stroke=\"black\" d=\"M978.95,-698.91C981.33,-690.47 983.87,-681.48 986.33,-672.74\"/>\n<polygon fill=\"black\" stroke=\"black\" points=\"989.72,-673.6 989.07,-663.02 982.99,-671.7 989.72,-673.6\"/>\n</g>\n<!-- 34 -->\n<g id=\"node35\" class=\"node\">\n<title>34</title>\n<path fill=\"#399de5\" stroke=\"black\" d=\"M844,-536.5C844,-536.5 773,-536.5 773,-536.5 767,-536.5 761,-530.5 761,-524.5 761,-524.5 761,-480.5 761,-480.5 761,-474.5 767,-468.5 773,-468.5 773,-468.5 844,-468.5 844,-468.5 850,-468.5 856,-474.5 856,-480.5 856,-480.5 856,-524.5 856,-524.5 856,-530.5 850,-536.5 844,-536.5\"/>\n<text text-anchor=\"start\" x=\"780.5\" y=\"-521.3\" font-family=\"Helvetica,sans-Serif\" font-size=\"14.00\">gini = 0.0</text>\n<text text-anchor=\"start\" x=\"771\" y=\"-506.3\" font-family=\"Helvetica,sans-Serif\" font-size=\"14.00\">samples = 3</text>\n<text text-anchor=\"start\" x=\"769\" y=\"-491.3\" font-family=\"Helvetica,sans-Serif\" font-size=\"14.00\">value = [0, 3]</text>\n<text text-anchor=\"start\" x=\"781\" y=\"-476.3\" font-family=\"Helvetica,sans-Serif\" font-size=\"14.00\">class = 1</text>\n</g>\n<!-- 33&#45;&gt;34 -->\n<g id=\"edge34\" class=\"edge\">\n<title>33&#45;&gt;34</title>\n<path fill=\"none\" stroke=\"black\" d=\"M927.96,-581.7C907.18,-570.05 884.69,-556.92 864.5,-544 863.59,-543.42 862.68,-542.83 861.76,-542.23\"/>\n<polygon fill=\"black\" stroke=\"black\" points=\"863.69,-539.31 853.43,-536.66 859.8,-545.13 863.69,-539.31\"/>\n</g>\n<!-- 35 -->\n<g id=\"node36\" class=\"node\">\n<title>35</title>\n<path fill=\"#f2c09c\" stroke=\"black\" d=\"M1079,-544C1079,-544 886,-544 886,-544 880,-544 874,-538 874,-532 874,-532 874,-473 874,-473 874,-467 880,-461 886,-461 886,-461 1079,-461 1079,-461 1085,-461 1091,-467 1091,-473 1091,-473 1091,-532 1091,-532 1091,-538 1085,-544 1079,-544\"/>\n<text text-anchor=\"start\" x=\"882\" y=\"-528.8\" font-family=\"Helvetica,sans-Serif\" font-size=\"14.00\">DiabetesPedigreeFunction ≤ 0.86</text>\n<text text-anchor=\"start\" x=\"947\" y=\"-513.8\" font-family=\"Helvetica,sans-Serif\" font-size=\"14.00\">gini = 0.444</text>\n<text text-anchor=\"start\" x=\"945\" y=\"-498.8\" font-family=\"Helvetica,sans-Serif\" font-size=\"14.00\">samples = 3</text>\n<text text-anchor=\"start\" x=\"943\" y=\"-483.8\" font-family=\"Helvetica,sans-Serif\" font-size=\"14.00\">value = [2, 1]</text>\n<text text-anchor=\"start\" x=\"955\" y=\"-468.8\" font-family=\"Helvetica,sans-Serif\" font-size=\"14.00\">class = 0</text>\n</g>\n<!-- 33&#45;&gt;35 -->\n<g id=\"edge35\" class=\"edge\">\n<title>33&#45;&gt;35</title>\n<path fill=\"none\" stroke=\"black\" d=\"M994.25,-579.91C992.97,-571.56 991.6,-562.67 990.27,-554.02\"/>\n<polygon fill=\"black\" stroke=\"black\" points=\"993.71,-553.37 988.73,-544.02 986.8,-554.44 993.71,-553.37\"/>\n</g>\n<!-- 36 -->\n<g id=\"node37\" class=\"node\">\n<title>36</title>\n<path fill=\"#e58139\" stroke=\"black\" d=\"M961,-417.5C961,-417.5 890,-417.5 890,-417.5 884,-417.5 878,-411.5 878,-405.5 878,-405.5 878,-361.5 878,-361.5 878,-355.5 884,-349.5 890,-349.5 890,-349.5 961,-349.5 961,-349.5 967,-349.5 973,-355.5 973,-361.5 973,-361.5 973,-405.5 973,-405.5 973,-411.5 967,-417.5 961,-417.5\"/>\n<text text-anchor=\"start\" x=\"897.5\" y=\"-402.3\" font-family=\"Helvetica,sans-Serif\" font-size=\"14.00\">gini = 0.0</text>\n<text text-anchor=\"start\" x=\"888\" y=\"-387.3\" font-family=\"Helvetica,sans-Serif\" font-size=\"14.00\">samples = 2</text>\n<text text-anchor=\"start\" x=\"886\" y=\"-372.3\" font-family=\"Helvetica,sans-Serif\" font-size=\"14.00\">value = [2, 0]</text>\n<text text-anchor=\"start\" x=\"898\" y=\"-357.3\" font-family=\"Helvetica,sans-Serif\" font-size=\"14.00\">class = 0</text>\n</g>\n<!-- 35&#45;&gt;36 -->\n<g id=\"edge36\" class=\"edge\">\n<title>35&#45;&gt;36</title>\n<path fill=\"none\" stroke=\"black\" d=\"M962.72,-460.91C957.35,-449.87 951.51,-437.9 946.09,-426.77\"/>\n<polygon fill=\"black\" stroke=\"black\" points=\"949.18,-425.12 941.66,-417.67 942.89,-428.19 949.18,-425.12\"/>\n</g>\n<!-- 37 -->\n<g id=\"node38\" class=\"node\">\n<title>37</title>\n<path fill=\"#399de5\" stroke=\"black\" d=\"M1074,-417.5C1074,-417.5 1003,-417.5 1003,-417.5 997,-417.5 991,-411.5 991,-405.5 991,-405.5 991,-361.5 991,-361.5 991,-355.5 997,-349.5 1003,-349.5 1003,-349.5 1074,-349.5 1074,-349.5 1080,-349.5 1086,-355.5 1086,-361.5 1086,-361.5 1086,-405.5 1086,-405.5 1086,-411.5 1080,-417.5 1074,-417.5\"/>\n<text text-anchor=\"start\" x=\"1010.5\" y=\"-402.3\" font-family=\"Helvetica,sans-Serif\" font-size=\"14.00\">gini = 0.0</text>\n<text text-anchor=\"start\" x=\"1001\" y=\"-387.3\" font-family=\"Helvetica,sans-Serif\" font-size=\"14.00\">samples = 1</text>\n<text text-anchor=\"start\" x=\"999\" y=\"-372.3\" font-family=\"Helvetica,sans-Serif\" font-size=\"14.00\">value = [0, 1]</text>\n<text text-anchor=\"start\" x=\"1011\" y=\"-357.3\" font-family=\"Helvetica,sans-Serif\" font-size=\"14.00\">class = 1</text>\n</g>\n<!-- 35&#45;&gt;37 -->\n<g id=\"edge37\" class=\"edge\">\n<title>35&#45;&gt;37</title>\n<path fill=\"none\" stroke=\"black\" d=\"M1001.93,-460.91C1007.21,-449.87 1012.94,-437.9 1018.27,-426.77\"/>\n<polygon fill=\"black\" stroke=\"black\" points=\"1021.46,-428.2 1022.63,-417.67 1015.15,-425.18 1021.46,-428.2\"/>\n</g>\n<!-- 39 -->\n<g id=\"node40\" class=\"node\">\n<title>39</title>\n<path fill=\"#f2c09c\" stroke=\"black\" d=\"M1192,-663C1192,-663 1121,-663 1121,-663 1115,-663 1109,-657 1109,-651 1109,-651 1109,-592 1109,-592 1109,-586 1115,-580 1121,-580 1121,-580 1192,-580 1192,-580 1198,-580 1204,-586 1204,-592 1204,-592 1204,-651 1204,-651 1204,-657 1198,-663 1192,-663\"/>\n<text text-anchor=\"start\" x=\"1123\" y=\"-647.8\" font-family=\"Helvetica,sans-Serif\" font-size=\"14.00\">BMI ≤ 42.8</text>\n<text text-anchor=\"start\" x=\"1121\" y=\"-632.8\" font-family=\"Helvetica,sans-Serif\" font-size=\"14.00\">gini = 0.444</text>\n<text text-anchor=\"start\" x=\"1119\" y=\"-617.8\" font-family=\"Helvetica,sans-Serif\" font-size=\"14.00\">samples = 3</text>\n<text text-anchor=\"start\" x=\"1117\" y=\"-602.8\" font-family=\"Helvetica,sans-Serif\" font-size=\"14.00\">value = [2, 1]</text>\n<text text-anchor=\"start\" x=\"1129\" y=\"-587.8\" font-family=\"Helvetica,sans-Serif\" font-size=\"14.00\">class = 0</text>\n</g>\n<!-- 38&#45;&gt;39 -->\n<g id=\"edge39\" class=\"edge\">\n<title>38&#45;&gt;39</title>\n<path fill=\"none\" stroke=\"black\" d=\"M1156.5,-698.91C1156.5,-690.65 1156.5,-681.86 1156.5,-673.3\"/>\n<polygon fill=\"black\" stroke=\"black\" points=\"1160,-673.02 1156.5,-663.02 1153,-673.02 1160,-673.02\"/>\n</g>\n<!-- 42 -->\n<g id=\"node43\" class=\"node\">\n<title>42</title>\n<path fill=\"#e58139\" stroke=\"black\" d=\"M1312.5,-655.5C1312.5,-655.5 1234.5,-655.5 1234.5,-655.5 1228.5,-655.5 1222.5,-649.5 1222.5,-643.5 1222.5,-643.5 1222.5,-599.5 1222.5,-599.5 1222.5,-593.5 1228.5,-587.5 1234.5,-587.5 1234.5,-587.5 1312.5,-587.5 1312.5,-587.5 1318.5,-587.5 1324.5,-593.5 1324.5,-599.5 1324.5,-599.5 1324.5,-643.5 1324.5,-643.5 1324.5,-649.5 1318.5,-655.5 1312.5,-655.5\"/>\n<text text-anchor=\"start\" x=\"1245.5\" y=\"-640.3\" font-family=\"Helvetica,sans-Serif\" font-size=\"14.00\">gini = 0.0</text>\n<text text-anchor=\"start\" x=\"1232.5\" y=\"-625.3\" font-family=\"Helvetica,sans-Serif\" font-size=\"14.00\">samples = 15</text>\n<text text-anchor=\"start\" x=\"1230.5\" y=\"-610.3\" font-family=\"Helvetica,sans-Serif\" font-size=\"14.00\">value = [15, 0]</text>\n<text text-anchor=\"start\" x=\"1246\" y=\"-595.3\" font-family=\"Helvetica,sans-Serif\" font-size=\"14.00\">class = 0</text>\n</g>\n<!-- 38&#45;&gt;42 -->\n<g id=\"edge42\" class=\"edge\">\n<title>38&#45;&gt;42</title>\n<path fill=\"none\" stroke=\"black\" d=\"M1197.09,-698.91C1208.79,-687.21 1221.54,-674.46 1233.22,-662.78\"/>\n<polygon fill=\"black\" stroke=\"black\" points=\"1235.74,-665.21 1240.33,-655.67 1230.79,-660.26 1235.74,-665.21\"/>\n</g>\n<!-- 40 -->\n<g id=\"node41\" class=\"node\">\n<title>40</title>\n<path fill=\"#e58139\" stroke=\"black\" d=\"M1192,-536.5C1192,-536.5 1121,-536.5 1121,-536.5 1115,-536.5 1109,-530.5 1109,-524.5 1109,-524.5 1109,-480.5 1109,-480.5 1109,-474.5 1115,-468.5 1121,-468.5 1121,-468.5 1192,-468.5 1192,-468.5 1198,-468.5 1204,-474.5 1204,-480.5 1204,-480.5 1204,-524.5 1204,-524.5 1204,-530.5 1198,-536.5 1192,-536.5\"/>\n<text text-anchor=\"start\" x=\"1128.5\" y=\"-521.3\" font-family=\"Helvetica,sans-Serif\" font-size=\"14.00\">gini = 0.0</text>\n<text text-anchor=\"start\" x=\"1119\" y=\"-506.3\" font-family=\"Helvetica,sans-Serif\" font-size=\"14.00\">samples = 2</text>\n<text text-anchor=\"start\" x=\"1117\" y=\"-491.3\" font-family=\"Helvetica,sans-Serif\" font-size=\"14.00\">value = [2, 0]</text>\n<text text-anchor=\"start\" x=\"1129\" y=\"-476.3\" font-family=\"Helvetica,sans-Serif\" font-size=\"14.00\">class = 0</text>\n</g>\n<!-- 39&#45;&gt;40 -->\n<g id=\"edge40\" class=\"edge\">\n<title>39&#45;&gt;40</title>\n<path fill=\"none\" stroke=\"black\" d=\"M1156.5,-579.91C1156.5,-569.2 1156.5,-557.62 1156.5,-546.78\"/>\n<polygon fill=\"black\" stroke=\"black\" points=\"1160,-546.67 1156.5,-536.67 1153,-546.67 1160,-546.67\"/>\n</g>\n<!-- 41 -->\n<g id=\"node42\" class=\"node\">\n<title>41</title>\n<path fill=\"#399de5\" stroke=\"black\" d=\"M1305,-536.5C1305,-536.5 1234,-536.5 1234,-536.5 1228,-536.5 1222,-530.5 1222,-524.5 1222,-524.5 1222,-480.5 1222,-480.5 1222,-474.5 1228,-468.5 1234,-468.5 1234,-468.5 1305,-468.5 1305,-468.5 1311,-468.5 1317,-474.5 1317,-480.5 1317,-480.5 1317,-524.5 1317,-524.5 1317,-530.5 1311,-536.5 1305,-536.5\"/>\n<text text-anchor=\"start\" x=\"1241.5\" y=\"-521.3\" font-family=\"Helvetica,sans-Serif\" font-size=\"14.00\">gini = 0.0</text>\n<text text-anchor=\"start\" x=\"1232\" y=\"-506.3\" font-family=\"Helvetica,sans-Serif\" font-size=\"14.00\">samples = 1</text>\n<text text-anchor=\"start\" x=\"1230\" y=\"-491.3\" font-family=\"Helvetica,sans-Serif\" font-size=\"14.00\">value = [0, 1]</text>\n<text text-anchor=\"start\" x=\"1242\" y=\"-476.3\" font-family=\"Helvetica,sans-Serif\" font-size=\"14.00\">class = 1</text>\n</g>\n<!-- 39&#45;&gt;41 -->\n<g id=\"edge41\" class=\"edge\">\n<title>39&#45;&gt;41</title>\n<path fill=\"none\" stroke=\"black\" d=\"M1195.7,-579.91C1206.89,-568.32 1219.09,-555.7 1230.28,-544.11\"/>\n<polygon fill=\"black\" stroke=\"black\" points=\"1233.04,-546.29 1237.47,-536.67 1228,-541.43 1233.04,-546.29\"/>\n</g>\n<!-- 44 -->\n<g id=\"node45\" class=\"node\">\n<title>44</title>\n<path fill=\"#e6853f\" stroke=\"black\" d=\"M1432.5,-1258C1432.5,-1258 1354.5,-1258 1354.5,-1258 1348.5,-1258 1342.5,-1252 1342.5,-1246 1342.5,-1246 1342.5,-1187 1342.5,-1187 1342.5,-1181 1348.5,-1175 1354.5,-1175 1354.5,-1175 1432.5,-1175 1432.5,-1175 1438.5,-1175 1444.5,-1181 1444.5,-1187 1444.5,-1187 1444.5,-1246 1444.5,-1246 1444.5,-1252 1438.5,-1258 1432.5,-1258\"/>\n<text text-anchor=\"start\" x=\"1360\" y=\"-1242.8\" font-family=\"Helvetica,sans-Serif\" font-size=\"14.00\">BMI ≤ 9.65</text>\n<text text-anchor=\"start\" x=\"1358\" y=\"-1227.8\" font-family=\"Helvetica,sans-Serif\" font-size=\"14.00\">gini = 0.057</text>\n<text text-anchor=\"start\" x=\"1352.5\" y=\"-1212.8\" font-family=\"Helvetica,sans-Serif\" font-size=\"14.00\">samples = 34</text>\n<text text-anchor=\"start\" x=\"1350.5\" y=\"-1197.8\" font-family=\"Helvetica,sans-Serif\" font-size=\"14.00\">value = [33, 1]</text>\n<text text-anchor=\"start\" x=\"1366\" y=\"-1182.8\" font-family=\"Helvetica,sans-Serif\" font-size=\"14.00\">class = 0</text>\n</g>\n<!-- 43&#45;&gt;44 -->\n<g id=\"edge44\" class=\"edge\">\n<title>43&#45;&gt;44</title>\n<path fill=\"none\" stroke=\"black\" d=\"M1433.99,-1293.91C1429.37,-1285.2 1424.45,-1275.9 1419.67,-1266.89\"/>\n<polygon fill=\"black\" stroke=\"black\" points=\"1422.75,-1265.22 1414.97,-1258.02 1416.56,-1268.5 1422.75,-1265.22\"/>\n</g>\n<!-- 47 -->\n<g id=\"node48\" class=\"node\">\n<title>47</title>\n<path fill=\"#f9e0ce\" stroke=\"black\" d=\"M1560.5,-1258C1560.5,-1258 1474.5,-1258 1474.5,-1258 1468.5,-1258 1462.5,-1252 1462.5,-1246 1462.5,-1246 1462.5,-1187 1462.5,-1187 1462.5,-1181 1468.5,-1175 1474.5,-1175 1474.5,-1175 1560.5,-1175 1560.5,-1175 1566.5,-1175 1572.5,-1181 1572.5,-1187 1572.5,-1187 1572.5,-1246 1572.5,-1246 1572.5,-1252 1566.5,-1258 1560.5,-1258\"/>\n<text text-anchor=\"start\" x=\"1471.5\" y=\"-1242.8\" font-family=\"Helvetica,sans-Serif\" font-size=\"14.00\">Glucose ≤ 94.5</text>\n<text text-anchor=\"start\" x=\"1485.5\" y=\"-1227.8\" font-family=\"Helvetica,sans-Serif\" font-size=\"14.00\">gini = 0.49</text>\n<text text-anchor=\"start\" x=\"1472.5\" y=\"-1212.8\" font-family=\"Helvetica,sans-Serif\" font-size=\"14.00\">samples = 135</text>\n<text text-anchor=\"start\" x=\"1470.5\" y=\"-1197.8\" font-family=\"Helvetica,sans-Serif\" font-size=\"14.00\">value = [77, 58]</text>\n<text text-anchor=\"start\" x=\"1490\" y=\"-1182.8\" font-family=\"Helvetica,sans-Serif\" font-size=\"14.00\">class = 0</text>\n</g>\n<!-- 43&#45;&gt;47 -->\n<g id=\"edge47\" class=\"edge\">\n<title>43&#45;&gt;47</title>\n<path fill=\"none\" stroke=\"black\" d=\"M1477.01,-1293.91C1481.63,-1285.2 1486.55,-1275.9 1491.33,-1266.89\"/>\n<polygon fill=\"black\" stroke=\"black\" points=\"1494.44,-1268.5 1496.03,-1258.02 1488.25,-1265.22 1494.44,-1268.5\"/>\n</g>\n<!-- 45 -->\n<g id=\"node46\" class=\"node\">\n<title>45</title>\n<path fill=\"#399de5\" stroke=\"black\" d=\"M1312,-1131.5C1312,-1131.5 1241,-1131.5 1241,-1131.5 1235,-1131.5 1229,-1125.5 1229,-1119.5 1229,-1119.5 1229,-1075.5 1229,-1075.5 1229,-1069.5 1235,-1063.5 1241,-1063.5 1241,-1063.5 1312,-1063.5 1312,-1063.5 1318,-1063.5 1324,-1069.5 1324,-1075.5 1324,-1075.5 1324,-1119.5 1324,-1119.5 1324,-1125.5 1318,-1131.5 1312,-1131.5\"/>\n<text text-anchor=\"start\" x=\"1248.5\" y=\"-1116.3\" font-family=\"Helvetica,sans-Serif\" font-size=\"14.00\">gini = 0.0</text>\n<text text-anchor=\"start\" x=\"1239\" y=\"-1101.3\" font-family=\"Helvetica,sans-Serif\" font-size=\"14.00\">samples = 1</text>\n<text text-anchor=\"start\" x=\"1237\" y=\"-1086.3\" font-family=\"Helvetica,sans-Serif\" font-size=\"14.00\">value = [0, 1]</text>\n<text text-anchor=\"start\" x=\"1249\" y=\"-1071.3\" font-family=\"Helvetica,sans-Serif\" font-size=\"14.00\">class = 1</text>\n</g>\n<!-- 44&#45;&gt;45 -->\n<g id=\"edge45\" class=\"edge\">\n<title>44&#45;&gt;45</title>\n<path fill=\"none\" stroke=\"black\" d=\"M1352.91,-1174.91C1341.21,-1163.21 1328.46,-1150.46 1316.78,-1138.78\"/>\n<polygon fill=\"black\" stroke=\"black\" points=\"1319.21,-1136.26 1309.67,-1131.67 1314.26,-1141.21 1319.21,-1136.26\"/>\n</g>\n<!-- 46 -->\n<g id=\"node47\" class=\"node\">\n<title>46</title>\n<path fill=\"#e58139\" stroke=\"black\" d=\"M1432.5,-1131.5C1432.5,-1131.5 1354.5,-1131.5 1354.5,-1131.5 1348.5,-1131.5 1342.5,-1125.5 1342.5,-1119.5 1342.5,-1119.5 1342.5,-1075.5 1342.5,-1075.5 1342.5,-1069.5 1348.5,-1063.5 1354.5,-1063.5 1354.5,-1063.5 1432.5,-1063.5 1432.5,-1063.5 1438.5,-1063.5 1444.5,-1069.5 1444.5,-1075.5 1444.5,-1075.5 1444.5,-1119.5 1444.5,-1119.5 1444.5,-1125.5 1438.5,-1131.5 1432.5,-1131.5\"/>\n<text text-anchor=\"start\" x=\"1365.5\" y=\"-1116.3\" font-family=\"Helvetica,sans-Serif\" font-size=\"14.00\">gini = 0.0</text>\n<text text-anchor=\"start\" x=\"1352.5\" y=\"-1101.3\" font-family=\"Helvetica,sans-Serif\" font-size=\"14.00\">samples = 33</text>\n<text text-anchor=\"start\" x=\"1350.5\" y=\"-1086.3\" font-family=\"Helvetica,sans-Serif\" font-size=\"14.00\">value = [33, 0]</text>\n<text text-anchor=\"start\" x=\"1366\" y=\"-1071.3\" font-family=\"Helvetica,sans-Serif\" font-size=\"14.00\">class = 0</text>\n</g>\n<!-- 44&#45;&gt;46 -->\n<g id=\"edge46\" class=\"edge\">\n<title>44&#45;&gt;46</title>\n<path fill=\"none\" stroke=\"black\" d=\"M1393.5,-1174.91C1393.5,-1164.2 1393.5,-1152.62 1393.5,-1141.78\"/>\n<polygon fill=\"black\" stroke=\"black\" points=\"1397,-1141.67 1393.5,-1131.67 1390,-1141.67 1397,-1141.67\"/>\n</g>\n<!-- 48 -->\n<g id=\"node49\" class=\"node\">\n<title>48</title>\n<path fill=\"#e99456\" stroke=\"black\" d=\"M1559.5,-1139C1559.5,-1139 1475.5,-1139 1475.5,-1139 1469.5,-1139 1463.5,-1133 1463.5,-1127 1463.5,-1127 1463.5,-1068 1463.5,-1068 1463.5,-1062 1469.5,-1056 1475.5,-1056 1475.5,-1056 1559.5,-1056 1559.5,-1056 1565.5,-1056 1571.5,-1062 1571.5,-1068 1571.5,-1068 1571.5,-1127 1571.5,-1127 1571.5,-1133 1565.5,-1139 1559.5,-1139\"/>\n<text text-anchor=\"start\" x=\"1471.5\" y=\"-1123.8\" font-family=\"Helvetica,sans-Serif\" font-size=\"14.00\">Glucose ≤ 28.5</text>\n<text text-anchor=\"start\" x=\"1482\" y=\"-1108.8\" font-family=\"Helvetica,sans-Serif\" font-size=\"14.00\">gini = 0.225</text>\n<text text-anchor=\"start\" x=\"1476.5\" y=\"-1093.8\" font-family=\"Helvetica,sans-Serif\" font-size=\"14.00\">samples = 31</text>\n<text text-anchor=\"start\" x=\"1474.5\" y=\"-1078.8\" font-family=\"Helvetica,sans-Serif\" font-size=\"14.00\">value = [27, 4]</text>\n<text text-anchor=\"start\" x=\"1490\" y=\"-1063.8\" font-family=\"Helvetica,sans-Serif\" font-size=\"14.00\">class = 0</text>\n</g>\n<!-- 47&#45;&gt;48 -->\n<g id=\"edge48\" class=\"edge\">\n<title>47&#45;&gt;48</title>\n<path fill=\"none\" stroke=\"black\" d=\"M1517.5,-1174.91C1517.5,-1166.65 1517.5,-1157.86 1517.5,-1149.3\"/>\n<polygon fill=\"black\" stroke=\"black\" points=\"1521,-1149.02 1517.5,-1139.02 1514,-1149.02 1521,-1149.02\"/>\n</g>\n<!-- 57 -->\n<g id=\"node58\" class=\"node\">\n<title>57</title>\n<path fill=\"#f0f8fd\" stroke=\"black\" d=\"M2182.5,-1139C2182.5,-1139 1982.5,-1139 1982.5,-1139 1976.5,-1139 1970.5,-1133 1970.5,-1127 1970.5,-1127 1970.5,-1068 1970.5,-1068 1970.5,-1062 1976.5,-1056 1982.5,-1056 1982.5,-1056 2182.5,-1056 2182.5,-1056 2188.5,-1056 2194.5,-1062 2194.5,-1068 2194.5,-1068 2194.5,-1127 2194.5,-1127 2194.5,-1133 2188.5,-1139 2182.5,-1139\"/>\n<text text-anchor=\"start\" x=\"1978.5\" y=\"-1123.8\" font-family=\"Helvetica,sans-Serif\" font-size=\"14.00\">DiabetesPedigreeFunction ≤ 0.521</text>\n<text text-anchor=\"start\" x=\"2047\" y=\"-1108.8\" font-family=\"Helvetica,sans-Serif\" font-size=\"14.00\">gini = 0.499</text>\n<text text-anchor=\"start\" x=\"2037.5\" y=\"-1093.8\" font-family=\"Helvetica,sans-Serif\" font-size=\"14.00\">samples = 104</text>\n<text text-anchor=\"start\" x=\"2035.5\" y=\"-1078.8\" font-family=\"Helvetica,sans-Serif\" font-size=\"14.00\">value = [50, 54]</text>\n<text text-anchor=\"start\" x=\"2055\" y=\"-1063.8\" font-family=\"Helvetica,sans-Serif\" font-size=\"14.00\">class = 1</text>\n</g>\n<!-- 47&#45;&gt;57 -->\n<g id=\"edge57\" class=\"edge\">\n<title>47&#45;&gt;57</title>\n<path fill=\"none\" stroke=\"black\" d=\"M1572.7,-1204.07C1661.96,-1185.58 1840.1,-1148.7 1960.33,-1123.8\"/>\n<polygon fill=\"black\" stroke=\"black\" points=\"1961.24,-1127.18 1970.33,-1121.73 1959.82,-1120.33 1961.24,-1127.18\"/>\n</g>\n<!-- 49 -->\n<g id=\"node50\" class=\"node\">\n<title>49</title>\n<path fill=\"#399de5\" stroke=\"black\" d=\"M1425,-1012.5C1425,-1012.5 1354,-1012.5 1354,-1012.5 1348,-1012.5 1342,-1006.5 1342,-1000.5 1342,-1000.5 1342,-956.5 1342,-956.5 1342,-950.5 1348,-944.5 1354,-944.5 1354,-944.5 1425,-944.5 1425,-944.5 1431,-944.5 1437,-950.5 1437,-956.5 1437,-956.5 1437,-1000.5 1437,-1000.5 1437,-1006.5 1431,-1012.5 1425,-1012.5\"/>\n<text text-anchor=\"start\" x=\"1361.5\" y=\"-997.3\" font-family=\"Helvetica,sans-Serif\" font-size=\"14.00\">gini = 0.0</text>\n<text text-anchor=\"start\" x=\"1352\" y=\"-982.3\" font-family=\"Helvetica,sans-Serif\" font-size=\"14.00\">samples = 2</text>\n<text text-anchor=\"start\" x=\"1350\" y=\"-967.3\" font-family=\"Helvetica,sans-Serif\" font-size=\"14.00\">value = [0, 2]</text>\n<text text-anchor=\"start\" x=\"1362\" y=\"-952.3\" font-family=\"Helvetica,sans-Serif\" font-size=\"14.00\">class = 1</text>\n</g>\n<!-- 48&#45;&gt;49 -->\n<g id=\"edge49\" class=\"edge\">\n<title>48&#45;&gt;49</title>\n<path fill=\"none\" stroke=\"black\" d=\"M1473.09,-1055.91C1460.17,-1044.1 1446.08,-1031.22 1433.21,-1019.45\"/>\n<polygon fill=\"black\" stroke=\"black\" points=\"1435.53,-1016.83 1425.79,-1012.67 1430.8,-1022 1435.53,-1016.83\"/>\n</g>\n<!-- 50 -->\n<g id=\"node51\" class=\"node\">\n<title>50</title>\n<path fill=\"#e78a48\" stroke=\"black\" d=\"M1568,-1020C1568,-1020 1467,-1020 1467,-1020 1461,-1020 1455,-1014 1455,-1008 1455,-1008 1455,-949 1455,-949 1455,-943 1461,-937 1467,-937 1467,-937 1568,-937 1568,-937 1574,-937 1580,-943 1580,-949 1580,-949 1580,-1008 1580,-1008 1580,-1014 1574,-1020 1568,-1020\"/>\n<text text-anchor=\"start\" x=\"1463\" y=\"-1004.8\" font-family=\"Helvetica,sans-Serif\" font-size=\"14.00\">Pregnancies ≤ 9.5</text>\n<text text-anchor=\"start\" x=\"1482\" y=\"-989.8\" font-family=\"Helvetica,sans-Serif\" font-size=\"14.00\">gini = 0.128</text>\n<text text-anchor=\"start\" x=\"1476.5\" y=\"-974.8\" font-family=\"Helvetica,sans-Serif\" font-size=\"14.00\">samples = 29</text>\n<text text-anchor=\"start\" x=\"1474.5\" y=\"-959.8\" font-family=\"Helvetica,sans-Serif\" font-size=\"14.00\">value = [27, 2]</text>\n<text text-anchor=\"start\" x=\"1490\" y=\"-944.8\" font-family=\"Helvetica,sans-Serif\" font-size=\"14.00\">class = 0</text>\n</g>\n<!-- 48&#45;&gt;50 -->\n<g id=\"edge50\" class=\"edge\">\n<title>48&#45;&gt;50</title>\n<path fill=\"none\" stroke=\"black\" d=\"M1517.5,-1055.91C1517.5,-1047.65 1517.5,-1038.86 1517.5,-1030.3\"/>\n<polygon fill=\"black\" stroke=\"black\" points=\"1521,-1030.02 1517.5,-1020.02 1514,-1030.02 1521,-1030.02\"/>\n</g>\n<!-- 51 -->\n<g id=\"node52\" class=\"node\">\n<title>51</title>\n<path fill=\"#e58139\" stroke=\"black\" d=\"M1414.5,-893.5C1414.5,-893.5 1336.5,-893.5 1336.5,-893.5 1330.5,-893.5 1324.5,-887.5 1324.5,-881.5 1324.5,-881.5 1324.5,-837.5 1324.5,-837.5 1324.5,-831.5 1330.5,-825.5 1336.5,-825.5 1336.5,-825.5 1414.5,-825.5 1414.5,-825.5 1420.5,-825.5 1426.5,-831.5 1426.5,-837.5 1426.5,-837.5 1426.5,-881.5 1426.5,-881.5 1426.5,-887.5 1420.5,-893.5 1414.5,-893.5\"/>\n<text text-anchor=\"start\" x=\"1347.5\" y=\"-878.3\" font-family=\"Helvetica,sans-Serif\" font-size=\"14.00\">gini = 0.0</text>\n<text text-anchor=\"start\" x=\"1334.5\" y=\"-863.3\" font-family=\"Helvetica,sans-Serif\" font-size=\"14.00\">samples = 22</text>\n<text text-anchor=\"start\" x=\"1332.5\" y=\"-848.3\" font-family=\"Helvetica,sans-Serif\" font-size=\"14.00\">value = [22, 0]</text>\n<text text-anchor=\"start\" x=\"1348\" y=\"-833.3\" font-family=\"Helvetica,sans-Serif\" font-size=\"14.00\">class = 0</text>\n</g>\n<!-- 50&#45;&gt;51 -->\n<g id=\"edge51\" class=\"edge\">\n<title>50&#45;&gt;51</title>\n<path fill=\"none\" stroke=\"black\" d=\"M1468.23,-936.91C1453.77,-924.99 1437.97,-911.98 1423.59,-900.12\"/>\n<polygon fill=\"black\" stroke=\"black\" points=\"1425.7,-897.32 1415.75,-893.67 1421.25,-902.73 1425.7,-897.32\"/>\n</g>\n<!-- 52 -->\n<g id=\"node53\" class=\"node\">\n<title>52</title>\n<path fill=\"#efb388\" stroke=\"black\" d=\"M1578,-901C1578,-901 1457,-901 1457,-901 1451,-901 1445,-895 1445,-889 1445,-889 1445,-830 1445,-830 1445,-824 1451,-818 1457,-818 1457,-818 1578,-818 1578,-818 1584,-818 1590,-824 1590,-830 1590,-830 1590,-889 1590,-889 1590,-895 1584,-901 1578,-901\"/>\n<text text-anchor=\"start\" x=\"1453\" y=\"-885.8\" font-family=\"Helvetica,sans-Serif\" font-size=\"14.00\">SkinThickness ≤ 27.0</text>\n<text text-anchor=\"start\" x=\"1482\" y=\"-870.8\" font-family=\"Helvetica,sans-Serif\" font-size=\"14.00\">gini = 0.408</text>\n<text text-anchor=\"start\" x=\"1480\" y=\"-855.8\" font-family=\"Helvetica,sans-Serif\" font-size=\"14.00\">samples = 7</text>\n<text text-anchor=\"start\" x=\"1478\" y=\"-840.8\" font-family=\"Helvetica,sans-Serif\" font-size=\"14.00\">value = [5, 2]</text>\n<text text-anchor=\"start\" x=\"1490\" y=\"-825.8\" font-family=\"Helvetica,sans-Serif\" font-size=\"14.00\">class = 0</text>\n</g>\n<!-- 50&#45;&gt;52 -->\n<g id=\"edge52\" class=\"edge\">\n<title>50&#45;&gt;52</title>\n<path fill=\"none\" stroke=\"black\" d=\"M1517.5,-936.91C1517.5,-928.65 1517.5,-919.86 1517.5,-911.3\"/>\n<polygon fill=\"black\" stroke=\"black\" points=\"1521,-911.02 1517.5,-901.02 1514,-911.02 1521,-911.02\"/>\n</g>\n<!-- 53 -->\n<g id=\"node54\" class=\"node\">\n<title>53</title>\n<path fill=\"#e58139\" stroke=\"black\" d=\"M1440,-774.5C1440,-774.5 1369,-774.5 1369,-774.5 1363,-774.5 1357,-768.5 1357,-762.5 1357,-762.5 1357,-718.5 1357,-718.5 1357,-712.5 1363,-706.5 1369,-706.5 1369,-706.5 1440,-706.5 1440,-706.5 1446,-706.5 1452,-712.5 1452,-718.5 1452,-718.5 1452,-762.5 1452,-762.5 1452,-768.5 1446,-774.5 1440,-774.5\"/>\n<text text-anchor=\"start\" x=\"1376.5\" y=\"-759.3\" font-family=\"Helvetica,sans-Serif\" font-size=\"14.00\">gini = 0.0</text>\n<text text-anchor=\"start\" x=\"1367\" y=\"-744.3\" font-family=\"Helvetica,sans-Serif\" font-size=\"14.00\">samples = 4</text>\n<text text-anchor=\"start\" x=\"1365\" y=\"-729.3\" font-family=\"Helvetica,sans-Serif\" font-size=\"14.00\">value = [4, 0]</text>\n<text text-anchor=\"start\" x=\"1377\" y=\"-714.3\" font-family=\"Helvetica,sans-Serif\" font-size=\"14.00\">class = 0</text>\n</g>\n<!-- 52&#45;&gt;53 -->\n<g id=\"edge53\" class=\"edge\">\n<title>52&#45;&gt;53</title>\n<path fill=\"none\" stroke=\"black\" d=\"M1478.3,-817.91C1467.11,-806.32 1454.91,-793.7 1443.72,-782.11\"/>\n<polygon fill=\"black\" stroke=\"black\" points=\"1446,-779.43 1436.53,-774.67 1440.96,-784.29 1446,-779.43\"/>\n</g>\n<!-- 54 -->\n<g id=\"node55\" class=\"node\">\n<title>54</title>\n<path fill=\"#9ccef2\" stroke=\"black\" d=\"M1553,-782C1553,-782 1482,-782 1482,-782 1476,-782 1470,-776 1470,-770 1470,-770 1470,-711 1470,-711 1470,-705 1476,-699 1482,-699 1482,-699 1553,-699 1553,-699 1559,-699 1565,-705 1565,-711 1565,-711 1565,-770 1565,-770 1565,-776 1559,-782 1553,-782\"/>\n<text text-anchor=\"start\" x=\"1484\" y=\"-766.8\" font-family=\"Helvetica,sans-Serif\" font-size=\"14.00\">BMI ≤ 35.1</text>\n<text text-anchor=\"start\" x=\"1482\" y=\"-751.8\" font-family=\"Helvetica,sans-Serif\" font-size=\"14.00\">gini = 0.444</text>\n<text text-anchor=\"start\" x=\"1480\" y=\"-736.8\" font-family=\"Helvetica,sans-Serif\" font-size=\"14.00\">samples = 3</text>\n<text text-anchor=\"start\" x=\"1478\" y=\"-721.8\" font-family=\"Helvetica,sans-Serif\" font-size=\"14.00\">value = [1, 2]</text>\n<text text-anchor=\"start\" x=\"1490\" y=\"-706.8\" font-family=\"Helvetica,sans-Serif\" font-size=\"14.00\">class = 1</text>\n</g>\n<!-- 52&#45;&gt;54 -->\n<g id=\"edge54\" class=\"edge\">\n<title>52&#45;&gt;54</title>\n<path fill=\"none\" stroke=\"black\" d=\"M1517.5,-817.91C1517.5,-809.65 1517.5,-800.86 1517.5,-792.3\"/>\n<polygon fill=\"black\" stroke=\"black\" points=\"1521,-792.02 1517.5,-782.02 1514,-792.02 1521,-792.02\"/>\n</g>\n<!-- 55 -->\n<g id=\"node56\" class=\"node\">\n<title>55</title>\n<path fill=\"#399de5\" stroke=\"black\" d=\"M1440,-655.5C1440,-655.5 1369,-655.5 1369,-655.5 1363,-655.5 1357,-649.5 1357,-643.5 1357,-643.5 1357,-599.5 1357,-599.5 1357,-593.5 1363,-587.5 1369,-587.5 1369,-587.5 1440,-587.5 1440,-587.5 1446,-587.5 1452,-593.5 1452,-599.5 1452,-599.5 1452,-643.5 1452,-643.5 1452,-649.5 1446,-655.5 1440,-655.5\"/>\n<text text-anchor=\"start\" x=\"1376.5\" y=\"-640.3\" font-family=\"Helvetica,sans-Serif\" font-size=\"14.00\">gini = 0.0</text>\n<text text-anchor=\"start\" x=\"1367\" y=\"-625.3\" font-family=\"Helvetica,sans-Serif\" font-size=\"14.00\">samples = 2</text>\n<text text-anchor=\"start\" x=\"1365\" y=\"-610.3\" font-family=\"Helvetica,sans-Serif\" font-size=\"14.00\">value = [0, 2]</text>\n<text text-anchor=\"start\" x=\"1377\" y=\"-595.3\" font-family=\"Helvetica,sans-Serif\" font-size=\"14.00\">class = 1</text>\n</g>\n<!-- 54&#45;&gt;55 -->\n<g id=\"edge55\" class=\"edge\">\n<title>54&#45;&gt;55</title>\n<path fill=\"none\" stroke=\"black\" d=\"M1478.3,-698.91C1467.11,-687.32 1454.91,-674.7 1443.72,-663.11\"/>\n<polygon fill=\"black\" stroke=\"black\" points=\"1446,-660.43 1436.53,-655.67 1440.96,-665.29 1446,-660.43\"/>\n</g>\n<!-- 56 -->\n<g id=\"node57\" class=\"node\">\n<title>56</title>\n<path fill=\"#e58139\" stroke=\"black\" d=\"M1553,-655.5C1553,-655.5 1482,-655.5 1482,-655.5 1476,-655.5 1470,-649.5 1470,-643.5 1470,-643.5 1470,-599.5 1470,-599.5 1470,-593.5 1476,-587.5 1482,-587.5 1482,-587.5 1553,-587.5 1553,-587.5 1559,-587.5 1565,-593.5 1565,-599.5 1565,-599.5 1565,-643.5 1565,-643.5 1565,-649.5 1559,-655.5 1553,-655.5\"/>\n<text text-anchor=\"start\" x=\"1489.5\" y=\"-640.3\" font-family=\"Helvetica,sans-Serif\" font-size=\"14.00\">gini = 0.0</text>\n<text text-anchor=\"start\" x=\"1480\" y=\"-625.3\" font-family=\"Helvetica,sans-Serif\" font-size=\"14.00\">samples = 1</text>\n<text text-anchor=\"start\" x=\"1478\" y=\"-610.3\" font-family=\"Helvetica,sans-Serif\" font-size=\"14.00\">value = [1, 0]</text>\n<text text-anchor=\"start\" x=\"1490\" y=\"-595.3\" font-family=\"Helvetica,sans-Serif\" font-size=\"14.00\">class = 0</text>\n</g>\n<!-- 54&#45;&gt;56 -->\n<g id=\"edge56\" class=\"edge\">\n<title>54&#45;&gt;56</title>\n<path fill=\"none\" stroke=\"black\" d=\"M1517.5,-698.91C1517.5,-688.2 1517.5,-676.62 1517.5,-665.78\"/>\n<polygon fill=\"black\" stroke=\"black\" points=\"1521,-665.67 1517.5,-655.67 1514,-665.67 1521,-665.67\"/>\n</g>\n<!-- 58 -->\n<g id=\"node59\" class=\"node\">\n<title>58</title>\n<path fill=\"#f8decb\" stroke=\"black\" d=\"M2143,-1020C2143,-1020 2022,-1020 2022,-1020 2016,-1020 2010,-1014 2010,-1008 2010,-1008 2010,-949 2010,-949 2010,-943 2016,-937 2022,-937 2022,-937 2143,-937 2143,-937 2149,-937 2155,-943 2155,-949 2155,-949 2155,-1008 2155,-1008 2155,-1014 2149,-1020 2143,-1020\"/>\n<text text-anchor=\"start\" x=\"2018\" y=\"-1004.8\" font-family=\"Helvetica,sans-Serif\" font-size=\"14.00\">SkinThickness ≤ 27.5</text>\n<text text-anchor=\"start\" x=\"2047\" y=\"-989.8\" font-family=\"Helvetica,sans-Serif\" font-size=\"14.00\">gini = 0.489</text>\n<text text-anchor=\"start\" x=\"2041.5\" y=\"-974.8\" font-family=\"Helvetica,sans-Serif\" font-size=\"14.00\">samples = 73</text>\n<text text-anchor=\"start\" x=\"2035.5\" y=\"-959.8\" font-family=\"Helvetica,sans-Serif\" font-size=\"14.00\">value = [42, 31]</text>\n<text text-anchor=\"start\" x=\"2055\" y=\"-944.8\" font-family=\"Helvetica,sans-Serif\" font-size=\"14.00\">class = 0</text>\n</g>\n<!-- 57&#45;&gt;58 -->\n<g id=\"edge58\" class=\"edge\">\n<title>57&#45;&gt;58</title>\n<path fill=\"none\" stroke=\"black\" d=\"M2082.5,-1055.91C2082.5,-1047.65 2082.5,-1038.86 2082.5,-1030.3\"/>\n<polygon fill=\"black\" stroke=\"black\" points=\"2086,-1030.02 2082.5,-1020.02 2079,-1030.02 2086,-1030.02\"/>\n</g>\n<!-- 91 -->\n<g id=\"node92\" class=\"node\">\n<title>91</title>\n<path fill=\"#7ebfee\" stroke=\"black\" d=\"M2643,-1020C2643,-1020 2542,-1020 2542,-1020 2536,-1020 2530,-1014 2530,-1008 2530,-1008 2530,-949 2530,-949 2530,-943 2536,-937 2542,-937 2542,-937 2643,-937 2643,-937 2649,-937 2655,-943 2655,-949 2655,-949 2655,-1008 2655,-1008 2655,-1014 2649,-1020 2643,-1020\"/>\n<text text-anchor=\"start\" x=\"2538\" y=\"-1004.8\" font-family=\"Helvetica,sans-Serif\" font-size=\"14.00\">Pregnancies ≤ 6.5</text>\n<text text-anchor=\"start\" x=\"2557\" y=\"-989.8\" font-family=\"Helvetica,sans-Serif\" font-size=\"14.00\">gini = 0.383</text>\n<text text-anchor=\"start\" x=\"2551.5\" y=\"-974.8\" font-family=\"Helvetica,sans-Serif\" font-size=\"14.00\">samples = 31</text>\n<text text-anchor=\"start\" x=\"2549.5\" y=\"-959.8\" font-family=\"Helvetica,sans-Serif\" font-size=\"14.00\">value = [8, 23]</text>\n<text text-anchor=\"start\" x=\"2565\" y=\"-944.8\" font-family=\"Helvetica,sans-Serif\" font-size=\"14.00\">class = 1</text>\n</g>\n<!-- 57&#45;&gt;91 -->\n<g id=\"edge91\" class=\"edge\">\n<title>57&#45;&gt;91</title>\n<path fill=\"none\" stroke=\"black\" d=\"M2194.74,-1070.75C2293.76,-1048.04 2435.15,-1015.6 2519.98,-996.14\"/>\n<polygon fill=\"black\" stroke=\"black\" points=\"2520.81,-999.54 2529.78,-993.89 2519.25,-992.71 2520.81,-999.54\"/>\n</g>\n<!-- 59 -->\n<g id=\"node60\" class=\"node\">\n<title>59</title>\n<path fill=\"#d7ebfa\" stroke=\"black\" d=\"M2051.5,-901C2051.5,-901 1929.5,-901 1929.5,-901 1923.5,-901 1917.5,-895 1917.5,-889 1917.5,-889 1917.5,-830 1917.5,-830 1917.5,-824 1923.5,-818 1929.5,-818 1929.5,-818 2051.5,-818 2051.5,-818 2057.5,-818 2063.5,-824 2063.5,-830 2063.5,-830 2063.5,-889 2063.5,-889 2063.5,-895 2057.5,-901 2051.5,-901\"/>\n<text text-anchor=\"start\" x=\"1925.5\" y=\"-885.8\" font-family=\"Helvetica,sans-Serif\" font-size=\"14.00\">BloodPressure ≤ 83.0</text>\n<text text-anchor=\"start\" x=\"1955\" y=\"-870.8\" font-family=\"Helvetica,sans-Serif\" font-size=\"14.00\">gini = 0.494</text>\n<text text-anchor=\"start\" x=\"1949.5\" y=\"-855.8\" font-family=\"Helvetica,sans-Serif\" font-size=\"14.00\">samples = 45</text>\n<text text-anchor=\"start\" x=\"1943.5\" y=\"-840.8\" font-family=\"Helvetica,sans-Serif\" font-size=\"14.00\">value = [20, 25]</text>\n<text text-anchor=\"start\" x=\"1963\" y=\"-825.8\" font-family=\"Helvetica,sans-Serif\" font-size=\"14.00\">class = 1</text>\n</g>\n<!-- 58&#45;&gt;59 -->\n<g id=\"edge59\" class=\"edge\">\n<title>58&#45;&gt;59</title>\n<path fill=\"none\" stroke=\"black\" d=\"M2050.58,-936.91C2043.52,-927.92 2035.96,-918.32 2028.68,-909.05\"/>\n<polygon fill=\"black\" stroke=\"black\" points=\"2031.3,-906.72 2022.36,-901.02 2025.79,-911.05 2031.3,-906.72\"/>\n</g>\n<!-- 78 -->\n<g id=\"node79\" class=\"node\">\n<title>78</title>\n<path fill=\"#eca36f\" stroke=\"black\" d=\"M2236.5,-901C2236.5,-901 2114.5,-901 2114.5,-901 2108.5,-901 2102.5,-895 2102.5,-889 2102.5,-889 2102.5,-830 2102.5,-830 2102.5,-824 2108.5,-818 2114.5,-818 2114.5,-818 2236.5,-818 2236.5,-818 2242.5,-818 2248.5,-824 2248.5,-830 2248.5,-830 2248.5,-889 2248.5,-889 2248.5,-895 2242.5,-901 2236.5,-901\"/>\n<text text-anchor=\"start\" x=\"2110.5\" y=\"-885.8\" font-family=\"Helvetica,sans-Serif\" font-size=\"14.00\">BloodPressure ≤ 89.0</text>\n<text text-anchor=\"start\" x=\"2140\" y=\"-870.8\" font-family=\"Helvetica,sans-Serif\" font-size=\"14.00\">gini = 0.337</text>\n<text text-anchor=\"start\" x=\"2134.5\" y=\"-855.8\" font-family=\"Helvetica,sans-Serif\" font-size=\"14.00\">samples = 28</text>\n<text text-anchor=\"start\" x=\"2132.5\" y=\"-840.8\" font-family=\"Helvetica,sans-Serif\" font-size=\"14.00\">value = [22, 6]</text>\n<text text-anchor=\"start\" x=\"2148\" y=\"-825.8\" font-family=\"Helvetica,sans-Serif\" font-size=\"14.00\">class = 0</text>\n</g>\n<!-- 58&#45;&gt;78 -->\n<g id=\"edge78\" class=\"edge\">\n<title>58&#45;&gt;78</title>\n<path fill=\"none\" stroke=\"black\" d=\"M2114.77,-936.91C2121.91,-927.92 2129.54,-918.32 2136.91,-909.05\"/>\n<polygon fill=\"black\" stroke=\"black\" points=\"2139.81,-911.03 2143.29,-901.02 2134.33,-906.67 2139.81,-911.03\"/>\n</g>\n<!-- 60 -->\n<g id=\"node61\" class=\"node\">\n<title>60</title>\n<path fill=\"#8bc6f0\" stroke=\"black\" d=\"M1888.5,-782C1888.5,-782 1688.5,-782 1688.5,-782 1682.5,-782 1676.5,-776 1676.5,-770 1676.5,-770 1676.5,-711 1676.5,-711 1676.5,-705 1682.5,-699 1688.5,-699 1688.5,-699 1888.5,-699 1888.5,-699 1894.5,-699 1900.5,-705 1900.5,-711 1900.5,-711 1900.5,-770 1900.5,-770 1900.5,-776 1894.5,-782 1888.5,-782\"/>\n<text text-anchor=\"start\" x=\"1684.5\" y=\"-766.8\" font-family=\"Helvetica,sans-Serif\" font-size=\"14.00\">DiabetesPedigreeFunction ≤ 0.387</text>\n<text text-anchor=\"start\" x=\"1753\" y=\"-751.8\" font-family=\"Helvetica,sans-Serif\" font-size=\"14.00\">gini = 0.415</text>\n<text text-anchor=\"start\" x=\"1747.5\" y=\"-736.8\" font-family=\"Helvetica,sans-Serif\" font-size=\"14.00\">samples = 34</text>\n<text text-anchor=\"start\" x=\"1741.5\" y=\"-721.8\" font-family=\"Helvetica,sans-Serif\" font-size=\"14.00\">value = [10, 24]</text>\n<text text-anchor=\"start\" x=\"1761\" y=\"-706.8\" font-family=\"Helvetica,sans-Serif\" font-size=\"14.00\">class = 1</text>\n</g>\n<!-- 59&#45;&gt;60 -->\n<g id=\"edge60\" class=\"edge\">\n<title>59&#45;&gt;60</title>\n<path fill=\"none\" stroke=\"black\" d=\"M1920.42,-817.91C1903.34,-808.02 1884.96,-797.37 1867.49,-787.25\"/>\n<polygon fill=\"black\" stroke=\"black\" points=\"1868.87,-784 1858.46,-782.02 1865.36,-790.06 1868.87,-784\"/>\n</g>\n<!-- 75 -->\n<g id=\"node76\" class=\"node\">\n<title>75</title>\n<path fill=\"#e88e4d\" stroke=\"black\" d=\"M2030.5,-782C2030.5,-782 1950.5,-782 1950.5,-782 1944.5,-782 1938.5,-776 1938.5,-770 1938.5,-770 1938.5,-711 1938.5,-711 1938.5,-705 1944.5,-699 1950.5,-699 1950.5,-699 2030.5,-699 2030.5,-699 2036.5,-699 2042.5,-705 2042.5,-711 2042.5,-711 2042.5,-770 2042.5,-770 2042.5,-776 2036.5,-782 2030.5,-782\"/>\n<text text-anchor=\"start\" x=\"1946.5\" y=\"-766.8\" font-family=\"Helvetica,sans-Serif\" font-size=\"14.00\">Insulin ≤ 111.5</text>\n<text text-anchor=\"start\" x=\"1955\" y=\"-751.8\" font-family=\"Helvetica,sans-Serif\" font-size=\"14.00\">gini = 0.165</text>\n<text text-anchor=\"start\" x=\"1949.5\" y=\"-736.8\" font-family=\"Helvetica,sans-Serif\" font-size=\"14.00\">samples = 11</text>\n<text text-anchor=\"start\" x=\"1947.5\" y=\"-721.8\" font-family=\"Helvetica,sans-Serif\" font-size=\"14.00\">value = [10, 1]</text>\n<text text-anchor=\"start\" x=\"1963\" y=\"-706.8\" font-family=\"Helvetica,sans-Serif\" font-size=\"14.00\">class = 0</text>\n</g>\n<!-- 59&#45;&gt;75 -->\n<g id=\"edge75\" class=\"edge\">\n<title>59&#45;&gt;75</title>\n<path fill=\"none\" stroke=\"black\" d=\"M1990.5,-817.91C1990.5,-809.65 1990.5,-800.86 1990.5,-792.3\"/>\n<polygon fill=\"black\" stroke=\"black\" points=\"1994,-792.02 1990.5,-782.02 1987,-792.02 1994,-792.02\"/>\n</g>\n<!-- 61 -->\n<g id=\"node62\" class=\"node\">\n<title>61</title>\n<path fill=\"#6fb8ec\" stroke=\"black\" d=\"M1696,-663C1696,-663 1595,-663 1595,-663 1589,-663 1583,-657 1583,-651 1583,-651 1583,-592 1583,-592 1583,-586 1589,-580 1595,-580 1595,-580 1696,-580 1696,-580 1702,-580 1708,-586 1708,-592 1708,-592 1708,-651 1708,-651 1708,-657 1702,-663 1696,-663\"/>\n<text text-anchor=\"start\" x=\"1591\" y=\"-647.8\" font-family=\"Helvetica,sans-Serif\" font-size=\"14.00\">Pregnancies ≤ 7.5</text>\n<text text-anchor=\"start\" x=\"1610\" y=\"-632.8\" font-family=\"Helvetica,sans-Serif\" font-size=\"14.00\">gini = 0.337</text>\n<text text-anchor=\"start\" x=\"1604.5\" y=\"-617.8\" font-family=\"Helvetica,sans-Serif\" font-size=\"14.00\">samples = 28</text>\n<text text-anchor=\"start\" x=\"1602.5\" y=\"-602.8\" font-family=\"Helvetica,sans-Serif\" font-size=\"14.00\">value = [6, 22]</text>\n<text text-anchor=\"start\" x=\"1618\" y=\"-587.8\" font-family=\"Helvetica,sans-Serif\" font-size=\"14.00\">class = 1</text>\n</g>\n<!-- 60&#45;&gt;61 -->\n<g id=\"edge61\" class=\"edge\">\n<title>60&#45;&gt;61</title>\n<path fill=\"none\" stroke=\"black\" d=\"M1738.89,-698.91C1727.24,-689.38 1714.74,-679.15 1702.79,-669.37\"/>\n<polygon fill=\"black\" stroke=\"black\" points=\"1704.98,-666.64 1695.03,-663.02 1700.55,-672.06 1704.98,-666.64\"/>\n</g>\n<!-- 72 -->\n<g id=\"node73\" class=\"node\">\n<title>72</title>\n<path fill=\"#f2c09c\" stroke=\"black\" d=\"M1839,-663C1839,-663 1738,-663 1738,-663 1732,-663 1726,-657 1726,-651 1726,-651 1726,-592 1726,-592 1726,-586 1732,-580 1738,-580 1738,-580 1839,-580 1839,-580 1845,-580 1851,-586 1851,-592 1851,-592 1851,-651 1851,-651 1851,-657 1845,-663 1839,-663\"/>\n<text text-anchor=\"start\" x=\"1734\" y=\"-647.8\" font-family=\"Helvetica,sans-Serif\" font-size=\"14.00\">Pregnancies ≤ 6.5</text>\n<text text-anchor=\"start\" x=\"1753\" y=\"-632.8\" font-family=\"Helvetica,sans-Serif\" font-size=\"14.00\">gini = 0.444</text>\n<text text-anchor=\"start\" x=\"1751\" y=\"-617.8\" font-family=\"Helvetica,sans-Serif\" font-size=\"14.00\">samples = 6</text>\n<text text-anchor=\"start\" x=\"1749\" y=\"-602.8\" font-family=\"Helvetica,sans-Serif\" font-size=\"14.00\">value = [4, 2]</text>\n<text text-anchor=\"start\" x=\"1761\" y=\"-587.8\" font-family=\"Helvetica,sans-Serif\" font-size=\"14.00\">class = 0</text>\n</g>\n<!-- 60&#45;&gt;72 -->\n<g id=\"edge72\" class=\"edge\">\n<title>60&#45;&gt;72</title>\n<path fill=\"none\" stroke=\"black\" d=\"M1788.5,-698.91C1788.5,-690.65 1788.5,-681.86 1788.5,-673.3\"/>\n<polygon fill=\"black\" stroke=\"black\" points=\"1792,-673.02 1788.5,-663.02 1785,-673.02 1792,-673.02\"/>\n</g>\n<!-- 62 -->\n<g id=\"node63\" class=\"node\">\n<title>62</title>\n<path fill=\"#4da7e8\" stroke=\"black\" d=\"M1547.5,-544C1547.5,-544 1347.5,-544 1347.5,-544 1341.5,-544 1335.5,-538 1335.5,-532 1335.5,-532 1335.5,-473 1335.5,-473 1335.5,-467 1341.5,-461 1347.5,-461 1347.5,-461 1547.5,-461 1547.5,-461 1553.5,-461 1559.5,-467 1559.5,-473 1559.5,-473 1559.5,-532 1559.5,-532 1559.5,-538 1553.5,-544 1547.5,-544\"/>\n<text text-anchor=\"start\" x=\"1343.5\" y=\"-528.8\" font-family=\"Helvetica,sans-Serif\" font-size=\"14.00\">DiabetesPedigreeFunction ≤ 0.104</text>\n<text text-anchor=\"start\" x=\"1412\" y=\"-513.8\" font-family=\"Helvetica,sans-Serif\" font-size=\"14.00\">gini = 0.165</text>\n<text text-anchor=\"start\" x=\"1406.5\" y=\"-498.8\" font-family=\"Helvetica,sans-Serif\" font-size=\"14.00\">samples = 22</text>\n<text text-anchor=\"start\" x=\"1404.5\" y=\"-483.8\" font-family=\"Helvetica,sans-Serif\" font-size=\"14.00\">value = [2, 20]</text>\n<text text-anchor=\"start\" x=\"1420\" y=\"-468.8\" font-family=\"Helvetica,sans-Serif\" font-size=\"14.00\">class = 1</text>\n</g>\n<!-- 61&#45;&gt;62 -->\n<g id=\"edge62\" class=\"edge\">\n<title>61&#45;&gt;62</title>\n<path fill=\"none\" stroke=\"black\" d=\"M1582.85,-583.48C1564.48,-572.62 1544.17,-560.62 1524.99,-549.29\"/>\n<polygon fill=\"black\" stroke=\"black\" points=\"1526.65,-546.21 1516.26,-544.13 1523.09,-552.23 1526.65,-546.21\"/>\n</g>\n<!-- 67 -->\n<g id=\"node68\" class=\"node\">\n<title>67</title>\n<path fill=\"#f2c09c\" stroke=\"black\" d=\"M1711,-544C1711,-544 1590,-544 1590,-544 1584,-544 1578,-538 1578,-532 1578,-532 1578,-473 1578,-473 1578,-467 1584,-461 1590,-461 1590,-461 1711,-461 1711,-461 1717,-461 1723,-467 1723,-473 1723,-473 1723,-532 1723,-532 1723,-538 1717,-544 1711,-544\"/>\n<text text-anchor=\"start\" x=\"1586\" y=\"-528.8\" font-family=\"Helvetica,sans-Serif\" font-size=\"14.00\">SkinThickness ≤ 13.0</text>\n<text text-anchor=\"start\" x=\"1615\" y=\"-513.8\" font-family=\"Helvetica,sans-Serif\" font-size=\"14.00\">gini = 0.444</text>\n<text text-anchor=\"start\" x=\"1613\" y=\"-498.8\" font-family=\"Helvetica,sans-Serif\" font-size=\"14.00\">samples = 6</text>\n<text text-anchor=\"start\" x=\"1611\" y=\"-483.8\" font-family=\"Helvetica,sans-Serif\" font-size=\"14.00\">value = [4, 2]</text>\n<text text-anchor=\"start\" x=\"1623\" y=\"-468.8\" font-family=\"Helvetica,sans-Serif\" font-size=\"14.00\">class = 0</text>\n</g>\n<!-- 61&#45;&gt;67 -->\n<g id=\"edge67\" class=\"edge\">\n<title>61&#45;&gt;67</title>\n<path fill=\"none\" stroke=\"black\" d=\"M1647.23,-579.91C1647.59,-571.56 1647.97,-562.67 1648.34,-554.02\"/>\n<polygon fill=\"black\" stroke=\"black\" points=\"1651.84,-554.16 1648.77,-544.02 1644.84,-553.86 1651.84,-554.16\"/>\n</g>\n<!-- 63 -->\n<g id=\"node64\" class=\"node\">\n<title>63</title>\n<path fill=\"#e58139\" stroke=\"black\" d=\"M1344,-417.5C1344,-417.5 1273,-417.5 1273,-417.5 1267,-417.5 1261,-411.5 1261,-405.5 1261,-405.5 1261,-361.5 1261,-361.5 1261,-355.5 1267,-349.5 1273,-349.5 1273,-349.5 1344,-349.5 1344,-349.5 1350,-349.5 1356,-355.5 1356,-361.5 1356,-361.5 1356,-405.5 1356,-405.5 1356,-411.5 1350,-417.5 1344,-417.5\"/>\n<text text-anchor=\"start\" x=\"1280.5\" y=\"-402.3\" font-family=\"Helvetica,sans-Serif\" font-size=\"14.00\">gini = 0.0</text>\n<text text-anchor=\"start\" x=\"1271\" y=\"-387.3\" font-family=\"Helvetica,sans-Serif\" font-size=\"14.00\">samples = 1</text>\n<text text-anchor=\"start\" x=\"1269\" y=\"-372.3\" font-family=\"Helvetica,sans-Serif\" font-size=\"14.00\">value = [1, 0]</text>\n<text text-anchor=\"start\" x=\"1281\" y=\"-357.3\" font-family=\"Helvetica,sans-Serif\" font-size=\"14.00\">class = 0</text>\n</g>\n<!-- 62&#45;&gt;63 -->\n<g id=\"edge63\" class=\"edge\">\n<title>62&#45;&gt;63</title>\n<path fill=\"none\" stroke=\"black\" d=\"M1399.27,-460.91C1385.12,-448.99 1369.65,-435.98 1355.57,-424.12\"/>\n<polygon fill=\"black\" stroke=\"black\" points=\"1357.81,-421.43 1347.9,-417.67 1353.3,-426.78 1357.81,-421.43\"/>\n</g>\n<!-- 64 -->\n<g id=\"node65\" class=\"node\">\n<title>64</title>\n<path fill=\"#43a2e6\" stroke=\"black\" d=\"M1508.5,-425C1508.5,-425 1386.5,-425 1386.5,-425 1380.5,-425 1374.5,-419 1374.5,-413 1374.5,-413 1374.5,-354 1374.5,-354 1374.5,-348 1380.5,-342 1386.5,-342 1386.5,-342 1508.5,-342 1508.5,-342 1514.5,-342 1520.5,-348 1520.5,-354 1520.5,-354 1520.5,-413 1520.5,-413 1520.5,-419 1514.5,-425 1508.5,-425\"/>\n<text text-anchor=\"start\" x=\"1382.5\" y=\"-409.8\" font-family=\"Helvetica,sans-Serif\" font-size=\"14.00\">BloodPressure ≤ 55.0</text>\n<text text-anchor=\"start\" x=\"1412\" y=\"-394.8\" font-family=\"Helvetica,sans-Serif\" font-size=\"14.00\">gini = 0.091</text>\n<text text-anchor=\"start\" x=\"1406.5\" y=\"-379.8\" font-family=\"Helvetica,sans-Serif\" font-size=\"14.00\">samples = 21</text>\n<text text-anchor=\"start\" x=\"1404.5\" y=\"-364.8\" font-family=\"Helvetica,sans-Serif\" font-size=\"14.00\">value = [1, 20]</text>\n<text text-anchor=\"start\" x=\"1420\" y=\"-349.8\" font-family=\"Helvetica,sans-Serif\" font-size=\"14.00\">class = 1</text>\n</g>\n<!-- 62&#45;&gt;64 -->\n<g id=\"edge64\" class=\"edge\">\n<title>62&#45;&gt;64</title>\n<path fill=\"none\" stroke=\"black\" d=\"M1447.5,-460.91C1447.5,-452.65 1447.5,-443.86 1447.5,-435.3\"/>\n<polygon fill=\"black\" stroke=\"black\" points=\"1451,-435.02 1447.5,-425.02 1444,-435.02 1451,-435.02\"/>\n</g>\n<!-- 65 -->\n<g id=\"node66\" class=\"node\">\n<title>65</title>\n<path fill=\"#e58139\" stroke=\"black\" d=\"M1388,-298.5C1388,-298.5 1317,-298.5 1317,-298.5 1311,-298.5 1305,-292.5 1305,-286.5 1305,-286.5 1305,-242.5 1305,-242.5 1305,-236.5 1311,-230.5 1317,-230.5 1317,-230.5 1388,-230.5 1388,-230.5 1394,-230.5 1400,-236.5 1400,-242.5 1400,-242.5 1400,-286.5 1400,-286.5 1400,-292.5 1394,-298.5 1388,-298.5\"/>\n<text text-anchor=\"start\" x=\"1324.5\" y=\"-283.3\" font-family=\"Helvetica,sans-Serif\" font-size=\"14.00\">gini = 0.0</text>\n<text text-anchor=\"start\" x=\"1315\" y=\"-268.3\" font-family=\"Helvetica,sans-Serif\" font-size=\"14.00\">samples = 1</text>\n<text text-anchor=\"start\" x=\"1313\" y=\"-253.3\" font-family=\"Helvetica,sans-Serif\" font-size=\"14.00\">value = [1, 0]</text>\n<text text-anchor=\"start\" x=\"1325\" y=\"-238.3\" font-family=\"Helvetica,sans-Serif\" font-size=\"14.00\">class = 0</text>\n</g>\n<!-- 64&#45;&gt;65 -->\n<g id=\"edge65\" class=\"edge\">\n<title>64&#45;&gt;65</title>\n<path fill=\"none\" stroke=\"black\" d=\"M1414.54,-341.91C1405.22,-330.43 1395.08,-317.94 1385.74,-306.44\"/>\n<polygon fill=\"black\" stroke=\"black\" points=\"1388.45,-304.22 1379.43,-298.67 1383.02,-308.64 1388.45,-304.22\"/>\n</g>\n<!-- 66 -->\n<g id=\"node67\" class=\"node\">\n<title>66</title>\n<path fill=\"#399de5\" stroke=\"black\" d=\"M1508.5,-298.5C1508.5,-298.5 1430.5,-298.5 1430.5,-298.5 1424.5,-298.5 1418.5,-292.5 1418.5,-286.5 1418.5,-286.5 1418.5,-242.5 1418.5,-242.5 1418.5,-236.5 1424.5,-230.5 1430.5,-230.5 1430.5,-230.5 1508.5,-230.5 1508.5,-230.5 1514.5,-230.5 1520.5,-236.5 1520.5,-242.5 1520.5,-242.5 1520.5,-286.5 1520.5,-286.5 1520.5,-292.5 1514.5,-298.5 1508.5,-298.5\"/>\n<text text-anchor=\"start\" x=\"1441.5\" y=\"-283.3\" font-family=\"Helvetica,sans-Serif\" font-size=\"14.00\">gini = 0.0</text>\n<text text-anchor=\"start\" x=\"1428.5\" y=\"-268.3\" font-family=\"Helvetica,sans-Serif\" font-size=\"14.00\">samples = 20</text>\n<text text-anchor=\"start\" x=\"1426.5\" y=\"-253.3\" font-family=\"Helvetica,sans-Serif\" font-size=\"14.00\">value = [0, 20]</text>\n<text text-anchor=\"start\" x=\"1442\" y=\"-238.3\" font-family=\"Helvetica,sans-Serif\" font-size=\"14.00\">class = 1</text>\n</g>\n<!-- 64&#45;&gt;66 -->\n<g id=\"edge66\" class=\"edge\">\n<title>64&#45;&gt;66</title>\n<path fill=\"none\" stroke=\"black\" d=\"M1455.13,-341.91C1457.15,-331.2 1459.32,-319.62 1461.36,-308.78\"/>\n<polygon fill=\"black\" stroke=\"black\" points=\"1464.86,-309.14 1463.26,-298.67 1457.98,-307.85 1464.86,-309.14\"/>\n</g>\n<!-- 68 -->\n<g id=\"node69\" class=\"node\">\n<title>68</title>\n<path fill=\"#eca06a\" stroke=\"black\" d=\"M1750.5,-425C1750.5,-425 1550.5,-425 1550.5,-425 1544.5,-425 1538.5,-419 1538.5,-413 1538.5,-413 1538.5,-354 1538.5,-354 1538.5,-348 1544.5,-342 1550.5,-342 1550.5,-342 1750.5,-342 1750.5,-342 1756.5,-342 1762.5,-348 1762.5,-354 1762.5,-354 1762.5,-413 1762.5,-413 1762.5,-419 1756.5,-425 1750.5,-425\"/>\n<text text-anchor=\"start\" x=\"1546.5\" y=\"-409.8\" font-family=\"Helvetica,sans-Serif\" font-size=\"14.00\">DiabetesPedigreeFunction ≤ 0.265</text>\n<text text-anchor=\"start\" x=\"1618.5\" y=\"-394.8\" font-family=\"Helvetica,sans-Serif\" font-size=\"14.00\">gini = 0.32</text>\n<text text-anchor=\"start\" x=\"1613\" y=\"-379.8\" font-family=\"Helvetica,sans-Serif\" font-size=\"14.00\">samples = 5</text>\n<text text-anchor=\"start\" x=\"1611\" y=\"-364.8\" font-family=\"Helvetica,sans-Serif\" font-size=\"14.00\">value = [4, 1]</text>\n<text text-anchor=\"start\" x=\"1623\" y=\"-349.8\" font-family=\"Helvetica,sans-Serif\" font-size=\"14.00\">class = 0</text>\n</g>\n<!-- 67&#45;&gt;68 -->\n<g id=\"edge68\" class=\"edge\">\n<title>67&#45;&gt;68</title>\n<path fill=\"none\" stroke=\"black\" d=\"M1650.5,-460.91C1650.5,-452.65 1650.5,-443.86 1650.5,-435.3\"/>\n<polygon fill=\"black\" stroke=\"black\" points=\"1654,-435.02 1650.5,-425.02 1647,-435.02 1654,-435.02\"/>\n</g>\n<!-- 71 -->\n<g id=\"node72\" class=\"node\">\n<title>71</title>\n<path fill=\"#399de5\" stroke=\"black\" d=\"M1864,-417.5C1864,-417.5 1793,-417.5 1793,-417.5 1787,-417.5 1781,-411.5 1781,-405.5 1781,-405.5 1781,-361.5 1781,-361.5 1781,-355.5 1787,-349.5 1793,-349.5 1793,-349.5 1864,-349.5 1864,-349.5 1870,-349.5 1876,-355.5 1876,-361.5 1876,-361.5 1876,-405.5 1876,-405.5 1876,-411.5 1870,-417.5 1864,-417.5\"/>\n<text text-anchor=\"start\" x=\"1800.5\" y=\"-402.3\" font-family=\"Helvetica,sans-Serif\" font-size=\"14.00\">gini = 0.0</text>\n<text text-anchor=\"start\" x=\"1791\" y=\"-387.3\" font-family=\"Helvetica,sans-Serif\" font-size=\"14.00\">samples = 1</text>\n<text text-anchor=\"start\" x=\"1789\" y=\"-372.3\" font-family=\"Helvetica,sans-Serif\" font-size=\"14.00\">value = [0, 1]</text>\n<text text-anchor=\"start\" x=\"1801\" y=\"-357.3\" font-family=\"Helvetica,sans-Serif\" font-size=\"14.00\">class = 1</text>\n</g>\n<!-- 67&#45;&gt;71 -->\n<g id=\"edge71\" class=\"edge\">\n<title>67&#45;&gt;71</title>\n<path fill=\"none\" stroke=\"black\" d=\"M1716.22,-460.85C1734.27,-449.44 1753.75,-436.91 1771.5,-425 1772.27,-424.48 1773.05,-423.96 1773.83,-423.43\"/>\n<polygon fill=\"black\" stroke=\"black\" points=\"1776.01,-426.18 1782.29,-417.64 1772.06,-420.4 1776.01,-426.18\"/>\n</g>\n<!-- 69 -->\n<g id=\"node70\" class=\"node\">\n<title>69</title>\n<path fill=\"#e58139\" stroke=\"black\" d=\"M1665,-298.5C1665,-298.5 1594,-298.5 1594,-298.5 1588,-298.5 1582,-292.5 1582,-286.5 1582,-286.5 1582,-242.5 1582,-242.5 1582,-236.5 1588,-230.5 1594,-230.5 1594,-230.5 1665,-230.5 1665,-230.5 1671,-230.5 1677,-236.5 1677,-242.5 1677,-242.5 1677,-286.5 1677,-286.5 1677,-292.5 1671,-298.5 1665,-298.5\"/>\n<text text-anchor=\"start\" x=\"1601.5\" y=\"-283.3\" font-family=\"Helvetica,sans-Serif\" font-size=\"14.00\">gini = 0.0</text>\n<text text-anchor=\"start\" x=\"1592\" y=\"-268.3\" font-family=\"Helvetica,sans-Serif\" font-size=\"14.00\">samples = 4</text>\n<text text-anchor=\"start\" x=\"1590\" y=\"-253.3\" font-family=\"Helvetica,sans-Serif\" font-size=\"14.00\">value = [4, 0]</text>\n<text text-anchor=\"start\" x=\"1602\" y=\"-238.3\" font-family=\"Helvetica,sans-Serif\" font-size=\"14.00\">class = 0</text>\n</g>\n<!-- 68&#45;&gt;69 -->\n<g id=\"edge69\" class=\"edge\">\n<title>68&#45;&gt;69</title>\n<path fill=\"none\" stroke=\"black\" d=\"M1643.21,-341.91C1641.29,-331.2 1639.21,-319.62 1637.27,-308.78\"/>\n<polygon fill=\"black\" stroke=\"black\" points=\"1640.66,-307.89 1635.45,-298.67 1633.77,-309.13 1640.66,-307.89\"/>\n</g>\n<!-- 70 -->\n<g id=\"node71\" class=\"node\">\n<title>70</title>\n<path fill=\"#399de5\" stroke=\"black\" d=\"M1778,-298.5C1778,-298.5 1707,-298.5 1707,-298.5 1701,-298.5 1695,-292.5 1695,-286.5 1695,-286.5 1695,-242.5 1695,-242.5 1695,-236.5 1701,-230.5 1707,-230.5 1707,-230.5 1778,-230.5 1778,-230.5 1784,-230.5 1790,-236.5 1790,-242.5 1790,-242.5 1790,-286.5 1790,-286.5 1790,-292.5 1784,-298.5 1778,-298.5\"/>\n<text text-anchor=\"start\" x=\"1714.5\" y=\"-283.3\" font-family=\"Helvetica,sans-Serif\" font-size=\"14.00\">gini = 0.0</text>\n<text text-anchor=\"start\" x=\"1705\" y=\"-268.3\" font-family=\"Helvetica,sans-Serif\" font-size=\"14.00\">samples = 1</text>\n<text text-anchor=\"start\" x=\"1703\" y=\"-253.3\" font-family=\"Helvetica,sans-Serif\" font-size=\"14.00\">value = [0, 1]</text>\n<text text-anchor=\"start\" x=\"1715\" y=\"-238.3\" font-family=\"Helvetica,sans-Serif\" font-size=\"14.00\">class = 1</text>\n</g>\n<!-- 68&#45;&gt;70 -->\n<g id=\"edge70\" class=\"edge\">\n<title>68&#45;&gt;70</title>\n<path fill=\"none\" stroke=\"black\" d=\"M1682.42,-341.91C1691.36,-330.54 1701.08,-318.18 1710.05,-306.77\"/>\n<polygon fill=\"black\" stroke=\"black\" points=\"1712.99,-308.69 1716.42,-298.67 1707.49,-304.36 1712.99,-308.69\"/>\n</g>\n<!-- 73 -->\n<g id=\"node74\" class=\"node\">\n<title>73</title>\n<path fill=\"#e58139\" stroke=\"black\" d=\"M1824,-536.5C1824,-536.5 1753,-536.5 1753,-536.5 1747,-536.5 1741,-530.5 1741,-524.5 1741,-524.5 1741,-480.5 1741,-480.5 1741,-474.5 1747,-468.5 1753,-468.5 1753,-468.5 1824,-468.5 1824,-468.5 1830,-468.5 1836,-474.5 1836,-480.5 1836,-480.5 1836,-524.5 1836,-524.5 1836,-530.5 1830,-536.5 1824,-536.5\"/>\n<text text-anchor=\"start\" x=\"1760.5\" y=\"-521.3\" font-family=\"Helvetica,sans-Serif\" font-size=\"14.00\">gini = 0.0</text>\n<text text-anchor=\"start\" x=\"1751\" y=\"-506.3\" font-family=\"Helvetica,sans-Serif\" font-size=\"14.00\">samples = 4</text>\n<text text-anchor=\"start\" x=\"1749\" y=\"-491.3\" font-family=\"Helvetica,sans-Serif\" font-size=\"14.00\">value = [4, 0]</text>\n<text text-anchor=\"start\" x=\"1761\" y=\"-476.3\" font-family=\"Helvetica,sans-Serif\" font-size=\"14.00\">class = 0</text>\n</g>\n<!-- 72&#45;&gt;73 -->\n<g id=\"edge73\" class=\"edge\">\n<title>72&#45;&gt;73</title>\n<path fill=\"none\" stroke=\"black\" d=\"M1788.5,-579.91C1788.5,-569.2 1788.5,-557.62 1788.5,-546.78\"/>\n<polygon fill=\"black\" stroke=\"black\" points=\"1792,-546.67 1788.5,-536.67 1785,-546.67 1792,-546.67\"/>\n</g>\n<!-- 74 -->\n<g id=\"node75\" class=\"node\">\n<title>74</title>\n<path fill=\"#399de5\" stroke=\"black\" d=\"M1937,-536.5C1937,-536.5 1866,-536.5 1866,-536.5 1860,-536.5 1854,-530.5 1854,-524.5 1854,-524.5 1854,-480.5 1854,-480.5 1854,-474.5 1860,-468.5 1866,-468.5 1866,-468.5 1937,-468.5 1937,-468.5 1943,-468.5 1949,-474.5 1949,-480.5 1949,-480.5 1949,-524.5 1949,-524.5 1949,-530.5 1943,-536.5 1937,-536.5\"/>\n<text text-anchor=\"start\" x=\"1873.5\" y=\"-521.3\" font-family=\"Helvetica,sans-Serif\" font-size=\"14.00\">gini = 0.0</text>\n<text text-anchor=\"start\" x=\"1864\" y=\"-506.3\" font-family=\"Helvetica,sans-Serif\" font-size=\"14.00\">samples = 2</text>\n<text text-anchor=\"start\" x=\"1862\" y=\"-491.3\" font-family=\"Helvetica,sans-Serif\" font-size=\"14.00\">value = [0, 2]</text>\n<text text-anchor=\"start\" x=\"1874\" y=\"-476.3\" font-family=\"Helvetica,sans-Serif\" font-size=\"14.00\">class = 1</text>\n</g>\n<!-- 72&#45;&gt;74 -->\n<g id=\"edge74\" class=\"edge\">\n<title>72&#45;&gt;74</title>\n<path fill=\"none\" stroke=\"black\" d=\"M1827.7,-579.91C1838.89,-568.32 1851.09,-555.7 1862.28,-544.11\"/>\n<polygon fill=\"black\" stroke=\"black\" points=\"1865.04,-546.29 1869.47,-536.67 1860,-541.43 1865.04,-546.29\"/>\n</g>\n<!-- 76 -->\n<g id=\"node77\" class=\"node\">\n<title>76</title>\n<path fill=\"#e58139\" stroke=\"black\" d=\"M1959.5,-655.5C1959.5,-655.5 1881.5,-655.5 1881.5,-655.5 1875.5,-655.5 1869.5,-649.5 1869.5,-643.5 1869.5,-643.5 1869.5,-599.5 1869.5,-599.5 1869.5,-593.5 1875.5,-587.5 1881.5,-587.5 1881.5,-587.5 1959.5,-587.5 1959.5,-587.5 1965.5,-587.5 1971.5,-593.5 1971.5,-599.5 1971.5,-599.5 1971.5,-643.5 1971.5,-643.5 1971.5,-649.5 1965.5,-655.5 1959.5,-655.5\"/>\n<text text-anchor=\"start\" x=\"1892.5\" y=\"-640.3\" font-family=\"Helvetica,sans-Serif\" font-size=\"14.00\">gini = 0.0</text>\n<text text-anchor=\"start\" x=\"1879.5\" y=\"-625.3\" font-family=\"Helvetica,sans-Serif\" font-size=\"14.00\">samples = 10</text>\n<text text-anchor=\"start\" x=\"1877.5\" y=\"-610.3\" font-family=\"Helvetica,sans-Serif\" font-size=\"14.00\">value = [10, 0]</text>\n<text text-anchor=\"start\" x=\"1893\" y=\"-595.3\" font-family=\"Helvetica,sans-Serif\" font-size=\"14.00\">class = 0</text>\n</g>\n<!-- 75&#45;&gt;76 -->\n<g id=\"edge76\" class=\"edge\">\n<title>75&#45;&gt;76</title>\n<path fill=\"none\" stroke=\"black\" d=\"M1966.21,-698.91C1959.55,-687.76 1952.3,-675.66 1945.59,-664.44\"/>\n<polygon fill=\"black\" stroke=\"black\" points=\"1948.48,-662.45 1940.34,-655.67 1942.47,-666.05 1948.48,-662.45\"/>\n</g>\n<!-- 77 -->\n<g id=\"node78\" class=\"node\">\n<title>77</title>\n<path fill=\"#399de5\" stroke=\"black\" d=\"M2073,-655.5C2073,-655.5 2002,-655.5 2002,-655.5 1996,-655.5 1990,-649.5 1990,-643.5 1990,-643.5 1990,-599.5 1990,-599.5 1990,-593.5 1996,-587.5 2002,-587.5 2002,-587.5 2073,-587.5 2073,-587.5 2079,-587.5 2085,-593.5 2085,-599.5 2085,-599.5 2085,-643.5 2085,-643.5 2085,-649.5 2079,-655.5 2073,-655.5\"/>\n<text text-anchor=\"start\" x=\"2009.5\" y=\"-640.3\" font-family=\"Helvetica,sans-Serif\" font-size=\"14.00\">gini = 0.0</text>\n<text text-anchor=\"start\" x=\"2000\" y=\"-625.3\" font-family=\"Helvetica,sans-Serif\" font-size=\"14.00\">samples = 1</text>\n<text text-anchor=\"start\" x=\"1998\" y=\"-610.3\" font-family=\"Helvetica,sans-Serif\" font-size=\"14.00\">value = [0, 1]</text>\n<text text-anchor=\"start\" x=\"2010\" y=\"-595.3\" font-family=\"Helvetica,sans-Serif\" font-size=\"14.00\">class = 1</text>\n</g>\n<!-- 75&#45;&gt;77 -->\n<g id=\"edge77\" class=\"edge\">\n<title>75&#45;&gt;77</title>\n<path fill=\"none\" stroke=\"black\" d=\"M2006.81,-698.91C2011.19,-687.98 2015.95,-676.14 2020.38,-665.11\"/>\n<polygon fill=\"black\" stroke=\"black\" points=\"2023.7,-666.25 2024.18,-655.67 2017.2,-663.64 2023.7,-666.25\"/>\n</g>\n<!-- 79 -->\n<g id=\"node80\" class=\"node\">\n<title>79</title>\n<path fill=\"#ea985d\" stroke=\"black\" d=\"M2236.5,-782C2236.5,-782 2114.5,-782 2114.5,-782 2108.5,-782 2102.5,-776 2102.5,-770 2102.5,-770 2102.5,-711 2102.5,-711 2102.5,-705 2108.5,-699 2114.5,-699 2114.5,-699 2236.5,-699 2236.5,-699 2242.5,-699 2248.5,-705 2248.5,-711 2248.5,-711 2248.5,-770 2248.5,-770 2248.5,-776 2242.5,-782 2236.5,-782\"/>\n<text text-anchor=\"start\" x=\"2110.5\" y=\"-766.8\" font-family=\"Helvetica,sans-Serif\" font-size=\"14.00\">BloodPressure ≤ 67.0</text>\n<text text-anchor=\"start\" x=\"2143.5\" y=\"-751.8\" font-family=\"Helvetica,sans-Serif\" font-size=\"14.00\">gini = 0.26</text>\n<text text-anchor=\"start\" x=\"2134.5\" y=\"-736.8\" font-family=\"Helvetica,sans-Serif\" font-size=\"14.00\">samples = 26</text>\n<text text-anchor=\"start\" x=\"2132.5\" y=\"-721.8\" font-family=\"Helvetica,sans-Serif\" font-size=\"14.00\">value = [22, 4]</text>\n<text text-anchor=\"start\" x=\"2148\" y=\"-706.8\" font-family=\"Helvetica,sans-Serif\" font-size=\"14.00\">class = 0</text>\n</g>\n<!-- 78&#45;&gt;79 -->\n<g id=\"edge79\" class=\"edge\">\n<title>78&#45;&gt;79</title>\n<path fill=\"none\" stroke=\"black\" d=\"M2175.5,-817.91C2175.5,-809.65 2175.5,-800.86 2175.5,-792.3\"/>\n<polygon fill=\"black\" stroke=\"black\" points=\"2179,-792.02 2175.5,-782.02 2172,-792.02 2179,-792.02\"/>\n</g>\n<!-- 90 -->\n<g id=\"node91\" class=\"node\">\n<title>90</title>\n<path fill=\"#399de5\" stroke=\"black\" d=\"M2350,-774.5C2350,-774.5 2279,-774.5 2279,-774.5 2273,-774.5 2267,-768.5 2267,-762.5 2267,-762.5 2267,-718.5 2267,-718.5 2267,-712.5 2273,-706.5 2279,-706.5 2279,-706.5 2350,-706.5 2350,-706.5 2356,-706.5 2362,-712.5 2362,-718.5 2362,-718.5 2362,-762.5 2362,-762.5 2362,-768.5 2356,-774.5 2350,-774.5\"/>\n<text text-anchor=\"start\" x=\"2286.5\" y=\"-759.3\" font-family=\"Helvetica,sans-Serif\" font-size=\"14.00\">gini = 0.0</text>\n<text text-anchor=\"start\" x=\"2277\" y=\"-744.3\" font-family=\"Helvetica,sans-Serif\" font-size=\"14.00\">samples = 2</text>\n<text text-anchor=\"start\" x=\"2275\" y=\"-729.3\" font-family=\"Helvetica,sans-Serif\" font-size=\"14.00\">value = [0, 2]</text>\n<text text-anchor=\"start\" x=\"2287\" y=\"-714.3\" font-family=\"Helvetica,sans-Serif\" font-size=\"14.00\">class = 1</text>\n</g>\n<!-- 78&#45;&gt;90 -->\n<g id=\"edge90\" class=\"edge\">\n<title>78&#45;&gt;90</title>\n<path fill=\"none\" stroke=\"black\" d=\"M2223.73,-817.91C2237.88,-805.99 2253.35,-792.98 2267.43,-781.12\"/>\n<polygon fill=\"black\" stroke=\"black\" points=\"2269.7,-783.78 2275.1,-774.67 2265.19,-778.43 2269.7,-783.78\"/>\n</g>\n<!-- 80 -->\n<g id=\"node81\" class=\"node\">\n<title>80</title>\n<path fill=\"#ffffff\" stroke=\"black\" d=\"M2236,-663C2236,-663 2115,-663 2115,-663 2109,-663 2103,-657 2103,-651 2103,-651 2103,-592 2103,-592 2103,-586 2109,-580 2115,-580 2115,-580 2236,-580 2236,-580 2242,-580 2248,-586 2248,-592 2248,-592 2248,-651 2248,-651 2248,-657 2242,-663 2236,-663\"/>\n<text text-anchor=\"start\" x=\"2111\" y=\"-647.8\" font-family=\"Helvetica,sans-Serif\" font-size=\"14.00\">SkinThickness ≤ 29.5</text>\n<text text-anchor=\"start\" x=\"2147.5\" y=\"-632.8\" font-family=\"Helvetica,sans-Serif\" font-size=\"14.00\">gini = 0.5</text>\n<text text-anchor=\"start\" x=\"2138\" y=\"-617.8\" font-family=\"Helvetica,sans-Serif\" font-size=\"14.00\">samples = 6</text>\n<text text-anchor=\"start\" x=\"2136\" y=\"-602.8\" font-family=\"Helvetica,sans-Serif\" font-size=\"14.00\">value = [3, 3]</text>\n<text text-anchor=\"start\" x=\"2148\" y=\"-587.8\" font-family=\"Helvetica,sans-Serif\" font-size=\"14.00\">class = 0</text>\n</g>\n<!-- 79&#45;&gt;80 -->\n<g id=\"edge80\" class=\"edge\">\n<title>79&#45;&gt;80</title>\n<path fill=\"none\" stroke=\"black\" d=\"M2175.5,-698.91C2175.5,-690.65 2175.5,-681.86 2175.5,-673.3\"/>\n<polygon fill=\"black\" stroke=\"black\" points=\"2179,-673.02 2175.5,-663.02 2172,-673.02 2179,-673.02\"/>\n</g>\n<!-- 85 -->\n<g id=\"node86\" class=\"node\">\n<title>85</title>\n<path fill=\"#e68843\" stroke=\"black\" d=\"M2358.5,-663C2358.5,-663 2278.5,-663 2278.5,-663 2272.5,-663 2266.5,-657 2266.5,-651 2266.5,-651 2266.5,-592 2266.5,-592 2266.5,-586 2272.5,-580 2278.5,-580 2278.5,-580 2358.5,-580 2358.5,-580 2364.5,-580 2370.5,-586 2370.5,-592 2370.5,-592 2370.5,-651 2370.5,-651 2370.5,-657 2364.5,-663 2358.5,-663\"/>\n<text text-anchor=\"start\" x=\"2274.5\" y=\"-647.8\" font-family=\"Helvetica,sans-Serif\" font-size=\"14.00\">Insulin ≤ 155.0</text>\n<text text-anchor=\"start\" x=\"2283\" y=\"-632.8\" font-family=\"Helvetica,sans-Serif\" font-size=\"14.00\">gini = 0.095</text>\n<text text-anchor=\"start\" x=\"2277.5\" y=\"-617.8\" font-family=\"Helvetica,sans-Serif\" font-size=\"14.00\">samples = 20</text>\n<text text-anchor=\"start\" x=\"2275.5\" y=\"-602.8\" font-family=\"Helvetica,sans-Serif\" font-size=\"14.00\">value = [19, 1]</text>\n<text text-anchor=\"start\" x=\"2291\" y=\"-587.8\" font-family=\"Helvetica,sans-Serif\" font-size=\"14.00\">class = 0</text>\n</g>\n<!-- 79&#45;&gt;85 -->\n<g id=\"edge85\" class=\"edge\">\n<title>79&#45;&gt;85</title>\n<path fill=\"none\" stroke=\"black\" d=\"M2225.11,-698.91C2236.76,-689.38 2249.26,-679.15 2261.21,-669.37\"/>\n<polygon fill=\"black\" stroke=\"black\" points=\"2263.45,-672.06 2268.97,-663.02 2259.02,-666.64 2263.45,-672.06\"/>\n</g>\n<!-- 81 -->\n<g id=\"node82\" class=\"node\">\n<title>81</title>\n<path fill=\"#e58139\" stroke=\"black\" d=\"M2074,-536.5C2074,-536.5 2003,-536.5 2003,-536.5 1997,-536.5 1991,-530.5 1991,-524.5 1991,-524.5 1991,-480.5 1991,-480.5 1991,-474.5 1997,-468.5 2003,-468.5 2003,-468.5 2074,-468.5 2074,-468.5 2080,-468.5 2086,-474.5 2086,-480.5 2086,-480.5 2086,-524.5 2086,-524.5 2086,-530.5 2080,-536.5 2074,-536.5\"/>\n<text text-anchor=\"start\" x=\"2010.5\" y=\"-521.3\" font-family=\"Helvetica,sans-Serif\" font-size=\"14.00\">gini = 0.0</text>\n<text text-anchor=\"start\" x=\"2001\" y=\"-506.3\" font-family=\"Helvetica,sans-Serif\" font-size=\"14.00\">samples = 2</text>\n<text text-anchor=\"start\" x=\"1999\" y=\"-491.3\" font-family=\"Helvetica,sans-Serif\" font-size=\"14.00\">value = [2, 0]</text>\n<text text-anchor=\"start\" x=\"2011\" y=\"-476.3\" font-family=\"Helvetica,sans-Serif\" font-size=\"14.00\">class = 0</text>\n</g>\n<!-- 80&#45;&gt;81 -->\n<g id=\"edge81\" class=\"edge\">\n<title>80&#45;&gt;81</title>\n<path fill=\"none\" stroke=\"black\" d=\"M2127.97,-579.91C2114.14,-568.1 2099.06,-555.22 2085.28,-543.45\"/>\n<polygon fill=\"black\" stroke=\"black\" points=\"2087.21,-540.5 2077.34,-536.67 2082.67,-545.82 2087.21,-540.5\"/>\n</g>\n<!-- 82 -->\n<g id=\"node83\" class=\"node\">\n<title>82</title>\n<path fill=\"#7bbeee\" stroke=\"black\" d=\"M2187,-544C2187,-544 2116,-544 2116,-544 2110,-544 2104,-538 2104,-532 2104,-532 2104,-473 2104,-473 2104,-467 2110,-461 2116,-461 2116,-461 2187,-461 2187,-461 2193,-461 2199,-467 2199,-473 2199,-473 2199,-532 2199,-532 2199,-538 2193,-544 2187,-544\"/>\n<text text-anchor=\"start\" x=\"2118\" y=\"-528.8\" font-family=\"Helvetica,sans-Serif\" font-size=\"14.00\">BMI ≤ 41.2</text>\n<text text-anchor=\"start\" x=\"2116\" y=\"-513.8\" font-family=\"Helvetica,sans-Serif\" font-size=\"14.00\">gini = 0.375</text>\n<text text-anchor=\"start\" x=\"2114\" y=\"-498.8\" font-family=\"Helvetica,sans-Serif\" font-size=\"14.00\">samples = 4</text>\n<text text-anchor=\"start\" x=\"2112\" y=\"-483.8\" font-family=\"Helvetica,sans-Serif\" font-size=\"14.00\">value = [1, 3]</text>\n<text text-anchor=\"start\" x=\"2124\" y=\"-468.8\" font-family=\"Helvetica,sans-Serif\" font-size=\"14.00\">class = 1</text>\n</g>\n<!-- 80&#45;&gt;82 -->\n<g id=\"edge82\" class=\"edge\">\n<title>80&#45;&gt;82</title>\n<path fill=\"none\" stroke=\"black\" d=\"M2167.17,-579.91C2165.46,-571.56 2163.64,-562.67 2161.86,-554.02\"/>\n<polygon fill=\"black\" stroke=\"black\" points=\"2165.25,-553.11 2159.81,-544.02 2158.39,-554.52 2165.25,-553.11\"/>\n</g>\n<!-- 83 -->\n<g id=\"node84\" class=\"node\">\n<title>83</title>\n<path fill=\"#399de5\" stroke=\"black\" d=\"M2130,-417.5C2130,-417.5 2059,-417.5 2059,-417.5 2053,-417.5 2047,-411.5 2047,-405.5 2047,-405.5 2047,-361.5 2047,-361.5 2047,-355.5 2053,-349.5 2059,-349.5 2059,-349.5 2130,-349.5 2130,-349.5 2136,-349.5 2142,-355.5 2142,-361.5 2142,-361.5 2142,-405.5 2142,-405.5 2142,-411.5 2136,-417.5 2130,-417.5\"/>\n<text text-anchor=\"start\" x=\"2066.5\" y=\"-402.3\" font-family=\"Helvetica,sans-Serif\" font-size=\"14.00\">gini = 0.0</text>\n<text text-anchor=\"start\" x=\"2057\" y=\"-387.3\" font-family=\"Helvetica,sans-Serif\" font-size=\"14.00\">samples = 3</text>\n<text text-anchor=\"start\" x=\"2055\" y=\"-372.3\" font-family=\"Helvetica,sans-Serif\" font-size=\"14.00\">value = [0, 3]</text>\n<text text-anchor=\"start\" x=\"2067\" y=\"-357.3\" font-family=\"Helvetica,sans-Serif\" font-size=\"14.00\">class = 1</text>\n</g>\n<!-- 82&#45;&gt;83 -->\n<g id=\"edge83\" class=\"edge\">\n<title>82&#45;&gt;83</title>\n<path fill=\"none\" stroke=\"black\" d=\"M2131.72,-460.91C2126.35,-449.87 2120.51,-437.9 2115.09,-426.77\"/>\n<polygon fill=\"black\" stroke=\"black\" points=\"2118.18,-425.12 2110.66,-417.67 2111.89,-428.19 2118.18,-425.12\"/>\n</g>\n<!-- 84 -->\n<g id=\"node85\" class=\"node\">\n<title>84</title>\n<path fill=\"#e58139\" stroke=\"black\" d=\"M2243,-417.5C2243,-417.5 2172,-417.5 2172,-417.5 2166,-417.5 2160,-411.5 2160,-405.5 2160,-405.5 2160,-361.5 2160,-361.5 2160,-355.5 2166,-349.5 2172,-349.5 2172,-349.5 2243,-349.5 2243,-349.5 2249,-349.5 2255,-355.5 2255,-361.5 2255,-361.5 2255,-405.5 2255,-405.5 2255,-411.5 2249,-417.5 2243,-417.5\"/>\n<text text-anchor=\"start\" x=\"2179.5\" y=\"-402.3\" font-family=\"Helvetica,sans-Serif\" font-size=\"14.00\">gini = 0.0</text>\n<text text-anchor=\"start\" x=\"2170\" y=\"-387.3\" font-family=\"Helvetica,sans-Serif\" font-size=\"14.00\">samples = 1</text>\n<text text-anchor=\"start\" x=\"2168\" y=\"-372.3\" font-family=\"Helvetica,sans-Serif\" font-size=\"14.00\">value = [1, 0]</text>\n<text text-anchor=\"start\" x=\"2180\" y=\"-357.3\" font-family=\"Helvetica,sans-Serif\" font-size=\"14.00\">class = 0</text>\n</g>\n<!-- 82&#45;&gt;84 -->\n<g id=\"edge84\" class=\"edge\">\n<title>82&#45;&gt;84</title>\n<path fill=\"none\" stroke=\"black\" d=\"M2170.93,-460.91C2176.21,-449.87 2181.94,-437.9 2187.27,-426.77\"/>\n<polygon fill=\"black\" stroke=\"black\" points=\"2190.46,-428.2 2191.63,-417.67 2184.15,-425.18 2190.46,-428.2\"/>\n</g>\n<!-- 86 -->\n<g id=\"node87\" class=\"node\">\n<title>86</title>\n<path fill=\"#e58139\" stroke=\"black\" d=\"M2307.5,-536.5C2307.5,-536.5 2229.5,-536.5 2229.5,-536.5 2223.5,-536.5 2217.5,-530.5 2217.5,-524.5 2217.5,-524.5 2217.5,-480.5 2217.5,-480.5 2217.5,-474.5 2223.5,-468.5 2229.5,-468.5 2229.5,-468.5 2307.5,-468.5 2307.5,-468.5 2313.5,-468.5 2319.5,-474.5 2319.5,-480.5 2319.5,-480.5 2319.5,-524.5 2319.5,-524.5 2319.5,-530.5 2313.5,-536.5 2307.5,-536.5\"/>\n<text text-anchor=\"start\" x=\"2240.5\" y=\"-521.3\" font-family=\"Helvetica,sans-Serif\" font-size=\"14.00\">gini = 0.0</text>\n<text text-anchor=\"start\" x=\"2227.5\" y=\"-506.3\" font-family=\"Helvetica,sans-Serif\" font-size=\"14.00\">samples = 18</text>\n<text text-anchor=\"start\" x=\"2225.5\" y=\"-491.3\" font-family=\"Helvetica,sans-Serif\" font-size=\"14.00\">value = [18, 0]</text>\n<text text-anchor=\"start\" x=\"2241\" y=\"-476.3\" font-family=\"Helvetica,sans-Serif\" font-size=\"14.00\">class = 0</text>\n</g>\n<!-- 85&#45;&gt;86 -->\n<g id=\"edge86\" class=\"edge\">\n<title>85&#45;&gt;86</title>\n<path fill=\"none\" stroke=\"black\" d=\"M2301.15,-579.91C2296.48,-568.98 2291.42,-557.14 2286.71,-546.11\"/>\n<polygon fill=\"black\" stroke=\"black\" points=\"2289.82,-544.49 2282.67,-536.67 2283.39,-547.24 2289.82,-544.49\"/>\n</g>\n<!-- 87 -->\n<g id=\"node88\" class=\"node\">\n<title>87</title>\n<path fill=\"#ffffff\" stroke=\"black\" d=\"M2471,-544C2471,-544 2350,-544 2350,-544 2344,-544 2338,-538 2338,-532 2338,-532 2338,-473 2338,-473 2338,-467 2344,-461 2350,-461 2350,-461 2471,-461 2471,-461 2477,-461 2483,-467 2483,-473 2483,-473 2483,-532 2483,-532 2483,-538 2477,-544 2471,-544\"/>\n<text text-anchor=\"start\" x=\"2346\" y=\"-528.8\" font-family=\"Helvetica,sans-Serif\" font-size=\"14.00\">SkinThickness ≤ 32.5</text>\n<text text-anchor=\"start\" x=\"2382.5\" y=\"-513.8\" font-family=\"Helvetica,sans-Serif\" font-size=\"14.00\">gini = 0.5</text>\n<text text-anchor=\"start\" x=\"2373\" y=\"-498.8\" font-family=\"Helvetica,sans-Serif\" font-size=\"14.00\">samples = 2</text>\n<text text-anchor=\"start\" x=\"2371\" y=\"-483.8\" font-family=\"Helvetica,sans-Serif\" font-size=\"14.00\">value = [1, 1]</text>\n<text text-anchor=\"start\" x=\"2383\" y=\"-468.8\" font-family=\"Helvetica,sans-Serif\" font-size=\"14.00\">class = 0</text>\n</g>\n<!-- 85&#45;&gt;87 -->\n<g id=\"edge87\" class=\"edge\">\n<title>85&#45;&gt;87</title>\n<path fill=\"none\" stroke=\"black\" d=\"M2350.42,-579.91C2357.48,-570.92 2365.04,-561.32 2372.32,-552.05\"/>\n<polygon fill=\"black\" stroke=\"black\" points=\"2375.21,-554.05 2378.64,-544.02 2369.7,-549.72 2375.21,-554.05\"/>\n</g>\n<!-- 88 -->\n<g id=\"node89\" class=\"node\">\n<title>88</title>\n<path fill=\"#399de5\" stroke=\"black\" d=\"M2401,-417.5C2401,-417.5 2330,-417.5 2330,-417.5 2324,-417.5 2318,-411.5 2318,-405.5 2318,-405.5 2318,-361.5 2318,-361.5 2318,-355.5 2324,-349.5 2330,-349.5 2330,-349.5 2401,-349.5 2401,-349.5 2407,-349.5 2413,-355.5 2413,-361.5 2413,-361.5 2413,-405.5 2413,-405.5 2413,-411.5 2407,-417.5 2401,-417.5\"/>\n<text text-anchor=\"start\" x=\"2337.5\" y=\"-402.3\" font-family=\"Helvetica,sans-Serif\" font-size=\"14.00\">gini = 0.0</text>\n<text text-anchor=\"start\" x=\"2328\" y=\"-387.3\" font-family=\"Helvetica,sans-Serif\" font-size=\"14.00\">samples = 1</text>\n<text text-anchor=\"start\" x=\"2326\" y=\"-372.3\" font-family=\"Helvetica,sans-Serif\" font-size=\"14.00\">value = [0, 1]</text>\n<text text-anchor=\"start\" x=\"2338\" y=\"-357.3\" font-family=\"Helvetica,sans-Serif\" font-size=\"14.00\">class = 1</text>\n</g>\n<!-- 87&#45;&gt;88 -->\n<g id=\"edge88\" class=\"edge\">\n<title>87&#45;&gt;88</title>\n<path fill=\"none\" stroke=\"black\" d=\"M2394.89,-460.91C2390.69,-449.98 2386.13,-438.14 2381.89,-427.11\"/>\n<polygon fill=\"black\" stroke=\"black\" points=\"2385.11,-425.74 2378.26,-417.67 2378.58,-428.26 2385.11,-425.74\"/>\n</g>\n<!-- 89 -->\n<g id=\"node90\" class=\"node\">\n<title>89</title>\n<path fill=\"#e58139\" stroke=\"black\" d=\"M2514,-417.5C2514,-417.5 2443,-417.5 2443,-417.5 2437,-417.5 2431,-411.5 2431,-405.5 2431,-405.5 2431,-361.5 2431,-361.5 2431,-355.5 2437,-349.5 2443,-349.5 2443,-349.5 2514,-349.5 2514,-349.5 2520,-349.5 2526,-355.5 2526,-361.5 2526,-361.5 2526,-405.5 2526,-405.5 2526,-411.5 2520,-417.5 2514,-417.5\"/>\n<text text-anchor=\"start\" x=\"2450.5\" y=\"-402.3\" font-family=\"Helvetica,sans-Serif\" font-size=\"14.00\">gini = 0.0</text>\n<text text-anchor=\"start\" x=\"2441\" y=\"-387.3\" font-family=\"Helvetica,sans-Serif\" font-size=\"14.00\">samples = 1</text>\n<text text-anchor=\"start\" x=\"2439\" y=\"-372.3\" font-family=\"Helvetica,sans-Serif\" font-size=\"14.00\">value = [1, 0]</text>\n<text text-anchor=\"start\" x=\"2451\" y=\"-357.3\" font-family=\"Helvetica,sans-Serif\" font-size=\"14.00\">class = 0</text>\n</g>\n<!-- 87&#45;&gt;89 -->\n<g id=\"edge89\" class=\"edge\">\n<title>87&#45;&gt;89</title>\n<path fill=\"none\" stroke=\"black\" d=\"M2434.09,-460.91C2440.57,-449.76 2447.6,-437.66 2454.13,-426.44\"/>\n<polygon fill=\"black\" stroke=\"black\" points=\"2457.22,-428.07 2459.22,-417.67 2451.17,-424.55 2457.22,-428.07\"/>\n</g>\n<!-- 92 -->\n<g id=\"node93\" class=\"node\">\n<title>92</title>\n<path fill=\"#c9e4f8\" stroke=\"black\" d=\"M2653,-901C2653,-901 2532,-901 2532,-901 2526,-901 2520,-895 2520,-889 2520,-889 2520,-830 2520,-830 2520,-824 2526,-818 2532,-818 2532,-818 2653,-818 2653,-818 2659,-818 2665,-824 2665,-830 2665,-830 2665,-889 2665,-889 2665,-895 2659,-901 2653,-901\"/>\n<text text-anchor=\"start\" x=\"2528\" y=\"-885.8\" font-family=\"Helvetica,sans-Serif\" font-size=\"14.00\">SkinThickness ≤ 47.5</text>\n<text text-anchor=\"start\" x=\"2557\" y=\"-870.8\" font-family=\"Helvetica,sans-Serif\" font-size=\"14.00\">gini = 0.488</text>\n<text text-anchor=\"start\" x=\"2551.5\" y=\"-855.8\" font-family=\"Helvetica,sans-Serif\" font-size=\"14.00\">samples = 19</text>\n<text text-anchor=\"start\" x=\"2549.5\" y=\"-840.8\" font-family=\"Helvetica,sans-Serif\" font-size=\"14.00\">value = [8, 11]</text>\n<text text-anchor=\"start\" x=\"2565\" y=\"-825.8\" font-family=\"Helvetica,sans-Serif\" font-size=\"14.00\">class = 1</text>\n</g>\n<!-- 91&#45;&gt;92 -->\n<g id=\"edge92\" class=\"edge\">\n<title>91&#45;&gt;92</title>\n<path fill=\"none\" stroke=\"black\" d=\"M2592.5,-936.91C2592.5,-928.65 2592.5,-919.86 2592.5,-911.3\"/>\n<polygon fill=\"black\" stroke=\"black\" points=\"2596,-911.02 2592.5,-901.02 2589,-911.02 2596,-911.02\"/>\n</g>\n<!-- 105 -->\n<g id=\"node106\" class=\"node\">\n<title>105</title>\n<path fill=\"#399de5\" stroke=\"black\" d=\"M2773.5,-893.5C2773.5,-893.5 2695.5,-893.5 2695.5,-893.5 2689.5,-893.5 2683.5,-887.5 2683.5,-881.5 2683.5,-881.5 2683.5,-837.5 2683.5,-837.5 2683.5,-831.5 2689.5,-825.5 2695.5,-825.5 2695.5,-825.5 2773.5,-825.5 2773.5,-825.5 2779.5,-825.5 2785.5,-831.5 2785.5,-837.5 2785.5,-837.5 2785.5,-881.5 2785.5,-881.5 2785.5,-887.5 2779.5,-893.5 2773.5,-893.5\"/>\n<text text-anchor=\"start\" x=\"2706.5\" y=\"-878.3\" font-family=\"Helvetica,sans-Serif\" font-size=\"14.00\">gini = 0.0</text>\n<text text-anchor=\"start\" x=\"2693.5\" y=\"-863.3\" font-family=\"Helvetica,sans-Serif\" font-size=\"14.00\">samples = 12</text>\n<text text-anchor=\"start\" x=\"2691.5\" y=\"-848.3\" font-family=\"Helvetica,sans-Serif\" font-size=\"14.00\">value = [0, 12]</text>\n<text text-anchor=\"start\" x=\"2707\" y=\"-833.3\" font-family=\"Helvetica,sans-Serif\" font-size=\"14.00\">class = 1</text>\n</g>\n<!-- 91&#45;&gt;105 -->\n<g id=\"edge105\" class=\"edge\">\n<title>91&#45;&gt;105</title>\n<path fill=\"none\" stroke=\"black\" d=\"M2641.77,-936.91C2656.23,-924.99 2672.03,-911.98 2686.41,-900.12\"/>\n<polygon fill=\"black\" stroke=\"black\" points=\"2688.75,-902.73 2694.25,-893.67 2684.3,-897.32 2688.75,-902.73\"/>\n</g>\n<!-- 93 -->\n<g id=\"node94\" class=\"node\">\n<title>93</title>\n<path fill=\"#a5d2f3\" stroke=\"black\" d=\"M2653.5,-782C2653.5,-782 2531.5,-782 2531.5,-782 2525.5,-782 2519.5,-776 2519.5,-770 2519.5,-770 2519.5,-711 2519.5,-711 2519.5,-705 2525.5,-699 2531.5,-699 2531.5,-699 2653.5,-699 2653.5,-699 2659.5,-699 2665.5,-705 2665.5,-711 2665.5,-711 2665.5,-770 2665.5,-770 2665.5,-776 2659.5,-782 2653.5,-782\"/>\n<text text-anchor=\"start\" x=\"2527.5\" y=\"-766.8\" font-family=\"Helvetica,sans-Serif\" font-size=\"14.00\">BloodPressure ≤ 69.0</text>\n<text text-anchor=\"start\" x=\"2557\" y=\"-751.8\" font-family=\"Helvetica,sans-Serif\" font-size=\"14.00\">gini = 0.457</text>\n<text text-anchor=\"start\" x=\"2551.5\" y=\"-736.8\" font-family=\"Helvetica,sans-Serif\" font-size=\"14.00\">samples = 17</text>\n<text text-anchor=\"start\" x=\"2549.5\" y=\"-721.8\" font-family=\"Helvetica,sans-Serif\" font-size=\"14.00\">value = [6, 11]</text>\n<text text-anchor=\"start\" x=\"2565\" y=\"-706.8\" font-family=\"Helvetica,sans-Serif\" font-size=\"14.00\">class = 1</text>\n</g>\n<!-- 92&#45;&gt;93 -->\n<g id=\"edge93\" class=\"edge\">\n<title>92&#45;&gt;93</title>\n<path fill=\"none\" stroke=\"black\" d=\"M2592.5,-817.91C2592.5,-809.65 2592.5,-800.86 2592.5,-792.3\"/>\n<polygon fill=\"black\" stroke=\"black\" points=\"2596,-792.02 2592.5,-782.02 2589,-792.02 2596,-792.02\"/>\n</g>\n<!-- 104 -->\n<g id=\"node105\" class=\"node\">\n<title>104</title>\n<path fill=\"#e58139\" stroke=\"black\" d=\"M2767,-774.5C2767,-774.5 2696,-774.5 2696,-774.5 2690,-774.5 2684,-768.5 2684,-762.5 2684,-762.5 2684,-718.5 2684,-718.5 2684,-712.5 2690,-706.5 2696,-706.5 2696,-706.5 2767,-706.5 2767,-706.5 2773,-706.5 2779,-712.5 2779,-718.5 2779,-718.5 2779,-762.5 2779,-762.5 2779,-768.5 2773,-774.5 2767,-774.5\"/>\n<text text-anchor=\"start\" x=\"2703.5\" y=\"-759.3\" font-family=\"Helvetica,sans-Serif\" font-size=\"14.00\">gini = 0.0</text>\n<text text-anchor=\"start\" x=\"2694\" y=\"-744.3\" font-family=\"Helvetica,sans-Serif\" font-size=\"14.00\">samples = 2</text>\n<text text-anchor=\"start\" x=\"2692\" y=\"-729.3\" font-family=\"Helvetica,sans-Serif\" font-size=\"14.00\">value = [2, 0]</text>\n<text text-anchor=\"start\" x=\"2704\" y=\"-714.3\" font-family=\"Helvetica,sans-Serif\" font-size=\"14.00\">class = 0</text>\n</g>\n<!-- 92&#45;&gt;104 -->\n<g id=\"edge104\" class=\"edge\">\n<title>92&#45;&gt;104</title>\n<path fill=\"none\" stroke=\"black\" d=\"M2640.73,-817.91C2654.88,-805.99 2670.35,-792.98 2684.43,-781.12\"/>\n<polygon fill=\"black\" stroke=\"black\" points=\"2686.7,-783.78 2692.1,-774.67 2682.19,-778.43 2686.7,-783.78\"/>\n</g>\n<!-- 94 -->\n<g id=\"node95\" class=\"node\">\n<title>94</title>\n<path fill=\"#f2c09c\" stroke=\"black\" d=\"M2632.5,-663C2632.5,-663 2552.5,-663 2552.5,-663 2546.5,-663 2540.5,-657 2540.5,-651 2540.5,-651 2540.5,-592 2540.5,-592 2540.5,-586 2546.5,-580 2552.5,-580 2552.5,-580 2632.5,-580 2632.5,-580 2638.5,-580 2644.5,-586 2644.5,-592 2644.5,-592 2644.5,-651 2644.5,-651 2644.5,-657 2638.5,-663 2632.5,-663\"/>\n<text text-anchor=\"start\" x=\"2548.5\" y=\"-647.8\" font-family=\"Helvetica,sans-Serif\" font-size=\"14.00\">Insulin ≤ 137.5</text>\n<text text-anchor=\"start\" x=\"2557\" y=\"-632.8\" font-family=\"Helvetica,sans-Serif\" font-size=\"14.00\">gini = 0.444</text>\n<text text-anchor=\"start\" x=\"2555\" y=\"-617.8\" font-family=\"Helvetica,sans-Serif\" font-size=\"14.00\">samples = 6</text>\n<text text-anchor=\"start\" x=\"2553\" y=\"-602.8\" font-family=\"Helvetica,sans-Serif\" font-size=\"14.00\">value = [4, 2]</text>\n<text text-anchor=\"start\" x=\"2565\" y=\"-587.8\" font-family=\"Helvetica,sans-Serif\" font-size=\"14.00\">class = 0</text>\n</g>\n<!-- 93&#45;&gt;94 -->\n<g id=\"edge94\" class=\"edge\">\n<title>93&#45;&gt;94</title>\n<path fill=\"none\" stroke=\"black\" d=\"M2592.5,-698.91C2592.5,-690.65 2592.5,-681.86 2592.5,-673.3\"/>\n<polygon fill=\"black\" stroke=\"black\" points=\"2596,-673.02 2592.5,-663.02 2589,-673.02 2596,-673.02\"/>\n</g>\n<!-- 97 -->\n<g id=\"node98\" class=\"node\">\n<title>97</title>\n<path fill=\"#65b3eb\" stroke=\"black\" d=\"M2840.5,-663C2840.5,-663 2718.5,-663 2718.5,-663 2712.5,-663 2706.5,-657 2706.5,-651 2706.5,-651 2706.5,-592 2706.5,-592 2706.5,-586 2712.5,-580 2718.5,-580 2718.5,-580 2840.5,-580 2840.5,-580 2846.5,-580 2852.5,-586 2852.5,-592 2852.5,-592 2852.5,-651 2852.5,-651 2852.5,-657 2846.5,-663 2840.5,-663\"/>\n<text text-anchor=\"start\" x=\"2714.5\" y=\"-647.8\" font-family=\"Helvetica,sans-Serif\" font-size=\"14.00\">BloodPressure ≤ 87.0</text>\n<text text-anchor=\"start\" x=\"2744\" y=\"-632.8\" font-family=\"Helvetica,sans-Serif\" font-size=\"14.00\">gini = 0.298</text>\n<text text-anchor=\"start\" x=\"2738.5\" y=\"-617.8\" font-family=\"Helvetica,sans-Serif\" font-size=\"14.00\">samples = 11</text>\n<text text-anchor=\"start\" x=\"2740\" y=\"-602.8\" font-family=\"Helvetica,sans-Serif\" font-size=\"14.00\">value = [2, 9]</text>\n<text text-anchor=\"start\" x=\"2752\" y=\"-587.8\" font-family=\"Helvetica,sans-Serif\" font-size=\"14.00\">class = 1</text>\n</g>\n<!-- 93&#45;&gt;97 -->\n<g id=\"edge97\" class=\"edge\">\n<title>93&#45;&gt;97</title>\n<path fill=\"none\" stroke=\"black\" d=\"M2657.38,-698.91C2673.04,-689.11 2689.9,-678.56 2705.93,-668.53\"/>\n<polygon fill=\"black\" stroke=\"black\" points=\"2708.11,-671.29 2714.74,-663.02 2704.4,-665.36 2708.11,-671.29\"/>\n</g>\n<!-- 95 -->\n<g id=\"node96\" class=\"node\">\n<title>95</title>\n<path fill=\"#e58139\" stroke=\"black\" d=\"M2584,-536.5C2584,-536.5 2513,-536.5 2513,-536.5 2507,-536.5 2501,-530.5 2501,-524.5 2501,-524.5 2501,-480.5 2501,-480.5 2501,-474.5 2507,-468.5 2513,-468.5 2513,-468.5 2584,-468.5 2584,-468.5 2590,-468.5 2596,-474.5 2596,-480.5 2596,-480.5 2596,-524.5 2596,-524.5 2596,-530.5 2590,-536.5 2584,-536.5\"/>\n<text text-anchor=\"start\" x=\"2520.5\" y=\"-521.3\" font-family=\"Helvetica,sans-Serif\" font-size=\"14.00\">gini = 0.0</text>\n<text text-anchor=\"start\" x=\"2511\" y=\"-506.3\" font-family=\"Helvetica,sans-Serif\" font-size=\"14.00\">samples = 4</text>\n<text text-anchor=\"start\" x=\"2509\" y=\"-491.3\" font-family=\"Helvetica,sans-Serif\" font-size=\"14.00\">value = [4, 0]</text>\n<text text-anchor=\"start\" x=\"2521\" y=\"-476.3\" font-family=\"Helvetica,sans-Serif\" font-size=\"14.00\">class = 0</text>\n</g>\n<!-- 94&#45;&gt;95 -->\n<g id=\"edge95\" class=\"edge\">\n<title>94&#45;&gt;95</title>\n<path fill=\"none\" stroke=\"black\" d=\"M2577.23,-579.91C2573.13,-568.98 2568.67,-557.14 2564.52,-546.11\"/>\n<polygon fill=\"black\" stroke=\"black\" points=\"2567.77,-544.79 2560.97,-536.67 2561.22,-547.26 2567.77,-544.79\"/>\n</g>\n<!-- 96 -->\n<g id=\"node97\" class=\"node\">\n<title>96</title>\n<path fill=\"#399de5\" stroke=\"black\" d=\"M2697,-536.5C2697,-536.5 2626,-536.5 2626,-536.5 2620,-536.5 2614,-530.5 2614,-524.5 2614,-524.5 2614,-480.5 2614,-480.5 2614,-474.5 2620,-468.5 2626,-468.5 2626,-468.5 2697,-468.5 2697,-468.5 2703,-468.5 2709,-474.5 2709,-480.5 2709,-480.5 2709,-524.5 2709,-524.5 2709,-530.5 2703,-536.5 2697,-536.5\"/>\n<text text-anchor=\"start\" x=\"2633.5\" y=\"-521.3\" font-family=\"Helvetica,sans-Serif\" font-size=\"14.00\">gini = 0.0</text>\n<text text-anchor=\"start\" x=\"2624\" y=\"-506.3\" font-family=\"Helvetica,sans-Serif\" font-size=\"14.00\">samples = 2</text>\n<text text-anchor=\"start\" x=\"2622\" y=\"-491.3\" font-family=\"Helvetica,sans-Serif\" font-size=\"14.00\">value = [0, 2]</text>\n<text text-anchor=\"start\" x=\"2634\" y=\"-476.3\" font-family=\"Helvetica,sans-Serif\" font-size=\"14.00\">class = 1</text>\n</g>\n<!-- 94&#45;&gt;96 -->\n<g id=\"edge96\" class=\"edge\">\n<title>94&#45;&gt;96</title>\n<path fill=\"none\" stroke=\"black\" d=\"M2616.44,-579.91C2623.01,-568.76 2630.15,-556.66 2636.77,-545.44\"/>\n<polygon fill=\"black\" stroke=\"black\" points=\"2639.87,-547.06 2641.94,-536.67 2633.85,-543.5 2639.87,-547.06\"/>\n</g>\n<!-- 98 -->\n<g id=\"node99\" class=\"node\">\n<title>98</title>\n<path fill=\"#4fa8e8\" stroke=\"black\" d=\"M2819.5,-544C2819.5,-544 2739.5,-544 2739.5,-544 2733.5,-544 2727.5,-538 2727.5,-532 2727.5,-532 2727.5,-473 2727.5,-473 2727.5,-467 2733.5,-461 2739.5,-461 2739.5,-461 2819.5,-461 2819.5,-461 2825.5,-461 2831.5,-467 2831.5,-473 2831.5,-473 2831.5,-532 2831.5,-532 2831.5,-538 2825.5,-544 2819.5,-544\"/>\n<text text-anchor=\"start\" x=\"2735.5\" y=\"-528.8\" font-family=\"Helvetica,sans-Serif\" font-size=\"14.00\">Insulin ≤ 225.0</text>\n<text text-anchor=\"start\" x=\"2747.5\" y=\"-513.8\" font-family=\"Helvetica,sans-Serif\" font-size=\"14.00\">gini = 0.18</text>\n<text text-anchor=\"start\" x=\"2738.5\" y=\"-498.8\" font-family=\"Helvetica,sans-Serif\" font-size=\"14.00\">samples = 10</text>\n<text text-anchor=\"start\" x=\"2740\" y=\"-483.8\" font-family=\"Helvetica,sans-Serif\" font-size=\"14.00\">value = [1, 9]</text>\n<text text-anchor=\"start\" x=\"2752\" y=\"-468.8\" font-family=\"Helvetica,sans-Serif\" font-size=\"14.00\">class = 1</text>\n</g>\n<!-- 97&#45;&gt;98 -->\n<g id=\"edge98\" class=\"edge\">\n<title>97&#45;&gt;98</title>\n<path fill=\"none\" stroke=\"black\" d=\"M2779.5,-579.91C2779.5,-571.65 2779.5,-562.86 2779.5,-554.3\"/>\n<polygon fill=\"black\" stroke=\"black\" points=\"2783,-554.02 2779.5,-544.02 2776,-554.02 2783,-554.02\"/>\n</g>\n<!-- 103 -->\n<g id=\"node104\" class=\"node\">\n<title>103</title>\n<path fill=\"#e58139\" stroke=\"black\" d=\"M2933,-536.5C2933,-536.5 2862,-536.5 2862,-536.5 2856,-536.5 2850,-530.5 2850,-524.5 2850,-524.5 2850,-480.5 2850,-480.5 2850,-474.5 2856,-468.5 2862,-468.5 2862,-468.5 2933,-468.5 2933,-468.5 2939,-468.5 2945,-474.5 2945,-480.5 2945,-480.5 2945,-524.5 2945,-524.5 2945,-530.5 2939,-536.5 2933,-536.5\"/>\n<text text-anchor=\"start\" x=\"2869.5\" y=\"-521.3\" font-family=\"Helvetica,sans-Serif\" font-size=\"14.00\">gini = 0.0</text>\n<text text-anchor=\"start\" x=\"2860\" y=\"-506.3\" font-family=\"Helvetica,sans-Serif\" font-size=\"14.00\">samples = 1</text>\n<text text-anchor=\"start\" x=\"2858\" y=\"-491.3\" font-family=\"Helvetica,sans-Serif\" font-size=\"14.00\">value = [1, 0]</text>\n<text text-anchor=\"start\" x=\"2870\" y=\"-476.3\" font-family=\"Helvetica,sans-Serif\" font-size=\"14.00\">class = 0</text>\n</g>\n<!-- 97&#45;&gt;103 -->\n<g id=\"edge103\" class=\"edge\">\n<title>97&#45;&gt;103</title>\n<path fill=\"none\" stroke=\"black\" d=\"M2820.44,-579.91C2832.24,-568.21 2845.1,-555.46 2856.88,-543.78\"/>\n<polygon fill=\"black\" stroke=\"black\" points=\"2859.41,-546.19 2864.05,-536.67 2854.48,-541.22 2859.41,-546.19\"/>\n</g>\n<!-- 99 -->\n<g id=\"node100\" class=\"node\">\n<title>99</title>\n<path fill=\"#399de5\" stroke=\"black\" d=\"M2751,-417.5C2751,-417.5 2680,-417.5 2680,-417.5 2674,-417.5 2668,-411.5 2668,-405.5 2668,-405.5 2668,-361.5 2668,-361.5 2668,-355.5 2674,-349.5 2680,-349.5 2680,-349.5 2751,-349.5 2751,-349.5 2757,-349.5 2763,-355.5 2763,-361.5 2763,-361.5 2763,-405.5 2763,-405.5 2763,-411.5 2757,-417.5 2751,-417.5\"/>\n<text text-anchor=\"start\" x=\"2687.5\" y=\"-402.3\" font-family=\"Helvetica,sans-Serif\" font-size=\"14.00\">gini = 0.0</text>\n<text text-anchor=\"start\" x=\"2678\" y=\"-387.3\" font-family=\"Helvetica,sans-Serif\" font-size=\"14.00\">samples = 8</text>\n<text text-anchor=\"start\" x=\"2676\" y=\"-372.3\" font-family=\"Helvetica,sans-Serif\" font-size=\"14.00\">value = [0, 8]</text>\n<text text-anchor=\"start\" x=\"2688\" y=\"-357.3\" font-family=\"Helvetica,sans-Serif\" font-size=\"14.00\">class = 1</text>\n</g>\n<!-- 98&#45;&gt;99 -->\n<g id=\"edge99\" class=\"edge\">\n<title>98&#45;&gt;99</title>\n<path fill=\"none\" stroke=\"black\" d=\"M2757.3,-460.91C2751.26,-449.87 2744.71,-437.9 2738.62,-426.77\"/>\n<polygon fill=\"black\" stroke=\"black\" points=\"2741.51,-424.76 2733.64,-417.67 2735.37,-428.12 2741.51,-424.76\"/>\n</g>\n<!-- 100 -->\n<g id=\"node101\" class=\"node\">\n<title>100</title>\n<path fill=\"#ffffff\" stroke=\"black\" d=\"M2894,-425C2894,-425 2793,-425 2793,-425 2787,-425 2781,-419 2781,-413 2781,-413 2781,-354 2781,-354 2781,-348 2787,-342 2793,-342 2793,-342 2894,-342 2894,-342 2900,-342 2906,-348 2906,-354 2906,-354 2906,-413 2906,-413 2906,-419 2900,-425 2894,-425\"/>\n<text text-anchor=\"start\" x=\"2789\" y=\"-409.8\" font-family=\"Helvetica,sans-Serif\" font-size=\"14.00\">Pregnancies ≤ 3.0</text>\n<text text-anchor=\"start\" x=\"2815.5\" y=\"-394.8\" font-family=\"Helvetica,sans-Serif\" font-size=\"14.00\">gini = 0.5</text>\n<text text-anchor=\"start\" x=\"2806\" y=\"-379.8\" font-family=\"Helvetica,sans-Serif\" font-size=\"14.00\">samples = 2</text>\n<text text-anchor=\"start\" x=\"2804\" y=\"-364.8\" font-family=\"Helvetica,sans-Serif\" font-size=\"14.00\">value = [1, 1]</text>\n<text text-anchor=\"start\" x=\"2816\" y=\"-349.8\" font-family=\"Helvetica,sans-Serif\" font-size=\"14.00\">class = 0</text>\n</g>\n<!-- 98&#45;&gt;100 -->\n<g id=\"edge100\" class=\"edge\">\n<title>98&#45;&gt;100</title>\n<path fill=\"none\" stroke=\"black\" d=\"M2801.7,-460.91C2806.47,-452.2 2811.56,-442.9 2816.48,-433.89\"/>\n<polygon fill=\"black\" stroke=\"black\" points=\"2819.61,-435.47 2821.33,-425.02 2813.47,-432.11 2819.61,-435.47\"/>\n</g>\n<!-- 101 -->\n<g id=\"node102\" class=\"node\">\n<title>101</title>\n<path fill=\"#399de5\" stroke=\"black\" d=\"M2823,-298.5C2823,-298.5 2752,-298.5 2752,-298.5 2746,-298.5 2740,-292.5 2740,-286.5 2740,-286.5 2740,-242.5 2740,-242.5 2740,-236.5 2746,-230.5 2752,-230.5 2752,-230.5 2823,-230.5 2823,-230.5 2829,-230.5 2835,-236.5 2835,-242.5 2835,-242.5 2835,-286.5 2835,-286.5 2835,-292.5 2829,-298.5 2823,-298.5\"/>\n<text text-anchor=\"start\" x=\"2759.5\" y=\"-283.3\" font-family=\"Helvetica,sans-Serif\" font-size=\"14.00\">gini = 0.0</text>\n<text text-anchor=\"start\" x=\"2750\" y=\"-268.3\" font-family=\"Helvetica,sans-Serif\" font-size=\"14.00\">samples = 1</text>\n<text text-anchor=\"start\" x=\"2748\" y=\"-253.3\" font-family=\"Helvetica,sans-Serif\" font-size=\"14.00\">value = [0, 1]</text>\n<text text-anchor=\"start\" x=\"2760\" y=\"-238.3\" font-family=\"Helvetica,sans-Serif\" font-size=\"14.00\">class = 1</text>\n</g>\n<!-- 100&#45;&gt;101 -->\n<g id=\"edge101\" class=\"edge\">\n<title>100&#45;&gt;101</title>\n<path fill=\"none\" stroke=\"black\" d=\"M2824.07,-341.91C2818.79,-330.87 2813.06,-318.9 2807.73,-307.77\"/>\n<polygon fill=\"black\" stroke=\"black\" points=\"2810.85,-306.18 2803.37,-298.67 2804.54,-309.2 2810.85,-306.18\"/>\n</g>\n<!-- 102 -->\n<g id=\"node103\" class=\"node\">\n<title>102</title>\n<path fill=\"#e58139\" stroke=\"black\" d=\"M2936,-298.5C2936,-298.5 2865,-298.5 2865,-298.5 2859,-298.5 2853,-292.5 2853,-286.5 2853,-286.5 2853,-242.5 2853,-242.5 2853,-236.5 2859,-230.5 2865,-230.5 2865,-230.5 2936,-230.5 2936,-230.5 2942,-230.5 2948,-236.5 2948,-242.5 2948,-242.5 2948,-286.5 2948,-286.5 2948,-292.5 2942,-298.5 2936,-298.5\"/>\n<text text-anchor=\"start\" x=\"2872.5\" y=\"-283.3\" font-family=\"Helvetica,sans-Serif\" font-size=\"14.00\">gini = 0.0</text>\n<text text-anchor=\"start\" x=\"2863\" y=\"-268.3\" font-family=\"Helvetica,sans-Serif\" font-size=\"14.00\">samples = 1</text>\n<text text-anchor=\"start\" x=\"2861\" y=\"-253.3\" font-family=\"Helvetica,sans-Serif\" font-size=\"14.00\">value = [1, 0]</text>\n<text text-anchor=\"start\" x=\"2873\" y=\"-238.3\" font-family=\"Helvetica,sans-Serif\" font-size=\"14.00\">class = 0</text>\n</g>\n<!-- 100&#45;&gt;102 -->\n<g id=\"edge102\" class=\"edge\">\n<title>100&#45;&gt;102</title>\n<path fill=\"none\" stroke=\"black\" d=\"M2863.28,-341.91C2868.65,-330.87 2874.49,-318.9 2879.91,-307.77\"/>\n<polygon fill=\"black\" stroke=\"black\" points=\"2883.11,-309.19 2884.34,-298.67 2876.82,-306.12 2883.11,-309.19\"/>\n</g>\n<!-- 107 -->\n<g id=\"node108\" class=\"node\">\n<title>107</title>\n<path fill=\"#f1ba93\" stroke=\"black\" d=\"M3406.5,-1377C3406.5,-1377 3314.5,-1377 3314.5,-1377 3308.5,-1377 3302.5,-1371 3302.5,-1365 3302.5,-1365 3302.5,-1306 3302.5,-1306 3302.5,-1300 3308.5,-1294 3314.5,-1294 3314.5,-1294 3406.5,-1294 3406.5,-1294 3412.5,-1294 3418.5,-1300 3418.5,-1306 3418.5,-1306 3418.5,-1365 3418.5,-1365 3418.5,-1371 3412.5,-1377 3406.5,-1377\"/>\n<text text-anchor=\"start\" x=\"3310.5\" y=\"-1361.8\" font-family=\"Helvetica,sans-Serif\" font-size=\"14.00\">Glucose ≤ 146.5</text>\n<text text-anchor=\"start\" x=\"3325\" y=\"-1346.8\" font-family=\"Helvetica,sans-Serif\" font-size=\"14.00\">gini = 0.429</text>\n<text text-anchor=\"start\" x=\"3319.5\" y=\"-1331.8\" font-family=\"Helvetica,sans-Serif\" font-size=\"14.00\">samples = 61</text>\n<text text-anchor=\"start\" x=\"3313.5\" y=\"-1316.8\" font-family=\"Helvetica,sans-Serif\" font-size=\"14.00\">value = [42, 19]</text>\n<text text-anchor=\"start\" x=\"3333\" y=\"-1301.8\" font-family=\"Helvetica,sans-Serif\" font-size=\"14.00\">class = 0</text>\n</g>\n<!-- 106&#45;&gt;107 -->\n<g id=\"edge107\" class=\"edge\">\n<title>106&#45;&gt;107</title>\n<path fill=\"none\" stroke=\"black\" d=\"M3360.5,-1412.91C3360.5,-1404.65 3360.5,-1395.86 3360.5,-1387.3\"/>\n<polygon fill=\"black\" stroke=\"black\" points=\"3364,-1387.02 3360.5,-1377.02 3357,-1387.02 3364,-1387.02\"/>\n</g>\n<!-- 140 -->\n<g id=\"node141\" class=\"node\">\n<title>140</title>\n<path fill=\"#85c2ef\" stroke=\"black\" d=\"M4320,-1377C4320,-1377 4227,-1377 4227,-1377 4221,-1377 4215,-1371 4215,-1365 4215,-1365 4215,-1306 4215,-1306 4215,-1300 4221,-1294 4227,-1294 4227,-1294 4320,-1294 4320,-1294 4326,-1294 4332,-1300 4332,-1306 4332,-1306 4332,-1365 4332,-1365 4332,-1371 4326,-1377 4320,-1377\"/>\n<text text-anchor=\"start\" x=\"4223.5\" y=\"-1361.8\" font-family=\"Helvetica,sans-Serif\" font-size=\"14.00\">Glucose ≤ 165.5</text>\n<text text-anchor=\"start\" x=\"4245.5\" y=\"-1346.8\" font-family=\"Helvetica,sans-Serif\" font-size=\"14.00\">gini = 0.4</text>\n<text text-anchor=\"start\" x=\"4228.5\" y=\"-1331.8\" font-family=\"Helvetica,sans-Serif\" font-size=\"14.00\">samples = 163</text>\n<text text-anchor=\"start\" x=\"4223\" y=\"-1316.8\" font-family=\"Helvetica,sans-Serif\" font-size=\"14.00\">value = [45, 118]</text>\n<text text-anchor=\"start\" x=\"4246\" y=\"-1301.8\" font-family=\"Helvetica,sans-Serif\" font-size=\"14.00\">class = 1</text>\n</g>\n<!-- 106&#45;&gt;140 -->\n<g id=\"edge140\" class=\"edge\">\n<title>106&#45;&gt;140</title>\n<path fill=\"none\" stroke=\"black\" d=\"M3419,-1446C3580.49,-1425.31 4031.96,-1367.45 4204.9,-1345.29\"/>\n<polygon fill=\"black\" stroke=\"black\" points=\"4205.42,-1348.75 4214.9,-1344.01 4204.53,-1341.81 4205.42,-1348.75\"/>\n</g>\n<!-- 108 -->\n<g id=\"node109\" class=\"node\">\n<title>108</title>\n<path fill=\"#e99559\" stroke=\"black\" d=\"M3280.5,-1258C3280.5,-1258 3158.5,-1258 3158.5,-1258 3152.5,-1258 3146.5,-1252 3146.5,-1246 3146.5,-1246 3146.5,-1187 3146.5,-1187 3146.5,-1181 3152.5,-1175 3158.5,-1175 3158.5,-1175 3280.5,-1175 3280.5,-1175 3286.5,-1175 3292.5,-1181 3292.5,-1187 3292.5,-1187 3292.5,-1246 3292.5,-1246 3292.5,-1252 3286.5,-1258 3280.5,-1258\"/>\n<text text-anchor=\"start\" x=\"3154.5\" y=\"-1242.8\" font-family=\"Helvetica,sans-Serif\" font-size=\"14.00\">BloodPressure ≤ 55.0</text>\n<text text-anchor=\"start\" x=\"3184\" y=\"-1227.8\" font-family=\"Helvetica,sans-Serif\" font-size=\"14.00\">gini = 0.239</text>\n<text text-anchor=\"start\" x=\"3178.5\" y=\"-1212.8\" font-family=\"Helvetica,sans-Serif\" font-size=\"14.00\">samples = 36</text>\n<text text-anchor=\"start\" x=\"3176.5\" y=\"-1197.8\" font-family=\"Helvetica,sans-Serif\" font-size=\"14.00\">value = [31, 5]</text>\n<text text-anchor=\"start\" x=\"3192\" y=\"-1182.8\" font-family=\"Helvetica,sans-Serif\" font-size=\"14.00\">class = 0</text>\n</g>\n<!-- 107&#45;&gt;108 -->\n<g id=\"edge108\" class=\"edge\">\n<title>107&#45;&gt;108</title>\n<path fill=\"none\" stroke=\"black\" d=\"M3311.58,-1293.91C3300.21,-1284.47 3288,-1274.34 3276.32,-1264.65\"/>\n<polygon fill=\"black\" stroke=\"black\" points=\"3278.26,-1261.71 3268.33,-1258.02 3273.79,-1267.1 3278.26,-1261.71\"/>\n</g>\n<!-- 123 -->\n<g id=\"node124\" class=\"node\">\n<title>123</title>\n<path fill=\"#d5eaf9\" stroke=\"black\" d=\"M3495.5,-1258C3495.5,-1258 3409.5,-1258 3409.5,-1258 3403.5,-1258 3397.5,-1252 3397.5,-1246 3397.5,-1246 3397.5,-1187 3397.5,-1187 3397.5,-1181 3403.5,-1175 3409.5,-1175 3409.5,-1175 3495.5,-1175 3495.5,-1175 3501.5,-1175 3507.5,-1181 3507.5,-1187 3507.5,-1187 3507.5,-1246 3507.5,-1246 3507.5,-1252 3501.5,-1258 3495.5,-1258\"/>\n<text text-anchor=\"start\" x=\"3419.5\" y=\"-1242.8\" font-family=\"Helvetica,sans-Serif\" font-size=\"14.00\">Age ≤ 62.0</text>\n<text text-anchor=\"start\" x=\"3417\" y=\"-1227.8\" font-family=\"Helvetica,sans-Serif\" font-size=\"14.00\">gini = 0.493</text>\n<text text-anchor=\"start\" x=\"3411.5\" y=\"-1212.8\" font-family=\"Helvetica,sans-Serif\" font-size=\"14.00\">samples = 25</text>\n<text text-anchor=\"start\" x=\"3405.5\" y=\"-1197.8\" font-family=\"Helvetica,sans-Serif\" font-size=\"14.00\">value = [11, 14]</text>\n<text text-anchor=\"start\" x=\"3425\" y=\"-1182.8\" font-family=\"Helvetica,sans-Serif\" font-size=\"14.00\">class = 1</text>\n</g>\n<!-- 107&#45;&gt;123 -->\n<g id=\"edge123\" class=\"edge\">\n<title>107&#45;&gt;123</title>\n<path fill=\"none\" stroke=\"black\" d=\"M3392.42,-1293.91C3399.48,-1284.92 3407.04,-1275.32 3414.32,-1266.05\"/>\n<polygon fill=\"black\" stroke=\"black\" points=\"3417.21,-1268.05 3420.64,-1258.02 3411.7,-1263.72 3417.21,-1268.05\"/>\n</g>\n<!-- 109 -->\n<g id=\"node110\" class=\"node\">\n<title>109</title>\n<path fill=\"#9ccef2\" stroke=\"black\" d=\"M3082,-1139C3082,-1139 2981,-1139 2981,-1139 2975,-1139 2969,-1133 2969,-1127 2969,-1127 2969,-1068 2969,-1068 2969,-1062 2975,-1056 2981,-1056 2981,-1056 3082,-1056 3082,-1056 3088,-1056 3094,-1062 3094,-1068 3094,-1068 3094,-1127 3094,-1127 3094,-1133 3088,-1139 3082,-1139\"/>\n<text text-anchor=\"start\" x=\"2977\" y=\"-1123.8\" font-family=\"Helvetica,sans-Serif\" font-size=\"14.00\">Pregnancies ≤ 1.5</text>\n<text text-anchor=\"start\" x=\"2996\" y=\"-1108.8\" font-family=\"Helvetica,sans-Serif\" font-size=\"14.00\">gini = 0.444</text>\n<text text-anchor=\"start\" x=\"2994\" y=\"-1093.8\" font-family=\"Helvetica,sans-Serif\" font-size=\"14.00\">samples = 3</text>\n<text text-anchor=\"start\" x=\"2992\" y=\"-1078.8\" font-family=\"Helvetica,sans-Serif\" font-size=\"14.00\">value = [1, 2]</text>\n<text text-anchor=\"start\" x=\"3004\" y=\"-1063.8\" font-family=\"Helvetica,sans-Serif\" font-size=\"14.00\">class = 1</text>\n</g>\n<!-- 108&#45;&gt;109 -->\n<g id=\"edge109\" class=\"edge\">\n<title>108&#45;&gt;109</title>\n<path fill=\"none\" stroke=\"black\" d=\"M3154.27,-1174.91C3137.66,-1164.57 3119.71,-1153.4 3102.81,-1142.88\"/>\n<polygon fill=\"black\" stroke=\"black\" points=\"3104.42,-1139.76 3094.08,-1137.44 3100.72,-1145.7 3104.42,-1139.76\"/>\n</g>\n<!-- 112 -->\n<g id=\"node113\" class=\"node\">\n<title>112</title>\n<path fill=\"#e88e4d\" stroke=\"black\" d=\"M3265.5,-1139C3265.5,-1139 3173.5,-1139 3173.5,-1139 3167.5,-1139 3161.5,-1133 3161.5,-1127 3161.5,-1127 3161.5,-1068 3161.5,-1068 3161.5,-1062 3167.5,-1056 3173.5,-1056 3173.5,-1056 3265.5,-1056 3265.5,-1056 3271.5,-1056 3277.5,-1062 3277.5,-1068 3277.5,-1068 3277.5,-1127 3277.5,-1127 3277.5,-1133 3271.5,-1139 3265.5,-1139\"/>\n<text text-anchor=\"start\" x=\"3169.5\" y=\"-1123.8\" font-family=\"Helvetica,sans-Serif\" font-size=\"14.00\">Glucose ≤ 135.0</text>\n<text text-anchor=\"start\" x=\"3184\" y=\"-1108.8\" font-family=\"Helvetica,sans-Serif\" font-size=\"14.00\">gini = 0.165</text>\n<text text-anchor=\"start\" x=\"3178.5\" y=\"-1093.8\" font-family=\"Helvetica,sans-Serif\" font-size=\"14.00\">samples = 33</text>\n<text text-anchor=\"start\" x=\"3176.5\" y=\"-1078.8\" font-family=\"Helvetica,sans-Serif\" font-size=\"14.00\">value = [30, 3]</text>\n<text text-anchor=\"start\" x=\"3192\" y=\"-1063.8\" font-family=\"Helvetica,sans-Serif\" font-size=\"14.00\">class = 0</text>\n</g>\n<!-- 108&#45;&gt;112 -->\n<g id=\"edge112\" class=\"edge\">\n<title>108&#45;&gt;112</title>\n<path fill=\"none\" stroke=\"black\" d=\"M3219.5,-1174.91C3219.5,-1166.65 3219.5,-1157.86 3219.5,-1149.3\"/>\n<polygon fill=\"black\" stroke=\"black\" points=\"3223,-1149.02 3219.5,-1139.02 3216,-1149.02 3223,-1149.02\"/>\n</g>\n<!-- 110 -->\n<g id=\"node111\" class=\"node\">\n<title>110</title>\n<path fill=\"#e58139\" stroke=\"black\" d=\"M2954,-1012.5C2954,-1012.5 2883,-1012.5 2883,-1012.5 2877,-1012.5 2871,-1006.5 2871,-1000.5 2871,-1000.5 2871,-956.5 2871,-956.5 2871,-950.5 2877,-944.5 2883,-944.5 2883,-944.5 2954,-944.5 2954,-944.5 2960,-944.5 2966,-950.5 2966,-956.5 2966,-956.5 2966,-1000.5 2966,-1000.5 2966,-1006.5 2960,-1012.5 2954,-1012.5\"/>\n<text text-anchor=\"start\" x=\"2890.5\" y=\"-997.3\" font-family=\"Helvetica,sans-Serif\" font-size=\"14.00\">gini = 0.0</text>\n<text text-anchor=\"start\" x=\"2881\" y=\"-982.3\" font-family=\"Helvetica,sans-Serif\" font-size=\"14.00\">samples = 1</text>\n<text text-anchor=\"start\" x=\"2879\" y=\"-967.3\" font-family=\"Helvetica,sans-Serif\" font-size=\"14.00\">value = [1, 0]</text>\n<text text-anchor=\"start\" x=\"2891\" y=\"-952.3\" font-family=\"Helvetica,sans-Serif\" font-size=\"14.00\">class = 0</text>\n</g>\n<!-- 109&#45;&gt;110 -->\n<g id=\"edge110\" class=\"edge\">\n<title>109&#45;&gt;110</title>\n<path fill=\"none\" stroke=\"black\" d=\"M2992.3,-1055.91C2981.11,-1044.32 2968.91,-1031.7 2957.72,-1020.11\"/>\n<polygon fill=\"black\" stroke=\"black\" points=\"2960,-1017.43 2950.53,-1012.67 2954.96,-1022.29 2960,-1017.43\"/>\n</g>\n<!-- 111 -->\n<g id=\"node112\" class=\"node\">\n<title>111</title>\n<path fill=\"#399de5\" stroke=\"black\" d=\"M3067,-1012.5C3067,-1012.5 2996,-1012.5 2996,-1012.5 2990,-1012.5 2984,-1006.5 2984,-1000.5 2984,-1000.5 2984,-956.5 2984,-956.5 2984,-950.5 2990,-944.5 2996,-944.5 2996,-944.5 3067,-944.5 3067,-944.5 3073,-944.5 3079,-950.5 3079,-956.5 3079,-956.5 3079,-1000.5 3079,-1000.5 3079,-1006.5 3073,-1012.5 3067,-1012.5\"/>\n<text text-anchor=\"start\" x=\"3003.5\" y=\"-997.3\" font-family=\"Helvetica,sans-Serif\" font-size=\"14.00\">gini = 0.0</text>\n<text text-anchor=\"start\" x=\"2994\" y=\"-982.3\" font-family=\"Helvetica,sans-Serif\" font-size=\"14.00\">samples = 2</text>\n<text text-anchor=\"start\" x=\"2992\" y=\"-967.3\" font-family=\"Helvetica,sans-Serif\" font-size=\"14.00\">value = [0, 2]</text>\n<text text-anchor=\"start\" x=\"3004\" y=\"-952.3\" font-family=\"Helvetica,sans-Serif\" font-size=\"14.00\">class = 1</text>\n</g>\n<!-- 109&#45;&gt;111 -->\n<g id=\"edge111\" class=\"edge\">\n<title>109&#45;&gt;111</title>\n<path fill=\"none\" stroke=\"black\" d=\"M3031.5,-1055.91C3031.5,-1045.2 3031.5,-1033.62 3031.5,-1022.78\"/>\n<polygon fill=\"black\" stroke=\"black\" points=\"3035,-1022.67 3031.5,-1012.67 3028,-1022.67 3035,-1022.67\"/>\n</g>\n<!-- 113 -->\n<g id=\"node114\" class=\"node\">\n<title>113</title>\n<path fill=\"#eb9c63\" stroke=\"black\" d=\"M3187.5,-1020C3187.5,-1020 3109.5,-1020 3109.5,-1020 3103.5,-1020 3097.5,-1014 3097.5,-1008 3097.5,-1008 3097.5,-949 3097.5,-949 3097.5,-943 3103.5,-937 3109.5,-937 3109.5,-937 3187.5,-937 3187.5,-937 3193.5,-937 3199.5,-943 3199.5,-949 3199.5,-949 3199.5,-1008 3199.5,-1008 3199.5,-1014 3193.5,-1020 3187.5,-1020\"/>\n<text text-anchor=\"start\" x=\"3115.5\" y=\"-1004.8\" font-family=\"Helvetica,sans-Serif\" font-size=\"14.00\">Age ≤ 27.5</text>\n<text text-anchor=\"start\" x=\"3113\" y=\"-989.8\" font-family=\"Helvetica,sans-Serif\" font-size=\"14.00\">gini = 0.291</text>\n<text text-anchor=\"start\" x=\"3107.5\" y=\"-974.8\" font-family=\"Helvetica,sans-Serif\" font-size=\"14.00\">samples = 17</text>\n<text text-anchor=\"start\" x=\"3105.5\" y=\"-959.8\" font-family=\"Helvetica,sans-Serif\" font-size=\"14.00\">value = [14, 3]</text>\n<text text-anchor=\"start\" x=\"3121\" y=\"-944.8\" font-family=\"Helvetica,sans-Serif\" font-size=\"14.00\">class = 0</text>\n</g>\n<!-- 112&#45;&gt;113 -->\n<g id=\"edge113\" class=\"edge\">\n<title>112&#45;&gt;113</title>\n<path fill=\"none\" stroke=\"black\" d=\"M3194.87,-1055.91C3189.53,-1047.1 3183.82,-1037.7 3178.3,-1028.61\"/>\n<polygon fill=\"black\" stroke=\"black\" points=\"3181.27,-1026.75 3173.09,-1020.02 3175.29,-1030.39 3181.27,-1026.75\"/>\n</g>\n<!-- 122 -->\n<g id=\"node123\" class=\"node\">\n<title>122</title>\n<path fill=\"#e58139\" stroke=\"black\" d=\"M3307.5,-1012.5C3307.5,-1012.5 3229.5,-1012.5 3229.5,-1012.5 3223.5,-1012.5 3217.5,-1006.5 3217.5,-1000.5 3217.5,-1000.5 3217.5,-956.5 3217.5,-956.5 3217.5,-950.5 3223.5,-944.5 3229.5,-944.5 3229.5,-944.5 3307.5,-944.5 3307.5,-944.5 3313.5,-944.5 3319.5,-950.5 3319.5,-956.5 3319.5,-956.5 3319.5,-1000.5 3319.5,-1000.5 3319.5,-1006.5 3313.5,-1012.5 3307.5,-1012.5\"/>\n<text text-anchor=\"start\" x=\"3240.5\" y=\"-997.3\" font-family=\"Helvetica,sans-Serif\" font-size=\"14.00\">gini = 0.0</text>\n<text text-anchor=\"start\" x=\"3227.5\" y=\"-982.3\" font-family=\"Helvetica,sans-Serif\" font-size=\"14.00\">samples = 16</text>\n<text text-anchor=\"start\" x=\"3225.5\" y=\"-967.3\" font-family=\"Helvetica,sans-Serif\" font-size=\"14.00\">value = [16, 0]</text>\n<text text-anchor=\"start\" x=\"3241\" y=\"-952.3\" font-family=\"Helvetica,sans-Serif\" font-size=\"14.00\">class = 0</text>\n</g>\n<!-- 112&#45;&gt;122 -->\n<g id=\"edge122\" class=\"edge\">\n<title>112&#45;&gt;122</title>\n<path fill=\"none\" stroke=\"black\" d=\"M3236.5,-1055.91C3241.08,-1044.98 3246.04,-1033.14 3250.66,-1022.11\"/>\n<polygon fill=\"black\" stroke=\"black\" points=\"3253.97,-1023.24 3254.61,-1012.67 3247.52,-1020.54 3253.97,-1023.24\"/>\n</g>\n<!-- 114 -->\n<g id=\"node115\" class=\"node\">\n<title>114</title>\n<path fill=\"#e58139\" stroke=\"black\" d=\"M3006,-893.5C3006,-893.5 2935,-893.5 2935,-893.5 2929,-893.5 2923,-887.5 2923,-881.5 2923,-881.5 2923,-837.5 2923,-837.5 2923,-831.5 2929,-825.5 2935,-825.5 2935,-825.5 3006,-825.5 3006,-825.5 3012,-825.5 3018,-831.5 3018,-837.5 3018,-837.5 3018,-881.5 3018,-881.5 3018,-887.5 3012,-893.5 3006,-893.5\"/>\n<text text-anchor=\"start\" x=\"2942.5\" y=\"-878.3\" font-family=\"Helvetica,sans-Serif\" font-size=\"14.00\">gini = 0.0</text>\n<text text-anchor=\"start\" x=\"2933\" y=\"-863.3\" font-family=\"Helvetica,sans-Serif\" font-size=\"14.00\">samples = 8</text>\n<text text-anchor=\"start\" x=\"2931\" y=\"-848.3\" font-family=\"Helvetica,sans-Serif\" font-size=\"14.00\">value = [8, 0]</text>\n<text text-anchor=\"start\" x=\"2943\" y=\"-833.3\" font-family=\"Helvetica,sans-Serif\" font-size=\"14.00\">class = 0</text>\n</g>\n<!-- 113&#45;&gt;114 -->\n<g id=\"edge114\" class=\"edge\">\n<title>113&#45;&gt;114</title>\n<path fill=\"none\" stroke=\"black\" d=\"M3097.36,-943.3C3094.03,-941.15 3090.72,-939.04 3087.5,-937 3061.21,-920.4 3053.53,-918.02 3027.5,-901 3026.59,-900.4 3025.66,-899.8 3024.74,-899.18\"/>\n<polygon fill=\"black\" stroke=\"black\" points=\"3026.58,-896.2 3016.33,-893.52 3022.67,-902.01 3026.58,-896.2\"/>\n</g>\n<!-- 115 -->\n<g id=\"node116\" class=\"node\">\n<title>115</title>\n<path fill=\"#f2c09c\" stroke=\"black\" d=\"M3248.5,-901C3248.5,-901 3048.5,-901 3048.5,-901 3042.5,-901 3036.5,-895 3036.5,-889 3036.5,-889 3036.5,-830 3036.5,-830 3036.5,-824 3042.5,-818 3048.5,-818 3048.5,-818 3248.5,-818 3248.5,-818 3254.5,-818 3260.5,-824 3260.5,-830 3260.5,-830 3260.5,-889 3260.5,-889 3260.5,-895 3254.5,-901 3248.5,-901\"/>\n<text text-anchor=\"start\" x=\"3044.5\" y=\"-885.8\" font-family=\"Helvetica,sans-Serif\" font-size=\"14.00\">DiabetesPedigreeFunction ≤ 0.371</text>\n<text text-anchor=\"start\" x=\"3113\" y=\"-870.8\" font-family=\"Helvetica,sans-Serif\" font-size=\"14.00\">gini = 0.444</text>\n<text text-anchor=\"start\" x=\"3111\" y=\"-855.8\" font-family=\"Helvetica,sans-Serif\" font-size=\"14.00\">samples = 9</text>\n<text text-anchor=\"start\" x=\"3109\" y=\"-840.8\" font-family=\"Helvetica,sans-Serif\" font-size=\"14.00\">value = [6, 3]</text>\n<text text-anchor=\"start\" x=\"3121\" y=\"-825.8\" font-family=\"Helvetica,sans-Serif\" font-size=\"14.00\">class = 0</text>\n</g>\n<!-- 113&#45;&gt;115 -->\n<g id=\"edge115\" class=\"edge\">\n<title>113&#45;&gt;115</title>\n<path fill=\"none\" stroke=\"black\" d=\"M3148.5,-936.91C3148.5,-928.65 3148.5,-919.86 3148.5,-911.3\"/>\n<polygon fill=\"black\" stroke=\"black\" points=\"3152,-911.02 3148.5,-901.02 3145,-911.02 3152,-911.02\"/>\n</g>\n<!-- 116 -->\n<g id=\"node117\" class=\"node\">\n<title>116</title>\n<path fill=\"#ffffff\" stroke=\"black\" d=\"M3071,-782C3071,-782 2950,-782 2950,-782 2944,-782 2938,-776 2938,-770 2938,-770 2938,-711 2938,-711 2938,-705 2944,-699 2950,-699 2950,-699 3071,-699 3071,-699 3077,-699 3083,-705 3083,-711 3083,-711 3083,-770 3083,-770 3083,-776 3077,-782 3071,-782\"/>\n<text text-anchor=\"start\" x=\"2946\" y=\"-766.8\" font-family=\"Helvetica,sans-Serif\" font-size=\"14.00\">SkinThickness ≤ 11.5</text>\n<text text-anchor=\"start\" x=\"2982.5\" y=\"-751.8\" font-family=\"Helvetica,sans-Serif\" font-size=\"14.00\">gini = 0.5</text>\n<text text-anchor=\"start\" x=\"2973\" y=\"-736.8\" font-family=\"Helvetica,sans-Serif\" font-size=\"14.00\">samples = 6</text>\n<text text-anchor=\"start\" x=\"2971\" y=\"-721.8\" font-family=\"Helvetica,sans-Serif\" font-size=\"14.00\">value = [3, 3]</text>\n<text text-anchor=\"start\" x=\"2983\" y=\"-706.8\" font-family=\"Helvetica,sans-Serif\" font-size=\"14.00\">class = 0</text>\n</g>\n<!-- 115&#45;&gt;116 -->\n<g id=\"edge116\" class=\"edge\">\n<title>115&#45;&gt;116</title>\n<path fill=\"none\" stroke=\"black\" d=\"M3100.62,-817.91C3089.49,-808.47 3077.55,-798.34 3066.11,-788.65\"/>\n<polygon fill=\"black\" stroke=\"black\" points=\"3068.18,-785.82 3058.29,-782.02 3063.66,-791.16 3068.18,-785.82\"/>\n</g>\n<!-- 121 -->\n<g id=\"node122\" class=\"node\">\n<title>121</title>\n<path fill=\"#e58139\" stroke=\"black\" d=\"M3184,-774.5C3184,-774.5 3113,-774.5 3113,-774.5 3107,-774.5 3101,-768.5 3101,-762.5 3101,-762.5 3101,-718.5 3101,-718.5 3101,-712.5 3107,-706.5 3113,-706.5 3113,-706.5 3184,-706.5 3184,-706.5 3190,-706.5 3196,-712.5 3196,-718.5 3196,-718.5 3196,-762.5 3196,-762.5 3196,-768.5 3190,-774.5 3184,-774.5\"/>\n<text text-anchor=\"start\" x=\"3120.5\" y=\"-759.3\" font-family=\"Helvetica,sans-Serif\" font-size=\"14.00\">gini = 0.0</text>\n<text text-anchor=\"start\" x=\"3111\" y=\"-744.3\" font-family=\"Helvetica,sans-Serif\" font-size=\"14.00\">samples = 3</text>\n<text text-anchor=\"start\" x=\"3109\" y=\"-729.3\" font-family=\"Helvetica,sans-Serif\" font-size=\"14.00\">value = [3, 0]</text>\n<text text-anchor=\"start\" x=\"3121\" y=\"-714.3\" font-family=\"Helvetica,sans-Serif\" font-size=\"14.00\">class = 0</text>\n</g>\n<!-- 115&#45;&gt;121 -->\n<g id=\"edge121\" class=\"edge\">\n<title>115&#45;&gt;121</title>\n<path fill=\"none\" stroke=\"black\" d=\"M3148.5,-817.91C3148.5,-807.2 3148.5,-795.62 3148.5,-784.78\"/>\n<polygon fill=\"black\" stroke=\"black\" points=\"3152,-784.67 3148.5,-774.67 3145,-784.67 3152,-784.67\"/>\n</g>\n<!-- 117 -->\n<g id=\"node118\" class=\"node\">\n<title>117</title>\n<path fill=\"#eeab7b\" stroke=\"black\" d=\"M3056.5,-663C3056.5,-663 2964.5,-663 2964.5,-663 2958.5,-663 2952.5,-657 2952.5,-651 2952.5,-651 2952.5,-592 2952.5,-592 2952.5,-586 2958.5,-580 2964.5,-580 2964.5,-580 3056.5,-580 3056.5,-580 3062.5,-580 3068.5,-586 3068.5,-592 3068.5,-592 3068.5,-651 3068.5,-651 3068.5,-657 3062.5,-663 3056.5,-663\"/>\n<text text-anchor=\"start\" x=\"2960.5\" y=\"-647.8\" font-family=\"Helvetica,sans-Serif\" font-size=\"14.00\">Glucose ≤ 133.5</text>\n<text text-anchor=\"start\" x=\"2975\" y=\"-632.8\" font-family=\"Helvetica,sans-Serif\" font-size=\"14.00\">gini = 0.375</text>\n<text text-anchor=\"start\" x=\"2973\" y=\"-617.8\" font-family=\"Helvetica,sans-Serif\" font-size=\"14.00\">samples = 4</text>\n<text text-anchor=\"start\" x=\"2971\" y=\"-602.8\" font-family=\"Helvetica,sans-Serif\" font-size=\"14.00\">value = [3, 1]</text>\n<text text-anchor=\"start\" x=\"2983\" y=\"-587.8\" font-family=\"Helvetica,sans-Serif\" font-size=\"14.00\">class = 0</text>\n</g>\n<!-- 116&#45;&gt;117 -->\n<g id=\"edge117\" class=\"edge\">\n<title>116&#45;&gt;117</title>\n<path fill=\"none\" stroke=\"black\" d=\"M3010.5,-698.91C3010.5,-690.65 3010.5,-681.86 3010.5,-673.3\"/>\n<polygon fill=\"black\" stroke=\"black\" points=\"3014,-673.02 3010.5,-663.02 3007,-673.02 3014,-673.02\"/>\n</g>\n<!-- 120 -->\n<g id=\"node121\" class=\"node\">\n<title>120</title>\n<path fill=\"#399de5\" stroke=\"black\" d=\"M3170,-655.5C3170,-655.5 3099,-655.5 3099,-655.5 3093,-655.5 3087,-649.5 3087,-643.5 3087,-643.5 3087,-599.5 3087,-599.5 3087,-593.5 3093,-587.5 3099,-587.5 3099,-587.5 3170,-587.5 3170,-587.5 3176,-587.5 3182,-593.5 3182,-599.5 3182,-599.5 3182,-643.5 3182,-643.5 3182,-649.5 3176,-655.5 3170,-655.5\"/>\n<text text-anchor=\"start\" x=\"3106.5\" y=\"-640.3\" font-family=\"Helvetica,sans-Serif\" font-size=\"14.00\">gini = 0.0</text>\n<text text-anchor=\"start\" x=\"3097\" y=\"-625.3\" font-family=\"Helvetica,sans-Serif\" font-size=\"14.00\">samples = 2</text>\n<text text-anchor=\"start\" x=\"3095\" y=\"-610.3\" font-family=\"Helvetica,sans-Serif\" font-size=\"14.00\">value = [0, 2]</text>\n<text text-anchor=\"start\" x=\"3107\" y=\"-595.3\" font-family=\"Helvetica,sans-Serif\" font-size=\"14.00\">class = 1</text>\n</g>\n<!-- 116&#45;&gt;120 -->\n<g id=\"edge120\" class=\"edge\">\n<title>116&#45;&gt;120</title>\n<path fill=\"none\" stroke=\"black\" d=\"M3053.52,-698.91C3065.92,-687.21 3079.43,-674.46 3091.81,-662.78\"/>\n<polygon fill=\"black\" stroke=\"black\" points=\"3094.48,-665.08 3099.35,-655.67 3089.67,-659.98 3094.48,-665.08\"/>\n</g>\n<!-- 118 -->\n<g id=\"node119\" class=\"node\">\n<title>118</title>\n<path fill=\"#e58139\" stroke=\"black\" d=\"M3046,-536.5C3046,-536.5 2975,-536.5 2975,-536.5 2969,-536.5 2963,-530.5 2963,-524.5 2963,-524.5 2963,-480.5 2963,-480.5 2963,-474.5 2969,-468.5 2975,-468.5 2975,-468.5 3046,-468.5 3046,-468.5 3052,-468.5 3058,-474.5 3058,-480.5 3058,-480.5 3058,-524.5 3058,-524.5 3058,-530.5 3052,-536.5 3046,-536.5\"/>\n<text text-anchor=\"start\" x=\"2982.5\" y=\"-521.3\" font-family=\"Helvetica,sans-Serif\" font-size=\"14.00\">gini = 0.0</text>\n<text text-anchor=\"start\" x=\"2973\" y=\"-506.3\" font-family=\"Helvetica,sans-Serif\" font-size=\"14.00\">samples = 3</text>\n<text text-anchor=\"start\" x=\"2971\" y=\"-491.3\" font-family=\"Helvetica,sans-Serif\" font-size=\"14.00\">value = [3, 0]</text>\n<text text-anchor=\"start\" x=\"2983\" y=\"-476.3\" font-family=\"Helvetica,sans-Serif\" font-size=\"14.00\">class = 0</text>\n</g>\n<!-- 117&#45;&gt;118 -->\n<g id=\"edge118\" class=\"edge\">\n<title>117&#45;&gt;118</title>\n<path fill=\"none\" stroke=\"black\" d=\"M3010.5,-579.91C3010.5,-569.2 3010.5,-557.62 3010.5,-546.78\"/>\n<polygon fill=\"black\" stroke=\"black\" points=\"3014,-546.67 3010.5,-536.67 3007,-546.67 3014,-546.67\"/>\n</g>\n<!-- 119 -->\n<g id=\"node120\" class=\"node\">\n<title>119</title>\n<path fill=\"#399de5\" stroke=\"black\" d=\"M3159,-536.5C3159,-536.5 3088,-536.5 3088,-536.5 3082,-536.5 3076,-530.5 3076,-524.5 3076,-524.5 3076,-480.5 3076,-480.5 3076,-474.5 3082,-468.5 3088,-468.5 3088,-468.5 3159,-468.5 3159,-468.5 3165,-468.5 3171,-474.5 3171,-480.5 3171,-480.5 3171,-524.5 3171,-524.5 3171,-530.5 3165,-536.5 3159,-536.5\"/>\n<text text-anchor=\"start\" x=\"3095.5\" y=\"-521.3\" font-family=\"Helvetica,sans-Serif\" font-size=\"14.00\">gini = 0.0</text>\n<text text-anchor=\"start\" x=\"3086\" y=\"-506.3\" font-family=\"Helvetica,sans-Serif\" font-size=\"14.00\">samples = 1</text>\n<text text-anchor=\"start\" x=\"3084\" y=\"-491.3\" font-family=\"Helvetica,sans-Serif\" font-size=\"14.00\">value = [0, 1]</text>\n<text text-anchor=\"start\" x=\"3096\" y=\"-476.3\" font-family=\"Helvetica,sans-Serif\" font-size=\"14.00\">class = 1</text>\n</g>\n<!-- 117&#45;&gt;119 -->\n<g id=\"edge119\" class=\"edge\">\n<title>117&#45;&gt;119</title>\n<path fill=\"none\" stroke=\"black\" d=\"M3049.7,-579.91C3060.89,-568.32 3073.09,-555.7 3084.28,-544.11\"/>\n<polygon fill=\"black\" stroke=\"black\" points=\"3087.04,-546.29 3091.47,-536.67 3082,-541.43 3087.04,-546.29\"/>\n</g>\n<!-- 124 -->\n<g id=\"node125\" class=\"node\">\n<title>124</title>\n<path fill=\"#aad5f4\" stroke=\"black\" d=\"M3491.5,-1139C3491.5,-1139 3413.5,-1139 3413.5,-1139 3407.5,-1139 3401.5,-1133 3401.5,-1127 3401.5,-1127 3401.5,-1068 3401.5,-1068 3401.5,-1062 3407.5,-1056 3413.5,-1056 3413.5,-1056 3491.5,-1056 3491.5,-1056 3497.5,-1056 3503.5,-1062 3503.5,-1068 3503.5,-1068 3503.5,-1127 3503.5,-1127 3503.5,-1133 3497.5,-1139 3491.5,-1139\"/>\n<text text-anchor=\"start\" x=\"3419.5\" y=\"-1123.8\" font-family=\"Helvetica,sans-Serif\" font-size=\"14.00\">Age ≤ 41.0</text>\n<text text-anchor=\"start\" x=\"3417\" y=\"-1108.8\" font-family=\"Helvetica,sans-Serif\" font-size=\"14.00\">gini = 0.463</text>\n<text text-anchor=\"start\" x=\"3411.5\" y=\"-1093.8\" font-family=\"Helvetica,sans-Serif\" font-size=\"14.00\">samples = 22</text>\n<text text-anchor=\"start\" x=\"3409.5\" y=\"-1078.8\" font-family=\"Helvetica,sans-Serif\" font-size=\"14.00\">value = [8, 14]</text>\n<text text-anchor=\"start\" x=\"3425\" y=\"-1063.8\" font-family=\"Helvetica,sans-Serif\" font-size=\"14.00\">class = 1</text>\n</g>\n<!-- 123&#45;&gt;124 -->\n<g id=\"edge124\" class=\"edge\">\n<title>123&#45;&gt;124</title>\n<path fill=\"none\" stroke=\"black\" d=\"M3452.5,-1174.91C3452.5,-1166.65 3452.5,-1157.86 3452.5,-1149.3\"/>\n<polygon fill=\"black\" stroke=\"black\" points=\"3456,-1149.02 3452.5,-1139.02 3449,-1149.02 3456,-1149.02\"/>\n</g>\n<!-- 139 -->\n<g id=\"node140\" class=\"node\">\n<title>139</title>\n<path fill=\"#e58139\" stroke=\"black\" d=\"M3605,-1131.5C3605,-1131.5 3534,-1131.5 3534,-1131.5 3528,-1131.5 3522,-1125.5 3522,-1119.5 3522,-1119.5 3522,-1075.5 3522,-1075.5 3522,-1069.5 3528,-1063.5 3534,-1063.5 3534,-1063.5 3605,-1063.5 3605,-1063.5 3611,-1063.5 3617,-1069.5 3617,-1075.5 3617,-1075.5 3617,-1119.5 3617,-1119.5 3617,-1125.5 3611,-1131.5 3605,-1131.5\"/>\n<text text-anchor=\"start\" x=\"3541.5\" y=\"-1116.3\" font-family=\"Helvetica,sans-Serif\" font-size=\"14.00\">gini = 0.0</text>\n<text text-anchor=\"start\" x=\"3532\" y=\"-1101.3\" font-family=\"Helvetica,sans-Serif\" font-size=\"14.00\">samples = 3</text>\n<text text-anchor=\"start\" x=\"3530\" y=\"-1086.3\" font-family=\"Helvetica,sans-Serif\" font-size=\"14.00\">value = [3, 0]</text>\n<text text-anchor=\"start\" x=\"3542\" y=\"-1071.3\" font-family=\"Helvetica,sans-Serif\" font-size=\"14.00\">class = 0</text>\n</g>\n<!-- 123&#45;&gt;139 -->\n<g id=\"edge139\" class=\"edge\">\n<title>123&#45;&gt;139</title>\n<path fill=\"none\" stroke=\"black\" d=\"M3493.09,-1174.91C3504.79,-1163.21 3517.54,-1150.46 3529.22,-1138.78\"/>\n<polygon fill=\"black\" stroke=\"black\" points=\"3531.74,-1141.21 3536.33,-1131.67 3526.79,-1136.26 3531.74,-1141.21\"/>\n</g>\n<!-- 125 -->\n<g id=\"node126\" class=\"node\">\n<title>125</title>\n<path fill=\"#f8dbc6\" stroke=\"black\" d=\"M3498.5,-1020C3498.5,-1020 3406.5,-1020 3406.5,-1020 3400.5,-1020 3394.5,-1014 3394.5,-1008 3394.5,-1008 3394.5,-949 3394.5,-949 3394.5,-943 3400.5,-937 3406.5,-937 3406.5,-937 3498.5,-937 3498.5,-937 3504.5,-937 3510.5,-943 3510.5,-949 3510.5,-949 3510.5,-1008 3510.5,-1008 3510.5,-1014 3504.5,-1020 3498.5,-1020\"/>\n<text text-anchor=\"start\" x=\"3402.5\" y=\"-1004.8\" font-family=\"Helvetica,sans-Serif\" font-size=\"14.00\">Glucose ≤ 163.0</text>\n<text text-anchor=\"start\" x=\"3417\" y=\"-989.8\" font-family=\"Helvetica,sans-Serif\" font-size=\"14.00\">gini = 0.486</text>\n<text text-anchor=\"start\" x=\"3411.5\" y=\"-974.8\" font-family=\"Helvetica,sans-Serif\" font-size=\"14.00\">samples = 12</text>\n<text text-anchor=\"start\" x=\"3413\" y=\"-959.8\" font-family=\"Helvetica,sans-Serif\" font-size=\"14.00\">value = [7, 5]</text>\n<text text-anchor=\"start\" x=\"3425\" y=\"-944.8\" font-family=\"Helvetica,sans-Serif\" font-size=\"14.00\">class = 0</text>\n</g>\n<!-- 124&#45;&gt;125 -->\n<g id=\"edge125\" class=\"edge\">\n<title>124&#45;&gt;125</title>\n<path fill=\"none\" stroke=\"black\" d=\"M3452.5,-1055.91C3452.5,-1047.65 3452.5,-1038.86 3452.5,-1030.3\"/>\n<polygon fill=\"black\" stroke=\"black\" points=\"3456,-1030.02 3452.5,-1020.02 3449,-1030.02 3456,-1030.02\"/>\n</g>\n<!-- 134 -->\n<g id=\"node135\" class=\"node\">\n<title>134</title>\n<path fill=\"#4fa8e8\" stroke=\"black\" d=\"M3685.5,-1020C3685.5,-1020 3611.5,-1020 3611.5,-1020 3605.5,-1020 3599.5,-1014 3599.5,-1008 3599.5,-1008 3599.5,-949 3599.5,-949 3599.5,-943 3605.5,-937 3611.5,-937 3611.5,-937 3685.5,-937 3685.5,-937 3691.5,-937 3697.5,-943 3697.5,-949 3697.5,-949 3697.5,-1008 3697.5,-1008 3697.5,-1014 3691.5,-1020 3685.5,-1020\"/>\n<text text-anchor=\"start\" x=\"3611.5\" y=\"-1004.8\" font-family=\"Helvetica,sans-Serif\" font-size=\"14.00\">BMI ≤ 27.25</text>\n<text text-anchor=\"start\" x=\"3616.5\" y=\"-989.8\" font-family=\"Helvetica,sans-Serif\" font-size=\"14.00\">gini = 0.18</text>\n<text text-anchor=\"start\" x=\"3607.5\" y=\"-974.8\" font-family=\"Helvetica,sans-Serif\" font-size=\"14.00\">samples = 10</text>\n<text text-anchor=\"start\" x=\"3609\" y=\"-959.8\" font-family=\"Helvetica,sans-Serif\" font-size=\"14.00\">value = [1, 9]</text>\n<text text-anchor=\"start\" x=\"3621\" y=\"-944.8\" font-family=\"Helvetica,sans-Serif\" font-size=\"14.00\">class = 1</text>\n</g>\n<!-- 124&#45;&gt;134 -->\n<g id=\"edge134\" class=\"edge\">\n<title>124&#45;&gt;134</title>\n<path fill=\"none\" stroke=\"black\" d=\"M3503.71,-1061.54C3506.67,-1059.64 3509.61,-1057.78 3512.5,-1056 3537.75,-1040.41 3566.3,-1024.16 3590.69,-1010.66\"/>\n<polygon fill=\"black\" stroke=\"black\" points=\"3592.41,-1013.71 3599.48,-1005.82 3589.03,-1007.58 3592.41,-1013.71\"/>\n</g>\n<!-- 126 -->\n<g id=\"node127\" class=\"node\">\n<title>126</title>\n<path fill=\"#e9965a\" stroke=\"black\" d=\"M3406,-901C3406,-901 3335,-901 3335,-901 3329,-901 3323,-895 3323,-889 3323,-889 3323,-830 3323,-830 3323,-824 3329,-818 3335,-818 3335,-818 3406,-818 3406,-818 3412,-818 3418,-824 3418,-830 3418,-830 3418,-889 3418,-889 3418,-895 3412,-901 3406,-901\"/>\n<text text-anchor=\"start\" x=\"3337.5\" y=\"-885.8\" font-family=\"Helvetica,sans-Serif\" font-size=\"14.00\">Age ≤ 27.5</text>\n<text text-anchor=\"start\" x=\"3335\" y=\"-870.8\" font-family=\"Helvetica,sans-Serif\" font-size=\"14.00\">gini = 0.245</text>\n<text text-anchor=\"start\" x=\"3333\" y=\"-855.8\" font-family=\"Helvetica,sans-Serif\" font-size=\"14.00\">samples = 7</text>\n<text text-anchor=\"start\" x=\"3331\" y=\"-840.8\" font-family=\"Helvetica,sans-Serif\" font-size=\"14.00\">value = [6, 1]</text>\n<text text-anchor=\"start\" x=\"3343\" y=\"-825.8\" font-family=\"Helvetica,sans-Serif\" font-size=\"14.00\">class = 0</text>\n</g>\n<!-- 125&#45;&gt;126 -->\n<g id=\"edge126\" class=\"edge\">\n<title>125&#45;&gt;126</title>\n<path fill=\"none\" stroke=\"black\" d=\"M3424.05,-936.91C3417.82,-928.01 3411.16,-918.51 3404.72,-909.33\"/>\n<polygon fill=\"black\" stroke=\"black\" points=\"3407.5,-907.2 3398.9,-901.02 3401.77,-911.22 3407.5,-907.2\"/>\n</g>\n<!-- 131 -->\n<g id=\"node132\" class=\"node\">\n<title>131</title>\n<path fill=\"#6ab6ec\" stroke=\"black\" d=\"M3570.5,-901C3570.5,-901 3448.5,-901 3448.5,-901 3442.5,-901 3436.5,-895 3436.5,-889 3436.5,-889 3436.5,-830 3436.5,-830 3436.5,-824 3442.5,-818 3448.5,-818 3448.5,-818 3570.5,-818 3570.5,-818 3576.5,-818 3582.5,-824 3582.5,-830 3582.5,-830 3582.5,-889 3582.5,-889 3582.5,-895 3576.5,-901 3570.5,-901\"/>\n<text text-anchor=\"start\" x=\"3444.5\" y=\"-885.8\" font-family=\"Helvetica,sans-Serif\" font-size=\"14.00\">BloodPressure ≤ 60.0</text>\n<text text-anchor=\"start\" x=\"3477.5\" y=\"-870.8\" font-family=\"Helvetica,sans-Serif\" font-size=\"14.00\">gini = 0.32</text>\n<text text-anchor=\"start\" x=\"3472\" y=\"-855.8\" font-family=\"Helvetica,sans-Serif\" font-size=\"14.00\">samples = 5</text>\n<text text-anchor=\"start\" x=\"3470\" y=\"-840.8\" font-family=\"Helvetica,sans-Serif\" font-size=\"14.00\">value = [1, 4]</text>\n<text text-anchor=\"start\" x=\"3482\" y=\"-825.8\" font-family=\"Helvetica,sans-Serif\" font-size=\"14.00\">class = 1</text>\n</g>\n<!-- 125&#45;&gt;131 -->\n<g id=\"edge131\" class=\"edge\">\n<title>125&#45;&gt;131</title>\n<path fill=\"none\" stroke=\"black\" d=\"M3472.28,-936.91C3476.48,-928.29 3480.96,-919.09 3485.3,-910.17\"/>\n<polygon fill=\"black\" stroke=\"black\" points=\"3488.53,-911.54 3489.76,-901.02 3482.23,-908.48 3488.53,-911.54\"/>\n</g>\n<!-- 127 -->\n<g id=\"node128\" class=\"node\">\n<title>127</title>\n<path fill=\"#ffffff\" stroke=\"black\" d=\"M3318.5,-782C3318.5,-782 3226.5,-782 3226.5,-782 3220.5,-782 3214.5,-776 3214.5,-770 3214.5,-770 3214.5,-711 3214.5,-711 3214.5,-705 3220.5,-699 3226.5,-699 3226.5,-699 3318.5,-699 3318.5,-699 3324.5,-699 3330.5,-705 3330.5,-711 3330.5,-711 3330.5,-770 3330.5,-770 3330.5,-776 3324.5,-782 3318.5,-782\"/>\n<text text-anchor=\"start\" x=\"3222.5\" y=\"-766.8\" font-family=\"Helvetica,sans-Serif\" font-size=\"14.00\">Glucose ≤ 156.0</text>\n<text text-anchor=\"start\" x=\"3244.5\" y=\"-751.8\" font-family=\"Helvetica,sans-Serif\" font-size=\"14.00\">gini = 0.5</text>\n<text text-anchor=\"start\" x=\"3235\" y=\"-736.8\" font-family=\"Helvetica,sans-Serif\" font-size=\"14.00\">samples = 2</text>\n<text text-anchor=\"start\" x=\"3233\" y=\"-721.8\" font-family=\"Helvetica,sans-Serif\" font-size=\"14.00\">value = [1, 1]</text>\n<text text-anchor=\"start\" x=\"3245\" y=\"-706.8\" font-family=\"Helvetica,sans-Serif\" font-size=\"14.00\">class = 0</text>\n</g>\n<!-- 126&#45;&gt;127 -->\n<g id=\"edge127\" class=\"edge\">\n<title>126&#45;&gt;127</title>\n<path fill=\"none\" stroke=\"black\" d=\"M3336.5,-817.91C3328.9,-808.83 3320.76,-799.12 3312.93,-789.77\"/>\n<polygon fill=\"black\" stroke=\"black\" points=\"3315.54,-787.44 3306.44,-782.02 3310.18,-791.93 3315.54,-787.44\"/>\n</g>\n<!-- 130 -->\n<g id=\"node131\" class=\"node\">\n<title>130</title>\n<path fill=\"#e58139\" stroke=\"black\" d=\"M3432,-774.5C3432,-774.5 3361,-774.5 3361,-774.5 3355,-774.5 3349,-768.5 3349,-762.5 3349,-762.5 3349,-718.5 3349,-718.5 3349,-712.5 3355,-706.5 3361,-706.5 3361,-706.5 3432,-706.5 3432,-706.5 3438,-706.5 3444,-712.5 3444,-718.5 3444,-718.5 3444,-762.5 3444,-762.5 3444,-768.5 3438,-774.5 3432,-774.5\"/>\n<text text-anchor=\"start\" x=\"3368.5\" y=\"-759.3\" font-family=\"Helvetica,sans-Serif\" font-size=\"14.00\">gini = 0.0</text>\n<text text-anchor=\"start\" x=\"3359\" y=\"-744.3\" font-family=\"Helvetica,sans-Serif\" font-size=\"14.00\">samples = 5</text>\n<text text-anchor=\"start\" x=\"3357\" y=\"-729.3\" font-family=\"Helvetica,sans-Serif\" font-size=\"14.00\">value = [5, 0]</text>\n<text text-anchor=\"start\" x=\"3369\" y=\"-714.3\" font-family=\"Helvetica,sans-Serif\" font-size=\"14.00\">class = 0</text>\n</g>\n<!-- 126&#45;&gt;130 -->\n<g id=\"edge130\" class=\"edge\">\n<title>126&#45;&gt;130</title>\n<path fill=\"none\" stroke=\"black\" d=\"M3379.52,-817.91C3381.92,-807.09 3384.53,-795.38 3386.96,-784.44\"/>\n<polygon fill=\"black\" stroke=\"black\" points=\"3390.38,-785.19 3389.13,-774.67 3383.54,-783.67 3390.38,-785.19\"/>\n</g>\n<!-- 128 -->\n<g id=\"node129\" class=\"node\">\n<title>128</title>\n<path fill=\"#399de5\" stroke=\"black\" d=\"M3295,-655.5C3295,-655.5 3224,-655.5 3224,-655.5 3218,-655.5 3212,-649.5 3212,-643.5 3212,-643.5 3212,-599.5 3212,-599.5 3212,-593.5 3218,-587.5 3224,-587.5 3224,-587.5 3295,-587.5 3295,-587.5 3301,-587.5 3307,-593.5 3307,-599.5 3307,-599.5 3307,-643.5 3307,-643.5 3307,-649.5 3301,-655.5 3295,-655.5\"/>\n<text text-anchor=\"start\" x=\"3231.5\" y=\"-640.3\" font-family=\"Helvetica,sans-Serif\" font-size=\"14.00\">gini = 0.0</text>\n<text text-anchor=\"start\" x=\"3222\" y=\"-625.3\" font-family=\"Helvetica,sans-Serif\" font-size=\"14.00\">samples = 1</text>\n<text text-anchor=\"start\" x=\"3220\" y=\"-610.3\" font-family=\"Helvetica,sans-Serif\" font-size=\"14.00\">value = [0, 1]</text>\n<text text-anchor=\"start\" x=\"3232\" y=\"-595.3\" font-family=\"Helvetica,sans-Serif\" font-size=\"14.00\">class = 1</text>\n</g>\n<!-- 127&#45;&gt;128 -->\n<g id=\"edge128\" class=\"edge\">\n<title>127&#45;&gt;128</title>\n<path fill=\"none\" stroke=\"black\" d=\"M3267.99,-698.91C3266.8,-688.2 3265.51,-676.62 3264.31,-665.78\"/>\n<polygon fill=\"black\" stroke=\"black\" points=\"3267.77,-665.22 3263.19,-655.67 3260.81,-665.99 3267.77,-665.22\"/>\n</g>\n<!-- 129 -->\n<g id=\"node130\" class=\"node\">\n<title>129</title>\n<path fill=\"#e58139\" stroke=\"black\" d=\"M3408,-655.5C3408,-655.5 3337,-655.5 3337,-655.5 3331,-655.5 3325,-649.5 3325,-643.5 3325,-643.5 3325,-599.5 3325,-599.5 3325,-593.5 3331,-587.5 3337,-587.5 3337,-587.5 3408,-587.5 3408,-587.5 3414,-587.5 3420,-593.5 3420,-599.5 3420,-599.5 3420,-643.5 3420,-643.5 3420,-649.5 3414,-655.5 3408,-655.5\"/>\n<text text-anchor=\"start\" x=\"3344.5\" y=\"-640.3\" font-family=\"Helvetica,sans-Serif\" font-size=\"14.00\">gini = 0.0</text>\n<text text-anchor=\"start\" x=\"3335\" y=\"-625.3\" font-family=\"Helvetica,sans-Serif\" font-size=\"14.00\">samples = 1</text>\n<text text-anchor=\"start\" x=\"3333\" y=\"-610.3\" font-family=\"Helvetica,sans-Serif\" font-size=\"14.00\">value = [1, 0]</text>\n<text text-anchor=\"start\" x=\"3345\" y=\"-595.3\" font-family=\"Helvetica,sans-Serif\" font-size=\"14.00\">class = 0</text>\n</g>\n<!-- 127&#45;&gt;129 -->\n<g id=\"edge129\" class=\"edge\">\n<title>127&#45;&gt;129</title>\n<path fill=\"none\" stroke=\"black\" d=\"M3307.19,-698.91C3317,-687.43 3327.68,-674.94 3337.51,-663.44\"/>\n<polygon fill=\"black\" stroke=\"black\" points=\"3340.32,-665.54 3344.15,-655.67 3334.99,-660.99 3340.32,-665.54\"/>\n</g>\n<!-- 132 -->\n<g id=\"node133\" class=\"node\">\n<title>132</title>\n<path fill=\"#e58139\" stroke=\"black\" d=\"M3545,-774.5C3545,-774.5 3474,-774.5 3474,-774.5 3468,-774.5 3462,-768.5 3462,-762.5 3462,-762.5 3462,-718.5 3462,-718.5 3462,-712.5 3468,-706.5 3474,-706.5 3474,-706.5 3545,-706.5 3545,-706.5 3551,-706.5 3557,-712.5 3557,-718.5 3557,-718.5 3557,-762.5 3557,-762.5 3557,-768.5 3551,-774.5 3545,-774.5\"/>\n<text text-anchor=\"start\" x=\"3481.5\" y=\"-759.3\" font-family=\"Helvetica,sans-Serif\" font-size=\"14.00\">gini = 0.0</text>\n<text text-anchor=\"start\" x=\"3472\" y=\"-744.3\" font-family=\"Helvetica,sans-Serif\" font-size=\"14.00\">samples = 1</text>\n<text text-anchor=\"start\" x=\"3470\" y=\"-729.3\" font-family=\"Helvetica,sans-Serif\" font-size=\"14.00\">value = [1, 0]</text>\n<text text-anchor=\"start\" x=\"3482\" y=\"-714.3\" font-family=\"Helvetica,sans-Serif\" font-size=\"14.00\">class = 0</text>\n</g>\n<!-- 131&#45;&gt;132 -->\n<g id=\"edge132\" class=\"edge\">\n<title>131&#45;&gt;132</title>\n<path fill=\"none\" stroke=\"black\" d=\"M3509.5,-817.91C3509.5,-807.2 3509.5,-795.62 3509.5,-784.78\"/>\n<polygon fill=\"black\" stroke=\"black\" points=\"3513,-784.67 3509.5,-774.67 3506,-784.67 3513,-784.67\"/>\n</g>\n<!-- 133 -->\n<g id=\"node134\" class=\"node\">\n<title>133</title>\n<path fill=\"#399de5\" stroke=\"black\" d=\"M3658,-774.5C3658,-774.5 3587,-774.5 3587,-774.5 3581,-774.5 3575,-768.5 3575,-762.5 3575,-762.5 3575,-718.5 3575,-718.5 3575,-712.5 3581,-706.5 3587,-706.5 3587,-706.5 3658,-706.5 3658,-706.5 3664,-706.5 3670,-712.5 3670,-718.5 3670,-718.5 3670,-762.5 3670,-762.5 3670,-768.5 3664,-774.5 3658,-774.5\"/>\n<text text-anchor=\"start\" x=\"3594.5\" y=\"-759.3\" font-family=\"Helvetica,sans-Serif\" font-size=\"14.00\">gini = 0.0</text>\n<text text-anchor=\"start\" x=\"3585\" y=\"-744.3\" font-family=\"Helvetica,sans-Serif\" font-size=\"14.00\">samples = 4</text>\n<text text-anchor=\"start\" x=\"3583\" y=\"-729.3\" font-family=\"Helvetica,sans-Serif\" font-size=\"14.00\">value = [0, 4]</text>\n<text text-anchor=\"start\" x=\"3595\" y=\"-714.3\" font-family=\"Helvetica,sans-Serif\" font-size=\"14.00\">class = 1</text>\n</g>\n<!-- 131&#45;&gt;133 -->\n<g id=\"edge133\" class=\"edge\">\n<title>131&#45;&gt;133</title>\n<path fill=\"none\" stroke=\"black\" d=\"M3548.7,-817.91C3559.89,-806.32 3572.09,-793.7 3583.28,-782.11\"/>\n<polygon fill=\"black\" stroke=\"black\" points=\"3586.04,-784.29 3590.47,-774.67 3581,-779.43 3586.04,-784.29\"/>\n</g>\n<!-- 135 -->\n<g id=\"node136\" class=\"node\">\n<title>135</title>\n<path fill=\"#399de5\" stroke=\"black\" d=\"M3684,-893.5C3684,-893.5 3613,-893.5 3613,-893.5 3607,-893.5 3601,-887.5 3601,-881.5 3601,-881.5 3601,-837.5 3601,-837.5 3601,-831.5 3607,-825.5 3613,-825.5 3613,-825.5 3684,-825.5 3684,-825.5 3690,-825.5 3696,-831.5 3696,-837.5 3696,-837.5 3696,-881.5 3696,-881.5 3696,-887.5 3690,-893.5 3684,-893.5\"/>\n<text text-anchor=\"start\" x=\"3620.5\" y=\"-878.3\" font-family=\"Helvetica,sans-Serif\" font-size=\"14.00\">gini = 0.0</text>\n<text text-anchor=\"start\" x=\"3611\" y=\"-863.3\" font-family=\"Helvetica,sans-Serif\" font-size=\"14.00\">samples = 7</text>\n<text text-anchor=\"start\" x=\"3609\" y=\"-848.3\" font-family=\"Helvetica,sans-Serif\" font-size=\"14.00\">value = [0, 7]</text>\n<text text-anchor=\"start\" x=\"3621\" y=\"-833.3\" font-family=\"Helvetica,sans-Serif\" font-size=\"14.00\">class = 1</text>\n</g>\n<!-- 134&#45;&gt;135 -->\n<g id=\"edge135\" class=\"edge\">\n<title>134&#45;&gt;135</title>\n<path fill=\"none\" stroke=\"black\" d=\"M3648.5,-936.91C3648.5,-926.2 3648.5,-914.62 3648.5,-903.78\"/>\n<polygon fill=\"black\" stroke=\"black\" points=\"3652,-903.67 3648.5,-893.67 3645,-903.67 3652,-903.67\"/>\n</g>\n<!-- 136 -->\n<g id=\"node137\" class=\"node\">\n<title>136</title>\n<path fill=\"#9ccef2\" stroke=\"black\" d=\"M3827,-901C3827,-901 3726,-901 3726,-901 3720,-901 3714,-895 3714,-889 3714,-889 3714,-830 3714,-830 3714,-824 3720,-818 3726,-818 3726,-818 3827,-818 3827,-818 3833,-818 3839,-824 3839,-830 3839,-830 3839,-889 3839,-889 3839,-895 3833,-901 3827,-901\"/>\n<text text-anchor=\"start\" x=\"3722\" y=\"-885.8\" font-family=\"Helvetica,sans-Serif\" font-size=\"14.00\">Pregnancies ≤ 8.0</text>\n<text text-anchor=\"start\" x=\"3741\" y=\"-870.8\" font-family=\"Helvetica,sans-Serif\" font-size=\"14.00\">gini = 0.444</text>\n<text text-anchor=\"start\" x=\"3739\" y=\"-855.8\" font-family=\"Helvetica,sans-Serif\" font-size=\"14.00\">samples = 3</text>\n<text text-anchor=\"start\" x=\"3737\" y=\"-840.8\" font-family=\"Helvetica,sans-Serif\" font-size=\"14.00\">value = [1, 2]</text>\n<text text-anchor=\"start\" x=\"3749\" y=\"-825.8\" font-family=\"Helvetica,sans-Serif\" font-size=\"14.00\">class = 1</text>\n</g>\n<!-- 134&#45;&gt;136 -->\n<g id=\"edge136\" class=\"edge\">\n<title>134&#45;&gt;136</title>\n<path fill=\"none\" stroke=\"black\" d=\"M3692.91,-936.91C3703.14,-927.56 3714.1,-917.54 3724.61,-907.93\"/>\n<polygon fill=\"black\" stroke=\"black\" points=\"3727.15,-910.35 3732.17,-901.02 3722.43,-905.18 3727.15,-910.35\"/>\n</g>\n<!-- 137 -->\n<g id=\"node138\" class=\"node\">\n<title>137</title>\n<path fill=\"#399de5\" stroke=\"black\" d=\"M3771,-774.5C3771,-774.5 3700,-774.5 3700,-774.5 3694,-774.5 3688,-768.5 3688,-762.5 3688,-762.5 3688,-718.5 3688,-718.5 3688,-712.5 3694,-706.5 3700,-706.5 3700,-706.5 3771,-706.5 3771,-706.5 3777,-706.5 3783,-712.5 3783,-718.5 3783,-718.5 3783,-762.5 3783,-762.5 3783,-768.5 3777,-774.5 3771,-774.5\"/>\n<text text-anchor=\"start\" x=\"3707.5\" y=\"-759.3\" font-family=\"Helvetica,sans-Serif\" font-size=\"14.00\">gini = 0.0</text>\n<text text-anchor=\"start\" x=\"3698\" y=\"-744.3\" font-family=\"Helvetica,sans-Serif\" font-size=\"14.00\">samples = 2</text>\n<text text-anchor=\"start\" x=\"3696\" y=\"-729.3\" font-family=\"Helvetica,sans-Serif\" font-size=\"14.00\">value = [0, 2]</text>\n<text text-anchor=\"start\" x=\"3708\" y=\"-714.3\" font-family=\"Helvetica,sans-Serif\" font-size=\"14.00\">class = 1</text>\n</g>\n<!-- 136&#45;&gt;137 -->\n<g id=\"edge137\" class=\"edge\">\n<title>136&#45;&gt;137</title>\n<path fill=\"none\" stroke=\"black\" d=\"M3762.28,-817.91C3758.45,-806.98 3754.3,-795.14 3750.43,-784.11\"/>\n<polygon fill=\"black\" stroke=\"black\" points=\"3753.73,-782.95 3747.12,-774.67 3747.13,-785.26 3753.73,-782.95\"/>\n</g>\n<!-- 138 -->\n<g id=\"node139\" class=\"node\">\n<title>138</title>\n<path fill=\"#e58139\" stroke=\"black\" d=\"M3884,-774.5C3884,-774.5 3813,-774.5 3813,-774.5 3807,-774.5 3801,-768.5 3801,-762.5 3801,-762.5 3801,-718.5 3801,-718.5 3801,-712.5 3807,-706.5 3813,-706.5 3813,-706.5 3884,-706.5 3884,-706.5 3890,-706.5 3896,-712.5 3896,-718.5 3896,-718.5 3896,-762.5 3896,-762.5 3896,-768.5 3890,-774.5 3884,-774.5\"/>\n<text text-anchor=\"start\" x=\"3820.5\" y=\"-759.3\" font-family=\"Helvetica,sans-Serif\" font-size=\"14.00\">gini = 0.0</text>\n<text text-anchor=\"start\" x=\"3811\" y=\"-744.3\" font-family=\"Helvetica,sans-Serif\" font-size=\"14.00\">samples = 1</text>\n<text text-anchor=\"start\" x=\"3809\" y=\"-729.3\" font-family=\"Helvetica,sans-Serif\" font-size=\"14.00\">value = [1, 0]</text>\n<text text-anchor=\"start\" x=\"3821\" y=\"-714.3\" font-family=\"Helvetica,sans-Serif\" font-size=\"14.00\">class = 0</text>\n</g>\n<!-- 136&#45;&gt;138 -->\n<g id=\"edge138\" class=\"edge\">\n<title>136&#45;&gt;138</title>\n<path fill=\"none\" stroke=\"black\" d=\"M3801.48,-817.91C3808.34,-806.76 3815.79,-794.66 3822.69,-783.44\"/>\n<polygon fill=\"black\" stroke=\"black\" points=\"3825.83,-785.02 3828.09,-774.67 3819.87,-781.35 3825.83,-785.02\"/>\n</g>\n<!-- 141 -->\n<g id=\"node142\" class=\"node\">\n<title>141</title>\n<path fill=\"#add7f4\" stroke=\"black\" d=\"M4316.5,-1258C4316.5,-1258 4230.5,-1258 4230.5,-1258 4224.5,-1258 4218.5,-1252 4218.5,-1246 4218.5,-1246 4218.5,-1187 4218.5,-1187 4218.5,-1181 4224.5,-1175 4230.5,-1175 4230.5,-1175 4316.5,-1175 4316.5,-1175 4322.5,-1175 4328.5,-1181 4328.5,-1187 4328.5,-1187 4328.5,-1246 4328.5,-1246 4328.5,-1252 4322.5,-1258 4316.5,-1258\"/>\n<text text-anchor=\"start\" x=\"4240.5\" y=\"-1242.8\" font-family=\"Helvetica,sans-Serif\" font-size=\"14.00\">Age ≤ 30.5</text>\n<text text-anchor=\"start\" x=\"4238\" y=\"-1227.8\" font-family=\"Helvetica,sans-Serif\" font-size=\"14.00\">gini = 0.466</text>\n<text text-anchor=\"start\" x=\"4228.5\" y=\"-1212.8\" font-family=\"Helvetica,sans-Serif\" font-size=\"14.00\">samples = 108</text>\n<text text-anchor=\"start\" x=\"4226.5\" y=\"-1197.8\" font-family=\"Helvetica,sans-Serif\" font-size=\"14.00\">value = [40, 68]</text>\n<text text-anchor=\"start\" x=\"4246\" y=\"-1182.8\" font-family=\"Helvetica,sans-Serif\" font-size=\"14.00\">class = 1</text>\n</g>\n<!-- 140&#45;&gt;141 -->\n<g id=\"edge141\" class=\"edge\">\n<title>140&#45;&gt;141</title>\n<path fill=\"none\" stroke=\"black\" d=\"M4273.5,-1293.91C4273.5,-1285.65 4273.5,-1276.86 4273.5,-1268.3\"/>\n<polygon fill=\"black\" stroke=\"black\" points=\"4277,-1268.02 4273.5,-1258.02 4270,-1268.02 4277,-1268.02\"/>\n</g>\n<!-- 192 -->\n<g id=\"node193\" class=\"node\">\n<title>192</title>\n<path fill=\"#4da7e8\" stroke=\"black\" d=\"M5013.5,-1258C5013.5,-1258 4813.5,-1258 4813.5,-1258 4807.5,-1258 4801.5,-1252 4801.5,-1246 4801.5,-1246 4801.5,-1187 4801.5,-1187 4801.5,-1181 4807.5,-1175 4813.5,-1175 4813.5,-1175 5013.5,-1175 5013.5,-1175 5019.5,-1175 5025.5,-1181 5025.5,-1187 5025.5,-1187 5025.5,-1246 5025.5,-1246 5025.5,-1252 5019.5,-1258 5013.5,-1258\"/>\n<text text-anchor=\"start\" x=\"4809.5\" y=\"-1242.8\" font-family=\"Helvetica,sans-Serif\" font-size=\"14.00\">DiabetesPedigreeFunction ≤ 1.428</text>\n<text text-anchor=\"start\" x=\"4878\" y=\"-1227.8\" font-family=\"Helvetica,sans-Serif\" font-size=\"14.00\">gini = 0.165</text>\n<text text-anchor=\"start\" x=\"4872.5\" y=\"-1212.8\" font-family=\"Helvetica,sans-Serif\" font-size=\"14.00\">samples = 55</text>\n<text text-anchor=\"start\" x=\"4870.5\" y=\"-1197.8\" font-family=\"Helvetica,sans-Serif\" font-size=\"14.00\">value = [5, 50]</text>\n<text text-anchor=\"start\" x=\"4886\" y=\"-1182.8\" font-family=\"Helvetica,sans-Serif\" font-size=\"14.00\">class = 1</text>\n</g>\n<!-- 140&#45;&gt;192 -->\n<g id=\"edge192\" class=\"edge\">\n<title>140&#45;&gt;192</title>\n<path fill=\"none\" stroke=\"black\" d=\"M4332.28,-1323.75C4436.06,-1304.78 4653.77,-1264.98 4791.29,-1239.84\"/>\n<polygon fill=\"black\" stroke=\"black\" points=\"4792.26,-1243.22 4801.47,-1237.98 4791,-1236.34 4792.26,-1243.22\"/>\n</g>\n<!-- 142 -->\n<g id=\"node143\" class=\"node\">\n<title>142</title>\n<path fill=\"#fdf5ef\" stroke=\"black\" d=\"M4217.5,-1139C4217.5,-1139 4095.5,-1139 4095.5,-1139 4089.5,-1139 4083.5,-1133 4083.5,-1127 4083.5,-1127 4083.5,-1068 4083.5,-1068 4083.5,-1062 4089.5,-1056 4095.5,-1056 4095.5,-1056 4217.5,-1056 4217.5,-1056 4223.5,-1056 4229.5,-1062 4229.5,-1068 4229.5,-1068 4229.5,-1127 4229.5,-1127 4229.5,-1133 4223.5,-1139 4217.5,-1139\"/>\n<text text-anchor=\"start\" x=\"4091.5\" y=\"-1123.8\" font-family=\"Helvetica,sans-Serif\" font-size=\"14.00\">BloodPressure ≤ 61.0</text>\n<text text-anchor=\"start\" x=\"4121\" y=\"-1108.8\" font-family=\"Helvetica,sans-Serif\" font-size=\"14.00\">gini = 0.499</text>\n<text text-anchor=\"start\" x=\"4115.5\" y=\"-1093.8\" font-family=\"Helvetica,sans-Serif\" font-size=\"14.00\">samples = 48</text>\n<text text-anchor=\"start\" x=\"4109.5\" y=\"-1078.8\" font-family=\"Helvetica,sans-Serif\" font-size=\"14.00\">value = [25, 23]</text>\n<text text-anchor=\"start\" x=\"4129\" y=\"-1063.8\" font-family=\"Helvetica,sans-Serif\" font-size=\"14.00\">class = 0</text>\n</g>\n<!-- 141&#45;&gt;142 -->\n<g id=\"edge142\" class=\"edge\">\n<title>141&#45;&gt;142</title>\n<path fill=\"none\" stroke=\"black\" d=\"M4232.91,-1174.91C4223.65,-1165.65 4213.73,-1155.73 4204.21,-1146.21\"/>\n<polygon fill=\"black\" stroke=\"black\" points=\"4206.57,-1143.62 4197.02,-1139.02 4201.62,-1148.57 4206.57,-1143.62\"/>\n</g>\n<!-- 163 -->\n<g id=\"node164\" class=\"node\">\n<title>163</title>\n<path fill=\"#7bbeee\" stroke=\"black\" d=\"M4475.5,-1139C4475.5,-1139 4275.5,-1139 4275.5,-1139 4269.5,-1139 4263.5,-1133 4263.5,-1127 4263.5,-1127 4263.5,-1068 4263.5,-1068 4263.5,-1062 4269.5,-1056 4275.5,-1056 4275.5,-1056 4475.5,-1056 4475.5,-1056 4481.5,-1056 4487.5,-1062 4487.5,-1068 4487.5,-1068 4487.5,-1127 4487.5,-1127 4487.5,-1133 4481.5,-1139 4475.5,-1139\"/>\n<text text-anchor=\"start\" x=\"4271.5\" y=\"-1123.8\" font-family=\"Helvetica,sans-Serif\" font-size=\"14.00\">DiabetesPedigreeFunction ≤ 0.429</text>\n<text text-anchor=\"start\" x=\"4340\" y=\"-1108.8\" font-family=\"Helvetica,sans-Serif\" font-size=\"14.00\">gini = 0.375</text>\n<text text-anchor=\"start\" x=\"4334.5\" y=\"-1093.8\" font-family=\"Helvetica,sans-Serif\" font-size=\"14.00\">samples = 60</text>\n<text text-anchor=\"start\" x=\"4328.5\" y=\"-1078.8\" font-family=\"Helvetica,sans-Serif\" font-size=\"14.00\">value = [15, 45]</text>\n<text text-anchor=\"start\" x=\"4348\" y=\"-1063.8\" font-family=\"Helvetica,sans-Serif\" font-size=\"14.00\">class = 1</text>\n</g>\n<!-- 141&#45;&gt;163 -->\n<g id=\"edge163\" class=\"edge\">\n<title>141&#45;&gt;163</title>\n<path fill=\"none\" stroke=\"black\" d=\"M4308.89,-1174.91C4316.8,-1165.83 4325.27,-1156.12 4333.42,-1146.77\"/>\n<polygon fill=\"black\" stroke=\"black\" points=\"4336.24,-1148.86 4340.17,-1139.02 4330.96,-1144.26 4336.24,-1148.86\"/>\n</g>\n<!-- 143 -->\n<g id=\"node144\" class=\"node\">\n<title>143</title>\n<path fill=\"#399de5\" stroke=\"black\" d=\"M4071,-1012.5C4071,-1012.5 4000,-1012.5 4000,-1012.5 3994,-1012.5 3988,-1006.5 3988,-1000.5 3988,-1000.5 3988,-956.5 3988,-956.5 3988,-950.5 3994,-944.5 4000,-944.5 4000,-944.5 4071,-944.5 4071,-944.5 4077,-944.5 4083,-950.5 4083,-956.5 4083,-956.5 4083,-1000.5 4083,-1000.5 4083,-1006.5 4077,-1012.5 4071,-1012.5\"/>\n<text text-anchor=\"start\" x=\"4007.5\" y=\"-997.3\" font-family=\"Helvetica,sans-Serif\" font-size=\"14.00\">gini = 0.0</text>\n<text text-anchor=\"start\" x=\"3998\" y=\"-982.3\" font-family=\"Helvetica,sans-Serif\" font-size=\"14.00\">samples = 8</text>\n<text text-anchor=\"start\" x=\"3996\" y=\"-967.3\" font-family=\"Helvetica,sans-Serif\" font-size=\"14.00\">value = [0, 8]</text>\n<text text-anchor=\"start\" x=\"4008\" y=\"-952.3\" font-family=\"Helvetica,sans-Serif\" font-size=\"14.00\">class = 1</text>\n</g>\n<!-- 142&#45;&gt;143 -->\n<g id=\"edge143\" class=\"edge\">\n<title>142&#45;&gt;143</title>\n<path fill=\"none\" stroke=\"black\" d=\"M4114.52,-1055.91C4102.42,-1044.21 4089.23,-1031.46 4077.16,-1019.78\"/>\n<polygon fill=\"black\" stroke=\"black\" points=\"4079.42,-1017.1 4069.8,-1012.67 4074.56,-1022.13 4079.42,-1017.1\"/>\n</g>\n<!-- 144 -->\n<g id=\"node145\" class=\"node\">\n<title>144</title>\n<path fill=\"#f5cdb0\" stroke=\"black\" d=\"M4199.5,-1020C4199.5,-1020 4113.5,-1020 4113.5,-1020 4107.5,-1020 4101.5,-1014 4101.5,-1008 4101.5,-1008 4101.5,-949 4101.5,-949 4101.5,-943 4107.5,-937 4113.5,-937 4113.5,-937 4199.5,-937 4199.5,-937 4205.5,-937 4211.5,-943 4211.5,-949 4211.5,-949 4211.5,-1008 4211.5,-1008 4211.5,-1014 4205.5,-1020 4199.5,-1020\"/>\n<text text-anchor=\"start\" x=\"4112.5\" y=\"-1004.8\" font-family=\"Helvetica,sans-Serif\" font-size=\"14.00\">Insulin ≤ 252.5</text>\n<text text-anchor=\"start\" x=\"4121\" y=\"-989.8\" font-family=\"Helvetica,sans-Serif\" font-size=\"14.00\">gini = 0.469</text>\n<text text-anchor=\"start\" x=\"4115.5\" y=\"-974.8\" font-family=\"Helvetica,sans-Serif\" font-size=\"14.00\">samples = 40</text>\n<text text-anchor=\"start\" x=\"4109.5\" y=\"-959.8\" font-family=\"Helvetica,sans-Serif\" font-size=\"14.00\">value = [25, 15]</text>\n<text text-anchor=\"start\" x=\"4129\" y=\"-944.8\" font-family=\"Helvetica,sans-Serif\" font-size=\"14.00\">class = 0</text>\n</g>\n<!-- 142&#45;&gt;144 -->\n<g id=\"edge144\" class=\"edge\">\n<title>142&#45;&gt;144</title>\n<path fill=\"none\" stroke=\"black\" d=\"M4156.5,-1055.91C4156.5,-1047.65 4156.5,-1038.86 4156.5,-1030.3\"/>\n<polygon fill=\"black\" stroke=\"black\" points=\"4160,-1030.02 4156.5,-1020.02 4153,-1030.02 4160,-1030.02\"/>\n</g>\n<!-- 145 -->\n<g id=\"node146\" class=\"node\">\n<title>145</title>\n<path fill=\"#f2f8fd\" stroke=\"black\" d=\"M4075.5,-901C4075.5,-901 3953.5,-901 3953.5,-901 3947.5,-901 3941.5,-895 3941.5,-889 3941.5,-889 3941.5,-830 3941.5,-830 3941.5,-824 3947.5,-818 3953.5,-818 3953.5,-818 4075.5,-818 4075.5,-818 4081.5,-818 4087.5,-824 4087.5,-830 4087.5,-830 4087.5,-889 4087.5,-889 4087.5,-895 4081.5,-901 4075.5,-901\"/>\n<text text-anchor=\"start\" x=\"3949.5\" y=\"-885.8\" font-family=\"Helvetica,sans-Serif\" font-size=\"14.00\">BloodPressure ≤ 85.0</text>\n<text text-anchor=\"start\" x=\"3979\" y=\"-870.8\" font-family=\"Helvetica,sans-Serif\" font-size=\"14.00\">gini = 0.499</text>\n<text text-anchor=\"start\" x=\"3973.5\" y=\"-855.8\" font-family=\"Helvetica,sans-Serif\" font-size=\"14.00\">samples = 29</text>\n<text text-anchor=\"start\" x=\"3967.5\" y=\"-840.8\" font-family=\"Helvetica,sans-Serif\" font-size=\"14.00\">value = [14, 15]</text>\n<text text-anchor=\"start\" x=\"3987\" y=\"-825.8\" font-family=\"Helvetica,sans-Serif\" font-size=\"14.00\">class = 1</text>\n</g>\n<!-- 144&#45;&gt;145 -->\n<g id=\"edge145\" class=\"edge\">\n<title>144&#45;&gt;145</title>\n<path fill=\"none\" stroke=\"black\" d=\"M4107.23,-936.91C4095.78,-927.47 4083.49,-917.34 4071.72,-907.65\"/>\n<polygon fill=\"black\" stroke=\"black\" points=\"4073.62,-904.68 4063.68,-901.02 4069.17,-910.08 4073.62,-904.68\"/>\n</g>\n<!-- 162 -->\n<g id=\"node163\" class=\"node\">\n<title>162</title>\n<path fill=\"#e58139\" stroke=\"black\" d=\"M4195.5,-893.5C4195.5,-893.5 4117.5,-893.5 4117.5,-893.5 4111.5,-893.5 4105.5,-887.5 4105.5,-881.5 4105.5,-881.5 4105.5,-837.5 4105.5,-837.5 4105.5,-831.5 4111.5,-825.5 4117.5,-825.5 4117.5,-825.5 4195.5,-825.5 4195.5,-825.5 4201.5,-825.5 4207.5,-831.5 4207.5,-837.5 4207.5,-837.5 4207.5,-881.5 4207.5,-881.5 4207.5,-887.5 4201.5,-893.5 4195.5,-893.5\"/>\n<text text-anchor=\"start\" x=\"4128.5\" y=\"-878.3\" font-family=\"Helvetica,sans-Serif\" font-size=\"14.00\">gini = 0.0</text>\n<text text-anchor=\"start\" x=\"4115.5\" y=\"-863.3\" font-family=\"Helvetica,sans-Serif\" font-size=\"14.00\">samples = 11</text>\n<text text-anchor=\"start\" x=\"4113.5\" y=\"-848.3\" font-family=\"Helvetica,sans-Serif\" font-size=\"14.00\">value = [11, 0]</text>\n<text text-anchor=\"start\" x=\"4129\" y=\"-833.3\" font-family=\"Helvetica,sans-Serif\" font-size=\"14.00\">class = 0</text>\n</g>\n<!-- 144&#45;&gt;162 -->\n<g id=\"edge162\" class=\"edge\">\n<title>144&#45;&gt;162</title>\n<path fill=\"none\" stroke=\"black\" d=\"M4156.5,-936.91C4156.5,-926.2 4156.5,-914.62 4156.5,-903.78\"/>\n<polygon fill=\"black\" stroke=\"black\" points=\"4160,-903.67 4156.5,-893.67 4153,-903.67 4160,-903.67\"/>\n</g>\n<!-- 146 -->\n<g id=\"node147\" class=\"node\">\n<title>146</title>\n<path fill=\"#f9e4d5\" stroke=\"black\" d=\"M4018.5,-782C4018.5,-782 3926.5,-782 3926.5,-782 3920.5,-782 3914.5,-776 3914.5,-770 3914.5,-770 3914.5,-711 3914.5,-711 3914.5,-705 3920.5,-699 3926.5,-699 3926.5,-699 4018.5,-699 4018.5,-699 4024.5,-699 4030.5,-705 4030.5,-711 4030.5,-711 4030.5,-770 4030.5,-770 4030.5,-776 4024.5,-782 4018.5,-782\"/>\n<text text-anchor=\"start\" x=\"3922.5\" y=\"-766.8\" font-family=\"Helvetica,sans-Serif\" font-size=\"14.00\">Glucose ≤ 156.0</text>\n<text text-anchor=\"start\" x=\"3937\" y=\"-751.8\" font-family=\"Helvetica,sans-Serif\" font-size=\"14.00\">gini = 0.493</text>\n<text text-anchor=\"start\" x=\"3931.5\" y=\"-736.8\" font-family=\"Helvetica,sans-Serif\" font-size=\"14.00\">samples = 25</text>\n<text text-anchor=\"start\" x=\"3925.5\" y=\"-721.8\" font-family=\"Helvetica,sans-Serif\" font-size=\"14.00\">value = [14, 11]</text>\n<text text-anchor=\"start\" x=\"3945\" y=\"-706.8\" font-family=\"Helvetica,sans-Serif\" font-size=\"14.00\">class = 0</text>\n</g>\n<!-- 145&#45;&gt;146 -->\n<g id=\"edge146\" class=\"edge\">\n<title>145&#45;&gt;146</title>\n<path fill=\"none\" stroke=\"black\" d=\"M3999.93,-817.91C3996.87,-809.38 3993.6,-800.28 3990.43,-791.46\"/>\n<polygon fill=\"black\" stroke=\"black\" points=\"3993.72,-790.25 3987.05,-782.02 3987.13,-792.62 3993.72,-790.25\"/>\n</g>\n<!-- 161 -->\n<g id=\"node162\" class=\"node\">\n<title>161</title>\n<path fill=\"#399de5\" stroke=\"black\" d=\"M4132,-774.5C4132,-774.5 4061,-774.5 4061,-774.5 4055,-774.5 4049,-768.5 4049,-762.5 4049,-762.5 4049,-718.5 4049,-718.5 4049,-712.5 4055,-706.5 4061,-706.5 4061,-706.5 4132,-706.5 4132,-706.5 4138,-706.5 4144,-712.5 4144,-718.5 4144,-718.5 4144,-762.5 4144,-762.5 4144,-768.5 4138,-774.5 4132,-774.5\"/>\n<text text-anchor=\"start\" x=\"4068.5\" y=\"-759.3\" font-family=\"Helvetica,sans-Serif\" font-size=\"14.00\">gini = 0.0</text>\n<text text-anchor=\"start\" x=\"4059\" y=\"-744.3\" font-family=\"Helvetica,sans-Serif\" font-size=\"14.00\">samples = 4</text>\n<text text-anchor=\"start\" x=\"4057\" y=\"-729.3\" font-family=\"Helvetica,sans-Serif\" font-size=\"14.00\">value = [0, 4]</text>\n<text text-anchor=\"start\" x=\"4069\" y=\"-714.3\" font-family=\"Helvetica,sans-Serif\" font-size=\"14.00\">class = 1</text>\n</g>\n<!-- 145&#45;&gt;161 -->\n<g id=\"edge161\" class=\"edge\">\n<title>145&#45;&gt;161</title>\n<path fill=\"none\" stroke=\"black\" d=\"M4042.95,-817.91C4050.84,-806.65 4059.41,-794.42 4067.34,-783.11\"/>\n<polygon fill=\"black\" stroke=\"black\" points=\"4070.38,-784.86 4073.25,-774.67 4064.65,-780.85 4070.38,-784.86\"/>\n</g>\n<!-- 147 -->\n<g id=\"node148\" class=\"node\">\n<title>147</title>\n<path fill=\"#f4c9aa\" stroke=\"black\" d=\"M3898.5,-663C3898.5,-663 3776.5,-663 3776.5,-663 3770.5,-663 3764.5,-657 3764.5,-651 3764.5,-651 3764.5,-592 3764.5,-592 3764.5,-586 3770.5,-580 3776.5,-580 3776.5,-580 3898.5,-580 3898.5,-580 3904.5,-580 3910.5,-586 3910.5,-592 3910.5,-592 3910.5,-651 3910.5,-651 3910.5,-657 3904.5,-663 3898.5,-663\"/>\n<text text-anchor=\"start\" x=\"3772.5\" y=\"-647.8\" font-family=\"Helvetica,sans-Serif\" font-size=\"14.00\">BloodPressure ≤ 73.0</text>\n<text text-anchor=\"start\" x=\"3802\" y=\"-632.8\" font-family=\"Helvetica,sans-Serif\" font-size=\"14.00\">gini = 0.463</text>\n<text text-anchor=\"start\" x=\"3796.5\" y=\"-617.8\" font-family=\"Helvetica,sans-Serif\" font-size=\"14.00\">samples = 22</text>\n<text text-anchor=\"start\" x=\"3794.5\" y=\"-602.8\" font-family=\"Helvetica,sans-Serif\" font-size=\"14.00\">value = [14, 8]</text>\n<text text-anchor=\"start\" x=\"3810\" y=\"-587.8\" font-family=\"Helvetica,sans-Serif\" font-size=\"14.00\">class = 0</text>\n</g>\n<!-- 146&#45;&gt;147 -->\n<g id=\"edge147\" class=\"edge\">\n<title>146&#45;&gt;147</title>\n<path fill=\"none\" stroke=\"black\" d=\"M3925.66,-698.91C3914.77,-689.47 3903.09,-679.34 3891.9,-669.65\"/>\n<polygon fill=\"black\" stroke=\"black\" points=\"3894.1,-666.93 3884.25,-663.02 3889.52,-672.22 3894.1,-666.93\"/>\n</g>\n<!-- 160 -->\n<g id=\"node161\" class=\"node\">\n<title>160</title>\n<path fill=\"#399de5\" stroke=\"black\" d=\"M4012,-655.5C4012,-655.5 3941,-655.5 3941,-655.5 3935,-655.5 3929,-649.5 3929,-643.5 3929,-643.5 3929,-599.5 3929,-599.5 3929,-593.5 3935,-587.5 3941,-587.5 3941,-587.5 4012,-587.5 4012,-587.5 4018,-587.5 4024,-593.5 4024,-599.5 4024,-599.5 4024,-643.5 4024,-643.5 4024,-649.5 4018,-655.5 4012,-655.5\"/>\n<text text-anchor=\"start\" x=\"3948.5\" y=\"-640.3\" font-family=\"Helvetica,sans-Serif\" font-size=\"14.00\">gini = 0.0</text>\n<text text-anchor=\"start\" x=\"3939\" y=\"-625.3\" font-family=\"Helvetica,sans-Serif\" font-size=\"14.00\">samples = 3</text>\n<text text-anchor=\"start\" x=\"3937\" y=\"-610.3\" font-family=\"Helvetica,sans-Serif\" font-size=\"14.00\">value = [0, 3]</text>\n<text text-anchor=\"start\" x=\"3949\" y=\"-595.3\" font-family=\"Helvetica,sans-Serif\" font-size=\"14.00\">class = 1</text>\n</g>\n<!-- 146&#45;&gt;160 -->\n<g id=\"edge160\" class=\"edge\">\n<title>146&#45;&gt;160</title>\n<path fill=\"none\" stroke=\"black\" d=\"M3973.89,-698.91C3974.25,-688.2 3974.65,-676.62 3975.02,-665.78\"/>\n<polygon fill=\"black\" stroke=\"black\" points=\"3978.52,-665.78 3975.37,-655.67 3971.53,-665.54 3978.52,-665.78\"/>\n</g>\n<!-- 148 -->\n<g id=\"node149\" class=\"node\">\n<title>148</title>\n<path fill=\"#e3f1fb\" stroke=\"black\" d=\"M3795.5,-544C3795.5,-544 3595.5,-544 3595.5,-544 3589.5,-544 3583.5,-538 3583.5,-532 3583.5,-532 3583.5,-473 3583.5,-473 3583.5,-467 3589.5,-461 3595.5,-461 3595.5,-461 3795.5,-461 3795.5,-461 3801.5,-461 3807.5,-467 3807.5,-473 3807.5,-473 3807.5,-532 3807.5,-532 3807.5,-538 3801.5,-544 3795.5,-544\"/>\n<text text-anchor=\"start\" x=\"3591.5\" y=\"-528.8\" font-family=\"Helvetica,sans-Serif\" font-size=\"14.00\">DiabetesPedigreeFunction ≤ 0.318</text>\n<text text-anchor=\"start\" x=\"3660\" y=\"-513.8\" font-family=\"Helvetica,sans-Serif\" font-size=\"14.00\">gini = 0.497</text>\n<text text-anchor=\"start\" x=\"3654.5\" y=\"-498.8\" font-family=\"Helvetica,sans-Serif\" font-size=\"14.00\">samples = 13</text>\n<text text-anchor=\"start\" x=\"3656\" y=\"-483.8\" font-family=\"Helvetica,sans-Serif\" font-size=\"14.00\">value = [6, 7]</text>\n<text text-anchor=\"start\" x=\"3668\" y=\"-468.8\" font-family=\"Helvetica,sans-Serif\" font-size=\"14.00\">class = 1</text>\n</g>\n<!-- 147&#45;&gt;148 -->\n<g id=\"edge148\" class=\"edge\">\n<title>147&#45;&gt;148</title>\n<path fill=\"none\" stroke=\"black\" d=\"M3788.23,-579.91C3776.78,-570.47 3764.49,-560.34 3752.72,-550.65\"/>\n<polygon fill=\"black\" stroke=\"black\" points=\"3754.62,-547.68 3744.68,-544.02 3750.17,-553.08 3754.62,-547.68\"/>\n</g>\n<!-- 155 -->\n<g id=\"node156\" class=\"node\">\n<title>155</title>\n<path fill=\"#e89152\" stroke=\"black\" d=\"M3939,-544C3939,-544 3838,-544 3838,-544 3832,-544 3826,-538 3826,-532 3826,-532 3826,-473 3826,-473 3826,-467 3832,-461 3838,-461 3838,-461 3939,-461 3939,-461 3945,-461 3951,-467 3951,-473 3951,-473 3951,-532 3951,-532 3951,-538 3945,-544 3939,-544\"/>\n<text text-anchor=\"start\" x=\"3834\" y=\"-528.8\" font-family=\"Helvetica,sans-Serif\" font-size=\"14.00\">Pregnancies ≤ 4.5</text>\n<text text-anchor=\"start\" x=\"3853\" y=\"-513.8\" font-family=\"Helvetica,sans-Serif\" font-size=\"14.00\">gini = 0.198</text>\n<text text-anchor=\"start\" x=\"3851\" y=\"-498.8\" font-family=\"Helvetica,sans-Serif\" font-size=\"14.00\">samples = 9</text>\n<text text-anchor=\"start\" x=\"3849\" y=\"-483.8\" font-family=\"Helvetica,sans-Serif\" font-size=\"14.00\">value = [8, 1]</text>\n<text text-anchor=\"start\" x=\"3861\" y=\"-468.8\" font-family=\"Helvetica,sans-Serif\" font-size=\"14.00\">class = 0</text>\n</g>\n<!-- 147&#45;&gt;155 -->\n<g id=\"edge155\" class=\"edge\">\n<title>147&#45;&gt;155</title>\n<path fill=\"none\" stroke=\"black\" d=\"M3855.19,-579.91C3858.91,-571.38 3862.88,-562.28 3866.72,-553.46\"/>\n<polygon fill=\"black\" stroke=\"black\" points=\"3870.05,-554.59 3870.84,-544.02 3863.63,-551.79 3870.05,-554.59\"/>\n</g>\n<!-- 149 -->\n<g id=\"node150\" class=\"node\">\n<title>149</title>\n<path fill=\"#eca06a\" stroke=\"black\" d=\"M3605,-425C3605,-425 3484,-425 3484,-425 3478,-425 3472,-419 3472,-413 3472,-413 3472,-354 3472,-354 3472,-348 3478,-342 3484,-342 3484,-342 3605,-342 3605,-342 3611,-342 3617,-348 3617,-354 3617,-354 3617,-413 3617,-413 3617,-419 3611,-425 3605,-425\"/>\n<text text-anchor=\"start\" x=\"3480\" y=\"-409.8\" font-family=\"Helvetica,sans-Serif\" font-size=\"14.00\">SkinThickness ≤ 39.0</text>\n<text text-anchor=\"start\" x=\"3512.5\" y=\"-394.8\" font-family=\"Helvetica,sans-Serif\" font-size=\"14.00\">gini = 0.32</text>\n<text text-anchor=\"start\" x=\"3507\" y=\"-379.8\" font-family=\"Helvetica,sans-Serif\" font-size=\"14.00\">samples = 5</text>\n<text text-anchor=\"start\" x=\"3505\" y=\"-364.8\" font-family=\"Helvetica,sans-Serif\" font-size=\"14.00\">value = [4, 1]</text>\n<text text-anchor=\"start\" x=\"3517\" y=\"-349.8\" font-family=\"Helvetica,sans-Serif\" font-size=\"14.00\">class = 0</text>\n</g>\n<!-- 148&#45;&gt;149 -->\n<g id=\"edge149\" class=\"edge\">\n<title>148&#45;&gt;149</title>\n<path fill=\"none\" stroke=\"black\" d=\"M3643.11,-460.91C3630.81,-451.38 3617.61,-441.15 3604.99,-431.37\"/>\n<polygon fill=\"black\" stroke=\"black\" points=\"3606.84,-428.38 3596.8,-425.02 3602.56,-433.91 3606.84,-428.38\"/>\n</g>\n<!-- 152 -->\n<g id=\"node153\" class=\"node\">\n<title>152</title>\n<path fill=\"#7bbeee\" stroke=\"black\" d=\"M3769.5,-425C3769.5,-425 3647.5,-425 3647.5,-425 3641.5,-425 3635.5,-419 3635.5,-413 3635.5,-413 3635.5,-354 3635.5,-354 3635.5,-348 3641.5,-342 3647.5,-342 3647.5,-342 3769.5,-342 3769.5,-342 3775.5,-342 3781.5,-348 3781.5,-354 3781.5,-354 3781.5,-413 3781.5,-413 3781.5,-419 3775.5,-425 3769.5,-425\"/>\n<text text-anchor=\"start\" x=\"3643.5\" y=\"-409.8\" font-family=\"Helvetica,sans-Serif\" font-size=\"14.00\">BloodPressure ≤ 66.0</text>\n<text text-anchor=\"start\" x=\"3673\" y=\"-394.8\" font-family=\"Helvetica,sans-Serif\" font-size=\"14.00\">gini = 0.375</text>\n<text text-anchor=\"start\" x=\"3671\" y=\"-379.8\" font-family=\"Helvetica,sans-Serif\" font-size=\"14.00\">samples = 8</text>\n<text text-anchor=\"start\" x=\"3669\" y=\"-364.8\" font-family=\"Helvetica,sans-Serif\" font-size=\"14.00\">value = [2, 6]</text>\n<text text-anchor=\"start\" x=\"3681\" y=\"-349.8\" font-family=\"Helvetica,sans-Serif\" font-size=\"14.00\">class = 1</text>\n</g>\n<!-- 148&#45;&gt;152 -->\n<g id=\"edge152\" class=\"edge\">\n<title>148&#45;&gt;152</title>\n<path fill=\"none\" stroke=\"black\" d=\"M3700.01,-460.91C3700.94,-452.56 3701.93,-443.67 3702.89,-435.02\"/>\n<polygon fill=\"black\" stroke=\"black\" points=\"3706.37,-435.35 3704,-425.02 3699.41,-434.57 3706.37,-435.35\"/>\n</g>\n<!-- 150 -->\n<g id=\"node151\" class=\"node\">\n<title>150</title>\n<path fill=\"#e58139\" stroke=\"black\" d=\"M3480,-298.5C3480,-298.5 3409,-298.5 3409,-298.5 3403,-298.5 3397,-292.5 3397,-286.5 3397,-286.5 3397,-242.5 3397,-242.5 3397,-236.5 3403,-230.5 3409,-230.5 3409,-230.5 3480,-230.5 3480,-230.5 3486,-230.5 3492,-236.5 3492,-242.5 3492,-242.5 3492,-286.5 3492,-286.5 3492,-292.5 3486,-298.5 3480,-298.5\"/>\n<text text-anchor=\"start\" x=\"3416.5\" y=\"-283.3\" font-family=\"Helvetica,sans-Serif\" font-size=\"14.00\">gini = 0.0</text>\n<text text-anchor=\"start\" x=\"3407\" y=\"-268.3\" font-family=\"Helvetica,sans-Serif\" font-size=\"14.00\">samples = 4</text>\n<text text-anchor=\"start\" x=\"3405\" y=\"-253.3\" font-family=\"Helvetica,sans-Serif\" font-size=\"14.00\">value = [4, 0]</text>\n<text text-anchor=\"start\" x=\"3417\" y=\"-238.3\" font-family=\"Helvetica,sans-Serif\" font-size=\"14.00\">class = 0</text>\n</g>\n<!-- 149&#45;&gt;150 -->\n<g id=\"edge150\" class=\"edge\">\n<title>149&#45;&gt;150</title>\n<path fill=\"none\" stroke=\"black\" d=\"M3509.81,-341.91C3500,-330.43 3489.32,-317.94 3479.49,-306.44\"/>\n<polygon fill=\"black\" stroke=\"black\" points=\"3482.01,-303.99 3472.85,-298.67 3476.68,-308.54 3482.01,-303.99\"/>\n</g>\n<!-- 151 -->\n<g id=\"node152\" class=\"node\">\n<title>151</title>\n<path fill=\"#399de5\" stroke=\"black\" d=\"M3593,-298.5C3593,-298.5 3522,-298.5 3522,-298.5 3516,-298.5 3510,-292.5 3510,-286.5 3510,-286.5 3510,-242.5 3510,-242.5 3510,-236.5 3516,-230.5 3522,-230.5 3522,-230.5 3593,-230.5 3593,-230.5 3599,-230.5 3605,-236.5 3605,-242.5 3605,-242.5 3605,-286.5 3605,-286.5 3605,-292.5 3599,-298.5 3593,-298.5\"/>\n<text text-anchor=\"start\" x=\"3529.5\" y=\"-283.3\" font-family=\"Helvetica,sans-Serif\" font-size=\"14.00\">gini = 0.0</text>\n<text text-anchor=\"start\" x=\"3520\" y=\"-268.3\" font-family=\"Helvetica,sans-Serif\" font-size=\"14.00\">samples = 1</text>\n<text text-anchor=\"start\" x=\"3518\" y=\"-253.3\" font-family=\"Helvetica,sans-Serif\" font-size=\"14.00\">value = [0, 1]</text>\n<text text-anchor=\"start\" x=\"3530\" y=\"-238.3\" font-family=\"Helvetica,sans-Serif\" font-size=\"14.00\">class = 1</text>\n</g>\n<!-- 149&#45;&gt;151 -->\n<g id=\"edge151\" class=\"edge\">\n<title>149&#45;&gt;151</title>\n<path fill=\"none\" stroke=\"black\" d=\"M3549.01,-341.91C3550.2,-331.2 3551.49,-319.62 3552.69,-308.78\"/>\n<polygon fill=\"black\" stroke=\"black\" points=\"3556.19,-308.99 3553.81,-298.67 3549.23,-308.22 3556.19,-308.99\"/>\n</g>\n<!-- 153 -->\n<g id=\"node154\" class=\"node\">\n<title>153</title>\n<path fill=\"#e58139\" stroke=\"black\" d=\"M3731,-298.5C3731,-298.5 3660,-298.5 3660,-298.5 3654,-298.5 3648,-292.5 3648,-286.5 3648,-286.5 3648,-242.5 3648,-242.5 3648,-236.5 3654,-230.5 3660,-230.5 3660,-230.5 3731,-230.5 3731,-230.5 3737,-230.5 3743,-236.5 3743,-242.5 3743,-242.5 3743,-286.5 3743,-286.5 3743,-292.5 3737,-298.5 3731,-298.5\"/>\n<text text-anchor=\"start\" x=\"3667.5\" y=\"-283.3\" font-family=\"Helvetica,sans-Serif\" font-size=\"14.00\">gini = 0.0</text>\n<text text-anchor=\"start\" x=\"3658\" y=\"-268.3\" font-family=\"Helvetica,sans-Serif\" font-size=\"14.00\">samples = 2</text>\n<text text-anchor=\"start\" x=\"3656\" y=\"-253.3\" font-family=\"Helvetica,sans-Serif\" font-size=\"14.00\">value = [2, 0]</text>\n<text text-anchor=\"start\" x=\"3668\" y=\"-238.3\" font-family=\"Helvetica,sans-Serif\" font-size=\"14.00\">class = 0</text>\n</g>\n<!-- 152&#45;&gt;153 -->\n<g id=\"edge153\" class=\"edge\">\n<title>152&#45;&gt;153</title>\n<path fill=\"none\" stroke=\"black\" d=\"M3703.99,-341.91C3702.8,-331.2 3701.51,-319.62 3700.31,-308.78\"/>\n<polygon fill=\"black\" stroke=\"black\" points=\"3703.77,-308.22 3699.19,-298.67 3696.81,-308.99 3703.77,-308.22\"/>\n</g>\n<!-- 154 -->\n<g id=\"node155\" class=\"node\">\n<title>154</title>\n<path fill=\"#399de5\" stroke=\"black\" d=\"M3844,-298.5C3844,-298.5 3773,-298.5 3773,-298.5 3767,-298.5 3761,-292.5 3761,-286.5 3761,-286.5 3761,-242.5 3761,-242.5 3761,-236.5 3767,-230.5 3773,-230.5 3773,-230.5 3844,-230.5 3844,-230.5 3850,-230.5 3856,-236.5 3856,-242.5 3856,-242.5 3856,-286.5 3856,-286.5 3856,-292.5 3850,-298.5 3844,-298.5\"/>\n<text text-anchor=\"start\" x=\"3780.5\" y=\"-283.3\" font-family=\"Helvetica,sans-Serif\" font-size=\"14.00\">gini = 0.0</text>\n<text text-anchor=\"start\" x=\"3771\" y=\"-268.3\" font-family=\"Helvetica,sans-Serif\" font-size=\"14.00\">samples = 6</text>\n<text text-anchor=\"start\" x=\"3769\" y=\"-253.3\" font-family=\"Helvetica,sans-Serif\" font-size=\"14.00\">value = [0, 6]</text>\n<text text-anchor=\"start\" x=\"3781\" y=\"-238.3\" font-family=\"Helvetica,sans-Serif\" font-size=\"14.00\">class = 1</text>\n</g>\n<!-- 152&#45;&gt;154 -->\n<g id=\"edge154\" class=\"edge\">\n<title>152&#45;&gt;154</title>\n<path fill=\"none\" stroke=\"black\" d=\"M3743.19,-341.91C3753,-330.43 3763.68,-317.94 3773.51,-306.44\"/>\n<polygon fill=\"black\" stroke=\"black\" points=\"3776.32,-308.54 3780.15,-298.67 3770.99,-303.99 3776.32,-308.54\"/>\n</g>\n<!-- 156 -->\n<g id=\"node157\" class=\"node\">\n<title>156</title>\n<path fill=\"#e58139\" stroke=\"black\" d=\"M3910,-417.5C3910,-417.5 3839,-417.5 3839,-417.5 3833,-417.5 3827,-411.5 3827,-405.5 3827,-405.5 3827,-361.5 3827,-361.5 3827,-355.5 3833,-349.5 3839,-349.5 3839,-349.5 3910,-349.5 3910,-349.5 3916,-349.5 3922,-355.5 3922,-361.5 3922,-361.5 3922,-405.5 3922,-405.5 3922,-411.5 3916,-417.5 3910,-417.5\"/>\n<text text-anchor=\"start\" x=\"3846.5\" y=\"-402.3\" font-family=\"Helvetica,sans-Serif\" font-size=\"14.00\">gini = 0.0</text>\n<text text-anchor=\"start\" x=\"3837\" y=\"-387.3\" font-family=\"Helvetica,sans-Serif\" font-size=\"14.00\">samples = 7</text>\n<text text-anchor=\"start\" x=\"3835\" y=\"-372.3\" font-family=\"Helvetica,sans-Serif\" font-size=\"14.00\">value = [7, 0]</text>\n<text text-anchor=\"start\" x=\"3847\" y=\"-357.3\" font-family=\"Helvetica,sans-Serif\" font-size=\"14.00\">class = 0</text>\n</g>\n<!-- 155&#45;&gt;156 -->\n<g id=\"edge156\" class=\"edge\">\n<title>155&#45;&gt;156</title>\n<path fill=\"none\" stroke=\"black\" d=\"M3883.64,-460.91C3882.36,-450.2 3880.98,-438.62 3879.68,-427.78\"/>\n<polygon fill=\"black\" stroke=\"black\" points=\"3883.13,-427.18 3878.47,-417.67 3876.18,-428.01 3883.13,-427.18\"/>\n</g>\n<!-- 157 -->\n<g id=\"node158\" class=\"node\">\n<title>157</title>\n<path fill=\"#ffffff\" stroke=\"black\" d=\"M4032.5,-425C4032.5,-425 3952.5,-425 3952.5,-425 3946.5,-425 3940.5,-419 3940.5,-413 3940.5,-413 3940.5,-354 3940.5,-354 3940.5,-348 3946.5,-342 3952.5,-342 3952.5,-342 4032.5,-342 4032.5,-342 4038.5,-342 4044.5,-348 4044.5,-354 4044.5,-354 4044.5,-413 4044.5,-413 4044.5,-419 4038.5,-425 4032.5,-425\"/>\n<text text-anchor=\"start\" x=\"3948.5\" y=\"-409.8\" font-family=\"Helvetica,sans-Serif\" font-size=\"14.00\">Insulin ≤ 150.0</text>\n<text text-anchor=\"start\" x=\"3964.5\" y=\"-394.8\" font-family=\"Helvetica,sans-Serif\" font-size=\"14.00\">gini = 0.5</text>\n<text text-anchor=\"start\" x=\"3955\" y=\"-379.8\" font-family=\"Helvetica,sans-Serif\" font-size=\"14.00\">samples = 2</text>\n<text text-anchor=\"start\" x=\"3953\" y=\"-364.8\" font-family=\"Helvetica,sans-Serif\" font-size=\"14.00\">value = [1, 1]</text>\n<text text-anchor=\"start\" x=\"3965\" y=\"-349.8\" font-family=\"Helvetica,sans-Serif\" font-size=\"14.00\">class = 0</text>\n</g>\n<!-- 155&#45;&gt;157 -->\n<g id=\"edge157\" class=\"edge\">\n<title>155&#45;&gt;157</title>\n<path fill=\"none\" stroke=\"black\" d=\"M3924.58,-460.91C3932.65,-451.83 3941.28,-442.12 3949.59,-432.77\"/>\n<polygon fill=\"black\" stroke=\"black\" points=\"3952.45,-434.82 3956.48,-425.02 3947.22,-430.17 3952.45,-434.82\"/>\n</g>\n<!-- 158 -->\n<g id=\"node159\" class=\"node\">\n<title>158</title>\n<path fill=\"#e58139\" stroke=\"black\" d=\"M4000,-298.5C4000,-298.5 3929,-298.5 3929,-298.5 3923,-298.5 3917,-292.5 3917,-286.5 3917,-286.5 3917,-242.5 3917,-242.5 3917,-236.5 3923,-230.5 3929,-230.5 3929,-230.5 4000,-230.5 4000,-230.5 4006,-230.5 4012,-236.5 4012,-242.5 4012,-242.5 4012,-286.5 4012,-286.5 4012,-292.5 4006,-298.5 4000,-298.5\"/>\n<text text-anchor=\"start\" x=\"3936.5\" y=\"-283.3\" font-family=\"Helvetica,sans-Serif\" font-size=\"14.00\">gini = 0.0</text>\n<text text-anchor=\"start\" x=\"3927\" y=\"-268.3\" font-family=\"Helvetica,sans-Serif\" font-size=\"14.00\">samples = 1</text>\n<text text-anchor=\"start\" x=\"3925\" y=\"-253.3\" font-family=\"Helvetica,sans-Serif\" font-size=\"14.00\">value = [1, 0]</text>\n<text text-anchor=\"start\" x=\"3937\" y=\"-238.3\" font-family=\"Helvetica,sans-Serif\" font-size=\"14.00\">class = 0</text>\n</g>\n<!-- 157&#45;&gt;158 -->\n<g id=\"edge158\" class=\"edge\">\n<title>157&#45;&gt;158</title>\n<path fill=\"none\" stroke=\"black\" d=\"M3982.79,-341.91C3980.2,-331.09 3977.39,-319.38 3974.78,-308.44\"/>\n<polygon fill=\"black\" stroke=\"black\" points=\"3978.17,-307.58 3972.44,-298.67 3971.36,-309.21 3978.17,-307.58\"/>\n</g>\n<!-- 159 -->\n<g id=\"node160\" class=\"node\">\n<title>159</title>\n<path fill=\"#399de5\" stroke=\"black\" d=\"M4113,-298.5C4113,-298.5 4042,-298.5 4042,-298.5 4036,-298.5 4030,-292.5 4030,-286.5 4030,-286.5 4030,-242.5 4030,-242.5 4030,-236.5 4036,-230.5 4042,-230.5 4042,-230.5 4113,-230.5 4113,-230.5 4119,-230.5 4125,-236.5 4125,-242.5 4125,-242.5 4125,-286.5 4125,-286.5 4125,-292.5 4119,-298.5 4113,-298.5\"/>\n<text text-anchor=\"start\" x=\"4049.5\" y=\"-283.3\" font-family=\"Helvetica,sans-Serif\" font-size=\"14.00\">gini = 0.0</text>\n<text text-anchor=\"start\" x=\"4040\" y=\"-268.3\" font-family=\"Helvetica,sans-Serif\" font-size=\"14.00\">samples = 1</text>\n<text text-anchor=\"start\" x=\"4038\" y=\"-253.3\" font-family=\"Helvetica,sans-Serif\" font-size=\"14.00\">value = [0, 1]</text>\n<text text-anchor=\"start\" x=\"4050\" y=\"-238.3\" font-family=\"Helvetica,sans-Serif\" font-size=\"14.00\">class = 1</text>\n</g>\n<!-- 157&#45;&gt;159 -->\n<g id=\"edge159\" class=\"edge\">\n<title>157&#45;&gt;159</title>\n<path fill=\"none\" stroke=\"black\" d=\"M4021.99,-341.91C4030.25,-330.54 4039.23,-318.18 4047.51,-306.77\"/>\n<polygon fill=\"black\" stroke=\"black\" points=\"4050.36,-308.81 4053.4,-298.67 4044.7,-304.7 4050.36,-308.81\"/>\n</g>\n<!-- 164 -->\n<g id=\"node165\" class=\"node\">\n<title>164</title>\n<path fill=\"#add7f4\" stroke=\"black\" d=\"M4421.5,-1020C4421.5,-1020 4329.5,-1020 4329.5,-1020 4323.5,-1020 4317.5,-1014 4317.5,-1008 4317.5,-1008 4317.5,-949 4317.5,-949 4317.5,-943 4323.5,-937 4329.5,-937 4329.5,-937 4421.5,-937 4421.5,-937 4427.5,-937 4433.5,-943 4433.5,-949 4433.5,-949 4433.5,-1008 4433.5,-1008 4433.5,-1014 4427.5,-1020 4421.5,-1020\"/>\n<text text-anchor=\"start\" x=\"4325.5\" y=\"-1004.8\" font-family=\"Helvetica,sans-Serif\" font-size=\"14.00\">Glucose ≤ 130.5</text>\n<text text-anchor=\"start\" x=\"4340\" y=\"-989.8\" font-family=\"Helvetica,sans-Serif\" font-size=\"14.00\">gini = 0.466</text>\n<text text-anchor=\"start\" x=\"4334.5\" y=\"-974.8\" font-family=\"Helvetica,sans-Serif\" font-size=\"14.00\">samples = 27</text>\n<text text-anchor=\"start\" x=\"4328.5\" y=\"-959.8\" font-family=\"Helvetica,sans-Serif\" font-size=\"14.00\">value = [10, 17]</text>\n<text text-anchor=\"start\" x=\"4348\" y=\"-944.8\" font-family=\"Helvetica,sans-Serif\" font-size=\"14.00\">class = 1</text>\n</g>\n<!-- 163&#45;&gt;164 -->\n<g id=\"edge164\" class=\"edge\">\n<title>163&#45;&gt;164</title>\n<path fill=\"none\" stroke=\"black\" d=\"M4375.5,-1055.91C4375.5,-1047.65 4375.5,-1038.86 4375.5,-1030.3\"/>\n<polygon fill=\"black\" stroke=\"black\" points=\"4379,-1030.02 4375.5,-1020.02 4372,-1030.02 4379,-1030.02\"/>\n</g>\n<!-- 183 -->\n<g id=\"node184\" class=\"node\">\n<title>183</title>\n<path fill=\"#5caeea\" stroke=\"black\" d=\"M4618.5,-1020C4618.5,-1020 4526.5,-1020 4526.5,-1020 4520.5,-1020 4514.5,-1014 4514.5,-1008 4514.5,-1008 4514.5,-949 4514.5,-949 4514.5,-943 4520.5,-937 4526.5,-937 4526.5,-937 4618.5,-937 4618.5,-937 4624.5,-937 4630.5,-943 4630.5,-949 4630.5,-949 4630.5,-1008 4630.5,-1008 4630.5,-1014 4624.5,-1020 4618.5,-1020\"/>\n<text text-anchor=\"start\" x=\"4522.5\" y=\"-1004.8\" font-family=\"Helvetica,sans-Serif\" font-size=\"14.00\">Glucose ≤ 164.5</text>\n<text text-anchor=\"start\" x=\"4537\" y=\"-989.8\" font-family=\"Helvetica,sans-Serif\" font-size=\"14.00\">gini = 0.257</text>\n<text text-anchor=\"start\" x=\"4531.5\" y=\"-974.8\" font-family=\"Helvetica,sans-Serif\" font-size=\"14.00\">samples = 33</text>\n<text text-anchor=\"start\" x=\"4529.5\" y=\"-959.8\" font-family=\"Helvetica,sans-Serif\" font-size=\"14.00\">value = [5, 28]</text>\n<text text-anchor=\"start\" x=\"4545\" y=\"-944.8\" font-family=\"Helvetica,sans-Serif\" font-size=\"14.00\">class = 1</text>\n</g>\n<!-- 163&#45;&gt;183 -->\n<g id=\"edge183\" class=\"edge\">\n<title>163&#45;&gt;183</title>\n<path fill=\"none\" stroke=\"black\" d=\"M4443.85,-1055.91C4463.89,-1044.01 4485.77,-1031.01 4505.71,-1019.17\"/>\n<polygon fill=\"black\" stroke=\"black\" points=\"4507.61,-1022.11 4514.42,-1013.99 4504.04,-1016.09 4507.61,-1022.11\"/>\n</g>\n<!-- 165 -->\n<g id=\"node166\" class=\"node\">\n<title>165</title>\n<path fill=\"#e58139\" stroke=\"black\" d=\"M4309,-893.5C4309,-893.5 4238,-893.5 4238,-893.5 4232,-893.5 4226,-887.5 4226,-881.5 4226,-881.5 4226,-837.5 4226,-837.5 4226,-831.5 4232,-825.5 4238,-825.5 4238,-825.5 4309,-825.5 4309,-825.5 4315,-825.5 4321,-831.5 4321,-837.5 4321,-837.5 4321,-881.5 4321,-881.5 4321,-887.5 4315,-893.5 4309,-893.5\"/>\n<text text-anchor=\"start\" x=\"4245.5\" y=\"-878.3\" font-family=\"Helvetica,sans-Serif\" font-size=\"14.00\">gini = 0.0</text>\n<text text-anchor=\"start\" x=\"4236\" y=\"-863.3\" font-family=\"Helvetica,sans-Serif\" font-size=\"14.00\">samples = 2</text>\n<text text-anchor=\"start\" x=\"4234\" y=\"-848.3\" font-family=\"Helvetica,sans-Serif\" font-size=\"14.00\">value = [2, 0]</text>\n<text text-anchor=\"start\" x=\"4246\" y=\"-833.3\" font-family=\"Helvetica,sans-Serif\" font-size=\"14.00\">class = 0</text>\n</g>\n<!-- 164&#45;&gt;165 -->\n<g id=\"edge165\" class=\"edge\">\n<title>164&#45;&gt;165</title>\n<path fill=\"none\" stroke=\"black\" d=\"M4340.11,-936.91C4330.11,-925.43 4319.22,-912.94 4309.19,-901.44\"/>\n<polygon fill=\"black\" stroke=\"black\" points=\"4311.62,-898.9 4302.41,-893.67 4306.35,-903.5 4311.62,-898.9\"/>\n</g>\n<!-- 166 -->\n<g id=\"node167\" class=\"node\">\n<title>166</title>\n<path fill=\"#96cbf1\" stroke=\"black\" d=\"M4429.5,-901C4429.5,-901 4351.5,-901 4351.5,-901 4345.5,-901 4339.5,-895 4339.5,-889 4339.5,-889 4339.5,-830 4339.5,-830 4339.5,-824 4345.5,-818 4351.5,-818 4351.5,-818 4429.5,-818 4429.5,-818 4435.5,-818 4441.5,-824 4441.5,-830 4441.5,-830 4441.5,-889 4441.5,-889 4441.5,-895 4435.5,-901 4429.5,-901\"/>\n<text text-anchor=\"start\" x=\"4353.5\" y=\"-885.8\" font-family=\"Helvetica,sans-Serif\" font-size=\"14.00\">BMI ≤ 32.45</text>\n<text text-anchor=\"start\" x=\"4355\" y=\"-870.8\" font-family=\"Helvetica,sans-Serif\" font-size=\"14.00\">gini = 0.435</text>\n<text text-anchor=\"start\" x=\"4349.5\" y=\"-855.8\" font-family=\"Helvetica,sans-Serif\" font-size=\"14.00\">samples = 25</text>\n<text text-anchor=\"start\" x=\"4347.5\" y=\"-840.8\" font-family=\"Helvetica,sans-Serif\" font-size=\"14.00\">value = [8, 17]</text>\n<text text-anchor=\"start\" x=\"4363\" y=\"-825.8\" font-family=\"Helvetica,sans-Serif\" font-size=\"14.00\">class = 1</text>\n</g>\n<!-- 164&#45;&gt;166 -->\n<g id=\"edge166\" class=\"edge\">\n<title>164&#45;&gt;166</title>\n<path fill=\"none\" stroke=\"black\" d=\"M4380.7,-936.91C4381.77,-928.56 4382.91,-919.67 4384.02,-911.02\"/>\n<polygon fill=\"black\" stroke=\"black\" points=\"4387.5,-911.38 4385.31,-901.02 4380.56,-910.49 4387.5,-911.38\"/>\n</g>\n<!-- 167 -->\n<g id=\"node168\" class=\"node\">\n<title>167</title>\n<path fill=\"#f2c09c\" stroke=\"black\" d=\"M4245,-782C4245,-782 4174,-782 4174,-782 4168,-782 4162,-776 4162,-770 4162,-770 4162,-711 4162,-711 4162,-705 4168,-699 4174,-699 4174,-699 4245,-699 4245,-699 4251,-699 4257,-705 4257,-711 4257,-711 4257,-770 4257,-770 4257,-776 4251,-782 4245,-782\"/>\n<text text-anchor=\"start\" x=\"4172.5\" y=\"-766.8\" font-family=\"Helvetica,sans-Serif\" font-size=\"14.00\">BMI ≤ 30.65</text>\n<text text-anchor=\"start\" x=\"4174\" y=\"-751.8\" font-family=\"Helvetica,sans-Serif\" font-size=\"14.00\">gini = 0.444</text>\n<text text-anchor=\"start\" x=\"4172\" y=\"-736.8\" font-family=\"Helvetica,sans-Serif\" font-size=\"14.00\">samples = 6</text>\n<text text-anchor=\"start\" x=\"4170\" y=\"-721.8\" font-family=\"Helvetica,sans-Serif\" font-size=\"14.00\">value = [4, 2]</text>\n<text text-anchor=\"start\" x=\"4182\" y=\"-706.8\" font-family=\"Helvetica,sans-Serif\" font-size=\"14.00\">class = 0</text>\n</g>\n<!-- 166&#45;&gt;167 -->\n<g id=\"edge167\" class=\"edge\">\n<title>166&#45;&gt;167</title>\n<path fill=\"none\" stroke=\"black\" d=\"M4339.36,-824.3C4336.03,-822.15 4332.72,-820.04 4329.5,-818 4303.21,-801.4 4295.73,-798.71 4269.5,-782 4268.24,-781.2 4266.97,-780.38 4265.69,-779.56\"/>\n<polygon fill=\"black\" stroke=\"black\" points=\"4267.45,-776.53 4257.16,-774.01 4263.63,-782.4 4267.45,-776.53\"/>\n</g>\n<!-- 170 -->\n<g id=\"node171\" class=\"node\">\n<title>170</title>\n<path fill=\"#6eb7ec\" stroke=\"black\" d=\"M4490.5,-782C4490.5,-782 4290.5,-782 4290.5,-782 4284.5,-782 4278.5,-776 4278.5,-770 4278.5,-770 4278.5,-711 4278.5,-711 4278.5,-705 4284.5,-699 4290.5,-699 4290.5,-699 4490.5,-699 4490.5,-699 4496.5,-699 4502.5,-705 4502.5,-711 4502.5,-711 4502.5,-770 4502.5,-770 4502.5,-776 4496.5,-782 4490.5,-782\"/>\n<text text-anchor=\"start\" x=\"4286.5\" y=\"-766.8\" font-family=\"Helvetica,sans-Serif\" font-size=\"14.00\">DiabetesPedigreeFunction ≤ 0.411</text>\n<text text-anchor=\"start\" x=\"4355\" y=\"-751.8\" font-family=\"Helvetica,sans-Serif\" font-size=\"14.00\">gini = 0.332</text>\n<text text-anchor=\"start\" x=\"4349.5\" y=\"-736.8\" font-family=\"Helvetica,sans-Serif\" font-size=\"14.00\">samples = 19</text>\n<text text-anchor=\"start\" x=\"4347.5\" y=\"-721.8\" font-family=\"Helvetica,sans-Serif\" font-size=\"14.00\">value = [4, 15]</text>\n<text text-anchor=\"start\" x=\"4363\" y=\"-706.8\" font-family=\"Helvetica,sans-Serif\" font-size=\"14.00\">class = 1</text>\n</g>\n<!-- 166&#45;&gt;170 -->\n<g id=\"edge170\" class=\"edge\">\n<title>166&#45;&gt;170</title>\n<path fill=\"none\" stroke=\"black\" d=\"M4390.5,-817.91C4390.5,-809.65 4390.5,-800.86 4390.5,-792.3\"/>\n<polygon fill=\"black\" stroke=\"black\" points=\"4394,-792.02 4390.5,-782.02 4387,-792.02 4394,-792.02\"/>\n</g>\n<!-- 168 -->\n<g id=\"node169\" class=\"node\">\n<title>168</title>\n<path fill=\"#399de5\" stroke=\"black\" d=\"M4130,-655.5C4130,-655.5 4059,-655.5 4059,-655.5 4053,-655.5 4047,-649.5 4047,-643.5 4047,-643.5 4047,-599.5 4047,-599.5 4047,-593.5 4053,-587.5 4059,-587.5 4059,-587.5 4130,-587.5 4130,-587.5 4136,-587.5 4142,-593.5 4142,-599.5 4142,-599.5 4142,-643.5 4142,-643.5 4142,-649.5 4136,-655.5 4130,-655.5\"/>\n<text text-anchor=\"start\" x=\"4066.5\" y=\"-640.3\" font-family=\"Helvetica,sans-Serif\" font-size=\"14.00\">gini = 0.0</text>\n<text text-anchor=\"start\" x=\"4057\" y=\"-625.3\" font-family=\"Helvetica,sans-Serif\" font-size=\"14.00\">samples = 2</text>\n<text text-anchor=\"start\" x=\"4055\" y=\"-610.3\" font-family=\"Helvetica,sans-Serif\" font-size=\"14.00\">value = [0, 2]</text>\n<text text-anchor=\"start\" x=\"4067\" y=\"-595.3\" font-family=\"Helvetica,sans-Serif\" font-size=\"14.00\">class = 1</text>\n</g>\n<!-- 167&#45;&gt;168 -->\n<g id=\"edge168\" class=\"edge\">\n<title>167&#45;&gt;168</title>\n<path fill=\"none\" stroke=\"black\" d=\"M4169.6,-698.91C4158.21,-687.32 4145.81,-674.7 4134.42,-663.11\"/>\n<polygon fill=\"black\" stroke=\"black\" points=\"4136.61,-660.35 4127.1,-655.67 4131.61,-665.25 4136.61,-660.35\"/>\n</g>\n<!-- 169 -->\n<g id=\"node170\" class=\"node\">\n<title>169</title>\n<path fill=\"#e58139\" stroke=\"black\" d=\"M4243,-655.5C4243,-655.5 4172,-655.5 4172,-655.5 4166,-655.5 4160,-649.5 4160,-643.5 4160,-643.5 4160,-599.5 4160,-599.5 4160,-593.5 4166,-587.5 4172,-587.5 4172,-587.5 4243,-587.5 4243,-587.5 4249,-587.5 4255,-593.5 4255,-599.5 4255,-599.5 4255,-643.5 4255,-643.5 4255,-649.5 4249,-655.5 4243,-655.5\"/>\n<text text-anchor=\"start\" x=\"4179.5\" y=\"-640.3\" font-family=\"Helvetica,sans-Serif\" font-size=\"14.00\">gini = 0.0</text>\n<text text-anchor=\"start\" x=\"4170\" y=\"-625.3\" font-family=\"Helvetica,sans-Serif\" font-size=\"14.00\">samples = 4</text>\n<text text-anchor=\"start\" x=\"4168\" y=\"-610.3\" font-family=\"Helvetica,sans-Serif\" font-size=\"14.00\">value = [4, 0]</text>\n<text text-anchor=\"start\" x=\"4180\" y=\"-595.3\" font-family=\"Helvetica,sans-Serif\" font-size=\"14.00\">class = 0</text>\n</g>\n<!-- 167&#45;&gt;169 -->\n<g id=\"edge169\" class=\"edge\">\n<title>167&#45;&gt;169</title>\n<path fill=\"none\" stroke=\"black\" d=\"M4208.81,-698.91C4208.62,-688.2 4208.43,-676.62 4208.24,-665.78\"/>\n<polygon fill=\"black\" stroke=\"black\" points=\"4211.74,-665.61 4208.07,-655.67 4204.74,-665.73 4211.74,-665.61\"/>\n</g>\n<!-- 171 -->\n<g id=\"node172\" class=\"node\">\n<title>171</title>\n<path fill=\"#61b1ea\" stroke=\"black\" d=\"M4377.5,-663C4377.5,-663 4285.5,-663 4285.5,-663 4279.5,-663 4273.5,-657 4273.5,-651 4273.5,-651 4273.5,-592 4273.5,-592 4273.5,-586 4279.5,-580 4285.5,-580 4285.5,-580 4377.5,-580 4377.5,-580 4383.5,-580 4389.5,-586 4389.5,-592 4389.5,-592 4389.5,-651 4389.5,-651 4389.5,-657 4383.5,-663 4377.5,-663\"/>\n<text text-anchor=\"start\" x=\"4281.5\" y=\"-647.8\" font-family=\"Helvetica,sans-Serif\" font-size=\"14.00\">Glucose ≤ 138.0</text>\n<text text-anchor=\"start\" x=\"4296\" y=\"-632.8\" font-family=\"Helvetica,sans-Serif\" font-size=\"14.00\">gini = 0.278</text>\n<text text-anchor=\"start\" x=\"4290.5\" y=\"-617.8\" font-family=\"Helvetica,sans-Serif\" font-size=\"14.00\">samples = 18</text>\n<text text-anchor=\"start\" x=\"4288.5\" y=\"-602.8\" font-family=\"Helvetica,sans-Serif\" font-size=\"14.00\">value = [3, 15]</text>\n<text text-anchor=\"start\" x=\"4304\" y=\"-587.8\" font-family=\"Helvetica,sans-Serif\" font-size=\"14.00\">class = 1</text>\n</g>\n<!-- 170&#45;&gt;171 -->\n<g id=\"edge171\" class=\"edge\">\n<title>170&#45;&gt;171</title>\n<path fill=\"none\" stroke=\"black\" d=\"M4370.03,-698.91C4365.68,-690.29 4361.05,-681.09 4356.55,-672.17\"/>\n<polygon fill=\"black\" stroke=\"black\" points=\"4359.56,-670.37 4351.93,-663.02 4353.31,-673.53 4359.56,-670.37\"/>\n</g>\n<!-- 182 -->\n<g id=\"node183\" class=\"node\">\n<title>182</title>\n<path fill=\"#e58139\" stroke=\"black\" d=\"M4491,-655.5C4491,-655.5 4420,-655.5 4420,-655.5 4414,-655.5 4408,-649.5 4408,-643.5 4408,-643.5 4408,-599.5 4408,-599.5 4408,-593.5 4414,-587.5 4420,-587.5 4420,-587.5 4491,-587.5 4491,-587.5 4497,-587.5 4503,-593.5 4503,-599.5 4503,-599.5 4503,-643.5 4503,-643.5 4503,-649.5 4497,-655.5 4491,-655.5\"/>\n<text text-anchor=\"start\" x=\"4427.5\" y=\"-640.3\" font-family=\"Helvetica,sans-Serif\" font-size=\"14.00\">gini = 0.0</text>\n<text text-anchor=\"start\" x=\"4418\" y=\"-625.3\" font-family=\"Helvetica,sans-Serif\" font-size=\"14.00\">samples = 1</text>\n<text text-anchor=\"start\" x=\"4416\" y=\"-610.3\" font-family=\"Helvetica,sans-Serif\" font-size=\"14.00\">value = [1, 0]</text>\n<text text-anchor=\"start\" x=\"4428\" y=\"-595.3\" font-family=\"Helvetica,sans-Serif\" font-size=\"14.00\">class = 0</text>\n</g>\n<!-- 170&#45;&gt;182 -->\n<g id=\"edge182\" class=\"edge\">\n<title>170&#45;&gt;182</title>\n<path fill=\"none\" stroke=\"black\" d=\"M4413.05,-698.91C4419.24,-687.76 4425.97,-675.66 4432.2,-664.44\"/>\n<polygon fill=\"black\" stroke=\"black\" points=\"4435.28,-666.11 4437.07,-655.67 4429.16,-662.71 4435.28,-666.11\"/>\n</g>\n<!-- 172 -->\n<g id=\"node173\" class=\"node\">\n<title>172</title>\n<path fill=\"#399de5\" stroke=\"black\" d=\"M4348,-536.5C4348,-536.5 4277,-536.5 4277,-536.5 4271,-536.5 4265,-530.5 4265,-524.5 4265,-524.5 4265,-480.5 4265,-480.5 4265,-474.5 4271,-468.5 4277,-468.5 4277,-468.5 4348,-468.5 4348,-468.5 4354,-468.5 4360,-474.5 4360,-480.5 4360,-480.5 4360,-524.5 4360,-524.5 4360,-530.5 4354,-536.5 4348,-536.5\"/>\n<text text-anchor=\"start\" x=\"4284.5\" y=\"-521.3\" font-family=\"Helvetica,sans-Serif\" font-size=\"14.00\">gini = 0.0</text>\n<text text-anchor=\"start\" x=\"4275\" y=\"-506.3\" font-family=\"Helvetica,sans-Serif\" font-size=\"14.00\">samples = 6</text>\n<text text-anchor=\"start\" x=\"4273\" y=\"-491.3\" font-family=\"Helvetica,sans-Serif\" font-size=\"14.00\">value = [0, 6]</text>\n<text text-anchor=\"start\" x=\"4285\" y=\"-476.3\" font-family=\"Helvetica,sans-Serif\" font-size=\"14.00\">class = 1</text>\n</g>\n<!-- 171&#45;&gt;172 -->\n<g id=\"edge172\" class=\"edge\">\n<title>171&#45;&gt;172</title>\n<path fill=\"none\" stroke=\"black\" d=\"M4324.91,-579.91C4323.17,-569.2 4321.29,-557.62 4319.53,-546.78\"/>\n<polygon fill=\"black\" stroke=\"black\" points=\"4322.94,-545.98 4317.89,-536.67 4316.03,-547.1 4322.94,-545.98\"/>\n</g>\n<!-- 173 -->\n<g id=\"node174\" class=\"node\">\n<title>173</title>\n<path fill=\"#7bbeee\" stroke=\"black\" d=\"M4482.5,-544C4482.5,-544 4390.5,-544 4390.5,-544 4384.5,-544 4378.5,-538 4378.5,-532 4378.5,-532 4378.5,-473 4378.5,-473 4378.5,-467 4384.5,-461 4390.5,-461 4390.5,-461 4482.5,-461 4482.5,-461 4488.5,-461 4494.5,-467 4494.5,-473 4494.5,-473 4494.5,-532 4494.5,-532 4494.5,-538 4488.5,-544 4482.5,-544\"/>\n<text text-anchor=\"start\" x=\"4386.5\" y=\"-528.8\" font-family=\"Helvetica,sans-Serif\" font-size=\"14.00\">Glucose ≤ 144.5</text>\n<text text-anchor=\"start\" x=\"4401\" y=\"-513.8\" font-family=\"Helvetica,sans-Serif\" font-size=\"14.00\">gini = 0.375</text>\n<text text-anchor=\"start\" x=\"4395.5\" y=\"-498.8\" font-family=\"Helvetica,sans-Serif\" font-size=\"14.00\">samples = 12</text>\n<text text-anchor=\"start\" x=\"4397\" y=\"-483.8\" font-family=\"Helvetica,sans-Serif\" font-size=\"14.00\">value = [3, 9]</text>\n<text text-anchor=\"start\" x=\"4409\" y=\"-468.8\" font-family=\"Helvetica,sans-Serif\" font-size=\"14.00\">class = 1</text>\n</g>\n<!-- 171&#45;&gt;173 -->\n<g id=\"edge173\" class=\"edge\">\n<title>171&#45;&gt;173</title>\n<path fill=\"none\" stroke=\"black\" d=\"M4367.93,-579.91C4376.15,-570.74 4384.96,-560.93 4393.43,-551.49\"/>\n<polygon fill=\"black\" stroke=\"black\" points=\"4396.06,-553.8 4400.14,-544.02 4390.85,-549.13 4396.06,-553.8\"/>\n</g>\n<!-- 174 -->\n<g id=\"node175\" class=\"node\">\n<title>174</title>\n<path fill=\"#ffffff\" stroke=\"black\" d=\"M4415,-425C4415,-425 4344,-425 4344,-425 4338,-425 4332,-419 4332,-413 4332,-413 4332,-354 4332,-354 4332,-348 4338,-342 4344,-342 4344,-342 4415,-342 4415,-342 4421,-342 4427,-348 4427,-354 4427,-354 4427,-413 4427,-413 4427,-419 4421,-425 4415,-425\"/>\n<text text-anchor=\"start\" x=\"4346\" y=\"-409.8\" font-family=\"Helvetica,sans-Serif\" font-size=\"14.00\">BMI ≤ 34.4</text>\n<text text-anchor=\"start\" x=\"4351.5\" y=\"-394.8\" font-family=\"Helvetica,sans-Serif\" font-size=\"14.00\">gini = 0.5</text>\n<text text-anchor=\"start\" x=\"4342\" y=\"-379.8\" font-family=\"Helvetica,sans-Serif\" font-size=\"14.00\">samples = 6</text>\n<text text-anchor=\"start\" x=\"4340\" y=\"-364.8\" font-family=\"Helvetica,sans-Serif\" font-size=\"14.00\">value = [3, 3]</text>\n<text text-anchor=\"start\" x=\"4352\" y=\"-349.8\" font-family=\"Helvetica,sans-Serif\" font-size=\"14.00\">class = 0</text>\n</g>\n<!-- 173&#45;&gt;174 -->\n<g id=\"edge174\" class=\"edge\">\n<title>173&#45;&gt;174</title>\n<path fill=\"none\" stroke=\"black\" d=\"M4416.72,-460.91C4412.52,-452.29 4408.04,-443.09 4403.7,-434.17\"/>\n<polygon fill=\"black\" stroke=\"black\" points=\"4406.77,-432.48 4399.24,-425.02 4400.47,-435.54 4406.77,-432.48\"/>\n</g>\n<!-- 181 -->\n<g id=\"node182\" class=\"node\">\n<title>181</title>\n<path fill=\"#399de5\" stroke=\"black\" d=\"M4528,-417.5C4528,-417.5 4457,-417.5 4457,-417.5 4451,-417.5 4445,-411.5 4445,-405.5 4445,-405.5 4445,-361.5 4445,-361.5 4445,-355.5 4451,-349.5 4457,-349.5 4457,-349.5 4528,-349.5 4528,-349.5 4534,-349.5 4540,-355.5 4540,-361.5 4540,-361.5 4540,-405.5 4540,-405.5 4540,-411.5 4534,-417.5 4528,-417.5\"/>\n<text text-anchor=\"start\" x=\"4464.5\" y=\"-402.3\" font-family=\"Helvetica,sans-Serif\" font-size=\"14.00\">gini = 0.0</text>\n<text text-anchor=\"start\" x=\"4455\" y=\"-387.3\" font-family=\"Helvetica,sans-Serif\" font-size=\"14.00\">samples = 6</text>\n<text text-anchor=\"start\" x=\"4453\" y=\"-372.3\" font-family=\"Helvetica,sans-Serif\" font-size=\"14.00\">value = [0, 6]</text>\n<text text-anchor=\"start\" x=\"4465\" y=\"-357.3\" font-family=\"Helvetica,sans-Serif\" font-size=\"14.00\">class = 1</text>\n</g>\n<!-- 173&#45;&gt;181 -->\n<g id=\"edge181\" class=\"edge\">\n<title>173&#45;&gt;181</title>\n<path fill=\"none\" stroke=\"black\" d=\"M4455.93,-460.91C4461.21,-449.87 4466.94,-437.9 4472.27,-426.77\"/>\n<polygon fill=\"black\" stroke=\"black\" points=\"4475.46,-428.2 4476.63,-417.67 4469.15,-425.18 4475.46,-428.2\"/>\n</g>\n<!-- 175 -->\n<g id=\"node176\" class=\"node\">\n<title>175</title>\n<path fill=\"#e58139\" stroke=\"black\" d=\"M4358,-298.5C4358,-298.5 4287,-298.5 4287,-298.5 4281,-298.5 4275,-292.5 4275,-286.5 4275,-286.5 4275,-242.5 4275,-242.5 4275,-236.5 4281,-230.5 4287,-230.5 4287,-230.5 4358,-230.5 4358,-230.5 4364,-230.5 4370,-236.5 4370,-242.5 4370,-242.5 4370,-286.5 4370,-286.5 4370,-292.5 4364,-298.5 4358,-298.5\"/>\n<text text-anchor=\"start\" x=\"4294.5\" y=\"-283.3\" font-family=\"Helvetica,sans-Serif\" font-size=\"14.00\">gini = 0.0</text>\n<text text-anchor=\"start\" x=\"4285\" y=\"-268.3\" font-family=\"Helvetica,sans-Serif\" font-size=\"14.00\">samples = 1</text>\n<text text-anchor=\"start\" x=\"4283\" y=\"-253.3\" font-family=\"Helvetica,sans-Serif\" font-size=\"14.00\">value = [1, 0]</text>\n<text text-anchor=\"start\" x=\"4295\" y=\"-238.3\" font-family=\"Helvetica,sans-Serif\" font-size=\"14.00\">class = 0</text>\n</g>\n<!-- 174&#45;&gt;175 -->\n<g id=\"edge175\" class=\"edge\">\n<title>174&#45;&gt;175</title>\n<path fill=\"none\" stroke=\"black\" d=\"M4359.72,-341.91C4354.35,-330.87 4348.51,-318.9 4343.09,-307.77\"/>\n<polygon fill=\"black\" stroke=\"black\" points=\"4346.18,-306.12 4338.66,-298.67 4339.89,-309.19 4346.18,-306.12\"/>\n</g>\n<!-- 176 -->\n<g id=\"node177\" class=\"node\">\n<title>176</title>\n<path fill=\"#bddef6\" stroke=\"black\" d=\"M4473,-306C4473,-306 4400,-306 4400,-306 4394,-306 4388,-300 4388,-294 4388,-294 4388,-235 4388,-235 4388,-229 4394,-223 4400,-223 4400,-223 4473,-223 4473,-223 4479,-223 4485,-229 4485,-235 4485,-235 4485,-294 4485,-294 4485,-300 4479,-306 4473,-306\"/>\n<text text-anchor=\"start\" x=\"4396\" y=\"-290.8\" font-family=\"Helvetica,sans-Serif\" font-size=\"14.00\">Insulin ≤ 73.0</text>\n<text text-anchor=\"start\" x=\"4404.5\" y=\"-275.8\" font-family=\"Helvetica,sans-Serif\" font-size=\"14.00\">gini = 0.48</text>\n<text text-anchor=\"start\" x=\"4399\" y=\"-260.8\" font-family=\"Helvetica,sans-Serif\" font-size=\"14.00\">samples = 5</text>\n<text text-anchor=\"start\" x=\"4397\" y=\"-245.8\" font-family=\"Helvetica,sans-Serif\" font-size=\"14.00\">value = [2, 3]</text>\n<text text-anchor=\"start\" x=\"4409\" y=\"-230.8\" font-family=\"Helvetica,sans-Serif\" font-size=\"14.00\">class = 1</text>\n</g>\n<!-- 174&#45;&gt;176 -->\n<g id=\"edge176\" class=\"edge\">\n<title>174&#45;&gt;176</title>\n<path fill=\"none\" stroke=\"black\" d=\"M4399.28,-341.91C4403.48,-333.29 4407.96,-324.09 4412.3,-315.17\"/>\n<polygon fill=\"black\" stroke=\"black\" points=\"4415.53,-316.54 4416.76,-306.02 4409.23,-313.48 4415.53,-316.54\"/>\n</g>\n<!-- 177 -->\n<g id=\"node178\" class=\"node\">\n<title>177</title>\n<path fill=\"#f2c09c\" stroke=\"black\" d=\"M4428.5,-187C4428.5,-187 4306.5,-187 4306.5,-187 4300.5,-187 4294.5,-181 4294.5,-175 4294.5,-175 4294.5,-116 4294.5,-116 4294.5,-110 4300.5,-104 4306.5,-104 4306.5,-104 4428.5,-104 4428.5,-104 4434.5,-104 4440.5,-110 4440.5,-116 4440.5,-116 4440.5,-175 4440.5,-175 4440.5,-181 4434.5,-187 4428.5,-187\"/>\n<text text-anchor=\"start\" x=\"4302.5\" y=\"-171.8\" font-family=\"Helvetica,sans-Serif\" font-size=\"14.00\">BloodPressure ≤ 72.0</text>\n<text text-anchor=\"start\" x=\"4332\" y=\"-156.8\" font-family=\"Helvetica,sans-Serif\" font-size=\"14.00\">gini = 0.444</text>\n<text text-anchor=\"start\" x=\"4330\" y=\"-141.8\" font-family=\"Helvetica,sans-Serif\" font-size=\"14.00\">samples = 3</text>\n<text text-anchor=\"start\" x=\"4328\" y=\"-126.8\" font-family=\"Helvetica,sans-Serif\" font-size=\"14.00\">value = [2, 1]</text>\n<text text-anchor=\"start\" x=\"4340\" y=\"-111.8\" font-family=\"Helvetica,sans-Serif\" font-size=\"14.00\">class = 0</text>\n</g>\n<!-- 176&#45;&gt;177 -->\n<g id=\"edge177\" class=\"edge\">\n<title>176&#45;&gt;177</title>\n<path fill=\"none\" stroke=\"black\" d=\"M4412.56,-222.91C4407.42,-214.2 4401.94,-204.9 4396.63,-195.89\"/>\n<polygon fill=\"black\" stroke=\"black\" points=\"4399.49,-193.86 4391.4,-187.02 4393.46,-197.41 4399.49,-193.86\"/>\n</g>\n<!-- 180 -->\n<g id=\"node181\" class=\"node\">\n<title>180</title>\n<path fill=\"#399de5\" stroke=\"black\" d=\"M4542,-179.5C4542,-179.5 4471,-179.5 4471,-179.5 4465,-179.5 4459,-173.5 4459,-167.5 4459,-167.5 4459,-123.5 4459,-123.5 4459,-117.5 4465,-111.5 4471,-111.5 4471,-111.5 4542,-111.5 4542,-111.5 4548,-111.5 4554,-117.5 4554,-123.5 4554,-123.5 4554,-167.5 4554,-167.5 4554,-173.5 4548,-179.5 4542,-179.5\"/>\n<text text-anchor=\"start\" x=\"4478.5\" y=\"-164.3\" font-family=\"Helvetica,sans-Serif\" font-size=\"14.00\">gini = 0.0</text>\n<text text-anchor=\"start\" x=\"4469\" y=\"-149.3\" font-family=\"Helvetica,sans-Serif\" font-size=\"14.00\">samples = 2</text>\n<text text-anchor=\"start\" x=\"4467\" y=\"-134.3\" font-family=\"Helvetica,sans-Serif\" font-size=\"14.00\">value = [0, 2]</text>\n<text text-anchor=\"start\" x=\"4479\" y=\"-119.3\" font-family=\"Helvetica,sans-Serif\" font-size=\"14.00\">class = 1</text>\n</g>\n<!-- 176&#45;&gt;180 -->\n<g id=\"edge180\" class=\"edge\">\n<title>176&#45;&gt;180</title>\n<path fill=\"none\" stroke=\"black\" d=\"M4460.79,-222.91C4467.45,-211.76 4474.7,-199.66 4481.41,-188.44\"/>\n<polygon fill=\"black\" stroke=\"black\" points=\"4484.53,-190.05 4486.66,-179.67 4478.52,-186.45 4484.53,-190.05\"/>\n</g>\n<!-- 178 -->\n<g id=\"node179\" class=\"node\">\n<title>178</title>\n<path fill=\"#399de5\" stroke=\"black\" d=\"M4347,-68C4347,-68 4276,-68 4276,-68 4270,-68 4264,-62 4264,-56 4264,-56 4264,-12 4264,-12 4264,-6 4270,0 4276,0 4276,0 4347,0 4347,0 4353,0 4359,-6 4359,-12 4359,-12 4359,-56 4359,-56 4359,-62 4353,-68 4347,-68\"/>\n<text text-anchor=\"start\" x=\"4283.5\" y=\"-52.8\" font-family=\"Helvetica,sans-Serif\" font-size=\"14.00\">gini = 0.0</text>\n<text text-anchor=\"start\" x=\"4274\" y=\"-37.8\" font-family=\"Helvetica,sans-Serif\" font-size=\"14.00\">samples = 1</text>\n<text text-anchor=\"start\" x=\"4272\" y=\"-22.8\" font-family=\"Helvetica,sans-Serif\" font-size=\"14.00\">value = [0, 1]</text>\n<text text-anchor=\"start\" x=\"4284\" y=\"-7.8\" font-family=\"Helvetica,sans-Serif\" font-size=\"14.00\">class = 1</text>\n</g>\n<!-- 177&#45;&gt;178 -->\n<g id=\"edge178\" class=\"edge\">\n<title>177&#45;&gt;178</title>\n<path fill=\"none\" stroke=\"black\" d=\"M4346.65,-103.73C4342.26,-95.15 4337.63,-86.09 4333.21,-77.46\"/>\n<polygon fill=\"black\" stroke=\"black\" points=\"4336.2,-75.61 4328.53,-68.3 4329.97,-78.8 4336.2,-75.61\"/>\n</g>\n<!-- 179 -->\n<g id=\"node180\" class=\"node\">\n<title>179</title>\n<path fill=\"#e58139\" stroke=\"black\" d=\"M4460,-68C4460,-68 4389,-68 4389,-68 4383,-68 4377,-62 4377,-56 4377,-56 4377,-12 4377,-12 4377,-6 4383,0 4389,0 4389,0 4460,0 4460,0 4466,0 4472,-6 4472,-12 4472,-12 4472,-56 4472,-56 4472,-62 4466,-68 4460,-68\"/>\n<text text-anchor=\"start\" x=\"4396.5\" y=\"-52.8\" font-family=\"Helvetica,sans-Serif\" font-size=\"14.00\">gini = 0.0</text>\n<text text-anchor=\"start\" x=\"4387\" y=\"-37.8\" font-family=\"Helvetica,sans-Serif\" font-size=\"14.00\">samples = 2</text>\n<text text-anchor=\"start\" x=\"4385\" y=\"-22.8\" font-family=\"Helvetica,sans-Serif\" font-size=\"14.00\">value = [2, 0]</text>\n<text text-anchor=\"start\" x=\"4397\" y=\"-7.8\" font-family=\"Helvetica,sans-Serif\" font-size=\"14.00\">class = 0</text>\n</g>\n<!-- 177&#45;&gt;179 -->\n<g id=\"edge179\" class=\"edge\">\n<title>177&#45;&gt;179</title>\n<path fill=\"none\" stroke=\"black\" d=\"M4388.72,-103.73C4393.24,-95.06 4398.01,-85.9 4402.54,-77.18\"/>\n<polygon fill=\"black\" stroke=\"black\" points=\"4405.65,-78.79 4407.17,-68.3 4399.44,-75.55 4405.65,-78.79\"/>\n</g>\n<!-- 184 -->\n<g id=\"node185\" class=\"node\">\n<title>184</title>\n<path fill=\"#55abe9\" stroke=\"black\" d=\"M4612.5,-901C4612.5,-901 4532.5,-901 4532.5,-901 4526.5,-901 4520.5,-895 4520.5,-889 4520.5,-889 4520.5,-830 4520.5,-830 4520.5,-824 4526.5,-818 4532.5,-818 4532.5,-818 4612.5,-818 4612.5,-818 4618.5,-818 4624.5,-824 4624.5,-830 4624.5,-830 4624.5,-889 4624.5,-889 4624.5,-895 4618.5,-901 4612.5,-901\"/>\n<text text-anchor=\"start\" x=\"4528.5\" y=\"-885.8\" font-family=\"Helvetica,sans-Serif\" font-size=\"14.00\">Insulin ≤ 520.0</text>\n<text text-anchor=\"start\" x=\"4537\" y=\"-870.8\" font-family=\"Helvetica,sans-Serif\" font-size=\"14.00\">gini = 0.219</text>\n<text text-anchor=\"start\" x=\"4531.5\" y=\"-855.8\" font-family=\"Helvetica,sans-Serif\" font-size=\"14.00\">samples = 32</text>\n<text text-anchor=\"start\" x=\"4529.5\" y=\"-840.8\" font-family=\"Helvetica,sans-Serif\" font-size=\"14.00\">value = [4, 28]</text>\n<text text-anchor=\"start\" x=\"4545\" y=\"-825.8\" font-family=\"Helvetica,sans-Serif\" font-size=\"14.00\">class = 1</text>\n</g>\n<!-- 183&#45;&gt;184 -->\n<g id=\"edge184\" class=\"edge\">\n<title>183&#45;&gt;184</title>\n<path fill=\"none\" stroke=\"black\" d=\"M4572.5,-936.91C4572.5,-928.65 4572.5,-919.86 4572.5,-911.3\"/>\n<polygon fill=\"black\" stroke=\"black\" points=\"4576,-911.02 4572.5,-901.02 4569,-911.02 4576,-911.02\"/>\n</g>\n<!-- 191 -->\n<g id=\"node192\" class=\"node\">\n<title>191</title>\n<path fill=\"#e58139\" stroke=\"black\" d=\"M4726,-893.5C4726,-893.5 4655,-893.5 4655,-893.5 4649,-893.5 4643,-887.5 4643,-881.5 4643,-881.5 4643,-837.5 4643,-837.5 4643,-831.5 4649,-825.5 4655,-825.5 4655,-825.5 4726,-825.5 4726,-825.5 4732,-825.5 4738,-831.5 4738,-837.5 4738,-837.5 4738,-881.5 4738,-881.5 4738,-887.5 4732,-893.5 4726,-893.5\"/>\n<text text-anchor=\"start\" x=\"4662.5\" y=\"-878.3\" font-family=\"Helvetica,sans-Serif\" font-size=\"14.00\">gini = 0.0</text>\n<text text-anchor=\"start\" x=\"4653\" y=\"-863.3\" font-family=\"Helvetica,sans-Serif\" font-size=\"14.00\">samples = 1</text>\n<text text-anchor=\"start\" x=\"4651\" y=\"-848.3\" font-family=\"Helvetica,sans-Serif\" font-size=\"14.00\">value = [1, 0]</text>\n<text text-anchor=\"start\" x=\"4663\" y=\"-833.3\" font-family=\"Helvetica,sans-Serif\" font-size=\"14.00\">class = 0</text>\n</g>\n<!-- 183&#45;&gt;191 -->\n<g id=\"edge191\" class=\"edge\">\n<title>183&#45;&gt;191</title>\n<path fill=\"none\" stroke=\"black\" d=\"M4613.44,-936.91C4625.24,-925.21 4638.1,-912.46 4649.88,-900.78\"/>\n<polygon fill=\"black\" stroke=\"black\" points=\"4652.41,-903.19 4657.05,-893.67 4647.48,-898.22 4652.41,-903.19\"/>\n</g>\n<!-- 185 -->\n<g id=\"node186\" class=\"node\">\n<title>185</title>\n<path fill=\"#4ea8e8\" stroke=\"black\" d=\"M4611.5,-782C4611.5,-782 4533.5,-782 4533.5,-782 4527.5,-782 4521.5,-776 4521.5,-770 4521.5,-770 4521.5,-711 4521.5,-711 4521.5,-705 4527.5,-699 4533.5,-699 4533.5,-699 4611.5,-699 4611.5,-699 4617.5,-699 4623.5,-705 4623.5,-711 4623.5,-711 4623.5,-770 4623.5,-770 4623.5,-776 4617.5,-782 4611.5,-782\"/>\n<text text-anchor=\"start\" x=\"4535.5\" y=\"-766.8\" font-family=\"Helvetica,sans-Serif\" font-size=\"14.00\">BMI ≤ 40.05</text>\n<text text-anchor=\"start\" x=\"4537\" y=\"-751.8\" font-family=\"Helvetica,sans-Serif\" font-size=\"14.00\">gini = 0.175</text>\n<text text-anchor=\"start\" x=\"4531.5\" y=\"-736.8\" font-family=\"Helvetica,sans-Serif\" font-size=\"14.00\">samples = 31</text>\n<text text-anchor=\"start\" x=\"4529.5\" y=\"-721.8\" font-family=\"Helvetica,sans-Serif\" font-size=\"14.00\">value = [3, 28]</text>\n<text text-anchor=\"start\" x=\"4545\" y=\"-706.8\" font-family=\"Helvetica,sans-Serif\" font-size=\"14.00\">class = 1</text>\n</g>\n<!-- 184&#45;&gt;185 -->\n<g id=\"edge185\" class=\"edge\">\n<title>184&#45;&gt;185</title>\n<path fill=\"none\" stroke=\"black\" d=\"M4572.5,-817.91C4572.5,-809.65 4572.5,-800.86 4572.5,-792.3\"/>\n<polygon fill=\"black\" stroke=\"black\" points=\"4576,-792.02 4572.5,-782.02 4569,-792.02 4576,-792.02\"/>\n</g>\n<!-- 190 -->\n<g id=\"node191\" class=\"node\">\n<title>190</title>\n<path fill=\"#e58139\" stroke=\"black\" d=\"M4725,-774.5C4725,-774.5 4654,-774.5 4654,-774.5 4648,-774.5 4642,-768.5 4642,-762.5 4642,-762.5 4642,-718.5 4642,-718.5 4642,-712.5 4648,-706.5 4654,-706.5 4654,-706.5 4725,-706.5 4725,-706.5 4731,-706.5 4737,-712.5 4737,-718.5 4737,-718.5 4737,-762.5 4737,-762.5 4737,-768.5 4731,-774.5 4725,-774.5\"/>\n<text text-anchor=\"start\" x=\"4661.5\" y=\"-759.3\" font-family=\"Helvetica,sans-Serif\" font-size=\"14.00\">gini = 0.0</text>\n<text text-anchor=\"start\" x=\"4652\" y=\"-744.3\" font-family=\"Helvetica,sans-Serif\" font-size=\"14.00\">samples = 1</text>\n<text text-anchor=\"start\" x=\"4650\" y=\"-729.3\" font-family=\"Helvetica,sans-Serif\" font-size=\"14.00\">value = [1, 0]</text>\n<text text-anchor=\"start\" x=\"4662\" y=\"-714.3\" font-family=\"Helvetica,sans-Serif\" font-size=\"14.00\">class = 0</text>\n</g>\n<!-- 184&#45;&gt;190 -->\n<g id=\"edge190\" class=\"edge\">\n<title>184&#45;&gt;190</title>\n<path fill=\"none\" stroke=\"black\" d=\"M4613.09,-817.91C4624.79,-806.21 4637.54,-793.46 4649.22,-781.78\"/>\n<polygon fill=\"black\" stroke=\"black\" points=\"4651.74,-784.21 4656.33,-774.67 4646.79,-779.26 4651.74,-784.21\"/>\n</g>\n<!-- 186 -->\n<g id=\"node187\" class=\"node\">\n<title>186</title>\n<path fill=\"#399de5\" stroke=\"black\" d=\"M4611.5,-655.5C4611.5,-655.5 4533.5,-655.5 4533.5,-655.5 4527.5,-655.5 4521.5,-649.5 4521.5,-643.5 4521.5,-643.5 4521.5,-599.5 4521.5,-599.5 4521.5,-593.5 4527.5,-587.5 4533.5,-587.5 4533.5,-587.5 4611.5,-587.5 4611.5,-587.5 4617.5,-587.5 4623.5,-593.5 4623.5,-599.5 4623.5,-599.5 4623.5,-643.5 4623.5,-643.5 4623.5,-649.5 4617.5,-655.5 4611.5,-655.5\"/>\n<text text-anchor=\"start\" x=\"4544.5\" y=\"-640.3\" font-family=\"Helvetica,sans-Serif\" font-size=\"14.00\">gini = 0.0</text>\n<text text-anchor=\"start\" x=\"4531.5\" y=\"-625.3\" font-family=\"Helvetica,sans-Serif\" font-size=\"14.00\">samples = 22</text>\n<text text-anchor=\"start\" x=\"4529.5\" y=\"-610.3\" font-family=\"Helvetica,sans-Serif\" font-size=\"14.00\">value = [0, 22]</text>\n<text text-anchor=\"start\" x=\"4545\" y=\"-595.3\" font-family=\"Helvetica,sans-Serif\" font-size=\"14.00\">class = 1</text>\n</g>\n<!-- 185&#45;&gt;186 -->\n<g id=\"edge186\" class=\"edge\">\n<title>185&#45;&gt;186</title>\n<path fill=\"none\" stroke=\"black\" d=\"M4572.5,-698.91C4572.5,-688.2 4572.5,-676.62 4572.5,-665.78\"/>\n<polygon fill=\"black\" stroke=\"black\" points=\"4576,-665.67 4572.5,-655.67 4569,-665.67 4576,-665.67\"/>\n</g>\n<!-- 187 -->\n<g id=\"node188\" class=\"node\">\n<title>187</title>\n<path fill=\"#9ccef2\" stroke=\"black\" d=\"M4775.5,-663C4775.5,-663 4653.5,-663 4653.5,-663 4647.5,-663 4641.5,-657 4641.5,-651 4641.5,-651 4641.5,-592 4641.5,-592 4641.5,-586 4647.5,-580 4653.5,-580 4653.5,-580 4775.5,-580 4775.5,-580 4781.5,-580 4787.5,-586 4787.5,-592 4787.5,-592 4787.5,-651 4787.5,-651 4787.5,-657 4781.5,-663 4775.5,-663\"/>\n<text text-anchor=\"start\" x=\"4649.5\" y=\"-647.8\" font-family=\"Helvetica,sans-Serif\" font-size=\"14.00\">BloodPressure ≤ 80.0</text>\n<text text-anchor=\"start\" x=\"4679\" y=\"-632.8\" font-family=\"Helvetica,sans-Serif\" font-size=\"14.00\">gini = 0.444</text>\n<text text-anchor=\"start\" x=\"4677\" y=\"-617.8\" font-family=\"Helvetica,sans-Serif\" font-size=\"14.00\">samples = 9</text>\n<text text-anchor=\"start\" x=\"4675\" y=\"-602.8\" font-family=\"Helvetica,sans-Serif\" font-size=\"14.00\">value = [3, 6]</text>\n<text text-anchor=\"start\" x=\"4687\" y=\"-587.8\" font-family=\"Helvetica,sans-Serif\" font-size=\"14.00\">class = 1</text>\n</g>\n<!-- 185&#45;&gt;187 -->\n<g id=\"edge187\" class=\"edge\">\n<title>185&#45;&gt;187</title>\n<path fill=\"none\" stroke=\"black\" d=\"M4621.77,-698.91C4633.22,-689.47 4645.51,-679.34 4657.28,-669.65\"/>\n<polygon fill=\"black\" stroke=\"black\" points=\"4659.83,-672.08 4665.32,-663.02 4655.38,-666.68 4659.83,-672.08\"/>\n</g>\n<!-- 188 -->\n<g id=\"node189\" class=\"node\">\n<title>188</title>\n<path fill=\"#399de5\" stroke=\"black\" d=\"M4693,-536.5C4693,-536.5 4622,-536.5 4622,-536.5 4616,-536.5 4610,-530.5 4610,-524.5 4610,-524.5 4610,-480.5 4610,-480.5 4610,-474.5 4616,-468.5 4622,-468.5 4622,-468.5 4693,-468.5 4693,-468.5 4699,-468.5 4705,-474.5 4705,-480.5 4705,-480.5 4705,-524.5 4705,-524.5 4705,-530.5 4699,-536.5 4693,-536.5\"/>\n<text text-anchor=\"start\" x=\"4629.5\" y=\"-521.3\" font-family=\"Helvetica,sans-Serif\" font-size=\"14.00\">gini = 0.0</text>\n<text text-anchor=\"start\" x=\"4620\" y=\"-506.3\" font-family=\"Helvetica,sans-Serif\" font-size=\"14.00\">samples = 6</text>\n<text text-anchor=\"start\" x=\"4618\" y=\"-491.3\" font-family=\"Helvetica,sans-Serif\" font-size=\"14.00\">value = [0, 6]</text>\n<text text-anchor=\"start\" x=\"4630\" y=\"-476.3\" font-family=\"Helvetica,sans-Serif\" font-size=\"14.00\">class = 1</text>\n</g>\n<!-- 187&#45;&gt;188 -->\n<g id=\"edge188\" class=\"edge\">\n<title>187&#45;&gt;188</title>\n<path fill=\"none\" stroke=\"black\" d=\"M4694.72,-579.91C4689.35,-568.87 4683.51,-556.9 4678.09,-545.77\"/>\n<polygon fill=\"black\" stroke=\"black\" points=\"4681.18,-544.12 4673.66,-536.67 4674.89,-547.19 4681.18,-544.12\"/>\n</g>\n<!-- 189 -->\n<g id=\"node190\" class=\"node\">\n<title>189</title>\n<path fill=\"#e58139\" stroke=\"black\" d=\"M4806,-536.5C4806,-536.5 4735,-536.5 4735,-536.5 4729,-536.5 4723,-530.5 4723,-524.5 4723,-524.5 4723,-480.5 4723,-480.5 4723,-474.5 4729,-468.5 4735,-468.5 4735,-468.5 4806,-468.5 4806,-468.5 4812,-468.5 4818,-474.5 4818,-480.5 4818,-480.5 4818,-524.5 4818,-524.5 4818,-530.5 4812,-536.5 4806,-536.5\"/>\n<text text-anchor=\"start\" x=\"4742.5\" y=\"-521.3\" font-family=\"Helvetica,sans-Serif\" font-size=\"14.00\">gini = 0.0</text>\n<text text-anchor=\"start\" x=\"4733\" y=\"-506.3\" font-family=\"Helvetica,sans-Serif\" font-size=\"14.00\">samples = 3</text>\n<text text-anchor=\"start\" x=\"4731\" y=\"-491.3\" font-family=\"Helvetica,sans-Serif\" font-size=\"14.00\">value = [3, 0]</text>\n<text text-anchor=\"start\" x=\"4743\" y=\"-476.3\" font-family=\"Helvetica,sans-Serif\" font-size=\"14.00\">class = 0</text>\n</g>\n<!-- 187&#45;&gt;189 -->\n<g id=\"edge189\" class=\"edge\">\n<title>187&#45;&gt;189</title>\n<path fill=\"none\" stroke=\"black\" d=\"M4733.93,-579.91C4739.21,-568.87 4744.94,-556.9 4750.27,-545.77\"/>\n<polygon fill=\"black\" stroke=\"black\" points=\"4753.46,-547.2 4754.63,-536.67 4747.15,-544.18 4753.46,-547.2\"/>\n</g>\n<!-- 193 -->\n<g id=\"node194\" class=\"node\">\n<title>193</title>\n<path fill=\"#46a3e7\" stroke=\"black\" d=\"M5013.5,-1139C5013.5,-1139 4813.5,-1139 4813.5,-1139 4807.5,-1139 4801.5,-1133 4801.5,-1127 4801.5,-1127 4801.5,-1068 4801.5,-1068 4801.5,-1062 4807.5,-1056 4813.5,-1056 4813.5,-1056 5013.5,-1056 5013.5,-1056 5019.5,-1056 5025.5,-1062 5025.5,-1068 5025.5,-1068 5025.5,-1127 5025.5,-1127 5025.5,-1133 5019.5,-1139 5013.5,-1139\"/>\n<text text-anchor=\"start\" x=\"4809.5\" y=\"-1123.8\" font-family=\"Helvetica,sans-Serif\" font-size=\"14.00\">DiabetesPedigreeFunction ≤ 0.307</text>\n<text text-anchor=\"start\" x=\"4878\" y=\"-1108.8\" font-family=\"Helvetica,sans-Serif\" font-size=\"14.00\">gini = 0.113</text>\n<text text-anchor=\"start\" x=\"4872.5\" y=\"-1093.8\" font-family=\"Helvetica,sans-Serif\" font-size=\"14.00\">samples = 50</text>\n<text text-anchor=\"start\" x=\"4870.5\" y=\"-1078.8\" font-family=\"Helvetica,sans-Serif\" font-size=\"14.00\">value = [3, 47]</text>\n<text text-anchor=\"start\" x=\"4886\" y=\"-1063.8\" font-family=\"Helvetica,sans-Serif\" font-size=\"14.00\">class = 1</text>\n</g>\n<!-- 192&#45;&gt;193 -->\n<g id=\"edge193\" class=\"edge\">\n<title>192&#45;&gt;193</title>\n<path fill=\"none\" stroke=\"black\" d=\"M4913.5,-1174.91C4913.5,-1166.65 4913.5,-1157.86 4913.5,-1149.3\"/>\n<polygon fill=\"black\" stroke=\"black\" points=\"4917,-1149.02 4913.5,-1139.02 4910,-1149.02 4917,-1149.02\"/>\n</g>\n<!-- 202 -->\n<g id=\"node203\" class=\"node\">\n<title>202</title>\n<path fill=\"#bddef6\" stroke=\"black\" d=\"M5187,-1139C5187,-1139 5116,-1139 5116,-1139 5110,-1139 5104,-1133 5104,-1127 5104,-1127 5104,-1068 5104,-1068 5104,-1062 5110,-1056 5116,-1056 5116,-1056 5187,-1056 5187,-1056 5193,-1056 5199,-1062 5199,-1068 5199,-1068 5199,-1127 5199,-1127 5199,-1133 5193,-1139 5187,-1139\"/>\n<text text-anchor=\"start\" x=\"5118.5\" y=\"-1123.8\" font-family=\"Helvetica,sans-Serif\" font-size=\"14.00\">Age ≤ 28.0</text>\n<text text-anchor=\"start\" x=\"5119.5\" y=\"-1108.8\" font-family=\"Helvetica,sans-Serif\" font-size=\"14.00\">gini = 0.48</text>\n<text text-anchor=\"start\" x=\"5114\" y=\"-1093.8\" font-family=\"Helvetica,sans-Serif\" font-size=\"14.00\">samples = 5</text>\n<text text-anchor=\"start\" x=\"5112\" y=\"-1078.8\" font-family=\"Helvetica,sans-Serif\" font-size=\"14.00\">value = [2, 3]</text>\n<text text-anchor=\"start\" x=\"5124\" y=\"-1063.8\" font-family=\"Helvetica,sans-Serif\" font-size=\"14.00\">class = 1</text>\n</g>\n<!-- 192&#45;&gt;202 -->\n<g id=\"edge202\" class=\"edge\">\n<title>192&#45;&gt;202</title>\n<path fill=\"none\" stroke=\"black\" d=\"M4996.07,-1174.91C5028.54,-1158.95 5065.01,-1141.02 5094.46,-1126.54\"/>\n<polygon fill=\"black\" stroke=\"black\" points=\"5096.33,-1129.52 5103.76,-1121.97 5093.24,-1123.24 5096.33,-1129.52\"/>\n</g>\n<!-- 194 -->\n<g id=\"node195\" class=\"node\">\n<title>194</title>\n<path fill=\"#6fb8ec\" stroke=\"black\" d=\"M4953.5,-1020C4953.5,-1020 4753.5,-1020 4753.5,-1020 4747.5,-1020 4741.5,-1014 4741.5,-1008 4741.5,-1008 4741.5,-949 4741.5,-949 4741.5,-943 4747.5,-937 4753.5,-937 4753.5,-937 4953.5,-937 4953.5,-937 4959.5,-937 4965.5,-943 4965.5,-949 4965.5,-949 4965.5,-1008 4965.5,-1008 4965.5,-1014 4959.5,-1020 4953.5,-1020\"/>\n<text text-anchor=\"start\" x=\"4749.5\" y=\"-1004.8\" font-family=\"Helvetica,sans-Serif\" font-size=\"14.00\">DiabetesPedigreeFunction ≤ 0.291</text>\n<text text-anchor=\"start\" x=\"4818\" y=\"-989.8\" font-family=\"Helvetica,sans-Serif\" font-size=\"14.00\">gini = 0.337</text>\n<text text-anchor=\"start\" x=\"4812.5\" y=\"-974.8\" font-family=\"Helvetica,sans-Serif\" font-size=\"14.00\">samples = 14</text>\n<text text-anchor=\"start\" x=\"4810.5\" y=\"-959.8\" font-family=\"Helvetica,sans-Serif\" font-size=\"14.00\">value = [3, 11]</text>\n<text text-anchor=\"start\" x=\"4826\" y=\"-944.8\" font-family=\"Helvetica,sans-Serif\" font-size=\"14.00\">class = 1</text>\n</g>\n<!-- 193&#45;&gt;194 -->\n<g id=\"edge194\" class=\"edge\">\n<title>193&#45;&gt;194</title>\n<path fill=\"none\" stroke=\"black\" d=\"M4892.68,-1055.91C4888.26,-1047.29 4883.55,-1038.09 4878.97,-1029.17\"/>\n<polygon fill=\"black\" stroke=\"black\" points=\"4881.96,-1027.32 4874.28,-1020.02 4875.73,-1030.52 4881.96,-1027.32\"/>\n</g>\n<!-- 201 -->\n<g id=\"node202\" class=\"node\">\n<title>201</title>\n<path fill=\"#399de5\" stroke=\"black\" d=\"M5073.5,-1012.5C5073.5,-1012.5 4995.5,-1012.5 4995.5,-1012.5 4989.5,-1012.5 4983.5,-1006.5 4983.5,-1000.5 4983.5,-1000.5 4983.5,-956.5 4983.5,-956.5 4983.5,-950.5 4989.5,-944.5 4995.5,-944.5 4995.5,-944.5 5073.5,-944.5 5073.5,-944.5 5079.5,-944.5 5085.5,-950.5 5085.5,-956.5 5085.5,-956.5 5085.5,-1000.5 5085.5,-1000.5 5085.5,-1006.5 5079.5,-1012.5 5073.5,-1012.5\"/>\n<text text-anchor=\"start\" x=\"5006.5\" y=\"-997.3\" font-family=\"Helvetica,sans-Serif\" font-size=\"14.00\">gini = 0.0</text>\n<text text-anchor=\"start\" x=\"4993.5\" y=\"-982.3\" font-family=\"Helvetica,sans-Serif\" font-size=\"14.00\">samples = 36</text>\n<text text-anchor=\"start\" x=\"4991.5\" y=\"-967.3\" font-family=\"Helvetica,sans-Serif\" font-size=\"14.00\">value = [0, 36]</text>\n<text text-anchor=\"start\" x=\"5007\" y=\"-952.3\" font-family=\"Helvetica,sans-Serif\" font-size=\"14.00\">class = 1</text>\n</g>\n<!-- 193&#45;&gt;201 -->\n<g id=\"edge201\" class=\"edge\">\n<title>193&#45;&gt;201</title>\n<path fill=\"none\" stroke=\"black\" d=\"M4955.48,-1055.91C4967.58,-1044.21 4980.77,-1031.46 4992.84,-1019.78\"/>\n<polygon fill=\"black\" stroke=\"black\" points=\"4995.44,-1022.13 5000.2,-1012.67 4990.58,-1017.1 4995.44,-1022.13\"/>\n</g>\n<!-- 195 -->\n<g id=\"node196\" class=\"node\">\n<title>195</title>\n<path fill=\"#5dafea\" stroke=\"black\" d=\"M4892.5,-901C4892.5,-901 4814.5,-901 4814.5,-901 4808.5,-901 4802.5,-895 4802.5,-889 4802.5,-889 4802.5,-830 4802.5,-830 4802.5,-824 4808.5,-818 4814.5,-818 4814.5,-818 4892.5,-818 4892.5,-818 4898.5,-818 4904.5,-824 4904.5,-830 4904.5,-830 4904.5,-889 4904.5,-889 4904.5,-895 4898.5,-901 4892.5,-901\"/>\n<text text-anchor=\"start\" x=\"4820\" y=\"-885.8\" font-family=\"Helvetica,sans-Serif\" font-size=\"14.00\">BMI ≤ 35.3</text>\n<text text-anchor=\"start\" x=\"4821.5\" y=\"-870.8\" font-family=\"Helvetica,sans-Serif\" font-size=\"14.00\">gini = 0.26</text>\n<text text-anchor=\"start\" x=\"4812.5\" y=\"-855.8\" font-family=\"Helvetica,sans-Serif\" font-size=\"14.00\">samples = 13</text>\n<text text-anchor=\"start\" x=\"4810.5\" y=\"-840.8\" font-family=\"Helvetica,sans-Serif\" font-size=\"14.00\">value = [2, 11]</text>\n<text text-anchor=\"start\" x=\"4826\" y=\"-825.8\" font-family=\"Helvetica,sans-Serif\" font-size=\"14.00\">class = 1</text>\n</g>\n<!-- 194&#45;&gt;195 -->\n<g id=\"edge195\" class=\"edge\">\n<title>194&#45;&gt;195</title>\n<path fill=\"none\" stroke=\"black\" d=\"M4853.5,-936.91C4853.5,-928.65 4853.5,-919.86 4853.5,-911.3\"/>\n<polygon fill=\"black\" stroke=\"black\" points=\"4857,-911.02 4853.5,-901.02 4850,-911.02 4857,-911.02\"/>\n</g>\n<!-- 200 -->\n<g id=\"node201\" class=\"node\">\n<title>200</title>\n<path fill=\"#e58139\" stroke=\"black\" d=\"M5006,-893.5C5006,-893.5 4935,-893.5 4935,-893.5 4929,-893.5 4923,-887.5 4923,-881.5 4923,-881.5 4923,-837.5 4923,-837.5 4923,-831.5 4929,-825.5 4935,-825.5 4935,-825.5 5006,-825.5 5006,-825.5 5012,-825.5 5018,-831.5 5018,-837.5 5018,-837.5 5018,-881.5 5018,-881.5 5018,-887.5 5012,-893.5 5006,-893.5\"/>\n<text text-anchor=\"start\" x=\"4942.5\" y=\"-878.3\" font-family=\"Helvetica,sans-Serif\" font-size=\"14.00\">gini = 0.0</text>\n<text text-anchor=\"start\" x=\"4933\" y=\"-863.3\" font-family=\"Helvetica,sans-Serif\" font-size=\"14.00\">samples = 1</text>\n<text text-anchor=\"start\" x=\"4931\" y=\"-848.3\" font-family=\"Helvetica,sans-Serif\" font-size=\"14.00\">value = [1, 0]</text>\n<text text-anchor=\"start\" x=\"4943\" y=\"-833.3\" font-family=\"Helvetica,sans-Serif\" font-size=\"14.00\">class = 0</text>\n</g>\n<!-- 194&#45;&gt;200 -->\n<g id=\"edge200\" class=\"edge\">\n<title>194&#45;&gt;200</title>\n<path fill=\"none\" stroke=\"black\" d=\"M4894.09,-936.91C4905.79,-925.21 4918.54,-912.46 4930.22,-900.78\"/>\n<polygon fill=\"black\" stroke=\"black\" points=\"4932.74,-903.21 4937.33,-893.67 4927.79,-898.26 4932.74,-903.21\"/>\n</g>\n<!-- 196 -->\n<g id=\"node197\" class=\"node\">\n<title>196</title>\n<path fill=\"#9ccef2\" stroke=\"black\" d=\"M4914,-782C4914,-782 4793,-782 4793,-782 4787,-782 4781,-776 4781,-770 4781,-770 4781,-711 4781,-711 4781,-705 4787,-699 4793,-699 4793,-699 4914,-699 4914,-699 4920,-699 4926,-705 4926,-711 4926,-711 4926,-770 4926,-770 4926,-776 4920,-782 4914,-782\"/>\n<text text-anchor=\"start\" x=\"4789\" y=\"-766.8\" font-family=\"Helvetica,sans-Serif\" font-size=\"14.00\">SkinThickness ≤ 27.5</text>\n<text text-anchor=\"start\" x=\"4818\" y=\"-751.8\" font-family=\"Helvetica,sans-Serif\" font-size=\"14.00\">gini = 0.444</text>\n<text text-anchor=\"start\" x=\"4816\" y=\"-736.8\" font-family=\"Helvetica,sans-Serif\" font-size=\"14.00\">samples = 6</text>\n<text text-anchor=\"start\" x=\"4814\" y=\"-721.8\" font-family=\"Helvetica,sans-Serif\" font-size=\"14.00\">value = [2, 4]</text>\n<text text-anchor=\"start\" x=\"4826\" y=\"-706.8\" font-family=\"Helvetica,sans-Serif\" font-size=\"14.00\">class = 1</text>\n</g>\n<!-- 195&#45;&gt;196 -->\n<g id=\"edge196\" class=\"edge\">\n<title>195&#45;&gt;196</title>\n<path fill=\"none\" stroke=\"black\" d=\"M4853.5,-817.91C4853.5,-809.65 4853.5,-800.86 4853.5,-792.3\"/>\n<polygon fill=\"black\" stroke=\"black\" points=\"4857,-792.02 4853.5,-782.02 4850,-792.02 4857,-792.02\"/>\n</g>\n<!-- 199 -->\n<g id=\"node200\" class=\"node\">\n<title>199</title>\n<path fill=\"#399de5\" stroke=\"black\" d=\"M5027,-774.5C5027,-774.5 4956,-774.5 4956,-774.5 4950,-774.5 4944,-768.5 4944,-762.5 4944,-762.5 4944,-718.5 4944,-718.5 4944,-712.5 4950,-706.5 4956,-706.5 4956,-706.5 5027,-706.5 5027,-706.5 5033,-706.5 5039,-712.5 5039,-718.5 5039,-718.5 5039,-762.5 5039,-762.5 5039,-768.5 5033,-774.5 5027,-774.5\"/>\n<text text-anchor=\"start\" x=\"4963.5\" y=\"-759.3\" font-family=\"Helvetica,sans-Serif\" font-size=\"14.00\">gini = 0.0</text>\n<text text-anchor=\"start\" x=\"4954\" y=\"-744.3\" font-family=\"Helvetica,sans-Serif\" font-size=\"14.00\">samples = 7</text>\n<text text-anchor=\"start\" x=\"4952\" y=\"-729.3\" font-family=\"Helvetica,sans-Serif\" font-size=\"14.00\">value = [0, 7]</text>\n<text text-anchor=\"start\" x=\"4964\" y=\"-714.3\" font-family=\"Helvetica,sans-Serif\" font-size=\"14.00\">class = 1</text>\n</g>\n<!-- 195&#45;&gt;199 -->\n<g id=\"edge199\" class=\"edge\">\n<title>195&#45;&gt;199</title>\n<path fill=\"none\" stroke=\"black\" d=\"M4901.38,-817.91C4915.3,-806.1 4930.5,-793.22 4944.38,-781.45\"/>\n<polygon fill=\"black\" stroke=\"black\" points=\"4947.02,-783.8 4952.38,-774.67 4942.49,-778.46 4947.02,-783.8\"/>\n</g>\n<!-- 197 -->\n<g id=\"node198\" class=\"node\">\n<title>197</title>\n<path fill=\"#e58139\" stroke=\"black\" d=\"M4889,-655.5C4889,-655.5 4818,-655.5 4818,-655.5 4812,-655.5 4806,-649.5 4806,-643.5 4806,-643.5 4806,-599.5 4806,-599.5 4806,-593.5 4812,-587.5 4818,-587.5 4818,-587.5 4889,-587.5 4889,-587.5 4895,-587.5 4901,-593.5 4901,-599.5 4901,-599.5 4901,-643.5 4901,-643.5 4901,-649.5 4895,-655.5 4889,-655.5\"/>\n<text text-anchor=\"start\" x=\"4825.5\" y=\"-640.3\" font-family=\"Helvetica,sans-Serif\" font-size=\"14.00\">gini = 0.0</text>\n<text text-anchor=\"start\" x=\"4816\" y=\"-625.3\" font-family=\"Helvetica,sans-Serif\" font-size=\"14.00\">samples = 2</text>\n<text text-anchor=\"start\" x=\"4814\" y=\"-610.3\" font-family=\"Helvetica,sans-Serif\" font-size=\"14.00\">value = [2, 0]</text>\n<text text-anchor=\"start\" x=\"4826\" y=\"-595.3\" font-family=\"Helvetica,sans-Serif\" font-size=\"14.00\">class = 0</text>\n</g>\n<!-- 196&#45;&gt;197 -->\n<g id=\"edge197\" class=\"edge\">\n<title>196&#45;&gt;197</title>\n<path fill=\"none\" stroke=\"black\" d=\"M4853.5,-698.91C4853.5,-688.2 4853.5,-676.62 4853.5,-665.78\"/>\n<polygon fill=\"black\" stroke=\"black\" points=\"4857,-665.67 4853.5,-655.67 4850,-665.67 4857,-665.67\"/>\n</g>\n<!-- 198 -->\n<g id=\"node199\" class=\"node\">\n<title>198</title>\n<path fill=\"#399de5\" stroke=\"black\" d=\"M5002,-655.5C5002,-655.5 4931,-655.5 4931,-655.5 4925,-655.5 4919,-649.5 4919,-643.5 4919,-643.5 4919,-599.5 4919,-599.5 4919,-593.5 4925,-587.5 4931,-587.5 4931,-587.5 5002,-587.5 5002,-587.5 5008,-587.5 5014,-593.5 5014,-599.5 5014,-599.5 5014,-643.5 5014,-643.5 5014,-649.5 5008,-655.5 5002,-655.5\"/>\n<text text-anchor=\"start\" x=\"4938.5\" y=\"-640.3\" font-family=\"Helvetica,sans-Serif\" font-size=\"14.00\">gini = 0.0</text>\n<text text-anchor=\"start\" x=\"4929\" y=\"-625.3\" font-family=\"Helvetica,sans-Serif\" font-size=\"14.00\">samples = 4</text>\n<text text-anchor=\"start\" x=\"4927\" y=\"-610.3\" font-family=\"Helvetica,sans-Serif\" font-size=\"14.00\">value = [0, 4]</text>\n<text text-anchor=\"start\" x=\"4939\" y=\"-595.3\" font-family=\"Helvetica,sans-Serif\" font-size=\"14.00\">class = 1</text>\n</g>\n<!-- 196&#45;&gt;198 -->\n<g id=\"edge198\" class=\"edge\">\n<title>196&#45;&gt;198</title>\n<path fill=\"none\" stroke=\"black\" d=\"M4892.7,-698.91C4903.89,-687.32 4916.09,-674.7 4927.28,-663.11\"/>\n<polygon fill=\"black\" stroke=\"black\" points=\"4930.04,-665.29 4934.47,-655.67 4925,-660.43 4930.04,-665.29\"/>\n</g>\n<!-- 203 -->\n<g id=\"node204\" class=\"node\">\n<title>203</title>\n<path fill=\"#399de5\" stroke=\"black\" d=\"M5187,-1012.5C5187,-1012.5 5116,-1012.5 5116,-1012.5 5110,-1012.5 5104,-1006.5 5104,-1000.5 5104,-1000.5 5104,-956.5 5104,-956.5 5104,-950.5 5110,-944.5 5116,-944.5 5116,-944.5 5187,-944.5 5187,-944.5 5193,-944.5 5199,-950.5 5199,-956.5 5199,-956.5 5199,-1000.5 5199,-1000.5 5199,-1006.5 5193,-1012.5 5187,-1012.5\"/>\n<text text-anchor=\"start\" x=\"5123.5\" y=\"-997.3\" font-family=\"Helvetica,sans-Serif\" font-size=\"14.00\">gini = 0.0</text>\n<text text-anchor=\"start\" x=\"5114\" y=\"-982.3\" font-family=\"Helvetica,sans-Serif\" font-size=\"14.00\">samples = 3</text>\n<text text-anchor=\"start\" x=\"5112\" y=\"-967.3\" font-family=\"Helvetica,sans-Serif\" font-size=\"14.00\">value = [0, 3]</text>\n<text text-anchor=\"start\" x=\"5124\" y=\"-952.3\" font-family=\"Helvetica,sans-Serif\" font-size=\"14.00\">class = 1</text>\n</g>\n<!-- 202&#45;&gt;203 -->\n<g id=\"edge203\" class=\"edge\">\n<title>202&#45;&gt;203</title>\n<path fill=\"none\" stroke=\"black\" d=\"M5151.5,-1055.91C5151.5,-1045.2 5151.5,-1033.62 5151.5,-1022.78\"/>\n<polygon fill=\"black\" stroke=\"black\" points=\"5155,-1022.67 5151.5,-1012.67 5148,-1022.67 5155,-1022.67\"/>\n</g>\n<!-- 204 -->\n<g id=\"node205\" class=\"node\">\n<title>204</title>\n<path fill=\"#e58139\" stroke=\"black\" d=\"M5300,-1012.5C5300,-1012.5 5229,-1012.5 5229,-1012.5 5223,-1012.5 5217,-1006.5 5217,-1000.5 5217,-1000.5 5217,-956.5 5217,-956.5 5217,-950.5 5223,-944.5 5229,-944.5 5229,-944.5 5300,-944.5 5300,-944.5 5306,-944.5 5312,-950.5 5312,-956.5 5312,-956.5 5312,-1000.5 5312,-1000.5 5312,-1006.5 5306,-1012.5 5300,-1012.5\"/>\n<text text-anchor=\"start\" x=\"5236.5\" y=\"-997.3\" font-family=\"Helvetica,sans-Serif\" font-size=\"14.00\">gini = 0.0</text>\n<text text-anchor=\"start\" x=\"5227\" y=\"-982.3\" font-family=\"Helvetica,sans-Serif\" font-size=\"14.00\">samples = 2</text>\n<text text-anchor=\"start\" x=\"5225\" y=\"-967.3\" font-family=\"Helvetica,sans-Serif\" font-size=\"14.00\">value = [2, 0]</text>\n<text text-anchor=\"start\" x=\"5237\" y=\"-952.3\" font-family=\"Helvetica,sans-Serif\" font-size=\"14.00\">class = 0</text>\n</g>\n<!-- 202&#45;&gt;204 -->\n<g id=\"edge204\" class=\"edge\">\n<title>202&#45;&gt;204</title>\n<path fill=\"none\" stroke=\"black\" d=\"M5190.7,-1055.91C5201.89,-1044.32 5214.09,-1031.7 5225.28,-1020.11\"/>\n<polygon fill=\"black\" stroke=\"black\" points=\"5228.04,-1022.29 5232.47,-1012.67 5223,-1017.43 5228.04,-1022.29\"/>\n</g>\n</g>\n</svg>\n",
            "text/plain": [
              "<graphviz.sources.Source at 0x7ee7400bb700>"
            ]
          },
          "metadata": {},
          "execution_count": 64
        }
      ]
    }
  ]
}