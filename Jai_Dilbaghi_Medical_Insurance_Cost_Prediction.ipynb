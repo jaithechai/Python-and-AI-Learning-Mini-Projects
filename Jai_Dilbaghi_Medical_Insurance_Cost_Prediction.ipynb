{
  "nbformat": 4,
  "nbformat_minor": 0,
  "metadata": {
    "colab": {
      "provenance": []
    },
    "kernelspec": {
      "name": "python3",
      "display_name": "Python 3"
    },
    "language_info": {
      "name": "python"
    }
  },
  "cells": [
    {
      "cell_type": "markdown",
      "metadata": {
        "id": "URmAxWVIRiR7"
      },
      "source": [
        "Importing the Dependencies"
      ]
    },
    {
      "cell_type": "code",
      "metadata": {
        "id": "dCei9HxoNdG5"
      },
      "source": [
        "import numpy as np\n",
        "import pandas as pd\n",
        "import matplotlib.pyplot as plt\n",
        "import seaborn as sns\n",
        "from sklearn.model_selection import train_test_split\n",
        "from sklearn.linear_model import LinearRegression\n",
        "from sklearn import metrics"
      ],
      "execution_count": null,
      "outputs": []
    },
    {
      "cell_type": "markdown",
      "metadata": {
        "id": "k4ydeF1FSK2n"
      },
      "source": [
        "Data Collection & Analysis"
      ]
    },
    {
      "cell_type": "code",
      "metadata": {
        "id": "HvkkGhfRSGdn"
      },
      "source": [
        "# loading the data from csv file to a Pandas DataFrame\n",
        "insurance_dataset = pd.read_csv('/content/sample_data/insurance.csv')"
      ],
      "execution_count": null,
      "outputs": []
    },
    {
      "cell_type": "code",
      "metadata": {
        "colab": {
          "base_uri": "https://localhost:8080/",
          "height": 206
        },
        "id": "jKHJM3wUSfhe",
        "outputId": "72bc4bec-21b5-4d9c-86aa-b8e471f999c7"
      },
      "source": [
        "# first 5 rows of the dataframe\n",
        "insurance_dataset.head()"
      ],
      "execution_count": null,
      "outputs": [
        {
          "output_type": "execute_result",
          "data": {
            "text/plain": [
              "   age     sex     bmi  children smoker     region      charges\n",
              "0   19  female  27.900         0    yes  southwest  16884.92400\n",
              "1   18    male  33.770         1     no  southeast   1725.55230\n",
              "2   28    male  33.000         3     no  southeast   4449.46200\n",
              "3   33    male  22.705         0     no  northwest  21984.47061\n",
              "4   32    male  28.880         0     no  northwest   3866.85520"
            ],
            "text/html": [
              "\n",
              "  <div id=\"df-369af915-b76f-47c3-a90d-3d7e85abf4d7\" class=\"colab-df-container\">\n",
              "    <div>\n",
              "<style scoped>\n",
              "    .dataframe tbody tr th:only-of-type {\n",
              "        vertical-align: middle;\n",
              "    }\n",
              "\n",
              "    .dataframe tbody tr th {\n",
              "        vertical-align: top;\n",
              "    }\n",
              "\n",
              "    .dataframe thead th {\n",
              "        text-align: right;\n",
              "    }\n",
              "</style>\n",
              "<table border=\"1\" class=\"dataframe\">\n",
              "  <thead>\n",
              "    <tr style=\"text-align: right;\">\n",
              "      <th></th>\n",
              "      <th>age</th>\n",
              "      <th>sex</th>\n",
              "      <th>bmi</th>\n",
              "      <th>children</th>\n",
              "      <th>smoker</th>\n",
              "      <th>region</th>\n",
              "      <th>charges</th>\n",
              "    </tr>\n",
              "  </thead>\n",
              "  <tbody>\n",
              "    <tr>\n",
              "      <th>0</th>\n",
              "      <td>19</td>\n",
              "      <td>female</td>\n",
              "      <td>27.900</td>\n",
              "      <td>0</td>\n",
              "      <td>yes</td>\n",
              "      <td>southwest</td>\n",
              "      <td>16884.92400</td>\n",
              "    </tr>\n",
              "    <tr>\n",
              "      <th>1</th>\n",
              "      <td>18</td>\n",
              "      <td>male</td>\n",
              "      <td>33.770</td>\n",
              "      <td>1</td>\n",
              "      <td>no</td>\n",
              "      <td>southeast</td>\n",
              "      <td>1725.55230</td>\n",
              "    </tr>\n",
              "    <tr>\n",
              "      <th>2</th>\n",
              "      <td>28</td>\n",
              "      <td>male</td>\n",
              "      <td>33.000</td>\n",
              "      <td>3</td>\n",
              "      <td>no</td>\n",
              "      <td>southeast</td>\n",
              "      <td>4449.46200</td>\n",
              "    </tr>\n",
              "    <tr>\n",
              "      <th>3</th>\n",
              "      <td>33</td>\n",
              "      <td>male</td>\n",
              "      <td>22.705</td>\n",
              "      <td>0</td>\n",
              "      <td>no</td>\n",
              "      <td>northwest</td>\n",
              "      <td>21984.47061</td>\n",
              "    </tr>\n",
              "    <tr>\n",
              "      <th>4</th>\n",
              "      <td>32</td>\n",
              "      <td>male</td>\n",
              "      <td>28.880</td>\n",
              "      <td>0</td>\n",
              "      <td>no</td>\n",
              "      <td>northwest</td>\n",
              "      <td>3866.85520</td>\n",
              "    </tr>\n",
              "  </tbody>\n",
              "</table>\n",
              "</div>\n",
              "    <div class=\"colab-df-buttons\">\n",
              "\n",
              "  <div class=\"colab-df-container\">\n",
              "    <button class=\"colab-df-convert\" onclick=\"convertToInteractive('df-369af915-b76f-47c3-a90d-3d7e85abf4d7')\"\n",
              "            title=\"Convert this dataframe to an interactive table.\"\n",
              "            style=\"display:none;\">\n",
              "\n",
              "  <svg xmlns=\"http://www.w3.org/2000/svg\" height=\"24px\" viewBox=\"0 -960 960 960\">\n",
              "    <path d=\"M120-120v-720h720v720H120Zm60-500h600v-160H180v160Zm220 220h160v-160H400v160Zm0 220h160v-160H400v160ZM180-400h160v-160H180v160Zm440 0h160v-160H620v160ZM180-180h160v-160H180v160Zm440 0h160v-160H620v160Z\"/>\n",
              "  </svg>\n",
              "    </button>\n",
              "\n",
              "  <style>\n",
              "    .colab-df-container {\n",
              "      display:flex;\n",
              "      gap: 12px;\n",
              "    }\n",
              "\n",
              "    .colab-df-convert {\n",
              "      background-color: #E8F0FE;\n",
              "      border: none;\n",
              "      border-radius: 50%;\n",
              "      cursor: pointer;\n",
              "      display: none;\n",
              "      fill: #1967D2;\n",
              "      height: 32px;\n",
              "      padding: 0 0 0 0;\n",
              "      width: 32px;\n",
              "    }\n",
              "\n",
              "    .colab-df-convert:hover {\n",
              "      background-color: #E2EBFA;\n",
              "      box-shadow: 0px 1px 2px rgba(60, 64, 67, 0.3), 0px 1px 3px 1px rgba(60, 64, 67, 0.15);\n",
              "      fill: #174EA6;\n",
              "    }\n",
              "\n",
              "    .colab-df-buttons div {\n",
              "      margin-bottom: 4px;\n",
              "    }\n",
              "\n",
              "    [theme=dark] .colab-df-convert {\n",
              "      background-color: #3B4455;\n",
              "      fill: #D2E3FC;\n",
              "    }\n",
              "\n",
              "    [theme=dark] .colab-df-convert:hover {\n",
              "      background-color: #434B5C;\n",
              "      box-shadow: 0px 1px 3px 1px rgba(0, 0, 0, 0.15);\n",
              "      filter: drop-shadow(0px 1px 2px rgba(0, 0, 0, 0.3));\n",
              "      fill: #FFFFFF;\n",
              "    }\n",
              "  </style>\n",
              "\n",
              "    <script>\n",
              "      const buttonEl =\n",
              "        document.querySelector('#df-369af915-b76f-47c3-a90d-3d7e85abf4d7 button.colab-df-convert');\n",
              "      buttonEl.style.display =\n",
              "        google.colab.kernel.accessAllowed ? 'block' : 'none';\n",
              "\n",
              "      async function convertToInteractive(key) {\n",
              "        const element = document.querySelector('#df-369af915-b76f-47c3-a90d-3d7e85abf4d7');\n",
              "        const dataTable =\n",
              "          await google.colab.kernel.invokeFunction('convertToInteractive',\n",
              "                                                    [key], {});\n",
              "        if (!dataTable) return;\n",
              "\n",
              "        const docLinkHtml = 'Like what you see? Visit the ' +\n",
              "          '<a target=\"_blank\" href=https://colab.research.google.com/notebooks/data_table.ipynb>data table notebook</a>'\n",
              "          + ' to learn more about interactive tables.';\n",
              "        element.innerHTML = '';\n",
              "        dataTable['output_type'] = 'display_data';\n",
              "        await google.colab.output.renderOutput(dataTable, element);\n",
              "        const docLink = document.createElement('div');\n",
              "        docLink.innerHTML = docLinkHtml;\n",
              "        element.appendChild(docLink);\n",
              "      }\n",
              "    </script>\n",
              "  </div>\n",
              "\n",
              "\n",
              "<div id=\"df-de390eba-ab4c-4b23-a84d-d72edc7278df\">\n",
              "  <button class=\"colab-df-quickchart\" onclick=\"quickchart('df-de390eba-ab4c-4b23-a84d-d72edc7278df')\"\n",
              "            title=\"Suggest charts\"\n",
              "            style=\"display:none;\">\n",
              "\n",
              "<svg xmlns=\"http://www.w3.org/2000/svg\" height=\"24px\"viewBox=\"0 0 24 24\"\n",
              "     width=\"24px\">\n",
              "    <g>\n",
              "        <path d=\"M19 3H5c-1.1 0-2 .9-2 2v14c0 1.1.9 2 2 2h14c1.1 0 2-.9 2-2V5c0-1.1-.9-2-2-2zM9 17H7v-7h2v7zm4 0h-2V7h2v10zm4 0h-2v-4h2v4z\"/>\n",
              "    </g>\n",
              "</svg>\n",
              "  </button>\n",
              "\n",
              "<style>\n",
              "  .colab-df-quickchart {\n",
              "      --bg-color: #E8F0FE;\n",
              "      --fill-color: #1967D2;\n",
              "      --hover-bg-color: #E2EBFA;\n",
              "      --hover-fill-color: #174EA6;\n",
              "      --disabled-fill-color: #AAA;\n",
              "      --disabled-bg-color: #DDD;\n",
              "  }\n",
              "\n",
              "  [theme=dark] .colab-df-quickchart {\n",
              "      --bg-color: #3B4455;\n",
              "      --fill-color: #D2E3FC;\n",
              "      --hover-bg-color: #434B5C;\n",
              "      --hover-fill-color: #FFFFFF;\n",
              "      --disabled-bg-color: #3B4455;\n",
              "      --disabled-fill-color: #666;\n",
              "  }\n",
              "\n",
              "  .colab-df-quickchart {\n",
              "    background-color: var(--bg-color);\n",
              "    border: none;\n",
              "    border-radius: 50%;\n",
              "    cursor: pointer;\n",
              "    display: none;\n",
              "    fill: var(--fill-color);\n",
              "    height: 32px;\n",
              "    padding: 0;\n",
              "    width: 32px;\n",
              "  }\n",
              "\n",
              "  .colab-df-quickchart:hover {\n",
              "    background-color: var(--hover-bg-color);\n",
              "    box-shadow: 0 1px 2px rgba(60, 64, 67, 0.3), 0 1px 3px 1px rgba(60, 64, 67, 0.15);\n",
              "    fill: var(--button-hover-fill-color);\n",
              "  }\n",
              "\n",
              "  .colab-df-quickchart-complete:disabled,\n",
              "  .colab-df-quickchart-complete:disabled:hover {\n",
              "    background-color: var(--disabled-bg-color);\n",
              "    fill: var(--disabled-fill-color);\n",
              "    box-shadow: none;\n",
              "  }\n",
              "\n",
              "  .colab-df-spinner {\n",
              "    border: 2px solid var(--fill-color);\n",
              "    border-color: transparent;\n",
              "    border-bottom-color: var(--fill-color);\n",
              "    animation:\n",
              "      spin 1s steps(1) infinite;\n",
              "  }\n",
              "\n",
              "  @keyframes spin {\n",
              "    0% {\n",
              "      border-color: transparent;\n",
              "      border-bottom-color: var(--fill-color);\n",
              "      border-left-color: var(--fill-color);\n",
              "    }\n",
              "    20% {\n",
              "      border-color: transparent;\n",
              "      border-left-color: var(--fill-color);\n",
              "      border-top-color: var(--fill-color);\n",
              "    }\n",
              "    30% {\n",
              "      border-color: transparent;\n",
              "      border-left-color: var(--fill-color);\n",
              "      border-top-color: var(--fill-color);\n",
              "      border-right-color: var(--fill-color);\n",
              "    }\n",
              "    40% {\n",
              "      border-color: transparent;\n",
              "      border-right-color: var(--fill-color);\n",
              "      border-top-color: var(--fill-color);\n",
              "    }\n",
              "    60% {\n",
              "      border-color: transparent;\n",
              "      border-right-color: var(--fill-color);\n",
              "    }\n",
              "    80% {\n",
              "      border-color: transparent;\n",
              "      border-right-color: var(--fill-color);\n",
              "      border-bottom-color: var(--fill-color);\n",
              "    }\n",
              "    90% {\n",
              "      border-color: transparent;\n",
              "      border-bottom-color: var(--fill-color);\n",
              "    }\n",
              "  }\n",
              "</style>\n",
              "\n",
              "  <script>\n",
              "    async function quickchart(key) {\n",
              "      const quickchartButtonEl =\n",
              "        document.querySelector('#' + key + ' button');\n",
              "      quickchartButtonEl.disabled = true;  // To prevent multiple clicks.\n",
              "      quickchartButtonEl.classList.add('colab-df-spinner');\n",
              "      try {\n",
              "        const charts = await google.colab.kernel.invokeFunction(\n",
              "            'suggestCharts', [key], {});\n",
              "      } catch (error) {\n",
              "        console.error('Error during call to suggestCharts:', error);\n",
              "      }\n",
              "      quickchartButtonEl.classList.remove('colab-df-spinner');\n",
              "      quickchartButtonEl.classList.add('colab-df-quickchart-complete');\n",
              "    }\n",
              "    (() => {\n",
              "      let quickchartButtonEl =\n",
              "        document.querySelector('#df-de390eba-ab4c-4b23-a84d-d72edc7278df button');\n",
              "      quickchartButtonEl.style.display =\n",
              "        google.colab.kernel.accessAllowed ? 'block' : 'none';\n",
              "    })();\n",
              "  </script>\n",
              "</div>\n",
              "\n",
              "    </div>\n",
              "  </div>\n"
            ],
            "application/vnd.google.colaboratory.intrinsic+json": {
              "type": "dataframe",
              "variable_name": "insurance_dataset",
              "summary": "{\n  \"name\": \"insurance_dataset\",\n  \"rows\": 1338,\n  \"fields\": [\n    {\n      \"column\": \"age\",\n      \"properties\": {\n        \"dtype\": \"number\",\n        \"std\": 14,\n        \"min\": 18,\n        \"max\": 64,\n        \"num_unique_values\": 47,\n        \"samples\": [\n          21,\n          45,\n          36\n        ],\n        \"semantic_type\": \"\",\n        \"description\": \"\"\n      }\n    },\n    {\n      \"column\": \"sex\",\n      \"properties\": {\n        \"dtype\": \"category\",\n        \"num_unique_values\": 2,\n        \"samples\": [\n          \"male\",\n          \"female\"\n        ],\n        \"semantic_type\": \"\",\n        \"description\": \"\"\n      }\n    },\n    {\n      \"column\": \"bmi\",\n      \"properties\": {\n        \"dtype\": \"number\",\n        \"std\": 6.098186911679014,\n        \"min\": 15.96,\n        \"max\": 53.13,\n        \"num_unique_values\": 548,\n        \"samples\": [\n          23.18,\n          26.885\n        ],\n        \"semantic_type\": \"\",\n        \"description\": \"\"\n      }\n    },\n    {\n      \"column\": \"children\",\n      \"properties\": {\n        \"dtype\": \"number\",\n        \"std\": 1,\n        \"min\": 0,\n        \"max\": 5,\n        \"num_unique_values\": 6,\n        \"samples\": [\n          0,\n          1\n        ],\n        \"semantic_type\": \"\",\n        \"description\": \"\"\n      }\n    },\n    {\n      \"column\": \"smoker\",\n      \"properties\": {\n        \"dtype\": \"category\",\n        \"num_unique_values\": 2,\n        \"samples\": [\n          \"no\",\n          \"yes\"\n        ],\n        \"semantic_type\": \"\",\n        \"description\": \"\"\n      }\n    },\n    {\n      \"column\": \"region\",\n      \"properties\": {\n        \"dtype\": \"category\",\n        \"num_unique_values\": 4,\n        \"samples\": [\n          \"southeast\",\n          \"northeast\"\n        ],\n        \"semantic_type\": \"\",\n        \"description\": \"\"\n      }\n    },\n    {\n      \"column\": \"charges\",\n      \"properties\": {\n        \"dtype\": \"number\",\n        \"std\": 12110.011236694001,\n        \"min\": 1121.8739,\n        \"max\": 63770.42801,\n        \"num_unique_values\": 1337,\n        \"samples\": [\n          8688.85885,\n          5708.867\n        ],\n        \"semantic_type\": \"\",\n        \"description\": \"\"\n      }\n    }\n  ]\n}"
            }
          },
          "metadata": {},
          "execution_count": 5
        }
      ]
    },
    {
      "cell_type": "code",
      "metadata": {
        "colab": {
          "base_uri": "https://localhost:8080/"
        },
        "id": "qB730MywSmwM",
        "outputId": "cef29b0b-1aeb-456f-df6b-b8ff8e2e3c5a"
      },
      "source": [
        "# number of rows and columns\n",
        "insurance_dataset.shape"
      ],
      "execution_count": null,
      "outputs": [
        {
          "output_type": "execute_result",
          "data": {
            "text/plain": [
              "(1338, 7)"
            ]
          },
          "metadata": {},
          "execution_count": 6
        }
      ]
    },
    {
      "cell_type": "code",
      "metadata": {
        "colab": {
          "base_uri": "https://localhost:8080/"
        },
        "id": "zbBK33o-S_Q7",
        "outputId": "5c685190-45d2-434c-c544-bb4d96c4d09b"
      },
      "source": [
        "# getting some informations about the dataset\n",
        "insurance_dataset.info()"
      ],
      "execution_count": null,
      "outputs": [
        {
          "output_type": "stream",
          "name": "stdout",
          "text": [
            "<class 'pandas.core.frame.DataFrame'>\n",
            "RangeIndex: 1338 entries, 0 to 1337\n",
            "Data columns (total 7 columns):\n",
            " #   Column    Non-Null Count  Dtype  \n",
            "---  ------    --------------  -----  \n",
            " 0   age       1338 non-null   int64  \n",
            " 1   sex       1338 non-null   object \n",
            " 2   bmi       1338 non-null   float64\n",
            " 3   children  1338 non-null   int64  \n",
            " 4   smoker    1338 non-null   object \n",
            " 5   region    1338 non-null   object \n",
            " 6   charges   1338 non-null   float64\n",
            "dtypes: float64(2), int64(2), object(3)\n",
            "memory usage: 73.3+ KB\n"
          ]
        }
      ]
    },
    {
      "cell_type": "markdown",
      "metadata": {
        "id": "yjwwR0fnTg2H"
      },
      "source": [
        "Categorical Features:\n",
        "- Sex\n",
        "- Smoker\n",
        "- Region"
      ]
    },
    {
      "cell_type": "code",
      "metadata": {
        "colab": {
          "base_uri": "https://localhost:8080/"
        },
        "id": "-DsX_XZUTOw8",
        "outputId": "605da10e-216b-46b3-ead5-6169ef4848ee"
      },
      "source": [
        "# checking for missing values\n",
        "insurance_dataset.isnull().sum()"
      ],
      "execution_count": null,
      "outputs": [
        {
          "output_type": "execute_result",
          "data": {
            "text/plain": [
              "age         0\n",
              "sex         0\n",
              "bmi         0\n",
              "children    0\n",
              "smoker      0\n",
              "region      0\n",
              "charges     0\n",
              "dtype: int64"
            ]
          },
          "metadata": {},
          "execution_count": 8
        }
      ]
    },
    {
      "cell_type": "markdown",
      "metadata": {
        "id": "39CD23eNUBpW"
      },
      "source": [
        "Data Analysis"
      ]
    },
    {
      "cell_type": "code",
      "metadata": {
        "colab": {
          "base_uri": "https://localhost:8080/",
          "height": 300
        },
        "id": "H3JJHLVgT4kV",
        "outputId": "b689c6a8-c16e-4c16-e194-5ea0505498dc"
      },
      "source": [
        "# statistical Measures of the dataset\n",
        "insurance_dataset.describe()"
      ],
      "execution_count": null,
      "outputs": [
        {
          "output_type": "execute_result",
          "data": {
            "text/plain": [
              "               age          bmi     children       charges\n",
              "count  1338.000000  1338.000000  1338.000000   1338.000000\n",
              "mean     39.207025    30.663397     1.094918  13270.422265\n",
              "std      14.049960     6.098187     1.205493  12110.011237\n",
              "min      18.000000    15.960000     0.000000   1121.873900\n",
              "25%      27.000000    26.296250     0.000000   4740.287150\n",
              "50%      39.000000    30.400000     1.000000   9382.033000\n",
              "75%      51.000000    34.693750     2.000000  16639.912515\n",
              "max      64.000000    53.130000     5.000000  63770.428010"
            ],
            "text/html": [
              "\n",
              "  <div id=\"df-12a558d9-53cd-4f7b-9127-9ba19e18fec3\" class=\"colab-df-container\">\n",
              "    <div>\n",
              "<style scoped>\n",
              "    .dataframe tbody tr th:only-of-type {\n",
              "        vertical-align: middle;\n",
              "    }\n",
              "\n",
              "    .dataframe tbody tr th {\n",
              "        vertical-align: top;\n",
              "    }\n",
              "\n",
              "    .dataframe thead th {\n",
              "        text-align: right;\n",
              "    }\n",
              "</style>\n",
              "<table border=\"1\" class=\"dataframe\">\n",
              "  <thead>\n",
              "    <tr style=\"text-align: right;\">\n",
              "      <th></th>\n",
              "      <th>age</th>\n",
              "      <th>bmi</th>\n",
              "      <th>children</th>\n",
              "      <th>charges</th>\n",
              "    </tr>\n",
              "  </thead>\n",
              "  <tbody>\n",
              "    <tr>\n",
              "      <th>count</th>\n",
              "      <td>1338.000000</td>\n",
              "      <td>1338.000000</td>\n",
              "      <td>1338.000000</td>\n",
              "      <td>1338.000000</td>\n",
              "    </tr>\n",
              "    <tr>\n",
              "      <th>mean</th>\n",
              "      <td>39.207025</td>\n",
              "      <td>30.663397</td>\n",
              "      <td>1.094918</td>\n",
              "      <td>13270.422265</td>\n",
              "    </tr>\n",
              "    <tr>\n",
              "      <th>std</th>\n",
              "      <td>14.049960</td>\n",
              "      <td>6.098187</td>\n",
              "      <td>1.205493</td>\n",
              "      <td>12110.011237</td>\n",
              "    </tr>\n",
              "    <tr>\n",
              "      <th>min</th>\n",
              "      <td>18.000000</td>\n",
              "      <td>15.960000</td>\n",
              "      <td>0.000000</td>\n",
              "      <td>1121.873900</td>\n",
              "    </tr>\n",
              "    <tr>\n",
              "      <th>25%</th>\n",
              "      <td>27.000000</td>\n",
              "      <td>26.296250</td>\n",
              "      <td>0.000000</td>\n",
              "      <td>4740.287150</td>\n",
              "    </tr>\n",
              "    <tr>\n",
              "      <th>50%</th>\n",
              "      <td>39.000000</td>\n",
              "      <td>30.400000</td>\n",
              "      <td>1.000000</td>\n",
              "      <td>9382.033000</td>\n",
              "    </tr>\n",
              "    <tr>\n",
              "      <th>75%</th>\n",
              "      <td>51.000000</td>\n",
              "      <td>34.693750</td>\n",
              "      <td>2.000000</td>\n",
              "      <td>16639.912515</td>\n",
              "    </tr>\n",
              "    <tr>\n",
              "      <th>max</th>\n",
              "      <td>64.000000</td>\n",
              "      <td>53.130000</td>\n",
              "      <td>5.000000</td>\n",
              "      <td>63770.428010</td>\n",
              "    </tr>\n",
              "  </tbody>\n",
              "</table>\n",
              "</div>\n",
              "    <div class=\"colab-df-buttons\">\n",
              "\n",
              "  <div class=\"colab-df-container\">\n",
              "    <button class=\"colab-df-convert\" onclick=\"convertToInteractive('df-12a558d9-53cd-4f7b-9127-9ba19e18fec3')\"\n",
              "            title=\"Convert this dataframe to an interactive table.\"\n",
              "            style=\"display:none;\">\n",
              "\n",
              "  <svg xmlns=\"http://www.w3.org/2000/svg\" height=\"24px\" viewBox=\"0 -960 960 960\">\n",
              "    <path d=\"M120-120v-720h720v720H120Zm60-500h600v-160H180v160Zm220 220h160v-160H400v160Zm0 220h160v-160H400v160ZM180-400h160v-160H180v160Zm440 0h160v-160H620v160ZM180-180h160v-160H180v160Zm440 0h160v-160H620v160Z\"/>\n",
              "  </svg>\n",
              "    </button>\n",
              "\n",
              "  <style>\n",
              "    .colab-df-container {\n",
              "      display:flex;\n",
              "      gap: 12px;\n",
              "    }\n",
              "\n",
              "    .colab-df-convert {\n",
              "      background-color: #E8F0FE;\n",
              "      border: none;\n",
              "      border-radius: 50%;\n",
              "      cursor: pointer;\n",
              "      display: none;\n",
              "      fill: #1967D2;\n",
              "      height: 32px;\n",
              "      padding: 0 0 0 0;\n",
              "      width: 32px;\n",
              "    }\n",
              "\n",
              "    .colab-df-convert:hover {\n",
              "      background-color: #E2EBFA;\n",
              "      box-shadow: 0px 1px 2px rgba(60, 64, 67, 0.3), 0px 1px 3px 1px rgba(60, 64, 67, 0.15);\n",
              "      fill: #174EA6;\n",
              "    }\n",
              "\n",
              "    .colab-df-buttons div {\n",
              "      margin-bottom: 4px;\n",
              "    }\n",
              "\n",
              "    [theme=dark] .colab-df-convert {\n",
              "      background-color: #3B4455;\n",
              "      fill: #D2E3FC;\n",
              "    }\n",
              "\n",
              "    [theme=dark] .colab-df-convert:hover {\n",
              "      background-color: #434B5C;\n",
              "      box-shadow: 0px 1px 3px 1px rgba(0, 0, 0, 0.15);\n",
              "      filter: drop-shadow(0px 1px 2px rgba(0, 0, 0, 0.3));\n",
              "      fill: #FFFFFF;\n",
              "    }\n",
              "  </style>\n",
              "\n",
              "    <script>\n",
              "      const buttonEl =\n",
              "        document.querySelector('#df-12a558d9-53cd-4f7b-9127-9ba19e18fec3 button.colab-df-convert');\n",
              "      buttonEl.style.display =\n",
              "        google.colab.kernel.accessAllowed ? 'block' : 'none';\n",
              "\n",
              "      async function convertToInteractive(key) {\n",
              "        const element = document.querySelector('#df-12a558d9-53cd-4f7b-9127-9ba19e18fec3');\n",
              "        const dataTable =\n",
              "          await google.colab.kernel.invokeFunction('convertToInteractive',\n",
              "                                                    [key], {});\n",
              "        if (!dataTable) return;\n",
              "\n",
              "        const docLinkHtml = 'Like what you see? Visit the ' +\n",
              "          '<a target=\"_blank\" href=https://colab.research.google.com/notebooks/data_table.ipynb>data table notebook</a>'\n",
              "          + ' to learn more about interactive tables.';\n",
              "        element.innerHTML = '';\n",
              "        dataTable['output_type'] = 'display_data';\n",
              "        await google.colab.output.renderOutput(dataTable, element);\n",
              "        const docLink = document.createElement('div');\n",
              "        docLink.innerHTML = docLinkHtml;\n",
              "        element.appendChild(docLink);\n",
              "      }\n",
              "    </script>\n",
              "  </div>\n",
              "\n",
              "\n",
              "<div id=\"df-125e0f4a-7539-4d8b-a363-39d5a7c1986e\">\n",
              "  <button class=\"colab-df-quickchart\" onclick=\"quickchart('df-125e0f4a-7539-4d8b-a363-39d5a7c1986e')\"\n",
              "            title=\"Suggest charts\"\n",
              "            style=\"display:none;\">\n",
              "\n",
              "<svg xmlns=\"http://www.w3.org/2000/svg\" height=\"24px\"viewBox=\"0 0 24 24\"\n",
              "     width=\"24px\">\n",
              "    <g>\n",
              "        <path d=\"M19 3H5c-1.1 0-2 .9-2 2v14c0 1.1.9 2 2 2h14c1.1 0 2-.9 2-2V5c0-1.1-.9-2-2-2zM9 17H7v-7h2v7zm4 0h-2V7h2v10zm4 0h-2v-4h2v4z\"/>\n",
              "    </g>\n",
              "</svg>\n",
              "  </button>\n",
              "\n",
              "<style>\n",
              "  .colab-df-quickchart {\n",
              "      --bg-color: #E8F0FE;\n",
              "      --fill-color: #1967D2;\n",
              "      --hover-bg-color: #E2EBFA;\n",
              "      --hover-fill-color: #174EA6;\n",
              "      --disabled-fill-color: #AAA;\n",
              "      --disabled-bg-color: #DDD;\n",
              "  }\n",
              "\n",
              "  [theme=dark] .colab-df-quickchart {\n",
              "      --bg-color: #3B4455;\n",
              "      --fill-color: #D2E3FC;\n",
              "      --hover-bg-color: #434B5C;\n",
              "      --hover-fill-color: #FFFFFF;\n",
              "      --disabled-bg-color: #3B4455;\n",
              "      --disabled-fill-color: #666;\n",
              "  }\n",
              "\n",
              "  .colab-df-quickchart {\n",
              "    background-color: var(--bg-color);\n",
              "    border: none;\n",
              "    border-radius: 50%;\n",
              "    cursor: pointer;\n",
              "    display: none;\n",
              "    fill: var(--fill-color);\n",
              "    height: 32px;\n",
              "    padding: 0;\n",
              "    width: 32px;\n",
              "  }\n",
              "\n",
              "  .colab-df-quickchart:hover {\n",
              "    background-color: var(--hover-bg-color);\n",
              "    box-shadow: 0 1px 2px rgba(60, 64, 67, 0.3), 0 1px 3px 1px rgba(60, 64, 67, 0.15);\n",
              "    fill: var(--button-hover-fill-color);\n",
              "  }\n",
              "\n",
              "  .colab-df-quickchart-complete:disabled,\n",
              "  .colab-df-quickchart-complete:disabled:hover {\n",
              "    background-color: var(--disabled-bg-color);\n",
              "    fill: var(--disabled-fill-color);\n",
              "    box-shadow: none;\n",
              "  }\n",
              "\n",
              "  .colab-df-spinner {\n",
              "    border: 2px solid var(--fill-color);\n",
              "    border-color: transparent;\n",
              "    border-bottom-color: var(--fill-color);\n",
              "    animation:\n",
              "      spin 1s steps(1) infinite;\n",
              "  }\n",
              "\n",
              "  @keyframes spin {\n",
              "    0% {\n",
              "      border-color: transparent;\n",
              "      border-bottom-color: var(--fill-color);\n",
              "      border-left-color: var(--fill-color);\n",
              "    }\n",
              "    20% {\n",
              "      border-color: transparent;\n",
              "      border-left-color: var(--fill-color);\n",
              "      border-top-color: var(--fill-color);\n",
              "    }\n",
              "    30% {\n",
              "      border-color: transparent;\n",
              "      border-left-color: var(--fill-color);\n",
              "      border-top-color: var(--fill-color);\n",
              "      border-right-color: var(--fill-color);\n",
              "    }\n",
              "    40% {\n",
              "      border-color: transparent;\n",
              "      border-right-color: var(--fill-color);\n",
              "      border-top-color: var(--fill-color);\n",
              "    }\n",
              "    60% {\n",
              "      border-color: transparent;\n",
              "      border-right-color: var(--fill-color);\n",
              "    }\n",
              "    80% {\n",
              "      border-color: transparent;\n",
              "      border-right-color: var(--fill-color);\n",
              "      border-bottom-color: var(--fill-color);\n",
              "    }\n",
              "    90% {\n",
              "      border-color: transparent;\n",
              "      border-bottom-color: var(--fill-color);\n",
              "    }\n",
              "  }\n",
              "</style>\n",
              "\n",
              "  <script>\n",
              "    async function quickchart(key) {\n",
              "      const quickchartButtonEl =\n",
              "        document.querySelector('#' + key + ' button');\n",
              "      quickchartButtonEl.disabled = true;  // To prevent multiple clicks.\n",
              "      quickchartButtonEl.classList.add('colab-df-spinner');\n",
              "      try {\n",
              "        const charts = await google.colab.kernel.invokeFunction(\n",
              "            'suggestCharts', [key], {});\n",
              "      } catch (error) {\n",
              "        console.error('Error during call to suggestCharts:', error);\n",
              "      }\n",
              "      quickchartButtonEl.classList.remove('colab-df-spinner');\n",
              "      quickchartButtonEl.classList.add('colab-df-quickchart-complete');\n",
              "    }\n",
              "    (() => {\n",
              "      let quickchartButtonEl =\n",
              "        document.querySelector('#df-125e0f4a-7539-4d8b-a363-39d5a7c1986e button');\n",
              "      quickchartButtonEl.style.display =\n",
              "        google.colab.kernel.accessAllowed ? 'block' : 'none';\n",
              "    })();\n",
              "  </script>\n",
              "</div>\n",
              "\n",
              "    </div>\n",
              "  </div>\n"
            ],
            "application/vnd.google.colaboratory.intrinsic+json": {
              "type": "dataframe",
              "summary": "{\n  \"name\": \"insurance_dataset\",\n  \"rows\": 8,\n  \"fields\": [\n    {\n      \"column\": \"age\",\n      \"properties\": {\n        \"dtype\": \"number\",\n        \"std\": 460.6106090399993,\n        \"min\": 14.049960379216154,\n        \"max\": 1338.0,\n        \"num_unique_values\": 8,\n        \"samples\": [\n          39.20702541106129,\n          39.0,\n          1338.0\n        ],\n        \"semantic_type\": \"\",\n        \"description\": \"\"\n      }\n    },\n    {\n      \"column\": \"bmi\",\n      \"properties\": {\n        \"dtype\": \"number\",\n        \"std\": 463.29524977918294,\n        \"min\": 6.098186911679014,\n        \"max\": 1338.0,\n        \"num_unique_values\": 8,\n        \"samples\": [\n          30.66339686098655,\n          30.4,\n          1338.0\n        ],\n        \"semantic_type\": \"\",\n        \"description\": \"\"\n      }\n    },\n    {\n      \"column\": \"children\",\n      \"properties\": {\n        \"dtype\": \"number\",\n        \"std\": 472.5368318870757,\n        \"min\": 0.0,\n        \"max\": 1338.0,\n        \"num_unique_values\": 7,\n        \"samples\": [\n          1338.0,\n          1.0949177877429,\n          2.0\n        ],\n        \"semantic_type\": \"\",\n        \"description\": \"\"\n      }\n    },\n    {\n      \"column\": \"charges\",\n      \"properties\": {\n        \"dtype\": \"number\",\n        \"std\": 20381.922846226596,\n        \"min\": 1121.8739,\n        \"max\": 63770.42801,\n        \"num_unique_values\": 8,\n        \"samples\": [\n          13270.422265141257,\n          9382.033,\n          1338.0\n        ],\n        \"semantic_type\": \"\",\n        \"description\": \"\"\n      }\n    }\n  ]\n}"
            }
          },
          "metadata": {},
          "execution_count": 9
        }
      ]
    },
    {
      "cell_type": "code",
      "metadata": {
        "colab": {
          "base_uri": "https://localhost:8080/",
          "height": 540
        },
        "id": "thRxLvZwUJNW",
        "outputId": "370927d1-0f4f-462b-d761-8c7ebfc52b18"
      },
      "source": [
        "# distribution of age value\n",
        "sns.set()\n",
        "plt.figure(figsize=(6,6))\n",
        "sns.displot(insurance_dataset['age'])\n",
        "plt.title('Age Distribution')\n",
        "plt.show()"
      ],
      "execution_count": null,
      "outputs": [
        {
          "output_type": "display_data",
          "data": {
            "text/plain": [
              "<Figure size 600x600 with 0 Axes>"
            ]
          },
          "metadata": {}
        },
        {
          "output_type": "display_data",
          "data": {
            "text/plain": [
              "<Figure size 500x500 with 1 Axes>"
            ],
            "image/png": "[encoded data removed]"
          },
          "metadata": {}
        }
      ]
    },
    {
      "cell_type": "code",
      "metadata": {
        "colab": {
          "base_uri": "https://localhost:8080/",
          "height": 573
        },
        "id": "sJaFjdJJU644",
        "outputId": "8dbbac98-d6a3-4853-adc5-b3d27fcaf40a"
      },
      "source": [
        "# Gender column\n",
        "plt.figure(figsize=(6,6))\n",
        "sns.countplot(x='sex', data=insurance_dataset)\n",
        "plt.title('Sex Distribution')\n",
        "plt.show()"
      ],
      "execution_count": null,
      "outputs": [
        {
          "output_type": "display_data",
          "data": {
            "text/plain": [
              "<Figure size 600x600 with 1 Axes>"
            ],
            "image/png": "[encoded data removed]"
          },
          "metadata": {}
        }
      ]
    },
    {
      "cell_type": "code",
      "metadata": {
        "colab": {
          "base_uri": "https://localhost:8080/"
        },
        "id": "zV5Jx_ytVmIy",
        "outputId": "3498cca0-d488-444f-c94d-fa3ea24435b3"
      },
      "source": [
        "insurance_dataset['sex'].value_counts()"
      ],
      "execution_count": null,
      "outputs": [
        {
          "output_type": "execute_result",
          "data": {
            "text/plain": [
              "sex\n",
              "male      676\n",
              "female    662\n",
              "Name: count, dtype: int64"
            ]
          },
          "metadata": {},
          "execution_count": 12
        }
      ]
    },
    {
      "cell_type": "code",
      "metadata": {
        "colab": {
          "base_uri": "https://localhost:8080/",
          "height": 540
        },
        "id": "bqUZ1u_9Vyg_",
        "outputId": "cf11538c-bead-47d9-85a9-cf1b4b52dbd9"
      },
      "source": [
        "# bmi distribution\n",
        "plt.figure(figsize=(6,6))\n",
        "sns.displot(insurance_dataset['bmi'])\n",
        "plt.title('BMI Distribution')\n",
        "plt.show()"
      ],
      "execution_count": null,
      "outputs": [
        {
          "output_type": "display_data",
          "data": {
            "text/plain": [
              "<Figure size 600x600 with 0 Axes>"
            ]
          },
          "metadata": {}
        },
        {
          "output_type": "display_data",
          "data": {
            "text/plain": [
              "<Figure size 500x500 with 1 Axes>"
            ],
            "image/png": "[encoded data removed]"
          },
          "metadata": {}
        }
      ]
    },
    {
      "cell_type": "markdown",
      "metadata": {
        "id": "0wAqPe_vWJ23"
      },
      "source": [
        "Normal BMI Range --> 18.5 to 24.9"
      ]
    },
    {
      "cell_type": "code",
      "metadata": {
        "colab": {
          "base_uri": "https://localhost:8080/",
          "height": 573
        },
        "id": "xNwyB3IzWAsU",
        "outputId": "63bc0b75-8b9f-4e4d-9c95-5b8d388c4a6a"
      },
      "source": [
        "# children column\n",
        "plt.figure(figsize=(6,6))\n",
        "sns.countplot(x='children', data=insurance_dataset)\n",
        "plt.title('Children')\n",
        "plt.show()"
      ],
      "execution_count": null,
      "outputs": [
        {
          "output_type": "display_data",
          "data": {
            "text/plain": [
              "<Figure size 600x600 with 1 Axes>"
            ],
            "image/png": "[encoded data removed]"
          },
          "metadata": {}
        }
      ]
    },
    {
      "cell_type": "code",
      "metadata": {
        "colab": {
          "base_uri": "https://localhost:8080/"
        },
        "id": "4TMelPK-Wx5x",
        "outputId": "f0fb1669-c39b-4337-a0ee-b92c7c0065e1"
      },
      "source": [
        "insurance_dataset['children'].value_counts()"
      ],
      "execution_count": null,
      "outputs": [
        {
          "output_type": "execute_result",
          "data": {
            "text/plain": [
              "children\n",
              "0    574\n",
              "1    324\n",
              "2    240\n",
              "3    157\n",
              "4     25\n",
              "5     18\n",
              "Name: count, dtype: int64"
            ]
          },
          "metadata": {},
          "execution_count": 17
        }
      ]
    },
    {
      "cell_type": "code",
      "metadata": {
        "colab": {
          "base_uri": "https://localhost:8080/",
          "height": 573
        },
        "id": "poIPFFSBW9n4",
        "outputId": "42f1b108-09be-42d1-a7ba-0b667e175e88"
      },
      "source": [
        "# smoker column\n",
        "plt.figure(figsize=(6,6))\n",
        "sns.countplot(x='smoker', data=insurance_dataset)\n",
        "plt.title('smoker')\n",
        "plt.show()"
      ],
      "execution_count": null,
      "outputs": [
        {
          "output_type": "display_data",
          "data": {
            "text/plain": [
              "<Figure size 600x600 with 1 Axes>"
            ],
            "image/png": "[encoded data removed]"
          },
          "metadata": {}
        }
      ]
    },
    {
      "cell_type": "code",
      "metadata": {
        "colab": {
          "base_uri": "https://localhost:8080/"
        },
        "id": "2OHFYb59XI2h",
        "outputId": "f7d341b7-f29c-4158-9cb6-945cc4228bd8"
      },
      "source": [
        "insurance_dataset['smoker'].value_counts()"
      ],
      "execution_count": null,
      "outputs": [
        {
          "output_type": "execute_result",
          "data": {
            "text/plain": [
              "smoker\n",
              "no     1064\n",
              "yes     274\n",
              "Name: count, dtype: int64"
            ]
          },
          "metadata": {},
          "execution_count": 19
        }
      ]
    },
    {
      "cell_type": "code",
      "metadata": {
        "colab": {
          "base_uri": "https://localhost:8080/",
          "height": 573
        },
        "id": "5972T2X4XRkv",
        "outputId": "70e75dee-147c-4061-b695-984a5adcd65e"
      },
      "source": [
        "# region column\n",
        "plt.figure(figsize=(6,6))\n",
        "sns.countplot(x='region', data=insurance_dataset)\n",
        "plt.title('region')\n",
        "plt.show()"
      ],
      "execution_count": null,
      "outputs": [
        {
          "output_type": "display_data",
          "data": {
            "text/plain": [
              "<Figure size 600x600 with 1 Axes>"
            ],
            "image/png": "[encoded data removed]"
          },
          "metadata": {}
        }
      ]
    },
    {
      "cell_type": "code",
      "metadata": {
        "colab": {
          "base_uri": "https://localhost:8080/"
        },
        "id": "rkckkdYVXYnV",
        "outputId": "ded7ec41-b9dc-49b0-ea9e-f2a54dfc2c13"
      },
      "source": [
        "insurance_dataset['region'].value_counts()"
      ],
      "execution_count": null,
      "outputs": [
        {
          "output_type": "execute_result",
          "data": {
            "text/plain": [
              "region\n",
              "southeast    364\n",
              "southwest    325\n",
              "northwest    325\n",
              "northeast    324\n",
              "Name: count, dtype: int64"
            ]
          },
          "metadata": {},
          "execution_count": 21
        }
      ]
    },
    {
      "cell_type": "code",
      "metadata": {
        "colab": {
          "base_uri": "https://localhost:8080/",
          "height": 540
        },
        "id": "vV_nE8lNXgji",
        "outputId": "624c0518-9549-4d91-d767-02b3be60ee6a"
      },
      "source": [
        "# distribution of charges value\n",
        "plt.figure(figsize=(6,6))\n",
        "sns.displot(insurance_dataset['charges'])\n",
        "plt.title('Charges Distribution')\n",
        "plt.show()"
      ],
      "execution_count": null,
      "outputs": [
        {
          "output_type": "display_data",
          "data": {
            "text/plain": [
              "<Figure size 600x600 with 0 Axes>"
            ]
          },
          "metadata": {}
        },
        {
          "output_type": "display_data",
          "data": {
            "text/plain": [
              "<Figure size 500x500 with 1 Axes>"
            ],
            "image/png": "[encoded data removed]"
          },
          "metadata": {}
        }
      ]
    },
    {
      "cell_type": "markdown",
      "metadata": {
        "id": "gKYZDvzqX3iR"
      },
      "source": [
        "Data Pre-Processing"
      ]
    },
    {
      "cell_type": "markdown",
      "metadata": {
        "id": "pr9nJq15YFsY"
      },
      "source": [
        "Encoding the categorical features"
      ]
    },
    {
      "cell_type": "code",
      "metadata": {
        "id": "QVXYBAt_XwPO"
      },
      "source": [
        "# encoding sex column\n",
        "insurance_dataset.replace({'sex':{'male':0,'female':1}}, inplace=True)\n",
        "\n",
        "3 # encoding 'smoker' column\n",
        "insurance_dataset.replace({'smoker':{'yes':0,'no':1}}, inplace=True)\n",
        "\n",
        "# encoding 'region' column\n",
        "insurance_dataset.replace({'region':{'southeast':0,'southwest':1,'northeast':2,'northwest':3}}, inplace=True)"
      ],
      "execution_count": null,
      "outputs": []
    },
    {
      "cell_type": "markdown",
      "metadata": {
        "id": "EL0T11t-ZdNF"
      },
      "source": [
        "Splitting the Features and Target"
      ]
    },
    {
      "cell_type": "code",
      "metadata": {
        "id": "Z5UK60q_ZMgr"
      },
      "source": [
        "X = insurance_dataset.drop(columns='charges', axis=1)\n",
        "Y = insurance_dataset['charges']"
      ],
      "execution_count": null,
      "outputs": []
    },
    {
      "cell_type": "code",
      "metadata": {
        "colab": {
          "base_uri": "https://localhost:8080/"
        },
        "id": "ACFgPgoUZvzP",
        "outputId": "af4b5262-090a-49cc-8c40-b37a4a228d94"
      },
      "source": [
        "print(X)"
      ],
      "execution_count": null,
      "outputs": [
        {
          "output_type": "stream",
          "text": [
            "      age  sex     bmi  children  smoker  region\n",
            "0      19    1  27.900         0       0       1\n",
            "1      18    0  33.770         1       1       0\n",
            "2      28    0  33.000         3       1       0\n",
            "3      33    0  22.705         0       1       3\n",
            "4      32    0  28.880         0       1       3\n",
            "...   ...  ...     ...       ...     ...     ...\n",
            "1333   50    0  30.970         3       1       3\n",
            "1334   18    1  31.920         0       1       2\n",
            "1335   18    1  36.850         0       1       0\n",
            "1336   21    1  25.800         0       1       1\n",
            "1337   61    1  29.070         0       0       3\n",
            "\n",
            "[1338 rows x 6 columns]\n"
          ],
          "name": "stdout"
        }
      ]
    },
    {
      "cell_type": "code",
      "metadata": {
        "colab": {
          "base_uri": "https://localhost:8080/"
        },
        "id": "7zcw-kgaZxvI",
        "outputId": "d5efeda6-ae04-44d2-cf07-89307d749b62"
      },
      "source": [
        "print(Y)"
      ],
      "execution_count": null,
      "outputs": [
        {
          "output_type": "stream",
          "name": "stdout",
          "text": [
            "0       16884.92400\n",
            "1        1725.55230\n",
            "2        4449.46200\n",
            "3       21984.47061\n",
            "4        3866.85520\n",
            "           ...     \n",
            "1333    10600.54830\n",
            "1334     2205.98080\n",
            "1335     1629.83350\n",
            "1336     2007.94500\n",
            "1337    29141.36030\n",
            "Name: charges, Length: 1338, dtype: float64\n"
          ]
        }
      ]
    },
    {
      "cell_type": "markdown",
      "metadata": {
        "id": "N56oAuY3bQSF"
      },
      "source": [
        "Splitting the data into Training data & Testing Data"
      ]
    },
    {
      "cell_type": "code",
      "metadata": {
        "id": "8HQEpONYbL0-"
      },
      "source": [
        "X_train, X_test, Y_train, Y_test = train_test_split(X, Y, test_size=0.2, random_state=2)"
      ],
      "execution_count": null,
      "outputs": []
    },
    {
      "cell_type": "code",
      "metadata": {
        "colab": {
          "base_uri": "https://localhost:8080/"
        },
        "id": "GKh0p46hb3iD",
        "outputId": "0869a244-7c77-4001-f7b6-c9d8a50a565c"
      },
      "source": [
        "print(X.shape, X_train.shape, X_test.shape)"
      ],
      "execution_count": null,
      "outputs": [
        {
          "output_type": "stream",
          "name": "stdout",
          "text": [
            "(1338, 6) (1070, 6) (268, 6)\n"
          ]
        }
      ]
    },
    {
      "cell_type": "markdown",
      "metadata": {
        "id": "DQoIaogAcCF2"
      },
      "source": [
        "Model Training"
      ]
    },
    {
      "cell_type": "markdown",
      "metadata": {
        "id": "-1RWRMnncEJj"
      },
      "source": [
        "Linear Regression"
      ]
    },
    {
      "cell_type": "code",
      "metadata": {
        "id": "18wYy3bub9ej"
      },
      "source": [
        "# loading the Linear Regression model\n",
        "regressor = LinearRegression()"
      ],
      "execution_count": null,
      "outputs": []
    },
    {
      "cell_type": "code",
      "metadata": {
        "colab": {
          "base_uri": "https://localhost:8080/",
          "height": 74
        },
        "id": "yRHiG9dqcxxN",
        "outputId": "0051135e-9277-4c15-b2c6-65c9a402b22e"
      },
      "source": [
        "regressor.fit(X_train, Y_train)"
      ],
      "execution_count": null,
      "outputs": [
        {
          "output_type": "execute_result",
          "data": {
            "text/plain": [
              "LinearRegression()"
            ],
            "text/html": [
              "<style>#sk-container-id-1 {color: black;background-color: white;}#sk-container-id-1 pre{padding: 0;}#sk-container-id-1 div.sk-toggleable {background-color: white;}#sk-container-id-1 label.sk-toggleable__label {cursor: pointer;display: block;width: 100%;margin-bottom: 0;padding: 0.3em;box-sizing: border-box;text-align: center;}#sk-container-id-1 label.sk-toggleable__label-arrow:before {content: \"▸\";float: left;margin-right: 0.25em;color: #696969;}#sk-container-id-1 label.sk-toggleable__label-arrow:hover:before {color: black;}#sk-container-id-1 div.sk-estimator:hover label.sk-toggleable__label-arrow:before {color: black;}#sk-container-id-1 div.sk-toggleable__content {max-height: 0;max-width: 0;overflow: hidden;text-align: left;background-color: #f0f8ff;}#sk-container-id-1 div.sk-toggleable__content pre {margin: 0.2em;color: black;border-radius: 0.25em;background-color: #f0f8ff;}#sk-container-id-1 input.sk-toggleable__control:checked~div.sk-toggleable__content {max-height: 200px;max-width: 100%;overflow: auto;}#sk-container-id-1 input.sk-toggleable__control:checked~label.sk-toggleable__label-arrow:before {content: \"▾\";}#sk-container-id-1 div.sk-estimator input.sk-toggleable__control:checked~label.sk-toggleable__label {background-color: #d4ebff;}#sk-container-id-1 div.sk-label input.sk-toggleable__control:checked~label.sk-toggleable__label {background-color: #d4ebff;}#sk-container-id-1 input.sk-hidden--visually {border: 0;clip: rect(1px 1px 1px 1px);clip: rect(1px, 1px, 1px, 1px);height: 1px;margin: -1px;overflow: hidden;padding: 0;position: absolute;width: 1px;}#sk-container-id-1 div.sk-estimator {font-family: monospace;background-color: #f0f8ff;border: 1px dotted black;border-radius: 0.25em;box-sizing: border-box;margin-bottom: 0.5em;}#sk-container-id-1 div.sk-estimator:hover {background-color: #d4ebff;}#sk-container-id-1 div.sk-parallel-item::after {content: \"\";width: 100%;border-bottom: 1px solid gray;flex-grow: 1;}#sk-container-id-1 div.sk-label:hover label.sk-toggleable__label {background-color: #d4ebff;}#sk-container-id-1 div.sk-serial::before {content: \"\";position: absolute;border-left: 1px solid gray;box-sizing: border-box;top: 0;bottom: 0;left: 50%;z-index: 0;}#sk-container-id-1 div.sk-serial {display: flex;flex-direction: column;align-items: center;background-color: white;padding-right: 0.2em;padding-left: 0.2em;position: relative;}#sk-container-id-1 div.sk-item {position: relative;z-index: 1;}#sk-container-id-1 div.sk-parallel {display: flex;align-items: stretch;justify-content: center;background-color: white;position: relative;}#sk-container-id-1 div.sk-item::before, #sk-container-id-1 div.sk-parallel-item::before {content: \"\";position: absolute;border-left: 1px solid gray;box-sizing: border-box;top: 0;bottom: 0;left: 50%;z-index: -1;}#sk-container-id-1 div.sk-parallel-item {display: flex;flex-direction: column;z-index: 1;position: relative;background-color: white;}#sk-container-id-1 div.sk-parallel-item:first-child::after {align-self: flex-end;width: 50%;}#sk-container-id-1 div.sk-parallel-item:last-child::after {align-self: flex-start;width: 50%;}#sk-container-id-1 div.sk-parallel-item:only-child::after {width: 0;}#sk-container-id-1 div.sk-dashed-wrapped {border: 1px dashed gray;margin: 0 0.4em 0.5em 0.4em;box-sizing: border-box;padding-bottom: 0.4em;background-color: white;}#sk-container-id-1 div.sk-label label {font-family: monospace;font-weight: bold;display: inline-block;line-height: 1.2em;}#sk-container-id-1 div.sk-label-container {text-align: center;}#sk-container-id-1 div.sk-container {/* jupyter's `normalize.less` sets `[hidden] { display: none; }` but bootstrap.min.css set `[hidden] { display: none !important; }` so we also need the `!important` here to be able to override the default hidden behavior on the sphinx rendered scikit-learn.org. See: https://github.com/scikit-learn/scikit-learn/issues/21755 */display: inline-block !important;position: relative;}#sk-container-id-1 div.sk-text-repr-fallback {display: none;}</style><div id=\"sk-container-id-1\" class=\"sk-top-container\"><div class=\"sk-text-repr-fallback\"><pre>LinearRegression()</pre><b>In a Jupyter environment, please rerun this cell to show the HTML representation or trust the notebook. <br />On GitHub, the HTML representation is unable to render, please try loading this page with nbviewer.org.</b></div><div class=\"sk-container\" hidden><div class=\"sk-item\"><div class=\"sk-estimator sk-toggleable\"><input class=\"sk-toggleable__control sk-hidden--visually\" id=\"sk-estimator-id-1\" type=\"checkbox\" checked><label for=\"sk-estimator-id-1\" class=\"sk-toggleable__label sk-toggleable__label-arrow\">LinearRegression</label><div class=\"sk-toggleable__content\"><pre>LinearRegression()</pre></div></div></div></div></div>"
            ]
          },
          "metadata": {},
          "execution_count": 30
        }
      ]
    },
    {
      "cell_type": "markdown",
      "metadata": {
        "id": "PGM93AzWc-VJ"
      },
      "source": [
        "Model Evaluation"
      ]
    },
    {
      "cell_type": "code",
      "metadata": {
        "id": "NhRL9x_wc6-p"
      },
      "source": [
        "# prediction on training data\n",
        "training_data_prediction =regressor.predict(X_train)"
      ],
      "execution_count": null,
      "outputs": []
    },
    {
      "cell_type": "code",
      "metadata": {
        "colab": {
          "base_uri": "https://localhost:8080/"
        },
        "id": "bQ8gnyDMdMSb",
        "outputId": "49f12978-c365-41a4-dbb8-17906263e195"
      },
      "source": [
        "# R squared value\n",
        "r2_train = metrics.r2_score(Y_train, training_data_prediction)\n",
        "print('R squared vale : ', r2_train)"
      ],
      "execution_count": null,
      "outputs": [
        {
          "output_type": "stream",
          "name": "stdout",
          "text": [
            "R squared vale :  0.751505643411174\n"
          ]
        }
      ]
    },
    {
      "cell_type": "code",
      "metadata": {
        "id": "pHQSjvekdsgO"
      },
      "source": [
        "# prediction on test data\n",
        "test_data_prediction =regressor.predict(X_test)"
      ],
      "execution_count": null,
      "outputs": []
    },
    {
      "cell_type": "markdown",
      "source": [
        "In regression analysis, R-squared, or the coefficient of determination, is a statistical measure that shows how well a regression model's line fits the data. It's a proportion of the variation in the dependent variable that can be predicted from the independent variable. R-squared values range from 0 to 1, with higher values indicating a better fit. For example, an R-squared of 60% means that the model explains 60% of the variability in the target variable.\n",
        "\n",
        "A data set has n values y1, ..., yn\n",
        "modeled or predicted value f1, ..., fn\n",
        "\n",
        "![image.png](data:image/png;base64,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)\n",
        "\n",
        "\n",
        "![image.png](data:image/png;base64,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)"
      ],
      "metadata": {
        "id": "_pD8r2PmQ0v1"
      }
    },
    {
      "cell_type": "code",
      "metadata": {
        "colab": {
          "base_uri": "https://localhost:8080/"
        },
        "id": "YWPIzD8ud5KA",
        "outputId": "fbd63ec5-7024-45d5-fde8-738e1b5c694c"
      },
      "source": [
        "# R squared value\n",
        "r2_test = metrics.r2_score(Y_test, test_data_prediction)\n",
        "print('R squared vale : ', r2_test)"
      ],
      "execution_count": null,
      "outputs": [
        {
          "output_type": "stream",
          "name": "stdout",
          "text": [
            "R squared vale :  0.7447273869684076\n"
          ]
        }
      ]
    },
    {
      "cell_type": "markdown",
      "metadata": {
        "id": "_RhHS3AkeOVA"
      },
      "source": [
        "Building a Predictive System"
      ]
    },
    {
      "cell_type": "code",
      "metadata": {
        "colab": {
          "base_uri": "https://localhost:8080/"
        },
        "id": "H9bGdPbBd_Xd",
        "outputId": "ee59e2e7-c2b3-4b17-8fe8-e770dcd712c3"
      },
      "source": [
        "input_data = (31,1,25.74,0,1,0)\n",
        "\n",
        "# changing input_data to a numpy array\n",
        "input_data_as_numpy_array = np.asarray(input_data)\n",
        "\n",
        "# reshape the array\n",
        "input_data_reshaped = input_data_as_numpy_array.reshape(1,-1)\n",
        "\n",
        "prediction = regressor.predict(input_data_reshaped)\n",
        "print(prediction)\n",
        "\n",
        "print('The insurance cost is USD ', prediction[0])"
      ],
      "execution_count": null,
      "outputs": [
        {
          "output_type": "stream",
          "text": [
            "[3760.0805765]\n",
            "The insurance cost is USD  3760.0805764960587\n"
          ],
          "name": "stdout"
        }
      ]
    }
  ]
}