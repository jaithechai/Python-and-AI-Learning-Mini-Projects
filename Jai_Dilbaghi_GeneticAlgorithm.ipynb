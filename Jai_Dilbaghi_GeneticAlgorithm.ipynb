{
  "nbformat": 4,
  "nbformat_minor": 0,
  "metadata": {
    "colab": {
      "provenance": []
    },
    "kernelspec": {
      "name": "python3",
      "display_name": "Python 3"
    },
    "language_info": {
      "name": "python"
    }
  },
  "cells": [
    {
      "cell_type": "code",
      "source": [
        "boards = [\n",
        "         [[1, 0, 0, 0],\n",
        "          [1, 0, 0, 0],\n",
        "          [0, 1, 0, 0],\n",
        "          [0, 0, 1, 0]],\n",
        "\n",
        "         [[0, 1, 0, 0],\n",
        "          [0, 0, 1, 0],\n",
        "          [0, 1, 0, 0],\n",
        "          [0, 1, 0, 0]],\n",
        "\n",
        "         [[0, 0, 0, 1],\n",
        "          [0, 0, 1, 0],\n",
        "          [0, 1, 0, 0],\n",
        "          [0, 0, 0, 1]],\n",
        "\n",
        "         [[0, 0, 0, 1],\n",
        "          [0, 1, 0, 0],\n",
        "          [0, 0, 0, 1],\n",
        "          [0, 0, 1, 0]]\n",
        "         ]\n",
        "\n",
        "max_fitness = len(boards[0][0]) * (len(boards[0]) - 1)\n",
        "\n",
        "def calculate_attack(board):\n",
        "  attack = 0\n",
        "  for r in range(len(board)):\n",
        "    for c in range(len(board[r])):\n",
        "      if board[r][c] == 1:\n",
        "        attack += calculate_attack_for_cell(board, r, c)\n",
        "  return attack\n",
        "\n",
        "def calculate_attack_for_cell(board, r, c):\n",
        "  attack = 0\n",
        "  if board[r][c] == 1:\n",
        "    for r2 in range(len(board)):\n",
        "      for c2 in range(len(board[r2])):\n",
        "        if r == r2 and c == c2:\n",
        "          continue\n",
        "        if board[r2][c2] == 1:\n",
        "          if r == r2 or c == c2 or r-c == r2-c2 or r+c == r2+c2:\n",
        "            attack += 1\n",
        "  return attack\n",
        "\n",
        "print(calculate_attack(boards[0]))\n",
        "print(calculate_attack(boards[1]))\n",
        "print(calculate_attack(boards[2]))\n",
        "print(calculate_attack(boards[3]))"
      ],
      "metadata": {
        "colab": {
          "base_uri": "https://localhost:8080/"
        },
        "id": "NLaLpqJiVwsE",
        "outputId": "3e0145b9-bba6-4c93-e997-6eee7f01a006"
      },
      "execution_count": null,
      "outputs": [
        {
          "output_type": "stream",
          "name": "stdout",
          "text": [
            "8\n",
            "10\n",
            "8\n",
            "4\n"
          ]
        }
      ]
    },
    {
      "cell_type": "code",
      "source": [
        "import random\n",
        "\n",
        "def calculate_fitness(boards, max_fitness):\n",
        "  fitness = []\n",
        "  for board in boards:\n",
        "    fitness.append(max_fitness - calculate_attack(board) + 1)\n",
        "  return fitness\n",
        "\n",
        "def select_parents(boards, fitness):\n",
        "  while True:\n",
        "    choices = random.choices(population=range(len(boards)), weights=fitness, k=2)\n",
        "    if choices[0] != choices[1]:\n",
        "      break\n",
        "  return choices\n",
        "\n",
        "select_parents(boards, calculate_fitness(boards, max_fitness))"
      ],
      "metadata": {
        "colab": {
          "base_uri": "https://localhost:8080/"
        },
        "id": "KeiyDIFQj8iz",
        "outputId": "41497df8-331e-4f04-d67b-cc1193971184"
      },
      "execution_count": null,
      "outputs": [
        {
          "output_type": "execute_result",
          "data": {
            "text/plain": [
              "[3, 0]"
            ]
          },
          "metadata": {},
          "execution_count": 438
        }
      ]
    },
    {
      "cell_type": "code",
      "source": [
        "def cross_over_parents(boards, parents):\n",
        "  split_location = random.choice(range(len(boards[0])-1)) + 1\n",
        "  nextgen_boards = [boards[parents[0]].copy(), boards[parents[1]].copy()]\n",
        "\n",
        "  temp = nextgen_boards[0][split_location:].copy()\n",
        "  nextgen_boards[0][split_location:] = nextgen_boards[1][split_location:]\n",
        "  nextgen_boards[1][split_location:] = temp\n",
        "\n",
        "  return nextgen_boards\n",
        "\n",
        "cross_over_parents(boards, [0, 1])"
      ],
      "metadata": {
        "colab": {
          "base_uri": "https://localhost:8080/"
        },
        "id": "PJhImTyY0X3n",
        "outputId": "8d9086e8-ee79-4e70-adeb-379a887debd5"
      },
      "execution_count": null,
      "outputs": [
        {
          "output_type": "execute_result",
          "data": {
            "text/plain": [
              "[[[1, 0, 0, 0], [1, 0, 0, 0], [0, 1, 0, 0], [0, 1, 0, 0]],\n",
              " [[0, 1, 0, 0], [0, 0, 1, 0], [0, 1, 0, 0], [0, 0, 1, 0]]]"
            ]
          },
          "metadata": {},
          "execution_count": 439
        }
      ]
    },
    {
      "cell_type": "code",
      "source": [
        "def apply_mutation(boards, probability):\n",
        "  for board in boards:\n",
        "    if random.random() < probability:\n",
        "      row = random.choice(range(len(board)))\n",
        "      for i in range(len(board[0])):\n",
        "        board[row][i] = 0\n",
        "\n",
        "      col = random.choice(range(len(board[0])))\n",
        "      board[row][col] = 1\n",
        "\n",
        "  return boards\n",
        "\n",
        "import copy\n",
        "print(apply_mutation(copy.deepcopy(boards), 1))"
      ],
      "metadata": {
        "colab": {
          "base_uri": "https://localhost:8080/"
        },
        "id": "erHawuhYEG78",
        "outputId": "0fb9908f-8d97-40aa-a7c7-36f7c8671525"
      },
      "execution_count": null,
      "outputs": [
        {
          "output_type": "stream",
          "name": "stdout",
          "text": [
            "[[[1, 0, 0, 0], [1, 0, 0, 0], [0, 1, 0, 0], [0, 0, 0, 1]], [[0, 1, 0, 0], [0, 0, 1, 0], [0, 1, 0, 0], [1, 0, 0, 0]], [[0, 0, 0, 1], [0, 0, 1, 0], [1, 0, 0, 0], [0, 0, 0, 1]], [[0, 0, 0, 1], [0, 1, 0, 0], [0, 0, 0, 1], [1, 0, 0, 0]]]\n"
          ]
        }
      ]
    },
    {
      "cell_type": "code",
      "source": [
        "def run_evolution(boards, fitness):\n",
        "  next_generation = []\n",
        "  while len(next_generation) < len(boards):\n",
        "    parents = select_parents(boards, fitness)\n",
        "    children = cross_over_parents(boards, parents)\n",
        "    next_generation.append(children[0])\n",
        "    next_generation.append(children[1])\n",
        "\n",
        "  apply_mutation(next_generation, 0.1)\n",
        "  return next_generation\n",
        "\n",
        "def main(boards):\n",
        "  for i in range(500):\n",
        "    fitness = calculate_fitness(boards, max_fitness)\n",
        "    if(max(fitness) > max_fitness):\n",
        "      print(\"epoch\", i)\n",
        "      break\n",
        "    boards = run_evolution(boards, fitness)\n",
        "\n",
        "  print(fitness)\n",
        "  print(boards)\n",
        "\n",
        "main(boards)"
      ],
      "metadata": {
        "colab": {
          "base_uri": "https://localhost:8080/"
        },
        "id": "cFiUhDoJIqKw",
        "outputId": "f4a703ab-8837-4338-ef17-629ed5e81a4d"
      },
      "execution_count": null,
      "outputs": [
        {
          "output_type": "stream",
          "name": "stdout",
          "text": [
            "epoch 485\n",
            "[13, 13, 13, 13]\n",
            "[[[0, 1, 0, 0], [0, 0, 0, 1], [1, 0, 0, 0], [0, 0, 1, 0]], [[0, 1, 0, 0], [0, 0, 0, 1], [1, 0, 0, 0], [0, 0, 1, 0]], [[0, 1, 0, 0], [0, 0, 0, 1], [1, 0, 0, 0], [0, 0, 1, 0]], [[0, 1, 0, 0], [0, 0, 0, 1], [1, 0, 0, 0], [0, 0, 1, 0]]]\n"
          ]
        }
      ]
    },
    {
      "cell_type": "code",
      "source": [
        "'''\n",
        "boards2 = [\n",
        "         [[1, 0, 0, 0, 0, 0, 0, 0],\n",
        "          [1, 0, 0, 0, 0, 0, 0, 0],\n",
        "          [0, 1, 0, 0, 0, 0, 0, 0],\n",
        "          [0, 0, 1, 0, 0, 0, 0, 0],\n",
        "          [1, 0, 0, 0, 0, 0, 0, 0],\n",
        "          [0, 0, 0, 0, 0, 0, 1, 0],\n",
        "          [0, 1, 0, 0, 0, 0, 0, 0],\n",
        "          [0, 0, 1, 0, 0, 0, 0, 0]],\n",
        "\n",
        "         [[0, 1, 0, 0, 0, 0, 0, 0],\n",
        "          [0, 0, 1, 0, 0, 0, 0, 0],\n",
        "          [0, 1, 0, 0, 0, 0, 0, 0],\n",
        "          [0, 1, 0, 0, 0, 0, 0, 0],\n",
        "          [0, 1, 0, 0, 0, 0, 0, 0],\n",
        "          [0, 0, 0, 0, 0, 0, 0, 1],\n",
        "          [0, 1, 0, 0, 0, 0, 0, 0],\n",
        "          [0, 1, 0, 0, 0, 0, 0, 0]],\n",
        "\n",
        "         [[0, 0, 0, 1, 0, 0, 0, 0],\n",
        "          [0, 0, 1, 0, 0, 0, 0, 0],\n",
        "          [0, 1, 0, 0, 0, 0, 0, 0],\n",
        "          [0, 0, 0, 1, 0, 0, 0, 0],\n",
        "          [0, 0, 0, 1, 0, 0, 0, 0],\n",
        "          [0, 0, 1, 0, 0, 0, 0, 0],\n",
        "          [0, 1, 0, 0, 0, 0, 0, 0],\n",
        "          [0, 0, 0, 0, 0, 0, 1, 0]],\n",
        "\n",
        "         [[0, 0, 0, 0, 0, 1, 0, 0],\n",
        "          [0, 1, 0, 0, 0, 0, 0, 0],\n",
        "          [0, 0, 0, 1, 0, 0, 0, 0],\n",
        "          [0, 0, 1, 0, 0, 0, 0, 0],\n",
        "          [0, 0, 0, 1, 0, 0, 0, 0],\n",
        "          [0, 1, 0, 0, 0, 0, 0, 0],\n",
        "          [0, 0, 0, 1, 0, 0, 0, 0],\n",
        "          [0, 0, 1, 0, 0, 0, 0, 0]],\n",
        "\n",
        "         [[1, 0, 0, 0, 0, 0, 0, 0],\n",
        "          [1, 0, 0, 0, 0, 0, 0, 0],\n",
        "          [0, 1, 0, 0, 0, 0, 0, 0],\n",
        "          [0, 0, 1, 0, 0, 0, 0, 0],\n",
        "          [1, 0, 0, 0, 0, 0, 0, 0],\n",
        "          [0, 0, 0, 0, 0, 0, 1, 0],\n",
        "          [0, 1, 0, 0, 0, 0, 0, 0],\n",
        "          [0, 0, 1, 0, 0, 0, 0, 0]],\n",
        "\n",
        "         [[0, 1, 0, 0, 0, 0, 0, 0],\n",
        "          [0, 0, 1, 0, 0, 0, 0, 0],\n",
        "          [0, 1, 0, 0, 0, 0, 0, 0],\n",
        "          [0, 1, 0, 0, 0, 0, 0, 0],\n",
        "          [0, 1, 0, 0, 0, 0, 0, 0],\n",
        "          [0, 0, 0, 0, 0, 0, 0, 1],\n",
        "          [0, 1, 0, 0, 0, 0, 0, 0],\n",
        "          [0, 1, 0, 0, 0, 0, 0, 0]],\n",
        "\n",
        "         [[0, 0, 0, 1, 0, 0, 0, 0],\n",
        "          [0, 0, 1, 0, 0, 0, 0, 0],\n",
        "          [0, 1, 0, 0, 0, 0, 0, 0],\n",
        "          [0, 0, 0, 1, 0, 0, 0, 0],\n",
        "          [0, 0, 0, 1, 0, 0, 0, 0],\n",
        "          [0, 0, 1, 0, 0, 0, 0, 0],\n",
        "          [0, 1, 0, 0, 0, 0, 0, 0],\n",
        "          [0, 0, 0, 0, 0, 0, 1, 0]],\n",
        "\n",
        "         [[0, 0, 0, 0, 0, 1, 0, 0],\n",
        "          [0, 1, 0, 0, 0, 0, 0, 0],\n",
        "          [0, 0, 0, 1, 0, 0, 0, 0],\n",
        "          [0, 0, 1, 0, 0, 0, 0, 0],\n",
        "          [0, 0, 0, 1, 0, 0, 0, 0],\n",
        "          [0, 1, 0, 0, 0, 0, 0, 0],\n",
        "          [0, 0, 0, 1, 0, 0, 0, 0],\n",
        "          [0, 0, 1, 0, 0, 0, 0, 0]]\n",
        "         ]\n",
        "\n",
        "max_fitness2 = len(boards2[0][0]) * (len(boards2[0]) - 1)\n",
        "\n",
        "def main2(boards):\n",
        "  for i in range(5000):\n",
        "    fitness = calculate_fitness(boards, max_fitness2)\n",
        "    if(max(fitness) > max_fitness2):\n",
        "      print(\"epoch\", i)\n",
        "      break\n",
        "    boards = run_evolution(boards, fitness)\n",
        "\n",
        "  print(fitness)\n",
        "  print(boards)\n",
        "\n",
        "main2(boards2)\n",
        "'''"
      ],
      "metadata": {
        "id": "UGHLVEXRWeP2"
      },
      "execution_count": null,
      "outputs": []
    }
  ]
}