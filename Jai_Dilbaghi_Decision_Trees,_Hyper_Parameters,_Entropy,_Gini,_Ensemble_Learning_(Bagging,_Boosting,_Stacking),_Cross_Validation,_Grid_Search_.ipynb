{
  "metadata": {
    "kernelspec": {
      "language": "python",
      "display_name": "Python 3",
      "name": "python3"
    },
    "language_info": {
      "name": "python",
      "version": "3.10.13",
      "mimetype": "text/x-python",
      "codemirror_mode": {
        "name": "ipython",
        "version": 3
      },
      "pygments_lexer": "ipython3",
      "nbconvert_exporter": "python",
      "file_extension": ".py"
    },
    "kaggle": {
      "accelerator": "none",
      "dataSources": [
        {
          "sourceId": 3136,
          "databundleVersionId": 26502,
          "sourceType": "competition"
        },
        {
          "sourceId": 974,
          "sourceType": "datasetVersion",
          "datasetId": 478
        },
        {
          "sourceId": 2286,
          "sourceType": "datasetVersion",
          "datasetId": 1275
        },
        {
          "sourceId": 7351086,
          "sourceType": "datasetVersion",
          "datasetId": 4269029
        },
        {
          "sourceId": 1637167,
          "sourceType": "kernelVersion"
        }
      ],
      "dockerImageVersionId": 30732,
      "isInternetEnabled": false,
      "language": "python",
      "sourceType": "notebook",
      "isGpuEnabled": false
    },
    "colab": {
      "provenance": []
    }
  },
  "nbformat_minor": 0,
  "nbformat": 4,
  "cells": [
    {
      "cell_type": "markdown",
      "source": [
        "# Titanic Survival Prediction and Mushroom Classification\n",
        "\n",
        "This project involves two separate analyses: predicting the survival of passengers on the Titanic and classifying types of mushrooms based on various features. The analysis uses decision trees and random forest classifiers for model training and evaluation.\n",
        "\n",
        "## Titanic Dataset Analysis\n",
        "\n",
        "### Dataset Description\n",
        "\n",
        "- **Source:** The dataset contains information about Titanic passengers, including features that might influence their survival.\n",
        "- **Columns:**\n",
        "  - `Survived`: Target variable (0 = No, 1 = Yes)\n",
        "  - `Pclass`: Ticket class\n",
        "  - `Sex`: Gender of the passenger\n",
        "  - `Age`: Age of the passenger\n",
        "  - `SibSp`: Number of siblings/spouses aboard\n",
        "  - `Parch`: Number of parents/children aboard\n",
        "  - `Fare`: Fare paid for the ticket\n",
        "  - `Embarked`: Port of embarkation\n",
        "\n",
        "### Preprocessing Steps\n",
        "\n",
        "1. **Data Cleaning:**\n",
        "   - Removed unnecessary columns: `Name`, `Ticket`, `PassengerId`, `Cabin`.\n",
        "   - Filled missing `Age` values with the mean age and dropped remaining nulls.\n",
        "\n",
        "2. **Label Encoding:**\n",
        "   - Converted categorical variables: `Sex` and `Embarked` into numerical values.\n",
        "\n",
        "3. **Feature Selection:**\n",
        "   - Created feature matrix `x_data` and target vector `y_data`.\n",
        "\n",
        "4. **Train-Test Split:**\n",
        "   - Split the dataset into training (80%) and testing (20%) sets.\n",
        "\n",
        "### Model Training\n",
        "\n",
        "- **Decision Tree Classifier:**\n",
        "  - Trained using entropy as the criterion.\n",
        "  - Evaluated performance using a classification report.\n",
        "\n",
        "- **Random Forest Classifier:**\n",
        "  - Trained with default parameters and evaluated similarly.\n",
        "  - Performed hyperparameter tuning using `GridSearchCV` to optimize model performance.\n",
        "\n",
        "### Model Evaluation\n",
        "\n",
        "- Displayed classification reports for both training and testing datasets.\n",
        "- Visualized decision tree using Graphviz.\n",
        "\n",
        "## Mushroom Dataset Analysis\n",
        "\n",
        "### Dataset Description\n",
        "\n",
        "- **Source:** The dataset contains information about various types of mushrooms, indicating whether they are edible or poisonous.\n",
        "- **Columns:**\n",
        "  - `class`: Target variable (edible = 0, poisonous = 1)\n",
        "  - Various other features that describe the physical characteristics of the mushrooms.\n",
        "\n",
        "### Preprocessing Steps\n",
        "\n",
        "1. **Label Encoding:**\n",
        "   - Encoded all categorical features using `LabelEncoder`.\n",
        "\n",
        "2. **Feature Selection:**\n",
        "   - Created feature matrix `x` and target vector `y`.\n",
        "\n",
        "3. **Train-Test Split:**\n",
        "   - Split the dataset into training (80%) and testing (20%) sets.\n",
        "\n",
        "### Model Training\n",
        "\n",
        "- **Random Forest Classifier:**\n",
        "  - Trained on the mushroom dataset and evaluated using confusion matrix and classification report.\n",
        "\n",
        "### Model Evaluation\n",
        "\n",
        "- Displayed confusion matrix and classification report to assess model performance.\n",
        "\n",
        "## Dependencies\n",
        "\n",
        "- `numpy`\n",
        "- `pandas`\n",
        "- `matplotlib`\n",
        "- `seaborn`\n",
        "- `scikit-learn`\n",
        "- `graphviz`\n",
        "\n",
        "## Usage\n",
        "\n",
        "1. Ensure all required libraries are installed.\n",
        "2. Place the dataset files (`train.csv` for Titanic and `mushrooms.csv`) in the appropriate directory.\n",
        "3. Run the notebook to perform data analysis, model training, and evaluation.\n",
        "\n",
        "## Notes\n",
        "\n",
        "- For the Titanic dataset, further analysis can be conducted by exploring additional features or trying different models.\n",
        "- The mushroom dataset provides a binary classification problem that can also be approached using other algorithms for comparison.\n"
      ],
      "metadata": {
        "id": "iUeY__66azp7"
      }
    },
    {
      "cell_type": "code",
      "source": [
        "# This Python 3 environment comes with many helpful analytics libraries installed\n",
        "# It is defined by the kaggle/python Docker image: https://github.com/kaggle/docker-python\n",
        "# For example, here's several helpful packages to load\n",
        "\n",
        "import numpy as np # linear algebra\n",
        "import pandas as pd # data processing, CSV file I/O (e.g. pd.read_csv)\n",
        "\n",
        "# Input data files are available in the read-only \"../input/\" directory\n",
        "# For example, running this (by clicking run or pressing Shift+Enter) will list all files under the input directory\n",
        "\n",
        "import os\n",
        "for dirname, _, filenames in os.walk('/kaggle/input'):\n",
        "    for filename in filenames:\n",
        "        print(os.path.join(dirname, filename))\n",
        "\n",
        "# You can write up to 20GB to the current directory (/kaggle/working/) that gets preserved as output when you create a version using \"Save & Run All\"\n",
        "# You can also write temporary files to /kaggle/temp/, but they won't be saved outside of the current session"
      ],
      "metadata": {
        "_uuid": "8f2839f25d086af736a60e9eeb907d3b93b6e0e5",
        "_cell_guid": "b1076dfc-b9ad-4769-8c92-a6c4dae69d19",
        "execution": {
          "iopub.status.busy": "2024-06-28T19:07:40.804576Z",
          "iopub.execute_input": "2024-06-28T19:07:40.805503Z",
          "iopub.status.idle": "2024-06-28T19:07:41.166153Z",
          "shell.execute_reply.started": "2024-06-28T19:07:40.805469Z",
          "shell.execute_reply": "2024-06-28T19:07:41.165091Z"
        },
        "trusted": true,
        "id": "2sEZZFsXfHOw"
      },
      "execution_count": null,
      "outputs": []
    },
    {
      "cell_type": "code",
      "source": [
        "# https://www.kaggle.com/competitions/titanic"
      ],
      "metadata": {
        "execution": {
          "iopub.status.busy": "2024-06-28T19:07:41.168320Z",
          "iopub.execute_input": "2024-06-28T19:07:41.169089Z",
          "iopub.status.idle": "2024-06-28T19:07:41.173964Z",
          "shell.execute_reply.started": "2024-06-28T19:07:41.169049Z",
          "shell.execute_reply": "2024-06-28T19:07:41.172803Z"
        },
        "trusted": true,
        "id": "iMsO-aMIfHOz"
      },
      "execution_count": null,
      "outputs": []
    },
    {
      "cell_type": "code",
      "source": [
        "df = pd.read_csv(\"/content/train.csv\")\n",
        "df.info()"
      ],
      "metadata": {
        "execution": {
          "iopub.status.busy": "2024-06-28T19:07:41.175290Z",
          "iopub.execute_input": "2024-06-28T19:07:41.175673Z",
          "iopub.status.idle": "2024-06-28T19:07:41.228322Z",
          "shell.execute_reply.started": "2024-06-28T19:07:41.175639Z",
          "shell.execute_reply": "2024-06-28T19:07:41.227105Z"
        },
        "trusted": true,
        "colab": {
          "base_uri": "https://localhost:8080/"
        },
        "id": "BLJW1jhhfHO1",
        "outputId": "8fc23f6a-b80a-4c1b-c0b3-6338fd325b35"
      },
      "execution_count": null,
      "outputs": [
        {
          "output_type": "stream",
          "name": "stdout",
          "text": [
            "<class 'pandas.core.frame.DataFrame'>\n",
            "RangeIndex: 891 entries, 0 to 890\n",
            "Data columns (total 12 columns):\n",
            " #   Column       Non-Null Count  Dtype  \n",
            "---  ------       --------------  -----  \n",
            " 0   PassengerId  891 non-null    int64  \n",
            " 1   Survived     891 non-null    int64  \n",
            " 2   Pclass       891 non-null    int64  \n",
            " 3   Name         891 non-null    object \n",
            " 4   Sex          891 non-null    object \n",
            " 5   Age          714 non-null    float64\n",
            " 6   SibSp        891 non-null    int64  \n",
            " 7   Parch        891 non-null    int64  \n",
            " 8   Ticket       891 non-null    object \n",
            " 9   Fare         891 non-null    float64\n",
            " 10  Cabin        204 non-null    object \n",
            " 11  Embarked     889 non-null    object \n",
            "dtypes: float64(2), int64(5), object(5)\n",
            "memory usage: 83.7+ KB\n"
          ]
        }
      ]
    },
    {
      "cell_type": "code",
      "source": [
        "# Remove Name Ticket PassengerId\n",
        "processed_df = df.drop([\"Name\", \"Ticket\", \"PassengerId\", \"Cabin\"], axis=1, inplace=False)\n",
        "\n",
        "mean_age = processed_df['Age'].mean()\n",
        "processed_df['Age'].fillna(mean_age, inplace=True)\n",
        "processed_df.dropna(inplace=True)\n",
        "processed_df.info()"
      ],
      "metadata": {
        "execution": {
          "iopub.status.busy": "2024-06-28T19:07:41.231211Z",
          "iopub.execute_input": "2024-06-28T19:07:41.231733Z",
          "iopub.status.idle": "2024-06-28T19:07:41.254597Z",
          "shell.execute_reply.started": "2024-06-28T19:07:41.231695Z",
          "shell.execute_reply": "2024-06-28T19:07:41.253392Z"
        },
        "trusted": true,
        "colab": {
          "base_uri": "https://localhost:8080/"
        },
        "id": "RJx6byQkfHO2",
        "outputId": "ac614c40-9774-441d-e3e3-6e42df5c9825"
      },
      "execution_count": null,
      "outputs": [
        {
          "output_type": "stream",
          "name": "stdout",
          "text": [
            "<class 'pandas.core.frame.DataFrame'>\n",
            "Index: 889 entries, 0 to 890\n",
            "Data columns (total 8 columns):\n",
            " #   Column    Non-Null Count  Dtype  \n",
            "---  ------    --------------  -----  \n",
            " 0   Survived  889 non-null    int64  \n",
            " 1   Pclass    889 non-null    int64  \n",
            " 2   Sex       889 non-null    object \n",
            " 3   Age       889 non-null    float64\n",
            " 4   SibSp     889 non-null    int64  \n",
            " 5   Parch     889 non-null    int64  \n",
            " 6   Fare      889 non-null    float64\n",
            " 7   Embarked  889 non-null    object \n",
            "dtypes: float64(2), int64(4), object(2)\n",
            "memory usage: 62.5+ KB\n"
          ]
        }
      ]
    },
    {
      "cell_type": "code",
      "source": [
        "processed_df['Embarked'].unique()"
      ],
      "metadata": {
        "execution": {
          "iopub.status.busy": "2024-06-28T19:07:41.255993Z",
          "iopub.execute_input": "2024-06-28T19:07:41.256395Z",
          "iopub.status.idle": "2024-06-28T19:07:41.265257Z",
          "shell.execute_reply.started": "2024-06-28T19:07:41.256344Z",
          "shell.execute_reply": "2024-06-28T19:07:41.264247Z"
        },
        "trusted": true,
        "colab": {
          "base_uri": "https://localhost:8080/"
        },
        "id": "4p7SaHUffHO3",
        "outputId": "322d0a52-5e24-4a6e-fe31-d8d9a79f58d0"
      },
      "execution_count": null,
      "outputs": [
        {
          "output_type": "execute_result",
          "data": {
            "text/plain": [
              "array(['S', 'C', 'Q'], dtype=object)"
            ]
          },
          "metadata": {},
          "execution_count": 113
        }
      ]
    },
    {
      "cell_type": "code",
      "source": [
        "label_mapping = {'S':0, 'C':1, 'Q':2, 'female': 0, 'male':1}\n",
        "processed_df.replace(label_mapping, inplace=True)\n",
        "processed_df"
      ],
      "metadata": {
        "execution": {
          "iopub.status.busy": "2024-06-28T19:07:41.266755Z",
          "iopub.execute_input": "2024-06-28T19:07:41.267677Z",
          "iopub.status.idle": "2024-06-28T19:07:41.292840Z",
          "shell.execute_reply.started": "2024-06-28T19:07:41.267643Z",
          "shell.execute_reply": "2024-06-28T19:07:41.291676Z"
        },
        "trusted": true,
        "colab": {
          "base_uri": "https://localhost:8080/",
          "height": 423
        },
        "id": "IGxKGPSNfHO3",
        "outputId": "5a349121-c550-4403-9959-b7bba52e28d6"
      },
      "execution_count": null,
      "outputs": [
        {
          "output_type": "execute_result",
          "data": {
            "text/plain": [
              "     Survived  Pclass  Sex        Age  SibSp  Parch     Fare  Embarked\n",
              "0           0       3    1  22.000000      1      0   7.2500         0\n",
              "1           1       1    0  38.000000      1      0  71.2833         1\n",
              "2           1       3    0  26.000000      0      0   7.9250         0\n",
              "3           1       1    0  35.000000      1      0  53.1000         0\n",
              "4           0       3    1  35.000000      0      0   8.0500         0\n",
              "..        ...     ...  ...        ...    ...    ...      ...       ...\n",
              "886         0       2    1  27.000000      0      0  13.0000         0\n",
              "887         1       1    0  19.000000      0      0  30.0000         0\n",
              "888         0       3    0  29.699118      1      2  23.4500         0\n",
              "889         1       1    1  26.000000      0      0  30.0000         1\n",
              "890         0       3    1  32.000000      0      0   7.7500         2\n",
              "\n",
              "[889 rows x 8 columns]"
            ],
            "text/html": [
              "\n",
              "  <div id=\"df-90f3157a-9774-4039-ae94-decf0e2aa443\" class=\"colab-df-container\">\n",
              "    <div>\n",
              "<style scoped>\n",
              "    .dataframe tbody tr th:only-of-type {\n",
              "        vertical-align: middle;\n",
              "    }\n",
              "\n",
              "    .dataframe tbody tr th {\n",
              "        vertical-align: top;\n",
              "    }\n",
              "\n",
              "    .dataframe thead th {\n",
              "        text-align: right;\n",
              "    }\n",
              "</style>\n",
              "<table border=\"1\" class=\"dataframe\">\n",
              "  <thead>\n",
              "    <tr style=\"text-align: right;\">\n",
              "      <th></th>\n",
              "      <th>Survived</th>\n",
              "      <th>Pclass</th>\n",
              "      <th>Sex</th>\n",
              "      <th>Age</th>\n",
              "      <th>SibSp</th>\n",
              "      <th>Parch</th>\n",
              "      <th>Fare</th>\n",
              "      <th>Embarked</th>\n",
              "    </tr>\n",
              "  </thead>\n",
              "  <tbody>\n",
              "    <tr>\n",
              "      <th>0</th>\n",
              "      <td>0</td>\n",
              "      <td>3</td>\n",
              "      <td>1</td>\n",
              "      <td>22.000000</td>\n",
              "      <td>1</td>\n",
              "      <td>0</td>\n",
              "      <td>7.2500</td>\n",
              "      <td>0</td>\n",
              "    </tr>\n",
              "    <tr>\n",
              "      <th>1</th>\n",
              "      <td>1</td>\n",
              "      <td>1</td>\n",
              "      <td>0</td>\n",
              "      <td>38.000000</td>\n",
              "      <td>1</td>\n",
              "      <td>0</td>\n",
              "      <td>71.2833</td>\n",
              "      <td>1</td>\n",
              "    </tr>\n",
              "    <tr>\n",
              "      <th>2</th>\n",
              "      <td>1</td>\n",
              "      <td>3</td>\n",
              "      <td>0</td>\n",
              "      <td>26.000000</td>\n",
              "      <td>0</td>\n",
              "      <td>0</td>\n",
              "      <td>7.9250</td>\n",
              "      <td>0</td>\n",
              "    </tr>\n",
              "    <tr>\n",
              "      <th>3</th>\n",
              "      <td>1</td>\n",
              "      <td>1</td>\n",
              "      <td>0</td>\n",
              "      <td>35.000000</td>\n",
              "      <td>1</td>\n",
              "      <td>0</td>\n",
              "      <td>53.1000</td>\n",
              "      <td>0</td>\n",
              "    </tr>\n",
              "    <tr>\n",
              "      <th>4</th>\n",
              "      <td>0</td>\n",
              "      <td>3</td>\n",
              "      <td>1</td>\n",
              "      <td>35.000000</td>\n",
              "      <td>0</td>\n",
              "      <td>0</td>\n",
              "      <td>8.0500</td>\n",
              "      <td>0</td>\n",
              "    </tr>\n",
              "    <tr>\n",
              "      <th>...</th>\n",
              "      <td>...</td>\n",
              "      <td>...</td>\n",
              "      <td>...</td>\n",
              "      <td>...</td>\n",
              "      <td>...</td>\n",
              "      <td>...</td>\n",
              "      <td>...</td>\n",
              "      <td>...</td>\n",
              "    </tr>\n",
              "    <tr>\n",
              "      <th>886</th>\n",
              "      <td>0</td>\n",
              "      <td>2</td>\n",
              "      <td>1</td>\n",
              "      <td>27.000000</td>\n",
              "      <td>0</td>\n",
              "      <td>0</td>\n",
              "      <td>13.0000</td>\n",
              "      <td>0</td>\n",
              "    </tr>\n",
              "    <tr>\n",
              "      <th>887</th>\n",
              "      <td>1</td>\n",
              "      <td>1</td>\n",
              "      <td>0</td>\n",
              "      <td>19.000000</td>\n",
              "      <td>0</td>\n",
              "      <td>0</td>\n",
              "      <td>30.0000</td>\n",
              "      <td>0</td>\n",
              "    </tr>\n",
              "    <tr>\n",
              "      <th>888</th>\n",
              "      <td>0</td>\n",
              "      <td>3</td>\n",
              "      <td>0</td>\n",
              "      <td>29.699118</td>\n",
              "      <td>1</td>\n",
              "      <td>2</td>\n",
              "      <td>23.4500</td>\n",
              "      <td>0</td>\n",
              "    </tr>\n",
              "    <tr>\n",
              "      <th>889</th>\n",
              "      <td>1</td>\n",
              "      <td>1</td>\n",
              "      <td>1</td>\n",
              "      <td>26.000000</td>\n",
              "      <td>0</td>\n",
              "      <td>0</td>\n",
              "      <td>30.0000</td>\n",
              "      <td>1</td>\n",
              "    </tr>\n",
              "    <tr>\n",
              "      <th>890</th>\n",
              "      <td>0</td>\n",
              "      <td>3</td>\n",
              "      <td>1</td>\n",
              "      <td>32.000000</td>\n",
              "      <td>0</td>\n",
              "      <td>0</td>\n",
              "      <td>7.7500</td>\n",
              "      <td>2</td>\n",
              "    </tr>\n",
              "  </tbody>\n",
              "</table>\n",
              "<p>889 rows × 8 columns</p>\n",
              "</div>\n",
              "    <div class=\"colab-df-buttons\">\n",
              "\n",
              "  <div class=\"colab-df-container\">\n",
              "    <button class=\"colab-df-convert\" onclick=\"convertToInteractive('df-90f3157a-9774-4039-ae94-decf0e2aa443')\"\n",
              "            title=\"Convert this dataframe to an interactive table.\"\n",
              "            style=\"display:none;\">\n",
              "\n",
              "  <svg xmlns=\"http://www.w3.org/2000/svg\" height=\"24px\" viewBox=\"0 -960 960 960\">\n",
              "    <path d=\"M120-120v-720h720v720H120Zm60-500h600v-160H180v160Zm220 220h160v-160H400v160Zm0 220h160v-160H400v160ZM180-400h160v-160H180v160Zm440 0h160v-160H620v160ZM180-180h160v-160H180v160Zm440 0h160v-160H620v160Z\"/>\n",
              "  </svg>\n",
              "    </button>\n",
              "\n",
              "  <style>\n",
              "    .colab-df-container {\n",
              "      display:flex;\n",
              "      gap: 12px;\n",
              "    }\n",
              "\n",
              "    .colab-df-convert {\n",
              "      background-color: #E8F0FE;\n",
              "      border: none;\n",
              "      border-radius: 50%;\n",
              "      cursor: pointer;\n",
              "      display: none;\n",
              "      fill: #1967D2;\n",
              "      height: 32px;\n",
              "      padding: 0 0 0 0;\n",
              "      width: 32px;\n",
              "    }\n",
              "\n",
              "    .colab-df-convert:hover {\n",
              "      background-color: #E2EBFA;\n",
              "      box-shadow: 0px 1px 2px rgba(60, 64, 67, 0.3), 0px 1px 3px 1px rgba(60, 64, 67, 0.15);\n",
              "      fill: #174EA6;\n",
              "    }\n",
              "\n",
              "    .colab-df-buttons div {\n",
              "      margin-bottom: 4px;\n",
              "    }\n",
              "\n",
              "    [theme=dark] .colab-df-convert {\n",
              "      background-color: #3B4455;\n",
              "      fill: #D2E3FC;\n",
              "    }\n",
              "\n",
              "    [theme=dark] .colab-df-convert:hover {\n",
              "      background-color: #434B5C;\n",
              "      box-shadow: 0px 1px 3px 1px rgba(0, 0, 0, 0.15);\n",
              "      filter: drop-shadow(0px 1px 2px rgba(0, 0, 0, 0.3));\n",
              "      fill: #FFFFFF;\n",
              "    }\n",
              "  </style>\n",
              "\n",
              "    <script>\n",
              "      const buttonEl =\n",
              "        document.querySelector('#df-90f3157a-9774-4039-ae94-decf0e2aa443 button.colab-df-convert');\n",
              "      buttonEl.style.display =\n",
              "        google.colab.kernel.accessAllowed ? 'block' : 'none';\n",
              "\n",
              "      async function convertToInteractive(key) {\n",
              "        const element = document.querySelector('#df-90f3157a-9774-4039-ae94-decf0e2aa443');\n",
              "        const dataTable =\n",
              "          await google.colab.kernel.invokeFunction('convertToInteractive',\n",
              "                                                    [key], {});\n",
              "        if (!dataTable) return;\n",
              "\n",
              "        const docLinkHtml = 'Like what you see? Visit the ' +\n",
              "          '<a target=\"_blank\" href=https://colab.research.google.com/notebooks/data_table.ipynb>data table notebook</a>'\n",
              "          + ' to learn more about interactive tables.';\n",
              "        element.innerHTML = '';\n",
              "        dataTable['output_type'] = 'display_data';\n",
              "        await google.colab.output.renderOutput(dataTable, element);\n",
              "        const docLink = document.createElement('div');\n",
              "        docLink.innerHTML = docLinkHtml;\n",
              "        element.appendChild(docLink);\n",
              "      }\n",
              "    </script>\n",
              "  </div>\n",
              "\n",
              "\n",
              "<div id=\"df-2cf98999-9334-4757-b03d-e2206daa1554\">\n",
              "  <button class=\"colab-df-quickchart\" onclick=\"quickchart('df-2cf98999-9334-4757-b03d-e2206daa1554')\"\n",
              "            title=\"Suggest charts\"\n",
              "            style=\"display:none;\">\n",
              "\n",
              "<svg xmlns=\"http://www.w3.org/2000/svg\" height=\"24px\"viewBox=\"0 0 24 24\"\n",
              "     width=\"24px\">\n",
              "    <g>\n",
              "        <path d=\"M19 3H5c-1.1 0-2 .9-2 2v14c0 1.1.9 2 2 2h14c1.1 0 2-.9 2-2V5c0-1.1-.9-2-2-2zM9 17H7v-7h2v7zm4 0h-2V7h2v10zm4 0h-2v-4h2v4z\"/>\n",
              "    </g>\n",
              "</svg>\n",
              "  </button>\n",
              "\n",
              "<style>\n",
              "  .colab-df-quickchart {\n",
              "      --bg-color: #E8F0FE;\n",
              "      --fill-color: #1967D2;\n",
              "      --hover-bg-color: #E2EBFA;\n",
              "      --hover-fill-color: #174EA6;\n",
              "      --disabled-fill-color: #AAA;\n",
              "      --disabled-bg-color: #DDD;\n",
              "  }\n",
              "\n",
              "  [theme=dark] .colab-df-quickchart {\n",
              "      --bg-color: #3B4455;\n",
              "      --fill-color: #D2E3FC;\n",
              "      --hover-bg-color: #434B5C;\n",
              "      --hover-fill-color: #FFFFFF;\n",
              "      --disabled-bg-color: #3B4455;\n",
              "      --disabled-fill-color: #666;\n",
              "  }\n",
              "\n",
              "  .colab-df-quickchart {\n",
              "    background-color: var(--bg-color);\n",
              "    border: none;\n",
              "    border-radius: 50%;\n",
              "    cursor: pointer;\n",
              "    display: none;\n",
              "    fill: var(--fill-color);\n",
              "    height: 32px;\n",
              "    padding: 0;\n",
              "    width: 32px;\n",
              "  }\n",
              "\n",
              "  .colab-df-quickchart:hover {\n",
              "    background-color: var(--hover-bg-color);\n",
              "    box-shadow: 0 1px 2px rgba(60, 64, 67, 0.3), 0 1px 3px 1px rgba(60, 64, 67, 0.15);\n",
              "    fill: var(--button-hover-fill-color);\n",
              "  }\n",
              "\n",
              "  .colab-df-quickchart-complete:disabled,\n",
              "  .colab-df-quickchart-complete:disabled:hover {\n",
              "    background-color: var(--disabled-bg-color);\n",
              "    fill: var(--disabled-fill-color);\n",
              "    box-shadow: none;\n",
              "  }\n",
              "\n",
              "  .colab-df-spinner {\n",
              "    border: 2px solid var(--fill-color);\n",
              "    border-color: transparent;\n",
              "    border-bottom-color: var(--fill-color);\n",
              "    animation:\n",
              "      spin 1s steps(1) infinite;\n",
              "  }\n",
              "\n",
              "  @keyframes spin {\n",
              "    0% {\n",
              "      border-color: transparent;\n",
              "      border-bottom-color: var(--fill-color);\n",
              "      border-left-color: var(--fill-color);\n",
              "    }\n",
              "    20% {\n",
              "      border-color: transparent;\n",
              "      border-left-color: var(--fill-color);\n",
              "      border-top-color: var(--fill-color);\n",
              "    }\n",
              "    30% {\n",
              "      border-color: transparent;\n",
              "      border-left-color: var(--fill-color);\n",
              "      border-top-color: var(--fill-color);\n",
              "      border-right-color: var(--fill-color);\n",
              "    }\n",
              "    40% {\n",
              "      border-color: transparent;\n",
              "      border-right-color: var(--fill-color);\n",
              "      border-top-color: var(--fill-color);\n",
              "    }\n",
              "    60% {\n",
              "      border-color: transparent;\n",
              "      border-right-color: var(--fill-color);\n",
              "    }\n",
              "    80% {\n",
              "      border-color: transparent;\n",
              "      border-right-color: var(--fill-color);\n",
              "      border-bottom-color: var(--fill-color);\n",
              "    }\n",
              "    90% {\n",
              "      border-color: transparent;\n",
              "      border-bottom-color: var(--fill-color);\n",
              "    }\n",
              "  }\n",
              "</style>\n",
              "\n",
              "  <script>\n",
              "    async function quickchart(key) {\n",
              "      const quickchartButtonEl =\n",
              "        document.querySelector('#' + key + ' button');\n",
              "      quickchartButtonEl.disabled = true;  // To prevent multiple clicks.\n",
              "      quickchartButtonEl.classList.add('colab-df-spinner');\n",
              "      try {\n",
              "        const charts = await google.colab.kernel.invokeFunction(\n",
              "            'suggestCharts', [key], {});\n",
              "      } catch (error) {\n",
              "        console.error('Error during call to suggestCharts:', error);\n",
              "      }\n",
              "      quickchartButtonEl.classList.remove('colab-df-spinner');\n",
              "      quickchartButtonEl.classList.add('colab-df-quickchart-complete');\n",
              "    }\n",
              "    (() => {\n",
              "      let quickchartButtonEl =\n",
              "        document.querySelector('#df-2cf98999-9334-4757-b03d-e2206daa1554 button');\n",
              "      quickchartButtonEl.style.display =\n",
              "        google.colab.kernel.accessAllowed ? 'block' : 'none';\n",
              "    })();\n",
              "  </script>\n",
              "</div>\n",
              "\n",
              "  <div id=\"id_381b70ac-f3d5-441f-9065-3698a1a9905e\">\n",
              "    <style>\n",
              "      .colab-df-generate {\n",
              "        background-color: #E8F0FE;\n",
              "        border: none;\n",
              "        border-radius: 50%;\n",
              "        cursor: pointer;\n",
              "        display: none;\n",
              "        fill: #1967D2;\n",
              "        height: 32px;\n",
              "        padding: 0 0 0 0;\n",
              "        width: 32px;\n",
              "      }\n",
              "\n",
              "      .colab-df-generate:hover {\n",
              "        background-color: #E2EBFA;\n",
              "        box-shadow: 0px 1px 2px rgba(60, 64, 67, 0.3), 0px 1px 3px 1px rgba(60, 64, 67, 0.15);\n",
              "        fill: #174EA6;\n",
              "      }\n",
              "\n",
              "      [theme=dark] .colab-df-generate {\n",
              "        background-color: #3B4455;\n",
              "        fill: #D2E3FC;\n",
              "      }\n",
              "\n",
              "      [theme=dark] .colab-df-generate:hover {\n",
              "        background-color: #434B5C;\n",
              "        box-shadow: 0px 1px 3px 1px rgba(0, 0, 0, 0.15);\n",
              "        filter: drop-shadow(0px 1px 2px rgba(0, 0, 0, 0.3));\n",
              "        fill: #FFFFFF;\n",
              "      }\n",
              "    </style>\n",
              "    <button class=\"colab-df-generate\" onclick=\"generateWithVariable('processed_df')\"\n",
              "            title=\"Generate code using this dataframe.\"\n",
              "            style=\"display:none;\">\n",
              "\n",
              "  <svg xmlns=\"http://www.w3.org/2000/svg\" height=\"24px\"viewBox=\"0 0 24 24\"\n",
              "       width=\"24px\">\n",
              "    <path d=\"M7,19H8.4L18.45,9,17,7.55,7,17.6ZM5,21V16.75L18.45,3.32a2,2,0,0,1,2.83,0l1.4,1.43a1.91,1.91,0,0,1,.58,1.4,1.91,1.91,0,0,1-.58,1.4L9.25,21ZM18.45,9,17,7.55Zm-12,3A5.31,5.31,0,0,0,4.9,8.1,5.31,5.31,0,0,0,1,6.5,5.31,5.31,0,0,0,4.9,4.9,5.31,5.31,0,0,0,6.5,1,5.31,5.31,0,0,0,8.1,4.9,5.31,5.31,0,0,0,12,6.5,5.46,5.46,0,0,0,6.5,12Z\"/>\n",
              "  </svg>\n",
              "    </button>\n",
              "    <script>\n",
              "      (() => {\n",
              "      const buttonEl =\n",
              "        document.querySelector('#id_381b70ac-f3d5-441f-9065-3698a1a9905e button.colab-df-generate');\n",
              "      buttonEl.style.display =\n",
              "        google.colab.kernel.accessAllowed ? 'block' : 'none';\n",
              "\n",
              "      buttonEl.onclick = () => {\n",
              "        google.colab.notebook.generateWithVariable('processed_df');\n",
              "      }\n",
              "      })();\n",
              "    </script>\n",
              "  </div>\n",
              "\n",
              "    </div>\n",
              "  </div>\n"
            ],
            "application/vnd.google.colaboratory.intrinsic+json": {
              "type": "dataframe",
              "variable_name": "processed_df",
              "summary": "{\n  \"name\": \"processed_df\",\n  \"rows\": 889,\n  \"fields\": [\n    {\n      \"column\": \"Survived\",\n      \"properties\": {\n        \"dtype\": \"number\",\n        \"std\": 0,\n        \"min\": 0,\n        \"max\": 1,\n        \"num_unique_values\": 2,\n        \"samples\": [\n          1,\n          0\n        ],\n        \"semantic_type\": \"\",\n        \"description\": \"\"\n      }\n    },\n    {\n      \"column\": \"Pclass\",\n      \"properties\": {\n        \"dtype\": \"number\",\n        \"std\": 0,\n        \"min\": 1,\n        \"max\": 3,\n        \"num_unique_values\": 3,\n        \"samples\": [\n          3,\n          1\n        ],\n        \"semantic_type\": \"\",\n        \"description\": \"\"\n      }\n    },\n    {\n      \"column\": \"Sex\",\n      \"properties\": {\n        \"dtype\": \"number\",\n        \"std\": 0,\n        \"min\": 0,\n        \"max\": 1,\n        \"num_unique_values\": 2,\n        \"samples\": [\n          0,\n          1\n        ],\n        \"semantic_type\": \"\",\n        \"description\": \"\"\n      }\n    },\n    {\n      \"column\": \"Age\",\n      \"properties\": {\n        \"dtype\": \"number\",\n        \"std\": 12.96836630925232,\n        \"min\": 0.42,\n        \"max\": 80.0,\n        \"num_unique_values\": 89,\n        \"samples\": [\n          59.0,\n          36.5\n        ],\n        \"semantic_type\": \"\",\n        \"description\": \"\"\n      }\n    },\n    {\n      \"column\": \"SibSp\",\n      \"properties\": {\n        \"dtype\": \"number\",\n        \"std\": 1,\n        \"min\": 0,\n        \"max\": 8,\n        \"num_unique_values\": 7,\n        \"samples\": [\n          1,\n          0\n        ],\n        \"semantic_type\": \"\",\n        \"description\": \"\"\n      }\n    },\n    {\n      \"column\": \"Parch\",\n      \"properties\": {\n        \"dtype\": \"number\",\n        \"std\": 0,\n        \"min\": 0,\n        \"max\": 6,\n        \"num_unique_values\": 7,\n        \"samples\": [\n          0,\n          1\n        ],\n        \"semantic_type\": \"\",\n        \"description\": \"\"\n      }\n    },\n    {\n      \"column\": \"Fare\",\n      \"properties\": {\n        \"dtype\": \"number\",\n        \"std\": 49.697504316707956,\n        \"min\": 0.0,\n        \"max\": 512.3292,\n        \"num_unique_values\": 247,\n        \"samples\": [\n          11.2417,\n          51.8625\n        ],\n        \"semantic_type\": \"\",\n        \"description\": \"\"\n      }\n    },\n    {\n      \"column\": \"Embarked\",\n      \"properties\": {\n        \"dtype\": \"number\",\n        \"std\": 0,\n        \"min\": 0,\n        \"max\": 2,\n        \"num_unique_values\": 3,\n        \"samples\": [\n          0,\n          1\n        ],\n        \"semantic_type\": \"\",\n        \"description\": \"\"\n      }\n    }\n  ]\n}"
            }
          },
          "metadata": {},
          "execution_count": 114
        }
      ]
    },
    {
      "cell_type": "code",
      "source": [
        "processed_df.corr()"
      ],
      "metadata": {
        "execution": {
          "iopub.status.busy": "2024-06-28T19:07:41.294635Z",
          "iopub.execute_input": "2024-06-28T19:07:41.295010Z",
          "iopub.status.idle": "2024-06-28T19:07:41.312883Z",
          "shell.execute_reply.started": "2024-06-28T19:07:41.294976Z",
          "shell.execute_reply": "2024-06-28T19:07:41.311883Z"
        },
        "trusted": true,
        "colab": {
          "base_uri": "https://localhost:8080/",
          "height": 300
        },
        "id": "WFpRD7LtfHO4",
        "outputId": "28d6f1f2-7c2c-4496-8c93-7d9b4a9d2786"
      },
      "execution_count": null,
      "outputs": [
        {
          "output_type": "execute_result",
          "data": {
            "text/plain": [
              "          Survived    Pclass       Sex       Age     SibSp     Parch  \\\n",
              "Survived  1.000000 -0.335549 -0.541585 -0.074673 -0.034040  0.083151   \n",
              "Pclass   -0.335549  1.000000  0.127741 -0.327954  0.081656  0.016824   \n",
              "Sex      -0.541585  0.127741  1.000000  0.089434 -0.116348 -0.247508   \n",
              "Age      -0.074673 -0.327954  0.089434  1.000000 -0.231875 -0.178232   \n",
              "SibSp    -0.034040  0.081656 -0.116348 -0.231875  1.000000  0.414542   \n",
              "Parch     0.083151  0.016824 -0.247508 -0.178232  0.414542  1.000000   \n",
              "Fare      0.255290 -0.548193 -0.179958  0.088604  0.160887  0.217532   \n",
              "Embarked  0.108669  0.043835 -0.118593  0.009499 -0.060606 -0.079320   \n",
              "\n",
              "              Fare  Embarked  \n",
              "Survived  0.255290  0.108669  \n",
              "Pclass   -0.548193  0.043835  \n",
              "Sex      -0.179958 -0.118593  \n",
              "Age       0.088604  0.009499  \n",
              "SibSp     0.160887 -0.060606  \n",
              "Parch     0.217532 -0.079320  \n",
              "Fare      1.000000  0.063462  \n",
              "Embarked  0.063462  1.000000  "
            ],
            "text/html": [
              "\n",
              "  <div id=\"df-2b786b22-a0d3-45be-bd31-3cd2c55321bf\" class=\"colab-df-container\">\n",
              "    <div>\n",
              "<style scoped>\n",
              "    .dataframe tbody tr th:only-of-type {\n",
              "        vertical-align: middle;\n",
              "    }\n",
              "\n",
              "    .dataframe tbody tr th {\n",
              "        vertical-align: top;\n",
              "    }\n",
              "\n",
              "    .dataframe thead th {\n",
              "        text-align: right;\n",
              "    }\n",
              "</style>\n",
              "<table border=\"1\" class=\"dataframe\">\n",
              "  <thead>\n",
              "    <tr style=\"text-align: right;\">\n",
              "      <th></th>\n",
              "      <th>Survived</th>\n",
              "      <th>Pclass</th>\n",
              "      <th>Sex</th>\n",
              "      <th>Age</th>\n",
              "      <th>SibSp</th>\n",
              "      <th>Parch</th>\n",
              "      <th>Fare</th>\n",
              "      <th>Embarked</th>\n",
              "    </tr>\n",
              "  </thead>\n",
              "  <tbody>\n",
              "    <tr>\n",
              "      <th>Survived</th>\n",
              "      <td>1.000000</td>\n",
              "      <td>-0.335549</td>\n",
              "      <td>-0.541585</td>\n",
              "      <td>-0.074673</td>\n",
              "      <td>-0.034040</td>\n",
              "      <td>0.083151</td>\n",
              "      <td>0.255290</td>\n",
              "      <td>0.108669</td>\n",
              "    </tr>\n",
              "    <tr>\n",
              "      <th>Pclass</th>\n",
              "      <td>-0.335549</td>\n",
              "      <td>1.000000</td>\n",
              "      <td>0.127741</td>\n",
              "      <td>-0.327954</td>\n",
              "      <td>0.081656</td>\n",
              "      <td>0.016824</td>\n",
              "      <td>-0.548193</td>\n",
              "      <td>0.043835</td>\n",
              "    </tr>\n",
              "    <tr>\n",
              "      <th>Sex</th>\n",
              "      <td>-0.541585</td>\n",
              "      <td>0.127741</td>\n",
              "      <td>1.000000</td>\n",
              "      <td>0.089434</td>\n",
              "      <td>-0.116348</td>\n",
              "      <td>-0.247508</td>\n",
              "      <td>-0.179958</td>\n",
              "      <td>-0.118593</td>\n",
              "    </tr>\n",
              "    <tr>\n",
              "      <th>Age</th>\n",
              "      <td>-0.074673</td>\n",
              "      <td>-0.327954</td>\n",
              "      <td>0.089434</td>\n",
              "      <td>1.000000</td>\n",
              "      <td>-0.231875</td>\n",
              "      <td>-0.178232</td>\n",
              "      <td>0.088604</td>\n",
              "      <td>0.009499</td>\n",
              "    </tr>\n",
              "    <tr>\n",
              "      <th>SibSp</th>\n",
              "      <td>-0.034040</td>\n",
              "      <td>0.081656</td>\n",
              "      <td>-0.116348</td>\n",
              "      <td>-0.231875</td>\n",
              "      <td>1.000000</td>\n",
              "      <td>0.414542</td>\n",
              "      <td>0.160887</td>\n",
              "      <td>-0.060606</td>\n",
              "    </tr>\n",
              "    <tr>\n",
              "      <th>Parch</th>\n",
              "      <td>0.083151</td>\n",
              "      <td>0.016824</td>\n",
              "      <td>-0.247508</td>\n",
              "      <td>-0.178232</td>\n",
              "      <td>0.414542</td>\n",
              "      <td>1.000000</td>\n",
              "      <td>0.217532</td>\n",
              "      <td>-0.079320</td>\n",
              "    </tr>\n",
              "    <tr>\n",
              "      <th>Fare</th>\n",
              "      <td>0.255290</td>\n",
              "      <td>-0.548193</td>\n",
              "      <td>-0.179958</td>\n",
              "      <td>0.088604</td>\n",
              "      <td>0.160887</td>\n",
              "      <td>0.217532</td>\n",
              "      <td>1.000000</td>\n",
              "      <td>0.063462</td>\n",
              "    </tr>\n",
              "    <tr>\n",
              "      <th>Embarked</th>\n",
              "      <td>0.108669</td>\n",
              "      <td>0.043835</td>\n",
              "      <td>-0.118593</td>\n",
              "      <td>0.009499</td>\n",
              "      <td>-0.060606</td>\n",
              "      <td>-0.079320</td>\n",
              "      <td>0.063462</td>\n",
              "      <td>1.000000</td>\n",
              "    </tr>\n",
              "  </tbody>\n",
              "</table>\n",
              "</div>\n",
              "    <div class=\"colab-df-buttons\">\n",
              "\n",
              "  <div class=\"colab-df-container\">\n",
              "    <button class=\"colab-df-convert\" onclick=\"convertToInteractive('df-2b786b22-a0d3-45be-bd31-3cd2c55321bf')\"\n",
              "            title=\"Convert this dataframe to an interactive table.\"\n",
              "            style=\"display:none;\">\n",
              "\n",
              "  <svg xmlns=\"http://www.w3.org/2000/svg\" height=\"24px\" viewBox=\"0 -960 960 960\">\n",
              "    <path d=\"M120-120v-720h720v720H120Zm60-500h600v-160H180v160Zm220 220h160v-160H400v160Zm0 220h160v-160H400v160ZM180-400h160v-160H180v160Zm440 0h160v-160H620v160ZM180-180h160v-160H180v160Zm440 0h160v-160H620v160Z\"/>\n",
              "  </svg>\n",
              "    </button>\n",
              "\n",
              "  <style>\n",
              "    .colab-df-container {\n",
              "      display:flex;\n",
              "      gap: 12px;\n",
              "    }\n",
              "\n",
              "    .colab-df-convert {\n",
              "      background-color: #E8F0FE;\n",
              "      border: none;\n",
              "      border-radius: 50%;\n",
              "      cursor: pointer;\n",
              "      display: none;\n",
              "      fill: #1967D2;\n",
              "      height: 32px;\n",
              "      padding: 0 0 0 0;\n",
              "      width: 32px;\n",
              "    }\n",
              "\n",
              "    .colab-df-convert:hover {\n",
              "      background-color: #E2EBFA;\n",
              "      box-shadow: 0px 1px 2px rgba(60, 64, 67, 0.3), 0px 1px 3px 1px rgba(60, 64, 67, 0.15);\n",
              "      fill: #174EA6;\n",
              "    }\n",
              "\n",
              "    .colab-df-buttons div {\n",
              "      margin-bottom: 4px;\n",
              "    }\n",
              "\n",
              "    [theme=dark] .colab-df-convert {\n",
              "      background-color: #3B4455;\n",
              "      fill: #D2E3FC;\n",
              "    }\n",
              "\n",
              "    [theme=dark] .colab-df-convert:hover {\n",
              "      background-color: #434B5C;\n",
              "      box-shadow: 0px 1px 3px 1px rgba(0, 0, 0, 0.15);\n",
              "      filter: drop-shadow(0px 1px 2px rgba(0, 0, 0, 0.3));\n",
              "      fill: #FFFFFF;\n",
              "    }\n",
              "  </style>\n",
              "\n",
              "    <script>\n",
              "      const buttonEl =\n",
              "        document.querySelector('#df-2b786b22-a0d3-45be-bd31-3cd2c55321bf button.colab-df-convert');\n",
              "      buttonEl.style.display =\n",
              "        google.colab.kernel.accessAllowed ? 'block' : 'none';\n",
              "\n",
              "      async function convertToInteractive(key) {\n",
              "        const element = document.querySelector('#df-2b786b22-a0d3-45be-bd31-3cd2c55321bf');\n",
              "        const dataTable =\n",
              "          await google.colab.kernel.invokeFunction('convertToInteractive',\n",
              "                                                    [key], {});\n",
              "        if (!dataTable) return;\n",
              "\n",
              "        const docLinkHtml = 'Like what you see? Visit the ' +\n",
              "          '<a target=\"_blank\" href=https://colab.research.google.com/notebooks/data_table.ipynb>data table notebook</a>'\n",
              "          + ' to learn more about interactive tables.';\n",
              "        element.innerHTML = '';\n",
              "        dataTable['output_type'] = 'display_data';\n",
              "        await google.colab.output.renderOutput(dataTable, element);\n",
              "        const docLink = document.createElement('div');\n",
              "        docLink.innerHTML = docLinkHtml;\n",
              "        element.appendChild(docLink);\n",
              "      }\n",
              "    </script>\n",
              "  </div>\n",
              "\n",
              "\n",
              "<div id=\"df-06b6e78a-fd6e-4154-8902-f81e171fd57d\">\n",
              "  <button class=\"colab-df-quickchart\" onclick=\"quickchart('df-06b6e78a-fd6e-4154-8902-f81e171fd57d')\"\n",
              "            title=\"Suggest charts\"\n",
              "            style=\"display:none;\">\n",
              "\n",
              "<svg xmlns=\"http://www.w3.org/2000/svg\" height=\"24px\"viewBox=\"0 0 24 24\"\n",
              "     width=\"24px\">\n",
              "    <g>\n",
              "        <path d=\"M19 3H5c-1.1 0-2 .9-2 2v14c0 1.1.9 2 2 2h14c1.1 0 2-.9 2-2V5c0-1.1-.9-2-2-2zM9 17H7v-7h2v7zm4 0h-2V7h2v10zm4 0h-2v-4h2v4z\"/>\n",
              "    </g>\n",
              "</svg>\n",
              "  </button>\n",
              "\n",
              "<style>\n",
              "  .colab-df-quickchart {\n",
              "      --bg-color: #E8F0FE;\n",
              "      --fill-color: #1967D2;\n",
              "      --hover-bg-color: #E2EBFA;\n",
              "      --hover-fill-color: #174EA6;\n",
              "      --disabled-fill-color: #AAA;\n",
              "      --disabled-bg-color: #DDD;\n",
              "  }\n",
              "\n",
              "  [theme=dark] .colab-df-quickchart {\n",
              "      --bg-color: #3B4455;\n",
              "      --fill-color: #D2E3FC;\n",
              "      --hover-bg-color: #434B5C;\n",
              "      --hover-fill-color: #FFFFFF;\n",
              "      --disabled-bg-color: #3B4455;\n",
              "      --disabled-fill-color: #666;\n",
              "  }\n",
              "\n",
              "  .colab-df-quickchart {\n",
              "    background-color: var(--bg-color);\n",
              "    border: none;\n",
              "    border-radius: 50%;\n",
              "    cursor: pointer;\n",
              "    display: none;\n",
              "    fill: var(--fill-color);\n",
              "    height: 32px;\n",
              "    padding: 0;\n",
              "    width: 32px;\n",
              "  }\n",
              "\n",
              "  .colab-df-quickchart:hover {\n",
              "    background-color: var(--hover-bg-color);\n",
              "    box-shadow: 0 1px 2px rgba(60, 64, 67, 0.3), 0 1px 3px 1px rgba(60, 64, 67, 0.15);\n",
              "    fill: var(--button-hover-fill-color);\n",
              "  }\n",
              "\n",
              "  .colab-df-quickchart-complete:disabled,\n",
              "  .colab-df-quickchart-complete:disabled:hover {\n",
              "    background-color: var(--disabled-bg-color);\n",
              "    fill: var(--disabled-fill-color);\n",
              "    box-shadow: none;\n",
              "  }\n",
              "\n",
              "  .colab-df-spinner {\n",
              "    border: 2px solid var(--fill-color);\n",
              "    border-color: transparent;\n",
              "    border-bottom-color: var(--fill-color);\n",
              "    animation:\n",
              "      spin 1s steps(1) infinite;\n",
              "  }\n",
              "\n",
              "  @keyframes spin {\n",
              "    0% {\n",
              "      border-color: transparent;\n",
              "      border-bottom-color: var(--fill-color);\n",
              "      border-left-color: var(--fill-color);\n",
              "    }\n",
              "    20% {\n",
              "      border-color: transparent;\n",
              "      border-left-color: var(--fill-color);\n",
              "      border-top-color: var(--fill-color);\n",
              "    }\n",
              "    30% {\n",
              "      border-color: transparent;\n",
              "      border-left-color: var(--fill-color);\n",
              "      border-top-color: var(--fill-color);\n",
              "      border-right-color: var(--fill-color);\n",
              "    }\n",
              "    40% {\n",
              "      border-color: transparent;\n",
              "      border-right-color: var(--fill-color);\n",
              "      border-top-color: var(--fill-color);\n",
              "    }\n",
              "    60% {\n",
              "      border-color: transparent;\n",
              "      border-right-color: var(--fill-color);\n",
              "    }\n",
              "    80% {\n",
              "      border-color: transparent;\n",
              "      border-right-color: var(--fill-color);\n",
              "      border-bottom-color: var(--fill-color);\n",
              "    }\n",
              "    90% {\n",
              "      border-color: transparent;\n",
              "      border-bottom-color: var(--fill-color);\n",
              "    }\n",
              "  }\n",
              "</style>\n",
              "\n",
              "  <script>\n",
              "    async function quickchart(key) {\n",
              "      const quickchartButtonEl =\n",
              "        document.querySelector('#' + key + ' button');\n",
              "      quickchartButtonEl.disabled = true;  // To prevent multiple clicks.\n",
              "      quickchartButtonEl.classList.add('colab-df-spinner');\n",
              "      try {\n",
              "        const charts = await google.colab.kernel.invokeFunction(\n",
              "            'suggestCharts', [key], {});\n",
              "      } catch (error) {\n",
              "        console.error('Error during call to suggestCharts:', error);\n",
              "      }\n",
              "      quickchartButtonEl.classList.remove('colab-df-spinner');\n",
              "      quickchartButtonEl.classList.add('colab-df-quickchart-complete');\n",
              "    }\n",
              "    (() => {\n",
              "      let quickchartButtonEl =\n",
              "        document.querySelector('#df-06b6e78a-fd6e-4154-8902-f81e171fd57d button');\n",
              "      quickchartButtonEl.style.display =\n",
              "        google.colab.kernel.accessAllowed ? 'block' : 'none';\n",
              "    })();\n",
              "  </script>\n",
              "</div>\n",
              "\n",
              "    </div>\n",
              "  </div>\n"
            ],
            "application/vnd.google.colaboratory.intrinsic+json": {
              "type": "dataframe",
              "summary": "{\n  \"name\": \"processed_df\",\n  \"rows\": 8,\n  \"fields\": [\n    {\n      \"column\": \"Survived\",\n      \"properties\": {\n        \"dtype\": \"number\",\n        \"std\": 0.4582486392716046,\n        \"min\": -0.5415849155511682,\n        \"max\": 1.0,\n        \"num_unique_values\": 8,\n        \"samples\": [\n          -0.33554885935682505,\n          0.08315078366620224,\n          1.0\n        ],\n        \"semantic_type\": \"\",\n        \"description\": \"\"\n      }\n    },\n    {\n      \"column\": \"Pclass\",\n      \"properties\": {\n        \"dtype\": \"number\",\n        \"std\": 0.46986726555509434,\n        \"min\": -0.5481932852366449,\n        \"max\": 1.0,\n        \"num_unique_values\": 8,\n        \"samples\": [\n          1.0,\n          0.01682449383776425,\n          -0.33554885935682505\n        ],\n        \"semantic_type\": \"\",\n        \"description\": \"\"\n      }\n    },\n    {\n      \"column\": \"Sex\",\n      \"properties\": {\n        \"dtype\": \"number\",\n        \"std\": 0.4533769598675032,\n        \"min\": -0.5415849155511682,\n        \"max\": 1.0,\n        \"num_unique_values\": 8,\n        \"samples\": [\n          0.127740900188414,\n          -0.2475079815857048,\n          -0.5415849155511682\n        ],\n        \"semantic_type\": \"\",\n        \"description\": \"\"\n      }\n    },\n    {\n      \"column\": \"Age\",\n      \"properties\": {\n        \"dtype\": \"number\",\n        \"std\": 0.41352875750944545,\n        \"min\": -0.32795369920550926,\n        \"max\": 1.0,\n        \"num_unique_values\": 8,\n        \"samples\": [\n          -0.32795369920550926,\n          -0.17823207692076448,\n          -0.07467292378981878\n        ],\n        \"semantic_type\": \"\",\n        \"description\": \"\"\n      }\n    },\n    {\n      \"column\": \"SibSp\",\n      \"properties\": {\n        \"dtype\": \"number\",\n        \"std\": 0.3950121718983412,\n        \"min\": -0.2318753684563497,\n        \"max\": 1.0,\n        \"num_unique_values\": 8,\n        \"samples\": [\n          0.0816556213479137,\n          0.4145416380997264,\n          -0.03403999879674893\n        ],\n        \"semantic_type\": \"\",\n        \"description\": \"\"\n      }\n    },\n    {\n      \"column\": \"Parch\",\n      \"properties\": {\n        \"dtype\": \"number\",\n        \"std\": 0.403111607959721,\n        \"min\": -0.2475079815857048,\n        \"max\": 1.0,\n        \"num_unique_values\": 8,\n        \"samples\": [\n          0.01682449383776425,\n          1.0,\n          0.08315078366620224\n        ],\n        \"semantic_type\": \"\",\n        \"description\": \"\"\n      }\n    },\n    {\n      \"column\": \"Fare\",\n      \"properties\": {\n        \"dtype\": \"number\",\n        \"std\": 0.43806969022722164,\n        \"min\": -0.5481932852366449,\n        \"max\": 1.0,\n        \"num_unique_values\": 8,\n        \"samples\": [\n          -0.5481932852366449,\n          0.21753204448353225,\n          0.2552904613046992\n        ],\n        \"semantic_type\": \"\",\n        \"description\": \"\"\n      }\n    },\n    {\n      \"column\": \"Embarked\",\n      \"properties\": {\n        \"dtype\": \"number\",\n        \"std\": 0.363515349413727,\n        \"min\": -0.11859266289411174,\n        \"max\": 1.0,\n        \"num_unique_values\": 8,\n        \"samples\": [\n          0.04383468077977327,\n          -0.07931975670461353,\n          0.10866867101787425\n        ],\n        \"semantic_type\": \"\",\n        \"description\": \"\"\n      }\n    }\n  ]\n}"
            }
          },
          "metadata": {},
          "execution_count": 115
        }
      ]
    },
    {
      "cell_type": "code",
      "source": [
        "# Split the data -> .2\n",
        "from sklearn.model_selection import train_test_split\n",
        "x_data = processed_df.drop(['Survived'], axis=1)\n",
        "y_data = processed_df['Survived']\n",
        "\n",
        "x_train, x_test, y_train, y_test = train_test_split(x_data, y_data, test_size=.2)\n",
        "x_train.shape, x_test.shape, y_train.shape, y_test.shape"
      ],
      "metadata": {
        "execution": {
          "iopub.status.busy": "2024-06-28T19:07:41.314122Z",
          "iopub.execute_input": "2024-06-28T19:07:41.314440Z",
          "iopub.status.idle": "2024-06-28T19:07:42.018210Z",
          "shell.execute_reply.started": "2024-06-28T19:07:41.314412Z",
          "shell.execute_reply": "2024-06-28T19:07:42.017245Z"
        },
        "trusted": true,
        "colab": {
          "base_uri": "https://localhost:8080/"
        },
        "id": "Sn-ZvfJCfHO4",
        "outputId": "c0d97676-54f1-4709-8530-441172e111a7"
      },
      "execution_count": null,
      "outputs": [
        {
          "output_type": "execute_result",
          "data": {
            "text/plain": [
              "((711, 7), (178, 7), (711,), (178,))"
            ]
          },
          "metadata": {},
          "execution_count": 116
        }
      ]
    },
    {
      "cell_type": "code",
      "source": [
        "#     Train     Test\n",
        "# 1    .98        .75\n",
        "# 2    .88        .87\n",
        "# 3    .84        .72\n",
        "# 4    .98        .76\n",
        "# 5    .98        .88\n",
        "\n",
        "# 2 is the best option (over fitting in number 5)"
      ],
      "metadata": {
        "execution": {
          "iopub.status.busy": "2024-06-28T19:07:42.019403Z",
          "iopub.execute_input": "2024-06-28T19:07:42.019691Z",
          "iopub.status.idle": "2024-06-28T19:07:42.029626Z",
          "shell.execute_reply.started": "2024-06-28T19:07:42.019666Z",
          "shell.execute_reply": "2024-06-28T19:07:42.027411Z"
        },
        "trusted": true,
        "id": "WdXwzSv2fHO4"
      },
      "execution_count": null,
      "outputs": []
    },
    {
      "cell_type": "code",
      "source": [
        "# Use Decision tree to build a classifier for the data\n",
        "# Print Train AND Test classification report\n"
      ],
      "metadata": {
        "execution": {
          "iopub.status.busy": "2024-06-28T19:07:42.030592Z",
          "iopub.status.idle": "2024-06-28T19:07:42.030961Z",
          "shell.execute_reply.started": "2024-06-28T19:07:42.030778Z",
          "shell.execute_reply": "2024-06-28T19:07:42.030794Z"
        },
        "trusted": true,
        "id": "PwmGIN7JfHO4"
      },
      "execution_count": null,
      "outputs": []
    },
    {
      "cell_type": "code",
      "source": [
        "# processed_df\n",
        "\n",
        "# \"Sex\" \"Embarked\" -> Categorical Features\n",
        "\n",
        "# One-hot encoding\n",
        "#     Embarked -> ['S', 'C', 'Q']\n",
        "#     Embarked_S Embarked_C Embarked_Q\n",
        "#        1            0         0\n",
        "#        0            1         0\n",
        "\n",
        "#     Sex -> 'male', 'female'\n",
        "#     Sex_male Sex_female\n",
        "#     1         0\n",
        "#     0         1\n"
      ],
      "metadata": {
        "execution": {
          "iopub.status.busy": "2024-06-28T19:07:42.032730Z",
          "iopub.status.idle": "2024-06-28T19:07:42.033221Z",
          "shell.execute_reply.started": "2024-06-28T19:07:42.032965Z",
          "shell.execute_reply": "2024-06-28T19:07:42.032985Z"
        },
        "trusted": true,
        "id": "C_SnPocKfHO4"
      },
      "execution_count": null,
      "outputs": []
    },
    {
      "cell_type": "code",
      "source": [
        "# embarked_df = pd.get_dummies(processed_df['Embarked'])\n",
        "# processed_df.drop('Embarked', axis=1, inplace=True)"
      ],
      "metadata": {
        "execution": {
          "iopub.status.busy": "2024-06-28T19:07:42.034678Z",
          "iopub.status.idle": "2024-06-28T19:07:42.035167Z",
          "shell.execute_reply.started": "2024-06-28T19:07:42.034910Z",
          "shell.execute_reply": "2024-06-28T19:07:42.034931Z"
        },
        "trusted": true,
        "id": "abQ9pH1WfHO5"
      },
      "execution_count": null,
      "outputs": []
    },
    {
      "cell_type": "code",
      "source": [
        "# processed_df = pd.concat([processed_df, embarked_df] , axis=1)\n",
        "# \"\"\"\n",
        "# Replace \"Sex\" column with one-hot encoded values\n",
        "# 1. One hot encode the column\n",
        "# 2. drop from the column from the original dataframe\n",
        "# 3. concat dataframe and one-hot encoded dataframe\n",
        "# \"\"\"\n",
        "# sex_encoding_df = pd.get_dummies(processed_df[\"Sex\"])\n",
        "# processed_df.drop(\"Sex\", axis=1, inplace=True)\n",
        "# processed_df = pd.concat([processed_df, sex_encoding_df], axis=1)"
      ],
      "metadata": {
        "execution": {
          "iopub.status.busy": "2024-06-28T19:07:42.036813Z",
          "iopub.status.idle": "2024-06-28T19:07:42.037192Z",
          "shell.execute_reply.started": "2024-06-28T19:07:42.037019Z",
          "shell.execute_reply": "2024-06-28T19:07:42.037035Z"
        },
        "trusted": true,
        "id": "3NBe16dnfHO5"
      },
      "execution_count": null,
      "outputs": []
    },
    {
      "cell_type": "code",
      "source": [
        "p_df = df.drop([\"Name\", \"Ticket\", \"PassengerId\", \"Cabin\"], axis=1, inplace=False)\n",
        "\n",
        "# Labeling\n",
        "#     Embarked -> ['S', 'C', 'Q'] -> [0 1 2]\n",
        "label_mapping = {'S':0, 'C':1, 'Q':2, 'female': 0, 'male':1}\n",
        "p_df.replace(label_mapping, inplace=True)\n",
        "p_df['Age'].fillna(p_df.Age.mean(), inplace=True)\n",
        "p_df.info()"
      ],
      "metadata": {
        "execution": {
          "iopub.status.busy": "2024-06-28T19:07:53.244337Z",
          "iopub.execute_input": "2024-06-28T19:07:53.245261Z",
          "iopub.status.idle": "2024-06-28T19:07:53.262430Z",
          "shell.execute_reply.started": "2024-06-28T19:07:53.245227Z",
          "shell.execute_reply": "2024-06-28T19:07:53.261393Z"
        },
        "trusted": true,
        "colab": {
          "base_uri": "https://localhost:8080/"
        },
        "id": "J3adWNNCfHO5",
        "outputId": "b3dfbf52-6721-4e52-d6cd-c2811cac26ba"
      },
      "execution_count": null,
      "outputs": [
        {
          "output_type": "stream",
          "name": "stdout",
          "text": [
            "<class 'pandas.core.frame.DataFrame'>\n",
            "RangeIndex: 891 entries, 0 to 890\n",
            "Data columns (total 8 columns):\n",
            " #   Column    Non-Null Count  Dtype  \n",
            "---  ------    --------------  -----  \n",
            " 0   Survived  891 non-null    int64  \n",
            " 1   Pclass    891 non-null    int64  \n",
            " 2   Sex       891 non-null    int64  \n",
            " 3   Age       891 non-null    float64\n",
            " 4   SibSp     891 non-null    int64  \n",
            " 5   Parch     891 non-null    int64  \n",
            " 6   Fare      891 non-null    float64\n",
            " 7   Embarked  889 non-null    float64\n",
            "dtypes: float64(3), int64(5)\n",
            "memory usage: 55.8 KB\n"
          ]
        }
      ]
    },
    {
      "cell_type": "code",
      "source": [
        "p_df.dropna(inplace=True)"
      ],
      "metadata": {
        "execution": {
          "iopub.status.busy": "2024-06-28T19:07:53.573309Z",
          "iopub.execute_input": "2024-06-28T19:07:53.574258Z",
          "iopub.status.idle": "2024-06-28T19:07:53.580520Z",
          "shell.execute_reply.started": "2024-06-28T19:07:53.574224Z",
          "shell.execute_reply": "2024-06-28T19:07:53.579440Z"
        },
        "trusted": true,
        "id": "vBMkEjH4fHO5"
      },
      "execution_count": null,
      "outputs": []
    },
    {
      "cell_type": "code",
      "source": [
        "from sklearn.metrics import classification_report\n",
        "def EvalModel(model, x_train, y_train, x_test, y_test, train_report=True):\n",
        "    y_pred_train = model.predict(x_train)\n",
        "    y_pred = model.predict(x_test)\n",
        "    if train_report:\n",
        "        print(\"Train: \", classification_report(y_train, y_pred_train))\n",
        "    print(\"Test: \", classification_report(y_test, y_pred))\n",
        "\n",
        "from sklearn.model_selection import train_test_split\n",
        "x_data = p_df.drop([\"Survived\"], axis=1)\n",
        "y_data = p_df[\"Survived\"]\n",
        "\n",
        "x_train, x_test, y_train, y_test = train_test_split(x_data, y_data, test_size=.2, random_state=2)\n",
        "x_train.shape, x_test.shape"
      ],
      "metadata": {
        "execution": {
          "iopub.status.busy": "2024-06-28T19:07:54.629748Z",
          "iopub.execute_input": "2024-06-28T19:07:54.630505Z",
          "iopub.status.idle": "2024-06-28T19:07:54.642631Z",
          "shell.execute_reply.started": "2024-06-28T19:07:54.630474Z",
          "shell.execute_reply": "2024-06-28T19:07:54.641534Z"
        },
        "trusted": true,
        "colab": {
          "base_uri": "https://localhost:8080/"
        },
        "id": "zfIjj47-fHO5",
        "outputId": "bba2b8c8-0d31-4ad9-a73f-fb6ce2136c99"
      },
      "execution_count": null,
      "outputs": [
        {
          "output_type": "execute_result",
          "data": {
            "text/plain": [
              "((711, 7), (178, 7))"
            ]
          },
          "metadata": {},
          "execution_count": 124
        }
      ]
    },
    {
      "cell_type": "code",
      "source": [
        "from sklearn.tree import DecisionTreeClassifier\n",
        "from sklearn.ensemble import RandomForestClassifier\n",
        "\n",
        "dt = DecisionTreeClassifier(criterion='entropy', max_depth=3, min_samples_split=.1)\n",
        "dt.fit(x_train, y_train)\n",
        "EvalModel(dt, x_train, y_train, x_test, y_test, train_report=True)"
      ],
      "metadata": {
        "execution": {
          "iopub.status.busy": "2024-06-28T19:07:55.622206Z",
          "iopub.execute_input": "2024-06-28T19:07:55.623112Z",
          "iopub.status.idle": "2024-06-28T19:07:55.870535Z",
          "shell.execute_reply.started": "2024-06-28T19:07:55.623074Z",
          "shell.execute_reply": "2024-06-28T19:07:55.869518Z"
        },
        "trusted": true,
        "colab": {
          "base_uri": "https://localhost:8080/"
        },
        "id": "t2ghyr5UfHO5",
        "outputId": "4750ca00-3f43-479d-90e6-8e508236d566"
      },
      "execution_count": null,
      "outputs": [
        {
          "output_type": "stream",
          "name": "stdout",
          "text": [
            "Train:                precision    recall  f1-score   support\n",
            "\n",
            "           0       0.83      0.89      0.86       438\n",
            "           1       0.80      0.70      0.75       273\n",
            "\n",
            "    accuracy                           0.82       711\n",
            "   macro avg       0.81      0.80      0.80       711\n",
            "weighted avg       0.82      0.82      0.81       711\n",
            "\n",
            "Test:                precision    recall  f1-score   support\n",
            "\n",
            "           0       0.86      0.86      0.86       111\n",
            "           1       0.77      0.76      0.77        67\n",
            "\n",
            "    accuracy                           0.83       178\n",
            "   macro avg       0.81      0.81      0.81       178\n",
            "weighted avg       0.83      0.83      0.83       178\n",
            "\n"
          ]
        }
      ]
    },
    {
      "cell_type": "code",
      "source": [
        "x_train.columns"
      ],
      "metadata": {
        "execution": {
          "iopub.status.busy": "2024-06-28T19:07:56.403145Z",
          "iopub.execute_input": "2024-06-28T19:07:56.403544Z",
          "iopub.status.idle": "2024-06-28T19:07:56.410392Z",
          "shell.execute_reply.started": "2024-06-28T19:07:56.403512Z",
          "shell.execute_reply": "2024-06-28T19:07:56.409401Z"
        },
        "trusted": true,
        "colab": {
          "base_uri": "https://localhost:8080/"
        },
        "id": "PreKRe2BfHO6",
        "outputId": "fca6a49c-47aa-4abb-bdb8-daf98960444e"
      },
      "execution_count": null,
      "outputs": [
        {
          "output_type": "execute_result",
          "data": {
            "text/plain": [
              "Index(['Pclass', 'Sex', 'Age', 'SibSp', 'Parch', 'Fare', 'Embarked'], dtype='object')"
            ]
          },
          "metadata": {},
          "execution_count": 126
        }
      ]
    },
    {
      "cell_type": "code",
      "source": [
        "import graphviz\n",
        "from sklearn import tree\n",
        "\n",
        "dot_data = tree.export_graphviz(dt, feature_names=x_train.columns, class_names=['Not Survived', 'Survived'])\n",
        "graph = graphviz.Source(dot_data)\n",
        "graph\n",
        "# Replace values in the column \"Sex\" with numeric labels"
      ],
      "metadata": {
        "execution": {
          "iopub.status.busy": "2024-06-28T19:07:57.060708Z",
          "iopub.execute_input": "2024-06-28T19:07:57.061419Z",
          "iopub.status.idle": "2024-06-28T19:07:57.283173Z",
          "shell.execute_reply.started": "2024-06-28T19:07:57.061382Z",
          "shell.execute_reply": "2024-06-28T19:07:57.282196Z"
        },
        "trusted": true,
        "colab": {
          "base_uri": "https://localhost:8080/",
          "height": 598
        },
        "id": "V_RRSbiwfHO6",
        "outputId": "30116184-7d14-4da5-db85-a4c1ec1b684c"
      },
      "execution_count": null,
      "outputs": [
        {
          "output_type": "execute_result",
          "data": {
            "image/svg+xml": "<?xml version=\"1.0\" encoding=\"UTF-8\" standalone=\"no\"?>\n<!DOCTYPE svg PUBLIC \"-//W3C//DTD SVG 1.1//EN\"\n \"http://www.w3.org/Graphics/SVG/1.1/DTD/svg11.dtd\">\n<!-- Generated by graphviz version 2.43.0 (0)\n -->\n<!-- Title: Tree Pages: 1 -->\n<svg width=\"890pt\" height=\"433pt\"\n viewBox=\"0.00 0.00 890.00 433.00\" xmlns=\"http://www.w3.org/2000/svg\" xmlns:xlink=\"http://www.w3.org/1999/xlink\">\n<g id=\"graph0\" class=\"graph\" transform=\"scale(1 1) rotate(0) translate(4 429)\">\n<title>Tree</title>\n<polygon fill=\"white\" stroke=\"transparent\" points=\"-4,4 -4,-429 886,-429 886,4 -4,4\"/>\n<!-- 0 -->\n<g id=\"node1\" class=\"node\">\n<title>0</title>\n<polygon fill=\"none\" stroke=\"black\" points=\"504,-425 364,-425 364,-342 504,-342 504,-425\"/>\n<text text-anchor=\"middle\" x=\"434\" y=\"-409.8\" font-family=\"Helvetica,sans-Serif\" font-size=\"14.00\">Sex &lt;= 0.5</text>\n<text text-anchor=\"middle\" x=\"434\" y=\"-394.8\" font-family=\"Helvetica,sans-Serif\" font-size=\"14.00\">entropy = 0.961</text>\n<text text-anchor=\"middle\" x=\"434\" y=\"-379.8\" font-family=\"Helvetica,sans-Serif\" font-size=\"14.00\">samples = 711</text>\n<text text-anchor=\"middle\" x=\"434\" y=\"-364.8\" font-family=\"Helvetica,sans-Serif\" font-size=\"14.00\">value = [438, 273]</text>\n<text text-anchor=\"middle\" x=\"434\" y=\"-349.8\" font-family=\"Helvetica,sans-Serif\" font-size=\"14.00\">class = Not Survived</text>\n</g>\n<!-- 1 -->\n<g id=\"node2\" class=\"node\">\n<title>1</title>\n<polygon fill=\"none\" stroke=\"black\" points=\"419.5,-306 302.5,-306 302.5,-223 419.5,-223 419.5,-306\"/>\n<text text-anchor=\"middle\" x=\"361\" y=\"-290.8\" font-family=\"Helvetica,sans-Serif\" font-size=\"14.00\">Pclass &lt;= 2.5</text>\n<text text-anchor=\"middle\" x=\"361\" y=\"-275.8\" font-family=\"Helvetica,sans-Serif\" font-size=\"14.00\">entropy = 0.83</text>\n<text text-anchor=\"middle\" x=\"361\" y=\"-260.8\" font-family=\"Helvetica,sans-Serif\" font-size=\"14.00\">samples = 248</text>\n<text text-anchor=\"middle\" x=\"361\" y=\"-245.8\" font-family=\"Helvetica,sans-Serif\" font-size=\"14.00\">value = [65, 183]</text>\n<text text-anchor=\"middle\" x=\"361\" y=\"-230.8\" font-family=\"Helvetica,sans-Serif\" font-size=\"14.00\">class = Survived</text>\n</g>\n<!-- 0&#45;&gt;1 -->\n<g id=\"edge1\" class=\"edge\">\n<title>0&#45;&gt;1</title>\n<path fill=\"none\" stroke=\"black\" d=\"M408.67,-341.91C403.18,-333.1 397.31,-323.7 391.64,-314.61\"/>\n<polygon fill=\"black\" stroke=\"black\" points=\"394.55,-312.65 386.28,-306.02 388.61,-316.36 394.55,-312.65\"/>\n<text text-anchor=\"middle\" x=\"380.64\" y=\"-326.68\" font-family=\"Helvetica,sans-Serif\" font-size=\"14.00\">True</text>\n</g>\n<!-- 8 -->\n<g id=\"node9\" class=\"node\">\n<title>8</title>\n<polygon fill=\"none\" stroke=\"black\" points=\"578,-306 438,-306 438,-223 578,-223 578,-306\"/>\n<text text-anchor=\"middle\" x=\"508\" y=\"-290.8\" font-family=\"Helvetica,sans-Serif\" font-size=\"14.00\">Age &lt;= 6.5</text>\n<text text-anchor=\"middle\" x=\"508\" y=\"-275.8\" font-family=\"Helvetica,sans-Serif\" font-size=\"14.00\">entropy = 0.711</text>\n<text text-anchor=\"middle\" x=\"508\" y=\"-260.8\" font-family=\"Helvetica,sans-Serif\" font-size=\"14.00\">samples = 463</text>\n<text text-anchor=\"middle\" x=\"508\" y=\"-245.8\" font-family=\"Helvetica,sans-Serif\" font-size=\"14.00\">value = [373, 90]</text>\n<text text-anchor=\"middle\" x=\"508\" y=\"-230.8\" font-family=\"Helvetica,sans-Serif\" font-size=\"14.00\">class = Not Survived</text>\n</g>\n<!-- 0&#45;&gt;8 -->\n<g id=\"edge8\" class=\"edge\">\n<title>0&#45;&gt;8</title>\n<path fill=\"none\" stroke=\"black\" d=\"M459.67,-341.91C465.24,-333.1 471.19,-323.7 476.94,-314.61\"/>\n<polygon fill=\"black\" stroke=\"black\" points=\"479.98,-316.34 482.37,-306.02 474.07,-312.6 479.98,-316.34\"/>\n<text text-anchor=\"middle\" x=\"487.86\" y=\"-326.71\" font-family=\"Helvetica,sans-Serif\" font-size=\"14.00\">False</text>\n</g>\n<!-- 2 -->\n<g id=\"node3\" class=\"node\">\n<title>2</title>\n<polygon fill=\"none\" stroke=\"black\" points=\"273,-187 157,-187 157,-104 273,-104 273,-187\"/>\n<text text-anchor=\"middle\" x=\"215\" y=\"-171.8\" font-family=\"Helvetica,sans-Serif\" font-size=\"14.00\">Age &lt;= 2.5</text>\n<text text-anchor=\"middle\" x=\"215\" y=\"-156.8\" font-family=\"Helvetica,sans-Serif\" font-size=\"14.00\">entropy = 0.235</text>\n<text text-anchor=\"middle\" x=\"215\" y=\"-141.8\" font-family=\"Helvetica,sans-Serif\" font-size=\"14.00\">samples = 130</text>\n<text text-anchor=\"middle\" x=\"215\" y=\"-126.8\" font-family=\"Helvetica,sans-Serif\" font-size=\"14.00\">value = [5, 125]</text>\n<text text-anchor=\"middle\" x=\"215\" y=\"-111.8\" font-family=\"Helvetica,sans-Serif\" font-size=\"14.00\">class = Survived</text>\n</g>\n<!-- 1&#45;&gt;2 -->\n<g id=\"edge2\" class=\"edge\">\n<title>1&#45;&gt;2</title>\n<path fill=\"none\" stroke=\"black\" d=\"M310.35,-222.91C298.46,-213.38 285.69,-203.15 273.49,-193.37\"/>\n<polygon fill=\"black\" stroke=\"black\" points=\"275.56,-190.54 265.56,-187.02 271.18,-196.01 275.56,-190.54\"/>\n</g>\n<!-- 5 -->\n<g id=\"node6\" class=\"node\">\n<title>5</title>\n<polygon fill=\"none\" stroke=\"black\" points=\"431,-187 291,-187 291,-104 431,-104 431,-187\"/>\n<text text-anchor=\"middle\" x=\"361\" y=\"-171.8\" font-family=\"Helvetica,sans-Serif\" font-size=\"14.00\">Fare &lt;= 23.35</text>\n<text text-anchor=\"middle\" x=\"361\" y=\"-156.8\" font-family=\"Helvetica,sans-Serif\" font-size=\"14.00\">entropy = 1.0</text>\n<text text-anchor=\"middle\" x=\"361\" y=\"-141.8\" font-family=\"Helvetica,sans-Serif\" font-size=\"14.00\">samples = 118</text>\n<text text-anchor=\"middle\" x=\"361\" y=\"-126.8\" font-family=\"Helvetica,sans-Serif\" font-size=\"14.00\">value = [60, 58]</text>\n<text text-anchor=\"middle\" x=\"361\" y=\"-111.8\" font-family=\"Helvetica,sans-Serif\" font-size=\"14.00\">class = Not Survived</text>\n</g>\n<!-- 1&#45;&gt;5 -->\n<g id=\"edge5\" class=\"edge\">\n<title>1&#45;&gt;5</title>\n<path fill=\"none\" stroke=\"black\" d=\"M361,-222.91C361,-214.65 361,-205.86 361,-197.3\"/>\n<polygon fill=\"black\" stroke=\"black\" points=\"364.5,-197.02 361,-187.02 357.5,-197.02 364.5,-197.02\"/>\n</g>\n<!-- 3 -->\n<g id=\"node4\" class=\"node\">\n<title>3</title>\n<polygon fill=\"none\" stroke=\"black\" points=\"140,-68 0,-68 0,0 140,0 140,-68\"/>\n<text text-anchor=\"middle\" x=\"70\" y=\"-52.8\" font-family=\"Helvetica,sans-Serif\" font-size=\"14.00\">entropy = 1.0</text>\n<text text-anchor=\"middle\" x=\"70\" y=\"-37.8\" font-family=\"Helvetica,sans-Serif\" font-size=\"14.00\">samples = 2</text>\n<text text-anchor=\"middle\" x=\"70\" y=\"-22.8\" font-family=\"Helvetica,sans-Serif\" font-size=\"14.00\">value = [1, 1]</text>\n<text text-anchor=\"middle\" x=\"70\" y=\"-7.8\" font-family=\"Helvetica,sans-Serif\" font-size=\"14.00\">class = Not Survived</text>\n</g>\n<!-- 2&#45;&gt;3 -->\n<g id=\"edge3\" class=\"edge\">\n<title>2&#45;&gt;3</title>\n<path fill=\"none\" stroke=\"black\" d=\"M161.01,-103.73C148.33,-94.15 134.83,-83.96 122.23,-74.44\"/>\n<polygon fill=\"black\" stroke=\"black\" points=\"124.18,-71.53 114.1,-68.3 119.97,-77.12 124.18,-71.53\"/>\n</g>\n<!-- 4 -->\n<g id=\"node5\" class=\"node\">\n<title>4</title>\n<polygon fill=\"none\" stroke=\"black\" points=\"274,-68 158,-68 158,0 274,0 274,-68\"/>\n<text text-anchor=\"middle\" x=\"216\" y=\"-52.8\" font-family=\"Helvetica,sans-Serif\" font-size=\"14.00\">entropy = 0.201</text>\n<text text-anchor=\"middle\" x=\"216\" y=\"-37.8\" font-family=\"Helvetica,sans-Serif\" font-size=\"14.00\">samples = 128</text>\n<text text-anchor=\"middle\" x=\"216\" y=\"-22.8\" font-family=\"Helvetica,sans-Serif\" font-size=\"14.00\">value = [4, 124]</text>\n<text text-anchor=\"middle\" x=\"216\" y=\"-7.8\" font-family=\"Helvetica,sans-Serif\" font-size=\"14.00\">class = Survived</text>\n</g>\n<!-- 2&#45;&gt;4 -->\n<g id=\"edge4\" class=\"edge\">\n<title>2&#45;&gt;4</title>\n<path fill=\"none\" stroke=\"black\" d=\"M215.37,-103.73C215.45,-95.52 215.53,-86.86 215.6,-78.56\"/>\n<polygon fill=\"black\" stroke=\"black\" points=\"219.1,-78.33 215.7,-68.3 212.1,-78.27 219.1,-78.33\"/>\n</g>\n<!-- 6 -->\n<g id=\"node7\" class=\"node\">\n<title>6</title>\n<polygon fill=\"none\" stroke=\"black\" points=\"408,-68 292,-68 292,0 408,0 408,-68\"/>\n<text text-anchor=\"middle\" x=\"350\" y=\"-52.8\" font-family=\"Helvetica,sans-Serif\" font-size=\"14.00\">entropy = 0.979</text>\n<text text-anchor=\"middle\" x=\"350\" y=\"-37.8\" font-family=\"Helvetica,sans-Serif\" font-size=\"14.00\">samples = 94</text>\n<text text-anchor=\"middle\" x=\"350\" y=\"-22.8\" font-family=\"Helvetica,sans-Serif\" font-size=\"14.00\">value = [39, 55]</text>\n<text text-anchor=\"middle\" x=\"350\" y=\"-7.8\" font-family=\"Helvetica,sans-Serif\" font-size=\"14.00\">class = Survived</text>\n</g>\n<!-- 5&#45;&gt;6 -->\n<g id=\"edge6\" class=\"edge\">\n<title>5&#45;&gt;6</title>\n<path fill=\"none\" stroke=\"black\" d=\"M356.9,-103.73C356.07,-95.43 355.19,-86.67 354.35,-78.28\"/>\n<polygon fill=\"black\" stroke=\"black\" points=\"357.83,-77.9 353.35,-68.3 350.86,-78.6 357.83,-77.9\"/>\n</g>\n<!-- 7 -->\n<g id=\"node8\" class=\"node\">\n<title>7</title>\n<polygon fill=\"none\" stroke=\"black\" points=\"566,-68 426,-68 426,0 566,0 566,-68\"/>\n<text text-anchor=\"middle\" x=\"496\" y=\"-52.8\" font-family=\"Helvetica,sans-Serif\" font-size=\"14.00\">entropy = 0.544</text>\n<text text-anchor=\"middle\" x=\"496\" y=\"-37.8\" font-family=\"Helvetica,sans-Serif\" font-size=\"14.00\">samples = 24</text>\n<text text-anchor=\"middle\" x=\"496\" y=\"-22.8\" font-family=\"Helvetica,sans-Serif\" font-size=\"14.00\">value = [21, 3]</text>\n<text text-anchor=\"middle\" x=\"496\" y=\"-7.8\" font-family=\"Helvetica,sans-Serif\" font-size=\"14.00\">class = Not Survived</text>\n</g>\n<!-- 5&#45;&gt;7 -->\n<g id=\"edge7\" class=\"edge\">\n<title>5&#45;&gt;7</title>\n<path fill=\"none\" stroke=\"black\" d=\"M411.27,-103.73C422.96,-94.24 435.4,-84.16 447.04,-74.72\"/>\n<polygon fill=\"black\" stroke=\"black\" points=\"449.38,-77.32 454.95,-68.3 444.97,-71.88 449.38,-77.32\"/>\n</g>\n<!-- 9 -->\n<g id=\"node10\" class=\"node\">\n<title>9</title>\n<polygon fill=\"none\" stroke=\"black\" points=\"566,-179.5 450,-179.5 450,-111.5 566,-111.5 566,-179.5\"/>\n<text text-anchor=\"middle\" x=\"508\" y=\"-164.3\" font-family=\"Helvetica,sans-Serif\" font-size=\"14.00\">entropy = 0.9</text>\n<text text-anchor=\"middle\" x=\"508\" y=\"-149.3\" font-family=\"Helvetica,sans-Serif\" font-size=\"14.00\">samples = 19</text>\n<text text-anchor=\"middle\" x=\"508\" y=\"-134.3\" font-family=\"Helvetica,sans-Serif\" font-size=\"14.00\">value = [6, 13]</text>\n<text text-anchor=\"middle\" x=\"508\" y=\"-119.3\" font-family=\"Helvetica,sans-Serif\" font-size=\"14.00\">class = Survived</text>\n</g>\n<!-- 8&#45;&gt;9 -->\n<g id=\"edge9\" class=\"edge\">\n<title>8&#45;&gt;9</title>\n<path fill=\"none\" stroke=\"black\" d=\"M508,-222.91C508,-212.2 508,-200.62 508,-189.78\"/>\n<polygon fill=\"black\" stroke=\"black\" points=\"511.5,-189.67 508,-179.67 504.5,-189.67 511.5,-189.67\"/>\n</g>\n<!-- 10 -->\n<g id=\"node11\" class=\"node\">\n<title>10</title>\n<polygon fill=\"none\" stroke=\"black\" points=\"724,-187 584,-187 584,-104 724,-104 724,-187\"/>\n<text text-anchor=\"middle\" x=\"654\" y=\"-171.8\" font-family=\"Helvetica,sans-Serif\" font-size=\"14.00\">Pclass &lt;= 1.5</text>\n<text text-anchor=\"middle\" x=\"654\" y=\"-156.8\" font-family=\"Helvetica,sans-Serif\" font-size=\"14.00\">entropy = 0.665</text>\n<text text-anchor=\"middle\" x=\"654\" y=\"-141.8\" font-family=\"Helvetica,sans-Serif\" font-size=\"14.00\">samples = 444</text>\n<text text-anchor=\"middle\" x=\"654\" y=\"-126.8\" font-family=\"Helvetica,sans-Serif\" font-size=\"14.00\">value = [367, 77]</text>\n<text text-anchor=\"middle\" x=\"654\" y=\"-111.8\" font-family=\"Helvetica,sans-Serif\" font-size=\"14.00\">class = Not Survived</text>\n</g>\n<!-- 8&#45;&gt;10 -->\n<g id=\"edge10\" class=\"edge\">\n<title>8&#45;&gt;10</title>\n<path fill=\"none\" stroke=\"black\" d=\"M558.65,-222.91C570.54,-213.38 583.31,-203.15 595.51,-193.37\"/>\n<polygon fill=\"black\" stroke=\"black\" points=\"597.82,-196.01 603.44,-187.02 593.44,-190.54 597.82,-196.01\"/>\n</g>\n<!-- 11 -->\n<g id=\"node12\" class=\"node\">\n<title>11</title>\n<polygon fill=\"none\" stroke=\"black\" points=\"724,-68 584,-68 584,0 724,0 724,-68\"/>\n<text text-anchor=\"middle\" x=\"654\" y=\"-52.8\" font-family=\"Helvetica,sans-Serif\" font-size=\"14.00\">entropy = 0.952</text>\n<text text-anchor=\"middle\" x=\"654\" y=\"-37.8\" font-family=\"Helvetica,sans-Serif\" font-size=\"14.00\">samples = 97</text>\n<text text-anchor=\"middle\" x=\"654\" y=\"-22.8\" font-family=\"Helvetica,sans-Serif\" font-size=\"14.00\">value = [61, 36]</text>\n<text text-anchor=\"middle\" x=\"654\" y=\"-7.8\" font-family=\"Helvetica,sans-Serif\" font-size=\"14.00\">class = Not Survived</text>\n</g>\n<!-- 10&#45;&gt;11 -->\n<g id=\"edge11\" class=\"edge\">\n<title>10&#45;&gt;11</title>\n<path fill=\"none\" stroke=\"black\" d=\"M654,-103.73C654,-95.52 654,-86.86 654,-78.56\"/>\n<polygon fill=\"black\" stroke=\"black\" points=\"657.5,-78.3 654,-68.3 650.5,-78.3 657.5,-78.3\"/>\n</g>\n<!-- 12 -->\n<g id=\"node13\" class=\"node\">\n<title>12</title>\n<polygon fill=\"none\" stroke=\"black\" points=\"882,-68 742,-68 742,0 882,0 882,-68\"/>\n<text text-anchor=\"middle\" x=\"812\" y=\"-52.8\" font-family=\"Helvetica,sans-Serif\" font-size=\"14.00\">entropy = 0.524</text>\n<text text-anchor=\"middle\" x=\"812\" y=\"-37.8\" font-family=\"Helvetica,sans-Serif\" font-size=\"14.00\">samples = 347</text>\n<text text-anchor=\"middle\" x=\"812\" y=\"-22.8\" font-family=\"Helvetica,sans-Serif\" font-size=\"14.00\">value = [306, 41]</text>\n<text text-anchor=\"middle\" x=\"812\" y=\"-7.8\" font-family=\"Helvetica,sans-Serif\" font-size=\"14.00\">class = Not Survived</text>\n</g>\n<!-- 10&#45;&gt;12 -->\n<g id=\"edge12\" class=\"edge\">\n<title>10&#45;&gt;12</title>\n<path fill=\"none\" stroke=\"black\" d=\"M712.83,-103.73C726.86,-94.01 741.79,-83.66 755.69,-74.02\"/>\n<polygon fill=\"black\" stroke=\"black\" points=\"757.98,-76.7 764.2,-68.13 753.99,-70.94 757.98,-76.7\"/>\n</g>\n</g>\n</svg>\n",
            "text/plain": [
              "<graphviz.sources.Source at 0x7a1575f45b10>"
            ]
          },
          "metadata": {},
          "execution_count": 127
        }
      ]
    },
    {
      "cell_type": "code",
      "source": [
        "p_df[\"Age\"] = p_df['Age'].fillna(p_df[\"Age\"].median())\n",
        "p_df.dropna(inplace=True)\n",
        "p_df.info()"
      ],
      "metadata": {
        "execution": {
          "iopub.status.busy": "2024-06-28T19:07:42.049201Z",
          "iopub.status.idle": "2024-06-28T19:07:42.049559Z",
          "shell.execute_reply.started": "2024-06-28T19:07:42.049388Z",
          "shell.execute_reply": "2024-06-28T19:07:42.049405Z"
        },
        "trusted": true,
        "colab": {
          "base_uri": "https://localhost:8080/"
        },
        "id": "b2L2N7uqfHO6",
        "outputId": "01c99628-1671-484b-9de3-c245b86a5de7"
      },
      "execution_count": null,
      "outputs": [
        {
          "output_type": "stream",
          "name": "stdout",
          "text": [
            "<class 'pandas.core.frame.DataFrame'>\n",
            "Index: 889 entries, 0 to 890\n",
            "Data columns (total 8 columns):\n",
            " #   Column    Non-Null Count  Dtype  \n",
            "---  ------    --------------  -----  \n",
            " 0   Survived  889 non-null    int64  \n",
            " 1   Pclass    889 non-null    int64  \n",
            " 2   Sex       889 non-null    int64  \n",
            " 3   Age       889 non-null    float64\n",
            " 4   SibSp     889 non-null    int64  \n",
            " 5   Parch     889 non-null    int64  \n",
            " 6   Fare      889 non-null    float64\n",
            " 7   Embarked  889 non-null    float64\n",
            "dtypes: float64(3), int64(5)\n",
            "memory usage: 62.5 KB\n"
          ]
        }
      ]
    },
    {
      "cell_type": "code",
      "source": [
        "# Import RandomForestClassifier from Sklearn\n",
        "from sklearn.ensemble import RandomForestClassifier\n",
        "\n",
        "# Train it on the titanic dataset\n",
        "rf = RandomForestClassifier(n_estimators=100 ,max_depth=3, criterion='entropy', min_samples_split=.2)\n",
        "rf.fit(x_train, y_train)\n",
        "\n",
        "EvalModel(rf, x_train, y_train, x_test, y_test)\n",
        "\n",
        "# Look at tunable parameters"
      ],
      "metadata": {
        "execution": {
          "iopub.status.busy": "2024-06-28T19:39:01.006692Z",
          "iopub.execute_input": "2024-06-28T19:39:01.007585Z",
          "iopub.status.idle": "2024-06-28T19:39:01.221557Z",
          "shell.execute_reply.started": "2024-06-28T19:39:01.007542Z",
          "shell.execute_reply": "2024-06-28T19:39:01.220481Z"
        },
        "trusted": true,
        "colab": {
          "base_uri": "https://localhost:8080/"
        },
        "id": "ws9YLRLBfHO6",
        "outputId": "aaf8f6b7-5a03-4729-f87a-43c8f5de22bb"
      },
      "execution_count": null,
      "outputs": [
        {
          "output_type": "stream",
          "name": "stdout",
          "text": [
            "Train:                precision    recall  f1-score   support\n",
            "\n",
            "           0       0.80      0.92      0.86       438\n",
            "           1       0.84      0.63      0.72       273\n",
            "\n",
            "    accuracy                           0.81       711\n",
            "   macro avg       0.82      0.78      0.79       711\n",
            "weighted avg       0.81      0.81      0.81       711\n",
            "\n",
            "Test:                precision    recall  f1-score   support\n",
            "\n",
            "           0       0.83      0.90      0.87       111\n",
            "           1       0.81      0.70      0.75        67\n",
            "\n",
            "    accuracy                           0.83       178\n",
            "   macro avg       0.82      0.80      0.81       178\n",
            "weighted avg       0.82      0.83      0.82       178\n",
            "\n"
          ]
        }
      ]
    },
    {
      "cell_type": "code",
      "source": [
        "from sklearn.model_selection import GridSearchCV, cross_validate\n",
        "\n",
        "grid = {'max_depth':[3, 5, 10], 'criterion': ['log_loss', 'entropy', 'gini']}\n",
        "rf1 = RandomForestClassifier()\n",
        "gs = GridSearchCV(rf1, param_grid=grid)\n",
        "gs.fit(x_train, y_train)\n"
      ],
      "metadata": {
        "execution": {
          "iopub.status.busy": "2024-06-28T20:10:34.583141Z",
          "iopub.execute_input": "2024-06-28T20:10:34.583555Z",
          "iopub.status.idle": "2024-06-28T20:10:43.363634Z",
          "shell.execute_reply.started": "2024-06-28T20:10:34.583526Z",
          "shell.execute_reply": "2024-06-28T20:10:43.362637Z"
        },
        "trusted": true,
        "colab": {
          "base_uri": "https://localhost:8080/",
          "height": 117
        },
        "id": "nJlkqnaffHO6",
        "outputId": "e9c6cd8b-364b-439b-ad2d-264cf85f5b1f"
      },
      "execution_count": null,
      "outputs": [
        {
          "output_type": "execute_result",
          "data": {
            "text/plain": [
              "GridSearchCV(estimator=RandomForestClassifier(),\n",
              "             param_grid={'criterion': ['log_loss', 'entropy', 'gini'],\n",
              "                         'max_depth': [3, 5, 10]})"
            ],
            "text/html": [
              "<style>#sk-container-id-3 {color: black;background-color: white;}#sk-container-id-3 pre{padding: 0;}#sk-container-id-3 div.sk-toggleable {background-color: white;}#sk-container-id-3 label.sk-toggleable__label {cursor: pointer;display: block;width: 100%;margin-bottom: 0;padding: 0.3em;box-sizing: border-box;text-align: center;}#sk-container-id-3 label.sk-toggleable__label-arrow:before {content: \"▸\";float: left;margin-right: 0.25em;color: #696969;}#sk-container-id-3 label.sk-toggleable__label-arrow:hover:before {color: black;}#sk-container-id-3 div.sk-estimator:hover label.sk-toggleable__label-arrow:before {color: black;}#sk-container-id-3 div.sk-toggleable__content {max-height: 0;max-width: 0;overflow: hidden;text-align: left;background-color: #f0f8ff;}#sk-container-id-3 div.sk-toggleable__content pre {margin: 0.2em;color: black;border-radius: 0.25em;background-color: #f0f8ff;}#sk-container-id-3 input.sk-toggleable__control:checked~div.sk-toggleable__content {max-height: 200px;max-width: 100%;overflow: auto;}#sk-container-id-3 input.sk-toggleable__control:checked~label.sk-toggleable__label-arrow:before {content: \"▾\";}#sk-container-id-3 div.sk-estimator input.sk-toggleable__control:checked~label.sk-toggleable__label {background-color: #d4ebff;}#sk-container-id-3 div.sk-label input.sk-toggleable__control:checked~label.sk-toggleable__label {background-color: #d4ebff;}#sk-container-id-3 input.sk-hidden--visually {border: 0;clip: rect(1px 1px 1px 1px);clip: rect(1px, 1px, 1px, 1px);height: 1px;margin: -1px;overflow: hidden;padding: 0;position: absolute;width: 1px;}#sk-container-id-3 div.sk-estimator {font-family: monospace;background-color: #f0f8ff;border: 1px dotted black;border-radius: 0.25em;box-sizing: border-box;margin-bottom: 0.5em;}#sk-container-id-3 div.sk-estimator:hover {background-color: #d4ebff;}#sk-container-id-3 div.sk-parallel-item::after {content: \"\";width: 100%;border-bottom: 1px solid gray;flex-grow: 1;}#sk-container-id-3 div.sk-label:hover label.sk-toggleable__label {background-color: #d4ebff;}#sk-container-id-3 div.sk-serial::before {content: \"\";position: absolute;border-left: 1px solid gray;box-sizing: border-box;top: 0;bottom: 0;left: 50%;z-index: 0;}#sk-container-id-3 div.sk-serial {display: flex;flex-direction: column;align-items: center;background-color: white;padding-right: 0.2em;padding-left: 0.2em;position: relative;}#sk-container-id-3 div.sk-item {position: relative;z-index: 1;}#sk-container-id-3 div.sk-parallel {display: flex;align-items: stretch;justify-content: center;background-color: white;position: relative;}#sk-container-id-3 div.sk-item::before, #sk-container-id-3 div.sk-parallel-item::before {content: \"\";position: absolute;border-left: 1px solid gray;box-sizing: border-box;top: 0;bottom: 0;left: 50%;z-index: -1;}#sk-container-id-3 div.sk-parallel-item {display: flex;flex-direction: column;z-index: 1;position: relative;background-color: white;}#sk-container-id-3 div.sk-parallel-item:first-child::after {align-self: flex-end;width: 50%;}#sk-container-id-3 div.sk-parallel-item:last-child::after {align-self: flex-start;width: 50%;}#sk-container-id-3 div.sk-parallel-item:only-child::after {width: 0;}#sk-container-id-3 div.sk-dashed-wrapped {border: 1px dashed gray;margin: 0 0.4em 0.5em 0.4em;box-sizing: border-box;padding-bottom: 0.4em;background-color: white;}#sk-container-id-3 div.sk-label label {font-family: monospace;font-weight: bold;display: inline-block;line-height: 1.2em;}#sk-container-id-3 div.sk-label-container {text-align: center;}#sk-container-id-3 div.sk-container {/* jupyter's `normalize.less` sets `[hidden] { display: none; }` but bootstrap.min.css set `[hidden] { display: none !important; }` so we also need the `!important` here to be able to override the default hidden behavior on the sphinx rendered scikit-learn.org. See: https://github.com/scikit-learn/scikit-learn/issues/21755 */display: inline-block !important;position: relative;}#sk-container-id-3 div.sk-text-repr-fallback {display: none;}</style><div id=\"sk-container-id-3\" class=\"sk-top-container\"><div class=\"sk-text-repr-fallback\"><pre>GridSearchCV(estimator=RandomForestClassifier(),\n",
              "             param_grid={&#x27;criterion&#x27;: [&#x27;log_loss&#x27;, &#x27;entropy&#x27;, &#x27;gini&#x27;],\n",
              "                         &#x27;max_depth&#x27;: [3, 5, 10]})</pre><b>In a Jupyter environment, please rerun this cell to show the HTML representation or trust the notebook. <br />On GitHub, the HTML representation is unable to render, please try loading this page with nbviewer.org.</b></div><div class=\"sk-container\" hidden><div class=\"sk-item sk-dashed-wrapped\"><div class=\"sk-label-container\"><div class=\"sk-label sk-toggleable\"><input class=\"sk-toggleable__control sk-hidden--visually\" id=\"sk-estimator-id-7\" type=\"checkbox\" ><label for=\"sk-estimator-id-7\" class=\"sk-toggleable__label sk-toggleable__label-arrow\">GridSearchCV</label><div class=\"sk-toggleable__content\"><pre>GridSearchCV(estimator=RandomForestClassifier(),\n",
              "             param_grid={&#x27;criterion&#x27;: [&#x27;log_loss&#x27;, &#x27;entropy&#x27;, &#x27;gini&#x27;],\n",
              "                         &#x27;max_depth&#x27;: [3, 5, 10]})</pre></div></div></div><div class=\"sk-parallel\"><div class=\"sk-parallel-item\"><div class=\"sk-item\"><div class=\"sk-label-container\"><div class=\"sk-label sk-toggleable\"><input class=\"sk-toggleable__control sk-hidden--visually\" id=\"sk-estimator-id-8\" type=\"checkbox\" ><label for=\"sk-estimator-id-8\" class=\"sk-toggleable__label sk-toggleable__label-arrow\">estimator: RandomForestClassifier</label><div class=\"sk-toggleable__content\"><pre>RandomForestClassifier()</pre></div></div></div><div class=\"sk-serial\"><div class=\"sk-item\"><div class=\"sk-estimator sk-toggleable\"><input class=\"sk-toggleable__control sk-hidden--visually\" id=\"sk-estimator-id-9\" type=\"checkbox\" ><label for=\"sk-estimator-id-9\" class=\"sk-toggleable__label sk-toggleable__label-arrow\">RandomForestClassifier</label><div class=\"sk-toggleable__content\"><pre>RandomForestClassifier()</pre></div></div></div></div></div></div></div></div></div></div>"
            ]
          },
          "metadata": {},
          "execution_count": 130
        }
      ]
    },
    {
      "cell_type": "code",
      "source": [
        "gs.best_params_"
      ],
      "metadata": {
        "execution": {
          "iopub.status.busy": "2024-06-28T20:03:49.276466Z",
          "iopub.execute_input": "2024-06-28T20:03:49.277421Z",
          "iopub.status.idle": "2024-06-28T20:03:49.283488Z",
          "shell.execute_reply.started": "2024-06-28T20:03:49.277375Z",
          "shell.execute_reply": "2024-06-28T20:03:49.282392Z"
        },
        "trusted": true,
        "colab": {
          "base_uri": "https://localhost:8080/"
        },
        "id": "ow5WaFfvfHO6",
        "outputId": "f88bbe85-bae6-43ad-f646-d1518289ba1c"
      },
      "execution_count": null,
      "outputs": [
        {
          "output_type": "execute_result",
          "data": {
            "text/plain": [
              "{'criterion': 'gini', 'max_depth': 5}"
            ]
          },
          "metadata": {},
          "execution_count": 131
        }
      ]
    },
    {
      "cell_type": "code",
      "source": [
        "EvalModel(gs, x_train, y_train, x_test, y_test)\n"
      ],
      "metadata": {
        "execution": {
          "iopub.status.busy": "2024-06-28T20:02:52.878511Z",
          "iopub.execute_input": "2024-06-28T20:02:52.878891Z",
          "iopub.status.idle": "2024-06-28T20:02:52.919034Z",
          "shell.execute_reply.started": "2024-06-28T20:02:52.878863Z",
          "shell.execute_reply": "2024-06-28T20:02:52.918072Z"
        },
        "trusted": true,
        "colab": {
          "base_uri": "https://localhost:8080/"
        },
        "id": "HrvtglZ2fHO6",
        "outputId": "502dee86-b49f-452a-86d3-6bdc5fd65c04"
      },
      "execution_count": null,
      "outputs": [
        {
          "output_type": "stream",
          "name": "stdout",
          "text": [
            "Train:                precision    recall  f1-score   support\n",
            "\n",
            "           0       0.84      0.95      0.89       438\n",
            "           1       0.90      0.71      0.79       273\n",
            "\n",
            "    accuracy                           0.86       711\n",
            "   macro avg       0.87      0.83      0.84       711\n",
            "weighted avg       0.86      0.86      0.85       711\n",
            "\n",
            "Test:                precision    recall  f1-score   support\n",
            "\n",
            "           0       0.83      0.90      0.87       111\n",
            "           1       0.81      0.70      0.75        67\n",
            "\n",
            "    accuracy                           0.83       178\n",
            "   macro avg       0.82      0.80      0.81       178\n",
            "weighted avg       0.82      0.83      0.82       178\n",
            "\n"
          ]
        }
      ]
    },
    {
      "cell_type": "code",
      "source": [
        "import pandas as pd\n",
        "\n",
        "df = pd.read_csv('/content/mushrooms.csv')\n",
        "\n",
        "df.info()"
      ],
      "metadata": {
        "id": "b8rMz2jznvbb",
        "colab": {
          "base_uri": "https://localhost:8080/"
        },
        "outputId": "5b248ca8-0ccf-411a-bb0d-da89be1e44fc"
      },
      "execution_count": null,
      "outputs": [
        {
          "output_type": "stream",
          "name": "stdout",
          "text": [
            "<class 'pandas.core.frame.DataFrame'>\n",
            "RangeIndex: 8124 entries, 0 to 8123\n",
            "Data columns (total 23 columns):\n",
            " #   Column                    Non-Null Count  Dtype \n",
            "---  ------                    --------------  ----- \n",
            " 0   class                     8124 non-null   object\n",
            " 1   cap-shape                 8124 non-null   object\n",
            " 2   cap-surface               8124 non-null   object\n",
            " 3   cap-color                 8124 non-null   object\n",
            " 4   bruises                   8124 non-null   object\n",
            " 5   odor                      8124 non-null   object\n",
            " 6   gill-attachment           8124 non-null   object\n",
            " 7   gill-spacing              8124 non-null   object\n",
            " 8   gill-size                 8124 non-null   object\n",
            " 9   gill-color                8124 non-null   object\n",
            " 10  stalk-shape               8124 non-null   object\n",
            " 11  stalk-root                8124 non-null   object\n",
            " 12  stalk-surface-above-ring  8124 non-null   object\n",
            " 13  stalk-surface-below-ring  8124 non-null   object\n",
            " 14  stalk-color-above-ring    8124 non-null   object\n",
            " 15  stalk-color-below-ring    8124 non-null   object\n",
            " 16  veil-type                 8124 non-null   object\n",
            " 17  veil-color                8124 non-null   object\n",
            " 18  ring-number               8124 non-null   object\n",
            " 19  ring-type                 8124 non-null   object\n",
            " 20  spore-print-color         8124 non-null   object\n",
            " 21  population                8124 non-null   object\n",
            " 22  habitat                   8124 non-null   object\n",
            "dtypes: object(23)\n",
            "memory usage: 1.4+ MB\n"
          ]
        }
      ]
    },
    {
      "cell_type": "code",
      "source": [
        "\n",
        "from sklearn.preprocessing import LabelEncoder\n",
        "\n",
        "for column in df.columns:\n",
        "  le = LabelEncoder()\n",
        "  df[column] = le.fit_transform(df[column])\n",
        "\n",
        "\n",
        "\n"
      ],
      "metadata": {
        "id": "cwlwiQSMoiZq"
      },
      "execution_count": null,
      "outputs": []
    },
    {
      "cell_type": "code",
      "source": [
        "x = df.drop(['class'], axis=1)\n",
        "y = df['class']"
      ],
      "metadata": {
        "id": "hQKgubZ8oiXh"
      },
      "execution_count": null,
      "outputs": []
    },
    {
      "cell_type": "code",
      "source": [
        "from sklearn.model_selection import train_test_split\n",
        "x_train, x_test, y_train, y_test = train_test_split(x, y, test_size=0.2, random_state=42)"
      ],
      "metadata": {
        "id": "JG3navtroiVI"
      },
      "execution_count": null,
      "outputs": []
    },
    {
      "cell_type": "code",
      "source": [
        "from sklearn.ensemble import RandomForestClassifier\n",
        "\n",
        "rfc = RandomForestClassifier()\n",
        "\n",
        "rfc.fit(x_train, y_train)"
      ],
      "metadata": {
        "colab": {
          "base_uri": "https://localhost:8080/",
          "height": 74
        },
        "id": "6rccgz22oiSa",
        "outputId": "d33fb37b-570c-41fb-a055-fae15c76d1ce"
      },
      "execution_count": null,
      "outputs": [
        {
          "output_type": "execute_result",
          "data": {
            "text/plain": [
              "RandomForestClassifier()"
            ],
            "text/html": [
              "<style>#sk-container-id-4 {color: black;background-color: white;}#sk-container-id-4 pre{padding: 0;}#sk-container-id-4 div.sk-toggleable {background-color: white;}#sk-container-id-4 label.sk-toggleable__label {cursor: pointer;display: block;width: 100%;margin-bottom: 0;padding: 0.3em;box-sizing: border-box;text-align: center;}#sk-container-id-4 label.sk-toggleable__label-arrow:before {content: \"▸\";float: left;margin-right: 0.25em;color: #696969;}#sk-container-id-4 label.sk-toggleable__label-arrow:hover:before {color: black;}#sk-container-id-4 div.sk-estimator:hover label.sk-toggleable__label-arrow:before {color: black;}#sk-container-id-4 div.sk-toggleable__content {max-height: 0;max-width: 0;overflow: hidden;text-align: left;background-color: #f0f8ff;}#sk-container-id-4 div.sk-toggleable__content pre {margin: 0.2em;color: black;border-radius: 0.25em;background-color: #f0f8ff;}#sk-container-id-4 input.sk-toggleable__control:checked~div.sk-toggleable__content {max-height: 200px;max-width: 100%;overflow: auto;}#sk-container-id-4 input.sk-toggleable__control:checked~label.sk-toggleable__label-arrow:before {content: \"▾\";}#sk-container-id-4 div.sk-estimator input.sk-toggleable__control:checked~label.sk-toggleable__label {background-color: #d4ebff;}#sk-container-id-4 div.sk-label input.sk-toggleable__control:checked~label.sk-toggleable__label {background-color: #d4ebff;}#sk-container-id-4 input.sk-hidden--visually {border: 0;clip: rect(1px 1px 1px 1px);clip: rect(1px, 1px, 1px, 1px);height: 1px;margin: -1px;overflow: hidden;padding: 0;position: absolute;width: 1px;}#sk-container-id-4 div.sk-estimator {font-family: monospace;background-color: #f0f8ff;border: 1px dotted black;border-radius: 0.25em;box-sizing: border-box;margin-bottom: 0.5em;}#sk-container-id-4 div.sk-estimator:hover {background-color: #d4ebff;}#sk-container-id-4 div.sk-parallel-item::after {content: \"\";width: 100%;border-bottom: 1px solid gray;flex-grow: 1;}#sk-container-id-4 div.sk-label:hover label.sk-toggleable__label {background-color: #d4ebff;}#sk-container-id-4 div.sk-serial::before {content: \"\";position: absolute;border-left: 1px solid gray;box-sizing: border-box;top: 0;bottom: 0;left: 50%;z-index: 0;}#sk-container-id-4 div.sk-serial {display: flex;flex-direction: column;align-items: center;background-color: white;padding-right: 0.2em;padding-left: 0.2em;position: relative;}#sk-container-id-4 div.sk-item {position: relative;z-index: 1;}#sk-container-id-4 div.sk-parallel {display: flex;align-items: stretch;justify-content: center;background-color: white;position: relative;}#sk-container-id-4 div.sk-item::before, #sk-container-id-4 div.sk-parallel-item::before {content: \"\";position: absolute;border-left: 1px solid gray;box-sizing: border-box;top: 0;bottom: 0;left: 50%;z-index: -1;}#sk-container-id-4 div.sk-parallel-item {display: flex;flex-direction: column;z-index: 1;position: relative;background-color: white;}#sk-container-id-4 div.sk-parallel-item:first-child::after {align-self: flex-end;width: 50%;}#sk-container-id-4 div.sk-parallel-item:last-child::after {align-self: flex-start;width: 50%;}#sk-container-id-4 div.sk-parallel-item:only-child::after {width: 0;}#sk-container-id-4 div.sk-dashed-wrapped {border: 1px dashed gray;margin: 0 0.4em 0.5em 0.4em;box-sizing: border-box;padding-bottom: 0.4em;background-color: white;}#sk-container-id-4 div.sk-label label {font-family: monospace;font-weight: bold;display: inline-block;line-height: 1.2em;}#sk-container-id-4 div.sk-label-container {text-align: center;}#sk-container-id-4 div.sk-container {/* jupyter's `normalize.less` sets `[hidden] { display: none; }` but bootstrap.min.css set `[hidden] { display: none !important; }` so we also need the `!important` here to be able to override the default hidden behavior on the sphinx rendered scikit-learn.org. See: https://github.com/scikit-learn/scikit-learn/issues/21755 */display: inline-block !important;position: relative;}#sk-container-id-4 div.sk-text-repr-fallback {display: none;}</style><div id=\"sk-container-id-4\" class=\"sk-top-container\"><div class=\"sk-text-repr-fallback\"><pre>RandomForestClassifier()</pre><b>In a Jupyter environment, please rerun this cell to show the HTML representation or trust the notebook. <br />On GitHub, the HTML representation is unable to render, please try loading this page with nbviewer.org.</b></div><div class=\"sk-container\" hidden><div class=\"sk-item\"><div class=\"sk-estimator sk-toggleable\"><input class=\"sk-toggleable__control sk-hidden--visually\" id=\"sk-estimator-id-10\" type=\"checkbox\" checked><label for=\"sk-estimator-id-10\" class=\"sk-toggleable__label sk-toggleable__label-arrow\">RandomForestClassifier</label><div class=\"sk-toggleable__content\"><pre>RandomForestClassifier()</pre></div></div></div></div></div>"
            ]
          },
          "metadata": {},
          "execution_count": 137
        }
      ]
    },
    {
      "cell_type": "code",
      "source": [
        "rfc.predict(x_test)"
      ],
      "metadata": {
        "colab": {
          "base_uri": "https://localhost:8080/"
        },
        "id": "hcp0ocjEot1Y",
        "outputId": "9d8e05f1-268a-4842-8be9-f5fd8b4f1f76"
      },
      "execution_count": null,
      "outputs": [
        {
          "output_type": "execute_result",
          "data": {
            "text/plain": [
              "array([0, 1, 1, ..., 1, 1, 1])"
            ]
          },
          "metadata": {},
          "execution_count": 138
        }
      ]
    },
    {
      "cell_type": "code",
      "source": [
        "from sklearn.metrics import classification_report, confusion_matrix\n",
        "print(confusion_matrix(y_test, rfc.predict(x_test)))\n",
        "print(classification_report(y_test, rfc.predict(x_test)))"
      ],
      "metadata": {
        "colab": {
          "base_uri": "https://localhost:8080/"
        },
        "id": "cEXlHQ7jotuK",
        "outputId": "42c0c115-f083-45be-8516-f5b96ab9312f"
      },
      "execution_count": null,
      "outputs": [
        {
          "output_type": "stream",
          "name": "stdout",
          "text": [
            "[[843   0]\n",
            " [  0 782]]\n",
            "              precision    recall  f1-score   support\n",
            "\n",
            "           0       1.00      1.00      1.00       843\n",
            "           1       1.00      1.00      1.00       782\n",
            "\n",
            "    accuracy                           1.00      1625\n",
            "   macro avg       1.00      1.00      1.00      1625\n",
            "weighted avg       1.00      1.00      1.00      1625\n",
            "\n"
          ]
        }
      ]
    }
  ]
}